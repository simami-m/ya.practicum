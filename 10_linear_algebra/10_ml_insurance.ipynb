{
 "cells": [
  {
   "cell_type": "markdown",
   "id": "367b7912",
   "metadata": {
    "toc": true
   },
   "source": [
    "<h1>Содержание<span class=\"tocSkip\"></span></h1>\n",
    "<div class=\"toc\"><ul class=\"toc-item\"><li><span><a href=\"#Загрузка-и-изучение-данных\" data-toc-modified-id=\"Загрузка-и-изучение-данных-1\"><span class=\"toc-item-num\">1&nbsp;&nbsp;</span>Загрузка и изучение данных</a></span></li><li><span><a href=\"#Умножение-матриц\" data-toc-modified-id=\"Умножение-матриц-2\"><span class=\"toc-item-num\">2&nbsp;&nbsp;</span>Умножение матриц</a></span></li><li><span><a href=\"#Алгоритм-преобразования\" data-toc-modified-id=\"Алгоритм-преобразования-3\"><span class=\"toc-item-num\">3&nbsp;&nbsp;</span>Алгоритм преобразования</a></span></li><li><span><a href=\"#Проверка-алгоритма\" data-toc-modified-id=\"Проверка-алгоритма-4\"><span class=\"toc-item-num\">4&nbsp;&nbsp;</span>Проверка алгоритма</a></span></li></ul></div>"
   ]
  },
  {
   "cell_type": "markdown",
   "id": "31ac0f01",
   "metadata": {},
   "source": [
    "# Защита персональных данных клиентов\n",
    "**Описание проекта**<br>\n",
    "Нам нужно защитить данные клиентов страховой компании «Хоть потоп».<br>\n",
    "Разработаем такой метод преобразования данных, чтобы по ним было сложно восстановить персональную информацию. <br>\n",
    "Обоснуем корректность его работы.<br>\n",
    "\n",
    "**Цель проекта:**<br>\n",
    "Нужно защитить данные, чтобы при преобразовании качество моделей машинного обучения не ухудшилось.\n",
    "\n",
    "**Шаги выполнения проекта:**\n",
    "1. Загрузим и изучим данные.\n",
    "2. Ответим на вопрос и обоснуем решение.\n",
    "   Признаки умножают на обратимую матрицу. \n",
    "   Изменится ли качество линейной регрессии? \n",
    "   - Изменится. Приведите примеры матриц.\n",
    "   - Не изменится. Укажите, как связаны параметры линейной регрессии в исходной задаче и в преобразованной.\n",
    "3. Предложим алгоритм преобразования данных для решения задачи. Обоснуем, почему качество линейной регрессии не поменяется.\n",
    "4. Запрограммируем алгоритм, применив матричные операции. Проверим, что качество линейной регрессии из sklearn не отличается до и после преобразования. Применим метрику R2.\n",
    "\n",
    "**Описание данных:**\n",
    "- `Признаки`: пол, возраст и зарплата застрахованного, количество членов его семьи.\n",
    "- `Целевой признак`: количество страховых выплат клиенту за последние 5 лет.\n",
    "\n",
    "\n",
    "**Как будут проверять мой проект?** <br>\n",
    "Мы подготовили критерии оценки проекта, которыми руководствуются ревьюеры. <br>\n",
    "Прежде чем приступить к решению кейса, внимательно их изучите.<br>\n",
    "На что обращают внимание ревьюеры, проверяя проект:\n",
    "- Все ли шаги по инструкции выполняете?\n",
    "- Обосновываете вывод об умножении матриц?\n",
    "- Описываете и объясняете алгоритм преобразования?\n",
    "- Проверяете собственный алгоритм преобразования на данных?\n",
    "- Следите ли за структурой проекта?\n",
    "- Поддерживаете аккуратность кода?\n"
   ]
  },
  {
   "cell_type": "code",
   "execution_count": 1,
   "id": "7e28e3ed",
   "metadata": {},
   "outputs": [],
   "source": [
    "import numpy as np\n",
    "import pandas as pd\n",
    "import seaborn as sns\n",
    "\n",
    "from sklearn.linear_model import LinearRegression\n",
    "from sklearn.metrics import r2_score, mean_squared_error\n",
    "from numpy import linalg as la\n",
    "\n",
    "import matplotlib\n",
    "import matplotlib.pyplot as plt\n",
    "matplotlib.style.use('ggplot')\n",
    "\n",
    "from sklearn.model_selection import train_test_split "
   ]
  },
  {
   "cell_type": "code",
   "execution_count": 2,
   "id": "503df7ba",
   "metadata": {},
   "outputs": [],
   "source": [
    "def get_info_on_dataset(_df):\n",
    "\n",
    "    CONST_IN_PERCENTAGES = float(100.0)\n",
    "    \n",
    "    try:\n",
    "        _df.info()\n",
    "        df_review_info = pd.DataFrame({'Not_Valid_Values_in %': (_df.isna().sum()/len(_df))*CONST_IN_PERCENTAGES} )\n",
    "        print(\"\")\n",
    "        display(df_review_info.sort_values(by='Not_Valid_Values_in %', ascending=False))\n",
    "        print(\"\")\n",
    "        print(\"Number of duplicated rows in the dataset: {}\".format(_df.duplicated().sum()))\n",
    "            \n",
    "    except:\n",
    "        print(\"Can't provide review on given dataset\")\n",
    "    \n",
    "    pass\n",
    "\n",
    "\n",
    "def plot_features_hists(_df,\n",
    "                        _x,\n",
    "                        _bins = 50, \n",
    "                        _figure_width = 20, \n",
    "                        _figure_height = 12, \n",
    "                        _color = 'turquoise',\n",
    "                        _edgecolor='grey',\n",
    "                        _fontsize=15):\n",
    "    try:\n",
    "        plt.figure(figsize=(_figure_width, _figure_height))\n",
    "        sns.histplot(data=_df, color=_color, bins = _bins, edgecolor=_edgecolor, kde=True)\n",
    "        plt.ylabel('Количество клиентов', fontsize=_fontsize)\n",
    "        plt.xlabel(_x,fontsize=_fontsize)\n",
    "        plt.yticks(fontsize=_fontsize)\n",
    "        plt.xticks(fontsize=_fontsize);\n",
    "\n",
    "    except:\n",
    "        print(\"Can't provide boxplot plotting\")\n",
    "        \n",
    "    pass\n",
    "\n",
    "\n",
    "def plot_features_boxplot(_df,\n",
    "                          _figure_width = 12, \n",
    "                          _figure_height = 8,\n",
    "                          _color = 'paleturquoise',\n",
    "                          _fontsize=15):\n",
    "    try:\n",
    "        fig, ax = plt.subplots(figsize=(_figure_width, _figure_height))\n",
    "        _pl = sns.boxplot(data=_df, \n",
    "                          orient=\"h\", \n",
    "                          color=_color)\n",
    "        _pl.set_yticklabels(ax.get_yticklabels(), size = _fontsize, fontweight = 'bold');\n",
    "        \n",
    "    except:\n",
    "        print(\"Can't provide boxplot plotting\")  \n",
    "        \n",
    "    pass"
   ]
  },
  {
   "cell_type": "markdown",
   "id": "0905d796",
   "metadata": {},
   "source": [
    "## Загрузка и изучение данных"
   ]
  },
  {
   "cell_type": "code",
   "execution_count": 3,
   "id": "c803694f",
   "metadata": {},
   "outputs": [],
   "source": [
    "try:\n",
    "    df_insurance = pd.read_csv('https://code.s3.yandex.net/datasets/insurance.csv')\n",
    "except:\n",
    "    df_insurance = pd.read_csv('insurance.csv')"
   ]
  },
  {
   "cell_type": "code",
   "execution_count": 4,
   "id": "10ef3c02",
   "metadata": {},
   "outputs": [
    {
     "name": "stdout",
     "output_type": "stream",
     "text": [
      "<class 'pandas.core.frame.DataFrame'>\n",
      "RangeIndex: 5000 entries, 0 to 4999\n",
      "Data columns (total 5 columns):\n",
      " #   Column             Non-Null Count  Dtype  \n",
      "---  ------             --------------  -----  \n",
      " 0   Пол                5000 non-null   int64  \n",
      " 1   Возраст            5000 non-null   float64\n",
      " 2   Зарплата           5000 non-null   float64\n",
      " 3   Члены семьи        5000 non-null   int64  \n",
      " 4   Страховые выплаты  5000 non-null   int64  \n",
      "dtypes: float64(2), int64(3)\n",
      "memory usage: 195.4 KB\n",
      "\n"
     ]
    },
    {
     "data": {
      "text/html": [
       "<div>\n",
       "<style scoped>\n",
       "    .dataframe tbody tr th:only-of-type {\n",
       "        vertical-align: middle;\n",
       "    }\n",
       "\n",
       "    .dataframe tbody tr th {\n",
       "        vertical-align: top;\n",
       "    }\n",
       "\n",
       "    .dataframe thead th {\n",
       "        text-align: right;\n",
       "    }\n",
       "</style>\n",
       "<table border=\"1\" class=\"dataframe\">\n",
       "  <thead>\n",
       "    <tr style=\"text-align: right;\">\n",
       "      <th></th>\n",
       "      <th>Not_Valid_Values_in %</th>\n",
       "    </tr>\n",
       "  </thead>\n",
       "  <tbody>\n",
       "    <tr>\n",
       "      <th>Пол</th>\n",
       "      <td>0.0</td>\n",
       "    </tr>\n",
       "    <tr>\n",
       "      <th>Возраст</th>\n",
       "      <td>0.0</td>\n",
       "    </tr>\n",
       "    <tr>\n",
       "      <th>Зарплата</th>\n",
       "      <td>0.0</td>\n",
       "    </tr>\n",
       "    <tr>\n",
       "      <th>Члены семьи</th>\n",
       "      <td>0.0</td>\n",
       "    </tr>\n",
       "    <tr>\n",
       "      <th>Страховые выплаты</th>\n",
       "      <td>0.0</td>\n",
       "    </tr>\n",
       "  </tbody>\n",
       "</table>\n",
       "</div>"
      ],
      "text/plain": [
       "                   Not_Valid_Values_in %\n",
       "Пол                                  0.0\n",
       "Возраст                              0.0\n",
       "Зарплата                             0.0\n",
       "Члены семьи                          0.0\n",
       "Страховые выплаты                    0.0"
      ]
     },
     "metadata": {},
     "output_type": "display_data"
    },
    {
     "name": "stdout",
     "output_type": "stream",
     "text": [
      "\n",
      "Number of duplicated rows in the dataset: 153\n"
     ]
    }
   ],
   "source": [
    "get_info_on_dataset(df_insurance)"
   ]
  },
  {
   "cell_type": "code",
   "execution_count": 5,
   "id": "7501bde4",
   "metadata": {},
   "outputs": [
    {
     "data": {
      "text/html": [
       "<div>\n",
       "<style scoped>\n",
       "    .dataframe tbody tr th:only-of-type {\n",
       "        vertical-align: middle;\n",
       "    }\n",
       "\n",
       "    .dataframe tbody tr th {\n",
       "        vertical-align: top;\n",
       "    }\n",
       "\n",
       "    .dataframe thead th {\n",
       "        text-align: right;\n",
       "    }\n",
       "</style>\n",
       "<table border=\"1\" class=\"dataframe\">\n",
       "  <thead>\n",
       "    <tr style=\"text-align: right;\">\n",
       "      <th></th>\n",
       "      <th>Пол</th>\n",
       "      <th>Возраст</th>\n",
       "      <th>Зарплата</th>\n",
       "      <th>Члены семьи</th>\n",
       "      <th>Страховые выплаты</th>\n",
       "    </tr>\n",
       "  </thead>\n",
       "  <tbody>\n",
       "    <tr>\n",
       "      <th>0</th>\n",
       "      <td>1</td>\n",
       "      <td>41.0</td>\n",
       "      <td>49600.0</td>\n",
       "      <td>1</td>\n",
       "      <td>0</td>\n",
       "    </tr>\n",
       "    <tr>\n",
       "      <th>1</th>\n",
       "      <td>0</td>\n",
       "      <td>46.0</td>\n",
       "      <td>38000.0</td>\n",
       "      <td>1</td>\n",
       "      <td>1</td>\n",
       "    </tr>\n",
       "    <tr>\n",
       "      <th>2</th>\n",
       "      <td>0</td>\n",
       "      <td>29.0</td>\n",
       "      <td>21000.0</td>\n",
       "      <td>0</td>\n",
       "      <td>0</td>\n",
       "    </tr>\n",
       "    <tr>\n",
       "      <th>3</th>\n",
       "      <td>0</td>\n",
       "      <td>21.0</td>\n",
       "      <td>41700.0</td>\n",
       "      <td>2</td>\n",
       "      <td>0</td>\n",
       "    </tr>\n",
       "    <tr>\n",
       "      <th>4</th>\n",
       "      <td>1</td>\n",
       "      <td>28.0</td>\n",
       "      <td>26100.0</td>\n",
       "      <td>0</td>\n",
       "      <td>0</td>\n",
       "    </tr>\n",
       "  </tbody>\n",
       "</table>\n",
       "</div>"
      ],
      "text/plain": [
       "   Пол  Возраст  Зарплата  Члены семьи  Страховые выплаты\n",
       "0    1     41.0   49600.0            1                  0\n",
       "1    0     46.0   38000.0            1                  1\n",
       "2    0     29.0   21000.0            0                  0\n",
       "3    0     21.0   41700.0            2                  0\n",
       "4    1     28.0   26100.0            0                  0"
      ]
     },
     "execution_count": 5,
     "metadata": {},
     "output_type": "execute_result"
    }
   ],
   "source": [
    "df_insurance.head()"
   ]
  },
  {
   "cell_type": "code",
   "execution_count": 6,
   "id": "ffc84329",
   "metadata": {},
   "outputs": [
    {
     "data": {
      "text/html": [
       "<div>\n",
       "<style scoped>\n",
       "    .dataframe tbody tr th:only-of-type {\n",
       "        vertical-align: middle;\n",
       "    }\n",
       "\n",
       "    .dataframe tbody tr th {\n",
       "        vertical-align: top;\n",
       "    }\n",
       "\n",
       "    .dataframe thead th {\n",
       "        text-align: right;\n",
       "    }\n",
       "</style>\n",
       "<table border=\"1\" class=\"dataframe\">\n",
       "  <thead>\n",
       "    <tr style=\"text-align: right;\">\n",
       "      <th></th>\n",
       "      <th>Пол</th>\n",
       "      <th>Возраст</th>\n",
       "      <th>Зарплата</th>\n",
       "      <th>Члены семьи</th>\n",
       "      <th>Страховые выплаты</th>\n",
       "    </tr>\n",
       "  </thead>\n",
       "  <tbody>\n",
       "    <tr>\n",
       "      <th>count</th>\n",
       "      <td>5000.0</td>\n",
       "      <td>5000.00</td>\n",
       "      <td>5000.00</td>\n",
       "      <td>5000.00</td>\n",
       "      <td>5000.00</td>\n",
       "    </tr>\n",
       "    <tr>\n",
       "      <th>mean</th>\n",
       "      <td>0.5</td>\n",
       "      <td>30.95</td>\n",
       "      <td>39916.36</td>\n",
       "      <td>1.19</td>\n",
       "      <td>0.15</td>\n",
       "    </tr>\n",
       "    <tr>\n",
       "      <th>std</th>\n",
       "      <td>0.5</td>\n",
       "      <td>8.44</td>\n",
       "      <td>9900.08</td>\n",
       "      <td>1.09</td>\n",
       "      <td>0.46</td>\n",
       "    </tr>\n",
       "    <tr>\n",
       "      <th>min</th>\n",
       "      <td>0.0</td>\n",
       "      <td>18.00</td>\n",
       "      <td>5300.00</td>\n",
       "      <td>0.00</td>\n",
       "      <td>0.00</td>\n",
       "    </tr>\n",
       "    <tr>\n",
       "      <th>25%</th>\n",
       "      <td>0.0</td>\n",
       "      <td>24.00</td>\n",
       "      <td>33300.00</td>\n",
       "      <td>0.00</td>\n",
       "      <td>0.00</td>\n",
       "    </tr>\n",
       "    <tr>\n",
       "      <th>50%</th>\n",
       "      <td>0.0</td>\n",
       "      <td>30.00</td>\n",
       "      <td>40200.00</td>\n",
       "      <td>1.00</td>\n",
       "      <td>0.00</td>\n",
       "    </tr>\n",
       "    <tr>\n",
       "      <th>75%</th>\n",
       "      <td>1.0</td>\n",
       "      <td>37.00</td>\n",
       "      <td>46600.00</td>\n",
       "      <td>2.00</td>\n",
       "      <td>0.00</td>\n",
       "    </tr>\n",
       "    <tr>\n",
       "      <th>max</th>\n",
       "      <td>1.0</td>\n",
       "      <td>65.00</td>\n",
       "      <td>79000.00</td>\n",
       "      <td>6.00</td>\n",
       "      <td>5.00</td>\n",
       "    </tr>\n",
       "  </tbody>\n",
       "</table>\n",
       "</div>"
      ],
      "text/plain": [
       "          Пол  Возраст  Зарплата  Члены семьи  Страховые выплаты\n",
       "count  5000.0  5000.00   5000.00      5000.00            5000.00\n",
       "mean      0.5    30.95  39916.36         1.19               0.15\n",
       "std       0.5     8.44   9900.08         1.09               0.46\n",
       "min       0.0    18.00   5300.00         0.00               0.00\n",
       "25%       0.0    24.00  33300.00         0.00               0.00\n",
       "50%       0.0    30.00  40200.00         1.00               0.00\n",
       "75%       1.0    37.00  46600.00         2.00               0.00\n",
       "max       1.0    65.00  79000.00         6.00               5.00"
      ]
     },
     "execution_count": 6,
     "metadata": {},
     "output_type": "execute_result"
    }
   ],
   "source": [
    "round(df_insurance.describe(),2)"
   ]
  },
  {
   "cell_type": "code",
   "execution_count": 7,
   "id": "ffddef3c",
   "metadata": {},
   "outputs": [
    {
     "data": {
      "text/html": [
       "<div>\n",
       "<style scoped>\n",
       "    .dataframe tbody tr th:only-of-type {\n",
       "        vertical-align: middle;\n",
       "    }\n",
       "\n",
       "    .dataframe tbody tr th {\n",
       "        vertical-align: top;\n",
       "    }\n",
       "\n",
       "    .dataframe thead th {\n",
       "        text-align: right;\n",
       "    }\n",
       "</style>\n",
       "<table border=\"1\" class=\"dataframe\">\n",
       "  <thead>\n",
       "    <tr style=\"text-align: right;\">\n",
       "      <th></th>\n",
       "      <th>Пол</th>\n",
       "      <th>Возраст</th>\n",
       "      <th>Зарплата</th>\n",
       "      <th>Члены семьи</th>\n",
       "      <th>Страховые выплаты</th>\n",
       "    </tr>\n",
       "  </thead>\n",
       "  <tbody>\n",
       "    <tr>\n",
       "      <th>Пол</th>\n",
       "      <td>1.00</td>\n",
       "      <td>0.00</td>\n",
       "      <td>0.01</td>\n",
       "      <td>-0.01</td>\n",
       "      <td>0.01</td>\n",
       "    </tr>\n",
       "    <tr>\n",
       "      <th>Возраст</th>\n",
       "      <td>0.00</td>\n",
       "      <td>1.00</td>\n",
       "      <td>-0.02</td>\n",
       "      <td>-0.01</td>\n",
       "      <td>0.65</td>\n",
       "    </tr>\n",
       "    <tr>\n",
       "      <th>Зарплата</th>\n",
       "      <td>0.01</td>\n",
       "      <td>-0.02</td>\n",
       "      <td>1.00</td>\n",
       "      <td>-0.03</td>\n",
       "      <td>-0.01</td>\n",
       "    </tr>\n",
       "    <tr>\n",
       "      <th>Члены семьи</th>\n",
       "      <td>-0.01</td>\n",
       "      <td>-0.01</td>\n",
       "      <td>-0.03</td>\n",
       "      <td>1.00</td>\n",
       "      <td>-0.04</td>\n",
       "    </tr>\n",
       "    <tr>\n",
       "      <th>Страховые выплаты</th>\n",
       "      <td>0.01</td>\n",
       "      <td>0.65</td>\n",
       "      <td>-0.01</td>\n",
       "      <td>-0.04</td>\n",
       "      <td>1.00</td>\n",
       "    </tr>\n",
       "  </tbody>\n",
       "</table>\n",
       "</div>"
      ],
      "text/plain": [
       "                    Пол  Возраст  Зарплата  Члены семьи  Страховые выплаты\n",
       "Пол                1.00     0.00      0.01        -0.01               0.01\n",
       "Возраст            0.00     1.00     -0.02        -0.01               0.65\n",
       "Зарплата           0.01    -0.02      1.00        -0.03              -0.01\n",
       "Члены семьи       -0.01    -0.01     -0.03         1.00              -0.04\n",
       "Страховые выплаты  0.01     0.65     -0.01        -0.04               1.00"
      ]
     },
     "execution_count": 7,
     "metadata": {},
     "output_type": "execute_result"
    }
   ],
   "source": [
    "round(df_insurance.corr(),2)"
   ]
  },
  {
   "cell_type": "code",
   "execution_count": 8,
   "id": "49200529",
   "metadata": {},
   "outputs": [
    {
     "data": {
      "image/png": "[encoded data removed]",
      "text/plain": [
       "<Figure size 1440x864 with 1 Axes>"
      ]
     },
     "metadata": {},
     "output_type": "display_data"
    },
    {
     "data": {
      "image/png": "[encoded data removed]",
      "text/plain": [
       "<Figure size 864x576 with 1 Axes>"
      ]
     },
     "metadata": {},
     "output_type": "display_data"
    }
   ],
   "source": [
    "plot_features_hists(df_insurance['Возраст'], \"Возраст\", 46)\n",
    "plot_features_boxplot(df_insurance['Возраст'])"
   ]
  },
  {
   "cell_type": "code",
   "execution_count": 9,
   "id": "c7f3ac7b",
   "metadata": {},
   "outputs": [
    {
     "data": {
      "image/png": "[encoded data removed]",
      "text/plain": [
       "<Figure size 1440x864 with 1 Axes>"
      ]
     },
     "metadata": {},
     "output_type": "display_data"
    },
    {
     "data": {
      "image/png": "[encoded data removed]",
      "text/plain": [
       "<Figure size 864x576 with 1 Axes>"
      ]
     },
     "metadata": {},
     "output_type": "display_data"
    }
   ],
   "source": [
    "plot_features_hists(df_insurance['Зарплата'], \"Зарплата\")\n",
    "plot_features_boxplot(df_insurance['Зарплата'])"
   ]
  },
  {
   "cell_type": "code",
   "execution_count": 10,
   "id": "4859b036",
   "metadata": {},
   "outputs": [
    {
     "data": {
      "text/plain": [
       "array([1, 0], dtype=int64)"
      ]
     },
     "execution_count": 10,
     "metadata": {},
     "output_type": "execute_result"
    }
   ],
   "source": [
    "df_insurance['Пол'].unique()"
   ]
  },
  {
   "cell_type": "code",
   "execution_count": 11,
   "id": "0a6c6ef7",
   "metadata": {},
   "outputs": [
    {
     "data": {
      "text/plain": [
       "array([1, 0, 2, 4, 3, 5, 6], dtype=int64)"
      ]
     },
     "execution_count": 11,
     "metadata": {},
     "output_type": "execute_result"
    }
   ],
   "source": [
    "df_insurance['Члены семьи'].unique()"
   ]
  },
  {
   "cell_type": "code",
   "execution_count": 12,
   "id": "1dbdff65",
   "metadata": {},
   "outputs": [
    {
     "data": {
      "text/plain": [
       "array([0, 1, 2, 3, 5, 4], dtype=int64)"
      ]
     },
     "execution_count": 12,
     "metadata": {},
     "output_type": "execute_result"
    }
   ],
   "source": [
    "df_insurance['Страховые выплаты'].unique()"
   ]
  },
  {
   "cell_type": "code",
   "execution_count": 13,
   "id": "82928b0d",
   "metadata": {},
   "outputs": [
    {
     "data": {
      "text/plain": [
       "Пол                  int64\n",
       "Возраст              int64\n",
       "Зарплата             int64\n",
       "Члены семьи          int64\n",
       "Страховые выплаты    int64\n",
       "dtype: object"
      ]
     },
     "execution_count": 13,
     "metadata": {},
     "output_type": "execute_result"
    }
   ],
   "source": [
    "df_insurance['Возраст'] = df_insurance['Возраст'].astype('int64')\n",
    "df_insurance['Зарплата'] = df_insurance['Зарплата'].astype('int64')\n",
    "df_insurance.dtypes"
   ]
  },
  {
   "cell_type": "code",
   "execution_count": 14,
   "id": "41b7f23c",
   "metadata": {},
   "outputs": [
    {
     "name": "stdout",
     "output_type": "stream",
     "text": [
      "<class 'pandas.core.frame.DataFrame'>\n",
      "Int64Index: 4847 entries, 0 to 4999\n",
      "Data columns (total 5 columns):\n",
      " #   Column             Non-Null Count  Dtype\n",
      "---  ------             --------------  -----\n",
      " 0   Пол                4847 non-null   int64\n",
      " 1   Возраст            4847 non-null   int64\n",
      " 2   Зарплата           4847 non-null   int64\n",
      " 3   Члены семьи        4847 non-null   int64\n",
      " 4   Страховые выплаты  4847 non-null   int64\n",
      "dtypes: int64(5)\n",
      "memory usage: 227.2 KB\n",
      "\n"
     ]
    },
    {
     "data": {
      "text/html": [
       "<div>\n",
       "<style scoped>\n",
       "    .dataframe tbody tr th:only-of-type {\n",
       "        vertical-align: middle;\n",
       "    }\n",
       "\n",
       "    .dataframe tbody tr th {\n",
       "        vertical-align: top;\n",
       "    }\n",
       "\n",
       "    .dataframe thead th {\n",
       "        text-align: right;\n",
       "    }\n",
       "</style>\n",
       "<table border=\"1\" class=\"dataframe\">\n",
       "  <thead>\n",
       "    <tr style=\"text-align: right;\">\n",
       "      <th></th>\n",
       "      <th>Not_Valid_Values_in %</th>\n",
       "    </tr>\n",
       "  </thead>\n",
       "  <tbody>\n",
       "    <tr>\n",
       "      <th>Пол</th>\n",
       "      <td>0.0</td>\n",
       "    </tr>\n",
       "    <tr>\n",
       "      <th>Возраст</th>\n",
       "      <td>0.0</td>\n",
       "    </tr>\n",
       "    <tr>\n",
       "      <th>Зарплата</th>\n",
       "      <td>0.0</td>\n",
       "    </tr>\n",
       "    <tr>\n",
       "      <th>Члены семьи</th>\n",
       "      <td>0.0</td>\n",
       "    </tr>\n",
       "    <tr>\n",
       "      <th>Страховые выплаты</th>\n",
       "      <td>0.0</td>\n",
       "    </tr>\n",
       "  </tbody>\n",
       "</table>\n",
       "</div>"
      ],
      "text/plain": [
       "                   Not_Valid_Values_in %\n",
       "Пол                                  0.0\n",
       "Возраст                              0.0\n",
       "Зарплата                             0.0\n",
       "Члены семьи                          0.0\n",
       "Страховые выплаты                    0.0"
      ]
     },
     "metadata": {},
     "output_type": "display_data"
    },
    {
     "name": "stdout",
     "output_type": "stream",
     "text": [
      "\n",
      "Number of duplicated rows in the dataset: 0\n"
     ]
    }
   ],
   "source": [
    "df_insurance = df_insurance.drop_duplicates()\n",
    "get_info_on_dataset(df_insurance)"
   ]
  },
  {
   "cell_type": "markdown",
   "id": "c479c406",
   "metadata": {},
   "source": [
    "____________________________________________\n",
    "Загрузили данные и ознакомились с ними. <br>\n",
    "Исходные данные содержали 5 столбцов и 5000 строк.<br>\n",
    "\n",
    "В процессе изучения данных обнаружили:\n",
    "- корреляцию 0.65 между возрастом и количеством страховых выплат в последние 5 лет\n",
    "- 153 дубликата - удалили \n",
    "- в двух столбцах `Возраст` и `Зарплата` формат данных `float64` - заменили на  `int64` (в этих колонках целые числа)"
   ]
  },
  {
   "cell_type": "markdown",
   "id": "d720512b",
   "metadata": {},
   "source": [
    "## Умножение матриц"
   ]
  },
  {
   "cell_type": "markdown",
   "id": "1ca52340",
   "metadata": {},
   "source": [
    "Формула обучения:\n",
    "$$\n",
    "w = (X^T X)^{-1} X^T y,\n",
    "$$\n",
    "Предсказания:\n",
    "$$\n",
    "a = Xw\n",
    "$$\n",
    "Задача обучения:\n",
    "$$\n",
    "w = \\arg\\min_w MSE(Xw, y)\n",
    "$$\n",
    "\n",
    "Нужно установить изменится ли качество линейной регрессии при умножении признаков на обратимую матрицу:\n",
    "\n",
    "$$\n",
    "1) \\, a' = a = \\tilde{X}\\tilde{w},  \\;\\; \n",
    "$$\n",
    "$$\n",
    "2) \\, \\tilde{w} = P^{-1} w\n",
    "$$"
   ]
  },
  {
   "cell_type": "markdown",
   "id": "62f12812",
   "metadata": {},
   "source": [
    "где:\n",
    "\n",
    "- $\\tilde{X} = XP$\n",
    "\n",
    "- $X$ — матрица признаков (нулевой столбец состоит из единиц)\n",
    "\n",
    "- $y$ — вектор целевого признака\n",
    "\n",
    "- $P$ — матрица, на которую умножаются признаки\n",
    "\n",
    "- $w$ — вектор весов линейной регрессии (нулевой элемент равен сдвигу)"
   ]
  },
  {
   "cell_type": "markdown",
   "id": "148517f8",
   "metadata": {},
   "source": [
    "**Ответ:** <br>\n",
    "При умножении признаков на обратимую матрицу качество линейной регрессии **не изменится**.\n"
   ]
  },
  {
   "cell_type": "markdown",
   "id": "c3b9f827",
   "metadata": {},
   "source": [
    "**Обоснование:** <br>\n",
    "\n",
    "$$\n",
    "a = Xw\n",
    "$$\n",
    "$$\n",
    "w = (X^T X)^{-1} X^T y\n",
    "$$\n",
    "\n",
    "\n",
    "$$\n",
    "a' = \\tilde{X}\\tilde{w}, \\,\\,\\,  \\tilde{w} = P^{-1} w\n",
    "$$\n",
    "\n",
    "<br>\n",
    "Заменим $\\tilde{X}$ на  $XP$\n",
    "\n",
    "$$\n",
    "a = Xw = X (X^T X)^{-1} X^T y\n",
    "$$\n",
    "\n",
    "$$\n",
    "a' = \\tilde{X}\\tilde{w} = \\tilde{X} (\\tilde{X}^T \\tilde{X})^{-1} \\tilde{X}^T y\n",
    "$$\n",
    "\n",
    "$$\n",
    "a' = X P \\tilde{w} = X P ((X P)^T (X P))^{-1} (X P)^T y\n",
    "$$\n",
    "\n",
    "<br>\n",
    "<br>\n",
    "Раскроем скобки с $(X P)$ в выражении по правилу $(AB)^T = B^T A^T$\n",
    "\n",
    "$$\n",
    "a' =  X P (P^T X^T X P)^{-1} P^T X^T y\n",
    "$$\n",
    "\n",
    "<br>\n",
    "<br>\n",
    "Раскроем скобки $(P^T X^T X P)^{-1}$\n",
    "\n",
    "\n",
    "$$\n",
    "a' =  X P P^{-1} (X^T X)^{-1} (P^T)^{-1} P^T X^T y\n",
    "$$\n",
    "\n",
    "<br>\n",
    "<br>\n",
    "В выражении видим $P P^{-1}$ и $(P^T)^{-1} P^T$ - произведение матриц $P$, $P^T$ на обратные им $P^{-1}$ и $(P^T)^{-1}$ дает единичные матрицы $E$<br>\n",
    "\n",
    "$$\n",
    "a' =  X E (X^T X)^{-1} E X^T y\n",
    "$$\n",
    "\n",
    "<br>\n",
    "<br>\n",
    "При умножении любой матрицы $A$ на единичную $E$ получается эта же самая матрица $A$, следовательно можем просто исключить единичные матрицы из выражения. Получаем:\n",
    "\n",
    "$$\n",
    "a' =  X (X^T X)^{-1} X^T y = Xw = a\n",
    "$$\n",
    "\n",
    "________________________________________\n",
    "\n",
    "$$\n",
    "\\tilde{w} = P^{-1} w\n",
    "$$\n",
    "\n",
    "<br>\n",
    "Заменим $\\tilde{X}$ на  $XP$\n",
    "\n",
    "$$\n",
    "w = (X^T X)^{-1} X^T y\n",
    "$$\n",
    "\n",
    "$$\n",
    "w' = (\\tilde{X}^T \\tilde{X})^{-1} \\tilde{X}^T y\n",
    "$$\n",
    "\n",
    "$$\n",
    "w' = ((X P)^T (X P))^{-1} (X P)^T y\n",
    "$$\n",
    "\n",
    "<br>\n",
    "<br>\n",
    "Раскроем скобки с $(X P)$ в выражении по правилу $(AB)^T = B^T A^T$\n",
    "\n",
    "$$\n",
    "w' =  (P^T X^T X P)^{-1} P^T X^T y\n",
    "$$\n",
    "\n",
    "<br>\n",
    "<br>\n",
    "Раскроем скобки $(P^T X^T X P)^{-1}$\n",
    "\n",
    "\n",
    "$$\n",
    "w' =  P^{-1} (X^T X)^{-1} (P^T)^{-1} P^T X^T y\n",
    "$$\n",
    "\n",
    "<br>\n",
    "<br>\n",
    "В выражении видим $(P^T)^{-1} P^T$ - произведение матрицы $P^T$ на обратную ей $(P^T)^{-1}$ дает единичную матрицу $E$<br>\n",
    "\n",
    "$$\n",
    "w' =  P^{-1} (X^T X)^{-1} E X^T y\n",
    "$$\n",
    "\n",
    "<br>\n",
    "<br>\n",
    "При умножении любой матрицы $A$ на единичную $E$ получается эта же самая матрица $A$, исключаем единичную матрицу из выражения. Получаем:\n",
    "\n",
    "$$\n",
    "w' =  P^{-1} (X^T X)^{-1} X^T y = P^{-1} w\n",
    "$$"
   ]
  },
  {
   "cell_type": "markdown",
   "id": "448d6423",
   "metadata": {},
   "source": [
    "**Вывод:** <br>\n",
    "При умножении признаков $X$ на обратимую матрицу $P$ качество линейной регрессии **не изменится**. Выше мы пришли к тому,  что предсказания $ a' = $ предсказаниям $ a $. <br>\n",
    "Но при этом вектор весов линейной регрессии $ w' $ будет отличаться от первоначального вектора $ w $ на $P^{-1}$.\n"
   ]
  },
  {
   "cell_type": "markdown",
   "id": "93e50947",
   "metadata": {},
   "source": [
    "## Алгоритм преобразования"
   ]
  },
  {
   "cell_type": "markdown",
   "id": "189b9694",
   "metadata": {},
   "source": [
    "**Алгоритм** <br>\n",
    "\n",
    "Для защиты данных клиентов можно преобразовать исходные данные умножив таблицу /матрицу/ с признаками на любую обратимую матрицу.<br>\n",
    "При этом качество модели машинного обучения не изменится.\n",
    "\n"
   ]
  },
  {
   "cell_type": "markdown",
   "id": "a70b2420",
   "metadata": {},
   "source": [
    "**Проверим на примере**<br>\n",
    "\n",
    "Зададим константы.<br>\n",
    "Сгенерируем матрицу и обратную к ней.<br>\n",
    "Создадим матрицу признаков и целевой вектор.<br>\n",
    "И далее произведем необходимые расчеты. "
   ]
  },
  {
   "cell_type": "code",
   "execution_count": 15,
   "id": "58cbdc03",
   "metadata": {},
   "outputs": [
    {
     "name": "stdout",
     "output_type": "stream",
     "text": [
      "Размерность генерируемой матрицы: 4\n"
     ]
    }
   ],
   "source": [
    "ITERATIONS_BASED_STOP_CONDITION_VALUE_CONST = 100\n",
    "\n",
    "NP_RND_SEED_VALUE_CONST = 1\n",
    "\n",
    "#генерируемая матрица должна при умножении на матрицу признаков давать матрицу такого же размера\n",
    "#как исходная матрица с признаками\n",
    "#исходная матрица с признаками будет состоять из 4 столбцов, так как мы удалим из нее целевой признак\n",
    "\n",
    "ARRAY_DIM_CONST_VALUE = int(df_insurance.shape[1] - 1) \n",
    "print('Размерность генерируемой матрицы:', ARRAY_DIM_CONST_VALUE)\n",
    "\n",
    "MATRIX_VALUES_LEFT_BOUND_CONST = float(0.1)\n",
    "MATRIX_VALUES_RIGHT_BOUND_CONST = float(100.0)"
   ]
  },
  {
   "cell_type": "code",
   "execution_count": 16,
   "id": "3fd1951f",
   "metadata": {},
   "outputs": [
    {
     "name": "stdout",
     "output_type": "stream",
     "text": [
      "Генерируем необходимую матрицу...\n",
      "\n",
      " ...попытка 0\n",
      "\n",
      " Матрица сгенерирована:\n",
      "[[41.76049827 72.06041689  0.11142604 30.30302401]\n",
      " [14.76091349  9.32462562 18.70739512 34.62151663]\n",
      " [39.73707068 53.92779173 41.97753199 68.55342809]\n",
      " [20.52477975 87.8239319   2.83602056 67.07970427]]\n",
      "\n",
      " Обратная матрица:\n",
      "[[ 0.03748687  0.05812486 -0.02452545 -0.02186999]\n",
      " [-0.0076306  -0.06134752  0.02684112  0.00767928]\n",
      " [-0.02499221 -0.08414486  0.0619698  -0.00861185]\n",
      " [-0.00042311  0.06609178 -0.03025745  0.01190935]]\n"
     ]
    }
   ],
   "source": [
    "print('Генерируем необходимую матрицу...')\n",
    "\n",
    "P_original = 0\n",
    "np.random.seed(NP_RND_SEED_VALUE_CONST)\n",
    "\n",
    "for i in range(ITERATIONS_BASED_STOP_CONDITION_VALUE_CONST):\n",
    "    print('\\n ...попытка {}'.format(i))\n",
    "    P_original = np.random.uniform(low=MATRIX_VALUES_LEFT_BOUND_CONST, \n",
    "                                   high=MATRIX_VALUES_RIGHT_BOUND_CONST, \n",
    "                                   size=(ARRAY_DIM_CONST_VALUE,ARRAY_DIM_CONST_VALUE))\n",
    "    \n",
    "    if la.det(P_original) != 0:\n",
    "        print('\\n Матрица сгенерирована:')\n",
    "        print(P_original)\n",
    "        break\n",
    "\n",
    "print('\\n Обратная матрица:')\n",
    "P_inverse = la.inv(P_original)\n",
    "print(P_inverse)"
   ]
  },
  {
   "cell_type": "code",
   "execution_count": 17,
   "id": "57bf8daf",
   "metadata": {},
   "outputs": [
    {
     "name": "stdout",
     "output_type": "stream",
     "text": [
      "Размерность матрицы с признаками X: (4847, 4)\n",
      "[[    1    41 49600     1]\n",
      " [    0    46 38000     1]\n",
      " [    0    29 21000     0]\n",
      " [    0    21 41700     2]\n",
      " [    1    28 26100     0]]\n",
      "\n",
      " Размерность целевого вектора y: (4847, 1)\n",
      "[[0]\n",
      " [1]\n",
      " [0]\n",
      " [0]\n",
      " [0]]\n"
     ]
    }
   ],
   "source": [
    "ml_features_columns = ['Пол', 'Возраст', 'Зарплата', 'Члены семьи']\n",
    "ml_target_column = ['Страховые выплаты']\n",
    "\n",
    "X = df_insurance[ml_features_columns].values\n",
    "y = df_insurance[ml_target_column].values\n",
    "\n",
    "print('Размерность матрицы с признаками X: {}'. format(X.shape))\n",
    "print(X[:5])\n",
    "print('\\n Размерность целевого вектора y: {}'. format(y.shape))\n",
    "print(y[:5])"
   ]
  },
  {
   "cell_type": "markdown",
   "id": "4e972043",
   "metadata": {},
   "source": [
    "$$ Вычисляем \\;\\;  w = (X^T X)^{-1} X^T y $$"
   ]
  },
  {
   "cell_type": "code",
   "execution_count": 18,
   "id": "0918d84c",
   "metadata": {},
   "outputs": [
    {
     "name": "stdout",
     "output_type": "stream",
     "text": [
      "Размерность вектора весов линейной регрессии w: (4, 1)\n",
      "[[-4.39473445e-02]\n",
      " [ 2.35998567e-02]\n",
      " [-1.18490589e-05]\n",
      " [-4.71380340e-02]]\n"
     ]
    }
   ],
   "source": [
    "w = la.inv(X.T.dot(X)).dot(X.T).dot(y)\n",
    "\n",
    "print('Размерность вектора весов линейной регрессии w:', w.shape)\n",
    "print(w)"
   ]
  },
  {
   "cell_type": "markdown",
   "id": "ce1ec864",
   "metadata": {},
   "source": [
    "$$ Вычисляем \\;\\;  a = Xw $$"
   ]
  },
  {
   "cell_type": "code",
   "execution_count": 19,
   "id": "e4bc5328",
   "metadata": {},
   "outputs": [
    {
     "name": "stdout",
     "output_type": "stream",
     "text": [
      "Размерность вектора предсказаний a: (4847, 1)\n",
      "[[ 0.28879543]\n",
      " [ 0.58819114]\n",
      " [ 0.43556561]\n",
      " ...\n",
      " [-0.02396203]\n",
      " [-0.05362882]\n",
      " [ 0.08863882]]\n"
     ]
    }
   ],
   "source": [
    "a = X @ w\n",
    "\n",
    "print('Размерность вектора предсказаний a:', a.shape)\n",
    "print(a)"
   ]
  },
  {
   "cell_type": "markdown",
   "id": "13bf8158",
   "metadata": {},
   "source": [
    "$$ Вычисляем \\;\\;  \\tilde{X} = XP $$"
   ]
  },
  {
   "cell_type": "code",
   "execution_count": 20,
   "id": "f23b2ce7",
   "metadata": {},
   "outputs": [
    {
     "name": "stdout",
     "output_type": "stream",
     "text": [
      "Размерность матрицы с признаками _X: (4847, 4)\n",
      "[[1971626.18824315 2675360.6636551  2082855.53729529 3401766.89815613]\n",
      " [1510708.21247488 2049772.84233384 1596009.59177371 2606689.9368755 ]\n",
      " [ 834906.55067981 1132754.04040855  882070.68622505 1440626.01386468]\n",
      " ...\n",
      " [1347422.96373368 1828514.27991925 1423418.1543668  2324787.80197984]\n",
      " [1299830.28602791 1763979.46344695 1373085.47821697 2242690.31403381]\n",
      " [1613800.66028696 2189889.31797965 1704814.55325877 2784335.96563319]]\n"
     ]
    }
   ],
   "source": [
    "_X = X @ P_original\n",
    "\n",
    "print('Размерность матрицы с признаками _X:', _X.shape)\n",
    "print(_X)"
   ]
  },
  {
   "cell_type": "markdown",
   "id": "2f4afe0a",
   "metadata": {},
   "source": [
    "$$ Вычисляем \\;\\;  \\tilde{w} = (\\tilde{X}^T \\tilde{X})^{-1} \\tilde{X}^T y $$"
   ]
  },
  {
   "cell_type": "code",
   "execution_count": 21,
   "id": "2befb79a",
   "metadata": {},
   "outputs": [
    {
     "name": "stdout",
     "output_type": "stream",
     "text": [
      "Размерность вектора весов линейной регрессии _w: (4, 1)\n",
      "[[ 0.00075549]\n",
      " [-0.00147475]\n",
      " [-0.00048226]\n",
      " [ 0.00101733]]\n"
     ]
    }
   ],
   "source": [
    "_w = la.inv(_X.T.dot(_X)).dot(_X.T).dot(y)\n",
    "\n",
    "print('Размерность вектора весов линейной регрессии _w:', _w.shape)\n",
    "print(_w)"
   ]
  },
  {
   "cell_type": "markdown",
   "id": "1973296e",
   "metadata": {},
   "source": [
    "$$ Вычисляем \\;\\;  \\tilde{a} = \\tilde{X}\\tilde{w} $$"
   ]
  },
  {
   "cell_type": "code",
   "execution_count": 22,
   "id": "b864510f",
   "metadata": {},
   "outputs": [
    {
     "name": "stdout",
     "output_type": "stream",
     "text": [
      "Размерность вектора предсказаний _a: (4847, 1)\n",
      "[[ 0.28879597]\n",
      " [ 0.58819156]\n",
      " [ 0.43556584]\n",
      " ...\n",
      " [-0.02396169]\n",
      " [-0.05362843]\n",
      " [ 0.08863926]]\n"
     ]
    }
   ],
   "source": [
    "_a = _X @ _w\n",
    "\n",
    "print('Размерность вектора предсказаний _a:', _a.shape)\n",
    "print(_a)"
   ]
  },
  {
   "cell_type": "code",
   "execution_count": 23,
   "id": "7f7822b6",
   "metadata": {},
   "outputs": [
    {
     "name": "stdout",
     "output_type": "stream",
     "text": [
      "[[-5.39273413e-07]\n",
      " [-4.16526680e-07]\n",
      " [-2.29567888e-07]\n",
      " ...\n",
      " [-3.42460544e-07]\n",
      " [-3.94636197e-07]\n",
      " [-4.39635707e-07]]\n",
      "\n",
      " Расстояние между векторами предсказаний a и _a: 3e-05\n"
     ]
    }
   ],
   "source": [
    "delta_a = a - _a\n",
    "\n",
    "print(delta_a) \n",
    "print('\\n Расстояние между векторами предсказаний a и _a:', round(la.norm(delta_a), 5))"
   ]
  },
  {
   "cell_type": "markdown",
   "id": "44623bd7",
   "metadata": {},
   "source": [
    "$$ Вычисляем \\;\\;  w' = P^{-1}\\tilde{w} $$"
   ]
  },
  {
   "cell_type": "code",
   "execution_count": 24,
   "id": "61dcee67",
   "metadata": {},
   "outputs": [
    {
     "name": "stdout",
     "output_type": "stream",
     "text": [
      "Размерность вектора весов линейной регрессии w_: (4, 1)\n",
      "[[ 0.00075549]\n",
      " [-0.00147475]\n",
      " [-0.00048225]\n",
      " [ 0.00101733]]\n"
     ]
    }
   ],
   "source": [
    "w_ = P_inverse @ w\n",
    "\n",
    "print('Размерность вектора весов линейной регрессии w_:', w_.shape)\n",
    "print(w_)"
   ]
  },
  {
   "cell_type": "code",
   "execution_count": 25,
   "id": "bbbdb39c",
   "metadata": {},
   "outputs": [
    {
     "name": "stdout",
     "output_type": "stream",
     "text": [
      "[[ 1.36610281e-09]\n",
      " [-3.36970522e-10]\n",
      " [-1.36477107e-09]\n",
      " [ 3.09025831e-10]]\n",
      "\n",
      " Расстояние между векторами весов линейной регрессии _w и w_: 0.0\n"
     ]
    }
   ],
   "source": [
    "delta_w = _w - w_\n",
    "print(delta_w) \n",
    "print('\\n Расстояние между векторами весов линейной регрессии _w и w_:', round(la.norm(delta_w), 5))"
   ]
  },
  {
   "cell_type": "markdown",
   "id": "5fdef2e6",
   "metadata": {},
   "source": [
    "____________________________________\n",
    "Из расчетов видно, что разница между веторами предсказаний $a$ и $a'$, а также между векторам весов линейной регрессии $w'$ и $\\tilde{w}$ незначительна."
   ]
  },
  {
   "cell_type": "markdown",
   "id": "a24bc778",
   "metadata": {},
   "source": [
    "## Проверка алгоритма"
   ]
  },
  {
   "cell_type": "markdown",
   "id": "7db15aff",
   "metadata": {},
   "source": [
    "Разобьем данные на обучающую и тестовую выборки.<br>\n",
    "Далее создадим функцию, которая будет шифровать данные. <br>\n",
    "Создадим и обучим модель линейной регрессии на исходных данных и зашифрованных.<br>\n",
    "Сравним метрики полученных моделей.<br>"
   ]
  },
  {
   "cell_type": "code",
   "execution_count": 26,
   "id": "36b95ae6",
   "metadata": {},
   "outputs": [
    {
     "name": "stdout",
     "output_type": "stream",
     "text": [
      "\n",
      "Обучающая выборка обучающие признаки:\n",
      "Размерность: (3877, 4)\n",
      "\n",
      " Обучающая выборка целевые признаки:\n",
      "Размерность: (3877, 1)\n",
      "\n",
      " Тестовая выборка обучающие признаки:\n",
      "Размерность: (970, 4)\n",
      "\n",
      " Тестовая выборка целевые признаки:\n",
      "Размерность: (970, 1)\n",
      "\n",
      " Обучающая выборка обучающие признаки:\n"
     ]
    },
    {
     "data": {
      "text/html": [
       "<div>\n",
       "<style scoped>\n",
       "    .dataframe tbody tr th:only-of-type {\n",
       "        vertical-align: middle;\n",
       "    }\n",
       "\n",
       "    .dataframe tbody tr th {\n",
       "        vertical-align: top;\n",
       "    }\n",
       "\n",
       "    .dataframe thead th {\n",
       "        text-align: right;\n",
       "    }\n",
       "</style>\n",
       "<table border=\"1\" class=\"dataframe\">\n",
       "  <thead>\n",
       "    <tr style=\"text-align: right;\">\n",
       "      <th></th>\n",
       "      <th>Пол</th>\n",
       "      <th>Возраст</th>\n",
       "      <th>Зарплата</th>\n",
       "      <th>Члены семьи</th>\n",
       "    </tr>\n",
       "  </thead>\n",
       "  <tbody>\n",
       "    <tr>\n",
       "      <th>433</th>\n",
       "      <td>1</td>\n",
       "      <td>30</td>\n",
       "      <td>45200</td>\n",
       "      <td>3</td>\n",
       "    </tr>\n",
       "    <tr>\n",
       "      <th>4206</th>\n",
       "      <td>1</td>\n",
       "      <td>28</td>\n",
       "      <td>45100</td>\n",
       "      <td>0</td>\n",
       "    </tr>\n",
       "    <tr>\n",
       "      <th>290</th>\n",
       "      <td>1</td>\n",
       "      <td>22</td>\n",
       "      <td>27900</td>\n",
       "      <td>0</td>\n",
       "    </tr>\n",
       "  </tbody>\n",
       "</table>\n",
       "</div>"
      ],
      "text/plain": [
       "      Пол  Возраст  Зарплата  Члены семьи\n",
       "433     1       30     45200            3\n",
       "4206    1       28     45100            0\n",
       "290     1       22     27900            0"
      ]
     },
     "metadata": {},
     "output_type": "display_data"
    },
    {
     "name": "stdout",
     "output_type": "stream",
     "text": [
      "Обучающая выборка целевые признаки:\n"
     ]
    },
    {
     "data": {
      "text/html": [
       "<div>\n",
       "<style scoped>\n",
       "    .dataframe tbody tr th:only-of-type {\n",
       "        vertical-align: middle;\n",
       "    }\n",
       "\n",
       "    .dataframe tbody tr th {\n",
       "        vertical-align: top;\n",
       "    }\n",
       "\n",
       "    .dataframe thead th {\n",
       "        text-align: right;\n",
       "    }\n",
       "</style>\n",
       "<table border=\"1\" class=\"dataframe\">\n",
       "  <thead>\n",
       "    <tr style=\"text-align: right;\">\n",
       "      <th></th>\n",
       "      <th>Страховые выплаты</th>\n",
       "    </tr>\n",
       "  </thead>\n",
       "  <tbody>\n",
       "    <tr>\n",
       "      <th>433</th>\n",
       "      <td>0</td>\n",
       "    </tr>\n",
       "    <tr>\n",
       "      <th>4206</th>\n",
       "      <td>0</td>\n",
       "    </tr>\n",
       "    <tr>\n",
       "      <th>290</th>\n",
       "      <td>0</td>\n",
       "    </tr>\n",
       "  </tbody>\n",
       "</table>\n",
       "</div>"
      ],
      "text/plain": [
       "      Страховые выплаты\n",
       "433                   0\n",
       "4206                  0\n",
       "290                   0"
      ]
     },
     "metadata": {},
     "output_type": "display_data"
    },
    {
     "name": "stdout",
     "output_type": "stream",
     "text": [
      "Тестовая выборка обучающие признаки:\n"
     ]
    },
    {
     "data": {
      "text/html": [
       "<div>\n",
       "<style scoped>\n",
       "    .dataframe tbody tr th:only-of-type {\n",
       "        vertical-align: middle;\n",
       "    }\n",
       "\n",
       "    .dataframe tbody tr th {\n",
       "        vertical-align: top;\n",
       "    }\n",
       "\n",
       "    .dataframe thead th {\n",
       "        text-align: right;\n",
       "    }\n",
       "</style>\n",
       "<table border=\"1\" class=\"dataframe\">\n",
       "  <thead>\n",
       "    <tr style=\"text-align: right;\">\n",
       "      <th></th>\n",
       "      <th>Пол</th>\n",
       "      <th>Возраст</th>\n",
       "      <th>Зарплата</th>\n",
       "      <th>Члены семьи</th>\n",
       "    </tr>\n",
       "  </thead>\n",
       "  <tbody>\n",
       "    <tr>\n",
       "      <th>3991</th>\n",
       "      <td>0</td>\n",
       "      <td>19</td>\n",
       "      <td>33800</td>\n",
       "      <td>0</td>\n",
       "    </tr>\n",
       "    <tr>\n",
       "      <th>1706</th>\n",
       "      <td>0</td>\n",
       "      <td>29</td>\n",
       "      <td>48100</td>\n",
       "      <td>3</td>\n",
       "    </tr>\n",
       "    <tr>\n",
       "      <th>1052</th>\n",
       "      <td>0</td>\n",
       "      <td>29</td>\n",
       "      <td>40100</td>\n",
       "      <td>0</td>\n",
       "    </tr>\n",
       "  </tbody>\n",
       "</table>\n",
       "</div>"
      ],
      "text/plain": [
       "      Пол  Возраст  Зарплата  Члены семьи\n",
       "3991    0       19     33800            0\n",
       "1706    0       29     48100            3\n",
       "1052    0       29     40100            0"
      ]
     },
     "metadata": {},
     "output_type": "display_data"
    },
    {
     "name": "stdout",
     "output_type": "stream",
     "text": [
      "Тестовая выборка целевые признаки:\n"
     ]
    },
    {
     "data": {
      "text/html": [
       "<div>\n",
       "<style scoped>\n",
       "    .dataframe tbody tr th:only-of-type {\n",
       "        vertical-align: middle;\n",
       "    }\n",
       "\n",
       "    .dataframe tbody tr th {\n",
       "        vertical-align: top;\n",
       "    }\n",
       "\n",
       "    .dataframe thead th {\n",
       "        text-align: right;\n",
       "    }\n",
       "</style>\n",
       "<table border=\"1\" class=\"dataframe\">\n",
       "  <thead>\n",
       "    <tr style=\"text-align: right;\">\n",
       "      <th></th>\n",
       "      <th>Страховые выплаты</th>\n",
       "    </tr>\n",
       "  </thead>\n",
       "  <tbody>\n",
       "    <tr>\n",
       "      <th>3991</th>\n",
       "      <td>0</td>\n",
       "    </tr>\n",
       "    <tr>\n",
       "      <th>1706</th>\n",
       "      <td>0</td>\n",
       "    </tr>\n",
       "    <tr>\n",
       "      <th>1052</th>\n",
       "      <td>0</td>\n",
       "    </tr>\n",
       "  </tbody>\n",
       "</table>\n",
       "</div>"
      ],
      "text/plain": [
       "      Страховые выплаты\n",
       "3991                  0\n",
       "1706                  0\n",
       "1052                  0"
      ]
     },
     "metadata": {},
     "output_type": "display_data"
    }
   ],
   "source": [
    "train, test = train_test_split(df_insurance, \n",
    "                               test_size=0.2, \n",
    "                               random_state=42)   \n",
    "\n",
    "X = train[ml_features_columns]\n",
    "y = train[ml_target_column]\n",
    "X_test = test[ml_features_columns]\n",
    "y_test = test[ml_target_column]\n",
    "\n",
    "print('\\nОбучающая выборка обучающие признаки:')\n",
    "print('Размерность: {}'.format(X.shape))\n",
    "print('\\n Обучающая выборка целевые признаки:')\n",
    "print('Размерность: {}'.format(y.shape))\n",
    "print('\\n Тестовая выборка обучающие признаки:')\n",
    "print('Размерность: {}'.format(X_test.shape))\n",
    "print('\\n Тестовая выборка целевые признаки:')\n",
    "print('Размерность: {}'.format(y_test.shape))\n",
    "print('\\n Обучающая выборка обучающие признаки:')\n",
    "display(X[:3])\n",
    "print('Обучающая выборка целевые признаки:')\n",
    "display(y[:3])\n",
    "print('Тестовая выборка обучающие признаки:')\n",
    "display(X_test[:3])\n",
    "print('Тестовая выборка целевые признаки:')\n",
    "display(y_test[:3])"
   ]
  },
  {
   "cell_type": "code",
   "execution_count": 27,
   "id": "c04834e6",
   "metadata": {},
   "outputs": [],
   "source": [
    "#функция для шифрования данных\n",
    "\n",
    "def crypt(df):\n",
    "    ITERATIONS_BASED_STOP_CONDITION_VALUE_CONST = 100\n",
    "    NP_RND_SEED_VALUE_CONST = 1\n",
    "    ARRAY_DIM_CONST_VALUE = (df.shape[1]) \n",
    "    MATRIX_VALUES_LEFT_BOUND_CONST = float(0.1)\n",
    "    MATRIX_VALUES_RIGHT_BOUND_CONST = float(100.0)\n",
    "    \n",
    "    np.random.seed(NP_RND_SEED_VALUE_CONST)\n",
    "    for i in range(ITERATIONS_BASED_STOP_CONDITION_VALUE_CONST):\n",
    "        P_original = np.random.uniform(low=MATRIX_VALUES_LEFT_BOUND_CONST, \n",
    "                                       high=MATRIX_VALUES_RIGHT_BOUND_CONST, \n",
    "                                       size=(ARRAY_DIM_CONST_VALUE,ARRAY_DIM_CONST_VALUE))\n",
    "        if la.det(P_original) != 0:\n",
    "            break\n",
    "   \n",
    "    crypted_df = df @ P_original\n",
    "    \n",
    "    return crypted_df, P_original"
   ]
  },
  {
   "cell_type": "code",
   "execution_count": 28,
   "id": "8d9b47df",
   "metadata": {},
   "outputs": [
    {
     "name": "stdout",
     "output_type": "stream",
     "text": [
      "\n",
      " Обучающая выборка обучающие признаки до шифрования:\n"
     ]
    },
    {
     "data": {
      "text/html": [
       "<div>\n",
       "<style scoped>\n",
       "    .dataframe tbody tr th:only-of-type {\n",
       "        vertical-align: middle;\n",
       "    }\n",
       "\n",
       "    .dataframe tbody tr th {\n",
       "        vertical-align: top;\n",
       "    }\n",
       "\n",
       "    .dataframe thead th {\n",
       "        text-align: right;\n",
       "    }\n",
       "</style>\n",
       "<table border=\"1\" class=\"dataframe\">\n",
       "  <thead>\n",
       "    <tr style=\"text-align: right;\">\n",
       "      <th></th>\n",
       "      <th>Пол</th>\n",
       "      <th>Возраст</th>\n",
       "      <th>Зарплата</th>\n",
       "      <th>Члены семьи</th>\n",
       "    </tr>\n",
       "  </thead>\n",
       "  <tbody>\n",
       "    <tr>\n",
       "      <th>433</th>\n",
       "      <td>1</td>\n",
       "      <td>30</td>\n",
       "      <td>45200</td>\n",
       "      <td>3</td>\n",
       "    </tr>\n",
       "    <tr>\n",
       "      <th>4206</th>\n",
       "      <td>1</td>\n",
       "      <td>28</td>\n",
       "      <td>45100</td>\n",
       "      <td>0</td>\n",
       "    </tr>\n",
       "    <tr>\n",
       "      <th>290</th>\n",
       "      <td>1</td>\n",
       "      <td>22</td>\n",
       "      <td>27900</td>\n",
       "      <td>0</td>\n",
       "    </tr>\n",
       "  </tbody>\n",
       "</table>\n",
       "</div>"
      ],
      "text/plain": [
       "      Пол  Возраст  Зарплата  Члены семьи\n",
       "433     1       30     45200            3\n",
       "4206    1       28     45100            0\n",
       "290     1       22     27900            0"
      ]
     },
     "metadata": {},
     "output_type": "display_data"
    },
    {
     "name": "stdout",
     "output_type": "stream",
     "text": [
      "\n",
      " Тестовая выборка обучающие признаки до шифрования:\n"
     ]
    },
    {
     "data": {
      "text/html": [
       "<div>\n",
       "<style scoped>\n",
       "    .dataframe tbody tr th:only-of-type {\n",
       "        vertical-align: middle;\n",
       "    }\n",
       "\n",
       "    .dataframe tbody tr th {\n",
       "        vertical-align: top;\n",
       "    }\n",
       "\n",
       "    .dataframe thead th {\n",
       "        text-align: right;\n",
       "    }\n",
       "</style>\n",
       "<table border=\"1\" class=\"dataframe\">\n",
       "  <thead>\n",
       "    <tr style=\"text-align: right;\">\n",
       "      <th></th>\n",
       "      <th>Пол</th>\n",
       "      <th>Возраст</th>\n",
       "      <th>Зарплата</th>\n",
       "      <th>Члены семьи</th>\n",
       "    </tr>\n",
       "  </thead>\n",
       "  <tbody>\n",
       "    <tr>\n",
       "      <th>3991</th>\n",
       "      <td>0</td>\n",
       "      <td>19</td>\n",
       "      <td>33800</td>\n",
       "      <td>0</td>\n",
       "    </tr>\n",
       "    <tr>\n",
       "      <th>1706</th>\n",
       "      <td>0</td>\n",
       "      <td>29</td>\n",
       "      <td>48100</td>\n",
       "      <td>3</td>\n",
       "    </tr>\n",
       "    <tr>\n",
       "      <th>1052</th>\n",
       "      <td>0</td>\n",
       "      <td>29</td>\n",
       "      <td>40100</td>\n",
       "      <td>0</td>\n",
       "    </tr>\n",
       "  </tbody>\n",
       "</table>\n",
       "</div>"
      ],
      "text/plain": [
       "      Пол  Возраст  Зарплата  Члены семьи\n",
       "3991    0       19     33800            0\n",
       "1706    0       29     48100            3\n",
       "1052    0       29     40100            0"
      ]
     },
     "metadata": {},
     "output_type": "display_data"
    },
    {
     "name": "stdout",
     "output_type": "stream",
     "text": [
      "\n",
      " Обучающая выборка обучающие признаки после шифрования:\n"
     ]
    },
    {
     "data": {
      "text/html": [
       "<div>\n",
       "<style scoped>\n",
       "    .dataframe tbody tr th:only-of-type {\n",
       "        vertical-align: middle;\n",
       "    }\n",
       "\n",
       "    .dataframe tbody tr th {\n",
       "        vertical-align: top;\n",
       "    }\n",
       "\n",
       "    .dataframe thead th {\n",
       "        text-align: right;\n",
       "    }\n",
       "</style>\n",
       "<table border=\"1\" class=\"dataframe\">\n",
       "  <thead>\n",
       "    <tr style=\"text-align: right;\">\n",
       "      <th></th>\n",
       "      <th>0</th>\n",
       "      <th>1</th>\n",
       "      <th>2</th>\n",
       "      <th>3</th>\n",
       "    </tr>\n",
       "  </thead>\n",
       "  <tbody>\n",
       "    <tr>\n",
       "      <th>433</th>\n",
       "      <td>1.796662e+06</td>\n",
       "      <td>2.438151e+06</td>\n",
       "      <td>1.897954e+06</td>\n",
       "      <td>3.099885e+06</td>\n",
       "    </tr>\n",
       "    <tr>\n",
       "      <th>4206</th>\n",
       "      <td>1.792597e+06</td>\n",
       "      <td>2.432477e+06</td>\n",
       "      <td>1.893711e+06</td>\n",
       "      <td>3.092759e+06</td>\n",
       "    </tr>\n",
       "    <tr>\n",
       "      <th>290</th>\n",
       "      <td>1.109031e+06</td>\n",
       "      <td>1.504863e+06</td>\n",
       "      <td>1.171585e+06</td>\n",
       "      <td>1.913433e+06</td>\n",
       "    </tr>\n",
       "  </tbody>\n",
       "</table>\n",
       "</div>"
      ],
      "text/plain": [
       "                 0             1             2             3\n",
       "433   1.796662e+06  2.438151e+06  1.897954e+06  3.099885e+06\n",
       "4206  1.792597e+06  2.432477e+06  1.893711e+06  3.092759e+06\n",
       "290   1.109031e+06  1.504863e+06  1.171585e+06  1.913433e+06"
      ]
     },
     "metadata": {},
     "output_type": "display_data"
    },
    {
     "name": "stdout",
     "output_type": "stream",
     "text": [
      "\n",
      " Тестовая выборка обучающие признаки после шифрования:\n"
     ]
    },
    {
     "data": {
      "text/html": [
       "<div>\n",
       "<style scoped>\n",
       "    .dataframe tbody tr th:only-of-type {\n",
       "        vertical-align: middle;\n",
       "    }\n",
       "\n",
       "    .dataframe tbody tr th {\n",
       "        vertical-align: top;\n",
       "    }\n",
       "\n",
       "    .dataframe thead th {\n",
       "        text-align: right;\n",
       "    }\n",
       "</style>\n",
       "<table border=\"1\" class=\"dataframe\">\n",
       "  <thead>\n",
       "    <tr style=\"text-align: right;\">\n",
       "      <th></th>\n",
       "      <th>0</th>\n",
       "      <th>1</th>\n",
       "      <th>2</th>\n",
       "      <th>3</th>\n",
       "    </tr>\n",
       "  </thead>\n",
       "  <tbody>\n",
       "    <tr>\n",
       "      <th>3991</th>\n",
       "      <td>1.343393e+06</td>\n",
       "      <td>1.822937e+06</td>\n",
       "      <td>1.419196e+06</td>\n",
       "      <td>2.317764e+06</td>\n",
       "    </tr>\n",
       "    <tr>\n",
       "      <th>1706</th>\n",
       "      <td>1.911843e+06</td>\n",
       "      <td>2.594461e+06</td>\n",
       "      <td>2.019670e+06</td>\n",
       "      <td>3.298625e+06</td>\n",
       "    </tr>\n",
       "    <tr>\n",
       "      <th>1052</th>\n",
       "      <td>1.593885e+06</td>\n",
       "      <td>2.162775e+06</td>\n",
       "      <td>1.683842e+06</td>\n",
       "      <td>2.749996e+06</td>\n",
       "    </tr>\n",
       "  </tbody>\n",
       "</table>\n",
       "</div>"
      ],
      "text/plain": [
       "                 0             1             2             3\n",
       "3991  1.343393e+06  1.822937e+06  1.419196e+06  2.317764e+06\n",
       "1706  1.911843e+06  2.594461e+06  2.019670e+06  3.298625e+06\n",
       "1052  1.593885e+06  2.162775e+06  1.683842e+06  2.749996e+06"
      ]
     },
     "metadata": {},
     "output_type": "display_data"
    },
    {
     "name": "stdout",
     "output_type": "stream",
     "text": [
      "\n",
      " Матрица для шифрования:\n"
     ]
    },
    {
     "data": {
      "text/plain": [
       "array([[41.76049827, 72.06041689,  0.11142604, 30.30302401],\n",
       "       [14.76091349,  9.32462562, 18.70739512, 34.62151663],\n",
       "       [39.73707068, 53.92779173, 41.97753199, 68.55342809],\n",
       "       [20.52477975, 87.8239319 ,  2.83602056, 67.07970427]])"
      ]
     },
     "metadata": {},
     "output_type": "display_data"
    }
   ],
   "source": [
    "print('\\n Обучающая выборка обучающие признаки до шифрования:')\n",
    "display(X.head(3))\n",
    "print('\\n Тестовая выборка обучающие признаки до шифрования:')\n",
    "display(X_test.head(3))\n",
    "print('\\n Обучающая выборка обучающие признаки после шифрования:')\n",
    "crypted_X, P = crypt(X)\n",
    "display(crypted_X.head(3))\n",
    "print('\\n Тестовая выборка обучающие признаки после шифрования:')\n",
    "crypted_X_test, P = crypt(X_test)\n",
    "display(crypted_X_test.head(3))\n",
    "print('\\n Матрица для шифрования:')\n",
    "display(P)"
   ]
  },
  {
   "cell_type": "markdown",
   "id": "4c9df9fe",
   "metadata": {},
   "source": [
    "Выше видим итог шифрования таблиц с исходными данными обучающей выборки и тестовой выборки.<br>\n",
    "По шифрованным таблицам совершенно нельзя понять какими были исходные данные. <br>\n",
    "Приступим к обучению модели.\n"
   ]
  },
  {
   "cell_type": "code",
   "execution_count": 29,
   "id": "546a6e9d",
   "metadata": {},
   "outputs": [],
   "source": [
    "lr_model = LinearRegression()"
   ]
  },
  {
   "cell_type": "code",
   "execution_count": 30,
   "id": "7e57efce",
   "metadata": {},
   "outputs": [
    {
     "name": "stdout",
     "output_type": "stream",
     "text": [
      "Mодель на исходных обучающих данных, предсказания по тестовой выборке:\n",
      "MSE значение: 0.1341279015\n",
      "R2_Score значение: 0.4392664195\n"
     ]
    }
   ],
   "source": [
    "lr_model.fit(X, y)\n",
    "\n",
    "_pred = lr_model.predict(X_test)\n",
    "print('Mодель на исходных обучающих данных, предсказания по тестовой выборке:')\n",
    "print('MSE значение:', round(mean_squared_error(y_test,_pred),10))\n",
    "print('R2_Score значение:', round(r2_score(y_test,_pred),10))"
   ]
  },
  {
   "cell_type": "code",
   "execution_count": 31,
   "id": "f4e810ad",
   "metadata": {},
   "outputs": [
    {
     "name": "stdout",
     "output_type": "stream",
     "text": [
      "Mодель на шифрованных обучающих данных, предсказания по шифрованной тестовой выборке:\n",
      "MSE значение: 0.1341279015\n",
      "R2_Score значение: 0.4392664195\n"
     ]
    }
   ],
   "source": [
    "lr_model.fit(crypted_X, y)\n",
    "\n",
    "_pred = lr_model.predict(crypted_X_test)\n",
    "print('Mодель на шифрованных обучающих данных, предсказания по шифрованной тестовой выборке:')\n",
    "print('MSE значение:', round(mean_squared_error(y_test,_pred),10))\n",
    "print('R2_Score значение:', round(r2_score(y_test,_pred),10))"
   ]
  },
  {
   "cell_type": "markdown",
   "id": "56ff44e2",
   "metadata": {},
   "source": [
    "____________________________\n",
    "**Вывод**\n",
    "\n",
    "**Целью нашего проекта было**:<br>\n",
    "защитить данные клиентов так, чтобы при преобразовании исходных данных качество модели машинного обучения не ухудшилось.\n",
    "\n",
    "В ходе проекта мы выполнили следующее:\n",
    "\n",
    "- Загрузили, изучили данные.\n",
    "Удалили 153 дубликата, в двух столбцах заменили формат данных с float64 на int64.<br>\n",
    "\n",
    "- Ответили на вопрос: Изменится ли качество линейной регрессии при умножении признаков на обратимую матрицу ?<br>\n",
    "Доказали, что при умножении признаков  $𝑋$  на обратимую матрицу  $𝑃$  качество линейной регрессии не изменится,<br>\n",
    "и предсказания  $𝑎′=$ предсказаниям  $𝑎$. <br>\n",
    "При этом вектор весов линейной регрессии $𝑤′$ отличается от первоначального вектора  $𝑤$  на  $𝑃^{-1}$. <br>\n",
    "Проверили это на примере.\n",
    "\n",
    "- Создали функцию, которая преобразовывает/шифрует данные для решения задачи. \n",
    "\n",
    "- Обучили модель Линейной регрессии на исходных и шифрованных данных. Сравнили метрики R2.<br>\n",
    "Линейная регрессия показала **R2 = 0.4392664195** и на исходных, и на шифрованных данных.<br>\n",
    "\n",
    "\n",
    "Так образом, можно сказать, что мы добились поставленной цели: зашифровали данные таким образом, что качество модели машинного обучения не изменилось."
   ]
  }
 ],
 "metadata": {
  "kernelspec": {
   "display_name": "Python 3 (ipykernel)",
   "language": "python",
   "name": "python3"
  },
  "language_info": {
   "codemirror_mode": {
    "name": "ipython",
    "version": 3
   },
   "file_extension": ".py",
   "mimetype": "text/x-python",
   "name": "python",
   "nbconvert_exporter": "python",
   "pygments_lexer": "ipython3",
   "version": "3.9.7"
  },
  "toc": {
   "base_numbering": 1,
   "nav_menu": {},
   "number_sections": true,
   "sideBar": true,
   "skip_h1_title": true,
   "title_cell": "Содержание",
   "title_sidebar": "Содержание",
   "toc_cell": true,
   "toc_position": {},
   "toc_section_display": true,
   "toc_window_display": true
  }
 },
 "nbformat": 4,
 "nbformat_minor": 5
}
