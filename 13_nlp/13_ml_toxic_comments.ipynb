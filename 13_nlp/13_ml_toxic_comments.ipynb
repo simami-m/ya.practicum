{
 "cells": [
  {
   "cell_type": "markdown",
   "id": "7e3300ed",
   "metadata": {
    "toc": true
   },
   "source": [
    "<h1>Table of Contents<span class=\"tocSkip\"></span></h1>\n",
    "<div class=\"toc\"><ul class=\"toc-item\"><li><ul class=\"toc-item\"><li><span><a href=\"#Общее-впечатление\" data-toc-modified-id=\"Общее-впечатление-0.1\"><span class=\"toc-item-num\">0.1&nbsp;&nbsp;</span><font color=\"orange\">Общее впечатление</font></a></span></li><li><span><a href=\"#Общее-впечатление-(ревью-2)\" data-toc-modified-id=\"Общее-впечатление-(ревью-2)-0.2\"><span class=\"toc-item-num\">0.2&nbsp;&nbsp;</span><font color=\"orange\">Общее впечатление (ревью 2)</font></a></span></li></ul></li><li><span><a href=\"#Загрузка-и-анализ-данных\" data-toc-modified-id=\"Загрузка-и-анализ-данных-1\"><span class=\"toc-item-num\">1&nbsp;&nbsp;</span>Загрузка и анализ данных</a></span></li><li><span><a href=\"#Подготовка-данных-для-моделей\" data-toc-modified-id=\"Подготовка-данных-для-моделей-2\"><span class=\"toc-item-num\">2&nbsp;&nbsp;</span>Подготовка данных для моделей</a></span></li><li><span><a href=\"#Создание-и-обучение-моделей\" data-toc-modified-id=\"Создание-и-обучение-моделей-3\"><span class=\"toc-item-num\">3&nbsp;&nbsp;</span>Создание и обучение моделей</a></span><ul class=\"toc-item\"><li><span><a href=\"#KNN-Classifier\" data-toc-modified-id=\"KNN-Classifier-3.1\"><span class=\"toc-item-num\">3.1&nbsp;&nbsp;</span>KNN Classifier</a></span></li><li><span><a href=\"#Logistic-Regression-Classifier\" data-toc-modified-id=\"Logistic-Regression-Classifier-3.2\"><span class=\"toc-item-num\">3.2&nbsp;&nbsp;</span>Logistic Regression Classifier</a></span></li><li><span><a href=\"#CatBoost-Classifier\" data-toc-modified-id=\"CatBoost-Classifier-3.3\"><span class=\"toc-item-num\">3.3&nbsp;&nbsp;</span>CatBoost Classifier</a></span></li><li><span><a href=\"#LGBM-Classifier\" data-toc-modified-id=\"LGBM-Classifier-3.4\"><span class=\"toc-item-num\">3.4&nbsp;&nbsp;</span>LGBM Classifier</a></span></li><li><span><a href=\"#Выводы\" data-toc-modified-id=\"Выводы-3.5\"><span class=\"toc-item-num\">3.5&nbsp;&nbsp;</span>Выводы</a></span></li></ul></li><li><span><a href=\"#Дополнительная-проверка-модели\" data-toc-modified-id=\"Дополнительная-проверка-модели-4\"><span class=\"toc-item-num\">4&nbsp;&nbsp;</span>Дополнительная проверка модели</a></span></li><li><span><a href=\"#Тестирование-лучшей-модели-CatBoost-Classifier\" data-toc-modified-id=\"Тестирование-лучшей-модели-CatBoost-Classifier-5\"><span class=\"toc-item-num\">5&nbsp;&nbsp;</span>Тестирование лучшей модели <strong>CatBoost Classifier</strong></a></span></li><li><span><a href=\"#Выводы\" data-toc-modified-id=\"Выводы-6\"><span class=\"toc-item-num\">6&nbsp;&nbsp;</span>Выводы</a></span></li></ul></div>"
   ]
  },
  {
   "cell_type": "markdown",
   "id": "e4df8dd6-3b0c-44a2-bb4e-b84c97bc9889",
   "metadata": {},
   "source": [
    "# Токсичные комментарии для интернет-магазина «Викишоп»"
   ]
  },
  {
   "cell_type": "markdown",
   "id": "2ecc6bc1-f768-408f-b9be-6f06cb82d86f",
   "metadata": {},
   "source": [
    "Интернет-магазин **«Викишоп»** запускает новый сервис. <br>\n",
    "Теперь пользователи могут редактировать и дополнять описания товаров, как в вики-сообществах. <br>\n",
    "То есть клиенты предлагают свои правки и комментируют изменения других. <br>\n",
    "Магазину нужен инструмент, который будет искать токсичные комментарии и отправлять их на модерацию.<br>\n",
    "\n",
    "Создадим модель и обучим ее классифицировать комментарии на позитивные и негативные. <br>\n",
    "Модель должна быть со значением метрики качества **F1** не меньше **0.75**.\n",
    "\n",
    "Шаги выполнения проекта:\n",
    "1. Загрузим и подготовим данные.\n",
    "2. Обучим разные модели.\n",
    "3. Выберем лучшую и сделаем выводы.\n",
    "\n",
    "Описание данных:\n",
    "- `text` - текст комментария\n",
    "- `toxic`- целевой признак"
   ]
  },
  {
   "cell_type": "markdown",
   "id": "cf94e1a9-601e-4c91-a6dd-36a524f90dcb",
   "metadata": {},
   "source": [
    "____________________________________\n"
   ]
  },
  {
   "cell_type": "code",
   "execution_count": 1,
   "id": "66185177-9aac-4224-a6a5-4647f7af1e1d",
   "metadata": {},
   "outputs": [
    {
     "name": "stdout",
     "output_type": "stream",
     "text": [
      "Requirement already satisfied: nltk in /opt/conda/lib/python3.10/site-packages (3.7)\n",
      "Requirement already satisfied: joblib in /opt/conda/lib/python3.10/site-packages (from nltk) (1.1.0)\n",
      "Requirement already satisfied: regex>=2021.8.3 in /opt/conda/lib/python3.10/site-packages (from nltk) (2022.7.25)\n",
      "Requirement already satisfied: click in /opt/conda/lib/python3.10/site-packages (from nltk) (8.1.3)\n",
      "Requirement already satisfied: tqdm in /opt/conda/lib/python3.10/site-packages (from nltk) (4.64.0)\n"
     ]
    }
   ],
   "source": [
    "#!pip install nltk"
   ]
  },
  {
   "cell_type": "code",
   "execution_count": 2,
   "id": "9d03d2c7-483b-469a-b7c6-ba2a99cfbf88",
   "metadata": {},
   "outputs": [
    {
     "name": "stderr",
     "output_type": "stream",
     "text": [
      "[nltk_data] Downloading package stopwords to /home/jovyan/nltk_data...\n",
      "[nltk_data]   Package stopwords is already up-to-date!\n",
      "[nltk_data] Downloading package omw-1.4 to /home/jovyan/nltk_data...\n",
      "[nltk_data]   Package omw-1.4 is already up-to-date!\n",
      "[nltk_data] Downloading package punkt to /home/jovyan/nltk_data...\n",
      "[nltk_data]   Package punkt is already up-to-date!\n",
      "[nltk_data] Downloading package averaged_perceptron_tagger to\n",
      "[nltk_data]     /home/jovyan/nltk_data...\n",
      "[nltk_data]   Package averaged_perceptron_tagger is already up-to-\n",
      "[nltk_data]       date!\n"
     ]
    }
   ],
   "source": [
    "import re\n",
    "import string\n",
    "import itertools\n",
    "import unicodedata\n",
    "\n",
    "import time\n",
    "import math\n",
    "import warnings\n",
    "import numpy as np\n",
    "import pandas as pd\n",
    "\n",
    "import nltk\n",
    "nltk.download('stopwords')\n",
    "nltk.download('omw-1.4')\n",
    "nltk.download('punkt')\n",
    "nltk.download('averaged_perceptron_tagger')\n",
    "\n",
    "from nltk.corpus import stopwords\n",
    "from nltk.tokenize import word_tokenize\n",
    "\n",
    "from nltk.corpus import wordnet\n",
    "from nltk.stem import WordNetLemmatizer\n",
    "\n",
    "import matplotlib\n",
    "import seaborn as sns\n",
    "from matplotlib import pyplot\n",
    "import matplotlib.pyplot as plt\n",
    "from scipy.stats import rv_discrete \n",
    "from datetime import datetime as _dt\n",
    "from sklearn.utils import shuffle\n",
    "\n",
    "from sklearn.model_selection import train_test_split\n",
    "from sklearn.model_selection import RepeatedStratifiedKFold\n",
    "\n",
    "from sklearn.preprocessing import StandardScaler\n",
    "from sklearn.model_selection import GridSearchCV\n",
    "\n",
    "from sklearn.dummy import DummyClassifier\n",
    "from sklearn.metrics import classification_report\n",
    "from sklearn.metrics import plot_confusion_matrix\n",
    "\n",
    "from catboost import CatBoostClassifier\n",
    "from sklearn.neighbors import KNeighborsClassifier\n",
    "from sklearn.linear_model import LogisticRegression\n",
    "from lightgbm import LGBMClassifier\n",
    "\n",
    "from sklearn.metrics import f1_score\n",
    "from sklearn.metrics import roc_curve\n",
    "from sklearn.metrics import recall_score\n",
    "from sklearn.metrics import roc_auc_score\n",
    "from sklearn.metrics import accuracy_score \n",
    "from sklearn.metrics import precision_score\n",
    "\n",
    "from sklearn.decomposition import TruncatedSVD\n",
    "from sklearn.feature_extraction.text import TfidfVectorizer\n",
    "\n",
    "matplotlib.style.use('ggplot')\n",
    "\n",
    "pd.set_option('display.max_rows', None)\n",
    "pd.set_option(\"display.max_colwidth\", 500)\n",
    "pd.options.mode.chained_assignment = None\n",
    "warnings.filterwarnings(action=\"ignore\", message=\"Mean of empty slice\")\n",
    "warnings.filterwarnings(\"ignore\")"
   ]
  },
  {
   "cell_type": "code",
   "execution_count": 3,
   "id": "39787433-f0dc-4def-8fb0-a9d7d0b79971",
   "metadata": {},
   "outputs": [],
   "source": [
    "def get_info_on_dataset(_df):\n",
    "    \n",
    "    CONST_IN_PERCENTAGES = float(100.0)\n",
    "    \n",
    "    try:\n",
    "        _df.info()\n",
    "        df_review_info = pd.DataFrame({'Not_Valid_Values_in %': (_df.isna().sum()/len(_df))*CONST_IN_PERCENTAGES} )\n",
    "        print(\"\")\n",
    "        display(df_review_info.sort_values(by='Not_Valid_Values_in %', ascending=False))\n",
    "            \n",
    "        print(\"\")\n",
    "        print(\"Number of duplicated rows in the dataset: {}\".format(_df.duplicated().sum()))\n",
    "            \n",
    "    except:\n",
    "        print(\"Can't provide review on given dataset\")\n",
    "    \n",
    "    pass"
   ]
  },
  {
   "cell_type": "code",
   "execution_count": 4,
   "id": "3c8eaf6d-53f9-4fb6-aa13-b391f7fca9cf",
   "metadata": {},
   "outputs": [],
   "source": [
    "def adjust_total_stop_words_list(_stop_words_list):\n",
    "        \n",
    "    total_stop_words_sample = ' '.join(_stop_words_list)\n",
    "    total_stop_words_sample_processed = unicodedata.normalize('NFKD',\n",
    "                                                              total_stop_words_sample).encode('ascii','ignore').decode()\n",
    "    total_stop_words_sample_processed = punctuation_and_case(total_stop_words_sample_processed)\n",
    "    total_stop_words_list_processed = total_stop_words_sample_processed.split(\" \")\n",
    "\n",
    "    return total_stop_words_list_processed\n",
    "\n",
    "def punctuation_and_case(text_sample):\n",
    "\n",
    "    string_punctuation = string.punctuation.replace('-','') + \"’\"\n",
    "    punctuation_map = str.maketrans(string_punctuation, ' '*len(string_punctuation))\n",
    "    \n",
    "    return text_sample.translate(punctuation_map)"
   ]
  },
  {
   "cell_type": "code",
   "execution_count": 5,
   "id": "19878af9-d190-4855-b61c-656cff2a58b5",
   "metadata": {},
   "outputs": [],
   "source": [
    "ML_RND_GNR_SEED_VALUE_CONST = int(424)\n",
    "ML_CROSS_VALIDATION_FOLDS_NUMBER_CONST = 2\n",
    "\n",
    "ML_TRAIN_REST_SPLIT_SIZE_VALUE_CONST = float(0.4)\n",
    "ML_VALIDATION_TRAIN_SPLIT_SIZE_VALUE_CONST = float(0.5)\n",
    "\n",
    "_CLOSE_TO_ZERO_VALUE_CONST = float(10E-1)\n",
    "\n",
    "STOP_WORDS_LANGUAGES_LIST_CONST = ['english', 'german', 'french', 'italian'] \n",
    "\n",
    "total_stop_words_lists = [stopwords.words(_lng) for _lng in STOP_WORDS_LANGUAGES_LIST_CONST]\n",
    "total_stop_words_list = list(itertools.chain(*total_stop_words_lists))\n",
    "\n",
    "TOTAL_STOP_WORDS_LIST_PROCESSED_CONST = adjust_total_stop_words_list(total_stop_words_list)\n",
    "\n",
    "TF_IDF_MIN_DF_VALUE_CONST = int(3)\n",
    "TF_IDF_MAX_DF_VALUE_CONST = float(0.5)"
   ]
  },
  {
   "cell_type": "code",
   "execution_count": 6,
   "id": "e45138ee-3a4f-4a26-b79c-59995da17855",
   "metadata": {},
   "outputs": [],
   "source": [
    "def lowering(text_sample):\n",
    "\n",
    "    processed_words_list = [w.lower() for w in text_sample.split()]\n",
    "\n",
    "    return ' '.join(processed_words_list)\n",
    "\n",
    "\n",
    "def stop_words(text_sample, _stop_words_ = TOTAL_STOP_WORDS_LIST_PROCESSED_CONST):\n",
    "            \n",
    "    text_sample_processed = [word for word in text_sample.split() if word not in _stop_words_]\n",
    "    \n",
    "    return ' '.join(text_sample_processed)\n",
    "\n",
    "def strip_hashtags(text_sample):\n",
    "\n",
    "    processed_words_list = []\n",
    "    for word in text_sample.split(' '):\n",
    "        word = word.strip()\n",
    "        if word:\n",
    "            if word.find('@') < 0 and word.find('#') < 0 :\n",
    "                processed_words_list.append(word)\n",
    "    return ' '.join(processed_words_list)\n",
    "\n",
    "def alphanumeric_adjustment(text_sample):\n",
    "\n",
    "    def if_word_valid(w):\n",
    "        if w.isalnum() and not w.isalpha() and not w.isdigit():\n",
    "            return False\n",
    "        else:\n",
    "            return True\n",
    "\n",
    "    processed_words_list = [word for word in text_sample.split() if if_word_valid(word)]\n",
    "    \n",
    "    return ' '.join(processed_words_list)\n",
    "\n",
    "\n",
    "def nltk_tag_to_wordnet_tag(nltk_tag):\n",
    "    \n",
    "    if nltk_tag.startswith('J'):\n",
    "        return wordnet.ADJ\n",
    "    elif nltk_tag.startswith('V'):\n",
    "        return wordnet.VERB\n",
    "    elif nltk_tag.startswith('N'):\n",
    "        return wordnet.NOUN\n",
    "    elif nltk_tag.startswith('R'):\n",
    "        return wordnet.ADV\n",
    "    else:\n",
    "        return None\n",
    "\n",
    "def lemm_sample(text_sample):\n",
    "    \n",
    "    wnl = nltk.stem.WordNetLemmatizer()\n",
    "    nltk_tagged = nltk.pos_tag(nltk.word_tokenize(text_sample))\n",
    "    wordnet_tagged = map(lambda x: (x[0], nltk_tag_to_wordnet_tag(x[1])), nltk_tagged)\n",
    "    text_sample_processed = []\n",
    "    \n",
    "    for word, tag in wordnet_tagged:\n",
    "        if tag is None:\n",
    "            text_sample_processed.append(word)\n",
    "        else:\n",
    "            text_sample_processed.append(wnl.lemmatize(word, tag))\n",
    "            \n",
    "    return ' '.join(text_sample_processed)\n",
    "\n",
    "\n",
    "def text_sample_lem_processing(text_sample, _stop_words_remove=False):\n",
    "    \n",
    "    text_sample_processed = unicodedata.normalize('NFKD', text_sample).encode('ascii','ignore').decode()\n",
    "    text_sample_processed = strip_hashtags(text_sample_processed)\n",
    "    text_sample_processed = punctuation_and_case(text_sample_processed)\n",
    "    text_sample_processed = lowering(text_sample_processed)\n",
    "    \n",
    "    if _stop_words_remove:\n",
    "        text_sample_processed = stop_words(text_sample_processed)\n",
    "        \n",
    "    text_sample_processed = lemm_sample(text_sample_processed)\n",
    "    text_sample_processed = alphanumeric_adjustment(text_sample_processed)\n",
    "        \n",
    "    return text_sample_processed"
   ]
  },
  {
   "cell_type": "markdown",
   "id": "b157a69a-af38-4bf4-95cc-bd7cdabc4179",
   "metadata": {},
   "source": [
    "## Загрузка и анализ данных"
   ]
  },
  {
   "cell_type": "markdown",
   "id": "719bc585-ba44-4420-b2cf-86c8ad258b66",
   "metadata": {},
   "source": [
    "Загрузим датасет и изучим данные."
   ]
  },
  {
   "cell_type": "code",
   "execution_count": 7,
   "id": "bc57a6ff-b54d-4e1c-af21-bc18a8f37ee1",
   "metadata": {},
   "outputs": [],
   "source": [
    "try:\n",
    "    df_text_samples = pd.read_csv('https://code.s3.yandex.net/datasets/toxic_comments.csv')\n",
    "except:\n",
    "    df_text_samples = pd.read_csv('toxic_comments.csv')"
   ]
  },
  {
   "cell_type": "code",
   "execution_count": 8,
   "id": "bf96ba38-d9de-46a6-b6d1-4d2053a72bbc",
   "metadata": {},
   "outputs": [
    {
     "data": {
      "text/html": [
       "<div>\n",
       "<style scoped>\n",
       "    .dataframe tbody tr th:only-of-type {\n",
       "        vertical-align: middle;\n",
       "    }\n",
       "\n",
       "    .dataframe tbody tr th {\n",
       "        vertical-align: top;\n",
       "    }\n",
       "\n",
       "    .dataframe thead th {\n",
       "        text-align: right;\n",
       "    }\n",
       "</style>\n",
       "<table border=\"1\" class=\"dataframe\">\n",
       "  <thead>\n",
       "    <tr style=\"text-align: right;\">\n",
       "      <th></th>\n",
       "      <th>text</th>\n",
       "      <th>toxic</th>\n",
       "    </tr>\n",
       "  </thead>\n",
       "  <tbody>\n",
       "    <tr>\n",
       "      <th>0</th>\n",
       "      <td>Explanation\\nWhy the edits made under my username Hardcore Metallica Fan were reverted? They weren't vandalisms, just closure on some GAs after I voted at New York Dolls FAC. And please don't remove the template from the talk page since I'm retired now.89.205.38.27</td>\n",
       "      <td>0</td>\n",
       "    </tr>\n",
       "    <tr>\n",
       "      <th>1</th>\n",
       "      <td>D'aww! He matches this background colour I'm seemingly stuck with. Thanks.  (talk) 21:51, January 11, 2016 (UTC)</td>\n",
       "      <td>0</td>\n",
       "    </tr>\n",
       "    <tr>\n",
       "      <th>2</th>\n",
       "      <td>Hey man, I'm really not trying to edit war. It's just that this guy is constantly removing relevant information and talking to me through edits instead of my talk page. He seems to care more about the formatting than the actual info.</td>\n",
       "      <td>0</td>\n",
       "    </tr>\n",
       "    <tr>\n",
       "      <th>3</th>\n",
       "      <td>\"\\nMore\\nI can't make any real suggestions on improvement - I wondered if the section statistics should be later on, or a subsection of \"\"types of accidents\"\"  -I think the references may need tidying so that they are all in the exact same format ie date format etc. I can do that later on, if no-one else does first - if you have any preferences for formatting style on references or want to do it yourself please let me know.\\n\\nThere appears to be a backlog on articles for review so I guess t...</td>\n",
       "      <td>0</td>\n",
       "    </tr>\n",
       "    <tr>\n",
       "      <th>4</th>\n",
       "      <td>You, sir, are my hero. Any chance you remember what page that's on?</td>\n",
       "      <td>0</td>\n",
       "    </tr>\n",
       "    <tr>\n",
       "      <th>5</th>\n",
       "      <td>\"\\n\\nCongratulations from me as well, use the tools well.  · talk \"</td>\n",
       "      <td>0</td>\n",
       "    </tr>\n",
       "    <tr>\n",
       "      <th>6</th>\n",
       "      <td>COCKSUCKER BEFORE YOU PISS AROUND ON MY WORK</td>\n",
       "      <td>1</td>\n",
       "    </tr>\n",
       "    <tr>\n",
       "      <th>7</th>\n",
       "      <td>Your vandalism to the Matt Shirvington article has been reverted.  Please don't do it again, or you will be banned.</td>\n",
       "      <td>0</td>\n",
       "    </tr>\n",
       "    <tr>\n",
       "      <th>8</th>\n",
       "      <td>Sorry if the word 'nonsense' was offensive to you. Anyway, I'm not intending to write anything in the article(wow they would jump on me for vandalism), I'm merely requesting that it be more encyclopedic so one can use it for school as a reference. I have been to the selective breeding page but it's almost a stub. It points to 'animal breeding' which is a short messy article that gives you no info. There must be someone around with expertise in eugenics? 93.161.107.169</td>\n",
       "      <td>0</td>\n",
       "    </tr>\n",
       "    <tr>\n",
       "      <th>9</th>\n",
       "      <td>alignment on this subject and which are contrary to those of DuLithgow</td>\n",
       "      <td>0</td>\n",
       "    </tr>\n",
       "  </tbody>\n",
       "</table>\n",
       "</div>"
      ],
      "text/plain": [
       "                                                                                                                                                                                                                                                                                                                                                                                                                                                                                                                  text  \\\n",
       "0                                                                                                                                                                                                                                            Explanation\\nWhy the edits made under my username Hardcore Metallica Fan were reverted? They weren't vandalisms, just closure on some GAs after I voted at New York Dolls FAC. And please don't remove the template from the talk page since I'm retired now.89.205.38.27   \n",
       "1                                                                                                                                                                                                                                                                                                                                                                                                     D'aww! He matches this background colour I'm seemingly stuck with. Thanks.  (talk) 21:51, January 11, 2016 (UTC)   \n",
       "2                                                                                                                                                                                                                                                                            Hey man, I'm really not trying to edit war. It's just that this guy is constantly removing relevant information and talking to me through edits instead of my talk page. He seems to care more about the formatting than the actual info.   \n",
       "3  \"\\nMore\\nI can't make any real suggestions on improvement - I wondered if the section statistics should be later on, or a subsection of \"\"types of accidents\"\"  -I think the references may need tidying so that they are all in the exact same format ie date format etc. I can do that later on, if no-one else does first - if you have any preferences for formatting style on references or want to do it yourself please let me know.\\n\\nThere appears to be a backlog on articles for review so I guess t...   \n",
       "4                                                                                                                                                                                                                                                                                                                                                                                                                                                  You, sir, are my hero. Any chance you remember what page that's on?   \n",
       "5                                                                                                                                                                                                                                                                                                                                                                                                                                                  \"\\n\\nCongratulations from me as well, use the tools well.  · talk \"   \n",
       "6                                                                                                                                                                                                                                                                                                                                                                                                                                                                         COCKSUCKER BEFORE YOU PISS AROUND ON MY WORK   \n",
       "7                                                                                                                                                                                                                                                                                                                                                                                                  Your vandalism to the Matt Shirvington article has been reverted.  Please don't do it again, or you will be banned.   \n",
       "8                             Sorry if the word 'nonsense' was offensive to you. Anyway, I'm not intending to write anything in the article(wow they would jump on me for vandalism), I'm merely requesting that it be more encyclopedic so one can use it for school as a reference. I have been to the selective breeding page but it's almost a stub. It points to 'animal breeding' which is a short messy article that gives you no info. There must be someone around with expertise in eugenics? 93.161.107.169   \n",
       "9                                                                                                                                                                                                                                                                                                                                                                                                                                               alignment on this subject and which are contrary to those of DuLithgow   \n",
       "\n",
       "   toxic  \n",
       "0      0  \n",
       "1      0  \n",
       "2      0  \n",
       "3      0  \n",
       "4      0  \n",
       "5      0  \n",
       "6      1  \n",
       "7      0  \n",
       "8      0  \n",
       "9      0  "
      ]
     },
     "execution_count": 8,
     "metadata": {},
     "output_type": "execute_result"
    }
   ],
   "source": [
    "df_text_samples.head(10)"
   ]
  },
  {
   "cell_type": "code",
   "execution_count": 9,
   "id": "d592e8dc-ed5a-4fd4-852f-e92c188920e1",
   "metadata": {},
   "outputs": [
    {
     "name": "stdout",
     "output_type": "stream",
     "text": [
      "<class 'pandas.core.frame.DataFrame'>\n",
      "RangeIndex: 159571 entries, 0 to 159570\n",
      "Data columns (total 2 columns):\n",
      " #   Column  Non-Null Count   Dtype \n",
      "---  ------  --------------   ----- \n",
      " 0   text    159571 non-null  object\n",
      " 1   toxic   159571 non-null  int64 \n",
      "dtypes: int64(1), object(1)\n",
      "memory usage: 2.4+ MB\n",
      "\n"
     ]
    },
    {
     "data": {
      "text/html": [
       "<div>\n",
       "<style scoped>\n",
       "    .dataframe tbody tr th:only-of-type {\n",
       "        vertical-align: middle;\n",
       "    }\n",
       "\n",
       "    .dataframe tbody tr th {\n",
       "        vertical-align: top;\n",
       "    }\n",
       "\n",
       "    .dataframe thead th {\n",
       "        text-align: right;\n",
       "    }\n",
       "</style>\n",
       "<table border=\"1\" class=\"dataframe\">\n",
       "  <thead>\n",
       "    <tr style=\"text-align: right;\">\n",
       "      <th></th>\n",
       "      <th>Not_Valid_Values_in %</th>\n",
       "    </tr>\n",
       "  </thead>\n",
       "  <tbody>\n",
       "    <tr>\n",
       "      <th>text</th>\n",
       "      <td>0.0</td>\n",
       "    </tr>\n",
       "    <tr>\n",
       "      <th>toxic</th>\n",
       "      <td>0.0</td>\n",
       "    </tr>\n",
       "  </tbody>\n",
       "</table>\n",
       "</div>"
      ],
      "text/plain": [
       "       Not_Valid_Values_in %\n",
       "text                     0.0\n",
       "toxic                    0.0"
      ]
     },
     "metadata": {},
     "output_type": "display_data"
    },
    {
     "name": "stdout",
     "output_type": "stream",
     "text": [
      "\n",
      "Number of duplicated rows in the dataset: 0\n"
     ]
    }
   ],
   "source": [
    "get_info_on_dataset(df_text_samples)"
   ]
  },
  {
   "cell_type": "markdown",
   "id": "27796e77-f277-4887-9051-82ef7f592c96",
   "metadata": {},
   "source": [
    "Дубликатов нет, 2 столбца `text` и `toxic`, 159570 строк."
   ]
  },
  {
   "cell_type": "code",
   "execution_count": 10,
   "id": "bac9af84-b27d-4b21-8864-641956aad79e",
   "metadata": {},
   "outputs": [],
   "source": [
    "df_text_samples_columns_title_updated_dict = {\n",
    "    # before     #after\n",
    "    'text'    : 'text_sample', \n",
    "    'toxic'   : 'is_toxic',\n",
    "}\n",
    "\n",
    "df_text_samples_columns_order_updated = ['text_sample', 'is_toxic']     "
   ]
  },
  {
   "cell_type": "code",
   "execution_count": 11,
   "id": "362ffa12-c4d8-43e9-b649-acc519b5857b",
   "metadata": {},
   "outputs": [],
   "source": [
    "df_text_samples.rename(columns=df_text_samples_columns_title_updated_dict, inplace=True)\n",
    "df_text_samples = df_text_samples[df_text_samples_columns_order_updated]"
   ]
  },
  {
   "cell_type": "code",
   "execution_count": 12,
   "id": "21d38972-d586-4096-ad2e-46c11de44170",
   "metadata": {},
   "outputs": [
    {
     "data": {
      "text/html": [
       "<div>\n",
       "<style scoped>\n",
       "    .dataframe tbody tr th:only-of-type {\n",
       "        vertical-align: middle;\n",
       "    }\n",
       "\n",
       "    .dataframe tbody tr th {\n",
       "        vertical-align: top;\n",
       "    }\n",
       "\n",
       "    .dataframe thead th {\n",
       "        text-align: right;\n",
       "    }\n",
       "</style>\n",
       "<table border=\"1\" class=\"dataframe\">\n",
       "  <thead>\n",
       "    <tr style=\"text-align: right;\">\n",
       "      <th></th>\n",
       "      <th>text_sample</th>\n",
       "      <th>is_toxic</th>\n",
       "    </tr>\n",
       "  </thead>\n",
       "  <tbody>\n",
       "    <tr>\n",
       "      <th>0</th>\n",
       "      <td>Explanation\\nWhy the edits made under my username Hardcore Metallica Fan were reverted? They weren't vandalisms, just closure on some GAs after I voted at New York Dolls FAC. And please don't remove the template from the talk page since I'm retired now.89.205.38.27</td>\n",
       "      <td>0</td>\n",
       "    </tr>\n",
       "    <tr>\n",
       "      <th>1</th>\n",
       "      <td>D'aww! He matches this background colour I'm seemingly stuck with. Thanks.  (talk) 21:51, January 11, 2016 (UTC)</td>\n",
       "      <td>0</td>\n",
       "    </tr>\n",
       "    <tr>\n",
       "      <th>2</th>\n",
       "      <td>Hey man, I'm really not trying to edit war. It's just that this guy is constantly removing relevant information and talking to me through edits instead of my talk page. He seems to care more about the formatting than the actual info.</td>\n",
       "      <td>0</td>\n",
       "    </tr>\n",
       "    <tr>\n",
       "      <th>3</th>\n",
       "      <td>\"\\nMore\\nI can't make any real suggestions on improvement - I wondered if the section statistics should be later on, or a subsection of \"\"types of accidents\"\"  -I think the references may need tidying so that they are all in the exact same format ie date format etc. I can do that later on, if no-one else does first - if you have any preferences for formatting style on references or want to do it yourself please let me know.\\n\\nThere appears to be a backlog on articles for review so I guess t...</td>\n",
       "      <td>0</td>\n",
       "    </tr>\n",
       "    <tr>\n",
       "      <th>4</th>\n",
       "      <td>You, sir, are my hero. Any chance you remember what page that's on?</td>\n",
       "      <td>0</td>\n",
       "    </tr>\n",
       "    <tr>\n",
       "      <th>5</th>\n",
       "      <td>\"\\n\\nCongratulations from me as well, use the tools well.  · talk \"</td>\n",
       "      <td>0</td>\n",
       "    </tr>\n",
       "    <tr>\n",
       "      <th>6</th>\n",
       "      <td>COCKSUCKER BEFORE YOU PISS AROUND ON MY WORK</td>\n",
       "      <td>1</td>\n",
       "    </tr>\n",
       "    <tr>\n",
       "      <th>7</th>\n",
       "      <td>Your vandalism to the Matt Shirvington article has been reverted.  Please don't do it again, or you will be banned.</td>\n",
       "      <td>0</td>\n",
       "    </tr>\n",
       "    <tr>\n",
       "      <th>8</th>\n",
       "      <td>Sorry if the word 'nonsense' was offensive to you. Anyway, I'm not intending to write anything in the article(wow they would jump on me for vandalism), I'm merely requesting that it be more encyclopedic so one can use it for school as a reference. I have been to the selective breeding page but it's almost a stub. It points to 'animal breeding' which is a short messy article that gives you no info. There must be someone around with expertise in eugenics? 93.161.107.169</td>\n",
       "      <td>0</td>\n",
       "    </tr>\n",
       "    <tr>\n",
       "      <th>9</th>\n",
       "      <td>alignment on this subject and which are contrary to those of DuLithgow</td>\n",
       "      <td>0</td>\n",
       "    </tr>\n",
       "  </tbody>\n",
       "</table>\n",
       "</div>"
      ],
      "text/plain": [
       "                                                                                                                                                                                                                                                                                                                                                                                                                                                                                                           text_sample  \\\n",
       "0                                                                                                                                                                                                                                            Explanation\\nWhy the edits made under my username Hardcore Metallica Fan were reverted? They weren't vandalisms, just closure on some GAs after I voted at New York Dolls FAC. And please don't remove the template from the talk page since I'm retired now.89.205.38.27   \n",
       "1                                                                                                                                                                                                                                                                                                                                                                                                     D'aww! He matches this background colour I'm seemingly stuck with. Thanks.  (talk) 21:51, January 11, 2016 (UTC)   \n",
       "2                                                                                                                                                                                                                                                                            Hey man, I'm really not trying to edit war. It's just that this guy is constantly removing relevant information and talking to me through edits instead of my talk page. He seems to care more about the formatting than the actual info.   \n",
       "3  \"\\nMore\\nI can't make any real suggestions on improvement - I wondered if the section statistics should be later on, or a subsection of \"\"types of accidents\"\"  -I think the references may need tidying so that they are all in the exact same format ie date format etc. I can do that later on, if no-one else does first - if you have any preferences for formatting style on references or want to do it yourself please let me know.\\n\\nThere appears to be a backlog on articles for review so I guess t...   \n",
       "4                                                                                                                                                                                                                                                                                                                                                                                                                                                  You, sir, are my hero. Any chance you remember what page that's on?   \n",
       "5                                                                                                                                                                                                                                                                                                                                                                                                                                                  \"\\n\\nCongratulations from me as well, use the tools well.  · talk \"   \n",
       "6                                                                                                                                                                                                                                                                                                                                                                                                                                                                         COCKSUCKER BEFORE YOU PISS AROUND ON MY WORK   \n",
       "7                                                                                                                                                                                                                                                                                                                                                                                                  Your vandalism to the Matt Shirvington article has been reverted.  Please don't do it again, or you will be banned.   \n",
       "8                             Sorry if the word 'nonsense' was offensive to you. Anyway, I'm not intending to write anything in the article(wow they would jump on me for vandalism), I'm merely requesting that it be more encyclopedic so one can use it for school as a reference. I have been to the selective breeding page but it's almost a stub. It points to 'animal breeding' which is a short messy article that gives you no info. There must be someone around with expertise in eugenics? 93.161.107.169   \n",
       "9                                                                                                                                                                                                                                                                                                                                                                                                                                               alignment on this subject and which are contrary to those of DuLithgow   \n",
       "\n",
       "   is_toxic  \n",
       "0         0  \n",
       "1         0  \n",
       "2         0  \n",
       "3         0  \n",
       "4         0  \n",
       "5         0  \n",
       "6         1  \n",
       "7         0  \n",
       "8         0  \n",
       "9         0  "
      ]
     },
     "execution_count": 12,
     "metadata": {},
     "output_type": "execute_result"
    }
   ],
   "source": [
    "df_text_samples.head(10)"
   ]
  },
  {
   "cell_type": "code",
   "execution_count": 13,
   "id": "2b0ec9be-f45e-4e39-9560-a9d3523b2ba1",
   "metadata": {},
   "outputs": [
    {
     "data": {
      "text/plain": [
       "0    143346\n",
       "1     16225\n",
       "Name: is_toxic, dtype: int64"
      ]
     },
     "execution_count": 13,
     "metadata": {},
     "output_type": "execute_result"
    }
   ],
   "source": [
    "df_text_samples['is_toxic'].value_counts()"
   ]
  },
  {
   "cell_type": "code",
   "execution_count": 14,
   "id": "41539c9e-6889-4dd6-8407-c2d61b9817cd",
   "metadata": {},
   "outputs": [
    {
     "data": {
      "text/plain": [
       "0    0.898321\n",
       "1    0.101679\n",
       "Name: is_toxic, dtype: float64"
      ]
     },
     "execution_count": 14,
     "metadata": {},
     "output_type": "execute_result"
    }
   ],
   "source": [
    "df_text_samples['is_toxic'].value_counts(normalize=True)"
   ]
  },
  {
   "cell_type": "markdown",
   "id": "bfe2f4cd-6944-4fed-b4f4-ec9d81cd9a6b",
   "metadata": {},
   "source": [
    "<br>\n",
    "Видим, что присутствует дисбаланс классов - 10 % токсичных комментариев, 90 % нейтральных.<br>\n",
    "Преобразуем текст: уберём пунктуацию, приводём к нижнему регистру, уберём стоп-слова, сделаем лемматизацию. "
   ]
  },
  {
   "cell_type": "code",
   "execution_count": 15,
   "id": "6729c70f",
   "metadata": {},
   "outputs": [],
   "source": [
    "df_text_samples['text_sample_processed'] = \\\n",
    "df_text_samples['text_sample'].map(lambda _sample: text_sample_lem_processing(_sample, _stop_words_remove=True))"
   ]
  },
  {
   "cell_type": "code",
   "execution_count": 16,
   "id": "2c3856ab",
   "metadata": {},
   "outputs": [
    {
     "data": {
      "text/html": [
       "<div>\n",
       "<style scoped>\n",
       "    .dataframe tbody tr th:only-of-type {\n",
       "        vertical-align: middle;\n",
       "    }\n",
       "\n",
       "    .dataframe tbody tr th {\n",
       "        vertical-align: top;\n",
       "    }\n",
       "\n",
       "    .dataframe thead th {\n",
       "        text-align: right;\n",
       "    }\n",
       "</style>\n",
       "<table border=\"1\" class=\"dataframe\">\n",
       "  <thead>\n",
       "    <tr style=\"text-align: right;\">\n",
       "      <th></th>\n",
       "      <th>text_sample</th>\n",
       "      <th>text_sample_processed</th>\n",
       "    </tr>\n",
       "  </thead>\n",
       "  <tbody>\n",
       "    <tr>\n",
       "      <th>0</th>\n",
       "      <td>Explanation\\nWhy the edits made under my username Hardcore Metallica Fan were reverted? They weren't vandalisms, just closure on some GAs after I voted at New York Dolls FAC. And please don't remove the template from the talk page since I'm retired now.89.205.38.27</td>\n",
       "      <td>explanation edits make username hardcore metallica fan revert vandalisms closure gas vote new york doll fac please remove template talk page since retire 89 205 38 27</td>\n",
       "    </tr>\n",
       "    <tr>\n",
       "      <th>1</th>\n",
       "      <td>D'aww! He matches this background colour I'm seemingly stuck with. Thanks.  (talk) 21:51, January 11, 2016 (UTC)</td>\n",
       "      <td>aww match background colour seemingly stuck thanks talk 21 51 january 11 2016 utc</td>\n",
       "    </tr>\n",
       "    <tr>\n",
       "      <th>2</th>\n",
       "      <td>Hey man, I'm really not trying to edit war. It's just that this guy is constantly removing relevant information and talking to me through edits instead of my talk page. He seems to care more about the formatting than the actual info.</td>\n",
       "      <td>hey really try edit guy constantly remove relevant information talk edits instead talk page seem care format actual info</td>\n",
       "    </tr>\n",
       "    <tr>\n",
       "      <th>3</th>\n",
       "      <td>\"\\nMore\\nI can't make any real suggestions on improvement - I wondered if the section statistics should be later on, or a subsection of \"\"types of accidents\"\"  -I think the references may need tidying so that they are all in the exact same format ie date format etc. I can do that later on, if no-one else does first - if you have any preferences for formatting style on references or want to do it yourself please let me know.\\n\\nThere appears to be a backlog on articles for review so I guess t...</td>\n",
       "      <td>make real suggestion improvement - wondered section statistic later subsection type accident -i think reference may need tidy exact format ie date format etc later no-one else first - preference format style reference want please let know appear backlog article review guess may delay reviewer turn list relevant form eg</td>\n",
       "    </tr>\n",
       "    <tr>\n",
       "      <th>4</th>\n",
       "      <td>You, sir, are my hero. Any chance you remember what page that's on?</td>\n",
       "      <td>sir hero chance remember page</td>\n",
       "    </tr>\n",
       "  </tbody>\n",
       "</table>\n",
       "</div>"
      ],
      "text/plain": [
       "                                                                                                                                                                                                                                                                                                                                                                                                                                                                                                           text_sample  \\\n",
       "0                                                                                                                                                                                                                                            Explanation\\nWhy the edits made under my username Hardcore Metallica Fan were reverted? They weren't vandalisms, just closure on some GAs after I voted at New York Dolls FAC. And please don't remove the template from the talk page since I'm retired now.89.205.38.27   \n",
       "1                                                                                                                                                                                                                                                                                                                                                                                                     D'aww! He matches this background colour I'm seemingly stuck with. Thanks.  (talk) 21:51, January 11, 2016 (UTC)   \n",
       "2                                                                                                                                                                                                                                                                            Hey man, I'm really not trying to edit war. It's just that this guy is constantly removing relevant information and talking to me through edits instead of my talk page. He seems to care more about the formatting than the actual info.   \n",
       "3  \"\\nMore\\nI can't make any real suggestions on improvement - I wondered if the section statistics should be later on, or a subsection of \"\"types of accidents\"\"  -I think the references may need tidying so that they are all in the exact same format ie date format etc. I can do that later on, if no-one else does first - if you have any preferences for formatting style on references or want to do it yourself please let me know.\\n\\nThere appears to be a backlog on articles for review so I guess t...   \n",
       "4                                                                                                                                                                                                                                                                                                                                                                                                                                                  You, sir, are my hero. Any chance you remember what page that's on?   \n",
       "\n",
       "                                                                                                                                                                                                                                                                                                              text_sample_processed  \n",
       "0                                                                                                                                                            explanation edits make username hardcore metallica fan revert vandalisms closure gas vote new york doll fac please remove template talk page since retire 89 205 38 27  \n",
       "1                                                                                                                                                                                                                                                 aww match background colour seemingly stuck thanks talk 21 51 january 11 2016 utc  \n",
       "2                                                                                                                                                                                                          hey really try edit guy constantly remove relevant information talk edits instead talk page seem care format actual info  \n",
       "3  make real suggestion improvement - wondered section statistic later subsection type accident -i think reference may need tidy exact format ie date format etc later no-one else first - preference format style reference want please let know appear backlog article review guess may delay reviewer turn list relevant form eg  \n",
       "4                                                                                                                                                                                                                                                                                                     sir hero chance remember page  "
      ]
     },
     "execution_count": 16,
     "metadata": {},
     "output_type": "execute_result"
    }
   ],
   "source": [
    "df_text_samples[['text_sample','text_sample_processed']].head(5)"
   ]
  },
  {
   "cell_type": "markdown",
   "id": "ee28c3f5-71c9-45ec-b2dd-295937c6a3b8",
   "metadata": {},
   "source": [
    "<br>\n",
    "Посмотрим на длину получившихся строк."
   ]
  },
  {
   "cell_type": "code",
   "execution_count": 17,
   "id": "0f67a1f7-43cb-4ca6-a31e-669d4e559f32",
   "metadata": {},
   "outputs": [],
   "source": [
    "df_text_samples['text_sample_lenght'] = df_text_samples['text_sample_processed'].map(lambda x: len(x)) "
   ]
  },
  {
   "cell_type": "code",
   "execution_count": 18,
   "id": "4090222f-4fbe-45bc-b5a5-907dc1cbe624",
   "metadata": {},
   "outputs": [
    {
     "name": "stdout",
     "output_type": "stream",
     "text": [
      "39\n"
     ]
    }
   ],
   "source": [
    "print(len(df_text_samples[df_text_samples['text_sample_lenght'] <= 0]))"
   ]
  },
  {
   "cell_type": "code",
   "execution_count": 19,
   "id": "c8ca88ba-6863-4fe7-b592-f8b2ee89969f",
   "metadata": {},
   "outputs": [
    {
     "data": {
      "text/html": [
       "<div>\n",
       "<style scoped>\n",
       "    .dataframe tbody tr th:only-of-type {\n",
       "        vertical-align: middle;\n",
       "    }\n",
       "\n",
       "    .dataframe tbody tr th {\n",
       "        vertical-align: top;\n",
       "    }\n",
       "\n",
       "    .dataframe thead th {\n",
       "        text-align: right;\n",
       "    }\n",
       "</style>\n",
       "<table border=\"1\" class=\"dataframe\">\n",
       "  <thead>\n",
       "    <tr style=\"text-align: right;\">\n",
       "      <th></th>\n",
       "      <th>text_sample</th>\n",
       "      <th>is_toxic</th>\n",
       "      <th>text_sample_processed</th>\n",
       "      <th>text_sample_lenght</th>\n",
       "    </tr>\n",
       "  </thead>\n",
       "  <tbody>\n",
       "    <tr>\n",
       "      <th>2407</th>\n",
       "      <td>Here, here and here.</td>\n",
       "      <td>0</td>\n",
       "      <td></td>\n",
       "      <td>0</td>\n",
       "    </tr>\n",
       "    <tr>\n",
       "      <th>12414</th>\n",
       "      <td>You're just at it again!</td>\n",
       "      <td>0</td>\n",
       "      <td></td>\n",
       "      <td>0</td>\n",
       "    </tr>\n",
       "    <tr>\n",
       "      <th>23095</th>\n",
       "      <td>Where was it before?</td>\n",
       "      <td>0</td>\n",
       "      <td></td>\n",
       "      <td>0</td>\n",
       "    </tr>\n",
       "    <tr>\n",
       "      <th>24397</th>\n",
       "      <td>Where do you come from?</td>\n",
       "      <td>0</td>\n",
       "      <td></td>\n",
       "      <td>0</td>\n",
       "    </tr>\n",
       "    <tr>\n",
       "      <th>25604</th>\n",
       "      <td>Shouldn't this be NO3 not No3?</td>\n",
       "      <td>0</td>\n",
       "      <td></td>\n",
       "      <td>0</td>\n",
       "    </tr>\n",
       "    <tr>\n",
       "      <th>26401</th>\n",
       "      <td>than just on/off such as on/off/</td>\n",
       "      <td>0</td>\n",
       "      <td></td>\n",
       "      <td>0</td>\n",
       "    </tr>\n",
       "    <tr>\n",
       "      <th>31072</th>\n",
       "      <td>!!!!!\\nWhat is all of this.</td>\n",
       "      <td>0</td>\n",
       "      <td></td>\n",
       "      <td>0</td>\n",
       "    </tr>\n",
       "    <tr>\n",
       "      <th>32019</th>\n",
       "      <td>\"\\nNo, they DON'T!    \"</td>\n",
       "      <td>0</td>\n",
       "      <td></td>\n",
       "      <td>0</td>\n",
       "    </tr>\n",
       "    <tr>\n",
       "      <th>38313</th>\n",
       "      <td>what \\n\\nwhy did you do that!!</td>\n",
       "      <td>0</td>\n",
       "      <td></td>\n",
       "      <td>0</td>\n",
       "    </tr>\n",
       "    <tr>\n",
       "      <th>39072</th>\n",
       "      <td>\"\\nWhat about her? —  (talk2me) \"</td>\n",
       "      <td>0</td>\n",
       "      <td></td>\n",
       "      <td>0</td>\n",
       "    </tr>\n",
       "    <tr>\n",
       "      <th>52475</th>\n",
       "      <td>User_talk:Blackson#Religious_bias</td>\n",
       "      <td>0</td>\n",
       "      <td></td>\n",
       "      <td>0</td>\n",
       "    </tr>\n",
       "    <tr>\n",
       "      <th>55968</th>\n",
       "      <td>Are you Rex071404 or not?</td>\n",
       "      <td>0</td>\n",
       "      <td></td>\n",
       "      <td>0</td>\n",
       "    </tr>\n",
       "    <tr>\n",
       "      <th>58603</th>\n",
       "      <td>\"\\n\\nAnd so what's this?\\n\"</td>\n",
       "      <td>0</td>\n",
       "      <td></td>\n",
       "      <td>0</td>\n",
       "    </tr>\n",
       "    <tr>\n",
       "      <th>64304</th>\n",
       "      <td>WHAT DID I D!!!!!!!!!!!!!!!!!!!!!O</td>\n",
       "      <td>0</td>\n",
       "      <td></td>\n",
       "      <td>0</td>\n",
       "    </tr>\n",
       "    <tr>\n",
       "      <th>64904</th>\n",
       "      <td>http://en.wikipedia.org/wiki/Wikipedia_talk:No_original_research/archive15#YouTube_art_as_primary_source</td>\n",
       "      <td>0</td>\n",
       "      <td></td>\n",
       "      <td>0</td>\n",
       "    </tr>\n",
       "    <tr>\n",
       "      <th>71720</th>\n",
       "      <td>No, they are not.</td>\n",
       "      <td>0</td>\n",
       "      <td></td>\n",
       "      <td>0</td>\n",
       "    </tr>\n",
       "    <tr>\n",
       "      <th>80232</th>\n",
       "      <td>\"\\nI'm in #wikipedia-en  \"</td>\n",
       "      <td>0</td>\n",
       "      <td></td>\n",
       "      <td>0</td>\n",
       "    </tr>\n",
       "    <tr>\n",
       "      <th>82232</th>\n",
       "      <td>have\\n               with them.</td>\n",
       "      <td>0</td>\n",
       "      <td></td>\n",
       "      <td>0</td>\n",
       "    </tr>\n",
       "    <tr>\n",
       "      <th>87965</th>\n",
       "      <td>Where does this come from?</td>\n",
       "      <td>0</td>\n",
       "      <td></td>\n",
       "      <td>0</td>\n",
       "    </tr>\n",
       "    <tr>\n",
       "      <th>93867</th>\n",
       "      <td>, we all have our own,</td>\n",
       "      <td>0</td>\n",
       "      <td></td>\n",
       "      <td>0</td>\n",
       "    </tr>\n",
       "    <tr>\n",
       "      <th>100110</th>\n",
       "      <td>There are also  and ...  (討論)</td>\n",
       "      <td>0</td>\n",
       "      <td></td>\n",
       "      <td>0</td>\n",
       "    </tr>\n",
       "    <tr>\n",
       "      <th>105657</th>\n",
       "      <td>Talk:E%3DMC%C2%B2_(Mariah_Carey_album)#Concerns_Part_2</td>\n",
       "      <td>0</td>\n",
       "      <td></td>\n",
       "      <td>0</td>\n",
       "    </tr>\n",
       "    <tr>\n",
       "      <th>109581</th>\n",
       "      <td>There, now will you D</td>\n",
       "      <td>0</td>\n",
       "      <td></td>\n",
       "      <td>0</td>\n",
       "    </tr>\n",
       "    <tr>\n",
       "      <th>110293</th>\n",
       "      <td>Wikipedia:Administrators%27_noticeboard/Incidents#TharkunColl_and_Lord_Loxley</td>\n",
       "      <td>0</td>\n",
       "      <td></td>\n",
       "      <td>0</td>\n",
       "    </tr>\n",
       "    <tr>\n",
       "      <th>110514</th>\n",
       "      <td>\"\"\"WE WHO IS WE IT IS YOU\"\" ve\"</td>\n",
       "      <td>0</td>\n",
       "      <td></td>\n",
       "      <td>0</td>\n",
       "    </tr>\n",
       "    <tr>\n",
       "      <th>114172</th>\n",
       "      <td>\"\\nHow about that?.   ☥  \\n\"</td>\n",
       "      <td>0</td>\n",
       "      <td></td>\n",
       "      <td>0</td>\n",
       "    </tr>\n",
       "    <tr>\n",
       "      <th>124454</th>\n",
       "      <td>What what what what is this ???</td>\n",
       "      <td>0</td>\n",
       "      <td></td>\n",
       "      <td>0</td>\n",
       "    </tr>\n",
       "    <tr>\n",
       "      <th>124619</th>\n",
       "      <td>And how do I do that?</td>\n",
       "      <td>0</td>\n",
       "      <td></td>\n",
       "      <td>0</td>\n",
       "    </tr>\n",
       "    <tr>\n",
       "      <th>126952</th>\n",
       "      <td>Why? \\n\\nWhy did you do that?</td>\n",
       "      <td>0</td>\n",
       "      <td></td>\n",
       "      <td>0</td>\n",
       "    </tr>\n",
       "    <tr>\n",
       "      <th>129074</th>\n",
       "      <td>What are you on about?</td>\n",
       "      <td>0</td>\n",
       "      <td></td>\n",
       "      <td>0</td>\n",
       "    </tr>\n",
       "    <tr>\n",
       "      <th>130194</th>\n",
       "      <td>hyper_individualist@yahoo.com</td>\n",
       "      <td>0</td>\n",
       "      <td></td>\n",
       "      <td>0</td>\n",
       "    </tr>\n",
       "    <tr>\n",
       "      <th>135120</th>\n",
       "      <td>Ha\\nHa ha ha ha ha!</td>\n",
       "      <td>0</td>\n",
       "      <td></td>\n",
       "      <td>0</td>\n",
       "    </tr>\n",
       "    <tr>\n",
       "      <th>135612</th>\n",
       "      <td>\"Are you here?   • Talk2Me \\n\\n\"</td>\n",
       "      <td>0</td>\n",
       "      <td></td>\n",
       "      <td>0</td>\n",
       "    </tr>\n",
       "    <tr>\n",
       "      <th>135834</th>\n",
       "      <td>And to Solomon7968, re</td>\n",
       "      <td>0</td>\n",
       "      <td></td>\n",
       "      <td>0</td>\n",
       "    </tr>\n",
       "    <tr>\n",
       "      <th>137062</th>\n",
       "      <td>~ J.Lo</td>\n",
       "      <td>0</td>\n",
       "      <td></td>\n",
       "      <td>0</td>\n",
       "    </tr>\n",
       "    <tr>\n",
       "      <th>140477</th>\n",
       "      <td>what should i do? \\n\\n?????</td>\n",
       "      <td>0</td>\n",
       "      <td></td>\n",
       "      <td>0</td>\n",
       "    </tr>\n",
       "    <tr>\n",
       "      <th>143094</th>\n",
       "      <td>them both. That was just</td>\n",
       "      <td>0</td>\n",
       "      <td></td>\n",
       "      <td>0</td>\n",
       "    </tr>\n",
       "    <tr>\n",
       "      <th>147917</th>\n",
       "      <td>What is it and where is it?</td>\n",
       "      <td>0</td>\n",
       "      <td></td>\n",
       "      <td>0</td>\n",
       "    </tr>\n",
       "    <tr>\n",
       "      <th>153975</th>\n",
       "      <td>You \\n\\nAre an *****le!</td>\n",
       "      <td>1</td>\n",
       "      <td></td>\n",
       "      <td>0</td>\n",
       "    </tr>\n",
       "  </tbody>\n",
       "</table>\n",
       "</div>"
      ],
      "text/plain": [
       "                                                                                                     text_sample  \\\n",
       "2407                                                                                        Here, here and here.   \n",
       "12414                                                                                   You're just at it again!   \n",
       "23095                                                                                       Where was it before?   \n",
       "24397                                                                                    Where do you come from?   \n",
       "25604                                                                             Shouldn't this be NO3 not No3?   \n",
       "26401                                                                           than just on/off such as on/off/   \n",
       "31072                                                                                !!!!!\\nWhat is all of this.   \n",
       "32019                                                                                    \"\\nNo, they DON'T!    \"   \n",
       "38313                                                                             what \\n\\nwhy did you do that!!   \n",
       "39072                                                                          \"\\nWhat about her? —  (talk2me) \"   \n",
       "52475                                                                          User_talk:Blackson#Religious_bias   \n",
       "55968                                                                                  Are you Rex071404 or not?   \n",
       "58603                                                                                \"\\n\\nAnd so what's this?\\n\"   \n",
       "64304                                                                         WHAT DID I D!!!!!!!!!!!!!!!!!!!!!O   \n",
       "64904   http://en.wikipedia.org/wiki/Wikipedia_talk:No_original_research/archive15#YouTube_art_as_primary_source   \n",
       "71720                                                                                          No, they are not.   \n",
       "80232                                                                                 \"\\nI'm in #wikipedia-en  \"   \n",
       "82232                                                                            have\\n               with them.   \n",
       "87965                                                                                 Where does this come from?   \n",
       "93867                                                                                     , we all have our own,   \n",
       "100110                                                                             There are also  and ...  (討論)   \n",
       "105657                                                    Talk:E%3DMC%C2%B2_(Mariah_Carey_album)#Concerns_Part_2   \n",
       "109581                                                                                     There, now will you D   \n",
       "110293                             Wikipedia:Administrators%27_noticeboard/Incidents#TharkunColl_and_Lord_Loxley   \n",
       "110514                                                                           \"\"\"WE WHO IS WE IT IS YOU\"\" ve\"   \n",
       "114172                                                                              \"\\nHow about that?.   ☥  \\n\"   \n",
       "124454                                                                           What what what what is this ???   \n",
       "124619                                                                                     And how do I do that?   \n",
       "126952                                                                             Why? \\n\\nWhy did you do that?   \n",
       "129074                                                                                    What are you on about?   \n",
       "130194                                                                             hyper_individualist@yahoo.com   \n",
       "135120                                                                                       Ha\\nHa ha ha ha ha!   \n",
       "135612                                                                          \"Are you here?   • Talk2Me \\n\\n\"   \n",
       "135834                                                                                    And to Solomon7968, re   \n",
       "137062                                                                                                    ~ J.Lo   \n",
       "140477                                                                               what should i do? \\n\\n?????   \n",
       "143094                                                                                  them both. That was just   \n",
       "147917                                                                               What is it and where is it?   \n",
       "153975                                                                                   You \\n\\nAre an *****le!   \n",
       "\n",
       "        is_toxic text_sample_processed  text_sample_lenght  \n",
       "2407           0                                         0  \n",
       "12414          0                                         0  \n",
       "23095          0                                         0  \n",
       "24397          0                                         0  \n",
       "25604          0                                         0  \n",
       "26401          0                                         0  \n",
       "31072          0                                         0  \n",
       "32019          0                                         0  \n",
       "38313          0                                         0  \n",
       "39072          0                                         0  \n",
       "52475          0                                         0  \n",
       "55968          0                                         0  \n",
       "58603          0                                         0  \n",
       "64304          0                                         0  \n",
       "64904          0                                         0  \n",
       "71720          0                                         0  \n",
       "80232          0                                         0  \n",
       "82232          0                                         0  \n",
       "87965          0                                         0  \n",
       "93867          0                                         0  \n",
       "100110         0                                         0  \n",
       "105657         0                                         0  \n",
       "109581         0                                         0  \n",
       "110293         0                                         0  \n",
       "110514         0                                         0  \n",
       "114172         0                                         0  \n",
       "124454         0                                         0  \n",
       "124619         0                                         0  \n",
       "126952         0                                         0  \n",
       "129074         0                                         0  \n",
       "130194         0                                         0  \n",
       "135120         0                                         0  \n",
       "135612         0                                         0  \n",
       "135834         0                                         0  \n",
       "137062         0                                         0  \n",
       "140477         0                                         0  \n",
       "143094         0                                         0  \n",
       "147917         0                                         0  \n",
       "153975         1                                         0  "
      ]
     },
     "execution_count": 19,
     "metadata": {},
     "output_type": "execute_result"
    }
   ],
   "source": [
    "df_text_samples[df_text_samples['text_sample_lenght'] <= 0].head(50)"
   ]
  },
  {
   "cell_type": "markdown",
   "id": "d03d1d14-4c5b-40c8-9cb7-785ddd84e886",
   "metadata": {},
   "source": [
    "После преобразования текста у нас получилось 39 пустых строк. <br>\n",
    "Как мы видим выше, данные строки не несут важной информации - удалим их."
   ]
  },
  {
   "cell_type": "code",
   "execution_count": 20,
   "id": "fe37f9ce-8e1e-4433-b67d-1650c9f5cae0",
   "metadata": {},
   "outputs": [],
   "source": [
    "df_text_samples = df_text_samples.drop(df_text_samples[df_text_samples['text_sample_lenght'] <= 0].index)"
   ]
  },
  {
   "cell_type": "markdown",
   "id": "a8302023-7a63-425e-a2b0-edc892d7b1b2",
   "metadata": {},
   "source": [
    "Можно приступать к подготовке данных для моделей машинного обучения."
   ]
  },
  {
   "cell_type": "markdown",
   "id": "f553a548-030b-4414-a9ab-83f5764079cf",
   "metadata": {},
   "source": [
    "## Подготовка данных для моделей"
   ]
  },
  {
   "cell_type": "markdown",
   "id": "8494c96f-827a-4313-834f-228ad9718f78",
   "metadata": {},
   "source": [
    "Разделим датасет на обучающую, валидационную и тестовую выборки.<br>\n",
    "Чтобы сбалансировать классы для обучения моделей уменьшим объекты большего класса в обучающей выборке. <br>"
   ]
  },
  {
   "cell_type": "code",
   "execution_count": 22,
   "id": "de774cd0-f999-4d85-9114-8dd7921ac9c6",
   "metadata": {},
   "outputs": [],
   "source": [
    "ml_columns = ['text_sample_processed', 'is_toxic']"
   ]
  },
  {
   "cell_type": "code",
   "execution_count": 23,
   "id": "859ffd50-1d76-4ccb-8463-5073bf451499",
   "metadata": {},
   "outputs": [],
   "source": [
    "df_training, _df = train_test_split(df_text_samples[ml_columns], \n",
    "                                    test_size=ML_TRAIN_REST_SPLIT_SIZE_VALUE_CONST, \n",
    "                                    random_state=ML_RND_GNR_SEED_VALUE_CONST, \n",
    "                                    stratify=df_text_samples['is_toxic'].to_numpy())\n",
    "\n",
    "df_validation, df_testing = train_test_split(_df, \n",
    "                                             test_size=ML_VALIDATION_TRAIN_SPLIT_SIZE_VALUE_CONST, \n",
    "                                             random_state=ML_RND_GNR_SEED_VALUE_CONST, \n",
    "                                             stratify=_df['is_toxic'].to_numpy())"
   ]
  },
  {
   "cell_type": "code",
   "execution_count": 24,
   "id": "e6bf3d0f-5934-41f8-adff-e961ccf83c9f",
   "metadata": {},
   "outputs": [
    {
     "name": "stdout",
     "output_type": "stream",
     "text": [
      "Полный датасет целевой признак:\n"
     ]
    },
    {
     "data": {
      "text/plain": [
       "0    143308\n",
       "1     16224\n",
       "Name: is_toxic, dtype: int64"
      ]
     },
     "metadata": {},
     "output_type": "display_data"
    },
    {
     "name": "stdout",
     "output_type": "stream",
     "text": [
      "Обучающий датасет целевой признак:\n"
     ]
    },
    {
     "data": {
      "text/plain": [
       "0    85985\n",
       "1     9734\n",
       "Name: is_toxic, dtype: int64"
      ]
     },
     "metadata": {},
     "output_type": "display_data"
    },
    {
     "name": "stdout",
     "output_type": "stream",
     "text": [
      "Валидационный датасет целевой признак:\n"
     ]
    },
    {
     "data": {
      "text/plain": [
       "0    28661\n",
       "1     3245\n",
       "Name: is_toxic, dtype: int64"
      ]
     },
     "metadata": {},
     "output_type": "display_data"
    },
    {
     "name": "stdout",
     "output_type": "stream",
     "text": [
      "Тестовый датасет целевой признак:\n"
     ]
    },
    {
     "data": {
      "text/plain": [
       "0    28662\n",
       "1     3245\n",
       "Name: is_toxic, dtype: int64"
      ]
     },
     "metadata": {},
     "output_type": "display_data"
    }
   ],
   "source": [
    "print('Полный датасет целевой признак:')\n",
    "display(df_text_samples['is_toxic'].value_counts())\n",
    "print('Обучающий датасет целевой признак:')\n",
    "display(df_training['is_toxic'].value_counts())\n",
    "print('Валидационный датасет целевой признак:')\n",
    "display(df_validation['is_toxic'].value_counts())\n",
    "print('Тестовый датасет целевой признак:')\n",
    "display(df_testing['is_toxic'].value_counts())"
   ]
  },
  {
   "cell_type": "code",
   "execution_count": 25,
   "id": "e9d6bba0-9f5f-4304-b79d-475d9400f655",
   "metadata": {},
   "outputs": [
    {
     "name": "stdout",
     "output_type": "stream",
     "text": [
      "Размерность обучающего датасета, количество различных элементов в классах до процедуры undersampling:\n",
      "(95719,)\n",
      "0    85985\n",
      "1     9734\n",
      "Name: is_toxic, dtype: int64\n",
      "\n",
      "Размерность обучающего датасета, количество различных элементов в классах после процедуры undersampling:\n",
      "(42180,)\n",
      "0    32446\n",
      "1     9734\n",
      "Name: is_toxic, dtype: int64\n"
     ]
    }
   ],
   "source": [
    "_NEGATIVE_SAMPLES_NUMBER_CONST = df_training.is_toxic[df_training['is_toxic'] == 1].count()\n",
    "_POSITIVE_SAMPLES_NUMBER_CONST = int(_NEGATIVE_SAMPLES_NUMBER_CONST/0.3)\n",
    "\n",
    "df_training_positive = df_training.loc[(df_training['is_toxic'] == 0), :].sample(_POSITIVE_SAMPLES_NUMBER_CONST, random_state=ML_RND_GNR_SEED_VALUE_CONST)\n",
    "df_training_negative = df_training.loc[(df_training['is_toxic'] == 1), :].sample(_NEGATIVE_SAMPLES_NUMBER_CONST, random_state=ML_RND_GNR_SEED_VALUE_CONST)\n",
    "df_training_reduced = shuffle(pd.concat([df_training_positive, df_training_negative])).reset_index(drop=True)\n",
    "\n",
    "                                               \n",
    "print('Размерность обучающего датасета, количество различных элементов в классах до процедуры undersampling:')\n",
    "print(df_training['text_sample_processed'].shape)\n",
    "print(df_training['is_toxic'].value_counts())\n",
    "print('')\n",
    "print('Размерность обучающего датасета, количество различных элементов в классах после процедуры undersampling:')\n",
    "print(df_training_reduced['text_sample_processed'].shape)\n",
    "print(df_training_reduced['is_toxic'].value_counts())"
   ]
  },
  {
   "cell_type": "markdown",
   "id": "e9646d17-e07f-4237-8f57-057e365843a5",
   "metadata": {},
   "source": [
    "<br>\n",
    "Определим важность слов для наших комментариев <b>TF-IDF</b> - преобразуем текст в векторное представление"
   ]
  },
  {
   "cell_type": "code",
   "execution_count": 26,
   "id": "687e1b38-85c1-4bea-8f42-73175aacfa60",
   "metadata": {},
   "outputs": [],
   "source": [
    "tf_idf_vectorizer = TfidfVectorizer(min_df=TF_IDF_MIN_DF_VALUE_CONST, \n",
    "                                    max_df=TF_IDF_MAX_DF_VALUE_CONST)"
   ]
  },
  {
   "cell_type": "code",
   "execution_count": 27,
   "id": "2f4dd647-e43f-4e79-a413-d4d905a4e5ce",
   "metadata": {},
   "outputs": [],
   "source": [
    "X_tf_idf_training = tf_idf_vectorizer.fit_transform(df_training_reduced['text_sample_processed'])\n",
    "X_tf_idf_validation = tf_idf_vectorizer.transform(df_validation['text_sample_processed'])\n",
    "X_tf_idf_testing = tf_idf_vectorizer.transform(df_testing['text_sample_processed'])"
   ]
  },
  {
   "cell_type": "code",
   "execution_count": 28,
   "id": "b6de348a-e42b-469a-84bc-4f527bd196f4",
   "metadata": {},
   "outputs": [],
   "source": [
    "Y_training = df_training_reduced['is_toxic']\n",
    "Y_validation = df_validation['is_toxic']\n",
    "Y_testing = df_testing['is_toxic']"
   ]
  },
  {
   "cell_type": "code",
   "execution_count": 29,
   "id": "f533837e-e65e-4e42-8dd9-ad78909529e8",
   "metadata": {},
   "outputs": [
    {
     "name": "stdout",
     "output_type": "stream",
     "text": [
      "Обучающая выборка обучающие признаки:\n",
      "Размерность: (42180, 19474)\n",
      "Валидационная выборка обучающие признаки:\n",
      "Размерность: (31906, 19474)\n",
      "Тестовая выборка обучающие признаки:\n",
      "Размерность: (31907, 19474)\n",
      "Обучающая выборка целевой признак:\n",
      "Размерность: (42180,)\n",
      "Валидационная выборка целевой признак:\n",
      "Размерность: (31906,)\n",
      "Тестовая выборка целевой признак:\n",
      "Размерность: (31907,)\n",
      "Обучающая выборка обучающие признаки:\n"
     ]
    },
    {
     "data": {
      "text/plain": [
       "<1x19474 sparse matrix of type '<class 'numpy.float64'>'\n",
       "\twith 52 stored elements in Compressed Sparse Row format>"
      ]
     },
     "metadata": {},
     "output_type": "display_data"
    },
    {
     "name": "stdout",
     "output_type": "stream",
     "text": [
      "Валидационная выборка обучающие признаки:\n"
     ]
    },
    {
     "data": {
      "text/plain": [
       "<1x19474 sparse matrix of type '<class 'numpy.float64'>'\n",
       "\twith 10 stored elements in Compressed Sparse Row format>"
      ]
     },
     "metadata": {},
     "output_type": "display_data"
    },
    {
     "name": "stdout",
     "output_type": "stream",
     "text": [
      "Тестовая выборка обучающие признаки:\n"
     ]
    },
    {
     "data": {
      "text/plain": [
       "<1x19474 sparse matrix of type '<class 'numpy.float64'>'\n",
       "\twith 34 stored elements in Compressed Sparse Row format>"
      ]
     },
     "metadata": {},
     "output_type": "display_data"
    }
   ],
   "source": [
    "print('Обучающая выборка обучающие признаки:')\n",
    "print('Размерность: {}'.format(X_tf_idf_training.shape))\n",
    "print('Валидационная выборка обучающие признаки:')\n",
    "print('Размерность: {}'.format(X_tf_idf_validation.shape))\n",
    "print('Тестовая выборка обучающие признаки:')\n",
    "print('Размерность: {}'.format(X_tf_idf_testing.shape))\n",
    "\n",
    "print('Обучающая выборка целевой признак:')\n",
    "print('Размерность: {}'.format(Y_training.shape))\n",
    "print('Валидационная выборка целевой признак:')\n",
    "print('Размерность: {}'.format(Y_validation.shape))\n",
    "print('Тестовая выборка целевой признак:')\n",
    "print('Размерность: {}'.format(Y_testing.shape))\n",
    "\n",
    "print('Обучающая выборка обучающие признаки:')\n",
    "display(X_tf_idf_training[:1])\n",
    "print('Валидационная выборка обучающие признаки:')\n",
    "display(X_tf_idf_validation[:1])\n",
    "print('Тестовая выборка обучающие признаки:')\n",
    "display(X_tf_idf_testing[:1])"
   ]
  },
  {
   "cell_type": "code",
   "execution_count": 32,
   "id": "1f65e433-9952-45b6-b1cd-e7a3f047b1e8",
   "metadata": {},
   "outputs": [
    {
     "name": "stdout",
     "output_type": "stream",
     "text": [
      "Обучающая выборка обучающий признак:\n",
      "Размерность: (42180, 19474)\n",
      "Валидационная выборка обучающий признак:\n",
      "Размерность: (31906, 19474)\n",
      "Тестовая выборка обучающий признак:\n",
      "Размерность: (31907, 19474)\n",
      "Обучающая выборка обучающий признак:\n"
     ]
    },
    {
     "data": {
      "text/plain": [
       "<1x19474 sparse matrix of type '<class 'numpy.float64'>'\n",
       "\twith 52 stored elements in Compressed Sparse Row format>"
      ]
     },
     "metadata": {},
     "output_type": "display_data"
    },
    {
     "name": "stdout",
     "output_type": "stream",
     "text": [
      "Валидационная выборка обучающий признак:\n"
     ]
    },
    {
     "data": {
      "text/plain": [
       "<1x19474 sparse matrix of type '<class 'numpy.float64'>'\n",
       "\twith 10 stored elements in Compressed Sparse Row format>"
      ]
     },
     "metadata": {},
     "output_type": "display_data"
    },
    {
     "name": "stdout",
     "output_type": "stream",
     "text": [
      "Тестовая выборка обучающий признак:\n"
     ]
    },
    {
     "data": {
      "text/plain": [
       "<1x19474 sparse matrix of type '<class 'numpy.float64'>'\n",
       "\twith 34 stored elements in Compressed Sparse Row format>"
      ]
     },
     "metadata": {},
     "output_type": "display_data"
    }
   ],
   "source": [
    "print('Обучающая выборка обучающий признак:')\n",
    "print('Размерность: {}'.format(X_tf_idf_training.shape))\n",
    "print('Валидационная выборка обучающий признак:')\n",
    "print('Размерность: {}'.format(X_tf_idf_validation.shape))\n",
    "print('Тестовая выборка обучающий признак:')\n",
    "print('Размерность: {}'.format(X_tf_idf_testing.shape))\n",
    "\n",
    "print('Обучающая выборка обучающий признак:')\n",
    "display(X_tf_idf_training[:1])\n",
    "print('Валидационная выборка обучающий признак:')\n",
    "display(X_tf_idf_validation[:1])\n",
    "print('Тестовая выборка обучающий признак:')\n",
    "display(X_tf_idf_testing[:1])"
   ]
  },
  {
   "cell_type": "markdown",
   "id": "0ca05cae-7049-4e41-8fc6-8610bba5b750",
   "metadata": {},
   "source": [
    "Данные готовы, приступим к созданию и обучению моделей."
   ]
  },
  {
   "cell_type": "markdown",
   "id": "eecb0ddc-c5d1-443d-8d69-390e43f959d0",
   "metadata": {},
   "source": [
    "## Создание и обучение моделей"
   ]
  },
  {
   "cell_type": "markdown",
   "id": "31cd0a58-acf6-4f4b-81b8-bbe998a939a6",
   "metadata": {},
   "source": [
    "Создадим функции для получения информации о метриках моделей и таблицу с результатами."
   ]
  },
  {
   "cell_type": "code",
   "execution_count": 35,
   "id": "d0113088-daaf-47ca-8324-67fe9a2fcbfc",
   "metadata": {},
   "outputs": [],
   "source": [
    "def get_info_results(best_model, X, Y):\n",
    "    \n",
    "    _actual_pred = best_model.predict(X)\n",
    "    _actual_accuracy_value = accuracy_score(Y, _actual_pred)\n",
    "    _actual_f1_value = f1_score(Y, _actual_pred)\n",
    "    _actual_predict_proba = best_model.predict_proba(X)\n",
    "    _actual_predict_proba_values = _actual_predict_proba[:, 1]\n",
    "    _actual_auc_roc_value = roc_auc_score(Y, _actual_predict_proba_values)\n",
    "    \n",
    "    print('accuracy: ', round(_actual_accuracy_value,2))\n",
    "    print('f1_score: ', round(_actual_f1_value,2))\n",
    "    print('auc_roc:  ', round(_actual_auc_roc_value,2))\n",
    "    print('')\n",
    "    print(classification_report(Y, _actual_pred))       \n",
    "    pass\n",
    "\n",
    "\n",
    "\n",
    "def get_gs_results(_time, best_score, best_params):\n",
    "    \n",
    "    print('Время подбора                 {} сек.'.format(round(_time, 0) ))\n",
    "    print('Лучший результат:            ', round(gs_result.best_score_, 2))\n",
    "    print('Лучшая модель с параметрами: ', gs_result.best_params_)\n",
    "    \n",
    "    pass\n",
    "\n",
    "\n",
    "    \n",
    "results = pd.DataFrame()\n",
    "results['model_name'] = ['KNN_Classifier','Logistic_Regression','CatBoost_Classifier','LGBM_Classifier']\n",
    "results['grid_search_time'] = pd.Series([])\n",
    "results['best_score_F1'] = pd.Series([])\n",
    "results['accuracy'] = pd.Series([])\n",
    "results['F1_score'] = pd.Series([])\n",
    "results['auc_roc'] = pd.Series([])"
   ]
  },
  {
   "cell_type": "markdown",
   "id": "17f2dbf8-dd06-4fd0-86af-8ea68974dacc",
   "metadata": {},
   "source": [
    "Приступим к обучению моделей."
   ]
  },
  {
   "cell_type": "markdown",
   "id": "865afbe4-37f5-4214-9160-08ce4655cc59",
   "metadata": {},
   "source": [
    "### KNN Classifier"
   ]
  },
  {
   "cell_type": "markdown",
   "id": "094f66ac-03cb-40bf-aa04-94f8c9b84d5b",
   "metadata": {},
   "source": [
    "- **обучение**"
   ]
  },
  {
   "cell_type": "code",
   "execution_count": 36,
   "id": "a203744b-7256-4da3-8be7-2f12f9a17f42",
   "metadata": {},
   "outputs": [],
   "source": [
    "knn_hyperparameters_search_space = dict()\n",
    "knn_hyperparameters_search_space['n_jobs'] = [-1]\n",
    "knn_hyperparameters_search_space['n_neighbors'] = [5, 10, 15]\n",
    "knn_hyperparameters_search_space['algorithm'] = ['auto']\n",
    "knn_hyperparameters_search_space['leaf_size'] = [30]\n",
    "knn_hyperparameters_search_space['weights'] = ['distance', 'uniform']"
   ]
  },
  {
   "cell_type": "code",
   "execution_count": 37,
   "id": "8c725a42-d738-41bc-a271-d19b4c154433",
   "metadata": {},
   "outputs": [
    {
     "name": "stdout",
     "output_type": "stream",
     "text": [
      "Старт поиска лучших параметров для KNN classifier...\n",
      "Оптимальные параметры для KNN classifier найдены ...\n"
     ]
    }
   ],
   "source": [
    "start = time.time()\n",
    "print('Старт поиска лучших параметров для KNN classifier...')\n",
    "\n",
    "model_knn = KNeighborsClassifier()\n",
    "gs_knn = GridSearchCV(model_knn, \n",
    "                      knn_hyperparameters_search_space, \n",
    "                      n_jobs=-1, \n",
    "                      scoring='f1',\n",
    "                      cv=ML_CROSS_VALIDATION_FOLDS_NUMBER_CONST)\n",
    "\n",
    "gs_result = gs_knn.fit(X_tf_idf_training, Y_training)\n",
    "print('Оптимальные параметры для KNN classifier найдены ...')    \n",
    "\n",
    "_time = time.time() - start"
   ]
  },
  {
   "cell_type": "code",
   "execution_count": 38,
   "id": "28a03005-db6b-4e7a-b5b0-d5c798eacd17",
   "metadata": {},
   "outputs": [
    {
     "name": "stdout",
     "output_type": "stream",
     "text": [
      "Время подбора                 112.0 сек.\n",
      "Лучший результат:             0.39\n",
      "Лучшая модель с параметрами:  {'algorithm': 'auto', 'leaf_size': 30, 'n_jobs': -1, 'n_neighbors': 15, 'weights': 'distance'}\n"
     ]
    }
   ],
   "source": [
    "get_gs_results(_time, gs_result.best_score_, gs_result.best_params_)"
   ]
  },
  {
   "cell_type": "markdown",
   "id": "d6c6a795-0ac2-412f-b4a0-a7719592809d",
   "metadata": {},
   "source": [
    "- **проверка качества модели на валидационной выборке**"
   ]
  },
  {
   "cell_type": "code",
   "execution_count": 39,
   "id": "075ea1eb-e942-40b2-b030-a28dcf3f1731",
   "metadata": {},
   "outputs": [
    {
     "data": {
      "text/html": [
       "<style>#sk-container-id-1 {color: black;background-color: white;}#sk-container-id-1 pre{padding: 0;}#sk-container-id-1 div.sk-toggleable {background-color: white;}#sk-container-id-1 label.sk-toggleable__label {cursor: pointer;display: block;width: 100%;margin-bottom: 0;padding: 0.3em;box-sizing: border-box;text-align: center;}#sk-container-id-1 label.sk-toggleable__label-arrow:before {content: \"▸\";float: left;margin-right: 0.25em;color: #696969;}#sk-container-id-1 label.sk-toggleable__label-arrow:hover:before {color: black;}#sk-container-id-1 div.sk-estimator:hover label.sk-toggleable__label-arrow:before {color: black;}#sk-container-id-1 div.sk-toggleable__content {max-height: 0;max-width: 0;overflow: hidden;text-align: left;background-color: #f0f8ff;}#sk-container-id-1 div.sk-toggleable__content pre {margin: 0.2em;color: black;border-radius: 0.25em;background-color: #f0f8ff;}#sk-container-id-1 input.sk-toggleable__control:checked~div.sk-toggleable__content {max-height: 200px;max-width: 100%;overflow: auto;}#sk-container-id-1 input.sk-toggleable__control:checked~label.sk-toggleable__label-arrow:before {content: \"▾\";}#sk-container-id-1 div.sk-estimator input.sk-toggleable__control:checked~label.sk-toggleable__label {background-color: #d4ebff;}#sk-container-id-1 div.sk-label input.sk-toggleable__control:checked~label.sk-toggleable__label {background-color: #d4ebff;}#sk-container-id-1 input.sk-hidden--visually {border: 0;clip: rect(1px 1px 1px 1px);clip: rect(1px, 1px, 1px, 1px);height: 1px;margin: -1px;overflow: hidden;padding: 0;position: absolute;width: 1px;}#sk-container-id-1 div.sk-estimator {font-family: monospace;background-color: #f0f8ff;border: 1px dotted black;border-radius: 0.25em;box-sizing: border-box;margin-bottom: 0.5em;}#sk-container-id-1 div.sk-estimator:hover {background-color: #d4ebff;}#sk-container-id-1 div.sk-parallel-item::after {content: \"\";width: 100%;border-bottom: 1px solid gray;flex-grow: 1;}#sk-container-id-1 div.sk-label:hover label.sk-toggleable__label {background-color: #d4ebff;}#sk-container-id-1 div.sk-serial::before {content: \"\";position: absolute;border-left: 1px solid gray;box-sizing: border-box;top: 0;bottom: 0;left: 50%;z-index: 0;}#sk-container-id-1 div.sk-serial {display: flex;flex-direction: column;align-items: center;background-color: white;padding-right: 0.2em;padding-left: 0.2em;position: relative;}#sk-container-id-1 div.sk-item {position: relative;z-index: 1;}#sk-container-id-1 div.sk-parallel {display: flex;align-items: stretch;justify-content: center;background-color: white;position: relative;}#sk-container-id-1 div.sk-item::before, #sk-container-id-1 div.sk-parallel-item::before {content: \"\";position: absolute;border-left: 1px solid gray;box-sizing: border-box;top: 0;bottom: 0;left: 50%;z-index: -1;}#sk-container-id-1 div.sk-parallel-item {display: flex;flex-direction: column;z-index: 1;position: relative;background-color: white;}#sk-container-id-1 div.sk-parallel-item:first-child::after {align-self: flex-end;width: 50%;}#sk-container-id-1 div.sk-parallel-item:last-child::after {align-self: flex-start;width: 50%;}#sk-container-id-1 div.sk-parallel-item:only-child::after {width: 0;}#sk-container-id-1 div.sk-dashed-wrapped {border: 1px dashed gray;margin: 0 0.4em 0.5em 0.4em;box-sizing: border-box;padding-bottom: 0.4em;background-color: white;}#sk-container-id-1 div.sk-label label {font-family: monospace;font-weight: bold;display: inline-block;line-height: 1.2em;}#sk-container-id-1 div.sk-label-container {text-align: center;}#sk-container-id-1 div.sk-container {/* jupyter's `normalize.less` sets `[hidden] { display: none; }` but bootstrap.min.css set `[hidden] { display: none !important; }` so we also need the `!important` here to be able to override the default hidden behavior on the sphinx rendered scikit-learn.org. See: https://github.com/scikit-learn/scikit-learn/issues/21755 */display: inline-block !important;position: relative;}#sk-container-id-1 div.sk-text-repr-fallback {display: none;}</style><div id=\"sk-container-id-1\" class=\"sk-top-container\"><div class=\"sk-text-repr-fallback\"><pre>KNeighborsClassifier(n_jobs=-1, n_neighbors=15, weights=&#x27;distance&#x27;)</pre><b>In a Jupyter environment, please rerun this cell to show the HTML representation or trust the notebook. <br />On GitHub, the HTML representation is unable to render, please try loading this page with nbviewer.org.</b></div><div class=\"sk-container\" hidden><div class=\"sk-item\"><div class=\"sk-estimator sk-toggleable\"><input class=\"sk-toggleable__control sk-hidden--visually\" id=\"sk-estimator-id-1\" type=\"checkbox\" checked><label for=\"sk-estimator-id-1\" class=\"sk-toggleable__label sk-toggleable__label-arrow\">KNeighborsClassifier</label><div class=\"sk-toggleable__content\"><pre>KNeighborsClassifier(n_jobs=-1, n_neighbors=15, weights=&#x27;distance&#x27;)</pre></div></div></div></div></div>"
      ],
      "text/plain": [
       "KNeighborsClassifier(n_jobs=-1, n_neighbors=15, weights='distance')"
      ]
     },
     "execution_count": 39,
     "metadata": {},
     "output_type": "execute_result"
    }
   ],
   "source": [
    "best_model_knn =  KNeighborsClassifier(n_jobs=-1, \n",
    "                                       n_neighbors=15,\n",
    "                                       weights='distance',\n",
    "                                       leaf_size=30,\n",
    "                                       algorithm='auto')\n",
    "    \n",
    "best_model_knn.fit(X_tf_idf_training, Y_training)"
   ]
  },
  {
   "cell_type": "code",
   "execution_count": 40,
   "id": "b857c555-35b9-4104-b05a-6fd73ddb64c2",
   "metadata": {},
   "outputs": [
    {
     "name": "stdout",
     "output_type": "stream",
     "text": [
      "accuracy:  0.85\n",
      "f1_score:  0.25\n",
      "auc_roc:   0.65\n",
      "\n",
      "              precision    recall  f1-score   support\n",
      "\n",
      "           0       0.92      0.92      0.92     28661\n",
      "           1       0.26      0.24      0.25      3245\n",
      "\n",
      "    accuracy                           0.85     31906\n",
      "   macro avg       0.59      0.58      0.58     31906\n",
      "weighted avg       0.85      0.85      0.85     31906\n",
      "\n"
     ]
    }
   ],
   "source": [
    "get_info_results(best_model_knn, X_tf_idf_validation, Y_validation)"
   ]
  },
  {
   "cell_type": "code",
   "execution_count": 41,
   "id": "6fb00bda-6dea-4e6d-82c1-951085359869",
   "metadata": {},
   "outputs": [
    {
     "data": {
      "image/png": "[encoded data removed]",
      "text/plain": [
       "<Figure size 576x432 with 2 Axes>"
      ]
     },
     "metadata": {
      "needs_background": "light"
     },
     "output_type": "display_data"
    }
   ],
   "source": [
    "sns.set(font_scale=1.5) \n",
    "\n",
    "fig, ax = plt.subplots(figsize=(8,6)) \n",
    "plot_confusion_matrix(best_model_knn, X_tf_idf_validation, Y_validation, cmap=plt.cm.Blues, ax=ax);"
   ]
  },
  {
   "cell_type": "code",
   "execution_count": 42,
   "id": "21d72e6e-4a9f-4de7-ac87-205c19c84d90",
   "metadata": {},
   "outputs": [],
   "source": [
    "results.loc[0,'grid_search_time'] = 112\n",
    "results.loc[0,'best_score_F1'] = 0.39\n",
    "results.loc[0,'accuracy'] = 0.85\n",
    "results.loc[0,'F1_score'] = 0.25\n",
    "results.loc[0,'auc_roc'] = 0.65"
   ]
  },
  {
   "cell_type": "markdown",
   "id": "74bc8714-3fa2-4dec-8827-6fe6de37e601",
   "metadata": {},
   "source": [
    "### Logistic Regression Classifier"
   ]
  },
  {
   "cell_type": "markdown",
   "id": "5bac91ae-cb04-40a9-babe-f4d38d2869c0",
   "metadata": {},
   "source": [
    "- **обучение**"
   ]
  },
  {
   "cell_type": "code",
   "execution_count": 43,
   "id": "2af83b0a-8988-4488-94a0-c09ceac0918b",
   "metadata": {},
   "outputs": [],
   "source": [
    "lr_hyperparameters_search_space = dict()\n",
    "lr_hyperparameters_search_space['C'] = [0.1, 25, 50]\n",
    "lr_hyperparameters_search_space['tol'] = [1e-2, 1e-1] \n",
    "lr_hyperparameters_search_space['class_weight'] = ['balanced'] \n",
    "lr_hyperparameters_search_space['solver'] = ['newton-cg', 'liblinear'] \n",
    "lr_hyperparameters_search_space['random_state'] = [ML_RND_GNR_SEED_VALUE_CONST]"
   ]
  },
  {
   "cell_type": "code",
   "execution_count": 44,
   "id": "6b2c85f1-c308-498f-81ef-05d271358a85",
   "metadata": {},
   "outputs": [
    {
     "name": "stdout",
     "output_type": "stream",
     "text": [
      "Старт поиска лучших параметров для LR classifier...\n",
      "Оптимальные параметры для LR classifier найдены ...\n"
     ]
    }
   ],
   "source": [
    "start = time.time()\n",
    "print('Старт поиска лучших параметров для LR classifier...')\n",
    "\n",
    "model_lr = LogisticRegression()\n",
    "gs_lr = GridSearchCV(model_lr, \n",
    "                     lr_hyperparameters_search_space, \n",
    "                     scoring='f1',\n",
    "                     cv=ML_CROSS_VALIDATION_FOLDS_NUMBER_CONST)\n",
    "\n",
    "gs_result = gs_lr.fit(X_tf_idf_training, Y_training)\n",
    "print('Оптимальные параметры для LR classifier найдены ...')       \n",
    "\n",
    "_time = time.time() - start"
   ]
  },
  {
   "cell_type": "code",
   "execution_count": 45,
   "id": "5e445340-b888-4a53-afcc-14e59da5f84f",
   "metadata": {},
   "outputs": [
    {
     "name": "stdout",
     "output_type": "stream",
     "text": [
      "Время подбора                 10.0 сек.\n",
      "Лучший результат:             0.81\n",
      "Лучшая модель с параметрами:  {'C': 25, 'class_weight': 'balanced', 'random_state': 424, 'solver': 'newton-cg', 'tol': 0.1}\n"
     ]
    }
   ],
   "source": [
    "get_gs_results(_time, gs_result.best_score_, gs_result.best_params_)"
   ]
  },
  {
   "cell_type": "markdown",
   "id": "afd75ce1-4a9e-4ad9-a1c5-d39397e9fafb",
   "metadata": {},
   "source": [
    "- **проверка качества модели на валидационной выборке**"
   ]
  },
  {
   "cell_type": "code",
   "execution_count": 46,
   "id": "f25e28ea-1d25-4dd5-ad99-df5cb3f0e969",
   "metadata": {},
   "outputs": [
    {
     "data": {
      "text/html": [
       "<style>#sk-container-id-2 {color: black;background-color: white;}#sk-container-id-2 pre{padding: 0;}#sk-container-id-2 div.sk-toggleable {background-color: white;}#sk-container-id-2 label.sk-toggleable__label {cursor: pointer;display: block;width: 100%;margin-bottom: 0;padding: 0.3em;box-sizing: border-box;text-align: center;}#sk-container-id-2 label.sk-toggleable__label-arrow:before {content: \"▸\";float: left;margin-right: 0.25em;color: #696969;}#sk-container-id-2 label.sk-toggleable__label-arrow:hover:before {color: black;}#sk-container-id-2 div.sk-estimator:hover label.sk-toggleable__label-arrow:before {color: black;}#sk-container-id-2 div.sk-toggleable__content {max-height: 0;max-width: 0;overflow: hidden;text-align: left;background-color: #f0f8ff;}#sk-container-id-2 div.sk-toggleable__content pre {margin: 0.2em;color: black;border-radius: 0.25em;background-color: #f0f8ff;}#sk-container-id-2 input.sk-toggleable__control:checked~div.sk-toggleable__content {max-height: 200px;max-width: 100%;overflow: auto;}#sk-container-id-2 input.sk-toggleable__control:checked~label.sk-toggleable__label-arrow:before {content: \"▾\";}#sk-container-id-2 div.sk-estimator input.sk-toggleable__control:checked~label.sk-toggleable__label {background-color: #d4ebff;}#sk-container-id-2 div.sk-label input.sk-toggleable__control:checked~label.sk-toggleable__label {background-color: #d4ebff;}#sk-container-id-2 input.sk-hidden--visually {border: 0;clip: rect(1px 1px 1px 1px);clip: rect(1px, 1px, 1px, 1px);height: 1px;margin: -1px;overflow: hidden;padding: 0;position: absolute;width: 1px;}#sk-container-id-2 div.sk-estimator {font-family: monospace;background-color: #f0f8ff;border: 1px dotted black;border-radius: 0.25em;box-sizing: border-box;margin-bottom: 0.5em;}#sk-container-id-2 div.sk-estimator:hover {background-color: #d4ebff;}#sk-container-id-2 div.sk-parallel-item::after {content: \"\";width: 100%;border-bottom: 1px solid gray;flex-grow: 1;}#sk-container-id-2 div.sk-label:hover label.sk-toggleable__label {background-color: #d4ebff;}#sk-container-id-2 div.sk-serial::before {content: \"\";position: absolute;border-left: 1px solid gray;box-sizing: border-box;top: 0;bottom: 0;left: 50%;z-index: 0;}#sk-container-id-2 div.sk-serial {display: flex;flex-direction: column;align-items: center;background-color: white;padding-right: 0.2em;padding-left: 0.2em;position: relative;}#sk-container-id-2 div.sk-item {position: relative;z-index: 1;}#sk-container-id-2 div.sk-parallel {display: flex;align-items: stretch;justify-content: center;background-color: white;position: relative;}#sk-container-id-2 div.sk-item::before, #sk-container-id-2 div.sk-parallel-item::before {content: \"\";position: absolute;border-left: 1px solid gray;box-sizing: border-box;top: 0;bottom: 0;left: 50%;z-index: -1;}#sk-container-id-2 div.sk-parallel-item {display: flex;flex-direction: column;z-index: 1;position: relative;background-color: white;}#sk-container-id-2 div.sk-parallel-item:first-child::after {align-self: flex-end;width: 50%;}#sk-container-id-2 div.sk-parallel-item:last-child::after {align-self: flex-start;width: 50%;}#sk-container-id-2 div.sk-parallel-item:only-child::after {width: 0;}#sk-container-id-2 div.sk-dashed-wrapped {border: 1px dashed gray;margin: 0 0.4em 0.5em 0.4em;box-sizing: border-box;padding-bottom: 0.4em;background-color: white;}#sk-container-id-2 div.sk-label label {font-family: monospace;font-weight: bold;display: inline-block;line-height: 1.2em;}#sk-container-id-2 div.sk-label-container {text-align: center;}#sk-container-id-2 div.sk-container {/* jupyter's `normalize.less` sets `[hidden] { display: none; }` but bootstrap.min.css set `[hidden] { display: none !important; }` so we also need the `!important` here to be able to override the default hidden behavior on the sphinx rendered scikit-learn.org. See: https://github.com/scikit-learn/scikit-learn/issues/21755 */display: inline-block !important;position: relative;}#sk-container-id-2 div.sk-text-repr-fallback {display: none;}</style><div id=\"sk-container-id-2\" class=\"sk-top-container\"><div class=\"sk-text-repr-fallback\"><pre>LogisticRegression(C=25, class_weight=&#x27;balanced&#x27;, random_state=424,\n",
       "                   solver=&#x27;newton-cg&#x27;, tol=0.1)</pre><b>In a Jupyter environment, please rerun this cell to show the HTML representation or trust the notebook. <br />On GitHub, the HTML representation is unable to render, please try loading this page with nbviewer.org.</b></div><div class=\"sk-container\" hidden><div class=\"sk-item\"><div class=\"sk-estimator sk-toggleable\"><input class=\"sk-toggleable__control sk-hidden--visually\" id=\"sk-estimator-id-2\" type=\"checkbox\" checked><label for=\"sk-estimator-id-2\" class=\"sk-toggleable__label sk-toggleable__label-arrow\">LogisticRegression</label><div class=\"sk-toggleable__content\"><pre>LogisticRegression(C=25, class_weight=&#x27;balanced&#x27;, random_state=424,\n",
       "                   solver=&#x27;newton-cg&#x27;, tol=0.1)</pre></div></div></div></div></div>"
      ],
      "text/plain": [
       "LogisticRegression(C=25, class_weight='balanced', random_state=424,\n",
       "                   solver='newton-cg', tol=0.1)"
      ]
     },
     "execution_count": 46,
     "metadata": {},
     "output_type": "execute_result"
    }
   ],
   "source": [
    "best_model_lr =  LogisticRegression(C=25,\n",
    "                                    tol=0.1,\n",
    "                                    solver='newton-cg',\n",
    "                                    class_weight='balanced',\n",
    "                                    random_state=ML_RND_GNR_SEED_VALUE_CONST)\n",
    "    \n",
    "best_model_lr.fit(X_tf_idf_training, Y_training)"
   ]
  },
  {
   "cell_type": "code",
   "execution_count": 47,
   "id": "88a630e6-5332-4473-83d4-270abd950a17",
   "metadata": {},
   "outputs": [
    {
     "name": "stdout",
     "output_type": "stream",
     "text": [
      "accuracy:  0.93\n",
      "f1_score:  0.72\n",
      "auc_roc:   0.96\n",
      "\n",
      "              precision    recall  f1-score   support\n",
      "\n",
      "           0       0.98      0.94      0.96     28661\n",
      "           1       0.63      0.85      0.72      3245\n",
      "\n",
      "    accuracy                           0.93     31906\n",
      "   macro avg       0.81      0.90      0.84     31906\n",
      "weighted avg       0.95      0.93      0.94     31906\n",
      "\n"
     ]
    }
   ],
   "source": [
    "get_info_results(best_model_lr, X_tf_idf_validation, Y_validation)"
   ]
  },
  {
   "cell_type": "code",
   "execution_count": 48,
   "id": "dee671ae-da85-48fd-93a7-cc8cbc1d1bc8",
   "metadata": {},
   "outputs": [
    {
     "data": {
      "image/png": "[encoded data removed]",
      "text/plain": [
       "<Figure size 576x432 with 2 Axes>"
      ]
     },
     "metadata": {
      "needs_background": "light"
     },
     "output_type": "display_data"
    }
   ],
   "source": [
    "fig, ax = plt.subplots(figsize=(8,6)) \n",
    "plot_confusion_matrix(best_model_lr, X_tf_idf_validation, Y_validation, cmap=plt.cm.Blues, ax=ax);"
   ]
  },
  {
   "cell_type": "code",
   "execution_count": 49,
   "id": "12d0a3a9-fd5d-4ba3-b8fd-eb4f24ecc7e6",
   "metadata": {},
   "outputs": [],
   "source": [
    "results.loc[1,'grid_search_time'] = 10\n",
    "results.loc[1,'best_score_F1'] = 0.81\n",
    "results.loc[1,'accuracy'] = 0.93\n",
    "results.loc[1,'F1_score'] = 0.72\n",
    "results.loc[1,'auc_roc'] = 0.96"
   ]
  },
  {
   "cell_type": "markdown",
   "id": "588fc950-819a-40ee-b944-25c7e820a901",
   "metadata": {},
   "source": [
    "### CatBoost Classifier"
   ]
  },
  {
   "cell_type": "markdown",
   "id": "e268051c-6c78-4f87-b2aa-2578970b1108",
   "metadata": {},
   "source": [
    "- **обучение**"
   ]
  },
  {
   "cell_type": "code",
   "execution_count": 50,
   "id": "6c617f23-0dad-4907-b552-51f322474267",
   "metadata": {},
   "outputs": [],
   "source": [
    "cbr_hyperparameters_search_space = dict()\n",
    "cbr_hyperparameters_search_space['depth'] = [3, 7]\n",
    "cbr_hyperparameters_search_space['iterations'] = [3500]\n",
    "cbr_hyperparameters_search_space['learning_rate'] = [0.05]\n",
    "cbr_hyperparameters_search_space['eval_metric'] = ['F1']\n",
    "cbr_hyperparameters_search_space['random_state'] = [ML_RND_GNR_SEED_VALUE_CONST]"
   ]
  },
  {
   "cell_type": "code",
   "execution_count": 52,
   "id": "2dbb2740-1142-4fcf-a4e2-1b997b2532ed",
   "metadata": {},
   "outputs": [
    {
     "name": "stdout",
     "output_type": "stream",
     "text": [
      "Старт поиска лучших параметров для CatBoost classifier...\n",
      "0:\tlearn: 0.3529213\ttotal: 95.6ms\tremaining: 5m 34s\n",
      "2500:\tlearn: 0.8710778\ttotal: 6m 14s\tremaining: 2m 29s\n",
      "3499:\tlearn: 0.8882162\ttotal: 8m 43s\tremaining: 0us\n",
      "0:\tlearn: 0.4293261\ttotal: 156ms\tremaining: 9m 4s\n",
      "2500:\tlearn: 0.8738350\ttotal: 6m 17s\tremaining: 2m 30s\n",
      "3499:\tlearn: 0.8897364\ttotal: 8m 45s\tremaining: 0us\n",
      "0:\tlearn: 0.5250149\ttotal: 666ms\tremaining: 38m 50s\n",
      "2500:\tlearn: 0.9420415\ttotal: 17m 41s\tremaining: 7m 4s\n",
      "3499:\tlearn: 0.9917201\ttotal: 23m 19s\tremaining: 0us\n",
      "0:\tlearn: 0.4357977\ttotal: 701ms\tremaining: 40m 54s\n",
      "2500:\tlearn: 0.9365991\ttotal: 17m 43s\tremaining: 7m 4s\n",
      "3499:\tlearn: 0.9918194\ttotal: 23m 19s\tremaining: 0us\n",
      "0:\tlearn: 0.5234909\ttotal: 368ms\tremaining: 21m 27s\n",
      "2500:\tlearn: 0.9098698\ttotal: 12m 13s\tremaining: 4m 53s\n",
      "3499:\tlearn: 0.9304946\ttotal: 17m 5s\tremaining: 0us\n",
      "Оптимальные параметры для CatBoost classifier найдены ...\n"
     ]
    }
   ],
   "source": [
    "start = time.time()\n",
    "print('Старт поиска лучших параметров для CatBoost classifier...')\n",
    "\n",
    "model_cbr =  CatBoostClassifier(verbose=2500)\n",
    "gs_cbr = GridSearchCV(model_cbr, \n",
    "                      cbr_hyperparameters_search_space, \n",
    "                      n_jobs=-1, \n",
    "                      scoring='f1',\n",
    "                      cv=ML_CROSS_VALIDATION_FOLDS_NUMBER_CONST)\n",
    "\n",
    "gs_result = gs_cbr.fit(X_tf_idf_training, Y_training)\n",
    "print('Оптимальные параметры для CatBoost classifier найдены ...')      \n",
    "\n",
    "_time = time.time() - start"
   ]
  },
  {
   "cell_type": "code",
   "execution_count": 53,
   "id": "dd2e5083-751a-4a2c-bdaf-170dd78dec4b",
   "metadata": {},
   "outputs": [
    {
     "name": "stdout",
     "output_type": "stream",
     "text": [
      "Время подбора                 2431.0 сек.\n",
      "Лучший результат:             0.82\n",
      "Лучшая модель с параметрами:  {'depth': 7, 'eval_metric': 'F1', 'iterations': 3500, 'learning_rate': 0.05, 'random_state': 424}\n"
     ]
    }
   ],
   "source": [
    "get_gs_results(_time, gs_result.best_score_, gs_result.best_params_)"
   ]
  },
  {
   "cell_type": "markdown",
   "id": "beb6959c-bb0a-4299-ae61-ab86721c20d0",
   "metadata": {},
   "source": [
    "- **проверка качества модели на валидационной выборке**"
   ]
  },
  {
   "cell_type": "code",
   "execution_count": 54,
   "id": "a2f3e644-e270-482b-ae4b-d9512c2bc388",
   "metadata": {},
   "outputs": [
    {
     "name": "stdout",
     "output_type": "stream",
     "text": [
      "0:\tlearn: 0.5234909\ttotal: 301ms\tremaining: 17m 34s\n",
      "500:\tlearn: 0.8211306\ttotal: 2m 29s\tremaining: 14m 51s\n",
      "1000:\tlearn: 0.8626089\ttotal: 4m 56s\tremaining: 12m 19s\n",
      "1500:\tlearn: 0.8830252\ttotal: 7m 22s\tremaining: 9m 49s\n",
      "2000:\tlearn: 0.8963641\ttotal: 9m 48s\tremaining: 7m 21s\n",
      "2500:\tlearn: 0.9098698\ttotal: 12m 14s\tremaining: 4m 53s\n",
      "3000:\tlearn: 0.9202247\ttotal: 14m 40s\tremaining: 2m 26s\n",
      "3499:\tlearn: 0.9304946\ttotal: 17m 6s\tremaining: 0us\n"
     ]
    },
    {
     "data": {
      "text/plain": [
       "<catboost.core.CatBoostClassifier at 0x7f3d7840b130>"
      ]
     },
     "execution_count": 54,
     "metadata": {},
     "output_type": "execute_result"
    }
   ],
   "source": [
    "best_model_cbr = CatBoostClassifier(verbose=500,\n",
    "                                    iterations=3500,\n",
    "                                    depth=7,\n",
    "                                    learning_rate=0.05,\n",
    "                                    eval_metric='F1',\n",
    "                                    random_state=ML_RND_GNR_SEED_VALUE_CONST)\n",
    "best_model_cbr.fit(X_tf_idf_training, Y_training)"
   ]
  },
  {
   "cell_type": "code",
   "execution_count": 55,
   "id": "e10c3104-1774-4505-8649-2d7240b4cf78",
   "metadata": {},
   "outputs": [
    {
     "name": "stdout",
     "output_type": "stream",
     "text": [
      "accuracy:  0.96\n",
      "f1_score:  0.79\n",
      "auc_roc:   0.97\n",
      "\n",
      "              precision    recall  f1-score   support\n",
      "\n",
      "           0       0.98      0.98      0.98     28661\n",
      "           1       0.81      0.78      0.79      3245\n",
      "\n",
      "    accuracy                           0.96     31906\n",
      "   macro avg       0.89      0.88      0.89     31906\n",
      "weighted avg       0.96      0.96      0.96     31906\n",
      "\n"
     ]
    }
   ],
   "source": [
    "get_info_results(best_model_cbr, X_tf_idf_validation, Y_validation)"
   ]
  },
  {
   "cell_type": "code",
   "execution_count": 56,
   "id": "6366e2a7-542c-49f4-8906-31d5c0b26c7a",
   "metadata": {
    "tags": []
   },
   "outputs": [
    {
     "data": {
      "image/png": "[encoded data removed]",
      "text/plain": [
       "<Figure size 576x432 with 2 Axes>"
      ]
     },
     "metadata": {
      "needs_background": "light"
     },
     "output_type": "display_data"
    }
   ],
   "source": [
    "fig, ax = plt.subplots(figsize=(8,6)) \n",
    "plot_confusion_matrix(best_model_cbr, X_tf_idf_validation, Y_validation, cmap=plt.cm.Blues, ax=ax);"
   ]
  },
  {
   "cell_type": "code",
   "execution_count": 57,
   "id": "ea27d2c4-e7b7-4a45-ba69-e22bff32d455",
   "metadata": {},
   "outputs": [],
   "source": [
    "results.loc[2,'grid_search_time'] = 2431\n",
    "results.loc[2,'best_score_F1'] = 0.82\n",
    "results.loc[2,'accuracy'] = 0.96\n",
    "results.loc[2,'F1_score'] = 0.79\n",
    "results.loc[2,'auc_roc'] = 0.97"
   ]
  },
  {
   "cell_type": "markdown",
   "id": "0a34cf64-a388-4270-b9a1-f90174958892",
   "metadata": {},
   "source": [
    "### LGBM Classifier"
   ]
  },
  {
   "cell_type": "markdown",
   "id": "e1c742e2-3ec7-498e-8f03-6be74e1fa9d6",
   "metadata": {},
   "source": [
    "- **обучение**"
   ]
  },
  {
   "cell_type": "code",
   "execution_count": 58,
   "id": "430aa383-9533-42ee-a3dd-cad99977fd62",
   "metadata": {},
   "outputs": [],
   "source": [
    "lgb_hyperparameters_search_space = dict()\n",
    "lgb_hyperparameters_search_space['boosting_type'] = ['dart', 'gbdt', 'goss']\n",
    "lgb_hyperparameters_search_space['max_depth'] = [2, 4, 6, 8, 10, 12]\n",
    "lgb_hyperparameters_search_space['num_leaves'] = [10, 50, 100]"
   ]
  },
  {
   "cell_type": "code",
   "execution_count": 59,
   "id": "c5c86073-26f3-4056-84ed-f8d00b386658",
   "metadata": {},
   "outputs": [
    {
     "name": "stdout",
     "output_type": "stream",
     "text": [
      "Старт поиска лучших параметров для LGBM classifier...\n",
      "Оптимальные параметры для LGBM classifier найдены ...\n"
     ]
    }
   ],
   "source": [
    "start = time.time()\n",
    "print('Старт поиска лучших параметров для LGBM classifier...')\n",
    "\n",
    "lgb_model = LGBMClassifier(verbosity=-1) \n",
    "gs_lgb = GridSearchCV(lgb_model, \n",
    "                      lgb_hyperparameters_search_space, \n",
    "                      n_jobs=-1, \n",
    "                      scoring='f1',\n",
    "                      cv=ML_CROSS_VALIDATION_FOLDS_NUMBER_CONST)\n",
    "\n",
    "gs_result = gs_lgb.fit(X_tf_idf_training, Y_training)\n",
    "print('Оптимальные параметры для LGBM classifier найдены ...')   \n",
    "\n",
    "_time = time.time() - start"
   ]
  },
  {
   "cell_type": "code",
   "execution_count": 60,
   "id": "96e7b929-ac35-4047-8590-c5a78838d6dd",
   "metadata": {},
   "outputs": [
    {
     "name": "stdout",
     "output_type": "stream",
     "text": [
      "Время подбора                 113.0 сек.\n",
      "Лучший результат:             0.76\n",
      "Лучшая модель с параметрами:  {'boosting_type': 'gbdt', 'max_depth': 12, 'num_leaves': 50}\n"
     ]
    }
   ],
   "source": [
    "get_gs_results(_time, gs_result.best_score_, gs_result.best_params_)"
   ]
  },
  {
   "cell_type": "markdown",
   "id": "e07e9a7f-ba9c-4f39-8036-0762b5aafac4",
   "metadata": {},
   "source": [
    "- **проверка качества модели на валидационной выборке**"
   ]
  },
  {
   "cell_type": "code",
   "execution_count": 61,
   "id": "572c8e7a-f930-4422-87d7-4e9b81bece18",
   "metadata": {},
   "outputs": [
    {
     "data": {
      "text/html": [
       "<style>#sk-container-id-3 {color: black;background-color: white;}#sk-container-id-3 pre{padding: 0;}#sk-container-id-3 div.sk-toggleable {background-color: white;}#sk-container-id-3 label.sk-toggleable__label {cursor: pointer;display: block;width: 100%;margin-bottom: 0;padding: 0.3em;box-sizing: border-box;text-align: center;}#sk-container-id-3 label.sk-toggleable__label-arrow:before {content: \"▸\";float: left;margin-right: 0.25em;color: #696969;}#sk-container-id-3 label.sk-toggleable__label-arrow:hover:before {color: black;}#sk-container-id-3 div.sk-estimator:hover label.sk-toggleable__label-arrow:before {color: black;}#sk-container-id-3 div.sk-toggleable__content {max-height: 0;max-width: 0;overflow: hidden;text-align: left;background-color: #f0f8ff;}#sk-container-id-3 div.sk-toggleable__content pre {margin: 0.2em;color: black;border-radius: 0.25em;background-color: #f0f8ff;}#sk-container-id-3 input.sk-toggleable__control:checked~div.sk-toggleable__content {max-height: 200px;max-width: 100%;overflow: auto;}#sk-container-id-3 input.sk-toggleable__control:checked~label.sk-toggleable__label-arrow:before {content: \"▾\";}#sk-container-id-3 div.sk-estimator input.sk-toggleable__control:checked~label.sk-toggleable__label {background-color: #d4ebff;}#sk-container-id-3 div.sk-label input.sk-toggleable__control:checked~label.sk-toggleable__label {background-color: #d4ebff;}#sk-container-id-3 input.sk-hidden--visually {border: 0;clip: rect(1px 1px 1px 1px);clip: rect(1px, 1px, 1px, 1px);height: 1px;margin: -1px;overflow: hidden;padding: 0;position: absolute;width: 1px;}#sk-container-id-3 div.sk-estimator {font-family: monospace;background-color: #f0f8ff;border: 1px dotted black;border-radius: 0.25em;box-sizing: border-box;margin-bottom: 0.5em;}#sk-container-id-3 div.sk-estimator:hover {background-color: #d4ebff;}#sk-container-id-3 div.sk-parallel-item::after {content: \"\";width: 100%;border-bottom: 1px solid gray;flex-grow: 1;}#sk-container-id-3 div.sk-label:hover label.sk-toggleable__label {background-color: #d4ebff;}#sk-container-id-3 div.sk-serial::before {content: \"\";position: absolute;border-left: 1px solid gray;box-sizing: border-box;top: 0;bottom: 0;left: 50%;z-index: 0;}#sk-container-id-3 div.sk-serial {display: flex;flex-direction: column;align-items: center;background-color: white;padding-right: 0.2em;padding-left: 0.2em;position: relative;}#sk-container-id-3 div.sk-item {position: relative;z-index: 1;}#sk-container-id-3 div.sk-parallel {display: flex;align-items: stretch;justify-content: center;background-color: white;position: relative;}#sk-container-id-3 div.sk-item::before, #sk-container-id-3 div.sk-parallel-item::before {content: \"\";position: absolute;border-left: 1px solid gray;box-sizing: border-box;top: 0;bottom: 0;left: 50%;z-index: -1;}#sk-container-id-3 div.sk-parallel-item {display: flex;flex-direction: column;z-index: 1;position: relative;background-color: white;}#sk-container-id-3 div.sk-parallel-item:first-child::after {align-self: flex-end;width: 50%;}#sk-container-id-3 div.sk-parallel-item:last-child::after {align-self: flex-start;width: 50%;}#sk-container-id-3 div.sk-parallel-item:only-child::after {width: 0;}#sk-container-id-3 div.sk-dashed-wrapped {border: 1px dashed gray;margin: 0 0.4em 0.5em 0.4em;box-sizing: border-box;padding-bottom: 0.4em;background-color: white;}#sk-container-id-3 div.sk-label label {font-family: monospace;font-weight: bold;display: inline-block;line-height: 1.2em;}#sk-container-id-3 div.sk-label-container {text-align: center;}#sk-container-id-3 div.sk-container {/* jupyter's `normalize.less` sets `[hidden] { display: none; }` but bootstrap.min.css set `[hidden] { display: none !important; }` so we also need the `!important` here to be able to override the default hidden behavior on the sphinx rendered scikit-learn.org. See: https://github.com/scikit-learn/scikit-learn/issues/21755 */display: inline-block !important;position: relative;}#sk-container-id-3 div.sk-text-repr-fallback {display: none;}</style><div id=\"sk-container-id-3\" class=\"sk-top-container\"><div class=\"sk-text-repr-fallback\"><pre>LGBMClassifier(max_depth=12, num_leaves=50)</pre><b>In a Jupyter environment, please rerun this cell to show the HTML representation or trust the notebook. <br />On GitHub, the HTML representation is unable to render, please try loading this page with nbviewer.org.</b></div><div class=\"sk-container\" hidden><div class=\"sk-item\"><div class=\"sk-estimator sk-toggleable\"><input class=\"sk-toggleable__control sk-hidden--visually\" id=\"sk-estimator-id-3\" type=\"checkbox\" checked><label for=\"sk-estimator-id-3\" class=\"sk-toggleable__label sk-toggleable__label-arrow\">LGBMClassifier</label><div class=\"sk-toggleable__content\"><pre>LGBMClassifier(max_depth=12, num_leaves=50)</pre></div></div></div></div></div>"
      ],
      "text/plain": [
       "LGBMClassifier(max_depth=12, num_leaves=50)"
      ]
     },
     "execution_count": 61,
     "metadata": {},
     "output_type": "execute_result"
    }
   ],
   "source": [
    "best_model_lgb = LGBMClassifier(n_jobs=-1,\n",
    "                                boosting_type = 'gbdt',\n",
    "                                max_depth = 12,\n",
    "                                num_leaves = 50)\n",
    "                         \n",
    "best_model_lgb.fit(X_tf_idf_training, Y_training)  "
   ]
  },
  {
   "cell_type": "code",
   "execution_count": 62,
   "id": "7d01958b-5825-4be6-97a4-0024ad0dd3a5",
   "metadata": {},
   "outputs": [
    {
     "name": "stdout",
     "output_type": "stream",
     "text": [
      "accuracy:  0.96\n",
      "f1_score:  0.76\n",
      "auc_roc:   0.96\n",
      "\n",
      "              precision    recall  f1-score   support\n",
      "\n",
      "           0       0.96      0.99      0.98     28661\n",
      "           1       0.86      0.67      0.76      3245\n",
      "\n",
      "    accuracy                           0.96     31906\n",
      "   macro avg       0.91      0.83      0.87     31906\n",
      "weighted avg       0.95      0.96      0.95     31906\n",
      "\n"
     ]
    }
   ],
   "source": [
    "get_info_results(best_model_lgb, X_tf_idf_validation, Y_validation)"
   ]
  },
  {
   "cell_type": "code",
   "execution_count": 63,
   "id": "1adb4584-1914-49ba-9b6e-d512cd6ccb33",
   "metadata": {},
   "outputs": [
    {
     "data": {
      "image/png": "[encoded data removed]",
      "text/plain": [
       "<Figure size 576x432 with 2 Axes>"
      ]
     },
     "metadata": {
      "needs_background": "light"
     },
     "output_type": "display_data"
    }
   ],
   "source": [
    "fig, ax = plt.subplots(figsize=(8,6)) \n",
    "plot_confusion_matrix(best_model_lgb, X_tf_idf_validation, Y_validation, cmap=plt.cm.Blues, ax=ax);"
   ]
  },
  {
   "cell_type": "code",
   "execution_count": 65,
   "id": "0c0e56ed-3e63-41de-8233-fd3188887cbc",
   "metadata": {},
   "outputs": [],
   "source": [
    "results.loc[3,'grid_search_time'] = 113\n",
    "results.loc[3,'best_score_F1'] = 0.76\n",
    "results.loc[3,'accuracy'] = 0.96\n",
    "results.loc[3,'F1_score'] = 0.76\n",
    "results.loc[3,'auc_roc'] = 0.96"
   ]
  },
  {
   "cell_type": "markdown",
   "id": "89621f87-1dea-408c-a6b9-c35a6aad032a",
   "metadata": {},
   "source": [
    "### Выводы"
   ]
  },
  {
   "cell_type": "markdown",
   "id": "05c1f0bf-dc24-47fb-b452-2370125f53c9",
   "metadata": {},
   "source": [
    "Посмотрим на итоговые метрики и выберем лучшую модель."
   ]
  },
  {
   "cell_type": "code",
   "execution_count": 64,
   "id": "87a89d14-9efe-4365-b042-0e22e81fe608",
   "metadata": {},
   "outputs": [
    {
     "data": {
      "image/png": "[encoded data removed]",
      "text/plain": [
       "<Figure size 720x576 with 1 Axes>"
      ]
     },
     "metadata": {
      "needs_background": "light"
     },
     "output_type": "display_data"
    }
   ],
   "source": [
    "_actual_predict_proba_knn =best_model_knn.predict_proba(X_tf_idf_validation)\n",
    "_actual_predict_proba_values_knn =_actual_predict_proba_knn[:,1]\n",
    "fpr_knn, tpr_knn, thresholds_knn = roc_curve(Y_validation, _actual_predict_proba_values_knn, pos_label=1)\n",
    "\n",
    "_actual_predict_proba_lr =best_model_lr.predict_proba(X_tf_idf_validation)\n",
    "_actual_predict_proba_values_lr =_actual_predict_proba_lr[:,1]\n",
    "fpr_lr, tpr_lr, thresholds_lr = roc_curve(Y_validation, _actual_predict_proba_values_lr, pos_label=1) \n",
    "\n",
    "_actual_predict_proba_cbr =best_model_cbr.predict_proba(X_tf_idf_validation)\n",
    "_actual_predict_proba_values_cbr =_actual_predict_proba_cbr[:,1]\n",
    "fpr_cbr, tpr_cbr, thresholds_cbr = roc_curve(Y_validation, _actual_predict_proba_values_cbr, pos_label=1) \n",
    "\n",
    "_actual_predict_proba_lgb =best_model_lgb.predict_proba(X_tf_idf_validation)\n",
    "_actual_predict_proba_values_lgb =_actual_predict_proba_lgb[:,1]\n",
    "fpr_lgb, tpr_lgb, thresholds_lgb = roc_curve(Y_validation, _actual_predict_proba_values_lgb, pos_label=1) \n",
    "\n",
    "\n",
    "fig, ax = plt.subplots(figsize=(10,8))   \n",
    "plt.plot(fpr_knn, tpr_knn, color='cornflowerblue') \n",
    "plt.plot(fpr_lr, tpr_lr, color='slateblue') \n",
    "plt.plot(fpr_cbr, tpr_cbr, color='turquoise') \n",
    "plt.plot(fpr_lgb, tpr_lgb, color='gray')\n",
    "plt.plot([0, 1], [0, 1], color='violet') \n",
    "plt.xlim([-0.05, 1.0]) \n",
    "plt.ylim([0.0, 1.05]) \n",
    "plt.legend(('KNN','Logistic Regression','Cat Boost', 'LGBM','Случайная модель'),\n",
    "           loc= 'lower right') \n",
    "plt.xlabel('False Positive Rate') \n",
    "plt.ylabel('True Positive Rate') \n",
    "plt.title('ROC curve');"
   ]
  },
  {
   "cell_type": "code",
   "execution_count": 67,
   "id": "b05946b1-518f-4b8f-a484-d2feccac6ec8",
   "metadata": {},
   "outputs": [
    {
     "data": {
      "text/html": [
       "<div>\n",
       "<style scoped>\n",
       "    .dataframe tbody tr th:only-of-type {\n",
       "        vertical-align: middle;\n",
       "    }\n",
       "\n",
       "    .dataframe tbody tr th {\n",
       "        vertical-align: top;\n",
       "    }\n",
       "\n",
       "    .dataframe thead th {\n",
       "        text-align: right;\n",
       "    }\n",
       "</style>\n",
       "<table border=\"1\" class=\"dataframe\">\n",
       "  <thead>\n",
       "    <tr style=\"text-align: right;\">\n",
       "      <th></th>\n",
       "      <th>model_name</th>\n",
       "      <th>grid_search_time</th>\n",
       "      <th>best_score_F1</th>\n",
       "      <th>accuracy</th>\n",
       "      <th>F1_score</th>\n",
       "      <th>auc_roc</th>\n",
       "    </tr>\n",
       "  </thead>\n",
       "  <tbody>\n",
       "    <tr>\n",
       "      <th>0</th>\n",
       "      <td>KNN_Classifier</td>\n",
       "      <td>215.0</td>\n",
       "      <td>0.38</td>\n",
       "      <td>0.84</td>\n",
       "      <td>0.29</td>\n",
       "      <td>0.66</td>\n",
       "    </tr>\n",
       "    <tr>\n",
       "      <th>3</th>\n",
       "      <td>LGBM_Classifier</td>\n",
       "      <td>113.0</td>\n",
       "      <td>0.76</td>\n",
       "      <td>0.96</td>\n",
       "      <td>0.76</td>\n",
       "      <td>0.96</td>\n",
       "    </tr>\n",
       "    <tr>\n",
       "      <th>1</th>\n",
       "      <td>Logistic_Regression</td>\n",
       "      <td>10.0</td>\n",
       "      <td>0.81</td>\n",
       "      <td>0.93</td>\n",
       "      <td>0.72</td>\n",
       "      <td>0.96</td>\n",
       "    </tr>\n",
       "    <tr>\n",
       "      <th>2</th>\n",
       "      <td>CatBoost_Classifier</td>\n",
       "      <td>2431.0</td>\n",
       "      <td>0.82</td>\n",
       "      <td>0.96</td>\n",
       "      <td>0.79</td>\n",
       "      <td>0.97</td>\n",
       "    </tr>\n",
       "  </tbody>\n",
       "</table>\n",
       "</div>"
      ],
      "text/plain": [
       "            model_name  grid_search_time  best_score_F1  accuracy  F1_score  \\\n",
       "0       KNN_Classifier             215.0           0.38      0.84      0.29   \n",
       "3      LGBM_Classifier             113.0           0.76      0.96      0.76   \n",
       "1  Logistic_Regression              10.0           0.81      0.93      0.72   \n",
       "2  CatBoost_Classifier            2431.0           0.82      0.96      0.79   \n",
       "\n",
       "   auc_roc  \n",
       "0     0.66  \n",
       "3     0.96  \n",
       "1     0.96  \n",
       "2     0.97  "
      ]
     },
     "execution_count": 67,
     "metadata": {},
     "output_type": "execute_result"
    }
   ],
   "source": [
    "results.sort_values(by='best_score_F1')"
   ]
  },
  {
   "cell_type": "markdown",
   "id": "2cdb7aac-405c-4f28-9b1f-00fca4e3e1cc",
   "metadata": {},
   "source": [
    "Из наших четырех моделей три **CatBoost_Classifier, Logistic_Regression, LGBM_Classifier**  удовлетворяют условиям проекта - метрика **best_score_F1** не меньше **0.75**.<br>\n",
    "Модель **CatBoost_Classifier** имеет самый высокий показатель best_score_F1 = **0.82**<br>\n",
    "По метрике **auc_roc** лидируют модели **CatBoost_Classifier, Logistic_Regression**, что наглядно видно на графике **ROC curve** выше.<br>\n",
    "\n",
    "Матрица ошибок **plot_confusion_matrix** показывает, что у **Logistic_Regression**:\n",
    "- самое большое количество верно предсказанных токсичных комментариев 2751,\n",
    "- самое низкое количество ложноотрицательных предсказаний 494,\n",
    "- но при этом есть большое количество ложноположительных предсказаний 1626 (модель предсказала токсичный комментарий, а он таковым не являлся).\n",
    "\n",
    "Матрица ошибок **plot_confusion_matrix** у **CatBoost_Classifier** выглядит немного иначе:\n",
    "- так же большое количество верно предсказанных токсичных комментариев 2534 (2ое место после Logistic_Regression),\n",
    "- достаточно низкое количество ложноотрицательных предсказаний 711 (2ое место после Logistic_Regression),\n",
    "- но при этом есть большое количество ложноположительных предсказаний 597 (2ое место после LGBM_Classifier).\n",
    "\n",
    "То есть Logistic_Regression пропустит 494 негативных комментариев и 1626 лишних отметит токсичными и отправит на модерацию.\n",
    "CatBoost_Classifier пропустит 711 негативных комментариев и 597 лишних отметит токсичными и отправит на модерацию.\n",
    "CatBoost_Classifier, на мой взгляд, некая золотая середина среди всех наших моделей.\n",
    "\n",
    "Так же следует отметить, что у **Logistic_Regression** очень быстрое время подбора оптимальных гиперпараметров и скорость обучения.<br>\n",
    "У **CatBoost_Classifier** метрики лучше, чем у **Logistic_Regression**, но очень большое время обучения.\n",
    "\n",
    "Если скорость обучения нам не приоритетна, то выберем в качестве лучшей модели **CatBoost_Classifier**<br>\n",
    "Далее проверим ее качество на тестовой выборке и сравним метрики с константной моделью."
   ]
  },
  {
   "cell_type": "markdown",
   "id": "70480536-39c8-4016-ab5a-c1eb41e30444",
   "metadata": {},
   "source": [
    "## Дополнительная проверка модели"
   ]
  },
  {
   "cell_type": "markdown",
   "id": "cf19a406-6dcd-41ba-9d0e-ebe3a4355573",
   "metadata": {},
   "source": [
    "Для проверки моделей на адекватность возьмем фиктивный классификатор DummyClassifier.<br>\n",
    "Для наших целей используем две стратегии:\n",
    "- **Сonstant** - константа: всегда предсказывает одно и то же число - выберем всегда = 1 - любой комментарый - токсичный.\n",
    "- **Most_frequent** - cамый частый: классификатор всегда предсказывает наиболее частую метку класса в обучающих данных - у нас это будет 0 - нетоксичный комментарий."
   ]
  },
  {
   "cell_type": "code",
   "execution_count": 70,
   "id": "ffd9bcc7-54ee-4236-99a6-ff044bdda5ce",
   "metadata": {},
   "outputs": [
    {
     "name": "stdout",
     "output_type": "stream",
     "text": [
      "Strategy -- 'constant = 1': 0.10170500846235818\n"
     ]
    }
   ],
   "source": [
    "model_dummy_classifier_c = DummyClassifier(strategy=\"constant\", \n",
    "                                           random_state=ML_RND_GNR_SEED_VALUE_CONST,\n",
    "                                           constant=1)\n",
    "\n",
    "model_dummy_classifier_c.fit(X_tf_idf_training, Y_training)\n",
    "print(\"Strategy -- 'constant = 1': {}\".format(model_dummy_classifier_c.score(X_tf_idf_validation, Y_validation)))"
   ]
  },
  {
   "cell_type": "code",
   "execution_count": 71,
   "id": "beb3d064-d80a-4a00-a8ad-5483065e97dd",
   "metadata": {},
   "outputs": [
    {
     "name": "stdout",
     "output_type": "stream",
     "text": [
      "accuracy:  0.1\n",
      "f1_score:  0.18\n",
      "auc_roc:   0.5\n",
      "\n",
      "              precision    recall  f1-score   support\n",
      "\n",
      "           0       0.00      0.00      0.00     28661\n",
      "           1       0.10      1.00      0.18      3245\n",
      "\n",
      "    accuracy                           0.10     31906\n",
      "   macro avg       0.05      0.50      0.09     31906\n",
      "weighted avg       0.01      0.10      0.02     31906\n",
      "\n"
     ]
    },
    {
     "data": {
      "image/png": "[encoded data removed]",
      "text/plain": [
       "<Figure size 576x432 with 2 Axes>"
      ]
     },
     "metadata": {
      "needs_background": "light"
     },
     "output_type": "display_data"
    }
   ],
   "source": [
    "get_info_results(model_dummy_classifier_c, X_tf_idf_validation, Y_validation)\n",
    "\n",
    "fig, ax = plt.subplots(figsize=(8,6)) \n",
    "plot_confusion_matrix(model_dummy_classifier_c, X_tf_idf_validation, Y_validation, cmap=plt.cm.Blues, ax=ax);"
   ]
  },
  {
   "cell_type": "code",
   "execution_count": 74,
   "id": "f72d3a1e-b4be-42e9-850b-78e01a688537",
   "metadata": {},
   "outputs": [
    {
     "name": "stdout",
     "output_type": "stream",
     "text": [
      "Strategy -- 'most_requent': 0.8982949915376418\n"
     ]
    }
   ],
   "source": [
    "model_dummy_classifier_f = DummyClassifier(strategy=\"most_frequent\", \n",
    "                                         random_state=ML_RND_GNR_SEED_VALUE_CONST)\n",
    "\n",
    "model_dummy_classifier_f.fit(X_tf_idf_training, Y_training)\n",
    "print(\"Strategy -- 'most_requent': {}\".format(model_dummy_classifier_f.score(X_tf_idf_validation, Y_validation)))"
   ]
  },
  {
   "cell_type": "code",
   "execution_count": 75,
   "id": "5983ce70-3781-45cf-a703-672643ce7a0b",
   "metadata": {},
   "outputs": [
    {
     "name": "stdout",
     "output_type": "stream",
     "text": [
      "accuracy:  0.9\n",
      "f1_score:  0.0\n",
      "auc_roc:   0.5\n",
      "\n",
      "              precision    recall  f1-score   support\n",
      "\n",
      "           0       0.90      1.00      0.95     28661\n",
      "           1       0.00      0.00      0.00      3245\n",
      "\n",
      "    accuracy                           0.90     31906\n",
      "   macro avg       0.45      0.50      0.47     31906\n",
      "weighted avg       0.81      0.90      0.85     31906\n",
      "\n"
     ]
    },
    {
     "data": {
      "image/png": "[encoded data removed]",
      "text/plain": [
       "<Figure size 576x432 with 2 Axes>"
      ]
     },
     "metadata": {
      "needs_background": "light"
     },
     "output_type": "display_data"
    }
   ],
   "source": [
    "get_info_results(model_dummy_classifier_f, X_tf_idf_validation, Y_validation)\n",
    "\n",
    "fig, ax = plt.subplots(figsize=(8,6)) \n",
    "plot_confusion_matrix(model_dummy_classifier_f, X_tf_idf_validation, Y_validation, cmap=plt.cm.Blues, ax=ax);"
   ]
  },
  {
   "cell_type": "markdown",
   "id": "55ac842e-2420-4bd8-8b8a-1af7cc5a2dc1",
   "metadata": {},
   "source": [
    "## Тестирование лучшей модели **CatBoost Classifier**"
   ]
  },
  {
   "cell_type": "code",
   "execution_count": 76,
   "id": "c170bd07-9d61-4734-8123-f2b40bf86ae5",
   "metadata": {},
   "outputs": [
    {
     "name": "stdout",
     "output_type": "stream",
     "text": [
      "accuracy:  0.96\n",
      "f1_score:  0.79\n",
      "auc_roc:   0.97\n",
      "\n",
      "              precision    recall  f1-score   support\n",
      "\n",
      "           0       0.97      0.98      0.98     28662\n",
      "           1       0.81      0.77      0.79      3245\n",
      "\n",
      "    accuracy                           0.96     31907\n",
      "   macro avg       0.89      0.87      0.88     31907\n",
      "weighted avg       0.96      0.96      0.96     31907\n",
      "\n"
     ]
    },
    {
     "data": {
      "image/png": "[encoded data removed]",
      "text/plain": [
       "<Figure size 576x432 with 2 Axes>"
      ]
     },
     "metadata": {
      "needs_background": "light"
     },
     "output_type": "display_data"
    }
   ],
   "source": [
    "get_info_results(best_model_cbr, X_tf_idf_testing, Y_testing)\n",
    "\n",
    "fig, ax = plt.subplots(figsize=(8,6)) \n",
    "plot_confusion_matrix(best_model_cbr, X_tf_idf_testing, Y_testing, cmap=plt.cm.Blues, ax=ax);"
   ]
  },
  {
   "cell_type": "markdown",
   "id": "d5f1f1d2-4189-457c-87dc-7fbc2abb97f2",
   "metadata": {},
   "source": [
    "## Выводы"
   ]
  },
  {
   "cell_type": "markdown",
   "id": "99ca500f-fcb7-4b0f-8017-7468458f30cf",
   "metadata": {},
   "source": [
    "В задачи нашего проекта входило создание и обучение модели для классификации комментариев на позитивные и негативные. <br>\n",
    "При этом модель должна быть со значением метрики качества F1 не меньше 0.75.<br>\n",
    "\n",
    "**1. Мы загрузили и подготовили данные**\n",
    "- в исходных данных содержалось 2 столбца text и toxic, почти 160 тысяч строк без дубликатов\n",
    "- выполнили преобразование текста: убрали пунктуацию, привели текст к нижнему регистру, убрали стоп-слова, сделали лемматизацию\n",
    "- разделили датасет на выборки\n",
    "- убрали присутствующий изначально дисбаланс классов\n",
    "- определили важность слов для комментариев TF-IDF (преобразовали текст в векторное представление)\n",
    "\n",
    "**2. Создали 4 модели, подобрали для них оптимальные гиперпараметры и получили необходмые метрики**\n",
    "\n",
    "**KNN Classifier**\n",
    "- Время подбора оптимальных гиперпараметров **215** сек.\n",
    "- F1 best_score:  **0.38**\n",
    "- auc_roc:  **0.66**\n",
    "\n",
    "**Logistic Regression Classifier**\n",
    "- Время подбора оптимальных гиперпараметров **10** сек.\n",
    "- F1 best_score:  **0.81**\n",
    "- auc_roc:  **0.96**\n",
    "\n",
    "**CatBoost Classifier**\n",
    "- Время подбора оптимальных гиперпараметров **2431** сек.\n",
    "- F1 best_score:  **0.82** \n",
    "- auc_roc:  **0.97**\n",
    " \n",
    "**LGBM Classifier**\n",
    "- Время подбора оптимальных гиперпараметров **113** сек.\n",
    "- F1 best_score:  **0.76**\n",
    "- auc_roc:  **0.96**\n",
    "\n",
    "**Dummy Classifier**<br>\n",
    "- constant = 1 \n",
    "    - F1:  **0.18**\n",
    "    - auc_roc:  **0.50**\n",
    "- most_frequent = 0\n",
    "    - F1:  **0.00**\n",
    "    - auc_roc:  **0.50**\n",
    "\n",
    "**3. Выбрали лучшую модель и протестировали ее.**\n",
    "\n",
    "\n",
    "Из наших четырех моделей три **CatBoost_Classifier, Logistic_Regression, LGBM_Classifier** удовлетворяют условиям проекта - метрика F1 не меньше 0.75.<br>\n",
    "\n",
    "Сравнение метрик с константной моделью DummyClassifier говорит о том, что все три подходящие под условия проекта модели - адекватны и их предсказания точнее, чем постоянное предсказывание наиболее частого класса - позитивные комментарии, или постоянное предсказывание всегда токсичных комментариев.<br>\n",
    "\n",
    "Модель **CatBoost_Classifier** имеет самый высокий показатель **best_score_F1 = 0.82** и самую высокую метрику **auc_roc = 0.97** <br>\n",
    "Данную модель можно рекомендовать магазину «Викишоп» для классификации комментариев на позитивные и негативные.\n",
    "\n",
    "На тестовой выборке модель **CatBoost_Classifier** показала следующие значения метрик **F1 = 0.79**, **auc_roc = 0.97**.<br>"
   ]
  }
 ],
 "metadata": {
  "kernelspec": {
   "display_name": "Python 3 (ipykernel)",
   "language": "python",
   "name": "python3"
  },
  "language_info": {
   "codemirror_mode": {
    "name": "ipython",
    "version": 3
   },
   "file_extension": ".py",
   "mimetype": "text/x-python",
   "name": "python",
   "nbconvert_exporter": "python",
   "pygments_lexer": "ipython3",
   "version": "3.9.7"
  },
  "toc": {
   "base_numbering": 1,
   "nav_menu": {},
   "number_sections": true,
   "sideBar": true,
   "skip_h1_title": true,
   "title_cell": "Table of Contents",
   "title_sidebar": "Contents",
   "toc_cell": true,
   "toc_position": {},
   "toc_section_display": true,
   "toc_window_display": true
  },
  "toc-autonumbering": false
 },
 "nbformat": 4,
 "nbformat_minor": 5
}
