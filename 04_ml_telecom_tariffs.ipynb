{
 "cells": [
  {
   "cell_type": "markdown",
   "metadata": {},
   "source": [
    "# Анализ тарифных планов сотового оператора связи."
   ]
  },
  {
   "cell_type": "markdown",
   "metadata": {},
   "source": [
    "Компания «Мегалайн» — федеральный оператор сотовой связи, предлагает клиентам два тарифных плана: `«Смарт»` и `«Ультра»`. \n",
    "Для корректировки рекламного бюджета необходимо определить какой тариф является более прибыльным.\n",
    "\n",
    "Будем делать предварительный анализ тарифов на небольшой выборке клиентов. В нашем распоряжении данные 500 пользователей «Мегалайна»: кто они, откуда, каким тарифом пользуются, сколько звонков и сообщений каждый отправил за 2018 год. Проанализируем  поведение клиентов и сделаем вывод — какой же тариф лучше.\n",
    "\n",
    "**Цель исследования** — определить какой из двух тарифов более прибыльный.\n",
    "\n",
    "**Ход исследования:**\n",
    "\n",
    "Исследование будет проходить в несколько этапов:\n",
    "\n",
    "- Обзор данных.\n",
    "- Предобработка данных.\n",
    "- Анализ данных.\n",
    "- Проверка гипотезы.\n",
    "- Выводы.\n",
    "\n",
    "---------\n",
    "\n",
    "**Описание тарифов**<br>\n",
    "\n",
    "Тариф `«Смарт»`<br>\n",
    "- Ежемесячная плата: 550 рублей\n",
    "- Включено 500 минут разговора, 50 сообщений и 15 Гб интернет-трафика<br>\n",
    "Стоимость услуг сверх тарифного пакета:\n",
    "- минута разговора: 3 рубля\n",
    "- сообщение: 3 рубля\n",
    "- 1 Гб интернет-трафика: 200 рублей<br>\n",
    "\n",
    "Тариф `«Ультра»`<br>\n",
    "- Ежемесячная плата: 1950 рублей\n",
    "- Включено 3000 минут разговора, 1000 сообщений и 30 Гб интернет-трафика<br>\n",
    "Стоимость услуг сверх тарифного пакета:\n",
    "- минута разговора: 1 рубль\n",
    "- сообщение: 1 рубль\n",
    "- 1 Гб интернет-трафика: 150 рублей\n",
    "<br>\n",
    "\n",
    "Примечание:\n",
    "- «Мегалайн» всегда округляет секунды до минут, а мегабайты — до гигабайт.\n",
    "- Каждый звонок округляется отдельно: даже если он длился всего 1 секунду, будет засчитан как 1 минута.\n",
    "- Для веб-трафика отдельные сессии не считаются. Вместо этого общая сумма за месяц округляется в бо́льшую сторону. \n",
    "Если абонент использует 1025 мегабайт в этом месяце, с него возьмут плату за 2 гигабайта.\n",
    "\n",
    "-----------------\n",
    "**Описание данных**\n",
    "<br>\n",
    "\n",
    "Таблица **users** (информация о пользователях):\n",
    "- `user_id` — уникальный идентификатор пользователя\n",
    "- `first_name` — имя пользователя\n",
    "- `last_name` — фамилия пользователя\n",
    "- `age` — возраст пользователя (годы)\n",
    "- `reg_date` — дата подключения тарифа (день, месяц, год)\n",
    "- `churn_date` — дата прекращения пользования тарифом (если значение пропущено, то тариф ещё действовал на момент выгрузки данных)\n",
    "- `city` — город проживания пользователя\n",
    "- `tarif` — название тарифногоплана\n",
    "<br>\n",
    "\n",
    "Таблица **calls** (информация о звонках):\n",
    "- `id` — уникальный номер звонка\n",
    "- `call_date` — дата звонка\n",
    "- `duration` — длительность звонка в минутах\n",
    "- `user_id` — идентификатор пользователя, сделавшего звонок\n",
    "<br>\n",
    "\n",
    "Таблица **messages** (информация о сообщениях):\n",
    "- `id` — уникальный номер сообщения\n",
    "- `message_date` — дата сообщения\n",
    "- `user_id` — идентификатор пользователя, отправившего сообщение\n",
    "<br>\n",
    "\n",
    "Таблица **internet** (информация об интернет-сессиях):\n",
    "- `id` — уникальный номер сессии\n",
    "- `mb_used` — объём потраченного за сессию интернет-трафика (в мегабайтах)\n",
    "- `session_date` — дата интернет-сессии\n",
    "- `user_id` — идентификатор пользователя\n",
    "<br>\n",
    "\n",
    "Таблица **tariffs** (информация о тарифах):\n",
    "- `tariff_name` — название тарифа\n",
    "- `rub_monthly_fee` — ежемесячная абонентская плата в рублях\n",
    "- `minutes_included` — количество минут разговора в месяц, включённых в абонентскую плату\n",
    "- `messages_included` — количество сообщений в месяц, включённых в абонентскую плату\n",
    "- `mb_per_month_included` — объём интернет-трафика, включённого в абонентскую плату (в мегабайтах)\n",
    "- `rub_per_minute` — стоимость минуты разговора сверх тарифного пакета (например, если в тарифе 100 минут разговора в месяц, то со 101 минуты будет взиматься плата)\n",
    "- `rub_per_message` — стоимость отправки сообщения сверх тарифного пакета\n",
    "- `rub_per_gb` — стоимость дополнительного гигабайта интернет-трафика сверх тарифного пакета (1 гигабайт = 1024 мегабайта)\n"
   ]
  },
  {
   "cell_type": "markdown",
   "metadata": {},
   "source": [
    "## Обзор данных\n",
    "Для начала составим первое впечатление о данных, предоставленных для исследования. Импортируем необходимые библиотеки, читаем файлы с данными и сохраняем их в переменные. После этого выводим на экран общую информацию о таблицах, а также некоторые строки."
   ]
  },
  {
   "cell_type": "code",
   "execution_count": 1,
   "metadata": {},
   "outputs": [],
   "source": [
    "import warnings\n",
    "import numpy as np\n",
    "import pandas as pd\n",
    "from pprint import pprint\n",
    "\n",
    "import matplotlib\n",
    "import seaborn as sns\n",
    "import matplotlib.pyplot as plt\n",
    "import math \n",
    "from scipy import stats as st\n",
    "\n",
    "matplotlib.style.use('ggplot')\n",
    "pd.set_option('display.max_rows', None)\n",
    "pd.options.mode.chained_assignment = None\n",
    "warnings.filterwarnings(action=\"ignore\", message=\"Mean of empty slice\")"
   ]
  },
  {
   "cell_type": "code",
   "execution_count": 2,
   "metadata": {},
   "outputs": [],
   "source": [
    "def get_info_on_dataset(_df, _full = True):\n",
    "    \"\"\"\n",
    "    Get review on given dataset\n",
    "\n",
    "    :param _df: pandas dataframe with data\n",
    "    :param _full: True - provides full review, False - otherwise\n",
    "    :return: None\n",
    "    \"\"\" \n",
    "    CONST_IN_PERCENTAGES = float(100.0)\n",
    "    try:\n",
    "        _df.info()\n",
    "        df_review_info = pd.DataFrame({'Not_Valid_Values_in %': (_df.isnull().sum()/len(_df))*CONST_IN_PERCENTAGES} )\n",
    "        print(\"\")\n",
    "        print(\"Number of duplicated rows in the dataset: {}\".format(_df.duplicated().sum()))\n",
    "        print(\"\")\n",
    "        display(df_review_info.sort_values(by='Not_Valid_Values_in %', ascending=False))\n",
    "    except:\n",
    "        pprint(\"Can't provide review on given dataset\")\n",
    "    pass"
   ]
  },
  {
   "cell_type": "code",
   "execution_count": 3,
   "metadata": {},
   "outputs": [],
   "source": [
    "df_calls = pd.read_csv('/datasets/calls.csv', sep=',')\n",
    "df_internet = pd.read_csv('/datasets/internet.csv', sep=',')\n",
    "df_messages = pd.read_csv('/datasets/messages.csv', sep=',')\n",
    "df_tariffs = pd.read_csv('/datasets/tariffs.csv', sep=',')\n",
    "df_users = pd.read_csv('/datasets/users.csv', sep=',')\n",
    "\n",
    "# /datasets/calls.csv\n",
    "# /datasets/internet.csv\n",
    "# /datasets/messages.csv\n",
    "# /datasets/tariffs.csv\n",
    "# /datasets/users.csv"
   ]
  },
  {
   "cell_type": "markdown",
   "metadata": {},
   "source": [
    "--------------------\n",
    "### Dataset `Calls`"
   ]
  },
  {
   "cell_type": "code",
   "execution_count": 4,
   "metadata": {},
   "outputs": [
    {
     "name": "stdout",
     "output_type": "stream",
     "text": [
      "<class 'pandas.core.frame.DataFrame'>\n",
      "RangeIndex: 202607 entries, 0 to 202606\n",
      "Data columns (total 4 columns):\n",
      " #   Column     Non-Null Count   Dtype  \n",
      "---  ------     --------------   -----  \n",
      " 0   id         202607 non-null  object \n",
      " 1   call_date  202607 non-null  object \n",
      " 2   duration   202607 non-null  float64\n",
      " 3   user_id    202607 non-null  int64  \n",
      "dtypes: float64(1), int64(1), object(2)\n",
      "memory usage: 6.2+ MB\n",
      "\n",
      "Number of duplicated rows in the dataset: 0\n",
      "\n"
     ]
    },
    {
     "data": {
      "text/html": [
       "<div>\n",
       "<style scoped>\n",
       "    .dataframe tbody tr th:only-of-type {\n",
       "        vertical-align: middle;\n",
       "    }\n",
       "\n",
       "    .dataframe tbody tr th {\n",
       "        vertical-align: top;\n",
       "    }\n",
       "\n",
       "    .dataframe thead th {\n",
       "        text-align: right;\n",
       "    }\n",
       "</style>\n",
       "<table border=\"1\" class=\"dataframe\">\n",
       "  <thead>\n",
       "    <tr style=\"text-align: right;\">\n",
       "      <th></th>\n",
       "      <th>Not_Valid_Values_in %</th>\n",
       "    </tr>\n",
       "  </thead>\n",
       "  <tbody>\n",
       "    <tr>\n",
       "      <th>id</th>\n",
       "      <td>0.0</td>\n",
       "    </tr>\n",
       "    <tr>\n",
       "      <th>call_date</th>\n",
       "      <td>0.0</td>\n",
       "    </tr>\n",
       "    <tr>\n",
       "      <th>duration</th>\n",
       "      <td>0.0</td>\n",
       "    </tr>\n",
       "    <tr>\n",
       "      <th>user_id</th>\n",
       "      <td>0.0</td>\n",
       "    </tr>\n",
       "  </tbody>\n",
       "</table>\n",
       "</div>"
      ],
      "text/plain": [
       "           Not_Valid_Values_in %\n",
       "id                           0.0\n",
       "call_date                    0.0\n",
       "duration                     0.0\n",
       "user_id                      0.0"
      ]
     },
     "metadata": {},
     "output_type": "display_data"
    },
    {
     "data": {
      "text/html": [
       "<div>\n",
       "<style scoped>\n",
       "    .dataframe tbody tr th:only-of-type {\n",
       "        vertical-align: middle;\n",
       "    }\n",
       "\n",
       "    .dataframe tbody tr th {\n",
       "        vertical-align: top;\n",
       "    }\n",
       "\n",
       "    .dataframe thead th {\n",
       "        text-align: right;\n",
       "    }\n",
       "</style>\n",
       "<table border=\"1\" class=\"dataframe\">\n",
       "  <thead>\n",
       "    <tr style=\"text-align: right;\">\n",
       "      <th></th>\n",
       "      <th>id</th>\n",
       "      <th>call_date</th>\n",
       "      <th>duration</th>\n",
       "      <th>user_id</th>\n",
       "    </tr>\n",
       "  </thead>\n",
       "  <tbody>\n",
       "    <tr>\n",
       "      <th>0</th>\n",
       "      <td>1000_0</td>\n",
       "      <td>2018-07-25</td>\n",
       "      <td>0.00</td>\n",
       "      <td>1000</td>\n",
       "    </tr>\n",
       "    <tr>\n",
       "      <th>1</th>\n",
       "      <td>1000_1</td>\n",
       "      <td>2018-08-17</td>\n",
       "      <td>0.00</td>\n",
       "      <td>1000</td>\n",
       "    </tr>\n",
       "    <tr>\n",
       "      <th>2</th>\n",
       "      <td>1000_2</td>\n",
       "      <td>2018-06-11</td>\n",
       "      <td>2.85</td>\n",
       "      <td>1000</td>\n",
       "    </tr>\n",
       "    <tr>\n",
       "      <th>3</th>\n",
       "      <td>1000_3</td>\n",
       "      <td>2018-09-21</td>\n",
       "      <td>13.80</td>\n",
       "      <td>1000</td>\n",
       "    </tr>\n",
       "    <tr>\n",
       "      <th>4</th>\n",
       "      <td>1000_4</td>\n",
       "      <td>2018-12-15</td>\n",
       "      <td>5.18</td>\n",
       "      <td>1000</td>\n",
       "    </tr>\n",
       "  </tbody>\n",
       "</table>\n",
       "</div>"
      ],
      "text/plain": [
       "       id   call_date  duration  user_id\n",
       "0  1000_0  2018-07-25      0.00     1000\n",
       "1  1000_1  2018-08-17      0.00     1000\n",
       "2  1000_2  2018-06-11      2.85     1000\n",
       "3  1000_3  2018-09-21     13.80     1000\n",
       "4  1000_4  2018-12-15      5.18     1000"
      ]
     },
     "execution_count": 4,
     "metadata": {},
     "output_type": "execute_result"
    }
   ],
   "source": [
    "get_info_on_dataset(df_calls)\n",
    "df_calls.head(5)"
   ]
  },
  {
   "cell_type": "code",
   "execution_count": 5,
   "metadata": {},
   "outputs": [
    {
     "name": "stdout",
     "output_type": "stream",
     "text": [
      "<class 'pandas.core.frame.DataFrame'>\n",
      "RangeIndex: 202607 entries, 0 to 202606\n",
      "Data columns (total 4 columns):\n",
      " #   Column     Non-Null Count   Dtype         \n",
      "---  ------     --------------   -----         \n",
      " 0   id         202607 non-null  object        \n",
      " 1   call_date  202607 non-null  datetime64[ns]\n",
      " 2   duration   202607 non-null  float64       \n",
      " 3   user_id    202607 non-null  int64         \n",
      "dtypes: datetime64[ns](1), float64(1), int64(1), object(1)\n",
      "memory usage: 6.2+ MB\n",
      "\n",
      "Number of duplicated rows in the dataset: 0\n",
      "\n"
     ]
    },
    {
     "data": {
      "text/html": [
       "<div>\n",
       "<style scoped>\n",
       "    .dataframe tbody tr th:only-of-type {\n",
       "        vertical-align: middle;\n",
       "    }\n",
       "\n",
       "    .dataframe tbody tr th {\n",
       "        vertical-align: top;\n",
       "    }\n",
       "\n",
       "    .dataframe thead th {\n",
       "        text-align: right;\n",
       "    }\n",
       "</style>\n",
       "<table border=\"1\" class=\"dataframe\">\n",
       "  <thead>\n",
       "    <tr style=\"text-align: right;\">\n",
       "      <th></th>\n",
       "      <th>Not_Valid_Values_in %</th>\n",
       "    </tr>\n",
       "  </thead>\n",
       "  <tbody>\n",
       "    <tr>\n",
       "      <th>id</th>\n",
       "      <td>0.0</td>\n",
       "    </tr>\n",
       "    <tr>\n",
       "      <th>call_date</th>\n",
       "      <td>0.0</td>\n",
       "    </tr>\n",
       "    <tr>\n",
       "      <th>duration</th>\n",
       "      <td>0.0</td>\n",
       "    </tr>\n",
       "    <tr>\n",
       "      <th>user_id</th>\n",
       "      <td>0.0</td>\n",
       "    </tr>\n",
       "  </tbody>\n",
       "</table>\n",
       "</div>"
      ],
      "text/plain": [
       "           Not_Valid_Values_in %\n",
       "id                           0.0\n",
       "call_date                    0.0\n",
       "duration                     0.0\n",
       "user_id                      0.0"
      ]
     },
     "metadata": {},
     "output_type": "display_data"
    },
    {
     "data": {
      "text/html": [
       "<div>\n",
       "<style scoped>\n",
       "    .dataframe tbody tr th:only-of-type {\n",
       "        vertical-align: middle;\n",
       "    }\n",
       "\n",
       "    .dataframe tbody tr th {\n",
       "        vertical-align: top;\n",
       "    }\n",
       "\n",
       "    .dataframe thead th {\n",
       "        text-align: right;\n",
       "    }\n",
       "</style>\n",
       "<table border=\"1\" class=\"dataframe\">\n",
       "  <thead>\n",
       "    <tr style=\"text-align: right;\">\n",
       "      <th></th>\n",
       "      <th>id</th>\n",
       "      <th>call_date</th>\n",
       "      <th>duration</th>\n",
       "      <th>user_id</th>\n",
       "    </tr>\n",
       "  </thead>\n",
       "  <tbody>\n",
       "    <tr>\n",
       "      <th>0</th>\n",
       "      <td>1000_0</td>\n",
       "      <td>2018-07-25</td>\n",
       "      <td>0.00</td>\n",
       "      <td>1000</td>\n",
       "    </tr>\n",
       "    <tr>\n",
       "      <th>1</th>\n",
       "      <td>1000_1</td>\n",
       "      <td>2018-08-17</td>\n",
       "      <td>0.00</td>\n",
       "      <td>1000</td>\n",
       "    </tr>\n",
       "    <tr>\n",
       "      <th>2</th>\n",
       "      <td>1000_2</td>\n",
       "      <td>2018-06-11</td>\n",
       "      <td>2.85</td>\n",
       "      <td>1000</td>\n",
       "    </tr>\n",
       "    <tr>\n",
       "      <th>3</th>\n",
       "      <td>1000_3</td>\n",
       "      <td>2018-09-21</td>\n",
       "      <td>13.80</td>\n",
       "      <td>1000</td>\n",
       "    </tr>\n",
       "    <tr>\n",
       "      <th>4</th>\n",
       "      <td>1000_4</td>\n",
       "      <td>2018-12-15</td>\n",
       "      <td>5.18</td>\n",
       "      <td>1000</td>\n",
       "    </tr>\n",
       "  </tbody>\n",
       "</table>\n",
       "</div>"
      ],
      "text/plain": [
       "       id  call_date  duration  user_id\n",
       "0  1000_0 2018-07-25      0.00     1000\n",
       "1  1000_1 2018-08-17      0.00     1000\n",
       "2  1000_2 2018-06-11      2.85     1000\n",
       "3  1000_3 2018-09-21     13.80     1000\n",
       "4  1000_4 2018-12-15      5.18     1000"
      ]
     },
     "execution_count": 5,
     "metadata": {},
     "output_type": "execute_result"
    }
   ],
   "source": [
    "df_calls['call_date'] = pd.to_datetime(df_calls['call_date'], format='%Y-%m-%d')\n",
    "get_info_on_dataset(df_calls)\n",
    "df_calls.head(5)"
   ]
  },
  {
   "cell_type": "markdown",
   "metadata": {},
   "source": [
    "**Dataset Calls** - состоит из 4 столбцов, 202607 строк, пропущенных значений нет, столбец с датой звонка привели к формату Дата."
   ]
  },
  {
   "cell_type": "code",
   "execution_count": 6,
   "metadata": {},
   "outputs": [
    {
     "data": {
      "image/png": "[encoded data removed]",
      "text/plain": [
       "<Figure size 432x288 with 1 Axes>"
      ]
     },
     "metadata": {},
     "output_type": "display_data"
    }
   ],
   "source": [
    "df_calls.hist('duration',bins=35)\n",
    "plt.show()"
   ]
  },
  {
   "cell_type": "code",
   "execution_count": 7,
   "metadata": {},
   "outputs": [
    {
     "data": {
      "text/plain": [
       "count    202607.000000\n",
       "mean          6.755887\n",
       "std           5.843365\n",
       "min           0.000000\n",
       "25%           1.300000\n",
       "50%           6.000000\n",
       "75%          10.700000\n",
       "max          38.000000\n",
       "Name: duration, dtype: float64"
      ]
     },
     "execution_count": 7,
     "metadata": {},
     "output_type": "execute_result"
    }
   ],
   "source": [
    "df_calls['duration'].describe()"
   ]
  },
  {
   "cell_type": "markdown",
   "metadata": {},
   "source": [
    "--------------------\n",
    "### Dataset `Internet`"
   ]
  },
  {
   "cell_type": "code",
   "execution_count": 8,
   "metadata": {},
   "outputs": [
    {
     "name": "stdout",
     "output_type": "stream",
     "text": [
      "<class 'pandas.core.frame.DataFrame'>\n",
      "RangeIndex: 149396 entries, 0 to 149395\n",
      "Data columns (total 5 columns):\n",
      " #   Column        Non-Null Count   Dtype  \n",
      "---  ------        --------------   -----  \n",
      " 0   Unnamed: 0    149396 non-null  int64  \n",
      " 1   id            149396 non-null  object \n",
      " 2   mb_used       149396 non-null  float64\n",
      " 3   session_date  149396 non-null  object \n",
      " 4   user_id       149396 non-null  int64  \n",
      "dtypes: float64(1), int64(2), object(2)\n",
      "memory usage: 5.7+ MB\n",
      "\n",
      "Number of duplicated rows in the dataset: 0\n",
      "\n"
     ]
    },
    {
     "data": {
      "text/html": [
       "<div>\n",
       "<style scoped>\n",
       "    .dataframe tbody tr th:only-of-type {\n",
       "        vertical-align: middle;\n",
       "    }\n",
       "\n",
       "    .dataframe tbody tr th {\n",
       "        vertical-align: top;\n",
       "    }\n",
       "\n",
       "    .dataframe thead th {\n",
       "        text-align: right;\n",
       "    }\n",
       "</style>\n",
       "<table border=\"1\" class=\"dataframe\">\n",
       "  <thead>\n",
       "    <tr style=\"text-align: right;\">\n",
       "      <th></th>\n",
       "      <th>Not_Valid_Values_in %</th>\n",
       "    </tr>\n",
       "  </thead>\n",
       "  <tbody>\n",
       "    <tr>\n",
       "      <th>Unnamed: 0</th>\n",
       "      <td>0.0</td>\n",
       "    </tr>\n",
       "    <tr>\n",
       "      <th>id</th>\n",
       "      <td>0.0</td>\n",
       "    </tr>\n",
       "    <tr>\n",
       "      <th>mb_used</th>\n",
       "      <td>0.0</td>\n",
       "    </tr>\n",
       "    <tr>\n",
       "      <th>session_date</th>\n",
       "      <td>0.0</td>\n",
       "    </tr>\n",
       "    <tr>\n",
       "      <th>user_id</th>\n",
       "      <td>0.0</td>\n",
       "    </tr>\n",
       "  </tbody>\n",
       "</table>\n",
       "</div>"
      ],
      "text/plain": [
       "              Not_Valid_Values_in %\n",
       "Unnamed: 0                      0.0\n",
       "id                              0.0\n",
       "mb_used                         0.0\n",
       "session_date                    0.0\n",
       "user_id                         0.0"
      ]
     },
     "metadata": {},
     "output_type": "display_data"
    },
    {
     "data": {
      "text/html": [
       "<div>\n",
       "<style scoped>\n",
       "    .dataframe tbody tr th:only-of-type {\n",
       "        vertical-align: middle;\n",
       "    }\n",
       "\n",
       "    .dataframe tbody tr th {\n",
       "        vertical-align: top;\n",
       "    }\n",
       "\n",
       "    .dataframe thead th {\n",
       "        text-align: right;\n",
       "    }\n",
       "</style>\n",
       "<table border=\"1\" class=\"dataframe\">\n",
       "  <thead>\n",
       "    <tr style=\"text-align: right;\">\n",
       "      <th></th>\n",
       "      <th>Unnamed: 0</th>\n",
       "      <th>id</th>\n",
       "      <th>mb_used</th>\n",
       "      <th>session_date</th>\n",
       "      <th>user_id</th>\n",
       "    </tr>\n",
       "  </thead>\n",
       "  <tbody>\n",
       "    <tr>\n",
       "      <th>0</th>\n",
       "      <td>0</td>\n",
       "      <td>1000_0</td>\n",
       "      <td>112.95</td>\n",
       "      <td>2018-11-25</td>\n",
       "      <td>1000</td>\n",
       "    </tr>\n",
       "    <tr>\n",
       "      <th>1</th>\n",
       "      <td>1</td>\n",
       "      <td>1000_1</td>\n",
       "      <td>1052.81</td>\n",
       "      <td>2018-09-07</td>\n",
       "      <td>1000</td>\n",
       "    </tr>\n",
       "    <tr>\n",
       "      <th>2</th>\n",
       "      <td>2</td>\n",
       "      <td>1000_2</td>\n",
       "      <td>1197.26</td>\n",
       "      <td>2018-06-25</td>\n",
       "      <td>1000</td>\n",
       "    </tr>\n",
       "    <tr>\n",
       "      <th>3</th>\n",
       "      <td>3</td>\n",
       "      <td>1000_3</td>\n",
       "      <td>550.27</td>\n",
       "      <td>2018-08-22</td>\n",
       "      <td>1000</td>\n",
       "    </tr>\n",
       "    <tr>\n",
       "      <th>4</th>\n",
       "      <td>4</td>\n",
       "      <td>1000_4</td>\n",
       "      <td>302.56</td>\n",
       "      <td>2018-09-24</td>\n",
       "      <td>1000</td>\n",
       "    </tr>\n",
       "  </tbody>\n",
       "</table>\n",
       "</div>"
      ],
      "text/plain": [
       "   Unnamed: 0      id  mb_used session_date  user_id\n",
       "0           0  1000_0   112.95   2018-11-25     1000\n",
       "1           1  1000_1  1052.81   2018-09-07     1000\n",
       "2           2  1000_2  1197.26   2018-06-25     1000\n",
       "3           3  1000_3   550.27   2018-08-22     1000\n",
       "4           4  1000_4   302.56   2018-09-24     1000"
      ]
     },
     "execution_count": 8,
     "metadata": {},
     "output_type": "execute_result"
    }
   ],
   "source": [
    "get_info_on_dataset(df_internet)\n",
    "df_internet.head()"
   ]
  },
  {
   "cell_type": "code",
   "execution_count": 9,
   "metadata": {
    "scrolled": true
   },
   "outputs": [],
   "source": [
    "df_internet.drop('Unnamed: 0', inplace=True, axis=1)\n",
    "df_internet['session_date'] = pd.to_datetime(df_internet['session_date'], format='%Y-%m-%d')"
   ]
  },
  {
   "cell_type": "code",
   "execution_count": 10,
   "metadata": {},
   "outputs": [
    {
     "name": "stdout",
     "output_type": "stream",
     "text": [
      "<class 'pandas.core.frame.DataFrame'>\n",
      "RangeIndex: 149396 entries, 0 to 149395\n",
      "Data columns (total 4 columns):\n",
      " #   Column        Non-Null Count   Dtype         \n",
      "---  ------        --------------   -----         \n",
      " 0   id            149396 non-null  object        \n",
      " 1   mb_used       149396 non-null  float64       \n",
      " 2   session_date  149396 non-null  datetime64[ns]\n",
      " 3   user_id       149396 non-null  int64         \n",
      "dtypes: datetime64[ns](1), float64(1), int64(1), object(1)\n",
      "memory usage: 4.6+ MB\n",
      "\n",
      "Number of duplicated rows in the dataset: 0\n",
      "\n"
     ]
    },
    {
     "data": {
      "text/html": [
       "<div>\n",
       "<style scoped>\n",
       "    .dataframe tbody tr th:only-of-type {\n",
       "        vertical-align: middle;\n",
       "    }\n",
       "\n",
       "    .dataframe tbody tr th {\n",
       "        vertical-align: top;\n",
       "    }\n",
       "\n",
       "    .dataframe thead th {\n",
       "        text-align: right;\n",
       "    }\n",
       "</style>\n",
       "<table border=\"1\" class=\"dataframe\">\n",
       "  <thead>\n",
       "    <tr style=\"text-align: right;\">\n",
       "      <th></th>\n",
       "      <th>Not_Valid_Values_in %</th>\n",
       "    </tr>\n",
       "  </thead>\n",
       "  <tbody>\n",
       "    <tr>\n",
       "      <th>id</th>\n",
       "      <td>0.0</td>\n",
       "    </tr>\n",
       "    <tr>\n",
       "      <th>mb_used</th>\n",
       "      <td>0.0</td>\n",
       "    </tr>\n",
       "    <tr>\n",
       "      <th>session_date</th>\n",
       "      <td>0.0</td>\n",
       "    </tr>\n",
       "    <tr>\n",
       "      <th>user_id</th>\n",
       "      <td>0.0</td>\n",
       "    </tr>\n",
       "  </tbody>\n",
       "</table>\n",
       "</div>"
      ],
      "text/plain": [
       "              Not_Valid_Values_in %\n",
       "id                              0.0\n",
       "mb_used                         0.0\n",
       "session_date                    0.0\n",
       "user_id                         0.0"
      ]
     },
     "metadata": {},
     "output_type": "display_data"
    },
    {
     "data": {
      "text/html": [
       "<div>\n",
       "<style scoped>\n",
       "    .dataframe tbody tr th:only-of-type {\n",
       "        vertical-align: middle;\n",
       "    }\n",
       "\n",
       "    .dataframe tbody tr th {\n",
       "        vertical-align: top;\n",
       "    }\n",
       "\n",
       "    .dataframe thead th {\n",
       "        text-align: right;\n",
       "    }\n",
       "</style>\n",
       "<table border=\"1\" class=\"dataframe\">\n",
       "  <thead>\n",
       "    <tr style=\"text-align: right;\">\n",
       "      <th></th>\n",
       "      <th>id</th>\n",
       "      <th>mb_used</th>\n",
       "      <th>session_date</th>\n",
       "      <th>user_id</th>\n",
       "    </tr>\n",
       "  </thead>\n",
       "  <tbody>\n",
       "    <tr>\n",
       "      <th>0</th>\n",
       "      <td>1000_0</td>\n",
       "      <td>112.95</td>\n",
       "      <td>2018-11-25</td>\n",
       "      <td>1000</td>\n",
       "    </tr>\n",
       "    <tr>\n",
       "      <th>1</th>\n",
       "      <td>1000_1</td>\n",
       "      <td>1052.81</td>\n",
       "      <td>2018-09-07</td>\n",
       "      <td>1000</td>\n",
       "    </tr>\n",
       "    <tr>\n",
       "      <th>2</th>\n",
       "      <td>1000_2</td>\n",
       "      <td>1197.26</td>\n",
       "      <td>2018-06-25</td>\n",
       "      <td>1000</td>\n",
       "    </tr>\n",
       "    <tr>\n",
       "      <th>3</th>\n",
       "      <td>1000_3</td>\n",
       "      <td>550.27</td>\n",
       "      <td>2018-08-22</td>\n",
       "      <td>1000</td>\n",
       "    </tr>\n",
       "    <tr>\n",
       "      <th>4</th>\n",
       "      <td>1000_4</td>\n",
       "      <td>302.56</td>\n",
       "      <td>2018-09-24</td>\n",
       "      <td>1000</td>\n",
       "    </tr>\n",
       "  </tbody>\n",
       "</table>\n",
       "</div>"
      ],
      "text/plain": [
       "       id  mb_used session_date  user_id\n",
       "0  1000_0   112.95   2018-11-25     1000\n",
       "1  1000_1  1052.81   2018-09-07     1000\n",
       "2  1000_2  1197.26   2018-06-25     1000\n",
       "3  1000_3   550.27   2018-08-22     1000\n",
       "4  1000_4   302.56   2018-09-24     1000"
      ]
     },
     "execution_count": 10,
     "metadata": {},
     "output_type": "execute_result"
    }
   ],
   "source": [
    "get_info_on_dataset(df_internet)\n",
    "df_internet.head(5)"
   ]
  },
  {
   "cell_type": "markdown",
   "metadata": {},
   "source": [
    "**Dataset Internet** - состоит из 5 столбцов, 149396 строк, пропущенных значений нет, столбец с датой сессии привели к формату Дата, удалили лишний столбец `Unnamed: 0`"
   ]
  },
  {
   "cell_type": "code",
   "execution_count": 11,
   "metadata": {},
   "outputs": [
    {
     "data": {
      "image/png": "[encoded data removed]",
      "text/plain": [
       "<Figure size 432x288 with 1 Axes>"
      ]
     },
     "metadata": {},
     "output_type": "display_data"
    }
   ],
   "source": [
    "df_internet.hist('mb_used',bins=35)\n",
    "plt.show()"
   ]
  },
  {
   "cell_type": "code",
   "execution_count": 12,
   "metadata": {},
   "outputs": [
    {
     "data": {
      "text/plain": [
       "count    149396.000000\n",
       "mean        370.192426\n",
       "std         278.300951\n",
       "min           0.000000\n",
       "25%         138.187500\n",
       "50%         348.015000\n",
       "75%         559.552500\n",
       "max        1724.830000\n",
       "Name: mb_used, dtype: float64"
      ]
     },
     "execution_count": 12,
     "metadata": {},
     "output_type": "execute_result"
    }
   ],
   "source": [
    "df_internet['mb_used'].describe()"
   ]
  },
  {
   "cell_type": "markdown",
   "metadata": {},
   "source": [
    "--------------------\n",
    "### Dataset `Messages`"
   ]
  },
  {
   "cell_type": "code",
   "execution_count": 13,
   "metadata": {},
   "outputs": [
    {
     "name": "stdout",
     "output_type": "stream",
     "text": [
      "<class 'pandas.core.frame.DataFrame'>\n",
      "RangeIndex: 123036 entries, 0 to 123035\n",
      "Data columns (total 3 columns):\n",
      " #   Column        Non-Null Count   Dtype \n",
      "---  ------        --------------   ----- \n",
      " 0   id            123036 non-null  object\n",
      " 1   message_date  123036 non-null  object\n",
      " 2   user_id       123036 non-null  int64 \n",
      "dtypes: int64(1), object(2)\n",
      "memory usage: 2.8+ MB\n",
      "\n",
      "Number of duplicated rows in the dataset: 0\n",
      "\n"
     ]
    },
    {
     "data": {
      "text/html": [
       "<div>\n",
       "<style scoped>\n",
       "    .dataframe tbody tr th:only-of-type {\n",
       "        vertical-align: middle;\n",
       "    }\n",
       "\n",
       "    .dataframe tbody tr th {\n",
       "        vertical-align: top;\n",
       "    }\n",
       "\n",
       "    .dataframe thead th {\n",
       "        text-align: right;\n",
       "    }\n",
       "</style>\n",
       "<table border=\"1\" class=\"dataframe\">\n",
       "  <thead>\n",
       "    <tr style=\"text-align: right;\">\n",
       "      <th></th>\n",
       "      <th>Not_Valid_Values_in %</th>\n",
       "    </tr>\n",
       "  </thead>\n",
       "  <tbody>\n",
       "    <tr>\n",
       "      <th>id</th>\n",
       "      <td>0.0</td>\n",
       "    </tr>\n",
       "    <tr>\n",
       "      <th>message_date</th>\n",
       "      <td>0.0</td>\n",
       "    </tr>\n",
       "    <tr>\n",
       "      <th>user_id</th>\n",
       "      <td>0.0</td>\n",
       "    </tr>\n",
       "  </tbody>\n",
       "</table>\n",
       "</div>"
      ],
      "text/plain": [
       "              Not_Valid_Values_in %\n",
       "id                              0.0\n",
       "message_date                    0.0\n",
       "user_id                         0.0"
      ]
     },
     "metadata": {},
     "output_type": "display_data"
    },
    {
     "data": {
      "text/html": [
       "<div>\n",
       "<style scoped>\n",
       "    .dataframe tbody tr th:only-of-type {\n",
       "        vertical-align: middle;\n",
       "    }\n",
       "\n",
       "    .dataframe tbody tr th {\n",
       "        vertical-align: top;\n",
       "    }\n",
       "\n",
       "    .dataframe thead th {\n",
       "        text-align: right;\n",
       "    }\n",
       "</style>\n",
       "<table border=\"1\" class=\"dataframe\">\n",
       "  <thead>\n",
       "    <tr style=\"text-align: right;\">\n",
       "      <th></th>\n",
       "      <th>id</th>\n",
       "      <th>message_date</th>\n",
       "      <th>user_id</th>\n",
       "    </tr>\n",
       "  </thead>\n",
       "  <tbody>\n",
       "    <tr>\n",
       "      <th>0</th>\n",
       "      <td>1000_0</td>\n",
       "      <td>2018-06-27</td>\n",
       "      <td>1000</td>\n",
       "    </tr>\n",
       "    <tr>\n",
       "      <th>1</th>\n",
       "      <td>1000_1</td>\n",
       "      <td>2018-10-08</td>\n",
       "      <td>1000</td>\n",
       "    </tr>\n",
       "    <tr>\n",
       "      <th>2</th>\n",
       "      <td>1000_2</td>\n",
       "      <td>2018-08-04</td>\n",
       "      <td>1000</td>\n",
       "    </tr>\n",
       "    <tr>\n",
       "      <th>3</th>\n",
       "      <td>1000_3</td>\n",
       "      <td>2018-06-16</td>\n",
       "      <td>1000</td>\n",
       "    </tr>\n",
       "    <tr>\n",
       "      <th>4</th>\n",
       "      <td>1000_4</td>\n",
       "      <td>2018-12-05</td>\n",
       "      <td>1000</td>\n",
       "    </tr>\n",
       "  </tbody>\n",
       "</table>\n",
       "</div>"
      ],
      "text/plain": [
       "       id message_date  user_id\n",
       "0  1000_0   2018-06-27     1000\n",
       "1  1000_1   2018-10-08     1000\n",
       "2  1000_2   2018-08-04     1000\n",
       "3  1000_3   2018-06-16     1000\n",
       "4  1000_4   2018-12-05     1000"
      ]
     },
     "execution_count": 13,
     "metadata": {},
     "output_type": "execute_result"
    }
   ],
   "source": [
    "get_info_on_dataset(df_messages)\n",
    "df_messages.head(5)"
   ]
  },
  {
   "cell_type": "code",
   "execution_count": 14,
   "metadata": {},
   "outputs": [
    {
     "name": "stdout",
     "output_type": "stream",
     "text": [
      "<class 'pandas.core.frame.DataFrame'>\n",
      "RangeIndex: 123036 entries, 0 to 123035\n",
      "Data columns (total 3 columns):\n",
      " #   Column        Non-Null Count   Dtype         \n",
      "---  ------        --------------   -----         \n",
      " 0   id            123036 non-null  object        \n",
      " 1   message_date  123036 non-null  datetime64[ns]\n",
      " 2   user_id       123036 non-null  int64         \n",
      "dtypes: datetime64[ns](1), int64(1), object(1)\n",
      "memory usage: 2.8+ MB\n",
      "\n",
      "Number of duplicated rows in the dataset: 0\n",
      "\n"
     ]
    },
    {
     "data": {
      "text/html": [
       "<div>\n",
       "<style scoped>\n",
       "    .dataframe tbody tr th:only-of-type {\n",
       "        vertical-align: middle;\n",
       "    }\n",
       "\n",
       "    .dataframe tbody tr th {\n",
       "        vertical-align: top;\n",
       "    }\n",
       "\n",
       "    .dataframe thead th {\n",
       "        text-align: right;\n",
       "    }\n",
       "</style>\n",
       "<table border=\"1\" class=\"dataframe\">\n",
       "  <thead>\n",
       "    <tr style=\"text-align: right;\">\n",
       "      <th></th>\n",
       "      <th>Not_Valid_Values_in %</th>\n",
       "    </tr>\n",
       "  </thead>\n",
       "  <tbody>\n",
       "    <tr>\n",
       "      <th>id</th>\n",
       "      <td>0.0</td>\n",
       "    </tr>\n",
       "    <tr>\n",
       "      <th>message_date</th>\n",
       "      <td>0.0</td>\n",
       "    </tr>\n",
       "    <tr>\n",
       "      <th>user_id</th>\n",
       "      <td>0.0</td>\n",
       "    </tr>\n",
       "  </tbody>\n",
       "</table>\n",
       "</div>"
      ],
      "text/plain": [
       "              Not_Valid_Values_in %\n",
       "id                              0.0\n",
       "message_date                    0.0\n",
       "user_id                         0.0"
      ]
     },
     "metadata": {},
     "output_type": "display_data"
    },
    {
     "data": {
      "text/html": [
       "<div>\n",
       "<style scoped>\n",
       "    .dataframe tbody tr th:only-of-type {\n",
       "        vertical-align: middle;\n",
       "    }\n",
       "\n",
       "    .dataframe tbody tr th {\n",
       "        vertical-align: top;\n",
       "    }\n",
       "\n",
       "    .dataframe thead th {\n",
       "        text-align: right;\n",
       "    }\n",
       "</style>\n",
       "<table border=\"1\" class=\"dataframe\">\n",
       "  <thead>\n",
       "    <tr style=\"text-align: right;\">\n",
       "      <th></th>\n",
       "      <th>id</th>\n",
       "      <th>message_date</th>\n",
       "      <th>user_id</th>\n",
       "    </tr>\n",
       "  </thead>\n",
       "  <tbody>\n",
       "    <tr>\n",
       "      <th>0</th>\n",
       "      <td>1000_0</td>\n",
       "      <td>2018-06-27</td>\n",
       "      <td>1000</td>\n",
       "    </tr>\n",
       "    <tr>\n",
       "      <th>1</th>\n",
       "      <td>1000_1</td>\n",
       "      <td>2018-10-08</td>\n",
       "      <td>1000</td>\n",
       "    </tr>\n",
       "    <tr>\n",
       "      <th>2</th>\n",
       "      <td>1000_2</td>\n",
       "      <td>2018-08-04</td>\n",
       "      <td>1000</td>\n",
       "    </tr>\n",
       "    <tr>\n",
       "      <th>3</th>\n",
       "      <td>1000_3</td>\n",
       "      <td>2018-06-16</td>\n",
       "      <td>1000</td>\n",
       "    </tr>\n",
       "    <tr>\n",
       "      <th>4</th>\n",
       "      <td>1000_4</td>\n",
       "      <td>2018-12-05</td>\n",
       "      <td>1000</td>\n",
       "    </tr>\n",
       "  </tbody>\n",
       "</table>\n",
       "</div>"
      ],
      "text/plain": [
       "       id message_date  user_id\n",
       "0  1000_0   2018-06-27     1000\n",
       "1  1000_1   2018-10-08     1000\n",
       "2  1000_2   2018-08-04     1000\n",
       "3  1000_3   2018-06-16     1000\n",
       "4  1000_4   2018-12-05     1000"
      ]
     },
     "execution_count": 14,
     "metadata": {},
     "output_type": "execute_result"
    }
   ],
   "source": [
    "df_messages['message_date'] = pd.to_datetime(df_messages['message_date'], format='%Y-%m-%d')\n",
    "get_info_on_dataset(df_messages)\n",
    "df_messages.head(5)"
   ]
  },
  {
   "cell_type": "markdown",
   "metadata": {},
   "source": [
    "**Dataset Message** - состоит из 3 столбцов, 123036 строк, пропущенных значений нет, столбец с датой отправки сообщения привели к формату Дата."
   ]
  },
  {
   "cell_type": "code",
   "execution_count": 15,
   "metadata": {},
   "outputs": [
    {
     "data": {
      "text/plain": [
       "count    364.000000\n",
       "mean     338.010989\n",
       "std      207.856660\n",
       "min        4.000000\n",
       "25%      147.750000\n",
       "50%      335.000000\n",
       "75%      521.250000\n",
       "max      859.000000\n",
       "Name: id, dtype: float64"
      ]
     },
     "execution_count": 15,
     "metadata": {},
     "output_type": "execute_result"
    }
   ],
   "source": [
    "df_messages.groupby('message_date').count().id.describe()"
   ]
  },
  {
   "cell_type": "code",
   "execution_count": 16,
   "metadata": {},
   "outputs": [
    {
     "data": {
      "text/plain": [
       "count     426.000000\n",
       "mean      288.816901\n",
       "std       267.607552\n",
       "min         1.000000\n",
       "25%        85.750000\n",
       "50%       215.500000\n",
       "75%       414.000000\n",
       "max      1463.000000\n",
       "Name: id, dtype: float64"
      ]
     },
     "execution_count": 16,
     "metadata": {},
     "output_type": "execute_result"
    }
   ],
   "source": [
    "df_messages.groupby('user_id').count().id.describe()"
   ]
  },
  {
   "cell_type": "markdown",
   "metadata": {},
   "source": [
    "--------------------\n",
    "### Dataset `Tariffs`"
   ]
  },
  {
   "cell_type": "code",
   "execution_count": 17,
   "metadata": {},
   "outputs": [
    {
     "name": "stdout",
     "output_type": "stream",
     "text": [
      "<class 'pandas.core.frame.DataFrame'>\n",
      "RangeIndex: 2 entries, 0 to 1\n",
      "Data columns (total 8 columns):\n",
      " #   Column                 Non-Null Count  Dtype \n",
      "---  ------                 --------------  ----- \n",
      " 0   messages_included      2 non-null      int64 \n",
      " 1   mb_per_month_included  2 non-null      int64 \n",
      " 2   minutes_included       2 non-null      int64 \n",
      " 3   rub_monthly_fee        2 non-null      int64 \n",
      " 4   rub_per_gb             2 non-null      int64 \n",
      " 5   rub_per_message        2 non-null      int64 \n",
      " 6   rub_per_minute         2 non-null      int64 \n",
      " 7   tariff_name            2 non-null      object\n",
      "dtypes: int64(7), object(1)\n",
      "memory usage: 256.0+ bytes\n",
      "\n",
      "Number of duplicated rows in the dataset: 0\n",
      "\n"
     ]
    },
    {
     "data": {
      "text/html": [
       "<div>\n",
       "<style scoped>\n",
       "    .dataframe tbody tr th:only-of-type {\n",
       "        vertical-align: middle;\n",
       "    }\n",
       "\n",
       "    .dataframe tbody tr th {\n",
       "        vertical-align: top;\n",
       "    }\n",
       "\n",
       "    .dataframe thead th {\n",
       "        text-align: right;\n",
       "    }\n",
       "</style>\n",
       "<table border=\"1\" class=\"dataframe\">\n",
       "  <thead>\n",
       "    <tr style=\"text-align: right;\">\n",
       "      <th></th>\n",
       "      <th>Not_Valid_Values_in %</th>\n",
       "    </tr>\n",
       "  </thead>\n",
       "  <tbody>\n",
       "    <tr>\n",
       "      <th>messages_included</th>\n",
       "      <td>0.0</td>\n",
       "    </tr>\n",
       "    <tr>\n",
       "      <th>mb_per_month_included</th>\n",
       "      <td>0.0</td>\n",
       "    </tr>\n",
       "    <tr>\n",
       "      <th>minutes_included</th>\n",
       "      <td>0.0</td>\n",
       "    </tr>\n",
       "    <tr>\n",
       "      <th>rub_monthly_fee</th>\n",
       "      <td>0.0</td>\n",
       "    </tr>\n",
       "    <tr>\n",
       "      <th>rub_per_gb</th>\n",
       "      <td>0.0</td>\n",
       "    </tr>\n",
       "    <tr>\n",
       "      <th>rub_per_message</th>\n",
       "      <td>0.0</td>\n",
       "    </tr>\n",
       "    <tr>\n",
       "      <th>rub_per_minute</th>\n",
       "      <td>0.0</td>\n",
       "    </tr>\n",
       "    <tr>\n",
       "      <th>tariff_name</th>\n",
       "      <td>0.0</td>\n",
       "    </tr>\n",
       "  </tbody>\n",
       "</table>\n",
       "</div>"
      ],
      "text/plain": [
       "                       Not_Valid_Values_in %\n",
       "messages_included                        0.0\n",
       "mb_per_month_included                    0.0\n",
       "minutes_included                         0.0\n",
       "rub_monthly_fee                          0.0\n",
       "rub_per_gb                               0.0\n",
       "rub_per_message                          0.0\n",
       "rub_per_minute                           0.0\n",
       "tariff_name                              0.0"
      ]
     },
     "metadata": {},
     "output_type": "display_data"
    },
    {
     "data": {
      "text/html": [
       "<div>\n",
       "<style scoped>\n",
       "    .dataframe tbody tr th:only-of-type {\n",
       "        vertical-align: middle;\n",
       "    }\n",
       "\n",
       "    .dataframe tbody tr th {\n",
       "        vertical-align: top;\n",
       "    }\n",
       "\n",
       "    .dataframe thead th {\n",
       "        text-align: right;\n",
       "    }\n",
       "</style>\n",
       "<table border=\"1\" class=\"dataframe\">\n",
       "  <thead>\n",
       "    <tr style=\"text-align: right;\">\n",
       "      <th></th>\n",
       "      <th>0</th>\n",
       "      <th>1</th>\n",
       "    </tr>\n",
       "  </thead>\n",
       "  <tbody>\n",
       "    <tr>\n",
       "      <th>messages_included</th>\n",
       "      <td>50</td>\n",
       "      <td>1000</td>\n",
       "    </tr>\n",
       "    <tr>\n",
       "      <th>mb_per_month_included</th>\n",
       "      <td>15360</td>\n",
       "      <td>30720</td>\n",
       "    </tr>\n",
       "    <tr>\n",
       "      <th>minutes_included</th>\n",
       "      <td>500</td>\n",
       "      <td>3000</td>\n",
       "    </tr>\n",
       "    <tr>\n",
       "      <th>rub_monthly_fee</th>\n",
       "      <td>550</td>\n",
       "      <td>1950</td>\n",
       "    </tr>\n",
       "    <tr>\n",
       "      <th>rub_per_gb</th>\n",
       "      <td>200</td>\n",
       "      <td>150</td>\n",
       "    </tr>\n",
       "    <tr>\n",
       "      <th>rub_per_message</th>\n",
       "      <td>3</td>\n",
       "      <td>1</td>\n",
       "    </tr>\n",
       "    <tr>\n",
       "      <th>rub_per_minute</th>\n",
       "      <td>3</td>\n",
       "      <td>1</td>\n",
       "    </tr>\n",
       "    <tr>\n",
       "      <th>tariff_name</th>\n",
       "      <td>smart</td>\n",
       "      <td>ultra</td>\n",
       "    </tr>\n",
       "  </tbody>\n",
       "</table>\n",
       "</div>"
      ],
      "text/plain": [
       "                           0      1\n",
       "messages_included         50   1000\n",
       "mb_per_month_included  15360  30720\n",
       "minutes_included         500   3000\n",
       "rub_monthly_fee          550   1950\n",
       "rub_per_gb               200    150\n",
       "rub_per_message            3      1\n",
       "rub_per_minute             3      1\n",
       "tariff_name            smart  ultra"
      ]
     },
     "execution_count": 17,
     "metadata": {},
     "output_type": "execute_result"
    }
   ],
   "source": [
    "get_info_on_dataset(df_tariffs)\n",
    "df_tariffs.head().T"
   ]
  },
  {
   "cell_type": "markdown",
   "metadata": {},
   "source": [
    "**Dataset Tariffs** - состоит из 8 столбцов, 2 строк, пропущенный значений нет."
   ]
  },
  {
   "cell_type": "markdown",
   "metadata": {},
   "source": [
    "--------------------\n",
    "### Dataset `Users`"
   ]
  },
  {
   "cell_type": "code",
   "execution_count": 18,
   "metadata": {},
   "outputs": [
    {
     "name": "stdout",
     "output_type": "stream",
     "text": [
      "<class 'pandas.core.frame.DataFrame'>\n",
      "RangeIndex: 500 entries, 0 to 499\n",
      "Data columns (total 8 columns):\n",
      " #   Column      Non-Null Count  Dtype \n",
      "---  ------      --------------  ----- \n",
      " 0   user_id     500 non-null    int64 \n",
      " 1   age         500 non-null    int64 \n",
      " 2   churn_date  38 non-null     object\n",
      " 3   city        500 non-null    object\n",
      " 4   first_name  500 non-null    object\n",
      " 5   last_name   500 non-null    object\n",
      " 6   reg_date    500 non-null    object\n",
      " 7   tariff      500 non-null    object\n",
      "dtypes: int64(2), object(6)\n",
      "memory usage: 31.4+ KB\n",
      "\n",
      "Number of duplicated rows in the dataset: 0\n",
      "\n"
     ]
    },
    {
     "data": {
      "text/html": [
       "<div>\n",
       "<style scoped>\n",
       "    .dataframe tbody tr th:only-of-type {\n",
       "        vertical-align: middle;\n",
       "    }\n",
       "\n",
       "    .dataframe tbody tr th {\n",
       "        vertical-align: top;\n",
       "    }\n",
       "\n",
       "    .dataframe thead th {\n",
       "        text-align: right;\n",
       "    }\n",
       "</style>\n",
       "<table border=\"1\" class=\"dataframe\">\n",
       "  <thead>\n",
       "    <tr style=\"text-align: right;\">\n",
       "      <th></th>\n",
       "      <th>Not_Valid_Values_in %</th>\n",
       "    </tr>\n",
       "  </thead>\n",
       "  <tbody>\n",
       "    <tr>\n",
       "      <th>churn_date</th>\n",
       "      <td>92.4</td>\n",
       "    </tr>\n",
       "    <tr>\n",
       "      <th>user_id</th>\n",
       "      <td>0.0</td>\n",
       "    </tr>\n",
       "    <tr>\n",
       "      <th>age</th>\n",
       "      <td>0.0</td>\n",
       "    </tr>\n",
       "    <tr>\n",
       "      <th>city</th>\n",
       "      <td>0.0</td>\n",
       "    </tr>\n",
       "    <tr>\n",
       "      <th>first_name</th>\n",
       "      <td>0.0</td>\n",
       "    </tr>\n",
       "    <tr>\n",
       "      <th>last_name</th>\n",
       "      <td>0.0</td>\n",
       "    </tr>\n",
       "    <tr>\n",
       "      <th>reg_date</th>\n",
       "      <td>0.0</td>\n",
       "    </tr>\n",
       "    <tr>\n",
       "      <th>tariff</th>\n",
       "      <td>0.0</td>\n",
       "    </tr>\n",
       "  </tbody>\n",
       "</table>\n",
       "</div>"
      ],
      "text/plain": [
       "            Not_Valid_Values_in %\n",
       "churn_date                   92.4\n",
       "user_id                       0.0\n",
       "age                           0.0\n",
       "city                          0.0\n",
       "first_name                    0.0\n",
       "last_name                     0.0\n",
       "reg_date                      0.0\n",
       "tariff                        0.0"
      ]
     },
     "metadata": {},
     "output_type": "display_data"
    },
    {
     "data": {
      "text/html": [
       "<div>\n",
       "<style scoped>\n",
       "    .dataframe tbody tr th:only-of-type {\n",
       "        vertical-align: middle;\n",
       "    }\n",
       "\n",
       "    .dataframe tbody tr th {\n",
       "        vertical-align: top;\n",
       "    }\n",
       "\n",
       "    .dataframe thead th {\n",
       "        text-align: right;\n",
       "    }\n",
       "</style>\n",
       "<table border=\"1\" class=\"dataframe\">\n",
       "  <thead>\n",
       "    <tr style=\"text-align: right;\">\n",
       "      <th></th>\n",
       "      <th>user_id</th>\n",
       "      <th>age</th>\n",
       "      <th>churn_date</th>\n",
       "      <th>city</th>\n",
       "      <th>first_name</th>\n",
       "      <th>last_name</th>\n",
       "      <th>reg_date</th>\n",
       "      <th>tariff</th>\n",
       "    </tr>\n",
       "  </thead>\n",
       "  <tbody>\n",
       "    <tr>\n",
       "      <th>0</th>\n",
       "      <td>1000</td>\n",
       "      <td>52</td>\n",
       "      <td>NaN</td>\n",
       "      <td>Краснодар</td>\n",
       "      <td>Рафаил</td>\n",
       "      <td>Верещагин</td>\n",
       "      <td>2018-05-25</td>\n",
       "      <td>ultra</td>\n",
       "    </tr>\n",
       "    <tr>\n",
       "      <th>1</th>\n",
       "      <td>1001</td>\n",
       "      <td>41</td>\n",
       "      <td>NaN</td>\n",
       "      <td>Москва</td>\n",
       "      <td>Иван</td>\n",
       "      <td>Ежов</td>\n",
       "      <td>2018-11-01</td>\n",
       "      <td>smart</td>\n",
       "    </tr>\n",
       "    <tr>\n",
       "      <th>2</th>\n",
       "      <td>1002</td>\n",
       "      <td>59</td>\n",
       "      <td>NaN</td>\n",
       "      <td>Стерлитамак</td>\n",
       "      <td>Евгений</td>\n",
       "      <td>Абрамович</td>\n",
       "      <td>2018-06-17</td>\n",
       "      <td>smart</td>\n",
       "    </tr>\n",
       "    <tr>\n",
       "      <th>3</th>\n",
       "      <td>1003</td>\n",
       "      <td>23</td>\n",
       "      <td>NaN</td>\n",
       "      <td>Москва</td>\n",
       "      <td>Белла</td>\n",
       "      <td>Белякова</td>\n",
       "      <td>2018-08-17</td>\n",
       "      <td>ultra</td>\n",
       "    </tr>\n",
       "    <tr>\n",
       "      <th>4</th>\n",
       "      <td>1004</td>\n",
       "      <td>68</td>\n",
       "      <td>NaN</td>\n",
       "      <td>Новокузнецк</td>\n",
       "      <td>Татьяна</td>\n",
       "      <td>Авдеенко</td>\n",
       "      <td>2018-05-14</td>\n",
       "      <td>ultra</td>\n",
       "    </tr>\n",
       "  </tbody>\n",
       "</table>\n",
       "</div>"
      ],
      "text/plain": [
       "   user_id  age churn_date         city first_name  last_name    reg_date  \\\n",
       "0     1000   52        NaN    Краснодар     Рафаил  Верещагин  2018-05-25   \n",
       "1     1001   41        NaN       Москва       Иван       Ежов  2018-11-01   \n",
       "2     1002   59        NaN  Стерлитамак    Евгений  Абрамович  2018-06-17   \n",
       "3     1003   23        NaN       Москва      Белла   Белякова  2018-08-17   \n",
       "4     1004   68        NaN  Новокузнецк    Татьяна   Авдеенко  2018-05-14   \n",
       "\n",
       "  tariff  \n",
       "0  ultra  \n",
       "1  smart  \n",
       "2  smart  \n",
       "3  ultra  \n",
       "4  ultra  "
      ]
     },
     "execution_count": 18,
     "metadata": {},
     "output_type": "execute_result"
    }
   ],
   "source": [
    "get_info_on_dataset(df_users)\n",
    "df_users.head()"
   ]
  },
  {
   "cell_type": "code",
   "execution_count": 19,
   "metadata": {},
   "outputs": [
    {
     "name": "stdout",
     "output_type": "stream",
     "text": [
      "<class 'pandas.core.frame.DataFrame'>\n",
      "RangeIndex: 500 entries, 0 to 499\n",
      "Data columns (total 8 columns):\n",
      " #   Column      Non-Null Count  Dtype         \n",
      "---  ------      --------------  -----         \n",
      " 0   user_id     500 non-null    int64         \n",
      " 1   age         500 non-null    int64         \n",
      " 2   churn_date  38 non-null     datetime64[ns]\n",
      " 3   city        500 non-null    object        \n",
      " 4   first_name  500 non-null    object        \n",
      " 5   last_name   500 non-null    object        \n",
      " 6   reg_date    500 non-null    datetime64[ns]\n",
      " 7   tariff      500 non-null    object        \n",
      "dtypes: datetime64[ns](2), int64(2), object(4)\n",
      "memory usage: 31.4+ KB\n",
      "\n",
      "Number of duplicated rows in the dataset: 0\n",
      "\n"
     ]
    },
    {
     "data": {
      "text/html": [
       "<div>\n",
       "<style scoped>\n",
       "    .dataframe tbody tr th:only-of-type {\n",
       "        vertical-align: middle;\n",
       "    }\n",
       "\n",
       "    .dataframe tbody tr th {\n",
       "        vertical-align: top;\n",
       "    }\n",
       "\n",
       "    .dataframe thead th {\n",
       "        text-align: right;\n",
       "    }\n",
       "</style>\n",
       "<table border=\"1\" class=\"dataframe\">\n",
       "  <thead>\n",
       "    <tr style=\"text-align: right;\">\n",
       "      <th></th>\n",
       "      <th>Not_Valid_Values_in %</th>\n",
       "    </tr>\n",
       "  </thead>\n",
       "  <tbody>\n",
       "    <tr>\n",
       "      <th>churn_date</th>\n",
       "      <td>92.4</td>\n",
       "    </tr>\n",
       "    <tr>\n",
       "      <th>user_id</th>\n",
       "      <td>0.0</td>\n",
       "    </tr>\n",
       "    <tr>\n",
       "      <th>age</th>\n",
       "      <td>0.0</td>\n",
       "    </tr>\n",
       "    <tr>\n",
       "      <th>city</th>\n",
       "      <td>0.0</td>\n",
       "    </tr>\n",
       "    <tr>\n",
       "      <th>first_name</th>\n",
       "      <td>0.0</td>\n",
       "    </tr>\n",
       "    <tr>\n",
       "      <th>last_name</th>\n",
       "      <td>0.0</td>\n",
       "    </tr>\n",
       "    <tr>\n",
       "      <th>reg_date</th>\n",
       "      <td>0.0</td>\n",
       "    </tr>\n",
       "    <tr>\n",
       "      <th>tariff</th>\n",
       "      <td>0.0</td>\n",
       "    </tr>\n",
       "  </tbody>\n",
       "</table>\n",
       "</div>"
      ],
      "text/plain": [
       "            Not_Valid_Values_in %\n",
       "churn_date                   92.4\n",
       "user_id                       0.0\n",
       "age                           0.0\n",
       "city                          0.0\n",
       "first_name                    0.0\n",
       "last_name                     0.0\n",
       "reg_date                      0.0\n",
       "tariff                        0.0"
      ]
     },
     "metadata": {},
     "output_type": "display_data"
    },
    {
     "data": {
      "text/html": [
       "<div>\n",
       "<style scoped>\n",
       "    .dataframe tbody tr th:only-of-type {\n",
       "        vertical-align: middle;\n",
       "    }\n",
       "\n",
       "    .dataframe tbody tr th {\n",
       "        vertical-align: top;\n",
       "    }\n",
       "\n",
       "    .dataframe thead th {\n",
       "        text-align: right;\n",
       "    }\n",
       "</style>\n",
       "<table border=\"1\" class=\"dataframe\">\n",
       "  <thead>\n",
       "    <tr style=\"text-align: right;\">\n",
       "      <th></th>\n",
       "      <th>user_id</th>\n",
       "      <th>age</th>\n",
       "      <th>churn_date</th>\n",
       "      <th>city</th>\n",
       "      <th>first_name</th>\n",
       "      <th>last_name</th>\n",
       "      <th>reg_date</th>\n",
       "      <th>tariff</th>\n",
       "    </tr>\n",
       "  </thead>\n",
       "  <tbody>\n",
       "    <tr>\n",
       "      <th>0</th>\n",
       "      <td>1000</td>\n",
       "      <td>52</td>\n",
       "      <td>NaT</td>\n",
       "      <td>Краснодар</td>\n",
       "      <td>Рафаил</td>\n",
       "      <td>Верещагин</td>\n",
       "      <td>2018-05-25</td>\n",
       "      <td>ultra</td>\n",
       "    </tr>\n",
       "    <tr>\n",
       "      <th>1</th>\n",
       "      <td>1001</td>\n",
       "      <td>41</td>\n",
       "      <td>NaT</td>\n",
       "      <td>Москва</td>\n",
       "      <td>Иван</td>\n",
       "      <td>Ежов</td>\n",
       "      <td>2018-11-01</td>\n",
       "      <td>smart</td>\n",
       "    </tr>\n",
       "    <tr>\n",
       "      <th>2</th>\n",
       "      <td>1002</td>\n",
       "      <td>59</td>\n",
       "      <td>NaT</td>\n",
       "      <td>Стерлитамак</td>\n",
       "      <td>Евгений</td>\n",
       "      <td>Абрамович</td>\n",
       "      <td>2018-06-17</td>\n",
       "      <td>smart</td>\n",
       "    </tr>\n",
       "    <tr>\n",
       "      <th>3</th>\n",
       "      <td>1003</td>\n",
       "      <td>23</td>\n",
       "      <td>NaT</td>\n",
       "      <td>Москва</td>\n",
       "      <td>Белла</td>\n",
       "      <td>Белякова</td>\n",
       "      <td>2018-08-17</td>\n",
       "      <td>ultra</td>\n",
       "    </tr>\n",
       "    <tr>\n",
       "      <th>4</th>\n",
       "      <td>1004</td>\n",
       "      <td>68</td>\n",
       "      <td>NaT</td>\n",
       "      <td>Новокузнецк</td>\n",
       "      <td>Татьяна</td>\n",
       "      <td>Авдеенко</td>\n",
       "      <td>2018-05-14</td>\n",
       "      <td>ultra</td>\n",
       "    </tr>\n",
       "  </tbody>\n",
       "</table>\n",
       "</div>"
      ],
      "text/plain": [
       "   user_id  age churn_date         city first_name  last_name   reg_date  \\\n",
       "0     1000   52        NaT    Краснодар     Рафаил  Верещагин 2018-05-25   \n",
       "1     1001   41        NaT       Москва       Иван       Ежов 2018-11-01   \n",
       "2     1002   59        NaT  Стерлитамак    Евгений  Абрамович 2018-06-17   \n",
       "3     1003   23        NaT       Москва      Белла   Белякова 2018-08-17   \n",
       "4     1004   68        NaT  Новокузнецк    Татьяна   Авдеенко 2018-05-14   \n",
       "\n",
       "  tariff  \n",
       "0  ultra  \n",
       "1  smart  \n",
       "2  smart  \n",
       "3  ultra  \n",
       "4  ultra  "
      ]
     },
     "execution_count": 19,
     "metadata": {},
     "output_type": "execute_result"
    }
   ],
   "source": [
    "df_users['reg_date'] = pd.to_datetime(df_users['reg_date'], format='%Y-%m-%d')\n",
    "df_users['churn_date'] = pd.to_datetime(df_users['churn_date'], format='%Y-%m-%d')\n",
    "get_info_on_dataset(df_users)\n",
    "df_users.head(5)"
   ]
  },
  {
   "cell_type": "code",
   "execution_count": 20,
   "metadata": {},
   "outputs": [
    {
     "data": {
      "text/html": [
       "<div>\n",
       "<style scoped>\n",
       "    .dataframe tbody tr th:only-of-type {\n",
       "        vertical-align: middle;\n",
       "    }\n",
       "\n",
       "    .dataframe tbody tr th {\n",
       "        vertical-align: top;\n",
       "    }\n",
       "\n",
       "    .dataframe thead th {\n",
       "        text-align: right;\n",
       "    }\n",
       "</style>\n",
       "<table border=\"1\" class=\"dataframe\">\n",
       "  <thead>\n",
       "    <tr style=\"text-align: right;\">\n",
       "      <th></th>\n",
       "      <th>user_id</th>\n",
       "      <th>age</th>\n",
       "      <th>churn_date</th>\n",
       "      <th>city</th>\n",
       "      <th>first_name</th>\n",
       "      <th>last_name</th>\n",
       "      <th>reg_date</th>\n",
       "      <th>tariff</th>\n",
       "    </tr>\n",
       "  </thead>\n",
       "  <tbody>\n",
       "    <tr>\n",
       "      <th>19</th>\n",
       "      <td>1019</td>\n",
       "      <td>63</td>\n",
       "      <td>2018-10-05</td>\n",
       "      <td>Томск</td>\n",
       "      <td>Игнатий</td>\n",
       "      <td>Круглов</td>\n",
       "      <td>2018-05-16</td>\n",
       "      <td>ultra</td>\n",
       "    </tr>\n",
       "    <tr>\n",
       "      <th>20</th>\n",
       "      <td>1020</td>\n",
       "      <td>59</td>\n",
       "      <td>2018-12-18</td>\n",
       "      <td>Чита</td>\n",
       "      <td>Тала</td>\n",
       "      <td>Костина</td>\n",
       "      <td>2018-10-22</td>\n",
       "      <td>smart</td>\n",
       "    </tr>\n",
       "    <tr>\n",
       "      <th>34</th>\n",
       "      <td>1034</td>\n",
       "      <td>66</td>\n",
       "      <td>2018-11-21</td>\n",
       "      <td>Вологда</td>\n",
       "      <td>Святослав</td>\n",
       "      <td>Бондарев</td>\n",
       "      <td>2018-08-26</td>\n",
       "      <td>smart</td>\n",
       "    </tr>\n",
       "    <tr>\n",
       "      <th>50</th>\n",
       "      <td>1050</td>\n",
       "      <td>44</td>\n",
       "      <td>2018-10-03</td>\n",
       "      <td>Тюмень</td>\n",
       "      <td>Рузана</td>\n",
       "      <td>Аничкина</td>\n",
       "      <td>2018-06-16</td>\n",
       "      <td>ultra</td>\n",
       "    </tr>\n",
       "    <tr>\n",
       "      <th>51</th>\n",
       "      <td>1051</td>\n",
       "      <td>37</td>\n",
       "      <td>2018-10-14</td>\n",
       "      <td>Москва</td>\n",
       "      <td>Кристина</td>\n",
       "      <td>Сомова</td>\n",
       "      <td>2018-05-28</td>\n",
       "      <td>smart</td>\n",
       "    </tr>\n",
       "  </tbody>\n",
       "</table>\n",
       "</div>"
      ],
      "text/plain": [
       "    user_id  age churn_date     city first_name last_name   reg_date tariff\n",
       "19     1019   63 2018-10-05    Томск    Игнатий   Круглов 2018-05-16  ultra\n",
       "20     1020   59 2018-12-18     Чита       Тала   Костина 2018-10-22  smart\n",
       "34     1034   66 2018-11-21  Вологда  Святослав  Бондарев 2018-08-26  smart\n",
       "50     1050   44 2018-10-03   Тюмень     Рузана  Аничкина 2018-06-16  ultra\n",
       "51     1051   37 2018-10-14   Москва   Кристина    Сомова 2018-05-28  smart"
      ]
     },
     "execution_count": 20,
     "metadata": {},
     "output_type": "execute_result"
    }
   ],
   "source": [
    "df_users.query('churn_date!= \"\"').head(5)"
   ]
  },
  {
   "cell_type": "code",
   "execution_count": 21,
   "metadata": {},
   "outputs": [
    {
     "data": {
      "text/plain": [
       "array(['Краснодар', 'Москва', 'Стерлитамак', 'Новокузнецк',\n",
       "       'Набережные Челны', 'Ульяновск', 'Челябинск', 'Пермь', 'Тюмень',\n",
       "       'Самара', 'Санкт-Петербург', 'Иваново', 'Чебоксары', 'Омск', 'Уфа',\n",
       "       'Томск', 'Чита', 'Мурманск', 'Петрозаводск', 'Тверь',\n",
       "       'Екатеринбург', 'Махачкала', 'Вологда', 'Череповец', 'Ярославль',\n",
       "       'Сочи', 'Хабаровск', 'Ставрополь', 'Рязань', 'Улан-Удэ', 'Тула',\n",
       "       'Саратов', 'Ростов-на-Дону', 'Казань', 'Иркутск', 'Курск',\n",
       "       'Калуга', 'Якутск', 'Астрахань', 'Химки', 'Владикавказ',\n",
       "       'Волгоград', 'Саранск', 'Ижевск', 'Новосибирск', 'Брянск',\n",
       "       'Тольятти', 'Нижний Тагил', 'Орёл', 'Белгород', 'Воронеж',\n",
       "       'Волжский', 'Курган', 'Барнаул', 'Красноярск', 'Архангельск',\n",
       "       'Липецк', 'Кемерово', 'Киров', 'Сургут', 'Пенза', 'Магнитогорск',\n",
       "       'Нижний Новгород', 'Кострома', 'Владивосток', 'Тамбов', 'Балашиха',\n",
       "       'Севастополь', 'Калининград', 'Оренбург', 'Смоленск',\n",
       "       'Нижневартовск', 'Владимир', 'Новороссийск', 'Грозный', 'Подольск'],\n",
       "      dtype=object)"
      ]
     },
     "execution_count": 21,
     "metadata": {},
     "output_type": "execute_result"
    }
   ],
   "source": [
    "df_users['city'].unique()"
   ]
  },
  {
   "cell_type": "code",
   "execution_count": 22,
   "metadata": {},
   "outputs": [
    {
     "data": {
      "text/plain": [
       "array(['ultra', 'smart'], dtype=object)"
      ]
     },
     "execution_count": 22,
     "metadata": {},
     "output_type": "execute_result"
    }
   ],
   "source": [
    "df_users['tariff'].unique()"
   ]
  },
  {
   "cell_type": "code",
   "execution_count": 23,
   "metadata": {},
   "outputs": [
    {
     "data": {
      "text/html": [
       "<div>\n",
       "<style scoped>\n",
       "    .dataframe tbody tr th:only-of-type {\n",
       "        vertical-align: middle;\n",
       "    }\n",
       "\n",
       "    .dataframe tbody tr th {\n",
       "        vertical-align: top;\n",
       "    }\n",
       "\n",
       "    .dataframe thead th {\n",
       "        text-align: right;\n",
       "    }\n",
       "</style>\n",
       "<table border=\"1\" class=\"dataframe\">\n",
       "  <thead>\n",
       "    <tr style=\"text-align: right;\">\n",
       "      <th></th>\n",
       "      <th>user_id</th>\n",
       "      <th>age</th>\n",
       "      <th>churn_date</th>\n",
       "      <th>city</th>\n",
       "      <th>first_name</th>\n",
       "      <th>last_name</th>\n",
       "      <th>reg_date</th>\n",
       "      <th>tariff</th>\n",
       "    </tr>\n",
       "  </thead>\n",
       "  <tbody>\n",
       "    <tr>\n",
       "      <th>77</th>\n",
       "      <td>1077</td>\n",
       "      <td>18</td>\n",
       "      <td>NaT</td>\n",
       "      <td>Москва</td>\n",
       "      <td>Марица</td>\n",
       "      <td>Кольцова</td>\n",
       "      <td>2018-10-23</td>\n",
       "      <td>smart</td>\n",
       "    </tr>\n",
       "    <tr>\n",
       "      <th>204</th>\n",
       "      <td>1204</td>\n",
       "      <td>18</td>\n",
       "      <td>NaT</td>\n",
       "      <td>Москва</td>\n",
       "      <td>Мирослава</td>\n",
       "      <td>Лазарева</td>\n",
       "      <td>2018-01-04</td>\n",
       "      <td>smart</td>\n",
       "    </tr>\n",
       "  </tbody>\n",
       "</table>\n",
       "</div>"
      ],
      "text/plain": [
       "     user_id  age churn_date    city first_name last_name   reg_date tariff\n",
       "77      1077   18        NaT  Москва     Марица  Кольцова 2018-10-23  smart\n",
       "204     1204   18        NaT  Москва  Мирослава  Лазарева 2018-01-04  smart"
      ]
     },
     "metadata": {},
     "output_type": "display_data"
    },
    {
     "data": {
      "text/html": [
       "<div>\n",
       "<style scoped>\n",
       "    .dataframe tbody tr th:only-of-type {\n",
       "        vertical-align: middle;\n",
       "    }\n",
       "\n",
       "    .dataframe tbody tr th {\n",
       "        vertical-align: top;\n",
       "    }\n",
       "\n",
       "    .dataframe thead th {\n",
       "        text-align: right;\n",
       "    }\n",
       "</style>\n",
       "<table border=\"1\" class=\"dataframe\">\n",
       "  <thead>\n",
       "    <tr style=\"text-align: right;\">\n",
       "      <th></th>\n",
       "      <th>user_id</th>\n",
       "      <th>age</th>\n",
       "      <th>churn_date</th>\n",
       "      <th>city</th>\n",
       "      <th>first_name</th>\n",
       "      <th>last_name</th>\n",
       "      <th>reg_date</th>\n",
       "      <th>tariff</th>\n",
       "    </tr>\n",
       "  </thead>\n",
       "  <tbody>\n",
       "    <tr>\n",
       "      <th>177</th>\n",
       "      <td>1177</td>\n",
       "      <td>75</td>\n",
       "      <td>NaT</td>\n",
       "      <td>Новосибирск</td>\n",
       "      <td>Лолита</td>\n",
       "      <td>Аничкина</td>\n",
       "      <td>2018-06-19</td>\n",
       "      <td>smart</td>\n",
       "    </tr>\n",
       "    <tr>\n",
       "      <th>219</th>\n",
       "      <td>1219</td>\n",
       "      <td>75</td>\n",
       "      <td>NaT</td>\n",
       "      <td>Киров</td>\n",
       "      <td>Кузьма</td>\n",
       "      <td>Некрасов</td>\n",
       "      <td>2018-01-21</td>\n",
       "      <td>smart</td>\n",
       "    </tr>\n",
       "  </tbody>\n",
       "</table>\n",
       "</div>"
      ],
      "text/plain": [
       "     user_id  age churn_date         city first_name last_name   reg_date  \\\n",
       "177     1177   75        NaT  Новосибирск     Лолита  Аничкина 2018-06-19   \n",
       "219     1219   75        NaT        Киров     Кузьма  Некрасов 2018-01-21   \n",
       "\n",
       "    tariff  \n",
       "177  smart  \n",
       "219  smart  "
      ]
     },
     "metadata": {},
     "output_type": "display_data"
    }
   ],
   "source": [
    "display(df_users.sort_values('age').head(2))\n",
    "display(df_users.sort_values('age').tail(2))"
   ]
  },
  {
   "cell_type": "code",
   "execution_count": 24,
   "metadata": {},
   "outputs": [
    {
     "data": {
      "text/html": [
       "<div>\n",
       "<style scoped>\n",
       "    .dataframe tbody tr th:only-of-type {\n",
       "        vertical-align: middle;\n",
       "    }\n",
       "\n",
       "    .dataframe tbody tr th {\n",
       "        vertical-align: top;\n",
       "    }\n",
       "\n",
       "    .dataframe thead th {\n",
       "        text-align: right;\n",
       "    }\n",
       "</style>\n",
       "<table border=\"1\" class=\"dataframe\">\n",
       "  <thead>\n",
       "    <tr style=\"text-align: right;\">\n",
       "      <th></th>\n",
       "      <th>user_id</th>\n",
       "      <th>age</th>\n",
       "      <th>churn_date</th>\n",
       "      <th>city</th>\n",
       "      <th>first_name</th>\n",
       "      <th>last_name</th>\n",
       "      <th>reg_date</th>\n",
       "      <th>tariff</th>\n",
       "    </tr>\n",
       "  </thead>\n",
       "  <tbody>\n",
       "    <tr>\n",
       "      <th>0</th>\n",
       "      <td>1000</td>\n",
       "      <td>52</td>\n",
       "      <td>NaT</td>\n",
       "      <td>Краснодар</td>\n",
       "      <td>Рафаил</td>\n",
       "      <td>Верещагин</td>\n",
       "      <td>2018-05-25</td>\n",
       "      <td>ultra</td>\n",
       "    </tr>\n",
       "    <tr>\n",
       "      <th>1</th>\n",
       "      <td>1001</td>\n",
       "      <td>41</td>\n",
       "      <td>NaT</td>\n",
       "      <td>Москва</td>\n",
       "      <td>Иван</td>\n",
       "      <td>Ежов</td>\n",
       "      <td>2018-11-01</td>\n",
       "      <td>smart</td>\n",
       "    </tr>\n",
       "  </tbody>\n",
       "</table>\n",
       "</div>"
      ],
      "text/plain": [
       "   user_id  age churn_date       city first_name  last_name   reg_date tariff\n",
       "0     1000   52        NaT  Краснодар     Рафаил  Верещагин 2018-05-25  ultra\n",
       "1     1001   41        NaT     Москва       Иван       Ежов 2018-11-01  smart"
      ]
     },
     "metadata": {},
     "output_type": "display_data"
    },
    {
     "data": {
      "text/html": [
       "<div>\n",
       "<style scoped>\n",
       "    .dataframe tbody tr th:only-of-type {\n",
       "        vertical-align: middle;\n",
       "    }\n",
       "\n",
       "    .dataframe tbody tr th {\n",
       "        vertical-align: top;\n",
       "    }\n",
       "\n",
       "    .dataframe thead th {\n",
       "        text-align: right;\n",
       "    }\n",
       "</style>\n",
       "<table border=\"1\" class=\"dataframe\">\n",
       "  <thead>\n",
       "    <tr style=\"text-align: right;\">\n",
       "      <th></th>\n",
       "      <th>user_id</th>\n",
       "      <th>age</th>\n",
       "      <th>churn_date</th>\n",
       "      <th>city</th>\n",
       "      <th>first_name</th>\n",
       "      <th>last_name</th>\n",
       "      <th>reg_date</th>\n",
       "      <th>tariff</th>\n",
       "    </tr>\n",
       "  </thead>\n",
       "  <tbody>\n",
       "    <tr>\n",
       "      <th>498</th>\n",
       "      <td>1498</td>\n",
       "      <td>68</td>\n",
       "      <td>2018-10-25</td>\n",
       "      <td>Владикавказ</td>\n",
       "      <td>Всеволод</td>\n",
       "      <td>Акимчин</td>\n",
       "      <td>2018-07-19</td>\n",
       "      <td>smart</td>\n",
       "    </tr>\n",
       "    <tr>\n",
       "      <th>499</th>\n",
       "      <td>1499</td>\n",
       "      <td>35</td>\n",
       "      <td>NaT</td>\n",
       "      <td>Пермь</td>\n",
       "      <td>Гектор</td>\n",
       "      <td>Корнилов</td>\n",
       "      <td>2018-09-27</td>\n",
       "      <td>smart</td>\n",
       "    </tr>\n",
       "  </tbody>\n",
       "</table>\n",
       "</div>"
      ],
      "text/plain": [
       "     user_id  age churn_date         city first_name last_name   reg_date  \\\n",
       "498     1498   68 2018-10-25  Владикавказ   Всеволод   Акимчин 2018-07-19   \n",
       "499     1499   35        NaT        Пермь     Гектор  Корнилов 2018-09-27   \n",
       "\n",
       "    tariff  \n",
       "498  smart  \n",
       "499  smart  "
      ]
     },
     "metadata": {},
     "output_type": "display_data"
    }
   ],
   "source": [
    "display(df_users.sort_values('user_id').head(2))\n",
    "display(df_users.sort_values('user_id').tail(2))"
   ]
  },
  {
   "cell_type": "markdown",
   "metadata": {},
   "source": [
    "**Dataset Users** - состоит из 8 столбцов, 500 строк, пропущены значения в столбце `churn_date` - оставим так, потому что при дальнейшем анализе этот столбец нам не понадобится. Столбцы `churn_date` - *дата прекращения пользования тарифом* и `reg_date`- *дата подключения тарифа* привели к формату Дата."
   ]
  },
  {
   "cell_type": "markdown",
   "metadata": {},
   "source": [
    "**Вывод:** ознакомились с данными, сделали предвательную чистку, проверку на дубликаты и пропуски, изучили уникальные значения. Далее приступаем к подготовке данных для анализа."
   ]
  },
  {
   "cell_type": "markdown",
   "metadata": {},
   "source": [
    "## Подготовка данных"
   ]
  },
  {
   "cell_type": "markdown",
   "metadata": {},
   "source": [
    "--------------------\n",
    "### Dataset `Internet`"
   ]
  },
  {
   "cell_type": "markdown",
   "metadata": {},
   "source": [
    "Определим ежемесячный объём израсходованного Интернет-трафика для каждого \"user_id\""
   ]
  },
  {
   "cell_type": "code",
   "execution_count": 25,
   "metadata": {},
   "outputs": [
    {
     "data": {
      "text/plain": [
       "array([2018])"
      ]
     },
     "execution_count": 25,
     "metadata": {},
     "output_type": "execute_result"
    }
   ],
   "source": [
    "df_internet['month'] = df_internet['session_date'].dt.month\n",
    "df_internet['year'] = df_internet['session_date'].dt.year\n",
    "df_internet['year'].unique()"
   ]
  },
  {
   "cell_type": "code",
   "execution_count": 26,
   "metadata": {},
   "outputs": [
    {
     "data": {
      "text/html": [
       "<div>\n",
       "<style scoped>\n",
       "    .dataframe tbody tr th:only-of-type {\n",
       "        vertical-align: middle;\n",
       "    }\n",
       "\n",
       "    .dataframe tbody tr th {\n",
       "        vertical-align: top;\n",
       "    }\n",
       "\n",
       "    .dataframe thead th {\n",
       "        text-align: right;\n",
       "    }\n",
       "</style>\n",
       "<table border=\"1\" class=\"dataframe\">\n",
       "  <thead>\n",
       "    <tr style=\"text-align: right;\">\n",
       "      <th></th>\n",
       "      <th>user_id</th>\n",
       "      <th>month</th>\n",
       "      <th>sum_month_mb</th>\n",
       "    </tr>\n",
       "  </thead>\n",
       "  <tbody>\n",
       "    <tr>\n",
       "      <th>0</th>\n",
       "      <td>1000</td>\n",
       "      <td>5</td>\n",
       "      <td>2253.49</td>\n",
       "    </tr>\n",
       "    <tr>\n",
       "      <th>1</th>\n",
       "      <td>1000</td>\n",
       "      <td>6</td>\n",
       "      <td>23233.77</td>\n",
       "    </tr>\n",
       "    <tr>\n",
       "      <th>2</th>\n",
       "      <td>1000</td>\n",
       "      <td>7</td>\n",
       "      <td>14003.64</td>\n",
       "    </tr>\n",
       "    <tr>\n",
       "      <th>3</th>\n",
       "      <td>1000</td>\n",
       "      <td>8</td>\n",
       "      <td>14055.93</td>\n",
       "    </tr>\n",
       "    <tr>\n",
       "      <th>4</th>\n",
       "      <td>1000</td>\n",
       "      <td>9</td>\n",
       "      <td>14568.91</td>\n",
       "    </tr>\n",
       "    <tr>\n",
       "      <th>5</th>\n",
       "      <td>1000</td>\n",
       "      <td>10</td>\n",
       "      <td>14702.49</td>\n",
       "    </tr>\n",
       "    <tr>\n",
       "      <th>6</th>\n",
       "      <td>1000</td>\n",
       "      <td>11</td>\n",
       "      <td>14756.47</td>\n",
       "    </tr>\n",
       "    <tr>\n",
       "      <th>7</th>\n",
       "      <td>1000</td>\n",
       "      <td>12</td>\n",
       "      <td>9817.61</td>\n",
       "    </tr>\n",
       "    <tr>\n",
       "      <th>8</th>\n",
       "      <td>1001</td>\n",
       "      <td>11</td>\n",
       "      <td>18429.34</td>\n",
       "    </tr>\n",
       "    <tr>\n",
       "      <th>9</th>\n",
       "      <td>1001</td>\n",
       "      <td>12</td>\n",
       "      <td>14036.66</td>\n",
       "    </tr>\n",
       "  </tbody>\n",
       "</table>\n",
       "</div>"
      ],
      "text/plain": [
       "   user_id  month  sum_month_mb\n",
       "0     1000      5       2253.49\n",
       "1     1000      6      23233.77\n",
       "2     1000      7      14003.64\n",
       "3     1000      8      14055.93\n",
       "4     1000      9      14568.91\n",
       "5     1000     10      14702.49\n",
       "6     1000     11      14756.47\n",
       "7     1000     12       9817.61\n",
       "8     1001     11      18429.34\n",
       "9     1001     12      14036.66"
      ]
     },
     "execution_count": 26,
     "metadata": {},
     "output_type": "execute_result"
    }
   ],
   "source": [
    "df_internet_stats = df_internet.groupby(\\\n",
    "                                  ['user_id','month'])\\\n",
    "                                  ['mb_used'].agg(['sum']).reset_index()\n",
    "df_internet_stats = df_internet_stats.rename(columns={'sum': 'sum_month_mb'})\n",
    "df_internet_stats.head(10)\n"
   ]
  },
  {
   "cell_type": "code",
   "execution_count": 27,
   "metadata": {},
   "outputs": [
    {
     "data": {
      "text/html": [
       "<div>\n",
       "<style scoped>\n",
       "    .dataframe tbody tr th:only-of-type {\n",
       "        vertical-align: middle;\n",
       "    }\n",
       "\n",
       "    .dataframe tbody tr th {\n",
       "        vertical-align: top;\n",
       "    }\n",
       "\n",
       "    .dataframe thead th {\n",
       "        text-align: right;\n",
       "    }\n",
       "</style>\n",
       "<table border=\"1\" class=\"dataframe\">\n",
       "  <thead>\n",
       "    <tr style=\"text-align: right;\">\n",
       "      <th></th>\n",
       "      <th>user_id</th>\n",
       "      <th>month</th>\n",
       "      <th>sum_month_mb</th>\n",
       "      <th>gb_used</th>\n",
       "    </tr>\n",
       "  </thead>\n",
       "  <tbody>\n",
       "    <tr>\n",
       "      <th>0</th>\n",
       "      <td>1000</td>\n",
       "      <td>5</td>\n",
       "      <td>2253.49</td>\n",
       "      <td>3.0</td>\n",
       "    </tr>\n",
       "    <tr>\n",
       "      <th>1</th>\n",
       "      <td>1000</td>\n",
       "      <td>6</td>\n",
       "      <td>23233.77</td>\n",
       "      <td>23.0</td>\n",
       "    </tr>\n",
       "    <tr>\n",
       "      <th>2</th>\n",
       "      <td>1000</td>\n",
       "      <td>7</td>\n",
       "      <td>14003.64</td>\n",
       "      <td>14.0</td>\n",
       "    </tr>\n",
       "    <tr>\n",
       "      <th>3</th>\n",
       "      <td>1000</td>\n",
       "      <td>8</td>\n",
       "      <td>14055.93</td>\n",
       "      <td>14.0</td>\n",
       "    </tr>\n",
       "    <tr>\n",
       "      <th>4</th>\n",
       "      <td>1000</td>\n",
       "      <td>9</td>\n",
       "      <td>14568.91</td>\n",
       "      <td>15.0</td>\n",
       "    </tr>\n",
       "  </tbody>\n",
       "</table>\n",
       "</div>"
      ],
      "text/plain": [
       "   user_id  month  sum_month_mb  gb_used\n",
       "0     1000      5       2253.49      3.0\n",
       "1     1000      6      23233.77     23.0\n",
       "2     1000      7      14003.64     14.0\n",
       "3     1000      8      14055.93     14.0\n",
       "4     1000      9      14568.91     15.0"
      ]
     },
     "execution_count": 27,
     "metadata": {},
     "output_type": "execute_result"
    }
   ],
   "source": [
    "df_internet_stats['gb_used'] = (df_internet_stats['sum_month_mb']/1024).apply(np.ceil)\n",
    "df_internet_stats.head()"
   ]
  },
  {
   "cell_type": "markdown",
   "metadata": {},
   "source": [
    "В Dataset `Internet` добавили столбцы `month`, `year`. Проверили, что в данных только 2018 год. Сгруппировали таблицу по `user_id` и `month`, нашли сумму Мб в месяц и округлили до Гб -  столбец `gb_used`."
   ]
  },
  {
   "cell_type": "markdown",
   "metadata": {},
   "source": [
    "--------------------\n",
    "### Dataset `Сalls`"
   ]
  },
  {
   "cell_type": "markdown",
   "metadata": {},
   "source": [
    "Определим ежемесячное количество звонков и минут разговора для каждого \"user_id\""
   ]
  },
  {
   "cell_type": "code",
   "execution_count": 28,
   "metadata": {},
   "outputs": [
    {
     "data": {
      "text/plain": [
       "array([2018])"
      ]
     },
     "execution_count": 28,
     "metadata": {},
     "output_type": "execute_result"
    }
   ],
   "source": [
    "df_calls['month'] = df_calls['call_date'].dt.month\n",
    "df_calls['year'] = df_calls['call_date'].dt.year\n",
    "df_calls['year'].unique()"
   ]
  },
  {
   "cell_type": "code",
   "execution_count": 29,
   "metadata": {},
   "outputs": [
    {
     "data": {
      "text/html": [
       "<div>\n",
       "<style scoped>\n",
       "    .dataframe tbody tr th:only-of-type {\n",
       "        vertical-align: middle;\n",
       "    }\n",
       "\n",
       "    .dataframe tbody tr th {\n",
       "        vertical-align: top;\n",
       "    }\n",
       "\n",
       "    .dataframe thead th {\n",
       "        text-align: right;\n",
       "    }\n",
       "</style>\n",
       "<table border=\"1\" class=\"dataframe\">\n",
       "  <thead>\n",
       "    <tr style=\"text-align: right;\">\n",
       "      <th></th>\n",
       "      <th>id</th>\n",
       "      <th>call_date</th>\n",
       "      <th>duration</th>\n",
       "      <th>user_id</th>\n",
       "      <th>month</th>\n",
       "      <th>year</th>\n",
       "      <th>duration_ceil</th>\n",
       "    </tr>\n",
       "  </thead>\n",
       "  <tbody>\n",
       "    <tr>\n",
       "      <th>0</th>\n",
       "      <td>1000_0</td>\n",
       "      <td>2018-07-25</td>\n",
       "      <td>0.00</td>\n",
       "      <td>1000</td>\n",
       "      <td>7</td>\n",
       "      <td>2018</td>\n",
       "      <td>0.0</td>\n",
       "    </tr>\n",
       "    <tr>\n",
       "      <th>1</th>\n",
       "      <td>1000_1</td>\n",
       "      <td>2018-08-17</td>\n",
       "      <td>0.00</td>\n",
       "      <td>1000</td>\n",
       "      <td>8</td>\n",
       "      <td>2018</td>\n",
       "      <td>0.0</td>\n",
       "    </tr>\n",
       "    <tr>\n",
       "      <th>2</th>\n",
       "      <td>1000_2</td>\n",
       "      <td>2018-06-11</td>\n",
       "      <td>2.85</td>\n",
       "      <td>1000</td>\n",
       "      <td>6</td>\n",
       "      <td>2018</td>\n",
       "      <td>3.0</td>\n",
       "    </tr>\n",
       "    <tr>\n",
       "      <th>3</th>\n",
       "      <td>1000_3</td>\n",
       "      <td>2018-09-21</td>\n",
       "      <td>13.80</td>\n",
       "      <td>1000</td>\n",
       "      <td>9</td>\n",
       "      <td>2018</td>\n",
       "      <td>14.0</td>\n",
       "    </tr>\n",
       "    <tr>\n",
       "      <th>4</th>\n",
       "      <td>1000_4</td>\n",
       "      <td>2018-12-15</td>\n",
       "      <td>5.18</td>\n",
       "      <td>1000</td>\n",
       "      <td>12</td>\n",
       "      <td>2018</td>\n",
       "      <td>6.0</td>\n",
       "    </tr>\n",
       "  </tbody>\n",
       "</table>\n",
       "</div>"
      ],
      "text/plain": [
       "       id  call_date  duration  user_id  month  year  duration_ceil\n",
       "0  1000_0 2018-07-25      0.00     1000      7  2018            0.0\n",
       "1  1000_1 2018-08-17      0.00     1000      8  2018            0.0\n",
       "2  1000_2 2018-06-11      2.85     1000      6  2018            3.0\n",
       "3  1000_3 2018-09-21     13.80     1000      9  2018           14.0\n",
       "4  1000_4 2018-12-15      5.18     1000     12  2018            6.0"
      ]
     },
     "execution_count": 29,
     "metadata": {},
     "output_type": "execute_result"
    }
   ],
   "source": [
    "df_calls['duration_ceil']=df_calls['duration'].apply(np.ceil)\n",
    "df_calls.head()"
   ]
  },
  {
   "cell_type": "code",
   "execution_count": 30,
   "metadata": {},
   "outputs": [
    {
     "data": {
      "text/html": [
       "<div>\n",
       "<style scoped>\n",
       "    .dataframe tbody tr th:only-of-type {\n",
       "        vertical-align: middle;\n",
       "    }\n",
       "\n",
       "    .dataframe tbody tr th {\n",
       "        vertical-align: top;\n",
       "    }\n",
       "\n",
       "    .dataframe thead th {\n",
       "        text-align: right;\n",
       "    }\n",
       "</style>\n",
       "<table border=\"1\" class=\"dataframe\">\n",
       "  <thead>\n",
       "    <tr style=\"text-align: right;\">\n",
       "      <th></th>\n",
       "      <th>user_id</th>\n",
       "      <th>month</th>\n",
       "      <th>calls_number</th>\n",
       "      <th>calls_duration</th>\n",
       "    </tr>\n",
       "  </thead>\n",
       "  <tbody>\n",
       "    <tr>\n",
       "      <th>0</th>\n",
       "      <td>1000</td>\n",
       "      <td>5</td>\n",
       "      <td>22</td>\n",
       "      <td>159.0</td>\n",
       "    </tr>\n",
       "    <tr>\n",
       "      <th>1</th>\n",
       "      <td>1000</td>\n",
       "      <td>6</td>\n",
       "      <td>43</td>\n",
       "      <td>172.0</td>\n",
       "    </tr>\n",
       "    <tr>\n",
       "      <th>2</th>\n",
       "      <td>1000</td>\n",
       "      <td>7</td>\n",
       "      <td>47</td>\n",
       "      <td>340.0</td>\n",
       "    </tr>\n",
       "    <tr>\n",
       "      <th>3</th>\n",
       "      <td>1000</td>\n",
       "      <td>8</td>\n",
       "      <td>52</td>\n",
       "      <td>408.0</td>\n",
       "    </tr>\n",
       "    <tr>\n",
       "      <th>4</th>\n",
       "      <td>1000</td>\n",
       "      <td>9</td>\n",
       "      <td>58</td>\n",
       "      <td>466.0</td>\n",
       "    </tr>\n",
       "  </tbody>\n",
       "</table>\n",
       "</div>"
      ],
      "text/plain": [
       "   user_id  month  calls_number  calls_duration\n",
       "0     1000      5            22           159.0\n",
       "1     1000      6            43           172.0\n",
       "2     1000      7            47           340.0\n",
       "3     1000      8            52           408.0\n",
       "4     1000      9            58           466.0"
      ]
     },
     "execution_count": 30,
     "metadata": {},
     "output_type": "execute_result"
    }
   ],
   "source": [
    "df_calls_stats = pd.pivot_table(df_calls,\n",
    "                                 index=['user_id','month'],\n",
    "                                 values='duration_ceil', aggfunc=['count','sum']).reset_index()\n",
    "df_calls_stats.columns = ['user_id','month','calls_number','calls_duration']\n",
    "df_calls_stats.head()"
   ]
  },
  {
   "cell_type": "markdown",
   "metadata": {},
   "source": [
    "В Dataset `Calls` добавили столбцы `month`, `year`. Проверили, что в данных только 2018 год. Создали сводную таблицу по столбцам  `user_id` и `month`, нашли количество и общую продолжительность звонков за месяц."
   ]
  },
  {
   "cell_type": "markdown",
   "metadata": {},
   "source": [
    "--------------------\n",
    "### Dataset `Messages`"
   ]
  },
  {
   "cell_type": "markdown",
   "metadata": {},
   "source": [
    "Определим ежемесячное количество отправленных сообщений для каждого \"user_id\""
   ]
  },
  {
   "cell_type": "code",
   "execution_count": 31,
   "metadata": {},
   "outputs": [
    {
     "data": {
      "text/plain": [
       "array([2018])"
      ]
     },
     "execution_count": 31,
     "metadata": {},
     "output_type": "execute_result"
    }
   ],
   "source": [
    "df_messages['month'] = df_messages['message_date'].dt.month\n",
    "df_messages['year'] = df_messages['message_date'].dt.year\n",
    "df_messages['year'].unique()"
   ]
  },
  {
   "cell_type": "code",
   "execution_count": 32,
   "metadata": {},
   "outputs": [
    {
     "data": {
      "text/html": [
       "<div>\n",
       "<style scoped>\n",
       "    .dataframe tbody tr th:only-of-type {\n",
       "        vertical-align: middle;\n",
       "    }\n",
       "\n",
       "    .dataframe tbody tr th {\n",
       "        vertical-align: top;\n",
       "    }\n",
       "\n",
       "    .dataframe thead th {\n",
       "        text-align: right;\n",
       "    }\n",
       "</style>\n",
       "<table border=\"1\" class=\"dataframe\">\n",
       "  <thead>\n",
       "    <tr style=\"text-align: right;\">\n",
       "      <th></th>\n",
       "      <th>user_id</th>\n",
       "      <th>month</th>\n",
       "      <th>messages_number</th>\n",
       "    </tr>\n",
       "  </thead>\n",
       "  <tbody>\n",
       "    <tr>\n",
       "      <th>0</th>\n",
       "      <td>1000</td>\n",
       "      <td>5</td>\n",
       "      <td>22</td>\n",
       "    </tr>\n",
       "    <tr>\n",
       "      <th>1</th>\n",
       "      <td>1000</td>\n",
       "      <td>6</td>\n",
       "      <td>60</td>\n",
       "    </tr>\n",
       "    <tr>\n",
       "      <th>2</th>\n",
       "      <td>1000</td>\n",
       "      <td>7</td>\n",
       "      <td>75</td>\n",
       "    </tr>\n",
       "    <tr>\n",
       "      <th>3</th>\n",
       "      <td>1000</td>\n",
       "      <td>8</td>\n",
       "      <td>81</td>\n",
       "    </tr>\n",
       "    <tr>\n",
       "      <th>4</th>\n",
       "      <td>1000</td>\n",
       "      <td>9</td>\n",
       "      <td>57</td>\n",
       "    </tr>\n",
       "    <tr>\n",
       "      <th>5</th>\n",
       "      <td>1000</td>\n",
       "      <td>10</td>\n",
       "      <td>73</td>\n",
       "    </tr>\n",
       "    <tr>\n",
       "      <th>6</th>\n",
       "      <td>1000</td>\n",
       "      <td>11</td>\n",
       "      <td>58</td>\n",
       "    </tr>\n",
       "    <tr>\n",
       "      <th>7</th>\n",
       "      <td>1000</td>\n",
       "      <td>12</td>\n",
       "      <td>70</td>\n",
       "    </tr>\n",
       "    <tr>\n",
       "      <th>8</th>\n",
       "      <td>1002</td>\n",
       "      <td>6</td>\n",
       "      <td>4</td>\n",
       "    </tr>\n",
       "    <tr>\n",
       "      <th>9</th>\n",
       "      <td>1002</td>\n",
       "      <td>7</td>\n",
       "      <td>11</td>\n",
       "    </tr>\n",
       "  </tbody>\n",
       "</table>\n",
       "</div>"
      ],
      "text/plain": [
       "   user_id  month  messages_number\n",
       "0     1000      5               22\n",
       "1     1000      6               60\n",
       "2     1000      7               75\n",
       "3     1000      8               81\n",
       "4     1000      9               57\n",
       "5     1000     10               73\n",
       "6     1000     11               58\n",
       "7     1000     12               70\n",
       "8     1002      6                4\n",
       "9     1002      7               11"
      ]
     },
     "execution_count": 32,
     "metadata": {},
     "output_type": "execute_result"
    }
   ],
   "source": [
    "df_messages_stats = pd.pivot_table(df_messages,\n",
    "                                 index=['user_id','month'],\n",
    "                                 values='message_date', aggfunc='count').reset_index()\n",
    "\n",
    "df_messages_stats = df_messages_stats.rename(columns={'message_date': 'messages_number'})\n",
    "df_messages_stats.head(10)"
   ]
  },
  {
   "cell_type": "code",
   "execution_count": 33,
   "metadata": {},
   "outputs": [
    {
     "data": {
      "text/html": [
       "<div>\n",
       "<style scoped>\n",
       "    .dataframe tbody tr th:only-of-type {\n",
       "        vertical-align: middle;\n",
       "    }\n",
       "\n",
       "    .dataframe tbody tr th {\n",
       "        vertical-align: top;\n",
       "    }\n",
       "\n",
       "    .dataframe thead th {\n",
       "        text-align: right;\n",
       "    }\n",
       "</style>\n",
       "<table border=\"1\" class=\"dataframe\">\n",
       "  <thead>\n",
       "    <tr style=\"text-align: right;\">\n",
       "      <th></th>\n",
       "      <th>id</th>\n",
       "      <th>message_date</th>\n",
       "      <th>user_id</th>\n",
       "      <th>month</th>\n",
       "      <th>year</th>\n",
       "    </tr>\n",
       "  </thead>\n",
       "  <tbody>\n",
       "    <tr>\n",
       "      <th>505</th>\n",
       "      <td>1002_9</td>\n",
       "      <td>2018-06-17</td>\n",
       "      <td>1002</td>\n",
       "      <td>6</td>\n",
       "      <td>2018</td>\n",
       "    </tr>\n",
       "    <tr>\n",
       "      <th>524</th>\n",
       "      <td>1002_28</td>\n",
       "      <td>2018-06-23</td>\n",
       "      <td>1002</td>\n",
       "      <td>6</td>\n",
       "      <td>2018</td>\n",
       "    </tr>\n",
       "    <tr>\n",
       "      <th>535</th>\n",
       "      <td>1002_39</td>\n",
       "      <td>2018-06-19</td>\n",
       "      <td>1002</td>\n",
       "      <td>6</td>\n",
       "      <td>2018</td>\n",
       "    </tr>\n",
       "    <tr>\n",
       "      <th>546</th>\n",
       "      <td>1002_50</td>\n",
       "      <td>2018-06-23</td>\n",
       "      <td>1002</td>\n",
       "      <td>6</td>\n",
       "      <td>2018</td>\n",
       "    </tr>\n",
       "  </tbody>\n",
       "</table>\n",
       "</div>"
      ],
      "text/plain": [
       "          id message_date  user_id  month  year\n",
       "505   1002_9   2018-06-17     1002      6  2018\n",
       "524  1002_28   2018-06-23     1002      6  2018\n",
       "535  1002_39   2018-06-19     1002      6  2018\n",
       "546  1002_50   2018-06-23     1002      6  2018"
      ]
     },
     "execution_count": 33,
     "metadata": {},
     "output_type": "execute_result"
    }
   ],
   "source": [
    "df_messages.query('user_id == 1002 and month == 6')"
   ]
  },
  {
   "cell_type": "markdown",
   "metadata": {},
   "source": [
    "В Dataset `Messages` добавили столбцы `month`, `year`. Проверили, что в данных только 2018 год. Создали сводную таблицу по столбцам  `user_id` и `month`, нашли количество сообщений в месяц."
   ]
  },
  {
   "cell_type": "markdown",
   "metadata": {},
   "source": [
    "--------------------\n",
    "### Итоговая сводная таблица"
   ]
  },
  {
   "cell_type": "markdown",
   "metadata": {},
   "source": [
    "Сводим таблицы в одну по первичным ключам `user_id & month` и `user_id`"
   ]
  },
  {
   "cell_type": "code",
   "execution_count": 34,
   "metadata": {},
   "outputs": [
    {
     "name": "stdout",
     "output_type": "stream",
     "text": [
      "Количество строк df_users           500\n",
      "Количество строк df_internet_stats  3203\n",
      "Количество строк df_calls_stats     3174\n",
      "Количество строк df_messages_stats  2717\n",
      "Количество строк df_tariffs         2\n"
     ]
    }
   ],
   "source": [
    "print(\"Количество строк df_users          \", df_users.shape[0])\n",
    "print(\"Количество строк df_internet_stats \", df_internet_stats.shape[0])\n",
    "print(\"Количество строк df_calls_stats    \", df_calls_stats.shape[0])\n",
    "print(\"Количество строк df_messages_stats \", df_messages_stats.shape[0])\n",
    "print(\"Количество строк df_tariffs        \", df_tariffs.shape[0])"
   ]
  },
  {
   "cell_type": "code",
   "execution_count": 35,
   "metadata": {},
   "outputs": [
    {
     "name": "stdout",
     "output_type": "stream",
     "text": [
      "Количество строк resulting_df  3182\n"
     ]
    },
    {
     "data": {
      "text/html": [
       "<div>\n",
       "<style scoped>\n",
       "    .dataframe tbody tr th:only-of-type {\n",
       "        vertical-align: middle;\n",
       "    }\n",
       "\n",
       "    .dataframe tbody tr th {\n",
       "        vertical-align: top;\n",
       "    }\n",
       "\n",
       "    .dataframe thead th {\n",
       "        text-align: right;\n",
       "    }\n",
       "</style>\n",
       "<table border=\"1\" class=\"dataframe\">\n",
       "  <thead>\n",
       "    <tr style=\"text-align: right;\">\n",
       "      <th></th>\n",
       "      <th>user_id</th>\n",
       "      <th>age</th>\n",
       "      <th>churn_date</th>\n",
       "      <th>city</th>\n",
       "      <th>first_name</th>\n",
       "      <th>last_name</th>\n",
       "      <th>reg_date</th>\n",
       "      <th>tariff</th>\n",
       "      <th>month</th>\n",
       "      <th>calls_number</th>\n",
       "      <th>calls_duration</th>\n",
       "    </tr>\n",
       "  </thead>\n",
       "  <tbody>\n",
       "    <tr>\n",
       "      <th>0</th>\n",
       "      <td>1000</td>\n",
       "      <td>52</td>\n",
       "      <td>NaT</td>\n",
       "      <td>Краснодар</td>\n",
       "      <td>Рафаил</td>\n",
       "      <td>Верещагин</td>\n",
       "      <td>2018-05-25</td>\n",
       "      <td>ultra</td>\n",
       "      <td>5.0</td>\n",
       "      <td>22.0</td>\n",
       "      <td>159.0</td>\n",
       "    </tr>\n",
       "    <tr>\n",
       "      <th>1</th>\n",
       "      <td>1000</td>\n",
       "      <td>52</td>\n",
       "      <td>NaT</td>\n",
       "      <td>Краснодар</td>\n",
       "      <td>Рафаил</td>\n",
       "      <td>Верещагин</td>\n",
       "      <td>2018-05-25</td>\n",
       "      <td>ultra</td>\n",
       "      <td>6.0</td>\n",
       "      <td>43.0</td>\n",
       "      <td>172.0</td>\n",
       "    </tr>\n",
       "    <tr>\n",
       "      <th>2</th>\n",
       "      <td>1000</td>\n",
       "      <td>52</td>\n",
       "      <td>NaT</td>\n",
       "      <td>Краснодар</td>\n",
       "      <td>Рафаил</td>\n",
       "      <td>Верещагин</td>\n",
       "      <td>2018-05-25</td>\n",
       "      <td>ultra</td>\n",
       "      <td>7.0</td>\n",
       "      <td>47.0</td>\n",
       "      <td>340.0</td>\n",
       "    </tr>\n",
       "  </tbody>\n",
       "</table>\n",
       "</div>"
      ],
      "text/plain": [
       "   user_id  age churn_date       city first_name  last_name   reg_date tariff  \\\n",
       "0     1000   52        NaT  Краснодар     Рафаил  Верещагин 2018-05-25  ultra   \n",
       "1     1000   52        NaT  Краснодар     Рафаил  Верещагин 2018-05-25  ultra   \n",
       "2     1000   52        NaT  Краснодар     Рафаил  Верещагин 2018-05-25  ultra   \n",
       "\n",
       "   month  calls_number  calls_duration  \n",
       "0    5.0          22.0           159.0  \n",
       "1    6.0          43.0           172.0  \n",
       "2    7.0          47.0           340.0  "
      ]
     },
     "execution_count": 35,
     "metadata": {},
     "output_type": "execute_result"
    }
   ],
   "source": [
    "resulting_df = df_users.merge(df_calls_stats, on=['user_id'], how='outer')\n",
    "print(\"Количество строк resulting_df \", resulting_df.shape[0])\n",
    "resulting_df.head(3)"
   ]
  },
  {
   "cell_type": "code",
   "execution_count": 36,
   "metadata": {},
   "outputs": [
    {
     "name": "stdout",
     "output_type": "stream",
     "text": [
      "Количество строк resulting_df  3221\n"
     ]
    },
    {
     "data": {
      "text/html": [
       "<div>\n",
       "<style scoped>\n",
       "    .dataframe tbody tr th:only-of-type {\n",
       "        vertical-align: middle;\n",
       "    }\n",
       "\n",
       "    .dataframe tbody tr th {\n",
       "        vertical-align: top;\n",
       "    }\n",
       "\n",
       "    .dataframe thead th {\n",
       "        text-align: right;\n",
       "    }\n",
       "</style>\n",
       "<table border=\"1\" class=\"dataframe\">\n",
       "  <thead>\n",
       "    <tr style=\"text-align: right;\">\n",
       "      <th></th>\n",
       "      <th>user_id</th>\n",
       "      <th>age</th>\n",
       "      <th>churn_date</th>\n",
       "      <th>city</th>\n",
       "      <th>first_name</th>\n",
       "      <th>last_name</th>\n",
       "      <th>reg_date</th>\n",
       "      <th>tariff</th>\n",
       "      <th>month</th>\n",
       "      <th>calls_number</th>\n",
       "      <th>calls_duration</th>\n",
       "      <th>messages_number</th>\n",
       "    </tr>\n",
       "  </thead>\n",
       "  <tbody>\n",
       "    <tr>\n",
       "      <th>0</th>\n",
       "      <td>1000</td>\n",
       "      <td>52.0</td>\n",
       "      <td>NaT</td>\n",
       "      <td>Краснодар</td>\n",
       "      <td>Рафаил</td>\n",
       "      <td>Верещагин</td>\n",
       "      <td>2018-05-25</td>\n",
       "      <td>ultra</td>\n",
       "      <td>5.0</td>\n",
       "      <td>22.0</td>\n",
       "      <td>159.0</td>\n",
       "      <td>22.0</td>\n",
       "    </tr>\n",
       "    <tr>\n",
       "      <th>1</th>\n",
       "      <td>1000</td>\n",
       "      <td>52.0</td>\n",
       "      <td>NaT</td>\n",
       "      <td>Краснодар</td>\n",
       "      <td>Рафаил</td>\n",
       "      <td>Верещагин</td>\n",
       "      <td>2018-05-25</td>\n",
       "      <td>ultra</td>\n",
       "      <td>6.0</td>\n",
       "      <td>43.0</td>\n",
       "      <td>172.0</td>\n",
       "      <td>60.0</td>\n",
       "    </tr>\n",
       "    <tr>\n",
       "      <th>2</th>\n",
       "      <td>1000</td>\n",
       "      <td>52.0</td>\n",
       "      <td>NaT</td>\n",
       "      <td>Краснодар</td>\n",
       "      <td>Рафаил</td>\n",
       "      <td>Верещагин</td>\n",
       "      <td>2018-05-25</td>\n",
       "      <td>ultra</td>\n",
       "      <td>7.0</td>\n",
       "      <td>47.0</td>\n",
       "      <td>340.0</td>\n",
       "      <td>75.0</td>\n",
       "    </tr>\n",
       "  </tbody>\n",
       "</table>\n",
       "</div>"
      ],
      "text/plain": [
       "   user_id   age churn_date       city first_name  last_name   reg_date  \\\n",
       "0     1000  52.0        NaT  Краснодар     Рафаил  Верещагин 2018-05-25   \n",
       "1     1000  52.0        NaT  Краснодар     Рафаил  Верещагин 2018-05-25   \n",
       "2     1000  52.0        NaT  Краснодар     Рафаил  Верещагин 2018-05-25   \n",
       "\n",
       "  tariff  month  calls_number  calls_duration  messages_number  \n",
       "0  ultra    5.0          22.0           159.0             22.0  \n",
       "1  ultra    6.0          43.0           172.0             60.0  \n",
       "2  ultra    7.0          47.0           340.0             75.0  "
      ]
     },
     "execution_count": 36,
     "metadata": {},
     "output_type": "execute_result"
    }
   ],
   "source": [
    "resulting_df = resulting_df.merge(df_messages_stats, on=['user_id', 'month'], how='outer')\n",
    "print(\"Количество строк resulting_df \", resulting_df.shape[0])\n",
    "resulting_df.head(3)"
   ]
  },
  {
   "cell_type": "code",
   "execution_count": 37,
   "metadata": {},
   "outputs": [
    {
     "name": "stdout",
     "output_type": "stream",
     "text": [
      "Количество строк resulting_df  3222\n"
     ]
    },
    {
     "data": {
      "text/html": [
       "<div>\n",
       "<style scoped>\n",
       "    .dataframe tbody tr th:only-of-type {\n",
       "        vertical-align: middle;\n",
       "    }\n",
       "\n",
       "    .dataframe tbody tr th {\n",
       "        vertical-align: top;\n",
       "    }\n",
       "\n",
       "    .dataframe thead th {\n",
       "        text-align: right;\n",
       "    }\n",
       "</style>\n",
       "<table border=\"1\" class=\"dataframe\">\n",
       "  <thead>\n",
       "    <tr style=\"text-align: right;\">\n",
       "      <th></th>\n",
       "      <th>user_id</th>\n",
       "      <th>age</th>\n",
       "      <th>churn_date</th>\n",
       "      <th>city</th>\n",
       "      <th>first_name</th>\n",
       "      <th>last_name</th>\n",
       "      <th>reg_date</th>\n",
       "      <th>tariff</th>\n",
       "      <th>month</th>\n",
       "      <th>calls_number</th>\n",
       "      <th>calls_duration</th>\n",
       "      <th>messages_number</th>\n",
       "      <th>sum_month_mb</th>\n",
       "      <th>gb_used</th>\n",
       "    </tr>\n",
       "  </thead>\n",
       "  <tbody>\n",
       "    <tr>\n",
       "      <th>0</th>\n",
       "      <td>1000</td>\n",
       "      <td>52.0</td>\n",
       "      <td>NaT</td>\n",
       "      <td>Краснодар</td>\n",
       "      <td>Рафаил</td>\n",
       "      <td>Верещагин</td>\n",
       "      <td>2018-05-25</td>\n",
       "      <td>ultra</td>\n",
       "      <td>5.0</td>\n",
       "      <td>22.0</td>\n",
       "      <td>159.0</td>\n",
       "      <td>22.0</td>\n",
       "      <td>2253.49</td>\n",
       "      <td>3.0</td>\n",
       "    </tr>\n",
       "    <tr>\n",
       "      <th>1</th>\n",
       "      <td>1000</td>\n",
       "      <td>52.0</td>\n",
       "      <td>NaT</td>\n",
       "      <td>Краснодар</td>\n",
       "      <td>Рафаил</td>\n",
       "      <td>Верещагин</td>\n",
       "      <td>2018-05-25</td>\n",
       "      <td>ultra</td>\n",
       "      <td>6.0</td>\n",
       "      <td>43.0</td>\n",
       "      <td>172.0</td>\n",
       "      <td>60.0</td>\n",
       "      <td>23233.77</td>\n",
       "      <td>23.0</td>\n",
       "    </tr>\n",
       "    <tr>\n",
       "      <th>2</th>\n",
       "      <td>1000</td>\n",
       "      <td>52.0</td>\n",
       "      <td>NaT</td>\n",
       "      <td>Краснодар</td>\n",
       "      <td>Рафаил</td>\n",
       "      <td>Верещагин</td>\n",
       "      <td>2018-05-25</td>\n",
       "      <td>ultra</td>\n",
       "      <td>7.0</td>\n",
       "      <td>47.0</td>\n",
       "      <td>340.0</td>\n",
       "      <td>75.0</td>\n",
       "      <td>14003.64</td>\n",
       "      <td>14.0</td>\n",
       "    </tr>\n",
       "  </tbody>\n",
       "</table>\n",
       "</div>"
      ],
      "text/plain": [
       "   user_id   age churn_date       city first_name  last_name   reg_date  \\\n",
       "0     1000  52.0        NaT  Краснодар     Рафаил  Верещагин 2018-05-25   \n",
       "1     1000  52.0        NaT  Краснодар     Рафаил  Верещагин 2018-05-25   \n",
       "2     1000  52.0        NaT  Краснодар     Рафаил  Верещагин 2018-05-25   \n",
       "\n",
       "  tariff  month  calls_number  calls_duration  messages_number  sum_month_mb  \\\n",
       "0  ultra    5.0          22.0           159.0             22.0       2253.49   \n",
       "1  ultra    6.0          43.0           172.0             60.0      23233.77   \n",
       "2  ultra    7.0          47.0           340.0             75.0      14003.64   \n",
       "\n",
       "   gb_used  \n",
       "0      3.0  \n",
       "1     23.0  \n",
       "2     14.0  "
      ]
     },
     "execution_count": 37,
     "metadata": {},
     "output_type": "execute_result"
    }
   ],
   "source": [
    "resulting_df = resulting_df.merge(df_internet_stats, on=['user_id', 'month'], how='outer')\n",
    "print(\"Количество строк resulting_df \", resulting_df.shape[0])\n",
    "resulting_df.head(3)"
   ]
  },
  {
   "cell_type": "code",
   "execution_count": 38,
   "metadata": {},
   "outputs": [
    {
     "name": "stdout",
     "output_type": "stream",
     "text": [
      "Количество строк resulting_df  3222\n"
     ]
    },
    {
     "data": {
      "text/html": [
       "<div>\n",
       "<style scoped>\n",
       "    .dataframe tbody tr th:only-of-type {\n",
       "        vertical-align: middle;\n",
       "    }\n",
       "\n",
       "    .dataframe tbody tr th {\n",
       "        vertical-align: top;\n",
       "    }\n",
       "\n",
       "    .dataframe thead th {\n",
       "        text-align: right;\n",
       "    }\n",
       "</style>\n",
       "<table border=\"1\" class=\"dataframe\">\n",
       "  <thead>\n",
       "    <tr style=\"text-align: right;\">\n",
       "      <th></th>\n",
       "      <th>622</th>\n",
       "      <th>1033</th>\n",
       "      <th>3130</th>\n",
       "      <th>2210</th>\n",
       "      <th>2024</th>\n",
       "    </tr>\n",
       "  </thead>\n",
       "  <tbody>\n",
       "    <tr>\n",
       "      <th>user_id</th>\n",
       "      <td>1350</td>\n",
       "      <td>1012</td>\n",
       "      <td>1487</td>\n",
       "      <td>1274</td>\n",
       "      <td>1228</td>\n",
       "    </tr>\n",
       "    <tr>\n",
       "      <th>age</th>\n",
       "      <td>40.0</td>\n",
       "      <td>38.0</td>\n",
       "      <td>72.0</td>\n",
       "      <td>53.0</td>\n",
       "      <td>28.0</td>\n",
       "    </tr>\n",
       "    <tr>\n",
       "      <th>churn_date</th>\n",
       "      <td>NaT</td>\n",
       "      <td>NaT</td>\n",
       "      <td>NaT</td>\n",
       "      <td>NaT</td>\n",
       "      <td>NaT</td>\n",
       "    </tr>\n",
       "    <tr>\n",
       "      <th>city</th>\n",
       "      <td>Омск</td>\n",
       "      <td>Санкт-Петербург</td>\n",
       "      <td>Кострома</td>\n",
       "      <td>Волгоград</td>\n",
       "      <td>Нижний Новгород</td>\n",
       "    </tr>\n",
       "    <tr>\n",
       "      <th>first_name</th>\n",
       "      <td>Варвара</td>\n",
       "      <td>Варлам</td>\n",
       "      <td>Рудольф</td>\n",
       "      <td>Аксён</td>\n",
       "      <td>Денис</td>\n",
       "    </tr>\n",
       "    <tr>\n",
       "      <th>last_name</th>\n",
       "      <td>Козырева</td>\n",
       "      <td>Соловьев</td>\n",
       "      <td>Кириллов</td>\n",
       "      <td>Еремин</td>\n",
       "      <td>Алфимов</td>\n",
       "    </tr>\n",
       "    <tr>\n",
       "      <th>reg_date</th>\n",
       "      <td>2018-08-30 00:00:00</td>\n",
       "      <td>2018-03-28 00:00:00</td>\n",
       "      <td>2018-08-13 00:00:00</td>\n",
       "      <td>2018-05-03 00:00:00</td>\n",
       "      <td>2018-04-17 00:00:00</td>\n",
       "    </tr>\n",
       "    <tr>\n",
       "      <th>tariff</th>\n",
       "      <td>ultra</td>\n",
       "      <td>smart</td>\n",
       "      <td>smart</td>\n",
       "      <td>smart</td>\n",
       "      <td>smart</td>\n",
       "    </tr>\n",
       "    <tr>\n",
       "      <th>month</th>\n",
       "      <td>12.0</td>\n",
       "      <td>12.0</td>\n",
       "      <td>8.0</td>\n",
       "      <td>12.0</td>\n",
       "      <td>7.0</td>\n",
       "    </tr>\n",
       "    <tr>\n",
       "      <th>calls_number</th>\n",
       "      <td>52.0</td>\n",
       "      <td>43.0</td>\n",
       "      <td>11.0</td>\n",
       "      <td>56.0</td>\n",
       "      <td>78.0</td>\n",
       "    </tr>\n",
       "    <tr>\n",
       "      <th>calls_duration</th>\n",
       "      <td>396.0</td>\n",
       "      <td>356.0</td>\n",
       "      <td>87.0</td>\n",
       "      <td>418.0</td>\n",
       "      <td>513.0</td>\n",
       "    </tr>\n",
       "    <tr>\n",
       "      <th>messages_number</th>\n",
       "      <td>56.0</td>\n",
       "      <td>15.0</td>\n",
       "      <td>13.0</td>\n",
       "      <td>91.0</td>\n",
       "      <td>NaN</td>\n",
       "    </tr>\n",
       "    <tr>\n",
       "      <th>sum_month_mb</th>\n",
       "      <td>22361.08</td>\n",
       "      <td>14005.84</td>\n",
       "      <td>6226.9</td>\n",
       "      <td>16476.3</td>\n",
       "      <td>18267.1</td>\n",
       "    </tr>\n",
       "    <tr>\n",
       "      <th>gb_used</th>\n",
       "      <td>22.0</td>\n",
       "      <td>14.0</td>\n",
       "      <td>7.0</td>\n",
       "      <td>17.0</td>\n",
       "      <td>18.0</td>\n",
       "    </tr>\n",
       "    <tr>\n",
       "      <th>messages_included</th>\n",
       "      <td>1000.0</td>\n",
       "      <td>50.0</td>\n",
       "      <td>50.0</td>\n",
       "      <td>50.0</td>\n",
       "      <td>50.0</td>\n",
       "    </tr>\n",
       "    <tr>\n",
       "      <th>mb_per_month_included</th>\n",
       "      <td>30720.0</td>\n",
       "      <td>15360.0</td>\n",
       "      <td>15360.0</td>\n",
       "      <td>15360.0</td>\n",
       "      <td>15360.0</td>\n",
       "    </tr>\n",
       "    <tr>\n",
       "      <th>minutes_included</th>\n",
       "      <td>3000.0</td>\n",
       "      <td>500.0</td>\n",
       "      <td>500.0</td>\n",
       "      <td>500.0</td>\n",
       "      <td>500.0</td>\n",
       "    </tr>\n",
       "    <tr>\n",
       "      <th>rub_monthly_fee</th>\n",
       "      <td>1950.0</td>\n",
       "      <td>550.0</td>\n",
       "      <td>550.0</td>\n",
       "      <td>550.0</td>\n",
       "      <td>550.0</td>\n",
       "    </tr>\n",
       "    <tr>\n",
       "      <th>rub_per_gb</th>\n",
       "      <td>150.0</td>\n",
       "      <td>200.0</td>\n",
       "      <td>200.0</td>\n",
       "      <td>200.0</td>\n",
       "      <td>200.0</td>\n",
       "    </tr>\n",
       "    <tr>\n",
       "      <th>rub_per_message</th>\n",
       "      <td>1.0</td>\n",
       "      <td>3.0</td>\n",
       "      <td>3.0</td>\n",
       "      <td>3.0</td>\n",
       "      <td>3.0</td>\n",
       "    </tr>\n",
       "    <tr>\n",
       "      <th>rub_per_minute</th>\n",
       "      <td>1.0</td>\n",
       "      <td>3.0</td>\n",
       "      <td>3.0</td>\n",
       "      <td>3.0</td>\n",
       "      <td>3.0</td>\n",
       "    </tr>\n",
       "  </tbody>\n",
       "</table>\n",
       "</div>"
      ],
      "text/plain": [
       "                                      622                  1033  \\\n",
       "user_id                               1350                 1012   \n",
       "age                                   40.0                 38.0   \n",
       "churn_date                             NaT                  NaT   \n",
       "city                                  Омск      Санкт-Петербург   \n",
       "first_name                         Варвара               Варлам   \n",
       "last_name                         Козырева             Соловьев   \n",
       "reg_date               2018-08-30 00:00:00  2018-03-28 00:00:00   \n",
       "tariff                               ultra                smart   \n",
       "month                                 12.0                 12.0   \n",
       "calls_number                          52.0                 43.0   \n",
       "calls_duration                       396.0                356.0   \n",
       "messages_number                       56.0                 15.0   \n",
       "sum_month_mb                      22361.08             14005.84   \n",
       "gb_used                               22.0                 14.0   \n",
       "messages_included                   1000.0                 50.0   \n",
       "mb_per_month_included              30720.0              15360.0   \n",
       "minutes_included                    3000.0                500.0   \n",
       "rub_monthly_fee                     1950.0                550.0   \n",
       "rub_per_gb                           150.0                200.0   \n",
       "rub_per_message                        1.0                  3.0   \n",
       "rub_per_minute                         1.0                  3.0   \n",
       "\n",
       "                                      3130                 2210  \\\n",
       "user_id                               1487                 1274   \n",
       "age                                   72.0                 53.0   \n",
       "churn_date                             NaT                  NaT   \n",
       "city                              Кострома            Волгоград   \n",
       "first_name                         Рудольф                Аксён   \n",
       "last_name                         Кириллов               Еремин   \n",
       "reg_date               2018-08-13 00:00:00  2018-05-03 00:00:00   \n",
       "tariff                               smart                smart   \n",
       "month                                  8.0                 12.0   \n",
       "calls_number                          11.0                 56.0   \n",
       "calls_duration                        87.0                418.0   \n",
       "messages_number                       13.0                 91.0   \n",
       "sum_month_mb                        6226.9              16476.3   \n",
       "gb_used                                7.0                 17.0   \n",
       "messages_included                     50.0                 50.0   \n",
       "mb_per_month_included              15360.0              15360.0   \n",
       "minutes_included                     500.0                500.0   \n",
       "rub_monthly_fee                      550.0                550.0   \n",
       "rub_per_gb                           200.0                200.0   \n",
       "rub_per_message                        3.0                  3.0   \n",
       "rub_per_minute                         3.0                  3.0   \n",
       "\n",
       "                                      2024  \n",
       "user_id                               1228  \n",
       "age                                   28.0  \n",
       "churn_date                             NaT  \n",
       "city                       Нижний Новгород  \n",
       "first_name                           Денис  \n",
       "last_name                          Алфимов  \n",
       "reg_date               2018-04-17 00:00:00  \n",
       "tariff                               smart  \n",
       "month                                  7.0  \n",
       "calls_number                          78.0  \n",
       "calls_duration                       513.0  \n",
       "messages_number                        NaN  \n",
       "sum_month_mb                       18267.1  \n",
       "gb_used                               18.0  \n",
       "messages_included                     50.0  \n",
       "mb_per_month_included              15360.0  \n",
       "minutes_included                     500.0  \n",
       "rub_monthly_fee                      550.0  \n",
       "rub_per_gb                           200.0  \n",
       "rub_per_message                        3.0  \n",
       "rub_per_minute                         3.0  "
      ]
     },
     "execution_count": 38,
     "metadata": {},
     "output_type": "execute_result"
    }
   ],
   "source": [
    "df_tariffs = df_tariffs.rename(columns={'tariff_name': 'tariff'})\n",
    "resulting_df = resulting_df.merge(df_tariffs, on=['tariff'], how='outer')\n",
    "print(\"Количество строк resulting_df \", resulting_df.shape[0])\n",
    "resulting_df.sample(5).T"
   ]
  },
  {
   "cell_type": "code",
   "execution_count": 39,
   "metadata": {},
   "outputs": [
    {
     "data": {
      "text/html": [
       "<div>\n",
       "<style scoped>\n",
       "    .dataframe tbody tr th:only-of-type {\n",
       "        vertical-align: middle;\n",
       "    }\n",
       "\n",
       "    .dataframe tbody tr th {\n",
       "        vertical-align: top;\n",
       "    }\n",
       "\n",
       "    .dataframe thead th {\n",
       "        text-align: right;\n",
       "    }\n",
       "</style>\n",
       "<table border=\"1\" class=\"dataframe\">\n",
       "  <thead>\n",
       "    <tr style=\"text-align: right;\">\n",
       "      <th></th>\n",
       "      <th>calls_number</th>\n",
       "      <th>calls_duration</th>\n",
       "      <th>messages_number</th>\n",
       "      <th>gb_used</th>\n",
       "    </tr>\n",
       "  </thead>\n",
       "  <tbody>\n",
       "    <tr>\n",
       "      <th>count</th>\n",
       "      <td>3174.000000</td>\n",
       "      <td>3174.000000</td>\n",
       "      <td>2717.000000</td>\n",
       "      <td>3203.000000</td>\n",
       "    </tr>\n",
       "    <tr>\n",
       "      <th>mean</th>\n",
       "      <td>63.833333</td>\n",
       "      <td>456.931632</td>\n",
       "      <td>45.283769</td>\n",
       "      <td>17.358414</td>\n",
       "    </tr>\n",
       "    <tr>\n",
       "      <th>std</th>\n",
       "      <td>32.678036</td>\n",
       "      <td>238.031270</td>\n",
       "      <td>35.051363</td>\n",
       "      <td>7.343379</td>\n",
       "    </tr>\n",
       "    <tr>\n",
       "      <th>min</th>\n",
       "      <td>1.000000</td>\n",
       "      <td>0.000000</td>\n",
       "      <td>1.000000</td>\n",
       "      <td>0.000000</td>\n",
       "    </tr>\n",
       "    <tr>\n",
       "      <th>25%</th>\n",
       "      <td>41.000000</td>\n",
       "      <td>290.000000</td>\n",
       "      <td>19.000000</td>\n",
       "      <td>13.000000</td>\n",
       "    </tr>\n",
       "    <tr>\n",
       "      <th>50%</th>\n",
       "      <td>63.000000</td>\n",
       "      <td>447.000000</td>\n",
       "      <td>38.000000</td>\n",
       "      <td>17.000000</td>\n",
       "    </tr>\n",
       "    <tr>\n",
       "      <th>75%</th>\n",
       "      <td>83.000000</td>\n",
       "      <td>592.000000</td>\n",
       "      <td>63.000000</td>\n",
       "      <td>21.000000</td>\n",
       "    </tr>\n",
       "    <tr>\n",
       "      <th>max</th>\n",
       "      <td>244.000000</td>\n",
       "      <td>1673.000000</td>\n",
       "      <td>224.000000</td>\n",
       "      <td>49.000000</td>\n",
       "    </tr>\n",
       "  </tbody>\n",
       "</table>\n",
       "</div>"
      ],
      "text/plain": [
       "       calls_number  calls_duration  messages_number      gb_used\n",
       "count   3174.000000     3174.000000      2717.000000  3203.000000\n",
       "mean      63.833333      456.931632        45.283769    17.358414\n",
       "std       32.678036      238.031270        35.051363     7.343379\n",
       "min        1.000000        0.000000         1.000000     0.000000\n",
       "25%       41.000000      290.000000        19.000000    13.000000\n",
       "50%       63.000000      447.000000        38.000000    17.000000\n",
       "75%       83.000000      592.000000        63.000000    21.000000\n",
       "max      244.000000     1673.000000       224.000000    49.000000"
      ]
     },
     "execution_count": 39,
     "metadata": {},
     "output_type": "execute_result"
    }
   ],
   "source": [
    "resulting_df[['calls_number', 'calls_duration', 'messages_number', 'gb_used']].describe()"
   ]
  },
  {
   "cell_type": "code",
   "execution_count": 40,
   "metadata": {
    "scrolled": true
   },
   "outputs": [
    {
     "data": {
      "text/html": [
       "<div>\n",
       "<style scoped>\n",
       "    .dataframe tbody tr th:only-of-type {\n",
       "        vertical-align: middle;\n",
       "    }\n",
       "\n",
       "    .dataframe tbody tr th {\n",
       "        vertical-align: top;\n",
       "    }\n",
       "\n",
       "    .dataframe thead th {\n",
       "        text-align: right;\n",
       "    }\n",
       "</style>\n",
       "<table border=\"1\" class=\"dataframe\">\n",
       "  <thead>\n",
       "    <tr style=\"text-align: right;\">\n",
       "      <th></th>\n",
       "      <th>calls_number</th>\n",
       "      <th>calls_duration</th>\n",
       "      <th>messages_number</th>\n",
       "      <th>gb_used</th>\n",
       "    </tr>\n",
       "  </thead>\n",
       "  <tbody>\n",
       "    <tr>\n",
       "      <th>count</th>\n",
       "      <td>3174.000000</td>\n",
       "      <td>3174.000000</td>\n",
       "      <td>2717.000000</td>\n",
       "      <td>3203.000000</td>\n",
       "    </tr>\n",
       "    <tr>\n",
       "      <th>mean</th>\n",
       "      <td>63.833333</td>\n",
       "      <td>456.931632</td>\n",
       "      <td>45.283769</td>\n",
       "      <td>17.358414</td>\n",
       "    </tr>\n",
       "    <tr>\n",
       "      <th>std</th>\n",
       "      <td>32.678036</td>\n",
       "      <td>238.031270</td>\n",
       "      <td>35.051363</td>\n",
       "      <td>7.343379</td>\n",
       "    </tr>\n",
       "    <tr>\n",
       "      <th>min</th>\n",
       "      <td>1.000000</td>\n",
       "      <td>0.000000</td>\n",
       "      <td>1.000000</td>\n",
       "      <td>0.000000</td>\n",
       "    </tr>\n",
       "    <tr>\n",
       "      <th>25%</th>\n",
       "      <td>41.000000</td>\n",
       "      <td>290.000000</td>\n",
       "      <td>19.000000</td>\n",
       "      <td>13.000000</td>\n",
       "    </tr>\n",
       "    <tr>\n",
       "      <th>50%</th>\n",
       "      <td>63.000000</td>\n",
       "      <td>447.000000</td>\n",
       "      <td>38.000000</td>\n",
       "      <td>17.000000</td>\n",
       "    </tr>\n",
       "    <tr>\n",
       "      <th>75%</th>\n",
       "      <td>83.000000</td>\n",
       "      <td>592.000000</td>\n",
       "      <td>63.000000</td>\n",
       "      <td>21.000000</td>\n",
       "    </tr>\n",
       "    <tr>\n",
       "      <th>max</th>\n",
       "      <td>244.000000</td>\n",
       "      <td>1673.000000</td>\n",
       "      <td>224.000000</td>\n",
       "      <td>49.000000</td>\n",
       "    </tr>\n",
       "  </tbody>\n",
       "</table>\n",
       "</div>"
      ],
      "text/plain": [
       "       calls_number  calls_duration  messages_number      gb_used\n",
       "count   3174.000000     3174.000000      2717.000000  3203.000000\n",
       "mean      63.833333      456.931632        45.283769    17.358414\n",
       "std       32.678036      238.031270        35.051363     7.343379\n",
       "min        1.000000        0.000000         1.000000     0.000000\n",
       "25%       41.000000      290.000000        19.000000    13.000000\n",
       "50%       63.000000      447.000000        38.000000    17.000000\n",
       "75%       83.000000      592.000000        63.000000    21.000000\n",
       "max      244.000000     1673.000000       224.000000    49.000000"
      ]
     },
     "execution_count": 40,
     "metadata": {},
     "output_type": "execute_result"
    }
   ],
   "source": [
    "df_calls_stats.drop(['user_id', 'month'], axis=1).describe().\\\n",
    "join(df_messages_stats.drop(['user_id', 'month'], axis=1).describe()).\\\n",
    "join(df_internet_stats.drop(['user_id', 'month','sum_month_mb'], axis=1).describe())"
   ]
  },
  {
   "cell_type": "code",
   "execution_count": 41,
   "metadata": {},
   "outputs": [
    {
     "data": {
      "text/html": [
       "<div>\n",
       "<style scoped>\n",
       "    .dataframe tbody tr th:only-of-type {\n",
       "        vertical-align: middle;\n",
       "    }\n",
       "\n",
       "    .dataframe tbody tr th {\n",
       "        vertical-align: top;\n",
       "    }\n",
       "\n",
       "    .dataframe thead th {\n",
       "        text-align: right;\n",
       "    }\n",
       "</style>\n",
       "<table border=\"1\" class=\"dataframe\">\n",
       "  <thead>\n",
       "    <tr style=\"text-align: right;\">\n",
       "      <th></th>\n",
       "      <th>1771</th>\n",
       "      <th>454</th>\n",
       "      <th>1004</th>\n",
       "      <th>1595</th>\n",
       "      <th>1639</th>\n",
       "    </tr>\n",
       "  </thead>\n",
       "  <tbody>\n",
       "    <tr>\n",
       "      <th>user_id</th>\n",
       "      <td>1176</td>\n",
       "      <td>1272</td>\n",
       "      <td>1009</td>\n",
       "      <td>1141</td>\n",
       "      <td>1149</td>\n",
       "    </tr>\n",
       "    <tr>\n",
       "      <th>city</th>\n",
       "      <td>Волгоград</td>\n",
       "      <td>Пенза</td>\n",
       "      <td>Пермь</td>\n",
       "      <td>Москва</td>\n",
       "      <td>Мурманск</td>\n",
       "    </tr>\n",
       "    <tr>\n",
       "      <th>tariff</th>\n",
       "      <td>smart</td>\n",
       "      <td>ultra</td>\n",
       "      <td>smart</td>\n",
       "      <td>smart</td>\n",
       "      <td>smart</td>\n",
       "    </tr>\n",
       "    <tr>\n",
       "      <th>month</th>\n",
       "      <td>2.0</td>\n",
       "      <td>12.0</td>\n",
       "      <td>8.0</td>\n",
       "      <td>12.0</td>\n",
       "      <td>6.0</td>\n",
       "    </tr>\n",
       "    <tr>\n",
       "      <th>calls_number</th>\n",
       "      <td>57.0</td>\n",
       "      <td>42.0</td>\n",
       "      <td>33.0</td>\n",
       "      <td>36.0</td>\n",
       "      <td>24.0</td>\n",
       "    </tr>\n",
       "    <tr>\n",
       "      <th>calls_duration</th>\n",
       "      <td>325.0</td>\n",
       "      <td>343.0</td>\n",
       "      <td>249.0</td>\n",
       "      <td>211.0</td>\n",
       "      <td>159.0</td>\n",
       "    </tr>\n",
       "    <tr>\n",
       "      <th>messages_number</th>\n",
       "      <td>27.0</td>\n",
       "      <td>61.0</td>\n",
       "      <td>9.0</td>\n",
       "      <td>1.0</td>\n",
       "      <td>91.0</td>\n",
       "    </tr>\n",
       "    <tr>\n",
       "      <th>gb_used</th>\n",
       "      <td>14.0</td>\n",
       "      <td>24.0</td>\n",
       "      <td>24.0</td>\n",
       "      <td>15.0</td>\n",
       "      <td>23.0</td>\n",
       "    </tr>\n",
       "    <tr>\n",
       "      <th>messages_included</th>\n",
       "      <td>50.0</td>\n",
       "      <td>1000.0</td>\n",
       "      <td>50.0</td>\n",
       "      <td>50.0</td>\n",
       "      <td>50.0</td>\n",
       "    </tr>\n",
       "    <tr>\n",
       "      <th>mb_per_month_included</th>\n",
       "      <td>15360.0</td>\n",
       "      <td>30720.0</td>\n",
       "      <td>15360.0</td>\n",
       "      <td>15360.0</td>\n",
       "      <td>15360.0</td>\n",
       "    </tr>\n",
       "    <tr>\n",
       "      <th>minutes_included</th>\n",
       "      <td>500.0</td>\n",
       "      <td>3000.0</td>\n",
       "      <td>500.0</td>\n",
       "      <td>500.0</td>\n",
       "      <td>500.0</td>\n",
       "    </tr>\n",
       "    <tr>\n",
       "      <th>rub_monthly_fee</th>\n",
       "      <td>550.0</td>\n",
       "      <td>1950.0</td>\n",
       "      <td>550.0</td>\n",
       "      <td>550.0</td>\n",
       "      <td>550.0</td>\n",
       "    </tr>\n",
       "    <tr>\n",
       "      <th>rub_per_gb</th>\n",
       "      <td>200.0</td>\n",
       "      <td>150.0</td>\n",
       "      <td>200.0</td>\n",
       "      <td>200.0</td>\n",
       "      <td>200.0</td>\n",
       "    </tr>\n",
       "    <tr>\n",
       "      <th>rub_per_message</th>\n",
       "      <td>3.0</td>\n",
       "      <td>1.0</td>\n",
       "      <td>3.0</td>\n",
       "      <td>3.0</td>\n",
       "      <td>3.0</td>\n",
       "    </tr>\n",
       "    <tr>\n",
       "      <th>rub_per_minute</th>\n",
       "      <td>3.0</td>\n",
       "      <td>1.0</td>\n",
       "      <td>3.0</td>\n",
       "      <td>3.0</td>\n",
       "      <td>3.0</td>\n",
       "    </tr>\n",
       "  </tbody>\n",
       "</table>\n",
       "</div>"
      ],
      "text/plain": [
       "                            1771     454      1004     1595      1639\n",
       "user_id                     1176     1272     1009     1141      1149\n",
       "city                   Волгоград    Пенза    Пермь   Москва  Мурманск\n",
       "tariff                     smart    ultra    smart    smart     smart\n",
       "month                        2.0     12.0      8.0     12.0       6.0\n",
       "calls_number                57.0     42.0     33.0     36.0      24.0\n",
       "calls_duration             325.0    343.0    249.0    211.0     159.0\n",
       "messages_number             27.0     61.0      9.0      1.0      91.0\n",
       "gb_used                     14.0     24.0     24.0     15.0      23.0\n",
       "messages_included           50.0   1000.0     50.0     50.0      50.0\n",
       "mb_per_month_included    15360.0  30720.0  15360.0  15360.0   15360.0\n",
       "minutes_included           500.0   3000.0    500.0    500.0     500.0\n",
       "rub_monthly_fee            550.0   1950.0    550.0    550.0     550.0\n",
       "rub_per_gb                 200.0    150.0    200.0    200.0     200.0\n",
       "rub_per_message              3.0      1.0      3.0      3.0       3.0\n",
       "rub_per_minute               3.0      1.0      3.0      3.0       3.0"
      ]
     },
     "execution_count": 41,
     "metadata": {},
     "output_type": "execute_result"
    }
   ],
   "source": [
    "resulting_df.drop(['age','first_name','last_name','sum_month_mb','churn_date','reg_date'], inplace=True, axis=1)\n",
    "resulting_df.sample(5).T"
   ]
  },
  {
   "cell_type": "code",
   "execution_count": 42,
   "metadata": {},
   "outputs": [
    {
     "name": "stdout",
     "output_type": "stream",
     "text": [
      "<class 'pandas.core.frame.DataFrame'>\n",
      "Int64Index: 3222 entries, 0 to 3221\n",
      "Data columns (total 15 columns):\n",
      " #   Column                 Non-Null Count  Dtype  \n",
      "---  ------                 --------------  -----  \n",
      " 0   user_id                3222 non-null   int64  \n",
      " 1   city                   3182 non-null   object \n",
      " 2   tariff                 3182 non-null   object \n",
      " 3   month                  3214 non-null   float64\n",
      " 4   calls_number           3174 non-null   float64\n",
      " 5   calls_duration         3174 non-null   float64\n",
      " 6   messages_number        2717 non-null   float64\n",
      " 7   gb_used                3203 non-null   float64\n",
      " 8   messages_included      3182 non-null   float64\n",
      " 9   mb_per_month_included  3182 non-null   float64\n",
      " 10  minutes_included       3182 non-null   float64\n",
      " 11  rub_monthly_fee        3182 non-null   float64\n",
      " 12  rub_per_gb             3182 non-null   float64\n",
      " 13  rub_per_message        3182 non-null   float64\n",
      " 14  rub_per_minute         3182 non-null   float64\n",
      "dtypes: float64(12), int64(1), object(2)\n",
      "memory usage: 402.8+ KB\n",
      "\n",
      "Number of duplicated rows in the dataset: 0\n",
      "\n"
     ]
    },
    {
     "data": {
      "text/html": [
       "<div>\n",
       "<style scoped>\n",
       "    .dataframe tbody tr th:only-of-type {\n",
       "        vertical-align: middle;\n",
       "    }\n",
       "\n",
       "    .dataframe tbody tr th {\n",
       "        vertical-align: top;\n",
       "    }\n",
       "\n",
       "    .dataframe thead th {\n",
       "        text-align: right;\n",
       "    }\n",
       "</style>\n",
       "<table border=\"1\" class=\"dataframe\">\n",
       "  <thead>\n",
       "    <tr style=\"text-align: right;\">\n",
       "      <th></th>\n",
       "      <th>Not_Valid_Values_in %</th>\n",
       "    </tr>\n",
       "  </thead>\n",
       "  <tbody>\n",
       "    <tr>\n",
       "      <th>messages_number</th>\n",
       "      <td>15.673495</td>\n",
       "    </tr>\n",
       "    <tr>\n",
       "      <th>calls_number</th>\n",
       "      <td>1.489758</td>\n",
       "    </tr>\n",
       "    <tr>\n",
       "      <th>calls_duration</th>\n",
       "      <td>1.489758</td>\n",
       "    </tr>\n",
       "    <tr>\n",
       "      <th>city</th>\n",
       "      <td>1.241465</td>\n",
       "    </tr>\n",
       "    <tr>\n",
       "      <th>tariff</th>\n",
       "      <td>1.241465</td>\n",
       "    </tr>\n",
       "    <tr>\n",
       "      <th>messages_included</th>\n",
       "      <td>1.241465</td>\n",
       "    </tr>\n",
       "    <tr>\n",
       "      <th>mb_per_month_included</th>\n",
       "      <td>1.241465</td>\n",
       "    </tr>\n",
       "    <tr>\n",
       "      <th>minutes_included</th>\n",
       "      <td>1.241465</td>\n",
       "    </tr>\n",
       "    <tr>\n",
       "      <th>rub_monthly_fee</th>\n",
       "      <td>1.241465</td>\n",
       "    </tr>\n",
       "    <tr>\n",
       "      <th>rub_per_gb</th>\n",
       "      <td>1.241465</td>\n",
       "    </tr>\n",
       "    <tr>\n",
       "      <th>rub_per_message</th>\n",
       "      <td>1.241465</td>\n",
       "    </tr>\n",
       "    <tr>\n",
       "      <th>rub_per_minute</th>\n",
       "      <td>1.241465</td>\n",
       "    </tr>\n",
       "    <tr>\n",
       "      <th>gb_used</th>\n",
       "      <td>0.589696</td>\n",
       "    </tr>\n",
       "    <tr>\n",
       "      <th>month</th>\n",
       "      <td>0.248293</td>\n",
       "    </tr>\n",
       "    <tr>\n",
       "      <th>user_id</th>\n",
       "      <td>0.000000</td>\n",
       "    </tr>\n",
       "  </tbody>\n",
       "</table>\n",
       "</div>"
      ],
      "text/plain": [
       "                       Not_Valid_Values_in %\n",
       "messages_number                    15.673495\n",
       "calls_number                        1.489758\n",
       "calls_duration                      1.489758\n",
       "city                                1.241465\n",
       "tariff                              1.241465\n",
       "messages_included                   1.241465\n",
       "mb_per_month_included               1.241465\n",
       "minutes_included                    1.241465\n",
       "rub_monthly_fee                     1.241465\n",
       "rub_per_gb                          1.241465\n",
       "rub_per_message                     1.241465\n",
       "rub_per_minute                      1.241465\n",
       "gb_used                             0.589696\n",
       "month                               0.248293\n",
       "user_id                             0.000000"
      ]
     },
     "metadata": {},
     "output_type": "display_data"
    }
   ],
   "source": [
    "get_info_on_dataset(resulting_df)"
   ]
  },
  {
   "cell_type": "code",
   "execution_count": 43,
   "metadata": {},
   "outputs": [
    {
     "data": {
      "text/html": [
       "<div>\n",
       "<style scoped>\n",
       "    .dataframe tbody tr th:only-of-type {\n",
       "        vertical-align: middle;\n",
       "    }\n",
       "\n",
       "    .dataframe tbody tr th {\n",
       "        vertical-align: top;\n",
       "    }\n",
       "\n",
       "    .dataframe thead th {\n",
       "        text-align: right;\n",
       "    }\n",
       "</style>\n",
       "<table border=\"1\" class=\"dataframe\">\n",
       "  <thead>\n",
       "    <tr style=\"text-align: right;\">\n",
       "      <th></th>\n",
       "      <th>151</th>\n",
       "      <th>197</th>\n",
       "      <th>228</th>\n",
       "      <th>380</th>\n",
       "      <th>554</th>\n",
       "      <th>929</th>\n",
       "      <th>2590</th>\n",
       "      <th>3137</th>\n",
       "    </tr>\n",
       "  </thead>\n",
       "  <tbody>\n",
       "    <tr>\n",
       "      <th>user_id</th>\n",
       "      <td>1091</td>\n",
       "      <td>1106</td>\n",
       "      <td>1128</td>\n",
       "      <td>1231</td>\n",
       "      <td>1328</td>\n",
       "      <td>1473</td>\n",
       "      <td>1371</td>\n",
       "      <td>1489</td>\n",
       "    </tr>\n",
       "    <tr>\n",
       "      <th>city</th>\n",
       "      <td>Набережные Челны</td>\n",
       "      <td>Калуга</td>\n",
       "      <td>Волжский</td>\n",
       "      <td>Чебоксары</td>\n",
       "      <td>Мурманск</td>\n",
       "      <td>Красноярск</td>\n",
       "      <td>Омск</td>\n",
       "      <td>Санкт-Петербург</td>\n",
       "    </tr>\n",
       "    <tr>\n",
       "      <th>tariff</th>\n",
       "      <td>ultra</td>\n",
       "      <td>ultra</td>\n",
       "      <td>ultra</td>\n",
       "      <td>ultra</td>\n",
       "      <td>ultra</td>\n",
       "      <td>ultra</td>\n",
       "      <td>smart</td>\n",
       "      <td>smart</td>\n",
       "    </tr>\n",
       "    <tr>\n",
       "      <th>month</th>\n",
       "      <td>NaN</td>\n",
       "      <td>NaN</td>\n",
       "      <td>NaN</td>\n",
       "      <td>NaN</td>\n",
       "      <td>NaN</td>\n",
       "      <td>NaN</td>\n",
       "      <td>NaN</td>\n",
       "      <td>NaN</td>\n",
       "    </tr>\n",
       "    <tr>\n",
       "      <th>calls_number</th>\n",
       "      <td>NaN</td>\n",
       "      <td>NaN</td>\n",
       "      <td>NaN</td>\n",
       "      <td>NaN</td>\n",
       "      <td>NaN</td>\n",
       "      <td>NaN</td>\n",
       "      <td>NaN</td>\n",
       "      <td>NaN</td>\n",
       "    </tr>\n",
       "    <tr>\n",
       "      <th>calls_duration</th>\n",
       "      <td>NaN</td>\n",
       "      <td>NaN</td>\n",
       "      <td>NaN</td>\n",
       "      <td>NaN</td>\n",
       "      <td>NaN</td>\n",
       "      <td>NaN</td>\n",
       "      <td>NaN</td>\n",
       "      <td>NaN</td>\n",
       "    </tr>\n",
       "    <tr>\n",
       "      <th>messages_number</th>\n",
       "      <td>NaN</td>\n",
       "      <td>NaN</td>\n",
       "      <td>NaN</td>\n",
       "      <td>NaN</td>\n",
       "      <td>NaN</td>\n",
       "      <td>NaN</td>\n",
       "      <td>NaN</td>\n",
       "      <td>NaN</td>\n",
       "    </tr>\n",
       "    <tr>\n",
       "      <th>gb_used</th>\n",
       "      <td>NaN</td>\n",
       "      <td>NaN</td>\n",
       "      <td>NaN</td>\n",
       "      <td>NaN</td>\n",
       "      <td>NaN</td>\n",
       "      <td>NaN</td>\n",
       "      <td>NaN</td>\n",
       "      <td>NaN</td>\n",
       "    </tr>\n",
       "    <tr>\n",
       "      <th>messages_included</th>\n",
       "      <td>1000.0</td>\n",
       "      <td>1000.0</td>\n",
       "      <td>1000.0</td>\n",
       "      <td>1000.0</td>\n",
       "      <td>1000.0</td>\n",
       "      <td>1000.0</td>\n",
       "      <td>50.0</td>\n",
       "      <td>50.0</td>\n",
       "    </tr>\n",
       "    <tr>\n",
       "      <th>mb_per_month_included</th>\n",
       "      <td>30720.0</td>\n",
       "      <td>30720.0</td>\n",
       "      <td>30720.0</td>\n",
       "      <td>30720.0</td>\n",
       "      <td>30720.0</td>\n",
       "      <td>30720.0</td>\n",
       "      <td>15360.0</td>\n",
       "      <td>15360.0</td>\n",
       "    </tr>\n",
       "    <tr>\n",
       "      <th>minutes_included</th>\n",
       "      <td>3000.0</td>\n",
       "      <td>3000.0</td>\n",
       "      <td>3000.0</td>\n",
       "      <td>3000.0</td>\n",
       "      <td>3000.0</td>\n",
       "      <td>3000.0</td>\n",
       "      <td>500.0</td>\n",
       "      <td>500.0</td>\n",
       "    </tr>\n",
       "    <tr>\n",
       "      <th>rub_monthly_fee</th>\n",
       "      <td>1950.0</td>\n",
       "      <td>1950.0</td>\n",
       "      <td>1950.0</td>\n",
       "      <td>1950.0</td>\n",
       "      <td>1950.0</td>\n",
       "      <td>1950.0</td>\n",
       "      <td>550.0</td>\n",
       "      <td>550.0</td>\n",
       "    </tr>\n",
       "    <tr>\n",
       "      <th>rub_per_gb</th>\n",
       "      <td>150.0</td>\n",
       "      <td>150.0</td>\n",
       "      <td>150.0</td>\n",
       "      <td>150.0</td>\n",
       "      <td>150.0</td>\n",
       "      <td>150.0</td>\n",
       "      <td>200.0</td>\n",
       "      <td>200.0</td>\n",
       "    </tr>\n",
       "    <tr>\n",
       "      <th>rub_per_message</th>\n",
       "      <td>1.0</td>\n",
       "      <td>1.0</td>\n",
       "      <td>1.0</td>\n",
       "      <td>1.0</td>\n",
       "      <td>1.0</td>\n",
       "      <td>1.0</td>\n",
       "      <td>3.0</td>\n",
       "      <td>3.0</td>\n",
       "    </tr>\n",
       "    <tr>\n",
       "      <th>rub_per_minute</th>\n",
       "      <td>1.0</td>\n",
       "      <td>1.0</td>\n",
       "      <td>1.0</td>\n",
       "      <td>1.0</td>\n",
       "      <td>1.0</td>\n",
       "      <td>1.0</td>\n",
       "      <td>3.0</td>\n",
       "      <td>3.0</td>\n",
       "    </tr>\n",
       "  </tbody>\n",
       "</table>\n",
       "</div>"
      ],
      "text/plain": [
       "                                   151      197       228        380   \\\n",
       "user_id                            1091     1106      1128       1231   \n",
       "city                   Набережные Челны   Калуга  Волжский  Чебоксары   \n",
       "tariff                            ultra    ultra     ultra      ultra   \n",
       "month                               NaN      NaN       NaN        NaN   \n",
       "calls_number                        NaN      NaN       NaN        NaN   \n",
       "calls_duration                      NaN      NaN       NaN        NaN   \n",
       "messages_number                     NaN      NaN       NaN        NaN   \n",
       "gb_used                             NaN      NaN       NaN        NaN   \n",
       "messages_included                1000.0   1000.0    1000.0     1000.0   \n",
       "mb_per_month_included           30720.0  30720.0   30720.0    30720.0   \n",
       "minutes_included                 3000.0   3000.0    3000.0     3000.0   \n",
       "rub_monthly_fee                  1950.0   1950.0    1950.0     1950.0   \n",
       "rub_per_gb                        150.0    150.0     150.0      150.0   \n",
       "rub_per_message                     1.0      1.0       1.0        1.0   \n",
       "rub_per_minute                      1.0      1.0       1.0        1.0   \n",
       "\n",
       "                           554         929      2590             3137  \n",
       "user_id                    1328        1473     1371             1489  \n",
       "city                   Мурманск  Красноярск     Омск  Санкт-Петербург  \n",
       "tariff                    ultra       ultra    smart            smart  \n",
       "month                       NaN         NaN      NaN              NaN  \n",
       "calls_number                NaN         NaN      NaN              NaN  \n",
       "calls_duration              NaN         NaN      NaN              NaN  \n",
       "messages_number             NaN         NaN      NaN              NaN  \n",
       "gb_used                     NaN         NaN      NaN              NaN  \n",
       "messages_included        1000.0      1000.0     50.0             50.0  \n",
       "mb_per_month_included   30720.0     30720.0  15360.0          15360.0  \n",
       "minutes_included         3000.0      3000.0    500.0            500.0  \n",
       "rub_monthly_fee          1950.0      1950.0    550.0            550.0  \n",
       "rub_per_gb                150.0       150.0    200.0            200.0  \n",
       "rub_per_message             1.0         1.0      3.0              3.0  \n",
       "rub_per_minute              1.0         1.0      3.0              3.0  "
      ]
     },
     "execution_count": 43,
     "metadata": {},
     "output_type": "execute_result"
    }
   ],
   "source": [
    "resulting_df.query('month != month').T"
   ]
  },
  {
   "cell_type": "code",
   "execution_count": 44,
   "metadata": {},
   "outputs": [
    {
     "data": {
      "text/html": [
       "<div>\n",
       "<style scoped>\n",
       "    .dataframe tbody tr th:only-of-type {\n",
       "        vertical-align: middle;\n",
       "    }\n",
       "\n",
       "    .dataframe tbody tr th {\n",
       "        vertical-align: top;\n",
       "    }\n",
       "\n",
       "    .dataframe thead th {\n",
       "        text-align: right;\n",
       "    }\n",
       "</style>\n",
       "<table border=\"1\" class=\"dataframe\">\n",
       "  <thead>\n",
       "    <tr style=\"text-align: right;\">\n",
       "      <th></th>\n",
       "      <th>49</th>\n",
       "      <th>50</th>\n",
       "      <th>51</th>\n",
       "    </tr>\n",
       "  </thead>\n",
       "  <tbody>\n",
       "    <tr>\n",
       "      <th>user_id</th>\n",
       "      <td>1024</td>\n",
       "      <td>1024</td>\n",
       "      <td>1024</td>\n",
       "    </tr>\n",
       "    <tr>\n",
       "      <th>city</th>\n",
       "      <td>Санкт-Петербург</td>\n",
       "      <td>Санкт-Петербург</td>\n",
       "      <td>Санкт-Петербург</td>\n",
       "    </tr>\n",
       "    <tr>\n",
       "      <th>tariff</th>\n",
       "      <td>ultra</td>\n",
       "      <td>ultra</td>\n",
       "      <td>ultra</td>\n",
       "    </tr>\n",
       "    <tr>\n",
       "      <th>month</th>\n",
       "      <td>10.0</td>\n",
       "      <td>11.0</td>\n",
       "      <td>12.0</td>\n",
       "    </tr>\n",
       "    <tr>\n",
       "      <th>calls_number</th>\n",
       "      <td>7.0</td>\n",
       "      <td>157.0</td>\n",
       "      <td>136.0</td>\n",
       "    </tr>\n",
       "    <tr>\n",
       "      <th>calls_duration</th>\n",
       "      <td>79.0</td>\n",
       "      <td>1146.0</td>\n",
       "      <td>949.0</td>\n",
       "    </tr>\n",
       "    <tr>\n",
       "      <th>messages_number</th>\n",
       "      <td>NaN</td>\n",
       "      <td>NaN</td>\n",
       "      <td>NaN</td>\n",
       "    </tr>\n",
       "    <tr>\n",
       "      <th>gb_used</th>\n",
       "      <td>4.0</td>\n",
       "      <td>43.0</td>\n",
       "      <td>36.0</td>\n",
       "    </tr>\n",
       "    <tr>\n",
       "      <th>messages_included</th>\n",
       "      <td>1000.0</td>\n",
       "      <td>1000.0</td>\n",
       "      <td>1000.0</td>\n",
       "    </tr>\n",
       "    <tr>\n",
       "      <th>mb_per_month_included</th>\n",
       "      <td>30720.0</td>\n",
       "      <td>30720.0</td>\n",
       "      <td>30720.0</td>\n",
       "    </tr>\n",
       "    <tr>\n",
       "      <th>minutes_included</th>\n",
       "      <td>3000.0</td>\n",
       "      <td>3000.0</td>\n",
       "      <td>3000.0</td>\n",
       "    </tr>\n",
       "    <tr>\n",
       "      <th>rub_monthly_fee</th>\n",
       "      <td>1950.0</td>\n",
       "      <td>1950.0</td>\n",
       "      <td>1950.0</td>\n",
       "    </tr>\n",
       "    <tr>\n",
       "      <th>rub_per_gb</th>\n",
       "      <td>150.0</td>\n",
       "      <td>150.0</td>\n",
       "      <td>150.0</td>\n",
       "    </tr>\n",
       "    <tr>\n",
       "      <th>rub_per_message</th>\n",
       "      <td>1.0</td>\n",
       "      <td>1.0</td>\n",
       "      <td>1.0</td>\n",
       "    </tr>\n",
       "    <tr>\n",
       "      <th>rub_per_minute</th>\n",
       "      <td>1.0</td>\n",
       "      <td>1.0</td>\n",
       "      <td>1.0</td>\n",
       "    </tr>\n",
       "  </tbody>\n",
       "</table>\n",
       "</div>"
      ],
      "text/plain": [
       "                                    49               50               51\n",
       "user_id                           1024             1024             1024\n",
       "city                   Санкт-Петербург  Санкт-Петербург  Санкт-Петербург\n",
       "tariff                           ultra            ultra            ultra\n",
       "month                             10.0             11.0             12.0\n",
       "calls_number                       7.0            157.0            136.0\n",
       "calls_duration                    79.0           1146.0            949.0\n",
       "messages_number                    NaN              NaN              NaN\n",
       "gb_used                            4.0             43.0             36.0\n",
       "messages_included               1000.0           1000.0           1000.0\n",
       "mb_per_month_included          30720.0          30720.0          30720.0\n",
       "minutes_included                3000.0           3000.0           3000.0\n",
       "rub_monthly_fee                 1950.0           1950.0           1950.0\n",
       "rub_per_gb                       150.0            150.0            150.0\n",
       "rub_per_message                    1.0              1.0              1.0\n",
       "rub_per_minute                     1.0              1.0              1.0"
      ]
     },
     "execution_count": 44,
     "metadata": {},
     "output_type": "execute_result"
    }
   ],
   "source": [
    "resulting_df.query('messages_number != messages_number').head(3).T"
   ]
  },
  {
   "cell_type": "code",
   "execution_count": 45,
   "metadata": {},
   "outputs": [
    {
     "data": {
      "text/html": [
       "<div>\n",
       "<style scoped>\n",
       "    .dataframe tbody tr th:only-of-type {\n",
       "        vertical-align: middle;\n",
       "    }\n",
       "\n",
       "    .dataframe tbody tr th {\n",
       "        vertical-align: top;\n",
       "    }\n",
       "\n",
       "    .dataframe thead th {\n",
       "        text-align: right;\n",
       "    }\n",
       "</style>\n",
       "<table border=\"1\" class=\"dataframe\">\n",
       "  <thead>\n",
       "    <tr style=\"text-align: right;\">\n",
       "      <th></th>\n",
       "      <th>151</th>\n",
       "      <th>197</th>\n",
       "      <th>228</th>\n",
       "    </tr>\n",
       "  </thead>\n",
       "  <tbody>\n",
       "    <tr>\n",
       "      <th>user_id</th>\n",
       "      <td>1091</td>\n",
       "      <td>1106</td>\n",
       "      <td>1128</td>\n",
       "    </tr>\n",
       "    <tr>\n",
       "      <th>city</th>\n",
       "      <td>Набережные Челны</td>\n",
       "      <td>Калуга</td>\n",
       "      <td>Волжский</td>\n",
       "    </tr>\n",
       "    <tr>\n",
       "      <th>tariff</th>\n",
       "      <td>ultra</td>\n",
       "      <td>ultra</td>\n",
       "      <td>ultra</td>\n",
       "    </tr>\n",
       "    <tr>\n",
       "      <th>month</th>\n",
       "      <td>NaN</td>\n",
       "      <td>NaN</td>\n",
       "      <td>NaN</td>\n",
       "    </tr>\n",
       "    <tr>\n",
       "      <th>calls_number</th>\n",
       "      <td>NaN</td>\n",
       "      <td>NaN</td>\n",
       "      <td>NaN</td>\n",
       "    </tr>\n",
       "    <tr>\n",
       "      <th>calls_duration</th>\n",
       "      <td>NaN</td>\n",
       "      <td>NaN</td>\n",
       "      <td>NaN</td>\n",
       "    </tr>\n",
       "    <tr>\n",
       "      <th>messages_number</th>\n",
       "      <td>NaN</td>\n",
       "      <td>NaN</td>\n",
       "      <td>NaN</td>\n",
       "    </tr>\n",
       "    <tr>\n",
       "      <th>gb_used</th>\n",
       "      <td>NaN</td>\n",
       "      <td>NaN</td>\n",
       "      <td>NaN</td>\n",
       "    </tr>\n",
       "    <tr>\n",
       "      <th>messages_included</th>\n",
       "      <td>1000.0</td>\n",
       "      <td>1000.0</td>\n",
       "      <td>1000.0</td>\n",
       "    </tr>\n",
       "    <tr>\n",
       "      <th>mb_per_month_included</th>\n",
       "      <td>30720.0</td>\n",
       "      <td>30720.0</td>\n",
       "      <td>30720.0</td>\n",
       "    </tr>\n",
       "    <tr>\n",
       "      <th>minutes_included</th>\n",
       "      <td>3000.0</td>\n",
       "      <td>3000.0</td>\n",
       "      <td>3000.0</td>\n",
       "    </tr>\n",
       "    <tr>\n",
       "      <th>rub_monthly_fee</th>\n",
       "      <td>1950.0</td>\n",
       "      <td>1950.0</td>\n",
       "      <td>1950.0</td>\n",
       "    </tr>\n",
       "    <tr>\n",
       "      <th>rub_per_gb</th>\n",
       "      <td>150.0</td>\n",
       "      <td>150.0</td>\n",
       "      <td>150.0</td>\n",
       "    </tr>\n",
       "    <tr>\n",
       "      <th>rub_per_message</th>\n",
       "      <td>1.0</td>\n",
       "      <td>1.0</td>\n",
       "      <td>1.0</td>\n",
       "    </tr>\n",
       "    <tr>\n",
       "      <th>rub_per_minute</th>\n",
       "      <td>1.0</td>\n",
       "      <td>1.0</td>\n",
       "      <td>1.0</td>\n",
       "    </tr>\n",
       "  </tbody>\n",
       "</table>\n",
       "</div>"
      ],
      "text/plain": [
       "                                    151      197       228\n",
       "user_id                            1091     1106      1128\n",
       "city                   Набережные Челны   Калуга  Волжский\n",
       "tariff                            ultra    ultra     ultra\n",
       "month                               NaN      NaN       NaN\n",
       "calls_number                        NaN      NaN       NaN\n",
       "calls_duration                      NaN      NaN       NaN\n",
       "messages_number                     NaN      NaN       NaN\n",
       "gb_used                             NaN      NaN       NaN\n",
       "messages_included                1000.0   1000.0    1000.0\n",
       "mb_per_month_included           30720.0  30720.0   30720.0\n",
       "minutes_included                 3000.0   3000.0    3000.0\n",
       "rub_monthly_fee                  1950.0   1950.0    1950.0\n",
       "rub_per_gb                        150.0    150.0     150.0\n",
       "rub_per_message                     1.0      1.0       1.0\n",
       "rub_per_minute                      1.0      1.0       1.0"
      ]
     },
     "execution_count": 45,
     "metadata": {},
     "output_type": "execute_result"
    }
   ],
   "source": [
    "resulting_df.query('gb_used  != gb_used').head(3).T"
   ]
  },
  {
   "cell_type": "code",
   "execution_count": 46,
   "metadata": {},
   "outputs": [
    {
     "name": "stdout",
     "output_type": "stream",
     "text": [
      "<class 'pandas.core.frame.DataFrame'>\n",
      "RangeIndex: 3214 entries, 0 to 3213\n",
      "Data columns (total 15 columns):\n",
      " #   Column                 Non-Null Count  Dtype  \n",
      "---  ------                 --------------  -----  \n",
      " 0   user_id                3214 non-null   int64  \n",
      " 1   city                   3214 non-null   object \n",
      " 2   tariff                 3214 non-null   object \n",
      " 3   month                  3214 non-null   int64  \n",
      " 4   calls_number           3214 non-null   int64  \n",
      " 5   calls_duration         3214 non-null   int64  \n",
      " 6   messages_number        3214 non-null   int64  \n",
      " 7   gb_used                3214 non-null   int64  \n",
      " 8   messages_included      3214 non-null   float64\n",
      " 9   mb_per_month_included  3214 non-null   float64\n",
      " 10  minutes_included       3214 non-null   float64\n",
      " 11  rub_monthly_fee        3214 non-null   float64\n",
      " 12  rub_per_gb             3214 non-null   float64\n",
      " 13  rub_per_message        3214 non-null   float64\n",
      " 14  rub_per_minute         3214 non-null   float64\n",
      "dtypes: float64(7), int64(6), object(2)\n",
      "memory usage: 376.8+ KB\n",
      "\n",
      "Number of duplicated rows in the dataset: 0\n",
      "\n"
     ]
    },
    {
     "data": {
      "text/html": [
       "<div>\n",
       "<style scoped>\n",
       "    .dataframe tbody tr th:only-of-type {\n",
       "        vertical-align: middle;\n",
       "    }\n",
       "\n",
       "    .dataframe tbody tr th {\n",
       "        vertical-align: top;\n",
       "    }\n",
       "\n",
       "    .dataframe thead th {\n",
       "        text-align: right;\n",
       "    }\n",
       "</style>\n",
       "<table border=\"1\" class=\"dataframe\">\n",
       "  <thead>\n",
       "    <tr style=\"text-align: right;\">\n",
       "      <th></th>\n",
       "      <th>Not_Valid_Values_in %</th>\n",
       "    </tr>\n",
       "  </thead>\n",
       "  <tbody>\n",
       "    <tr>\n",
       "      <th>user_id</th>\n",
       "      <td>0.0</td>\n",
       "    </tr>\n",
       "    <tr>\n",
       "      <th>city</th>\n",
       "      <td>0.0</td>\n",
       "    </tr>\n",
       "    <tr>\n",
       "      <th>tariff</th>\n",
       "      <td>0.0</td>\n",
       "    </tr>\n",
       "    <tr>\n",
       "      <th>month</th>\n",
       "      <td>0.0</td>\n",
       "    </tr>\n",
       "    <tr>\n",
       "      <th>calls_number</th>\n",
       "      <td>0.0</td>\n",
       "    </tr>\n",
       "    <tr>\n",
       "      <th>calls_duration</th>\n",
       "      <td>0.0</td>\n",
       "    </tr>\n",
       "    <tr>\n",
       "      <th>messages_number</th>\n",
       "      <td>0.0</td>\n",
       "    </tr>\n",
       "    <tr>\n",
       "      <th>gb_used</th>\n",
       "      <td>0.0</td>\n",
       "    </tr>\n",
       "    <tr>\n",
       "      <th>messages_included</th>\n",
       "      <td>0.0</td>\n",
       "    </tr>\n",
       "    <tr>\n",
       "      <th>mb_per_month_included</th>\n",
       "      <td>0.0</td>\n",
       "    </tr>\n",
       "    <tr>\n",
       "      <th>minutes_included</th>\n",
       "      <td>0.0</td>\n",
       "    </tr>\n",
       "    <tr>\n",
       "      <th>rub_monthly_fee</th>\n",
       "      <td>0.0</td>\n",
       "    </tr>\n",
       "    <tr>\n",
       "      <th>rub_per_gb</th>\n",
       "      <td>0.0</td>\n",
       "    </tr>\n",
       "    <tr>\n",
       "      <th>rub_per_message</th>\n",
       "      <td>0.0</td>\n",
       "    </tr>\n",
       "    <tr>\n",
       "      <th>rub_per_minute</th>\n",
       "      <td>0.0</td>\n",
       "    </tr>\n",
       "  </tbody>\n",
       "</table>\n",
       "</div>"
      ],
      "text/plain": [
       "                       Not_Valid_Values_in %\n",
       "user_id                                  0.0\n",
       "city                                     0.0\n",
       "tariff                                   0.0\n",
       "month                                    0.0\n",
       "calls_number                             0.0\n",
       "calls_duration                           0.0\n",
       "messages_number                          0.0\n",
       "gb_used                                  0.0\n",
       "messages_included                        0.0\n",
       "mb_per_month_included                    0.0\n",
       "minutes_included                         0.0\n",
       "rub_monthly_fee                          0.0\n",
       "rub_per_gb                               0.0\n",
       "rub_per_message                          0.0\n",
       "rub_per_minute                           0.0"
      ]
     },
     "metadata": {},
     "output_type": "display_data"
    }
   ],
   "source": [
    "resulting_df.dropna(subset = ['month'], inplace = True)\n",
    "resulting_df.reset_index(drop=True, inplace=True)\n",
    "resulting_df.fillna(0, inplace=True)\n",
    "resulting_df['month'] = resulting_df['month'].astype('int64')\n",
    "resulting_df['calls_number'] = resulting_df['calls_number'].astype('int64')\n",
    "resulting_df['calls_duration'] = resulting_df['calls_duration'].astype('int64')\n",
    "resulting_df['messages_number'] = resulting_df['messages_number'].astype('int64')\n",
    "resulting_df['gb_used'] = resulting_df['gb_used'].astype('int64')\n",
    "get_info_on_dataset(resulting_df)"
   ]
  },
  {
   "cell_type": "code",
   "execution_count": 47,
   "metadata": {},
   "outputs": [
    {
     "data": {
      "text/html": [
       "<div>\n",
       "<style scoped>\n",
       "    .dataframe tbody tr th:only-of-type {\n",
       "        vertical-align: middle;\n",
       "    }\n",
       "\n",
       "    .dataframe tbody tr th {\n",
       "        vertical-align: top;\n",
       "    }\n",
       "\n",
       "    .dataframe thead th {\n",
       "        text-align: right;\n",
       "    }\n",
       "</style>\n",
       "<table border=\"1\" class=\"dataframe\">\n",
       "  <thead>\n",
       "    <tr style=\"text-align: right;\">\n",
       "      <th></th>\n",
       "      <th>0</th>\n",
       "      <th>1</th>\n",
       "      <th>2</th>\n",
       "      <th>3</th>\n",
       "      <th>4</th>\n",
       "    </tr>\n",
       "  </thead>\n",
       "  <tbody>\n",
       "    <tr>\n",
       "      <th>user_id</th>\n",
       "      <td>1000</td>\n",
       "      <td>1000</td>\n",
       "      <td>1000</td>\n",
       "      <td>1000</td>\n",
       "      <td>1000</td>\n",
       "    </tr>\n",
       "    <tr>\n",
       "      <th>city</th>\n",
       "      <td>Краснодар</td>\n",
       "      <td>Краснодар</td>\n",
       "      <td>Краснодар</td>\n",
       "      <td>Краснодар</td>\n",
       "      <td>Краснодар</td>\n",
       "    </tr>\n",
       "    <tr>\n",
       "      <th>tariff</th>\n",
       "      <td>ultra</td>\n",
       "      <td>ultra</td>\n",
       "      <td>ultra</td>\n",
       "      <td>ultra</td>\n",
       "      <td>ultra</td>\n",
       "    </tr>\n",
       "    <tr>\n",
       "      <th>month</th>\n",
       "      <td>5</td>\n",
       "      <td>6</td>\n",
       "      <td>7</td>\n",
       "      <td>8</td>\n",
       "      <td>9</td>\n",
       "    </tr>\n",
       "    <tr>\n",
       "      <th>calls_number</th>\n",
       "      <td>22</td>\n",
       "      <td>43</td>\n",
       "      <td>47</td>\n",
       "      <td>52</td>\n",
       "      <td>58</td>\n",
       "    </tr>\n",
       "    <tr>\n",
       "      <th>calls_duration</th>\n",
       "      <td>159</td>\n",
       "      <td>172</td>\n",
       "      <td>340</td>\n",
       "      <td>408</td>\n",
       "      <td>466</td>\n",
       "    </tr>\n",
       "    <tr>\n",
       "      <th>messages_number</th>\n",
       "      <td>22</td>\n",
       "      <td>60</td>\n",
       "      <td>75</td>\n",
       "      <td>81</td>\n",
       "      <td>57</td>\n",
       "    </tr>\n",
       "    <tr>\n",
       "      <th>gb_used</th>\n",
       "      <td>3</td>\n",
       "      <td>23</td>\n",
       "      <td>14</td>\n",
       "      <td>14</td>\n",
       "      <td>15</td>\n",
       "    </tr>\n",
       "    <tr>\n",
       "      <th>messages_included</th>\n",
       "      <td>1000.0</td>\n",
       "      <td>1000.0</td>\n",
       "      <td>1000.0</td>\n",
       "      <td>1000.0</td>\n",
       "      <td>1000.0</td>\n",
       "    </tr>\n",
       "    <tr>\n",
       "      <th>mb_per_month_included</th>\n",
       "      <td>30720.0</td>\n",
       "      <td>30720.0</td>\n",
       "      <td>30720.0</td>\n",
       "      <td>30720.0</td>\n",
       "      <td>30720.0</td>\n",
       "    </tr>\n",
       "    <tr>\n",
       "      <th>minutes_included</th>\n",
       "      <td>3000.0</td>\n",
       "      <td>3000.0</td>\n",
       "      <td>3000.0</td>\n",
       "      <td>3000.0</td>\n",
       "      <td>3000.0</td>\n",
       "    </tr>\n",
       "    <tr>\n",
       "      <th>rub_monthly_fee</th>\n",
       "      <td>1950.0</td>\n",
       "      <td>1950.0</td>\n",
       "      <td>1950.0</td>\n",
       "      <td>1950.0</td>\n",
       "      <td>1950.0</td>\n",
       "    </tr>\n",
       "    <tr>\n",
       "      <th>rub_per_gb</th>\n",
       "      <td>150.0</td>\n",
       "      <td>150.0</td>\n",
       "      <td>150.0</td>\n",
       "      <td>150.0</td>\n",
       "      <td>150.0</td>\n",
       "    </tr>\n",
       "    <tr>\n",
       "      <th>rub_per_message</th>\n",
       "      <td>1.0</td>\n",
       "      <td>1.0</td>\n",
       "      <td>1.0</td>\n",
       "      <td>1.0</td>\n",
       "      <td>1.0</td>\n",
       "    </tr>\n",
       "    <tr>\n",
       "      <th>rub_per_minute</th>\n",
       "      <td>1.0</td>\n",
       "      <td>1.0</td>\n",
       "      <td>1.0</td>\n",
       "      <td>1.0</td>\n",
       "      <td>1.0</td>\n",
       "    </tr>\n",
       "  </tbody>\n",
       "</table>\n",
       "</div>"
      ],
      "text/plain": [
       "                               0          1          2          3          4\n",
       "user_id                     1000       1000       1000       1000       1000\n",
       "city                   Краснодар  Краснодар  Краснодар  Краснодар  Краснодар\n",
       "tariff                     ultra      ultra      ultra      ultra      ultra\n",
       "month                          5          6          7          8          9\n",
       "calls_number                  22         43         47         52         58\n",
       "calls_duration               159        172        340        408        466\n",
       "messages_number               22         60         75         81         57\n",
       "gb_used                        3         23         14         14         15\n",
       "messages_included         1000.0     1000.0     1000.0     1000.0     1000.0\n",
       "mb_per_month_included    30720.0    30720.0    30720.0    30720.0    30720.0\n",
       "minutes_included          3000.0     3000.0     3000.0     3000.0     3000.0\n",
       "rub_monthly_fee           1950.0     1950.0     1950.0     1950.0     1950.0\n",
       "rub_per_gb                 150.0      150.0      150.0      150.0      150.0\n",
       "rub_per_message              1.0        1.0        1.0        1.0        1.0\n",
       "rub_per_minute               1.0        1.0        1.0        1.0        1.0"
      ]
     },
     "execution_count": 47,
     "metadata": {},
     "output_type": "execute_result"
    }
   ],
   "source": [
    "resulting_df.head().T"
   ]
  },
  {
   "cell_type": "markdown",
   "metadata": {},
   "source": [
    "Привели данные к нужным типам, заполнили пропуски и сгруппировали данные в 1 таблицу `resulting_df`"
   ]
  },
  {
   "cell_type": "code",
   "execution_count": 48,
   "metadata": {},
   "outputs": [
    {
     "name": "stdout",
     "output_type": "stream",
     "text": [
      "Количество строк resulting_df_test  3214\n"
     ]
    },
    {
     "data": {
      "text/html": [
       "<div>\n",
       "<style scoped>\n",
       "    .dataframe tbody tr th:only-of-type {\n",
       "        vertical-align: middle;\n",
       "    }\n",
       "\n",
       "    .dataframe tbody tr th {\n",
       "        vertical-align: top;\n",
       "    }\n",
       "\n",
       "    .dataframe thead th {\n",
       "        text-align: right;\n",
       "    }\n",
       "</style>\n",
       "<table border=\"1\" class=\"dataframe\">\n",
       "  <thead>\n",
       "    <tr style=\"text-align: right;\">\n",
       "      <th></th>\n",
       "      <th>calls_number</th>\n",
       "      <th>calls_duration</th>\n",
       "      <th>messages_number</th>\n",
       "      <th>gb_used</th>\n",
       "    </tr>\n",
       "  </thead>\n",
       "  <tbody>\n",
       "    <tr>\n",
       "      <th>count</th>\n",
       "      <td>3174.000000</td>\n",
       "      <td>3174.000000</td>\n",
       "      <td>2717.000000</td>\n",
       "      <td>3203.000000</td>\n",
       "    </tr>\n",
       "    <tr>\n",
       "      <th>mean</th>\n",
       "      <td>63.833333</td>\n",
       "      <td>456.931632</td>\n",
       "      <td>45.283769</td>\n",
       "      <td>17.358414</td>\n",
       "    </tr>\n",
       "    <tr>\n",
       "      <th>std</th>\n",
       "      <td>32.678036</td>\n",
       "      <td>238.031270</td>\n",
       "      <td>35.051363</td>\n",
       "      <td>7.343379</td>\n",
       "    </tr>\n",
       "    <tr>\n",
       "      <th>min</th>\n",
       "      <td>1.000000</td>\n",
       "      <td>0.000000</td>\n",
       "      <td>1.000000</td>\n",
       "      <td>0.000000</td>\n",
       "    </tr>\n",
       "    <tr>\n",
       "      <th>25%</th>\n",
       "      <td>41.000000</td>\n",
       "      <td>290.000000</td>\n",
       "      <td>19.000000</td>\n",
       "      <td>13.000000</td>\n",
       "    </tr>\n",
       "    <tr>\n",
       "      <th>50%</th>\n",
       "      <td>63.000000</td>\n",
       "      <td>447.000000</td>\n",
       "      <td>38.000000</td>\n",
       "      <td>17.000000</td>\n",
       "    </tr>\n",
       "    <tr>\n",
       "      <th>75%</th>\n",
       "      <td>83.000000</td>\n",
       "      <td>592.000000</td>\n",
       "      <td>63.000000</td>\n",
       "      <td>21.000000</td>\n",
       "    </tr>\n",
       "    <tr>\n",
       "      <th>max</th>\n",
       "      <td>244.000000</td>\n",
       "      <td>1673.000000</td>\n",
       "      <td>224.000000</td>\n",
       "      <td>49.000000</td>\n",
       "    </tr>\n",
       "  </tbody>\n",
       "</table>\n",
       "</div>"
      ],
      "text/plain": [
       "       calls_number  calls_duration  messages_number      gb_used\n",
       "count   3174.000000     3174.000000      2717.000000  3203.000000\n",
       "mean      63.833333      456.931632        45.283769    17.358414\n",
       "std       32.678036      238.031270        35.051363     7.343379\n",
       "min        1.000000        0.000000         1.000000     0.000000\n",
       "25%       41.000000      290.000000        19.000000    13.000000\n",
       "50%       63.000000      447.000000        38.000000    17.000000\n",
       "75%       83.000000      592.000000        63.000000    21.000000\n",
       "max      244.000000     1673.000000       224.000000    49.000000"
      ]
     },
     "execution_count": 48,
     "metadata": {},
     "output_type": "execute_result"
    }
   ],
   "source": [
    "resulting_df_test = df_calls_stats.merge(df_messages_stats, on=['user_id', 'month'], how='outer').merge(df_internet_stats, on=['user_id', 'month'], how='outer').merge(df_users, on=['user_id'])\n",
    "resulting_df_test = resulting_df_test.merge(df_tariffs, on=['tariff'], how='outer')\n",
    "print(\"Количество строк resulting_df_test \", resulting_df_test.shape[0])\n",
    "resulting_df_test[['calls_number', 'calls_duration', 'messages_number', 'gb_used']].describe()"
   ]
  },
  {
   "cell_type": "code",
   "execution_count": 49,
   "metadata": {},
   "outputs": [
    {
     "data": {
      "text/html": [
       "<div>\n",
       "<style scoped>\n",
       "    .dataframe tbody tr th:only-of-type {\n",
       "        vertical-align: middle;\n",
       "    }\n",
       "\n",
       "    .dataframe tbody tr th {\n",
       "        vertical-align: top;\n",
       "    }\n",
       "\n",
       "    .dataframe thead th {\n",
       "        text-align: right;\n",
       "    }\n",
       "</style>\n",
       "<table border=\"1\" class=\"dataframe\">\n",
       "  <thead>\n",
       "    <tr style=\"text-align: right;\">\n",
       "      <th></th>\n",
       "      <th>calls_number</th>\n",
       "      <th>calls_duration</th>\n",
       "      <th>messages_number</th>\n",
       "      <th>gb_used</th>\n",
       "    </tr>\n",
       "  </thead>\n",
       "  <tbody>\n",
       "    <tr>\n",
       "      <th>count</th>\n",
       "      <td>3174.000000</td>\n",
       "      <td>3174.000000</td>\n",
       "      <td>2717.000000</td>\n",
       "      <td>3203.000000</td>\n",
       "    </tr>\n",
       "    <tr>\n",
       "      <th>mean</th>\n",
       "      <td>63.833333</td>\n",
       "      <td>456.931632</td>\n",
       "      <td>45.283769</td>\n",
       "      <td>17.358414</td>\n",
       "    </tr>\n",
       "    <tr>\n",
       "      <th>std</th>\n",
       "      <td>32.678036</td>\n",
       "      <td>238.031270</td>\n",
       "      <td>35.051363</td>\n",
       "      <td>7.343379</td>\n",
       "    </tr>\n",
       "    <tr>\n",
       "      <th>min</th>\n",
       "      <td>1.000000</td>\n",
       "      <td>0.000000</td>\n",
       "      <td>1.000000</td>\n",
       "      <td>0.000000</td>\n",
       "    </tr>\n",
       "    <tr>\n",
       "      <th>25%</th>\n",
       "      <td>41.000000</td>\n",
       "      <td>290.000000</td>\n",
       "      <td>19.000000</td>\n",
       "      <td>13.000000</td>\n",
       "    </tr>\n",
       "    <tr>\n",
       "      <th>50%</th>\n",
       "      <td>63.000000</td>\n",
       "      <td>447.000000</td>\n",
       "      <td>38.000000</td>\n",
       "      <td>17.000000</td>\n",
       "    </tr>\n",
       "    <tr>\n",
       "      <th>75%</th>\n",
       "      <td>83.000000</td>\n",
       "      <td>592.000000</td>\n",
       "      <td>63.000000</td>\n",
       "      <td>21.000000</td>\n",
       "    </tr>\n",
       "    <tr>\n",
       "      <th>max</th>\n",
       "      <td>244.000000</td>\n",
       "      <td>1673.000000</td>\n",
       "      <td>224.000000</td>\n",
       "      <td>49.000000</td>\n",
       "    </tr>\n",
       "  </tbody>\n",
       "</table>\n",
       "</div>"
      ],
      "text/plain": [
       "       calls_number  calls_duration  messages_number      gb_used\n",
       "count   3174.000000     3174.000000      2717.000000  3203.000000\n",
       "mean      63.833333      456.931632        45.283769    17.358414\n",
       "std       32.678036      238.031270        35.051363     7.343379\n",
       "min        1.000000        0.000000         1.000000     0.000000\n",
       "25%       41.000000      290.000000        19.000000    13.000000\n",
       "50%       63.000000      447.000000        38.000000    17.000000\n",
       "75%       83.000000      592.000000        63.000000    21.000000\n",
       "max      244.000000     1673.000000       224.000000    49.000000"
      ]
     },
     "execution_count": 49,
     "metadata": {},
     "output_type": "execute_result"
    }
   ],
   "source": [
    "df_calls_stats.drop(['user_id', 'month'], axis=1).describe().\\\n",
    "join(df_messages_stats.drop(['user_id', 'month'], axis=1).describe()).\\\n",
    "join(df_internet_stats.drop(['user_id', 'month','sum_month_mb'], axis=1).describe())"
   ]
  },
  {
   "cell_type": "code",
   "execution_count": 50,
   "metadata": {},
   "outputs": [
    {
     "data": {
      "text/html": [
       "<div>\n",
       "<style scoped>\n",
       "    .dataframe tbody tr th:only-of-type {\n",
       "        vertical-align: middle;\n",
       "    }\n",
       "\n",
       "    .dataframe tbody tr th {\n",
       "        vertical-align: top;\n",
       "    }\n",
       "\n",
       "    .dataframe thead th {\n",
       "        text-align: right;\n",
       "    }\n",
       "</style>\n",
       "<table border=\"1\" class=\"dataframe\">\n",
       "  <thead>\n",
       "    <tr style=\"text-align: right;\">\n",
       "      <th></th>\n",
       "    </tr>\n",
       "  </thead>\n",
       "  <tbody>\n",
       "    <tr>\n",
       "      <th>user_id</th>\n",
       "    </tr>\n",
       "    <tr>\n",
       "      <th>month</th>\n",
       "    </tr>\n",
       "    <tr>\n",
       "      <th>calls_number</th>\n",
       "    </tr>\n",
       "    <tr>\n",
       "      <th>calls_duration</th>\n",
       "    </tr>\n",
       "    <tr>\n",
       "      <th>messages_number</th>\n",
       "    </tr>\n",
       "    <tr>\n",
       "      <th>sum_month_mb</th>\n",
       "    </tr>\n",
       "    <tr>\n",
       "      <th>gb_used</th>\n",
       "    </tr>\n",
       "    <tr>\n",
       "      <th>age</th>\n",
       "    </tr>\n",
       "    <tr>\n",
       "      <th>churn_date</th>\n",
       "    </tr>\n",
       "    <tr>\n",
       "      <th>city</th>\n",
       "    </tr>\n",
       "    <tr>\n",
       "      <th>first_name</th>\n",
       "    </tr>\n",
       "    <tr>\n",
       "      <th>last_name</th>\n",
       "    </tr>\n",
       "    <tr>\n",
       "      <th>reg_date</th>\n",
       "    </tr>\n",
       "    <tr>\n",
       "      <th>tariff</th>\n",
       "    </tr>\n",
       "    <tr>\n",
       "      <th>messages_included</th>\n",
       "    </tr>\n",
       "    <tr>\n",
       "      <th>mb_per_month_included</th>\n",
       "    </tr>\n",
       "    <tr>\n",
       "      <th>minutes_included</th>\n",
       "    </tr>\n",
       "    <tr>\n",
       "      <th>rub_monthly_fee</th>\n",
       "    </tr>\n",
       "    <tr>\n",
       "      <th>rub_per_gb</th>\n",
       "    </tr>\n",
       "    <tr>\n",
       "      <th>rub_per_message</th>\n",
       "    </tr>\n",
       "    <tr>\n",
       "      <th>rub_per_minute</th>\n",
       "    </tr>\n",
       "  </tbody>\n",
       "</table>\n",
       "</div>"
      ],
      "text/plain": [
       "Empty DataFrame\n",
       "Columns: []\n",
       "Index: [user_id, month, calls_number, calls_duration, messages_number, sum_month_mb, gb_used, age, churn_date, city, first_name, last_name, reg_date, tariff, messages_included, mb_per_month_included, minutes_included, rub_monthly_fee, rub_per_gb, rub_per_message, rub_per_minute]"
      ]
     },
     "execution_count": 50,
     "metadata": {},
     "output_type": "execute_result"
    }
   ],
   "source": [
    "resulting_df_test.query('month != month').T"
   ]
  },
  {
   "cell_type": "markdown",
   "metadata": {},
   "source": [
    "**Определим ежемесячную выручку компании, полученную от каждого `user_id`**"
   ]
  },
  {
   "cell_type": "code",
   "execution_count": 51,
   "metadata": {},
   "outputs": [],
   "source": [
    "def user_id_revenue(_row):\n",
    "    \n",
    "    user_revenue_amount = _row['rub_monthly_fee']\n",
    "\n",
    "    if _row['calls_duration'] > _row['minutes_included']:\n",
    "        user_revenue_amount += (_row['calls_duration'] - _row['minutes_included'])*_row['rub_per_minute'] \n",
    "    \n",
    "    if _row['messages_number'] > _row['messages_included']:\n",
    "        user_revenue_amount += (_row['messages_number'] - _row['messages_included'])*_row['rub_per_message']  \n",
    "\n",
    "    if _row['gb_used'] > _row['mb_per_month_included']/1024:\n",
    "        user_revenue_amount += ((_row['gb_used'] - _row['mb_per_month_included']/1024)*_row['rub_per_gb'] ) \n",
    "        \n",
    "    return round(user_revenue_amount, 2)"
   ]
  },
  {
   "cell_type": "code",
   "execution_count": 52,
   "metadata": {},
   "outputs": [],
   "source": [
    "resulting_df['user_revenue'] = resulting_df.apply(user_id_revenue, axis=1)"
   ]
  },
  {
   "cell_type": "code",
   "execution_count": 53,
   "metadata": {},
   "outputs": [
    {
     "data": {
      "text/html": [
       "<div>\n",
       "<style scoped>\n",
       "    .dataframe tbody tr th:only-of-type {\n",
       "        vertical-align: middle;\n",
       "    }\n",
       "\n",
       "    .dataframe tbody tr th {\n",
       "        vertical-align: top;\n",
       "    }\n",
       "\n",
       "    .dataframe thead th {\n",
       "        text-align: right;\n",
       "    }\n",
       "</style>\n",
       "<table border=\"1\" class=\"dataframe\">\n",
       "  <thead>\n",
       "    <tr style=\"text-align: right;\">\n",
       "      <th></th>\n",
       "      <th>1003</th>\n",
       "      <th>2704</th>\n",
       "      <th>1627</th>\n",
       "      <th>938</th>\n",
       "      <th>1333</th>\n",
       "      <th>1253</th>\n",
       "      <th>886</th>\n",
       "      <th>2028</th>\n",
       "      <th>932</th>\n",
       "      <th>1498</th>\n",
       "    </tr>\n",
       "  </thead>\n",
       "  <tbody>\n",
       "    <tr>\n",
       "      <th>user_id</th>\n",
       "      <td>1010</td>\n",
       "      <td>1395</td>\n",
       "      <td>1147</td>\n",
       "      <td>1491</td>\n",
       "      <td>1079</td>\n",
       "      <td>1064</td>\n",
       "      <td>1458</td>\n",
       "      <td>1230</td>\n",
       "      <td>1476</td>\n",
       "      <td>1119</td>\n",
       "    </tr>\n",
       "    <tr>\n",
       "      <th>city</th>\n",
       "      <td>Тюмень</td>\n",
       "      <td>Москва</td>\n",
       "      <td>Якутск</td>\n",
       "      <td>Челябинск</td>\n",
       "      <td>Москва</td>\n",
       "      <td>Якутск</td>\n",
       "      <td>Барнаул</td>\n",
       "      <td>Томск</td>\n",
       "      <td>Москва</td>\n",
       "      <td>Петрозаводск</td>\n",
       "    </tr>\n",
       "    <tr>\n",
       "      <th>tariff</th>\n",
       "      <td>smart</td>\n",
       "      <td>smart</td>\n",
       "      <td>smart</td>\n",
       "      <td>ultra</td>\n",
       "      <td>smart</td>\n",
       "      <td>smart</td>\n",
       "      <td>ultra</td>\n",
       "      <td>smart</td>\n",
       "      <td>ultra</td>\n",
       "      <td>smart</td>\n",
       "    </tr>\n",
       "    <tr>\n",
       "      <th>month</th>\n",
       "      <td>8</td>\n",
       "      <td>11</td>\n",
       "      <td>8</td>\n",
       "      <td>7</td>\n",
       "      <td>7</td>\n",
       "      <td>11</td>\n",
       "      <td>9</td>\n",
       "      <td>10</td>\n",
       "      <td>11</td>\n",
       "      <td>7</td>\n",
       "    </tr>\n",
       "    <tr>\n",
       "      <th>calls_number</th>\n",
       "      <td>19</td>\n",
       "      <td>91</td>\n",
       "      <td>33</td>\n",
       "      <td>80</td>\n",
       "      <td>74</td>\n",
       "      <td>68</td>\n",
       "      <td>115</td>\n",
       "      <td>56</td>\n",
       "      <td>71</td>\n",
       "      <td>34</td>\n",
       "    </tr>\n",
       "    <tr>\n",
       "      <th>calls_duration</th>\n",
       "      <td>142</td>\n",
       "      <td>637</td>\n",
       "      <td>243</td>\n",
       "      <td>606</td>\n",
       "      <td>592</td>\n",
       "      <td>479</td>\n",
       "      <td>856</td>\n",
       "      <td>447</td>\n",
       "      <td>556</td>\n",
       "      <td>277</td>\n",
       "    </tr>\n",
       "    <tr>\n",
       "      <th>messages_number</th>\n",
       "      <td>0</td>\n",
       "      <td>26</td>\n",
       "      <td>36</td>\n",
       "      <td>58</td>\n",
       "      <td>30</td>\n",
       "      <td>40</td>\n",
       "      <td>3</td>\n",
       "      <td>17</td>\n",
       "      <td>6</td>\n",
       "      <td>44</td>\n",
       "    </tr>\n",
       "    <tr>\n",
       "      <th>gb_used</th>\n",
       "      <td>15</td>\n",
       "      <td>19</td>\n",
       "      <td>20</td>\n",
       "      <td>21</td>\n",
       "      <td>11</td>\n",
       "      <td>15</td>\n",
       "      <td>19</td>\n",
       "      <td>20</td>\n",
       "      <td>15</td>\n",
       "      <td>20</td>\n",
       "    </tr>\n",
       "    <tr>\n",
       "      <th>messages_included</th>\n",
       "      <td>50.0</td>\n",
       "      <td>50.0</td>\n",
       "      <td>50.0</td>\n",
       "      <td>1000.0</td>\n",
       "      <td>50.0</td>\n",
       "      <td>50.0</td>\n",
       "      <td>1000.0</td>\n",
       "      <td>50.0</td>\n",
       "      <td>1000.0</td>\n",
       "      <td>50.0</td>\n",
       "    </tr>\n",
       "    <tr>\n",
       "      <th>mb_per_month_included</th>\n",
       "      <td>15360.0</td>\n",
       "      <td>15360.0</td>\n",
       "      <td>15360.0</td>\n",
       "      <td>30720.0</td>\n",
       "      <td>15360.0</td>\n",
       "      <td>15360.0</td>\n",
       "      <td>30720.0</td>\n",
       "      <td>15360.0</td>\n",
       "      <td>30720.0</td>\n",
       "      <td>15360.0</td>\n",
       "    </tr>\n",
       "    <tr>\n",
       "      <th>minutes_included</th>\n",
       "      <td>500.0</td>\n",
       "      <td>500.0</td>\n",
       "      <td>500.0</td>\n",
       "      <td>3000.0</td>\n",
       "      <td>500.0</td>\n",
       "      <td>500.0</td>\n",
       "      <td>3000.0</td>\n",
       "      <td>500.0</td>\n",
       "      <td>3000.0</td>\n",
       "      <td>500.0</td>\n",
       "    </tr>\n",
       "    <tr>\n",
       "      <th>rub_monthly_fee</th>\n",
       "      <td>550.0</td>\n",
       "      <td>550.0</td>\n",
       "      <td>550.0</td>\n",
       "      <td>1950.0</td>\n",
       "      <td>550.0</td>\n",
       "      <td>550.0</td>\n",
       "      <td>1950.0</td>\n",
       "      <td>550.0</td>\n",
       "      <td>1950.0</td>\n",
       "      <td>550.0</td>\n",
       "    </tr>\n",
       "    <tr>\n",
       "      <th>rub_per_gb</th>\n",
       "      <td>200.0</td>\n",
       "      <td>200.0</td>\n",
       "      <td>200.0</td>\n",
       "      <td>150.0</td>\n",
       "      <td>200.0</td>\n",
       "      <td>200.0</td>\n",
       "      <td>150.0</td>\n",
       "      <td>200.0</td>\n",
       "      <td>150.0</td>\n",
       "      <td>200.0</td>\n",
       "    </tr>\n",
       "    <tr>\n",
       "      <th>rub_per_message</th>\n",
       "      <td>3.0</td>\n",
       "      <td>3.0</td>\n",
       "      <td>3.0</td>\n",
       "      <td>1.0</td>\n",
       "      <td>3.0</td>\n",
       "      <td>3.0</td>\n",
       "      <td>1.0</td>\n",
       "      <td>3.0</td>\n",
       "      <td>1.0</td>\n",
       "      <td>3.0</td>\n",
       "    </tr>\n",
       "    <tr>\n",
       "      <th>rub_per_minute</th>\n",
       "      <td>3.0</td>\n",
       "      <td>3.0</td>\n",
       "      <td>3.0</td>\n",
       "      <td>1.0</td>\n",
       "      <td>3.0</td>\n",
       "      <td>3.0</td>\n",
       "      <td>1.0</td>\n",
       "      <td>3.0</td>\n",
       "      <td>1.0</td>\n",
       "      <td>3.0</td>\n",
       "    </tr>\n",
       "    <tr>\n",
       "      <th>user_revenue</th>\n",
       "      <td>550.0</td>\n",
       "      <td>1761.0</td>\n",
       "      <td>1550.0</td>\n",
       "      <td>1950.0</td>\n",
       "      <td>826.0</td>\n",
       "      <td>550.0</td>\n",
       "      <td>1950.0</td>\n",
       "      <td>1550.0</td>\n",
       "      <td>1950.0</td>\n",
       "      <td>1550.0</td>\n",
       "    </tr>\n",
       "  </tbody>\n",
       "</table>\n",
       "</div>"
      ],
      "text/plain": [
       "                          1003     2704     1627       938      1333     1253  \\\n",
       "user_id                   1010     1395     1147       1491     1079     1064   \n",
       "city                    Тюмень   Москва   Якутск  Челябинск   Москва   Якутск   \n",
       "tariff                   smart    smart    smart      ultra    smart    smart   \n",
       "month                        8       11        8          7        7       11   \n",
       "calls_number                19       91       33         80       74       68   \n",
       "calls_duration             142      637      243        606      592      479   \n",
       "messages_number              0       26       36         58       30       40   \n",
       "gb_used                     15       19       20         21       11       15   \n",
       "messages_included         50.0     50.0     50.0     1000.0     50.0     50.0   \n",
       "mb_per_month_included  15360.0  15360.0  15360.0    30720.0  15360.0  15360.0   \n",
       "minutes_included         500.0    500.0    500.0     3000.0    500.0    500.0   \n",
       "rub_monthly_fee          550.0    550.0    550.0     1950.0    550.0    550.0   \n",
       "rub_per_gb               200.0    200.0    200.0      150.0    200.0    200.0   \n",
       "rub_per_message            3.0      3.0      3.0        1.0      3.0      3.0   \n",
       "rub_per_minute             3.0      3.0      3.0        1.0      3.0      3.0   \n",
       "user_revenue             550.0   1761.0   1550.0     1950.0    826.0    550.0   \n",
       "\n",
       "                          886      2028     932           1498  \n",
       "user_id                   1458     1230     1476          1119  \n",
       "city                   Барнаул    Томск   Москва  Петрозаводск  \n",
       "tariff                   ultra    smart    ultra         smart  \n",
       "month                        9       10       11             7  \n",
       "calls_number               115       56       71            34  \n",
       "calls_duration             856      447      556           277  \n",
       "messages_number              3       17        6            44  \n",
       "gb_used                     19       20       15            20  \n",
       "messages_included       1000.0     50.0   1000.0          50.0  \n",
       "mb_per_month_included  30720.0  15360.0  30720.0       15360.0  \n",
       "minutes_included        3000.0    500.0   3000.0         500.0  \n",
       "rub_monthly_fee         1950.0    550.0   1950.0         550.0  \n",
       "rub_per_gb               150.0    200.0    150.0         200.0  \n",
       "rub_per_message            1.0      3.0      1.0           3.0  \n",
       "rub_per_minute             1.0      3.0      1.0           3.0  \n",
       "user_revenue            1950.0   1550.0   1950.0        1550.0  "
      ]
     },
     "execution_count": 53,
     "metadata": {},
     "output_type": "execute_result"
    }
   ],
   "source": [
    "resulting_df.sample(10).T"
   ]
  },
  {
   "cell_type": "markdown",
   "metadata": {},
   "source": [
    "Создали фукнцию для расчета помесячной выручки от каждого пользователя, с ее помощью расчитали выручку и добавили столбцом `user_revenue` в итоговую таблицу `resulting_df`."
   ]
  },
  {
   "cell_type": "markdown",
   "metadata": {},
   "source": [
    "## Анализ данных\n"
   ]
  },
  {
   "cell_type": "code",
   "execution_count": 54,
   "metadata": {},
   "outputs": [],
   "source": [
    "def plot_hists(_df, \n",
    "               _c_t,\n",
    "               _func = 'mean',\n",
    "               _bins = 50, \n",
    "               _x_ticks_range = [],\n",
    "               _y_ticks_range = [],\n",
    "               _width = 20, \n",
    "               _height = 12, \n",
    "               _fontsize=15):\n",
    "    \"\"\" \n",
    "    Plot histograms\n",
    "    :param _df : pandas dataframe with data\n",
    "    :param _c_t : column title \n",
    "    :param _bins: bins number  \n",
    "    :param _width: width value\n",
    "    :param _height: height value\n",
    "    :param _fontsize: fontsize value\n",
    "    :return: None \n",
    "    \"\"\"   \n",
    "    try:\n",
    "        \n",
    "        plt.figure(figsize=(_width, _height))\n",
    "\n",
    "        sns.histplot(data=resulting_df.query('tariff == \"smart\"'), \n",
    "                     x=_c_t, \n",
    "                     color=\"crimson\", \n",
    "                     label= _c_t + ' [ \"smart\" ]', \n",
    "                     bins = _bins, \n",
    "                     kde=True)\n",
    "        \n",
    "        sns.histplot(data=resulting_df.query('tariff == \"ultra\"'), \n",
    "                     x=_c_t, \n",
    "                     color=\"c\", \n",
    "                     label=_c_t + ' [ \"ultra\" ]', \n",
    "                     bins = _bins, \n",
    "                     kde=True)\n",
    "\n",
    "        plt.xlabel(_c_t, fontsize=_fontsize)\n",
    "        plt.ylabel('', fontsize=_fontsize)\n",
    "        plt.yticks(fontsize=_fontsize)\n",
    "        plt.xticks(fontsize=_fontsize)\n",
    "        \n",
    "        if _x_ticks_range:\n",
    "            plt.xlim(*_x_ticks_range) \n",
    "        if _y_ticks_range:\n",
    "            plt.ylim(*_y_ticks_range)\n",
    "\n",
    "\n",
    "        mm_smart_value = eval(\"_df.loc[_df['tariff'] == 'smart', '{}'].\".format(_c_t) + _func + \"()\")      \n",
    "        mm_ultra_value = eval(\"_df.loc[_df['tariff'] == 'ultra', '{}'].\".format(_c_t) + _func + \"()\")\n",
    "        \n",
    "        plt.axvline(x=mm_smart_value, color='black', lw = 5, ls = ':', label = \"smart \" \\\n",
    "                    + _func + \" value: {}\".format(round(mm_smart_value,2)))\n",
    "        plt.axvline(x=mm_ultra_value, color='blue', lw = 5, ls = ':', label = \"ultra \" \\\n",
    "                    + _func + \" value: {}\".format(round(mm_ultra_value,2)))\n",
    "            \n",
    "        plt.legend(fontsize = '15', title_fontsize = \"10\")\n",
    "        plt.show() \n",
    "\n",
    "        \n",
    "    except:\n",
    "        pprint(\"Can't provide boxplot plotting\")\n",
    "        \n",
    "    pass\n",
    "\n",
    "\n",
    "def plot_catplot(_df_data, \n",
    "                 _x_col_title,\n",
    "                 _y_col_title,\n",
    "                 _x_ticks_range = [],\n",
    "                 _y_ticks_range = [],\n",
    "                 _x_axis_label = \"\", \n",
    "                 _y_axis_label = \"\", \n",
    "                 _height= 1, \n",
    "                 _aspect = 1, \n",
    "                 _order = [],\n",
    "                 _fontsize=12):\n",
    "    \"\"\" \n",
    "    Plot catplot\n",
    "    :param _df_data: pandas dataframe series with x data\n",
    "    :param _x_axis_label: x-axis label\n",
    "    :param _y_axis_label: y-axis label    \n",
    "    :param _width: width value\n",
    "    :param _height: height value\n",
    "    :param _fontsize: fontsize value\n",
    "    :return: None \n",
    "    \"\"\"   \n",
    "\n",
    "    try:\n",
    "        \n",
    "        #plt.figure(figsize=(_width, _height))\n",
    "                    \n",
    "        if _order:\n",
    "            sns.catplot(x=_x_col_title, y=_y_col_title, kind=\"box\", data=_df_data, \\\n",
    "                        height=_height, aspect=_aspect, palette='dark', order=_order)\n",
    "        else:\n",
    "            sns.catplot(x=_x_col_title, y=_y_col_title, kind=\"box\", data=_df_data, \\\n",
    "                        height=_height, aspect=_aspect, palette='dark')\n",
    "            \n",
    "        #plt.xlabel(_x_axis_label, fontsize=_fontsize)\n",
    "        #plt.ylabel(_y_axis_label, fontsize=_fontsize)\n",
    "        \n",
    "        if _x_ticks_range:\n",
    "            plt.xlim(*_x_ticks_range) \n",
    "        if _y_ticks_range:\n",
    "            plt.ylim(*_y_ticks_range)\n",
    "\n",
    "    except:\n",
    "        pprint(\"Can't provide catplot plotting\")\n",
    "        \n",
    "    pass\n",
    "\n",
    "def get_box_and_whisker_info(_x_data):\n",
    "    \"\"\" \n",
    "    Get info on box_and_whisker\n",
    "    :param _x_data: pandas dataframe series with x data\n",
    "    :return: None \n",
    "    \"\"\"       \n",
    "    Q1_QUANTILE_VALUE_CONST = float(0.25)\n",
    "    Q3_QUANTILE_VALUE_CONST = float(0.75)\n",
    "    IQR_MULT_DEFAULT_CONST = float(1.5)\n",
    "    \n",
    "    try:\n",
    "        Q1 = _x_data.quantile(Q1_QUANTILE_VALUE_CONST)\n",
    "        Q3 = _x_data.quantile(Q3_QUANTILE_VALUE_CONST)\n",
    "        IQR = Q3 - Q1 \n",
    "            \n",
    "        outliers_low_bound = Q1 - IQR_MULT_DEFAULT_CONST*IQR\n",
    "        outliers_upper_bound = Q3 + IQR_MULT_DEFAULT_CONST*IQR      \n",
    "\n",
    "        pprint(\"Q1 == {:.2f}, Q3 == {:.2f}, IQR == {:.2f}\".format(Q1, Q3, IQR))\n",
    "        pprint(\"[Q1 - 1.5*IQR] == {:.2f}, [Q3 + 1.5*IQR] == {:.2f}\".format(outliers_low_bound, outliers_upper_bound))\n",
    "        \n",
    "    except:\n",
    "        pprint(\"Can't provide box_and_whisker related info on given data\")\n",
    "        \n",
    "    pass"
   ]
  },
  {
   "cell_type": "markdown",
   "metadata": {},
   "source": [
    "----------------\n",
    "### Количество минут пользователей тарифов\n",
    "Среднее, медиана, дисперсия и стандартное отклонение для количества минут пользователей двух тарифов\n"
   ]
  },
  {
   "cell_type": "code",
   "execution_count": 55,
   "metadata": {},
   "outputs": [
    {
     "data": {
      "text/html": [
       "<div>\n",
       "<style scoped>\n",
       "    .dataframe tbody tr th:only-of-type {\n",
       "        vertical-align: middle;\n",
       "    }\n",
       "\n",
       "    .dataframe tbody tr th {\n",
       "        vertical-align: top;\n",
       "    }\n",
       "\n",
       "    .dataframe thead th {\n",
       "        text-align: right;\n",
       "    }\n",
       "</style>\n",
       "<table border=\"1\" class=\"dataframe\">\n",
       "  <thead>\n",
       "    <tr style=\"text-align: right;\">\n",
       "      <th></th>\n",
       "      <th>tariff</th>\n",
       "      <th>count_user_id</th>\n",
       "      <th>sum_calls_duration</th>\n",
       "      <th>sum_calls_number</th>\n",
       "      <th>sum_gb_used</th>\n",
       "      <th>sum_messages_number</th>\n",
       "      <th>user_revenue</th>\n",
       "    </tr>\n",
       "  </thead>\n",
       "  <tbody>\n",
       "    <tr>\n",
       "      <th>0</th>\n",
       "      <td>0</td>\n",
       "      <td>40</td>\n",
       "      <td>0</td>\n",
       "      <td>0</td>\n",
       "      <td>765</td>\n",
       "      <td>2165</td>\n",
       "      <td>0.0</td>\n",
       "    </tr>\n",
       "    <tr>\n",
       "      <th>1</th>\n",
       "      <td>smart</td>\n",
       "      <td>2223</td>\n",
       "      <td>931577</td>\n",
       "      <td>130315</td>\n",
       "      <td>36301</td>\n",
       "      <td>74240</td>\n",
       "      <td>2869651.0</td>\n",
       "    </tr>\n",
       "    <tr>\n",
       "      <th>2</th>\n",
       "      <td>ultra</td>\n",
       "      <td>951</td>\n",
       "      <td>518724</td>\n",
       "      <td>72292</td>\n",
       "      <td>18533</td>\n",
       "      <td>46631</td>\n",
       "      <td>1969500.0</td>\n",
       "    </tr>\n",
       "  </tbody>\n",
       "</table>\n",
       "</div>"
      ],
      "text/plain": [
       "  tariff  count_user_id  sum_calls_duration  sum_calls_number  sum_gb_used  \\\n",
       "0      0             40                   0                 0          765   \n",
       "1  smart           2223              931577            130315        36301   \n",
       "2  ultra            951              518724             72292        18533   \n",
       "\n",
       "   sum_messages_number  user_revenue  \n",
       "0                 2165           0.0  \n",
       "1                74240     2869651.0  \n",
       "2                46631     1969500.0  "
      ]
     },
     "execution_count": 55,
     "metadata": {},
     "output_type": "execute_result"
    }
   ],
   "source": [
    "user_id_resulting_df = resulting_df.pivot_table(index=['tariff'],\n",
    "                                             values=['user_id'], \n",
    "                                             aggfunc=['count']).reset_index().round()\n",
    "user_id_resulting_df.columns = ['tariff', 'count_user_id']\n",
    "\n",
    "user_tariff_resulting_df = resulting_df.pivot_table(index=['tariff'],\n",
    "                                             values=['calls_duration','calls_number','gb_used','messages_number','user_revenue'], \n",
    "                                             aggfunc=['sum']).reset_index().round()\n",
    "user_tariff_resulting_df.columns = ['tariff', 'sum_calls_duration','sum_calls_number','sum_gb_used','sum_messages_number','user_revenue']\n",
    "\n",
    "user_id_tariff_resulting_df = user_id_resulting_df.merge(user_tariff_resulting_df, on=['tariff'], how='left')\n",
    "user_id_tariff_resulting_df"
   ]
  },
  {
   "cell_type": "code",
   "execution_count": 56,
   "metadata": {},
   "outputs": [
    {
     "data": {
      "text/html": [
       "<div>\n",
       "<style scoped>\n",
       "    .dataframe tbody tr th:only-of-type {\n",
       "        vertical-align: middle;\n",
       "    }\n",
       "\n",
       "    .dataframe tbody tr th {\n",
       "        vertical-align: top;\n",
       "    }\n",
       "\n",
       "    .dataframe thead th {\n",
       "        text-align: right;\n",
       "    }\n",
       "</style>\n",
       "<table border=\"1\" class=\"dataframe\">\n",
       "  <thead>\n",
       "    <tr style=\"text-align: right;\">\n",
       "      <th></th>\n",
       "      <th>tariff</th>\n",
       "      <th>calls_median</th>\n",
       "      <th>calls_mean</th>\n",
       "      <th>calls_std</th>\n",
       "      <th>calls_var</th>\n",
       "      <th>calls_sum_duration</th>\n",
       "    </tr>\n",
       "  </thead>\n",
       "  <tbody>\n",
       "    <tr>\n",
       "      <th>0</th>\n",
       "      <td>0</td>\n",
       "      <td>0</td>\n",
       "      <td>0.0</td>\n",
       "      <td>0.0</td>\n",
       "      <td>0.0</td>\n",
       "      <td>0</td>\n",
       "    </tr>\n",
       "    <tr>\n",
       "      <th>1</th>\n",
       "      <td>smart</td>\n",
       "      <td>423</td>\n",
       "      <td>419.0</td>\n",
       "      <td>189.0</td>\n",
       "      <td>35844.0</td>\n",
       "      <td>931577</td>\n",
       "    </tr>\n",
       "    <tr>\n",
       "      <th>2</th>\n",
       "      <td>ultra</td>\n",
       "      <td>528</td>\n",
       "      <td>545.0</td>\n",
       "      <td>307.0</td>\n",
       "      <td>94203.0</td>\n",
       "      <td>518724</td>\n",
       "    </tr>\n",
       "  </tbody>\n",
       "</table>\n",
       "</div>"
      ],
      "text/plain": [
       "  tariff  calls_median  calls_mean  calls_std  calls_var  calls_sum_duration\n",
       "0      0             0         0.0        0.0        0.0                   0\n",
       "1  smart           423       419.0      189.0    35844.0              931577\n",
       "2  ultra           528       545.0      307.0    94203.0              518724"
      ]
     },
     "execution_count": 56,
     "metadata": {},
     "output_type": "execute_result"
    }
   ],
   "source": [
    "calls_resulting_df = resulting_df.pivot_table(index=['tariff'],\n",
    "                           values='calls_duration',\n",
    "                           aggfunc=['median','mean', np.std, np.var, 'sum']).reset_index().round()\n",
    "\n",
    "calls_resulting_df.columns = ['tariff', 'calls_median', 'calls_mean', 'calls_std', 'calls_var', 'calls_sum_duration']\n",
    "calls_resulting_df"
   ]
  },
  {
   "cell_type": "code",
   "execution_count": 57,
   "metadata": {},
   "outputs": [
    {
     "data": {
      "image/png": "[encoded data removed]",
      "text/plain": [
       "<Figure size 1440x864 with 1 Axes>"
      ]
     },
     "metadata": {},
     "output_type": "display_data"
    }
   ],
   "source": [
    "plot_hists(resulting_df, _c_t = \"calls_duration\", _func = \"mean\")"
   ]
  },
  {
   "cell_type": "code",
   "execution_count": 58,
   "metadata": {},
   "outputs": [
    {
     "data": {
      "image/png": "[encoded data removed]",
      "text/plain": [
       "<Figure size 1440x864 with 1 Axes>"
      ]
     },
     "metadata": {},
     "output_type": "display_data"
    }
   ],
   "source": [
    "plot_hists(resulting_df, _c_t = \"calls_duration\", _func = \"median\")"
   ]
  },
  {
   "cell_type": "code",
   "execution_count": 59,
   "metadata": {},
   "outputs": [
    {
     "data": {
      "image/png": "[encoded data removed]",
      "text/plain": [
       "<Figure size 1080x360 with 1 Axes>"
      ]
     },
     "metadata": {},
     "output_type": "display_data"
    }
   ],
   "source": [
    "plot_catplot(resulting_df, 'tariff', 'calls_duration', _height = 5, _aspect = 3)"
   ]
  },
  {
   "cell_type": "code",
   "execution_count": 60,
   "metadata": {},
   "outputs": [
    {
     "name": "stdout",
     "output_type": "stream",
     "text": [
      "Включено минут в тарифы 'smart' и 'ultra' \n"
     ]
    },
    {
     "data": {
      "text/html": [
       "<div>\n",
       "<style scoped>\n",
       "    .dataframe tbody tr th:only-of-type {\n",
       "        vertical-align: middle;\n",
       "    }\n",
       "\n",
       "    .dataframe tbody tr th {\n",
       "        vertical-align: top;\n",
       "    }\n",
       "\n",
       "    .dataframe thead th {\n",
       "        text-align: right;\n",
       "    }\n",
       "</style>\n",
       "<table border=\"1\" class=\"dataframe\">\n",
       "  <thead>\n",
       "    <tr style=\"text-align: right;\">\n",
       "      <th></th>\n",
       "      <th>tariff</th>\n",
       "      <th>minutes_included</th>\n",
       "    </tr>\n",
       "  </thead>\n",
       "  <tbody>\n",
       "    <tr>\n",
       "      <th>0</th>\n",
       "      <td>smart</td>\n",
       "      <td>500</td>\n",
       "    </tr>\n",
       "    <tr>\n",
       "      <th>1</th>\n",
       "      <td>ultra</td>\n",
       "      <td>3000</td>\n",
       "    </tr>\n",
       "  </tbody>\n",
       "</table>\n",
       "</div>"
      ],
      "text/plain": [
       "  tariff  minutes_included\n",
       "0  smart               500\n",
       "1  ultra              3000"
      ]
     },
     "metadata": {},
     "output_type": "display_data"
    },
    {
     "name": "stdout",
     "output_type": "stream",
     "text": [
      "\n",
      "Фактически минут тарифа 'smart'\n",
      "'Q1 == 285.00, Q3 == 545.50, IQR == 260.50'\n",
      "'[Q1 - 1.5*IQR] == -105.75, [Q3 + 1.5*IQR] == 936.25'\n",
      "\n",
      "Фактически минут тарифа 'ultra'\n",
      "'Q1 == 310.00, Q3 == 756.50, IQR == 446.50'\n",
      "'[Q1 - 1.5*IQR] == -359.75, [Q3 + 1.5*IQR] == 1426.25'\n"
     ]
    }
   ],
   "source": [
    "print(\"Включено минут в тарифы 'smart' и 'ultra' \")\n",
    "display(df_tariffs[['tariff', 'minutes_included']])\n",
    "print(\"\")\n",
    "print(\"Фактически минут тарифа 'smart'\")\n",
    "get_box_and_whisker_info(resulting_df.query('tariff == \"smart\"')['calls_duration'])\n",
    "print(\"\")\n",
    "print(\"Фактически минут тарифа 'ultra'\")\n",
    "get_box_and_whisker_info(resulting_df.query('tariff == \"ultra\"')['calls_duration'])"
   ]
  },
  {
   "cell_type": "markdown",
   "metadata": {},
   "source": [
    "В нашей выборке абонентов подключенных к тарифу `smart` 70% (2223 пользователя), а абонентов тарифа `ultra` 30% (951 пользователь).<br>\n",
    "\n",
    "Тариф `smart` <br>\n",
    "Пользователи тарифа `smart` используют в основном от 280 до 550 минут в месяц, ~ 25% пользователей выходят за рамки минут включенных в абонентскую плату тарифа (500 минут/месяц).<br>\n",
    "Распределение гистограммы близко к нормальному, большая часть значений лежит в промежутке от 280 до 550 минут, значения средней и медианы находится близко друг от друга.<br>\n",
    "Типичный представитель данного тарифа разговаривает около 420 минут/месяц.\n",
    "\n",
    "Тариф `ultra` <br>\n",
    "Пользователи тарифа `ultra` используют в основном от 300 до 760 минут в месяц, но никто из пользователей не превышает лимит минут включенный в абонентскую плату тарифа (3000 минут/месяц).<br>\n",
    "Гистограмма скошена вправо. Значение медианы немного меньше среднего. На гистограмме видно, что есть ряд высоких значений, которые не влияют на медиану, но влияют на среднее.<br>\n",
    "Типичный представитель тарифа `ultra` разговаривает около 550 минут/месяц.\n",
    "\n",
    "В целом пользователи тарифа `smart` разговаривают меньше, чем пользователи `ultra`. \n",
    "По гистограмме хорошо видно, что в тарифе `ultra` пользователей использующих более 500 минут в месяц гораздо больше, чем в тарифе `smart`. Но при этом никто из абонентов тарифа `ultra` не выходит за рамки включенных в данных тариф минут.\n"
   ]
  },
  {
   "cell_type": "markdown",
   "metadata": {},
   "source": [
    "----------------\n",
    "### Количество сообщений пользователей тарифов\n",
    "Среднее, медиана, дисперсия и стандартное отклонение для количества сообщений пользователей двух тарифов"
   ]
  },
  {
   "cell_type": "code",
   "execution_count": 61,
   "metadata": {},
   "outputs": [
    {
     "data": {
      "text/html": [
       "<div>\n",
       "<style scoped>\n",
       "    .dataframe tbody tr th:only-of-type {\n",
       "        vertical-align: middle;\n",
       "    }\n",
       "\n",
       "    .dataframe tbody tr th {\n",
       "        vertical-align: top;\n",
       "    }\n",
       "\n",
       "    .dataframe thead th {\n",
       "        text-align: right;\n",
       "    }\n",
       "</style>\n",
       "<table border=\"1\" class=\"dataframe\">\n",
       "  <thead>\n",
       "    <tr style=\"text-align: right;\">\n",
       "      <th></th>\n",
       "      <th>tariff</th>\n",
       "      <th>message_median</th>\n",
       "      <th>message_mean</th>\n",
       "      <th>message_std</th>\n",
       "      <th>message_var</th>\n",
       "    </tr>\n",
       "  </thead>\n",
       "  <tbody>\n",
       "    <tr>\n",
       "      <th>0</th>\n",
       "      <td>0</td>\n",
       "      <td>30.0</td>\n",
       "      <td>54.0</td>\n",
       "      <td>64.0</td>\n",
       "      <td>4157.0</td>\n",
       "    </tr>\n",
       "    <tr>\n",
       "      <th>1</th>\n",
       "      <td>smart</td>\n",
       "      <td>28.0</td>\n",
       "      <td>33.0</td>\n",
       "      <td>28.0</td>\n",
       "      <td>799.0</td>\n",
       "    </tr>\n",
       "    <tr>\n",
       "      <th>2</th>\n",
       "      <td>ultra</td>\n",
       "      <td>39.0</td>\n",
       "      <td>49.0</td>\n",
       "      <td>47.0</td>\n",
       "      <td>2199.0</td>\n",
       "    </tr>\n",
       "  </tbody>\n",
       "</table>\n",
       "</div>"
      ],
      "text/plain": [
       "  tariff  message_median  message_mean  message_std  message_var\n",
       "0      0            30.0          54.0         64.0       4157.0\n",
       "1  smart            28.0          33.0         28.0        799.0\n",
       "2  ultra            39.0          49.0         47.0       2199.0"
      ]
     },
     "execution_count": 61,
     "metadata": {},
     "output_type": "execute_result"
    }
   ],
   "source": [
    "massage_resulting_df = resulting_df.pivot_table(index=['tariff'],\n",
    "                           values='messages_number',\n",
    "                           aggfunc=['median','mean', np.std, np.var]).reset_index().round()\n",
    "\n",
    "massage_resulting_df.columns = ['tariff','message_median', 'message_mean', 'message_std', 'message_var']\n",
    "massage_resulting_df"
   ]
  },
  {
   "cell_type": "code",
   "execution_count": 62,
   "metadata": {},
   "outputs": [
    {
     "data": {
      "image/png": "[encoded data removed]",
      "text/plain": [
       "<Figure size 1440x864 with 1 Axes>"
      ]
     },
     "metadata": {},
     "output_type": "display_data"
    }
   ],
   "source": [
    "plot_hists(resulting_df, _c_t = 'messages_number', _func = 'mean', _bins=25)"
   ]
  },
  {
   "cell_type": "code",
   "execution_count": 63,
   "metadata": {},
   "outputs": [
    {
     "data": {
      "image/png": "[encoded data removed]",
      "text/plain": [
       "<Figure size 1440x864 with 1 Axes>"
      ]
     },
     "metadata": {},
     "output_type": "display_data"
    }
   ],
   "source": [
    "plot_hists(resulting_df, _c_t = 'messages_number', _func = 'median', _bins=25)"
   ]
  },
  {
   "cell_type": "code",
   "execution_count": 64,
   "metadata": {},
   "outputs": [
    {
     "data": {
      "image/png": "[encoded data removed]",
      "text/plain": [
       "<Figure size 1080x360 with 1 Axes>"
      ]
     },
     "metadata": {},
     "output_type": "display_data"
    }
   ],
   "source": [
    "plot_catplot(resulting_df, 'tariff', 'messages_number', _height = 5, _aspect = 3)"
   ]
  },
  {
   "cell_type": "code",
   "execution_count": 65,
   "metadata": {},
   "outputs": [
    {
     "name": "stdout",
     "output_type": "stream",
     "text": [
      "Влючено сообщений в тарифы 'smart' и 'ultra' \n"
     ]
    },
    {
     "data": {
      "text/html": [
       "<div>\n",
       "<style scoped>\n",
       "    .dataframe tbody tr th:only-of-type {\n",
       "        vertical-align: middle;\n",
       "    }\n",
       "\n",
       "    .dataframe tbody tr th {\n",
       "        vertical-align: top;\n",
       "    }\n",
       "\n",
       "    .dataframe thead th {\n",
       "        text-align: right;\n",
       "    }\n",
       "</style>\n",
       "<table border=\"1\" class=\"dataframe\">\n",
       "  <thead>\n",
       "    <tr style=\"text-align: right;\">\n",
       "      <th></th>\n",
       "      <th>tariff</th>\n",
       "      <th>messages_included</th>\n",
       "    </tr>\n",
       "  </thead>\n",
       "  <tbody>\n",
       "    <tr>\n",
       "      <th>0</th>\n",
       "      <td>smart</td>\n",
       "      <td>50</td>\n",
       "    </tr>\n",
       "    <tr>\n",
       "      <th>1</th>\n",
       "      <td>ultra</td>\n",
       "      <td>1000</td>\n",
       "    </tr>\n",
       "  </tbody>\n",
       "</table>\n",
       "</div>"
      ],
      "text/plain": [
       "  tariff  messages_included\n",
       "0  smart                 50\n",
       "1  ultra               1000"
      ]
     },
     "metadata": {},
     "output_type": "display_data"
    },
    {
     "name": "stdout",
     "output_type": "stream",
     "text": [
      "\n",
      "Фактически сообщений в тарифе 'smart'\n",
      "'Q1 == 10.00, Q3 == 51.00, IQR == 41.00'\n",
      "'[Q1 - 1.5*IQR] == -51.50, [Q3 + 1.5*IQR] == 112.50'\n",
      "\n",
      "Фактически сообщений в тарифе  'ultra'\n",
      "'Q1 == 5.00, Q3 == 79.00, IQR == 74.00'\n",
      "'[Q1 - 1.5*IQR] == -106.00, [Q3 + 1.5*IQR] == 190.00'\n"
     ]
    }
   ],
   "source": [
    "print(\"Влючено сообщений в тарифы 'smart' и 'ultra' \")\n",
    "display(df_tariffs[['tariff', 'messages_included']])\n",
    "print(\"\")\n",
    "print(\"Фактически сообщений в тарифе 'smart'\")\n",
    "get_box_and_whisker_info(resulting_df.query('tariff == \"smart\"')['messages_number'])\n",
    "print(\"\")\n",
    "print(\"Фактически сообщений в тарифе  'ultra'\")\n",
    "get_box_and_whisker_info(resulting_df.query('tariff == \"ultra\"')['messages_number'])"
   ]
  },
  {
   "cell_type": "markdown",
   "metadata": {},
   "source": [
    "Тариф `smart` <br>\n",
    "Средний пользователь данного тарифа отправляет около 30 смс-сообщений в месяц.<br>\n",
    "Основная масса пользователей тарифа `smart` использует от 10 до 50 сообщений в месяц, но есть и пользователи (также ~25% от общего числа), которые выходят за рамки лимита сообщений включенного в абонентскую плату за тариф (50 сообщений/месяц).\n",
    "\n",
    "Тариф `ultra` <br>\n",
    "Средний пользователь данного тарифа отправляет около 50 смс-сообщений в месяц.<br>\n",
    "Пользователи тарифа `ultra` используют в основном от 5 до 80 сообщений в месяц, но никто из пользователей не превышает лимит сообщений включенный в абонентскую плату за тариф (1000 сообщения/месяц).<br>\n",
    "\n",
    "В целом абоненты тарифа `smart` пользуются смс-сообщениями меньше, чем абоненты тарифа `ultra`. \n",
    "На гистрограммах видно, что в тарифе `ultra` есть пользователи отправляющие в месяц более 100 сообщений, в тарифе `smart` таких абонентов практически нет."
   ]
  },
  {
   "cell_type": "markdown",
   "metadata": {},
   "source": [
    "----------------\n",
    "### Объем интернет-трафика пользователей тарифов\n",
    "**Среднее, медиана, дисперсия и стандартное отклонение для количества использованных мегабайт пользователями двух тарифов**"
   ]
  },
  {
   "cell_type": "code",
   "execution_count": 66,
   "metadata": {},
   "outputs": [
    {
     "data": {
      "text/html": [
       "<div>\n",
       "<style scoped>\n",
       "    .dataframe tbody tr th:only-of-type {\n",
       "        vertical-align: middle;\n",
       "    }\n",
       "\n",
       "    .dataframe tbody tr th {\n",
       "        vertical-align: top;\n",
       "    }\n",
       "\n",
       "    .dataframe thead th {\n",
       "        text-align: right;\n",
       "    }\n",
       "</style>\n",
       "<table border=\"1\" class=\"dataframe\">\n",
       "  <thead>\n",
       "    <tr style=\"text-align: right;\">\n",
       "      <th></th>\n",
       "      <th>tariff</th>\n",
       "      <th>gb_median</th>\n",
       "      <th>gb_mean</th>\n",
       "      <th>gb_std</th>\n",
       "      <th>gb_var</th>\n",
       "    </tr>\n",
       "  </thead>\n",
       "  <tbody>\n",
       "    <tr>\n",
       "      <th>0</th>\n",
       "      <td>0</td>\n",
       "      <td>18.0</td>\n",
       "      <td>19.0</td>\n",
       "      <td>8.0</td>\n",
       "      <td>70.0</td>\n",
       "    </tr>\n",
       "    <tr>\n",
       "      <th>1</th>\n",
       "      <td>smart</td>\n",
       "      <td>17.0</td>\n",
       "      <td>16.0</td>\n",
       "      <td>6.0</td>\n",
       "      <td>33.0</td>\n",
       "    </tr>\n",
       "    <tr>\n",
       "      <th>2</th>\n",
       "      <td>ultra</td>\n",
       "      <td>19.0</td>\n",
       "      <td>19.0</td>\n",
       "      <td>10.0</td>\n",
       "      <td>98.0</td>\n",
       "    </tr>\n",
       "  </tbody>\n",
       "</table>\n",
       "</div>"
      ],
      "text/plain": [
       "  tariff  gb_median  gb_mean  gb_std  gb_var\n",
       "0      0       18.0     19.0     8.0    70.0\n",
       "1  smart       17.0     16.0     6.0    33.0\n",
       "2  ultra       19.0     19.0    10.0    98.0"
      ]
     },
     "execution_count": 66,
     "metadata": {},
     "output_type": "execute_result"
    }
   ],
   "source": [
    "internet_resulting_df = resulting_df.pivot_table(index=['tariff'],\n",
    "                           values='gb_used',\n",
    "                           aggfunc=['median','mean', np.std, np.var]).reset_index().round()\n",
    "\n",
    "internet_resulting_df.columns = ['tariff','gb_median', 'gb_mean', 'gb_std', 'gb_var']\n",
    "internet_resulting_df"
   ]
  },
  {
   "cell_type": "code",
   "execution_count": 67,
   "metadata": {},
   "outputs": [
    {
     "data": {
      "image/png": "[encoded data removed]",
      "text/plain": [
       "<Figure size 1440x864 with 1 Axes>"
      ]
     },
     "metadata": {},
     "output_type": "display_data"
    }
   ],
   "source": [
    "plot_hists(resulting_df, _c_t = 'gb_used', _func = 'mean',_bins=25)"
   ]
  },
  {
   "cell_type": "code",
   "execution_count": 68,
   "metadata": {},
   "outputs": [
    {
     "data": {
      "image/png": "[encoded data removed]",
      "text/plain": [
       "<Figure size 1440x864 with 1 Axes>"
      ]
     },
     "metadata": {},
     "output_type": "display_data"
    }
   ],
   "source": [
    "plot_hists(resulting_df, _c_t = 'gb_used', _func = 'median',_bins=25)"
   ]
  },
  {
   "cell_type": "code",
   "execution_count": 69,
   "metadata": {},
   "outputs": [
    {
     "data": {
      "image/png": "[encoded data removed]",
      "text/plain": [
       "<Figure size 1080x360 with 1 Axes>"
      ]
     },
     "metadata": {},
     "output_type": "display_data"
    }
   ],
   "source": [
    "plot_catplot(resulting_df, 'tariff', 'gb_used', _height = 5, _aspect = 3)"
   ]
  },
  {
   "cell_type": "code",
   "execution_count": 70,
   "metadata": {},
   "outputs": [
    {
     "name": "stdout",
     "output_type": "stream",
     "text": [
      "Включено Мб в тарифы 'smart' и 'ultra' \n"
     ]
    },
    {
     "data": {
      "text/html": [
       "<div>\n",
       "<style scoped>\n",
       "    .dataframe tbody tr th:only-of-type {\n",
       "        vertical-align: middle;\n",
       "    }\n",
       "\n",
       "    .dataframe tbody tr th {\n",
       "        vertical-align: top;\n",
       "    }\n",
       "\n",
       "    .dataframe thead th {\n",
       "        text-align: right;\n",
       "    }\n",
       "</style>\n",
       "<table border=\"1\" class=\"dataframe\">\n",
       "  <thead>\n",
       "    <tr style=\"text-align: right;\">\n",
       "      <th></th>\n",
       "      <th>tariff</th>\n",
       "      <th>mb_per_month_included</th>\n",
       "    </tr>\n",
       "  </thead>\n",
       "  <tbody>\n",
       "    <tr>\n",
       "      <th>0</th>\n",
       "      <td>smart</td>\n",
       "      <td>15360</td>\n",
       "    </tr>\n",
       "    <tr>\n",
       "      <th>1</th>\n",
       "      <td>ultra</td>\n",
       "      <td>30720</td>\n",
       "    </tr>\n",
       "  </tbody>\n",
       "</table>\n",
       "</div>"
      ],
      "text/plain": [
       "  tariff  mb_per_month_included\n",
       "0  smart                  15360\n",
       "1  ultra                  30720"
      ]
     },
     "metadata": {},
     "output_type": "display_data"
    },
    {
     "name": "stdout",
     "output_type": "stream",
     "text": [
      "\n",
      "Фактически Мб в тарифе  'smart'\n",
      "'Q1 == 13.00, Q3 == 20.00, IQR == 7.00'\n",
      "'[Q1 - 1.5*IQR] == 2.50, [Q3 + 1.5*IQR] == 30.50'\n",
      "\n",
      "Фактически Мб в тарифе  'ultra'\n",
      "'Q1 == 12.00, Q3 == 27.00, IQR == 15.00'\n",
      "'[Q1 - 1.5*IQR] == -10.50, [Q3 + 1.5*IQR] == 49.50'\n"
     ]
    }
   ],
   "source": [
    "print(\"Включено Мб в тарифы 'smart' и 'ultra' \")\n",
    "display(df_tariffs[['tariff', 'mb_per_month_included']])\n",
    "print(\"\")\n",
    "print(\"Фактически Мб в тарифе  'smart'\")\n",
    "get_box_and_whisker_info(resulting_df.query('tariff == \"smart\"')['gb_used'])\n",
    "print(\"\")\n",
    "print(\"Фактически Мб в тарифе  'ultra'\")\n",
    "get_box_and_whisker_info(resulting_df.query('tariff == \"ultra\"')['gb_used'])"
   ]
  },
  {
   "cell_type": "markdown",
   "metadata": {},
   "source": [
    "Тариф `smart` <br>\n",
    "Средний пользователь данного тарифа использует в месяц около 16 Гб. <br>\n",
    "Основная масса пользователей тарифа smart использует от 13 до 20 Гб в месяц, больше половины пользователей доплачивают за трафик сверх лимита (15 Гб/месяц).\n",
    "\n",
    "Тариф `ultra` <br>\n",
    "Средний пользователь данного тарифа использует в месяц около 20 Гб. <br>\n",
    "Пользователи тарифа `ultra` используют в основном от 12 до 27 Гб в месяц, но есть и пользователи, которые покупают дополнительный объем интернета сверх лимита (30 Гб/месяц). <br>\n",
    "\n",
    "В целом абоненты тарифа `smart` пользуются интернетом меньше, чем абоненты тарифа `ultra`. "
   ]
  },
  {
   "cell_type": "code",
   "execution_count": 71,
   "metadata": {},
   "outputs": [
    {
     "data": {
      "text/html": [
       "<div>\n",
       "<style scoped>\n",
       "    .dataframe tbody tr th:only-of-type {\n",
       "        vertical-align: middle;\n",
       "    }\n",
       "\n",
       "    .dataframe tbody tr th {\n",
       "        vertical-align: top;\n",
       "    }\n",
       "\n",
       "    .dataframe thead th {\n",
       "        text-align: right;\n",
       "    }\n",
       "</style>\n",
       "<table border=\"1\" class=\"dataframe\">\n",
       "  <thead>\n",
       "    <tr style=\"text-align: right;\">\n",
       "      <th></th>\n",
       "      <th>revenue</th>\n",
       "      <th>rv_median</th>\n",
       "      <th>rv_mean</th>\n",
       "      <th>rv_var</th>\n",
       "      <th>rv_std</th>\n",
       "      <th>sum</th>\n",
       "    </tr>\n",
       "  </thead>\n",
       "  <tbody>\n",
       "    <tr>\n",
       "      <th>0</th>\n",
       "      <td>0</td>\n",
       "      <td>0.0</td>\n",
       "      <td>0.0</td>\n",
       "      <td>0.0</td>\n",
       "      <td>0.0</td>\n",
       "      <td>0.0</td>\n",
       "    </tr>\n",
       "    <tr>\n",
       "      <th>1</th>\n",
       "      <td>smart</td>\n",
       "      <td>1030.0</td>\n",
       "      <td>1291.0</td>\n",
       "      <td>670957.0</td>\n",
       "      <td>819.0</td>\n",
       "      <td>2869651.0</td>\n",
       "    </tr>\n",
       "    <tr>\n",
       "      <th>2</th>\n",
       "      <td>ultra</td>\n",
       "      <td>1950.0</td>\n",
       "      <td>2071.0</td>\n",
       "      <td>143962.0</td>\n",
       "      <td>379.0</td>\n",
       "      <td>1969500.0</td>\n",
       "    </tr>\n",
       "  </tbody>\n",
       "</table>\n",
       "</div>"
      ],
      "text/plain": [
       "  revenue  rv_median  rv_mean    rv_var  rv_std        sum\n",
       "0       0        0.0      0.0       0.0     0.0        0.0\n",
       "1   smart     1030.0   1291.0  670957.0   819.0  2869651.0\n",
       "2   ultra     1950.0   2071.0  143962.0   379.0  1969500.0"
      ]
     },
     "execution_count": 71,
     "metadata": {},
     "output_type": "execute_result"
    }
   ],
   "source": [
    "revenue_result_df = resulting_df.pivot_table(index=['tariff'],\n",
    "                           values='user_revenue',\n",
    "                           aggfunc=['median','mean', np.var, np.std, sum]).reset_index().round()\n",
    "\n",
    "revenue_result_df.columns = ['revenue','rv_median', 'rv_mean', 'rv_var', 'rv_std','sum']\n",
    "revenue_result_df"
   ]
  },
  {
   "cell_type": "code",
   "execution_count": 72,
   "metadata": {},
   "outputs": [
    {
     "data": {
      "image/png": "[encoded data removed]",
      "text/plain": [
       "<Figure size 1440x864 with 1 Axes>"
      ]
     },
     "metadata": {},
     "output_type": "display_data"
    }
   ],
   "source": [
    "plot_hists(resulting_df, _c_t = 'user_revenue', _func = 'mean',_bins=20)"
   ]
  },
  {
   "cell_type": "code",
   "execution_count": 73,
   "metadata": {},
   "outputs": [
    {
     "data": {
      "image/png": "[encoded data removed]",
      "text/plain": [
       "<Figure size 1440x864 with 1 Axes>"
      ]
     },
     "metadata": {},
     "output_type": "display_data"
    }
   ],
   "source": [
    "plot_hists(resulting_df, _c_t = 'user_revenue', _func = 'median',_bins=20)"
   ]
  },
  {
   "cell_type": "code",
   "execution_count": 74,
   "metadata": {},
   "outputs": [
    {
     "data": {
      "image/png": "[encoded data removed]",
      "text/plain": [
       "<Figure size 1080x360 with 1 Axes>"
      ]
     },
     "metadata": {},
     "output_type": "display_data"
    }
   ],
   "source": [
    "plot_catplot(resulting_df, 'tariff', 'user_revenue', _height = 5, _aspect = 3)"
   ]
  },
  {
   "cell_type": "code",
   "execution_count": 75,
   "metadata": {},
   "outputs": [
    {
     "name": "stdout",
     "output_type": "stream",
     "text": [
      "Абонентская плата тарифы 'smart' и 'ultra' \n"
     ]
    },
    {
     "data": {
      "text/html": [
       "<div>\n",
       "<style scoped>\n",
       "    .dataframe tbody tr th:only-of-type {\n",
       "        vertical-align: middle;\n",
       "    }\n",
       "\n",
       "    .dataframe tbody tr th {\n",
       "        vertical-align: top;\n",
       "    }\n",
       "\n",
       "    .dataframe thead th {\n",
       "        text-align: right;\n",
       "    }\n",
       "</style>\n",
       "<table border=\"1\" class=\"dataframe\">\n",
       "  <thead>\n",
       "    <tr style=\"text-align: right;\">\n",
       "      <th></th>\n",
       "      <th>tariff</th>\n",
       "      <th>rub_monthly_fee</th>\n",
       "    </tr>\n",
       "  </thead>\n",
       "  <tbody>\n",
       "    <tr>\n",
       "      <th>0</th>\n",
       "      <td>smart</td>\n",
       "      <td>550</td>\n",
       "    </tr>\n",
       "    <tr>\n",
       "      <th>1</th>\n",
       "      <td>ultra</td>\n",
       "      <td>1950</td>\n",
       "    </tr>\n",
       "  </tbody>\n",
       "</table>\n",
       "</div>"
      ],
      "text/plain": [
       "  tariff  rub_monthly_fee\n",
       "0  smart              550\n",
       "1  ultra             1950"
      ]
     },
     "metadata": {},
     "output_type": "display_data"
    },
    {
     "name": "stdout",
     "output_type": "stream",
     "text": [
      "\n",
      "Выручка в тарифе  'smart'\n",
      "'Q1 == 550.00, Q3 == 1750.00, IQR == 1200.00'\n",
      "'[Q1 - 1.5*IQR] == -1250.00, [Q3 + 1.5*IQR] == 3550.00'\n",
      "\n",
      "Выручка в тарифе  'ultra'\n",
      "'Q1 == 1950.00, Q3 == 1950.00, IQR == 0.00'\n",
      "'[Q1 - 1.5*IQR] == 1950.00, [Q3 + 1.5*IQR] == 1950.00'\n"
     ]
    }
   ],
   "source": [
    "print(\"Абонентская плата тарифы 'smart' и 'ultra' \")\n",
    "display(df_tariffs[['tariff', 'rub_monthly_fee']])\n",
    "print(\"\")\n",
    "print(\"Выручка в тарифе  'smart'\")\n",
    "get_box_and_whisker_info(resulting_df.query('tariff == \"smart\"')['user_revenue'])\n",
    "print(\"\")\n",
    "print(\"Выручка в тарифе  'ultra'\")\n",
    "get_box_and_whisker_info(resulting_df.query('tariff == \"ultra\"')['user_revenue'])"
   ]
  },
  {
   "cell_type": "markdown",
   "metadata": {},
   "source": [
    "Большую часть выручки приносят пользователи тарифа `smart`, потому что их количество составляет 70% от всех абонентов в выборке. Но средняя выручка выше у тарифа `ultra` = 2 071 руб/мес, тогда как один абонент `smart` в среднем приносит 1 291 руб/мес. \n",
    "\n"
   ]
  },
  {
   "cell_type": "markdown",
   "metadata": {},
   "source": [
    "## Проверка гипотез"
   ]
  },
  {
   "cell_type": "markdown",
   "metadata": {},
   "source": [
    "\n",
    "### Средние значения выручки для пользователей тарифов \"Ultra\" и \"Smart\" различаются"
   ]
  },
  {
   "cell_type": "markdown",
   "metadata": {},
   "source": [
    " Формулируем нулевую и альтернативную гипотезы:\n",
    " - $H_0$ -- средние значения выручки для пользователей тарифов \"Ultra\" и \"Smart\" равны между собой;\n",
    " - $H_1$ -- средние значения выручки для пользователей тарифов \"Ultra\" и \"Smart\" отличаются друг от друга.\n",
    " \n",
    "Критический уровень статистической значимости 5% ($\\alpha = 0.05$)\n",
    "\n",
    "Так как выборки у нас независимые - воспользуемся функцией ttest_ind"
   ]
  },
  {
   "cell_type": "code",
   "execution_count": 76,
   "metadata": {},
   "outputs": [
    {
     "name": "stdout",
     "output_type": "stream",
     "text": [
      " \n",
      "p_value < ALPHA_CONST_VALUE ==> нулевая гипотеза отвергается.\n",
      " \n",
      "p_value = 3.155173205867294e-245, alpha = 0.05.\n",
      " \n",
      "Среднее значение выручки для пользователей Smart: 1291.0\n",
      "Среднее значение выручки для пользователей Utra: 2071.0\n"
     ]
    }
   ],
   "source": [
    "ALPHA_CONST_VALUE = float(.05)\n",
    "\n",
    "p_value = st.ttest_ind(resulting_df.loc[ resulting_df['tariff'] == 'smart', 'user_revenue'],\n",
    "                       resulting_df.loc[ resulting_df['tariff'] == 'ultra', 'user_revenue'], \n",
    "                       equal_var = False).pvalue\n",
    "\n",
    "print(\" \")\n",
    "if p_value < ALPHA_CONST_VALUE:\n",
    "    print(\"p_value < ALPHA_CONST_VALUE ==> нулевая гипотеза отвергается.\")\n",
    "else:\n",
    "    print(\"p_value > ALPHA_CONST_VALUE ==> нулевая гипотеза не может быть отвергнута.\")\n",
    "\n",
    "print(\" \")\n",
    "print(\"p_value = {}, alpha = {}.\".format(p_value, ALPHA_CONST_VALUE))\n",
    "\n",
    "average_revenue_smart = round(resulting_df.loc[ resulting_df['tariff'] == 'smart', 'user_revenue'].mean(), 0)\n",
    "average_revenue_ultra = round(resulting_df.loc[ resulting_df['tariff'] == 'ultra', 'user_revenue'].mean(), 0)\n",
    "print(\" \")\n",
    "print(\"Среднее значение выручки для пользователей Smart: {}\".format(average_revenue_smart))\n",
    "print(\"Среднее значение выручки для пользователей Utra: {}\".format(average_revenue_ultra))\n"
   ]
  },
  {
   "cell_type": "code",
   "execution_count": 77,
   "metadata": {},
   "outputs": [
    {
     "data": {
      "text/html": [
       "<div>\n",
       "<style scoped>\n",
       "    .dataframe tbody tr th:only-of-type {\n",
       "        vertical-align: middle;\n",
       "    }\n",
       "\n",
       "    .dataframe tbody tr th {\n",
       "        vertical-align: top;\n",
       "    }\n",
       "\n",
       "    .dataframe thead th {\n",
       "        text-align: right;\n",
       "    }\n",
       "</style>\n",
       "<table border=\"1\" class=\"dataframe\">\n",
       "  <thead>\n",
       "    <tr style=\"text-align: right;\">\n",
       "      <th></th>\n",
       "      <th>revenue</th>\n",
       "      <th>rv_median</th>\n",
       "      <th>rv_mean</th>\n",
       "      <th>rv_var</th>\n",
       "      <th>rv_std</th>\n",
       "      <th>sum</th>\n",
       "    </tr>\n",
       "  </thead>\n",
       "  <tbody>\n",
       "    <tr>\n",
       "      <th>0</th>\n",
       "      <td>0</td>\n",
       "      <td>0.0</td>\n",
       "      <td>0.0</td>\n",
       "      <td>0.0</td>\n",
       "      <td>0.0</td>\n",
       "      <td>0.0</td>\n",
       "    </tr>\n",
       "    <tr>\n",
       "      <th>1</th>\n",
       "      <td>smart</td>\n",
       "      <td>1030.0</td>\n",
       "      <td>1291.0</td>\n",
       "      <td>670957.0</td>\n",
       "      <td>819.0</td>\n",
       "      <td>2869651.0</td>\n",
       "    </tr>\n",
       "    <tr>\n",
       "      <th>2</th>\n",
       "      <td>ultra</td>\n",
       "      <td>1950.0</td>\n",
       "      <td>2071.0</td>\n",
       "      <td>143962.0</td>\n",
       "      <td>379.0</td>\n",
       "      <td>1969500.0</td>\n",
       "    </tr>\n",
       "  </tbody>\n",
       "</table>\n",
       "</div>"
      ],
      "text/plain": [
       "  revenue  rv_median  rv_mean    rv_var  rv_std        sum\n",
       "0       0        0.0      0.0       0.0     0.0        0.0\n",
       "1   smart     1030.0   1291.0  670957.0   819.0  2869651.0\n",
       "2   ultra     1950.0   2071.0  143962.0   379.0  1969500.0"
      ]
     },
     "execution_count": 77,
     "metadata": {},
     "output_type": "execute_result"
    }
   ],
   "source": [
    "revenue_result_df"
   ]
  },
  {
   "cell_type": "markdown",
   "metadata": {},
   "source": [
    "Нулевая гипотеза отвергнута - средние значения выручки абонентов тарифов \"Ultra\" и \"Smart\" не равны, что еще раз подтвердило наш вывод из п.3."
   ]
  },
  {
   "cell_type": "markdown",
   "metadata": {},
   "source": [
    "\n",
    "### Средние значения выручки для пользователей г. Москва  и пользователей других регионов различаются"
   ]
  },
  {
   "cell_type": "markdown",
   "metadata": {},
   "source": [
    " Формулируем нулевую и альтернативную гипотезы:\n",
    " - $H_0$ -- средние значения выручки для пользователей г. Москва  и пользователей других регионов равны между собой;\n",
    " - $H_1$ -- средние значения выручки для пользователей г. Москва  и пользователей других регионов отличаются друг от друга.\n",
    " \n",
    "Критический уровень статистической значимости 5% ($\\alpha = 0.05$)\n",
    "\n",
    "Так как выборки независимые - воспользуемся функцией ttest_ind"
   ]
  },
  {
   "cell_type": "code",
   "execution_count": 78,
   "metadata": {},
   "outputs": [
    {
     "name": "stdout",
     "output_type": "stream",
     "text": [
      " \n",
      "p_value > ALPHA_CONST_VALUE ==> нулевая гипотеза не может быть отвергнута.\n",
      " \n",
      "p_value = 0.1487216666465577, alpha = 0.05.\n",
      " \n",
      "Среднее значение выручки для пользователей г. Москва: 1546.0\n",
      "Среднее значение выручки для пользователей других регионов: 1496.0\n"
     ]
    }
   ],
   "source": [
    "ALPHA_CONST_VALUE = float(.05)\n",
    "\n",
    "p_value = st.ttest_ind(resulting_df.loc[ resulting_df['city'] == 'Москва', 'user_revenue'],\n",
    "                       resulting_df.loc[ resulting_df['city'] != 'Москва', 'user_revenue'], \n",
    "                       equal_var = False).pvalue\n",
    "\n",
    "print(\" \")\n",
    "if p_value < ALPHA_CONST_VALUE:\n",
    "    print(\"p_value < ALPHA_CONST_VALUE ==> нулевая гипотеза отвергается.\")\n",
    "else:\n",
    "    print(\"p_value > ALPHA_CONST_VALUE ==> нулевая гипотеза не может быть отвергнута.\")\n",
    "\n",
    "print(\" \")\n",
    "print(\"p_value = {}, alpha = {}.\".format(p_value, ALPHA_CONST_VALUE))\n",
    "\n",
    "average_revenue_smart = round(resulting_df.loc[ resulting_df['city'] == 'Москва', 'user_revenue'].mean(), 0)\n",
    "average_revenue_ultra= round(resulting_df.loc[ resulting_df['city'] != 'Москва', 'user_revenue'].mean(), 0)\n",
    "print(\" \")\n",
    "print(\"Среднее значение выручки для пользователей г. Москва: {}\".format(average_revenue_smart))\n",
    "print(\"Среднее значение выручки для пользователей других регионов: {}\".format(average_revenue_ultra))"
   ]
  },
  {
   "cell_type": "code",
   "execution_count": 79,
   "metadata": {},
   "outputs": [
    {
     "data": {
      "text/html": [
       "<div>\n",
       "<style scoped>\n",
       "    .dataframe tbody tr th:only-of-type {\n",
       "        vertical-align: middle;\n",
       "    }\n",
       "\n",
       "    .dataframe tbody tr th {\n",
       "        vertical-align: top;\n",
       "    }\n",
       "\n",
       "    .dataframe thead th {\n",
       "        text-align: right;\n",
       "    }\n",
       "</style>\n",
       "<table border=\"1\" class=\"dataframe\">\n",
       "  <thead>\n",
       "    <tr style=\"text-align: right;\">\n",
       "      <th></th>\n",
       "      <th>revenue</th>\n",
       "      <th>rv_median</th>\n",
       "      <th>rv_mean</th>\n",
       "      <th>rv_var</th>\n",
       "      <th>rv_std</th>\n",
       "      <th>sum</th>\n",
       "    </tr>\n",
       "  </thead>\n",
       "  <tbody>\n",
       "    <tr>\n",
       "      <th>0</th>\n",
       "      <td>Москва</td>\n",
       "      <td>1750.0</td>\n",
       "      <td>1546.0</td>\n",
       "      <td>566298.0</td>\n",
       "      <td>753.0</td>\n",
       "      <td>943092.0</td>\n",
       "    </tr>\n",
       "  </tbody>\n",
       "</table>\n",
       "</div>"
      ],
      "text/plain": [
       "  revenue  rv_median  rv_mean    rv_var  rv_std       sum\n",
       "0  Москва     1750.0   1546.0  566298.0   753.0  943092.0"
      ]
     },
     "metadata": {},
     "output_type": "display_data"
    },
    {
     "data": {
      "text/html": [
       "<div>\n",
       "<style scoped>\n",
       "    .dataframe tbody tr th:only-of-type {\n",
       "        vertical-align: middle;\n",
       "    }\n",
       "\n",
       "    .dataframe tbody tr th {\n",
       "        vertical-align: top;\n",
       "    }\n",
       "\n",
       "    .dataframe thead th {\n",
       "        text-align: right;\n",
       "    }\n",
       "</style>\n",
       "<table border=\"1\" class=\"dataframe\">\n",
       "  <thead>\n",
       "    <tr style=\"text-align: right;\">\n",
       "      <th></th>\n",
       "      <th>revenue</th>\n",
       "      <th>rv_median</th>\n",
       "      <th>rv_mean</th>\n",
       "      <th>rv_var</th>\n",
       "      <th>rv_std</th>\n",
       "      <th>sum</th>\n",
       "    </tr>\n",
       "  </thead>\n",
       "  <tbody>\n",
       "    <tr>\n",
       "      <th>0</th>\n",
       "      <td>other</td>\n",
       "      <td>1550.0</td>\n",
       "      <td>1496.0</td>\n",
       "      <td>683315.0</td>\n",
       "      <td>827.0</td>\n",
       "      <td>3896059.0</td>\n",
       "    </tr>\n",
       "  </tbody>\n",
       "</table>\n",
       "</div>"
      ],
      "text/plain": [
       "  revenue  rv_median  rv_mean    rv_var  rv_std        sum\n",
       "0   other     1550.0   1496.0  683315.0   827.0  3896059.0"
      ]
     },
     "metadata": {},
     "output_type": "display_data"
    }
   ],
   "source": [
    "msk_revenue_result_df = resulting_df.query('city == \"Москва\"')\n",
    "other_revenue_result_df = resulting_df.query('city != \"Москва\"')\n",
    "other_revenue_result_df['city'] = 'other' \n",
    "msk_revenue_result_df = msk_revenue_result_df.pivot_table(index=['city'],\n",
    "                           values='user_revenue',\n",
    "                           aggfunc=['median','mean', np.var, np.std, sum]).reset_index().round()\n",
    "msk_revenue_result_df.columns = ['revenue','rv_median', 'rv_mean', 'rv_var', 'rv_std','sum']\n",
    "other_revenue_result_df = other_revenue_result_df.pivot_table(index=['city'],\n",
    "                           values='user_revenue',\n",
    "                           aggfunc=['median','mean', np.var, np.std, sum]).reset_index().round()\n",
    "other_revenue_result_df.columns = ['revenue','rv_median', 'rv_mean', 'rv_var', 'rv_std','sum']\n",
    "display(msk_revenue_result_df)\n",
    "display(other_revenue_result_df)"
   ]
  },
  {
   "cell_type": "markdown",
   "metadata": {},
   "source": [
    "Проведенный анализ говорит о том, что в среднем выручка полученная от пользователя из Москвы примерно соответствует выручке полученной от абонента из другого региона."
   ]
  },
  {
   "cell_type": "markdown",
   "metadata": {},
   "source": [
    "## Выводы"
   ]
  },
  {
   "cell_type": "markdown",
   "metadata": {},
   "source": [
    "Пользователи тарифа `smart` используют меньшее количество минут звонков и сообщений в месяц, чем пользователи `ultra`.\n",
    "Практически 25% абонентов `smart` переплачивают за услуги голосовой связи и смс-сообщений сверх лимита установленного в данном тарифе, интернет же докупают более половины пользователей.\n",
    "В тарифе `ultra` лимита на звонки и минуты не достигает никто, но некоторое количество пользователей покупает дополнительные пакеты интернет-трафика.<br>\n",
    "\n",
    "Что же касается выручки, то б*О*льшую ее часть приносят пользователи тарифа `smart`, так как их количество составляет 70%. Но средняя выручка (или же выручка на пользователя) выше у тарифа `ultra` и составляет 2 071 руб/мес, в то время как один абонент `smart` в среднем приносит компании 1 291 руб/мес. Причем не обнаружена зависимость суммы средней выручки получаемой сотовым оператором с одного пользователя в месяц от региона его проживания (Москва и прочие регионы).\n",
    "\n",
    "Таким образом, можно сделать вывод, что для сотового оператора выгоднее подключать/переводить абонентов на тариф `ultra`.\n",
    "\n",
    "Если же говорить о том, какой тариф предпочтительнее для пользователя, то здесь необходимо исходить из его индивидуальных потребностей. \n",
    "В том случае, если существует необходимость использования услуг сотовой связи в объемах существенно превышающих лимиты включенные в тариф `smart`, то можно рассмотреть вариант приобретения тарифного плана `ultra`. \n"
   ]
  }
 ],
 "metadata": {
  "ExecuteTimeLog": [
   {
    "duration": 550,
    "start_time": "2022-02-11T20:28:38.360Z"
   },
   {
    "duration": 361,
    "start_time": "2022-02-11T20:29:41.885Z"
   },
   {
    "duration": 123,
    "start_time": "2022-02-11T20:29:56.197Z"
   },
   {
    "duration": 15,
    "start_time": "2022-02-11T20:30:14.519Z"
   },
   {
    "duration": 23,
    "start_time": "2022-02-11T20:30:34.980Z"
   },
   {
    "duration": 3,
    "start_time": "2022-02-11T20:55:50.687Z"
   },
   {
    "duration": 3,
    "start_time": "2022-02-11T20:56:47.505Z"
   },
   {
    "duration": 19,
    "start_time": "2022-02-11T21:49:59.382Z"
   },
   {
    "duration": 3,
    "start_time": "2022-02-11T21:50:13.802Z"
   },
   {
    "duration": 20,
    "start_time": "2022-02-11T21:53:52.081Z"
   },
   {
    "duration": 423,
    "start_time": "2022-02-12T10:43:42.907Z"
   },
   {
    "duration": 354,
    "start_time": "2022-02-12T10:44:00.328Z"
   },
   {
    "duration": 138,
    "start_time": "2022-02-12T10:44:57.743Z"
   },
   {
    "duration": 131,
    "start_time": "2022-02-12T10:45:17.208Z"
   },
   {
    "duration": 340,
    "start_time": "2022-02-12T10:45:25.231Z"
   },
   {
    "duration": 371,
    "start_time": "2022-02-12T10:45:42.743Z"
   },
   {
    "duration": 789,
    "start_time": "2022-02-12T10:45:51.726Z"
   },
   {
    "duration": 172,
    "start_time": "2022-02-12T10:45:54.679Z"
   },
   {
    "duration": 26,
    "start_time": "2022-02-12T10:45:57.034Z"
   },
   {
    "duration": 31,
    "start_time": "2022-02-12T10:45:59.798Z"
   },
   {
    "duration": 4,
    "start_time": "2022-02-12T10:46:04.399Z"
   },
   {
    "duration": 25,
    "start_time": "2022-02-12T10:46:07.518Z"
   },
   {
    "duration": 5,
    "start_time": "2022-02-12T10:46:10.189Z"
   },
   {
    "duration": 28,
    "start_time": "2022-02-12T10:46:12.958Z"
   },
   {
    "duration": 16,
    "start_time": "2022-02-12T10:46:16.254Z"
   },
   {
    "duration": 11,
    "start_time": "2022-02-12T10:46:21.046Z"
   },
   {
    "duration": 24,
    "start_time": "2022-02-12T10:46:41.582Z"
   },
   {
    "duration": 29,
    "start_time": "2022-02-12T10:46:50.500Z"
   },
   {
    "duration": 10383,
    "start_time": "2022-02-12T10:50:12.980Z"
   },
   {
    "duration": 11602,
    "start_time": "2022-02-12T10:50:30.997Z"
   },
   {
    "duration": 9889,
    "start_time": "2022-02-12T10:51:47.540Z"
   },
   {
    "duration": 9861,
    "start_time": "2022-02-12T10:55:22.323Z"
   },
   {
    "duration": 7563,
    "start_time": "2022-02-12T10:56:15.481Z"
   },
   {
    "duration": 8850,
    "start_time": "2022-02-12T11:00:35.946Z"
   },
   {
    "duration": 474,
    "start_time": "2022-02-12T11:02:12.222Z"
   },
   {
    "duration": 638,
    "start_time": "2022-02-12T13:22:24.417Z"
   },
   {
    "duration": 145,
    "start_time": "2022-02-12T13:22:25.706Z"
   },
   {
    "duration": 16,
    "start_time": "2022-02-12T13:22:26.724Z"
   },
   {
    "duration": 26,
    "start_time": "2022-02-12T13:22:27.815Z"
   },
   {
    "duration": 4,
    "start_time": "2022-02-12T13:22:30.134Z"
   },
   {
    "duration": 20,
    "start_time": "2022-02-12T13:22:31.401Z"
   },
   {
    "duration": 4,
    "start_time": "2022-02-12T13:22:32.323Z"
   },
   {
    "duration": 25,
    "start_time": "2022-02-12T13:22:33.674Z"
   },
   {
    "duration": 314,
    "start_time": "2022-02-12T13:22:36.308Z"
   },
   {
    "duration": 6688,
    "start_time": "2022-02-12T13:27:24.046Z"
   },
   {
    "duration": 7666,
    "start_time": "2022-02-12T13:27:53.496Z"
   },
   {
    "duration": 29,
    "start_time": "2022-02-12T13:29:13.741Z"
   },
   {
    "duration": 22,
    "start_time": "2022-02-12T13:29:26.078Z"
   },
   {
    "duration": 42,
    "start_time": "2022-02-12T13:30:11.500Z"
   },
   {
    "duration": 24,
    "start_time": "2022-02-12T13:30:38.173Z"
   },
   {
    "duration": 59,
    "start_time": "2022-02-12T13:31:56.884Z"
   },
   {
    "duration": 72,
    "start_time": "2022-02-12T13:34:29.834Z"
   },
   {
    "duration": 52,
    "start_time": "2022-02-12T13:34:33.426Z"
   },
   {
    "duration": 267,
    "start_time": "2022-02-12T13:38:28.362Z"
   },
   {
    "duration": 335,
    "start_time": "2022-02-12T13:39:06.623Z"
   },
   {
    "duration": 310,
    "start_time": "2022-02-12T13:40:59.027Z"
   },
   {
    "duration": 6,
    "start_time": "2022-02-12T13:43:08.080Z"
   },
   {
    "duration": 6,
    "start_time": "2022-02-12T13:43:19.374Z"
   },
   {
    "duration": 7,
    "start_time": "2022-02-12T13:43:27.142Z"
   },
   {
    "duration": 324,
    "start_time": "2022-02-12T13:43:37.480Z"
   },
   {
    "duration": 6,
    "start_time": "2022-02-12T13:43:47.581Z"
   },
   {
    "duration": 251,
    "start_time": "2022-02-12T13:44:25.364Z"
   },
   {
    "duration": 262,
    "start_time": "2022-02-12T13:44:30.597Z"
   },
   {
    "duration": 402,
    "start_time": "2022-02-12T13:47:05.748Z"
   },
   {
    "duration": 440,
    "start_time": "2022-02-12T13:49:19.105Z"
   },
   {
    "duration": 289,
    "start_time": "2022-02-12T13:50:04.833Z"
   },
   {
    "duration": 263,
    "start_time": "2022-02-12T13:51:00.841Z"
   },
   {
    "duration": 421,
    "start_time": "2022-02-12T13:53:23.791Z"
   },
   {
    "duration": 4,
    "start_time": "2022-02-12T13:53:39.503Z"
   },
   {
    "duration": 85,
    "start_time": "2022-02-12T13:54:56.238Z"
   },
   {
    "duration": 88,
    "start_time": "2022-02-12T13:55:06.151Z"
   },
   {
    "duration": 36,
    "start_time": "2022-02-12T13:55:10.095Z"
   },
   {
    "duration": 313,
    "start_time": "2022-02-12T13:55:24.357Z"
   },
   {
    "duration": 6,
    "start_time": "2022-02-12T13:57:45.118Z"
   },
   {
    "duration": 96,
    "start_time": "2022-02-12T13:57:56.893Z"
   },
   {
    "duration": 7,
    "start_time": "2022-02-12T13:58:09.205Z"
   },
   {
    "duration": 99,
    "start_time": "2022-02-12T14:00:17.605Z"
   },
   {
    "duration": 864,
    "start_time": "2022-02-12T14:00:32.827Z"
   },
   {
    "duration": 93,
    "start_time": "2022-02-12T14:01:33.164Z"
   },
   {
    "duration": 85,
    "start_time": "2022-02-12T14:02:04.058Z"
   },
   {
    "duration": 97,
    "start_time": "2022-02-12T14:02:21.987Z"
   },
   {
    "duration": 120,
    "start_time": "2022-02-12T14:02:42.585Z"
   },
   {
    "duration": 98,
    "start_time": "2022-02-12T14:02:52.394Z"
   },
   {
    "duration": 98,
    "start_time": "2022-02-12T14:02:55.786Z"
   },
   {
    "duration": 90,
    "start_time": "2022-02-12T14:03:06.404Z"
   },
   {
    "duration": 82,
    "start_time": "2022-02-12T14:03:16.530Z"
   },
   {
    "duration": 5,
    "start_time": "2022-02-12T14:03:24.370Z"
   },
   {
    "duration": 6,
    "start_time": "2022-02-12T14:03:46.682Z"
   },
   {
    "duration": 94,
    "start_time": "2022-02-12T14:06:19.799Z"
   },
   {
    "duration": 84,
    "start_time": "2022-02-12T14:06:23.553Z"
   },
   {
    "duration": 7,
    "start_time": "2022-02-12T14:06:44.248Z"
   },
   {
    "duration": 2,
    "start_time": "2022-02-12T14:19:20.090Z"
   },
   {
    "duration": 11,
    "start_time": "2022-02-12T14:21:18.688Z"
   },
   {
    "duration": 7,
    "start_time": "2022-02-12T14:21:44.576Z"
   },
   {
    "duration": 284,
    "start_time": "2022-02-12T14:22:19.367Z"
   },
   {
    "duration": 11,
    "start_time": "2022-02-12T14:22:40.615Z"
   },
   {
    "duration": 6,
    "start_time": "2022-02-12T14:22:44.263Z"
   },
   {
    "duration": 4,
    "start_time": "2022-02-12T14:34:16.576Z"
   },
   {
    "duration": 550,
    "start_time": "2022-02-12T14:35:07.602Z"
   },
   {
    "duration": 16,
    "start_time": "2022-02-12T14:35:22.522Z"
   },
   {
    "duration": 6,
    "start_time": "2022-02-12T14:35:26.337Z"
   },
   {
    "duration": 17,
    "start_time": "2022-02-12T14:37:35.606Z"
   },
   {
    "duration": 6,
    "start_time": "2022-02-12T14:37:38.151Z"
   },
   {
    "duration": 20,
    "start_time": "2022-02-12T14:38:59.662Z"
   },
   {
    "duration": 7,
    "start_time": "2022-02-12T14:39:01.286Z"
   },
   {
    "duration": 88,
    "start_time": "2022-02-12T14:52:00.440Z"
   },
   {
    "duration": 110,
    "start_time": "2022-02-12T14:52:24.808Z"
   },
   {
    "duration": 143,
    "start_time": "2022-02-12T14:52:33.199Z"
   },
   {
    "duration": -332,
    "start_time": "2022-02-12T14:52:51.091Z"
   },
   {
    "duration": 6511,
    "start_time": "2022-02-12T14:52:52.494Z"
   },
   {
    "duration": 7,
    "start_time": "2022-02-12T14:53:16.350Z"
   },
   {
    "duration": 93,
    "start_time": "2022-02-12T14:54:26.351Z"
   },
   {
    "duration": 87,
    "start_time": "2022-02-12T14:54:33.293Z"
   },
   {
    "duration": 87,
    "start_time": "2022-02-12T14:54:44.468Z"
   },
   {
    "duration": 90,
    "start_time": "2022-02-12T14:54:53.958Z"
   },
   {
    "duration": 13,
    "start_time": "2022-02-12T14:55:00.810Z"
   },
   {
    "duration": 6845,
    "start_time": "2022-02-12T14:55:22.552Z"
   },
   {
    "duration": 264,
    "start_time": "2022-02-12T14:56:18.206Z"
   },
   {
    "duration": 7082,
    "start_time": "2022-02-12T14:56:37.869Z"
   },
   {
    "duration": 359,
    "start_time": "2022-02-12T14:57:07.940Z"
   },
   {
    "duration": 8936,
    "start_time": "2022-02-12T14:57:14.315Z"
   },
   {
    "duration": 8,
    "start_time": "2022-02-12T15:01:23.625Z"
   },
   {
    "duration": 12,
    "start_time": "2022-02-12T15:01:40.545Z"
   },
   {
    "duration": 14,
    "start_time": "2022-02-12T15:01:52.938Z"
   },
   {
    "duration": 16,
    "start_time": "2022-02-12T15:02:25.673Z"
   },
   {
    "duration": 17,
    "start_time": "2022-02-12T15:09:00.760Z"
   },
   {
    "duration": 29,
    "start_time": "2022-02-12T15:09:42.850Z"
   },
   {
    "duration": 37,
    "start_time": "2022-02-12T15:10:00.077Z"
   },
   {
    "duration": 31,
    "start_time": "2022-02-12T15:11:53.172Z"
   },
   {
    "duration": 39,
    "start_time": "2022-02-12T15:12:01.043Z"
   },
   {
    "duration": 6525,
    "start_time": "2022-02-12T15:13:07.414Z"
   },
   {
    "duration": 41,
    "start_time": "2022-02-12T15:13:24.068Z"
   },
   {
    "duration": 84,
    "start_time": "2022-02-12T15:13:56.260Z"
   },
   {
    "duration": 97,
    "start_time": "2022-02-12T15:14:25.147Z"
   },
   {
    "duration": 40,
    "start_time": "2022-02-12T15:14:32.898Z"
   },
   {
    "duration": 56,
    "start_time": "2022-02-12T15:15:52.370Z"
   },
   {
    "duration": 62,
    "start_time": "2022-02-12T15:16:22.675Z"
   },
   {
    "duration": 69,
    "start_time": "2022-02-12T15:16:38.705Z"
   },
   {
    "duration": 77,
    "start_time": "2022-02-12T15:17:58.057Z"
   },
   {
    "duration": 83,
    "start_time": "2022-02-12T15:21:47.207Z"
   },
   {
    "duration": 79,
    "start_time": "2022-02-12T15:24:29.278Z"
   },
   {
    "duration": 87,
    "start_time": "2022-02-12T15:24:46.615Z"
   },
   {
    "duration": 7,
    "start_time": "2022-02-12T15:26:56.111Z"
   },
   {
    "duration": 92,
    "start_time": "2022-02-12T15:27:58.216Z"
   },
   {
    "duration": 102,
    "start_time": "2022-02-12T15:28:37.223Z"
   },
   {
    "duration": 92,
    "start_time": "2022-02-12T15:28:56.864Z"
   },
   {
    "duration": 94,
    "start_time": "2022-02-12T15:29:19.649Z"
   },
   {
    "duration": 86,
    "start_time": "2022-02-12T15:29:49.673Z"
   },
   {
    "duration": 23,
    "start_time": "2022-02-12T15:41:53.148Z"
   },
   {
    "duration": 6,
    "start_time": "2022-02-12T15:42:02.474Z"
   },
   {
    "duration": 34,
    "start_time": "2022-02-12T15:44:12.306Z"
   },
   {
    "duration": 26,
    "start_time": "2022-02-12T15:44:25.539Z"
   },
   {
    "duration": 344,
    "start_time": "2022-02-12T16:37:44.120Z"
   },
   {
    "duration": 301,
    "start_time": "2022-02-12T16:38:04.352Z"
   },
   {
    "duration": 354,
    "start_time": "2022-02-12T16:40:18.277Z"
   },
   {
    "duration": 370,
    "start_time": "2022-02-12T16:41:20.900Z"
   },
   {
    "duration": 382,
    "start_time": "2022-02-12T16:41:46.277Z"
   },
   {
    "duration": 7164,
    "start_time": "2022-02-12T16:42:52.116Z"
   },
   {
    "duration": 7475,
    "start_time": "2022-02-12T16:43:15.636Z"
   },
   {
    "duration": 304,
    "start_time": "2022-02-12T16:45:22.227Z"
   },
   {
    "duration": 326,
    "start_time": "2022-02-12T16:46:24.386Z"
   },
   {
    "duration": 6772,
    "start_time": "2022-02-12T16:46:28.866Z"
   },
   {
    "duration": 324,
    "start_time": "2022-02-12T16:46:46.066Z"
   },
   {
    "duration": 296,
    "start_time": "2022-02-12T16:47:27.280Z"
   },
   {
    "duration": 47,
    "start_time": "2022-02-12T16:47:35.505Z"
   },
   {
    "duration": 42,
    "start_time": "2022-02-12T16:47:49.113Z"
   },
   {
    "duration": 48,
    "start_time": "2022-02-12T16:47:58.695Z"
   },
   {
    "duration": 67,
    "start_time": "2022-02-12T16:48:15.560Z"
   },
   {
    "duration": 86,
    "start_time": "2022-02-12T16:48:30.912Z"
   },
   {
    "duration": 100,
    "start_time": "2022-02-12T16:50:56.047Z"
   },
   {
    "duration": 51,
    "start_time": "2022-02-12T16:51:16.246Z"
   },
   {
    "duration": 7,
    "start_time": "2022-02-12T16:51:40.550Z"
   },
   {
    "duration": 41,
    "start_time": "2022-02-12T16:52:30.477Z"
   },
   {
    "duration": 10,
    "start_time": "2022-02-12T17:09:31.093Z"
   },
   {
    "duration": 31,
    "start_time": "2022-02-12T17:10:26.052Z"
   },
   {
    "duration": 28,
    "start_time": "2022-02-12T17:12:41.361Z"
   },
   {
    "duration": 7069,
    "start_time": "2022-02-12T17:21:51.627Z"
   },
   {
    "duration": 7053,
    "start_time": "2022-02-12T17:24:46.827Z"
   },
   {
    "duration": 84,
    "start_time": "2022-02-12T17:25:41.412Z"
   },
   {
    "duration": 83,
    "start_time": "2022-02-12T17:26:22.602Z"
   },
   {
    "duration": 122,
    "start_time": "2022-02-12T17:26:31.234Z"
   },
   {
    "duration": 115,
    "start_time": "2022-02-12T17:26:39.176Z"
   },
   {
    "duration": 27,
    "start_time": "2022-02-12T17:27:07.946Z"
   },
   {
    "duration": 30,
    "start_time": "2022-02-12T17:27:25.680Z"
   },
   {
    "duration": 28,
    "start_time": "2022-02-12T17:28:55.321Z"
   },
   {
    "duration": 31,
    "start_time": "2022-02-12T17:29:26.584Z"
   },
   {
    "duration": 42,
    "start_time": "2022-02-12T17:30:14.567Z"
   },
   {
    "duration": 49,
    "start_time": "2022-02-12T17:30:18.486Z"
   },
   {
    "duration": 43,
    "start_time": "2022-02-12T17:30:33.311Z"
   },
   {
    "duration": 169,
    "start_time": "2022-02-12T17:33:02.535Z"
   },
   {
    "duration": 57,
    "start_time": "2022-02-12T17:33:13.965Z"
   },
   {
    "duration": 71,
    "start_time": "2022-02-12T17:33:20.263Z"
   },
   {
    "duration": 89,
    "start_time": "2022-02-12T17:35:09.665Z"
   },
   {
    "duration": 50,
    "start_time": "2022-02-12T17:35:19.022Z"
   },
   {
    "duration": 50,
    "start_time": "2022-02-12T17:35:39.812Z"
   },
   {
    "duration": 54,
    "start_time": "2022-02-12T17:35:55.412Z"
   },
   {
    "duration": 52,
    "start_time": "2022-02-12T17:38:51.547Z"
   },
   {
    "duration": 42,
    "start_time": "2022-02-12T17:39:53.986Z"
   },
   {
    "duration": 62,
    "start_time": "2022-02-12T17:48:46.437Z"
   },
   {
    "duration": 56,
    "start_time": "2022-02-12T17:48:56.100Z"
   },
   {
    "duration": 59,
    "start_time": "2022-02-12T17:53:09.450Z"
   },
   {
    "duration": 89,
    "start_time": "2022-02-12T18:01:30.495Z"
   },
   {
    "duration": 93,
    "start_time": "2022-02-12T18:01:44.305Z"
   },
   {
    "duration": 59,
    "start_time": "2022-02-12T18:01:59.886Z"
   },
   {
    "duration": 57,
    "start_time": "2022-02-12T18:02:06.754Z"
   },
   {
    "duration": 59,
    "start_time": "2022-02-12T18:02:07.870Z"
   },
   {
    "duration": 24,
    "start_time": "2022-02-12T18:02:55.308Z"
   },
   {
    "duration": 23,
    "start_time": "2022-02-12T18:03:02.053Z"
   },
   {
    "duration": 4,
    "start_time": "2022-02-12T18:03:14.651Z"
   },
   {
    "duration": 4,
    "start_time": "2022-02-12T18:03:21.815Z"
   },
   {
    "duration": 12,
    "start_time": "2022-02-12T18:03:49.522Z"
   },
   {
    "duration": 11,
    "start_time": "2022-02-12T18:03:58.020Z"
   },
   {
    "duration": 89,
    "start_time": "2022-02-12T18:04:11.428Z"
   },
   {
    "duration": 12,
    "start_time": "2022-02-12T18:04:15.375Z"
   },
   {
    "duration": 23,
    "start_time": "2022-02-12T18:04:35.460Z"
   },
   {
    "duration": 36,
    "start_time": "2022-02-12T18:04:46.379Z"
   },
   {
    "duration": 25,
    "start_time": "2022-02-12T18:04:53.628Z"
   },
   {
    "duration": 11,
    "start_time": "2022-02-12T18:05:00.349Z"
   },
   {
    "duration": 11,
    "start_time": "2022-02-12T18:05:21.019Z"
   },
   {
    "duration": 92,
    "start_time": "2022-02-12T18:09:03.037Z"
   },
   {
    "duration": 94,
    "start_time": "2022-02-12T18:09:11.992Z"
   },
   {
    "duration": 87,
    "start_time": "2022-02-12T18:09:36.440Z"
   },
   {
    "duration": 91,
    "start_time": "2022-02-12T18:09:46.450Z"
   },
   {
    "duration": 86,
    "start_time": "2022-02-12T18:09:50.345Z"
   },
   {
    "duration": 286,
    "start_time": "2022-02-12T18:14:57.974Z"
   },
   {
    "duration": 7099,
    "start_time": "2022-02-12T18:22:33.033Z"
   },
   {
    "duration": 295,
    "start_time": "2022-02-12T18:22:47.116Z"
   },
   {
    "duration": 334,
    "start_time": "2022-02-12T18:23:11.442Z"
   },
   {
    "duration": 71,
    "start_time": "2022-02-12T18:24:24.177Z"
   },
   {
    "duration": 73,
    "start_time": "2022-02-12T18:24:53.923Z"
   },
   {
    "duration": 67,
    "start_time": "2022-02-12T18:25:17.738Z"
   },
   {
    "duration": 84,
    "start_time": "2022-02-12T18:26:05.775Z"
   },
   {
    "duration": 95,
    "start_time": "2022-02-12T18:26:16.088Z"
   },
   {
    "duration": 159,
    "start_time": "2022-02-12T18:26:33.040Z"
   },
   {
    "duration": 88,
    "start_time": "2022-02-12T18:26:42.800Z"
   },
   {
    "duration": 91,
    "start_time": "2022-02-12T18:26:53.455Z"
   },
   {
    "duration": 90,
    "start_time": "2022-02-12T18:28:16.751Z"
   },
   {
    "duration": 136,
    "start_time": "2022-02-12T18:30:04.510Z"
   },
   {
    "duration": 150,
    "start_time": "2022-02-12T18:30:14.958Z"
   },
   {
    "duration": 96,
    "start_time": "2022-02-12T18:30:22.252Z"
   },
   {
    "duration": 36,
    "start_time": "2022-02-12T18:34:43.674Z"
   },
   {
    "duration": 87,
    "start_time": "2022-02-12T18:41:40.908Z"
   },
   {
    "duration": 4,
    "start_time": "2022-02-12T18:41:43.362Z"
   },
   {
    "duration": 5,
    "start_time": "2022-02-12T18:41:44.933Z"
   },
   {
    "duration": 122,
    "start_time": "2022-02-12T18:41:46.149Z"
   },
   {
    "duration": 90,
    "start_time": "2022-02-12T18:42:01.512Z"
   },
   {
    "duration": 83,
    "start_time": "2022-02-12T18:42:17.774Z"
   },
   {
    "duration": 91,
    "start_time": "2022-02-12T18:42:30.991Z"
   },
   {
    "duration": 151,
    "start_time": "2022-02-12T18:42:45.736Z"
   },
   {
    "duration": 550,
    "start_time": "2022-02-12T18:44:20.511Z"
   },
   {
    "duration": 94,
    "start_time": "2022-02-12T18:45:36.270Z"
   },
   {
    "duration": 1207,
    "start_time": "2022-02-12T18:45:46.566Z"
   },
   {
    "duration": 1229,
    "start_time": "2022-02-12T18:46:01.996Z"
   },
   {
    "duration": 25,
    "start_time": "2022-02-12T18:47:10.755Z"
   },
   {
    "duration": 507,
    "start_time": "2022-02-12T18:47:26.324Z"
   },
   {
    "duration": 535,
    "start_time": "2022-02-12T18:47:30.461Z"
   },
   {
    "duration": 1278,
    "start_time": "2022-02-12T18:48:00.451Z"
   },
   {
    "duration": 25,
    "start_time": "2022-02-12T18:48:14.860Z"
   },
   {
    "duration": 18,
    "start_time": "2022-02-12T18:49:35.587Z"
   },
   {
    "duration": 4,
    "start_time": "2022-02-12T18:50:23.650Z"
   },
   {
    "duration": 87,
    "start_time": "2022-02-12T18:50:25.247Z"
   },
   {
    "duration": 91,
    "start_time": "2022-02-12T18:50:40.802Z"
   },
   {
    "duration": 4,
    "start_time": "2022-02-12T18:50:49.392Z"
   },
   {
    "duration": 89,
    "start_time": "2022-02-12T18:50:50.868Z"
   },
   {
    "duration": 18,
    "start_time": "2022-02-12T18:51:10.963Z"
   },
   {
    "duration": 17,
    "start_time": "2022-02-12T18:51:18.059Z"
   },
   {
    "duration": 8,
    "start_time": "2022-02-12T18:52:02.512Z"
   },
   {
    "duration": 17,
    "start_time": "2022-02-12T18:52:39.511Z"
   },
   {
    "duration": 16,
    "start_time": "2022-02-12T18:52:40.448Z"
   },
   {
    "duration": 33,
    "start_time": "2022-02-12T18:52:41.535Z"
   },
   {
    "duration": 14,
    "start_time": "2022-02-12T18:52:42.928Z"
   },
   {
    "duration": 18,
    "start_time": "2022-02-12T18:52:44.017Z"
   },
   {
    "duration": 17,
    "start_time": "2022-02-12T18:52:45.055Z"
   },
   {
    "duration": 9,
    "start_time": "2022-02-12T19:00:51.754Z"
   },
   {
    "duration": 9,
    "start_time": "2022-02-12T19:02:19.112Z"
   },
   {
    "duration": 5,
    "start_time": "2022-02-12T19:17:12.352Z"
   },
   {
    "duration": 257,
    "start_time": "2022-02-12T19:18:21.872Z"
   },
   {
    "duration": 3,
    "start_time": "2022-02-12T19:18:33.584Z"
   },
   {
    "duration": 4,
    "start_time": "2022-02-12T19:18:34.866Z"
   },
   {
    "duration": 5,
    "start_time": "2022-02-12T19:18:37.120Z"
   },
   {
    "duration": 23,
    "start_time": "2022-02-12T19:18:38.978Z"
   },
   {
    "duration": 24,
    "start_time": "2022-02-12T19:18:59.912Z"
   },
   {
    "duration": 23,
    "start_time": "2022-02-12T19:19:06.863Z"
   },
   {
    "duration": 4,
    "start_time": "2022-02-12T19:19:18.474Z"
   },
   {
    "duration": 5,
    "start_time": "2022-02-12T19:19:20.214Z"
   },
   {
    "duration": 18,
    "start_time": "2022-02-12T19:19:22.044Z"
   },
   {
    "duration": 5,
    "start_time": "2022-02-12T19:19:31.416Z"
   },
   {
    "duration": 35,
    "start_time": "2022-02-12T19:19:33.344Z"
   },
   {
    "duration": 36,
    "start_time": "2022-02-12T19:20:06.159Z"
   },
   {
    "duration": 3,
    "start_time": "2022-02-12T19:20:46.239Z"
   },
   {
    "duration": 2,
    "start_time": "2022-02-12T19:20:47.302Z"
   },
   {
    "duration": 6,
    "start_time": "2022-02-12T19:20:48.407Z"
   },
   {
    "duration": 26,
    "start_time": "2022-02-12T19:20:50.264Z"
   },
   {
    "duration": 33,
    "start_time": "2022-02-12T19:20:51.606Z"
   },
   {
    "duration": 4,
    "start_time": "2022-02-12T19:21:32.374Z"
   },
   {
    "duration": 18,
    "start_time": "2022-02-12T19:21:34.679Z"
   },
   {
    "duration": 12,
    "start_time": "2022-02-12T19:21:36.344Z"
   },
   {
    "duration": 15,
    "start_time": "2022-02-12T19:22:51.959Z"
   },
   {
    "duration": 13,
    "start_time": "2022-02-12T19:22:54.029Z"
   },
   {
    "duration": 12,
    "start_time": "2022-02-12T19:24:35.427Z"
   },
   {
    "duration": 17,
    "start_time": "2022-02-12T19:24:37.399Z"
   },
   {
    "duration": 13,
    "start_time": "2022-02-12T19:24:38.740Z"
   },
   {
    "duration": 5,
    "start_time": "2022-02-12T19:37:46.333Z"
   },
   {
    "duration": 260,
    "start_time": "2022-02-12T19:38:13.180Z"
   },
   {
    "duration": 8,
    "start_time": "2022-02-12T19:39:53.292Z"
   },
   {
    "duration": 4,
    "start_time": "2022-02-12T19:39:55.022Z"
   },
   {
    "duration": 9,
    "start_time": "2022-02-12T19:40:09.592Z"
   },
   {
    "duration": 4,
    "start_time": "2022-02-12T19:40:10.760Z"
   },
   {
    "duration": 9,
    "start_time": "2022-02-12T19:40:50.034Z"
   },
   {
    "duration": 4,
    "start_time": "2022-02-12T19:40:51.663Z"
   },
   {
    "duration": 9,
    "start_time": "2022-02-12T19:41:02.592Z"
   },
   {
    "duration": 7,
    "start_time": "2022-02-12T19:41:10.168Z"
   },
   {
    "duration": 4,
    "start_time": "2022-02-12T19:41:11.539Z"
   },
   {
    "duration": 5,
    "start_time": "2022-02-12T19:41:25.143Z"
   },
   {
    "duration": 7,
    "start_time": "2022-02-12T19:41:31.168Z"
   },
   {
    "duration": 4,
    "start_time": "2022-02-12T19:41:32.752Z"
   },
   {
    "duration": 5,
    "start_time": "2022-02-12T19:41:39.103Z"
   },
   {
    "duration": 4,
    "start_time": "2022-02-12T19:41:46.855Z"
   },
   {
    "duration": 5,
    "start_time": "2022-02-12T19:41:51.375Z"
   },
   {
    "duration": 9,
    "start_time": "2022-02-12T19:42:04.022Z"
   },
   {
    "duration": 5,
    "start_time": "2022-02-12T19:42:06.407Z"
   },
   {
    "duration": 8,
    "start_time": "2022-02-12T19:42:11.535Z"
   },
   {
    "duration": 5,
    "start_time": "2022-02-12T19:42:13.455Z"
   },
   {
    "duration": 8,
    "start_time": "2022-02-12T19:42:19.902Z"
   },
   {
    "duration": 4,
    "start_time": "2022-02-12T19:42:21.702Z"
   },
   {
    "duration": 6,
    "start_time": "2022-02-12T19:43:02.454Z"
   },
   {
    "duration": 4,
    "start_time": "2022-02-12T19:43:03.894Z"
   },
   {
    "duration": 3,
    "start_time": "2022-02-12T19:54:34.285Z"
   },
   {
    "duration": 89,
    "start_time": "2022-02-12T19:56:15.957Z"
   },
   {
    "duration": 351,
    "start_time": "2022-02-12T19:56:23.301Z"
   },
   {
    "duration": 258,
    "start_time": "2022-02-12T19:56:32.206Z"
   },
   {
    "duration": 622,
    "start_time": "2022-02-12T19:56:40.573Z"
   },
   {
    "duration": 148,
    "start_time": "2022-02-12T19:56:42.517Z"
   },
   {
    "duration": 18,
    "start_time": "2022-02-12T19:56:44.041Z"
   },
   {
    "duration": 25,
    "start_time": "2022-02-12T19:56:48.909Z"
   },
   {
    "duration": 4,
    "start_time": "2022-02-12T19:56:51.796Z"
   },
   {
    "duration": 25,
    "start_time": "2022-02-12T19:56:53.516Z"
   },
   {
    "duration": 4,
    "start_time": "2022-02-12T19:56:55.333Z"
   },
   {
    "duration": 23,
    "start_time": "2022-02-12T19:56:57.427Z"
   },
   {
    "duration": 23,
    "start_time": "2022-02-12T19:57:02.700Z"
   },
   {
    "duration": 22,
    "start_time": "2022-02-12T19:57:12.748Z"
   },
   {
    "duration": 19,
    "start_time": "2022-02-12T19:57:16.884Z"
   },
   {
    "duration": 4,
    "start_time": "2022-02-12T19:57:19.284Z"
   },
   {
    "duration": 24,
    "start_time": "2022-02-12T19:57:20.941Z"
   },
   {
    "duration": 32,
    "start_time": "2022-02-12T19:57:23.177Z"
   },
   {
    "duration": 23,
    "start_time": "2022-02-12T19:57:27.382Z"
   },
   {
    "duration": 57,
    "start_time": "2022-02-12T19:57:39.076Z"
   },
   {
    "duration": 68,
    "start_time": "2022-02-12T19:57:40.547Z"
   },
   {
    "duration": 53,
    "start_time": "2022-02-12T19:57:42.956Z"
   },
   {
    "duration": 7,
    "start_time": "2022-02-12T19:57:44.887Z"
   },
   {
    "duration": 3,
    "start_time": "2022-02-12T19:57:48.045Z"
   },
   {
    "duration": 46,
    "start_time": "2022-02-12T19:57:50.445Z"
   },
   {
    "duration": 6,
    "start_time": "2022-02-12T19:57:55.524Z"
   },
   {
    "duration": 96,
    "start_time": "2022-02-12T19:58:03.429Z"
   },
   {
    "duration": 35,
    "start_time": "2022-02-12T19:58:09.724Z"
   },
   {
    "duration": 4,
    "start_time": "2022-02-12T19:58:12.480Z"
   },
   {
    "duration": 17,
    "start_time": "2022-02-12T19:58:14.651Z"
   },
   {
    "duration": 16,
    "start_time": "2022-02-12T19:58:16.610Z"
   },
   {
    "duration": 16,
    "start_time": "2022-02-12T19:58:17.924Z"
   },
   {
    "duration": 14,
    "start_time": "2022-02-12T19:58:19.355Z"
   },
   {
    "duration": 17,
    "start_time": "2022-02-12T19:58:22.891Z"
   },
   {
    "duration": 15,
    "start_time": "2022-02-12T19:58:26.414Z"
   },
   {
    "duration": 9,
    "start_time": "2022-02-12T19:58:28.433Z"
   },
   {
    "duration": 3,
    "start_time": "2022-02-12T19:58:31.556Z"
   },
   {
    "duration": 3,
    "start_time": "2022-02-12T19:58:32.755Z"
   },
   {
    "duration": 4,
    "start_time": "2022-02-12T19:58:34.896Z"
   },
   {
    "duration": 19,
    "start_time": "2022-02-12T19:58:36.642Z"
   },
   {
    "duration": 19,
    "start_time": "2022-02-12T19:58:38.020Z"
   },
   {
    "duration": 13,
    "start_time": "2022-02-12T19:58:41.050Z"
   },
   {
    "duration": 16,
    "start_time": "2022-02-12T19:58:43.249Z"
   },
   {
    "duration": 14,
    "start_time": "2022-02-12T19:58:45.163Z"
   },
   {
    "duration": 9,
    "start_time": "2022-02-12T19:58:49.931Z"
   },
   {
    "duration": 4,
    "start_time": "2022-02-12T19:58:51.671Z"
   },
   {
    "duration": 6,
    "start_time": "2022-02-12T19:58:53.788Z"
   },
   {
    "duration": 4,
    "start_time": "2022-02-12T19:58:55.451Z"
   },
   {
    "duration": 142,
    "start_time": "2022-02-12T19:59:38.763Z"
   },
   {
    "duration": 53,
    "start_time": "2022-02-12T20:00:24.601Z"
   },
   {
    "duration": 8,
    "start_time": "2022-02-12T20:00:53.773Z"
   },
   {
    "duration": 9,
    "start_time": "2022-02-12T20:01:07.201Z"
   },
   {
    "duration": 3,
    "start_time": "2022-02-12T20:01:56.330Z"
   },
   {
    "duration": 147,
    "start_time": "2022-02-12T20:02:00.418Z"
   },
   {
    "duration": 11,
    "start_time": "2022-02-12T20:02:01.618Z"
   },
   {
    "duration": 25,
    "start_time": "2022-02-12T20:02:03.810Z"
   },
   {
    "duration": 5,
    "start_time": "2022-02-12T20:02:06.496Z"
   },
   {
    "duration": 21,
    "start_time": "2022-02-12T20:02:08.713Z"
   },
   {
    "duration": 4,
    "start_time": "2022-02-12T20:02:09.814Z"
   },
   {
    "duration": 22,
    "start_time": "2022-02-12T20:02:10.940Z"
   },
   {
    "duration": 33,
    "start_time": "2022-02-12T20:02:15.906Z"
   },
   {
    "duration": 24,
    "start_time": "2022-02-12T20:02:17.704Z"
   },
   {
    "duration": 58,
    "start_time": "2022-02-12T20:02:20.197Z"
   },
   {
    "duration": 63,
    "start_time": "2022-02-12T20:02:21.353Z"
   },
   {
    "duration": 56,
    "start_time": "2022-02-12T20:02:22.473Z"
   },
   {
    "duration": 6,
    "start_time": "2022-02-12T20:02:24.875Z"
   },
   {
    "duration": 4,
    "start_time": "2022-02-12T20:02:27.320Z"
   },
   {
    "duration": 42,
    "start_time": "2022-02-12T20:02:29.026Z"
   },
   {
    "duration": 8,
    "start_time": "2022-02-12T20:02:31.370Z"
   },
   {
    "duration": 97,
    "start_time": "2022-02-12T20:02:33.913Z"
   },
   {
    "duration": 33,
    "start_time": "2022-02-12T20:02:37.184Z"
   },
   {
    "duration": 4,
    "start_time": "2022-02-12T20:02:45.208Z"
   },
   {
    "duration": 17,
    "start_time": "2022-02-12T20:02:46.345Z"
   },
   {
    "duration": 15,
    "start_time": "2022-02-12T20:02:47.424Z"
   },
   {
    "duration": 17,
    "start_time": "2022-02-12T20:02:48.545Z"
   },
   {
    "duration": 17,
    "start_time": "2022-02-12T20:02:50.289Z"
   },
   {
    "duration": 18,
    "start_time": "2022-02-12T20:02:51.384Z"
   },
   {
    "duration": 16,
    "start_time": "2022-02-12T20:02:52.729Z"
   },
   {
    "duration": 9,
    "start_time": "2022-02-12T20:02:54.474Z"
   },
   {
    "duration": 7,
    "start_time": "2022-02-12T20:02:56.864Z"
   },
   {
    "duration": 7,
    "start_time": "2022-02-12T20:02:58.272Z"
   },
   {
    "duration": 4,
    "start_time": "2022-02-12T20:02:59.896Z"
   },
   {
    "duration": 19,
    "start_time": "2022-02-12T20:03:02.112Z"
   },
   {
    "duration": 13,
    "start_time": "2022-02-12T20:03:03.760Z"
   },
   {
    "duration": 18,
    "start_time": "2022-02-12T20:03:05.593Z"
   },
   {
    "duration": 13,
    "start_time": "2022-02-12T20:03:07.156Z"
   },
   {
    "duration": 8,
    "start_time": "2022-02-12T20:03:11.330Z"
   },
   {
    "duration": 4,
    "start_time": "2022-02-12T20:03:12.680Z"
   },
   {
    "duration": 7,
    "start_time": "2022-02-12T20:03:14.312Z"
   },
   {
    "duration": 4,
    "start_time": "2022-02-12T20:03:15.826Z"
   },
   {
    "duration": 4,
    "start_time": "2022-02-12T20:48:31.958Z"
   },
   {
    "duration": 4,
    "start_time": "2022-02-12T20:48:34.750Z"
   },
   {
    "duration": 783,
    "start_time": "2022-02-12T20:48:39.595Z"
   },
   {
    "duration": 4,
    "start_time": "2022-02-12T20:49:04.908Z"
   },
   {
    "duration": 529,
    "start_time": "2022-02-12T20:49:07.677Z"
   },
   {
    "duration": 4,
    "start_time": "2022-02-12T20:49:56.642Z"
   },
   {
    "duration": 500,
    "start_time": "2022-02-12T20:49:58.732Z"
   },
   {
    "duration": 648,
    "start_time": "2022-02-12T20:50:01.365Z"
   },
   {
    "duration": 4,
    "start_time": "2022-02-12T21:12:46.590Z"
   },
   {
    "duration": 584,
    "start_time": "2022-02-12T21:12:49.573Z"
   },
   {
    "duration": 4,
    "start_time": "2022-02-12T21:13:14.119Z"
   },
   {
    "duration": 17,
    "start_time": "2022-02-12T21:13:16.653Z"
   },
   {
    "duration": 13,
    "start_time": "2022-02-12T21:16:55.555Z"
   },
   {
    "duration": 17,
    "start_time": "2022-02-12T21:16:57.881Z"
   },
   {
    "duration": 17,
    "start_time": "2022-02-12T21:16:59.850Z"
   },
   {
    "duration": 9,
    "start_time": "2022-02-12T21:17:04.641Z"
   },
   {
    "duration": 4,
    "start_time": "2022-02-12T21:17:07.297Z"
   },
   {
    "duration": 7,
    "start_time": "2022-02-12T21:17:10.004Z"
   },
   {
    "duration": 4,
    "start_time": "2022-02-12T21:17:11.329Z"
   },
   {
    "duration": 4,
    "start_time": "2022-02-12T21:17:43.940Z"
   },
   {
    "duration": 4,
    "start_time": "2022-02-12T21:22:57.645Z"
   },
   {
    "duration": 16,
    "start_time": "2022-02-12T21:22:59.631Z"
   },
   {
    "duration": 15,
    "start_time": "2022-02-12T21:23:01.293Z"
   },
   {
    "duration": 16,
    "start_time": "2022-02-12T21:23:04.791Z"
   },
   {
    "duration": 15,
    "start_time": "2022-02-12T21:23:06.894Z"
   },
   {
    "duration": 17,
    "start_time": "2022-02-12T21:23:08.742Z"
   },
   {
    "duration": 15,
    "start_time": "2022-02-12T21:23:10.373Z"
   },
   {
    "duration": 4,
    "start_time": "2022-02-12T21:23:22.337Z"
   },
   {
    "duration": 3,
    "start_time": "2022-02-12T21:23:23.569Z"
   },
   {
    "duration": 16,
    "start_time": "2022-02-12T21:23:25.630Z"
   },
   {
    "duration": 16,
    "start_time": "2022-02-12T21:23:26.823Z"
   },
   {
    "duration": 15,
    "start_time": "2022-02-12T21:23:27.774Z"
   },
   {
    "duration": 15,
    "start_time": "2022-02-12T21:23:28.806Z"
   },
   {
    "duration": 18,
    "start_time": "2022-02-12T21:23:30.203Z"
   },
   {
    "duration": 15,
    "start_time": "2022-02-12T21:23:31.231Z"
   },
   {
    "duration": 2,
    "start_time": "2022-02-12T21:24:02.471Z"
   },
   {
    "duration": 143,
    "start_time": "2022-02-12T21:24:03.645Z"
   },
   {
    "duration": 11,
    "start_time": "2022-02-12T21:24:04.768Z"
   },
   {
    "duration": 26,
    "start_time": "2022-02-12T21:24:06.958Z"
   },
   {
    "duration": 4,
    "start_time": "2022-02-12T21:24:09.511Z"
   },
   {
    "duration": 25,
    "start_time": "2022-02-12T21:24:11.074Z"
   },
   {
    "duration": 4,
    "start_time": "2022-02-12T21:24:12.254Z"
   },
   {
    "duration": 26,
    "start_time": "2022-02-12T21:24:14.532Z"
   },
   {
    "duration": 36,
    "start_time": "2022-02-12T21:24:16.408Z"
   },
   {
    "duration": 25,
    "start_time": "2022-02-12T21:24:18.286Z"
   },
   {
    "duration": 56,
    "start_time": "2022-02-12T21:24:19.777Z"
   },
   {
    "duration": 71,
    "start_time": "2022-02-12T21:24:20.966Z"
   },
   {
    "duration": 71,
    "start_time": "2022-02-12T21:24:21.922Z"
   },
   {
    "duration": 6,
    "start_time": "2022-02-12T21:24:23.518Z"
   },
   {
    "duration": 3,
    "start_time": "2022-02-12T21:24:26.189Z"
   },
   {
    "duration": 43,
    "start_time": "2022-02-12T21:24:27.702Z"
   },
   {
    "duration": 6,
    "start_time": "2022-02-12T21:24:33.431Z"
   },
   {
    "duration": 112,
    "start_time": "2022-02-12T21:24:35.686Z"
   },
   {
    "duration": 129,
    "start_time": "2022-02-12T21:24:38.749Z"
   },
   {
    "duration": 39,
    "start_time": "2022-02-12T21:24:48.565Z"
   },
   {
    "duration": 4,
    "start_time": "2022-02-12T21:24:57.239Z"
   },
   {
    "duration": 18,
    "start_time": "2022-02-12T21:25:13.650Z"
   },
   {
    "duration": 16,
    "start_time": "2022-02-12T21:25:15.032Z"
   },
   {
    "duration": 16,
    "start_time": "2022-02-12T21:25:16.461Z"
   },
   {
    "duration": 14,
    "start_time": "2022-02-12T21:25:18.310Z"
   },
   {
    "duration": 17,
    "start_time": "2022-02-12T21:25:19.679Z"
   },
   {
    "duration": 17,
    "start_time": "2022-02-12T21:25:20.784Z"
   },
   {
    "duration": 9,
    "start_time": "2022-02-12T21:25:22.532Z"
   },
   {
    "duration": 3,
    "start_time": "2022-02-12T21:25:31.117Z"
   },
   {
    "duration": 5,
    "start_time": "2022-02-12T21:25:33.079Z"
   },
   {
    "duration": 5,
    "start_time": "2022-02-12T21:25:34.621Z"
   },
   {
    "duration": 18,
    "start_time": "2022-02-12T21:25:38.079Z"
   },
   {
    "duration": 13,
    "start_time": "2022-02-12T21:25:40.037Z"
   },
   {
    "duration": 18,
    "start_time": "2022-02-12T21:25:42.508Z"
   },
   {
    "duration": 13,
    "start_time": "2022-02-12T21:25:44.248Z"
   },
   {
    "duration": 9,
    "start_time": "2022-02-12T21:25:48.924Z"
   },
   {
    "duration": 4,
    "start_time": "2022-02-12T21:25:50.930Z"
   },
   {
    "duration": 6,
    "start_time": "2022-02-12T21:25:52.822Z"
   },
   {
    "duration": 4,
    "start_time": "2022-02-12T21:25:54.679Z"
   },
   {
    "duration": 375,
    "start_time": "2022-02-19T17:48:21.358Z"
   },
   {
    "duration": 1507,
    "start_time": "2022-04-11T08:06:00.622Z"
   },
   {
    "duration": 6,
    "start_time": "2022-04-11T08:06:02.131Z"
   },
   {
    "duration": 449,
    "start_time": "2022-04-11T08:06:02.139Z"
   },
   {
    "duration": 206,
    "start_time": "2022-04-11T08:06:02.590Z"
   },
   {
    "duration": 214,
    "start_time": "2022-04-11T08:06:02.799Z"
   },
   {
    "duration": 183,
    "start_time": "2022-04-11T08:06:03.015Z"
   },
   {
    "duration": 42,
    "start_time": "2022-04-11T08:06:03.200Z"
   },
   {
    "duration": 129,
    "start_time": "2022-04-11T08:06:03.244Z"
   },
   {
    "duration": 119,
    "start_time": "2022-04-11T08:06:03.375Z"
   },
   {
    "duration": 127,
    "start_time": "2022-04-11T08:06:03.496Z"
   },
   {
    "duration": 55,
    "start_time": "2022-04-11T08:06:03.625Z"
   },
   {
    "duration": 37,
    "start_time": "2022-04-11T08:06:03.683Z"
   },
   {
    "duration": 74,
    "start_time": "2022-04-11T08:06:03.722Z"
   },
   {
    "duration": 25,
    "start_time": "2022-04-11T08:06:03.802Z"
   },
   {
    "duration": 40,
    "start_time": "2022-04-11T08:06:03.829Z"
   },
   {
    "duration": 8,
    "start_time": "2022-04-11T08:06:03.871Z"
   },
   {
    "duration": 28,
    "start_time": "2022-04-11T08:06:03.881Z"
   },
   {
    "duration": 62,
    "start_time": "2022-04-11T08:06:03.911Z"
   },
   {
    "duration": 48,
    "start_time": "2022-04-11T08:06:03.976Z"
   },
   {
    "duration": 61,
    "start_time": "2022-04-11T08:06:04.027Z"
   },
   {
    "duration": 15,
    "start_time": "2022-04-11T08:06:04.091Z"
   },
   {
    "duration": 88,
    "start_time": "2022-04-11T08:06:04.109Z"
   },
   {
    "duration": 19,
    "start_time": "2022-04-11T08:06:04.199Z"
   },
   {
    "duration": 109,
    "start_time": "2022-04-11T08:06:04.220Z"
   },
   {
    "duration": 56,
    "start_time": "2022-04-11T08:06:04.331Z"
   },
   {
    "duration": 34,
    "start_time": "2022-04-11T08:06:04.390Z"
   },
   {
    "duration": 42,
    "start_time": "2022-04-11T08:06:04.427Z"
   },
   {
    "duration": 8,
    "start_time": "2022-04-11T08:06:04.471Z"
   },
   {
    "duration": 29,
    "start_time": "2022-04-11T08:06:04.482Z"
   },
   {
    "duration": 72,
    "start_time": "2022-04-11T08:06:04.514Z"
   },
   {
    "duration": 32,
    "start_time": "2022-04-11T08:06:04.589Z"
   },
   {
    "duration": 62,
    "start_time": "2022-04-11T08:06:04.624Z"
   },
   {
    "duration": 20,
    "start_time": "2022-04-11T08:06:04.689Z"
   },
   {
    "duration": 74,
    "start_time": "2022-04-11T08:06:04.712Z"
   },
   {
    "duration": 24,
    "start_time": "2022-04-11T08:06:04.788Z"
   },
   {
    "duration": 16,
    "start_time": "2022-04-11T08:06:04.814Z"
   },
   {
    "duration": 48,
    "start_time": "2022-04-11T08:06:04.833Z"
   },
   {
    "duration": 42,
    "start_time": "2022-04-11T08:06:04.884Z"
   },
   {
    "duration": 41,
    "start_time": "2022-04-11T08:06:04.928Z"
   },
   {
    "duration": 7,
    "start_time": "2022-04-11T08:06:04.971Z"
   },
   {
    "duration": 187,
    "start_time": "2022-04-11T08:06:04.987Z"
   },
   {
    "duration": 27,
    "start_time": "2022-04-11T08:06:05.176Z"
   },
   {
    "duration": 19,
    "start_time": "2022-04-11T08:06:05.206Z"
   },
   {
    "duration": 78,
    "start_time": "2022-04-11T08:06:05.228Z"
   },
   {
    "duration": 85,
    "start_time": "2022-04-11T08:06:05.309Z"
   },
   {
    "duration": 917,
    "start_time": "2022-04-11T08:06:05.397Z"
   },
   {
    "duration": 897,
    "start_time": "2022-04-11T08:06:06.316Z"
   },
   {
    "duration": 503,
    "start_time": "2022-04-11T08:06:07.215Z"
   },
   {
    "duration": 25,
    "start_time": "2022-04-11T08:06:07.720Z"
   },
   {
    "duration": 67,
    "start_time": "2022-04-11T08:06:07.747Z"
   },
   {
    "duration": 743,
    "start_time": "2022-04-11T08:06:07.817Z"
   },
   {
    "duration": 778,
    "start_time": "2022-04-11T08:06:08.562Z"
   },
   {
    "duration": 429,
    "start_time": "2022-04-11T08:06:09.341Z"
   },
   {
    "duration": 25,
    "start_time": "2022-04-11T08:06:09.772Z"
   },
   {
    "duration": 81,
    "start_time": "2022-04-11T08:06:09.799Z"
   },
   {
    "duration": 729,
    "start_time": "2022-04-11T08:06:09.883Z"
   },
   {
    "duration": 740,
    "start_time": "2022-04-11T08:06:10.614Z"
   },
   {
    "duration": 427,
    "start_time": "2022-04-11T08:06:11.356Z"
   },
   {
    "duration": 25,
    "start_time": "2022-04-11T08:06:11.786Z"
   },
   {
    "duration": 83,
    "start_time": "2022-04-11T08:06:11.814Z"
   },
   {
    "duration": 718,
    "start_time": "2022-04-11T08:06:11.899Z"
   },
   {
    "duration": 715,
    "start_time": "2022-04-11T08:06:12.619Z"
   },
   {
    "duration": 563,
    "start_time": "2022-04-11T08:06:13.336Z"
   },
   {
    "duration": 28,
    "start_time": "2022-04-11T08:06:13.902Z"
   },
   {
    "duration": 44,
    "start_time": "2022-04-11T08:06:13.932Z"
   },
   {
    "duration": 19,
    "start_time": "2022-04-11T08:06:13.978Z"
   },
   {
    "duration": 14,
    "start_time": "2022-04-11T08:06:14.000Z"
   },
   {
    "duration": 133,
    "start_time": "2022-04-11T08:06:14.016Z"
   },
   {
    "duration": 1213,
    "start_time": "2022-04-11T08:09:44.226Z"
   },
   {
    "duration": 17,
    "start_time": "2022-04-11T08:25:14.544Z"
   },
   {
    "duration": 1276,
    "start_time": "2022-04-11T22:26:31.986Z"
   },
   {
    "duration": 4,
    "start_time": "2022-04-11T22:26:33.264Z"
   },
   {
    "duration": 339,
    "start_time": "2022-04-11T22:26:33.269Z"
   },
   {
    "duration": 144,
    "start_time": "2022-04-11T22:26:33.610Z"
   },
   {
    "duration": 155,
    "start_time": "2022-04-11T22:26:33.755Z"
   },
   {
    "duration": 159,
    "start_time": "2022-04-11T22:26:33.923Z"
   },
   {
    "duration": 15,
    "start_time": "2022-04-11T22:26:34.084Z"
   },
   {
    "duration": 112,
    "start_time": "2022-04-11T22:26:34.101Z"
   },
   {
    "duration": 27,
    "start_time": "2022-04-11T22:26:34.223Z"
   },
   {
    "duration": 77,
    "start_time": "2022-04-11T22:26:34.251Z"
   },
   {
    "duration": 151,
    "start_time": "2022-04-11T22:26:34.331Z"
   },
   {
    "duration": 12,
    "start_time": "2022-04-11T22:26:34.483Z"
   },
   {
    "duration": 83,
    "start_time": "2022-04-11T22:26:34.497Z"
   },
   {
    "duration": 83,
    "start_time": "2022-04-11T22:26:34.582Z"
   },
   {
    "duration": 16,
    "start_time": "2022-04-11T22:26:34.667Z"
   },
   {
    "duration": 14,
    "start_time": "2022-04-11T22:26:34.684Z"
   },
   {
    "duration": 42,
    "start_time": "2022-04-11T22:26:34.700Z"
   },
   {
    "duration": 23,
    "start_time": "2022-04-11T22:26:34.743Z"
   },
   {
    "duration": 27,
    "start_time": "2022-04-11T22:26:34.767Z"
   },
   {
    "duration": 12,
    "start_time": "2022-04-11T22:26:34.824Z"
   },
   {
    "duration": 6,
    "start_time": "2022-04-11T22:26:34.838Z"
   },
   {
    "duration": 5,
    "start_time": "2022-04-11T22:26:34.845Z"
   },
   {
    "duration": 17,
    "start_time": "2022-04-11T22:26:34.852Z"
   },
   {
    "duration": 15,
    "start_time": "2022-04-11T22:26:34.870Z"
   },
   {
    "duration": 59,
    "start_time": "2022-04-11T22:26:34.887Z"
   },
   {
    "duration": 20,
    "start_time": "2022-04-11T22:26:34.948Z"
   },
   {
    "duration": 8,
    "start_time": "2022-04-11T22:26:34.970Z"
   },
   {
    "duration": 61,
    "start_time": "2022-04-11T22:26:34.979Z"
   },
   {
    "duration": 10,
    "start_time": "2022-04-11T22:26:35.041Z"
   },
   {
    "duration": 72,
    "start_time": "2022-04-11T22:26:35.052Z"
   },
   {
    "duration": 26,
    "start_time": "2022-04-11T22:26:35.126Z"
   },
   {
    "duration": 23,
    "start_time": "2022-04-11T22:26:35.156Z"
   },
   {
    "duration": 10,
    "start_time": "2022-04-11T22:26:35.180Z"
   },
   {
    "duration": 4,
    "start_time": "2022-04-11T22:26:35.191Z"
   },
   {
    "duration": 17,
    "start_time": "2022-04-11T22:26:35.224Z"
   },
   {
    "duration": 19,
    "start_time": "2022-04-11T22:26:35.242Z"
   },
   {
    "duration": 20,
    "start_time": "2022-04-11T22:26:35.263Z"
   },
   {
    "duration": 43,
    "start_time": "2022-04-11T22:26:35.284Z"
   },
   {
    "duration": 19,
    "start_time": "2022-04-11T22:26:35.329Z"
   },
   {
    "duration": 25,
    "start_time": "2022-04-11T22:26:35.349Z"
   },
   {
    "duration": 12,
    "start_time": "2022-04-11T22:26:35.376Z"
   },
   {
    "duration": 52,
    "start_time": "2022-04-11T22:26:35.390Z"
   },
   {
    "duration": 14,
    "start_time": "2022-04-11T22:26:35.444Z"
   },
   {
    "duration": 16,
    "start_time": "2022-04-11T22:26:35.460Z"
   },
   {
    "duration": 13,
    "start_time": "2022-04-11T22:26:35.477Z"
   },
   {
    "duration": 45,
    "start_time": "2022-04-11T22:26:35.492Z"
   },
   {
    "duration": 10,
    "start_time": "2022-04-11T22:26:35.538Z"
   },
   {
    "duration": 37,
    "start_time": "2022-04-11T22:26:35.550Z"
   },
   {
    "duration": 44,
    "start_time": "2022-04-11T22:26:35.588Z"
   },
   {
    "duration": 8,
    "start_time": "2022-04-11T22:26:35.633Z"
   },
   {
    "duration": 5,
    "start_time": "2022-04-11T22:26:35.643Z"
   },
   {
    "duration": 102,
    "start_time": "2022-04-11T22:26:35.649Z"
   },
   {
    "duration": 15,
    "start_time": "2022-04-11T22:26:35.753Z"
   },
   {
    "duration": 12,
    "start_time": "2022-04-11T22:26:35.770Z"
   },
   {
    "duration": 52,
    "start_time": "2022-04-11T22:26:35.783Z"
   },
   {
    "duration": 39,
    "start_time": "2022-04-11T22:26:35.836Z"
   },
   {
    "duration": 592,
    "start_time": "2022-04-11T22:26:35.876Z"
   },
   {
    "duration": 494,
    "start_time": "2022-04-11T22:26:36.470Z"
   },
   {
    "duration": 310,
    "start_time": "2022-04-11T22:26:36.965Z"
   },
   {
    "duration": 17,
    "start_time": "2022-04-11T22:26:37.277Z"
   },
   {
    "duration": 55,
    "start_time": "2022-04-11T22:26:37.296Z"
   },
   {
    "duration": 509,
    "start_time": "2022-04-11T22:26:37.353Z"
   },
   {
    "duration": 430,
    "start_time": "2022-04-11T22:26:37.864Z"
   },
   {
    "duration": 321,
    "start_time": "2022-04-11T22:26:38.296Z"
   },
   {
    "duration": 17,
    "start_time": "2022-04-11T22:26:38.624Z"
   },
   {
    "duration": 33,
    "start_time": "2022-04-11T22:26:38.642Z"
   },
   {
    "duration": 439,
    "start_time": "2022-04-11T22:26:38.677Z"
   },
   {
    "duration": 426,
    "start_time": "2022-04-11T22:26:39.118Z"
   },
   {
    "duration": 270,
    "start_time": "2022-04-11T22:26:39.546Z"
   },
   {
    "duration": 17,
    "start_time": "2022-04-11T22:26:39.823Z"
   },
   {
    "duration": 33,
    "start_time": "2022-04-11T22:26:39.841Z"
   },
   {
    "duration": 409,
    "start_time": "2022-04-11T22:26:39.876Z"
   },
   {
    "duration": 510,
    "start_time": "2022-04-11T22:26:40.286Z"
   },
   {
    "duration": 345,
    "start_time": "2022-04-11T22:26:40.798Z"
   },
   {
    "duration": 17,
    "start_time": "2022-04-11T22:26:41.145Z"
   },
   {
    "duration": 9,
    "start_time": "2022-04-11T22:26:41.163Z"
   },
   {
    "duration": 11,
    "start_time": "2022-04-11T22:26:41.173Z"
   },
   {
    "duration": 9,
    "start_time": "2022-04-11T22:26:41.186Z"
   },
   {
    "duration": 90,
    "start_time": "2022-04-11T22:26:41.196Z"
   },
   {
    "duration": 1482,
    "start_time": "2022-04-12T08:38:04.258Z"
   },
   {
    "duration": 5,
    "start_time": "2022-04-12T08:38:05.743Z"
   },
   {
    "duration": 403,
    "start_time": "2022-04-12T08:38:05.750Z"
   },
   {
    "duration": 166,
    "start_time": "2022-04-12T08:38:06.155Z"
   },
   {
    "duration": 163,
    "start_time": "2022-04-12T08:38:06.322Z"
   },
   {
    "duration": 176,
    "start_time": "2022-04-12T08:38:06.487Z"
   },
   {
    "duration": 13,
    "start_time": "2022-04-12T08:38:06.665Z"
   },
   {
    "duration": 124,
    "start_time": "2022-04-12T08:38:06.679Z"
   },
   {
    "duration": 47,
    "start_time": "2022-04-12T08:38:06.806Z"
   },
   {
    "duration": 108,
    "start_time": "2022-04-12T08:38:06.857Z"
   },
   {
    "duration": 241,
    "start_time": "2022-04-12T08:38:06.967Z"
   },
   {
    "duration": 15,
    "start_time": "2022-04-12T08:38:07.212Z"
   },
   {
    "duration": 85,
    "start_time": "2022-04-12T08:38:07.229Z"
   },
   {
    "duration": 91,
    "start_time": "2022-04-12T08:38:07.316Z"
   },
   {
    "duration": 21,
    "start_time": "2022-04-12T08:38:07.409Z"
   },
   {
    "duration": 15,
    "start_time": "2022-04-12T08:38:07.432Z"
   },
   {
    "duration": 21,
    "start_time": "2022-04-12T08:38:07.449Z"
   },
   {
    "duration": 27,
    "start_time": "2022-04-12T08:38:07.502Z"
   },
   {
    "duration": 26,
    "start_time": "2022-04-12T08:38:07.530Z"
   },
   {
    "duration": 12,
    "start_time": "2022-04-12T08:38:07.557Z"
   },
   {
    "duration": 31,
    "start_time": "2022-04-12T08:38:07.570Z"
   },
   {
    "duration": 7,
    "start_time": "2022-04-12T08:38:07.602Z"
   },
   {
    "duration": 20,
    "start_time": "2022-04-12T08:38:07.615Z"
   },
   {
    "duration": 16,
    "start_time": "2022-04-12T08:38:07.636Z"
   },
   {
    "duration": 47,
    "start_time": "2022-04-12T08:38:07.653Z"
   },
   {
    "duration": 28,
    "start_time": "2022-04-12T08:38:07.702Z"
   },
   {
    "duration": 9,
    "start_time": "2022-04-12T08:38:07.732Z"
   },
   {
    "duration": 60,
    "start_time": "2022-04-12T08:38:07.744Z"
   },
   {
    "duration": 12,
    "start_time": "2022-04-12T08:38:07.806Z"
   },
   {
    "duration": 62,
    "start_time": "2022-04-12T08:38:07.820Z"
   },
   {
    "duration": 43,
    "start_time": "2022-04-12T08:38:07.884Z"
   },
   {
    "duration": 22,
    "start_time": "2022-04-12T08:38:07.929Z"
   },
   {
    "duration": 11,
    "start_time": "2022-04-12T08:38:07.952Z"
   },
   {
    "duration": 8,
    "start_time": "2022-04-12T08:38:07.965Z"
   },
   {
    "duration": 40,
    "start_time": "2022-04-12T08:38:07.974Z"
   },
   {
    "duration": 18,
    "start_time": "2022-04-12T08:38:08.016Z"
   },
   {
    "duration": 20,
    "start_time": "2022-04-12T08:38:08.036Z"
   },
   {
    "duration": 19,
    "start_time": "2022-04-12T08:38:08.058Z"
   },
   {
    "duration": 36,
    "start_time": "2022-04-12T08:38:08.079Z"
   },
   {
    "duration": 26,
    "start_time": "2022-04-12T08:38:08.117Z"
   },
   {
    "duration": 10,
    "start_time": "2022-04-12T08:38:08.145Z"
   },
   {
    "duration": 47,
    "start_time": "2022-04-12T08:38:08.157Z"
   },
   {
    "duration": 15,
    "start_time": "2022-04-12T08:38:08.205Z"
   },
   {
    "duration": 19,
    "start_time": "2022-04-12T08:38:08.222Z"
   },
   {
    "duration": 18,
    "start_time": "2022-04-12T08:38:08.242Z"
   },
   {
    "duration": 29,
    "start_time": "2022-04-12T08:38:08.262Z"
   },
   {
    "duration": 21,
    "start_time": "2022-04-12T08:38:08.292Z"
   },
   {
    "duration": 48,
    "start_time": "2022-04-12T08:38:08.314Z"
   },
   {
    "duration": 45,
    "start_time": "2022-04-12T08:38:08.364Z"
   },
   {
    "duration": 9,
    "start_time": "2022-04-12T08:38:08.411Z"
   },
   {
    "duration": 7,
    "start_time": "2022-04-12T08:38:08.421Z"
   },
   {
    "duration": 117,
    "start_time": "2022-04-12T08:38:08.429Z"
   },
   {
    "duration": 16,
    "start_time": "2022-04-12T08:38:08.547Z"
   },
   {
    "duration": 11,
    "start_time": "2022-04-12T08:38:08.564Z"
   },
   {
    "duration": 65,
    "start_time": "2022-04-12T08:38:08.576Z"
   },
   {
    "duration": 37,
    "start_time": "2022-04-12T08:38:08.642Z"
   },
   {
    "duration": 683,
    "start_time": "2022-04-12T08:38:08.680Z"
   },
   {
    "duration": 587,
    "start_time": "2022-04-12T08:38:09.365Z"
   },
   {
    "duration": 351,
    "start_time": "2022-04-12T08:38:09.954Z"
   },
   {
    "duration": 19,
    "start_time": "2022-04-12T08:38:10.309Z"
   },
   {
    "duration": 33,
    "start_time": "2022-04-12T08:38:10.329Z"
   },
   {
    "duration": 522,
    "start_time": "2022-04-12T08:38:10.363Z"
   },
   {
    "duration": 619,
    "start_time": "2022-04-12T08:38:10.886Z"
   },
   {
    "duration": 331,
    "start_time": "2022-04-12T08:38:11.507Z"
   },
   {
    "duration": 17,
    "start_time": "2022-04-12T08:38:11.840Z"
   },
   {
    "duration": 57,
    "start_time": "2022-04-12T08:38:11.859Z"
   },
   {
    "duration": 472,
    "start_time": "2022-04-12T08:38:11.917Z"
   },
   {
    "duration": 479,
    "start_time": "2022-04-12T08:38:12.391Z"
   },
   {
    "duration": 338,
    "start_time": "2022-04-12T08:38:12.872Z"
   },
   {
    "duration": 18,
    "start_time": "2022-04-12T08:38:13.212Z"
   },
   {
    "duration": 42,
    "start_time": "2022-04-12T08:38:13.233Z"
   },
   {
    "duration": 619,
    "start_time": "2022-04-12T08:38:13.277Z"
   },
   {
    "duration": 707,
    "start_time": "2022-04-12T08:38:13.901Z"
   },
   {
    "duration": 394,
    "start_time": "2022-04-12T08:38:14.610Z"
   },
   {
    "duration": 22,
    "start_time": "2022-04-12T08:38:15.007Z"
   },
   {
    "duration": 10,
    "start_time": "2022-04-12T08:38:15.031Z"
   },
   {
    "duration": 23,
    "start_time": "2022-04-12T08:38:15.043Z"
   },
   {
    "duration": 12,
    "start_time": "2022-04-12T08:38:15.068Z"
   },
   {
    "duration": 68,
    "start_time": "2022-04-12T08:38:15.104Z"
   }
  ],
  "colab": {
   "collapsed_sections": [
    "E0vqbgi9ay0H",
    "VUC88oWjTJw2"
   ],
   "name": "yandex_music_project_2021.2.ipynb",
   "provenance": []
  },
  "kernelspec": {
   "display_name": "Python 3 (ipykernel)",
   "language": "python",
   "name": "python3"
  },
  "language_info": {
   "codemirror_mode": {
    "name": "ipython",
    "version": 3
   },
   "file_extension": ".py",
   "mimetype": "text/x-python",
   "name": "python",
   "nbconvert_exporter": "python",
   "pygments_lexer": "ipython3",
   "version": "3.9.7"
  },
  "toc": {
   "base_numbering": 1,
   "nav_menu": {},
   "number_sections": false,
   "sideBar": true,
   "skip_h1_title": false,
   "title_cell": "Table of Contents",
   "title_sidebar": "Contents",
   "toc_cell": false,
   "toc_position": {
    "height": "calc(100% - 180px)",
    "left": "10px",
    "top": "150px",
    "width": "301.344px"
   },
   "toc_section_display": true,
   "toc_window_display": true
  }
 },
 "nbformat": 4,
 "nbformat_minor": 1
}
