{
 "cells": [
  {
   "cell_type": "markdown",
   "metadata": {
    "id": "E0vqbgi9ay0H"
   },
   "source": [
    "# Яндекс.Музыка"
   ]
  },
  {
   "cell_type": "markdown",
   "metadata": {
    "id": "VUC88oWjTJw2"
   },
   "source": [
    "Сравнение Москвы и Петербурга окружено мифами. Например:\n",
    " * Москва — мегаполис, подчинённый жёсткому ритму рабочей недели;\n",
    " * Петербург — культурная столица, со своими вкусами.\n",
    "\n",
    "На данных Яндекс.Музыки вы сравните поведение пользователей двух столиц.\n",
    "\n",
    "**Цель исследования** — проверьте три гипотезы:\n",
    "1. Активность пользователей зависит от дня недели. Причём в Москве и Петербурге это проявляется по-разному.\n",
    "2. В понедельник утром в Москве преобладают одни жанры, а в Петербурге — другие. Так же и вечером пятницы преобладают разные жанры — в зависимости от города. \n",
    "3. Москва и Петербург предпочитают разные жанры музыки. В Москве чаще слушают поп-музыку, в Петербурге — русский рэп.\n",
    "\n",
    "**Ход исследования**\n",
    "\n",
    "Данные о поведении пользователей вы получите из файла `yandex_music_project.csv`. О качестве данных ничего не известно. Поэтому перед проверкой гипотез понадобится обзор данных. \n",
    "\n",
    "Вы проверите данные на ошибки и оцените их влияние на исследование. Затем, на этапе предобработки вы поищете возможность исправить самые критичные ошибки данных.\n",
    " \n",
    "Таким образом, исследование пройдёт в три этапа:\n",
    " 1. Обзор данных.\n",
    " 2. Предобработка данных.\n",
    " 3. Проверка гипотез.\n",
    "\n"
   ]
  },
  {
   "cell_type": "markdown",
   "metadata": {
    "id": "Ml1hmfXC_Zcs"
   },
   "source": [
    "## Обзор данных\n",
    "\n",
    "Составьте первое представление о данных Яндекс.Музыки.\n",
    "\n",
    "\n"
   ]
  },
  {
   "cell_type": "markdown",
   "metadata": {
    "id": "57eAOGIz_Zcs"
   },
   "source": [
    "Основной инструмент аналитика — `pandas`. Импортируйте эту библиотеку."
   ]
  },
  {
   "cell_type": "code",
   "execution_count": 2,
   "metadata": {
    "id": "AXN7PHPN_Zcs"
   },
   "outputs": [],
   "source": [
    "import pandas as pd # импорт библиотеки pandas"
   ]
  },
  {
   "cell_type": "markdown",
   "metadata": {
    "id": "SG23P8tt_Zcs"
   },
   "source": [
    "Прочитайте файл `yandex_music_project.csv` из папки `/datasets` и сохраните его в переменной `df`:"
   ]
  },
  {
   "cell_type": "code",
   "execution_count": 3,
   "metadata": {
    "id": "fFVu7vqh_Zct"
   },
   "outputs": [],
   "source": [
    "df = pd.read_csv('/datasets/yandex_music_project.csv') # чтение файла с данными и сохранение в df"
   ]
  },
  {
   "cell_type": "markdown",
   "metadata": {
    "id": "rDoOMd3uTqnZ"
   },
   "source": [
    "Выведите на экран первые десять строк таблицы:"
   ]
  },
  {
   "cell_type": "code",
   "execution_count": 4,
   "metadata": {
    "id": "oWTVX3gW_Zct",
    "scrolled": true
   },
   "outputs": [
    {
     "data": {
      "text/html": [
       "<div>\n",
       "<style scoped>\n",
       "    .dataframe tbody tr th:only-of-type {\n",
       "        vertical-align: middle;\n",
       "    }\n",
       "\n",
       "    .dataframe tbody tr th {\n",
       "        vertical-align: top;\n",
       "    }\n",
       "\n",
       "    .dataframe thead th {\n",
       "        text-align: right;\n",
       "    }\n",
       "</style>\n",
       "<table border=\"1\" class=\"dataframe\">\n",
       "  <thead>\n",
       "    <tr style=\"text-align: right;\">\n",
       "      <th></th>\n",
       "      <th>userID</th>\n",
       "      <th>Track</th>\n",
       "      <th>artist</th>\n",
       "      <th>genre</th>\n",
       "      <th>City</th>\n",
       "      <th>time</th>\n",
       "      <th>Day</th>\n",
       "    </tr>\n",
       "  </thead>\n",
       "  <tbody>\n",
       "    <tr>\n",
       "      <td>0</td>\n",
       "      <td>FFB692EC</td>\n",
       "      <td>Kamigata To Boots</td>\n",
       "      <td>The Mass Missile</td>\n",
       "      <td>rock</td>\n",
       "      <td>Saint-Petersburg</td>\n",
       "      <td>20:28:33</td>\n",
       "      <td>Wednesday</td>\n",
       "    </tr>\n",
       "    <tr>\n",
       "      <td>1</td>\n",
       "      <td>55204538</td>\n",
       "      <td>Delayed Because of Accident</td>\n",
       "      <td>Andreas Rönnberg</td>\n",
       "      <td>rock</td>\n",
       "      <td>Moscow</td>\n",
       "      <td>14:07:09</td>\n",
       "      <td>Friday</td>\n",
       "    </tr>\n",
       "    <tr>\n",
       "      <td>2</td>\n",
       "      <td>20EC38</td>\n",
       "      <td>Funiculì funiculà</td>\n",
       "      <td>Mario Lanza</td>\n",
       "      <td>pop</td>\n",
       "      <td>Saint-Petersburg</td>\n",
       "      <td>20:58:07</td>\n",
       "      <td>Wednesday</td>\n",
       "    </tr>\n",
       "    <tr>\n",
       "      <td>3</td>\n",
       "      <td>A3DD03C9</td>\n",
       "      <td>Dragons in the Sunset</td>\n",
       "      <td>Fire + Ice</td>\n",
       "      <td>folk</td>\n",
       "      <td>Saint-Petersburg</td>\n",
       "      <td>08:37:09</td>\n",
       "      <td>Monday</td>\n",
       "    </tr>\n",
       "    <tr>\n",
       "      <td>4</td>\n",
       "      <td>E2DC1FAE</td>\n",
       "      <td>Soul People</td>\n",
       "      <td>Space Echo</td>\n",
       "      <td>dance</td>\n",
       "      <td>Moscow</td>\n",
       "      <td>08:34:34</td>\n",
       "      <td>Monday</td>\n",
       "    </tr>\n",
       "    <tr>\n",
       "      <td>5</td>\n",
       "      <td>842029A1</td>\n",
       "      <td>Преданная</td>\n",
       "      <td>IMPERVTOR</td>\n",
       "      <td>rusrap</td>\n",
       "      <td>Saint-Petersburg</td>\n",
       "      <td>13:09:41</td>\n",
       "      <td>Friday</td>\n",
       "    </tr>\n",
       "    <tr>\n",
       "      <td>6</td>\n",
       "      <td>4CB90AA5</td>\n",
       "      <td>True</td>\n",
       "      <td>Roman Messer</td>\n",
       "      <td>dance</td>\n",
       "      <td>Moscow</td>\n",
       "      <td>13:00:07</td>\n",
       "      <td>Wednesday</td>\n",
       "    </tr>\n",
       "    <tr>\n",
       "      <td>7</td>\n",
       "      <td>F03E1C1F</td>\n",
       "      <td>Feeling This Way</td>\n",
       "      <td>Polina Griffith</td>\n",
       "      <td>dance</td>\n",
       "      <td>Moscow</td>\n",
       "      <td>20:47:49</td>\n",
       "      <td>Wednesday</td>\n",
       "    </tr>\n",
       "    <tr>\n",
       "      <td>8</td>\n",
       "      <td>8FA1D3BE</td>\n",
       "      <td>И вновь продолжается бой</td>\n",
       "      <td>NaN</td>\n",
       "      <td>ruspop</td>\n",
       "      <td>Moscow</td>\n",
       "      <td>09:17:40</td>\n",
       "      <td>Friday</td>\n",
       "    </tr>\n",
       "    <tr>\n",
       "      <td>9</td>\n",
       "      <td>E772D5C0</td>\n",
       "      <td>Pessimist</td>\n",
       "      <td>NaN</td>\n",
       "      <td>dance</td>\n",
       "      <td>Saint-Petersburg</td>\n",
       "      <td>21:20:49</td>\n",
       "      <td>Wednesday</td>\n",
       "    </tr>\n",
       "  </tbody>\n",
       "</table>\n",
       "</div>"
      ],
      "text/plain": [
       "     userID                        Track            artist   genre  \\\n",
       "0  FFB692EC            Kamigata To Boots  The Mass Missile    rock   \n",
       "1  55204538  Delayed Because of Accident  Andreas Rönnberg    rock   \n",
       "2    20EC38            Funiculì funiculà       Mario Lanza     pop   \n",
       "3  A3DD03C9        Dragons in the Sunset        Fire + Ice    folk   \n",
       "4  E2DC1FAE                  Soul People        Space Echo   dance   \n",
       "5  842029A1                    Преданная         IMPERVTOR  rusrap   \n",
       "6  4CB90AA5                         True      Roman Messer   dance   \n",
       "7  F03E1C1F             Feeling This Way   Polina Griffith   dance   \n",
       "8  8FA1D3BE     И вновь продолжается бой               NaN  ruspop   \n",
       "9  E772D5C0                    Pessimist               NaN   dance   \n",
       "\n",
       "             City        time        Day  \n",
       "0  Saint-Petersburg  20:28:33  Wednesday  \n",
       "1            Moscow  14:07:09     Friday  \n",
       "2  Saint-Petersburg  20:58:07  Wednesday  \n",
       "3  Saint-Petersburg  08:37:09     Monday  \n",
       "4            Moscow  08:34:34     Monday  \n",
       "5  Saint-Petersburg  13:09:41     Friday  \n",
       "6            Moscow  13:00:07  Wednesday  \n",
       "7            Moscow  20:47:49  Wednesday  \n",
       "8            Moscow  09:17:40     Friday  \n",
       "9  Saint-Petersburg  21:20:49  Wednesday  "
      ]
     },
     "metadata": {},
     "output_type": "display_data"
    }
   ],
   "source": [
    "display(df.head(10)) # получение первых 10 строк таблицы df"
   ]
  },
  {
   "cell_type": "markdown",
   "metadata": {
    "id": "EO73Kwic_Zct"
   },
   "source": [
    "Одной командой получить общую информацию о таблице:"
   ]
  },
  {
   "cell_type": "code",
   "execution_count": 5,
   "metadata": {
    "id": "DSf2kIb-_Zct"
   },
   "outputs": [
    {
     "name": "stdout",
     "output_type": "stream",
     "text": [
      "<class 'pandas.core.frame.DataFrame'>\n",
      "RangeIndex: 65079 entries, 0 to 65078\n",
      "Data columns (total 7 columns):\n",
      "  userID    65079 non-null object\n",
      "Track       63848 non-null object\n",
      "artist      57876 non-null object\n",
      "genre       63881 non-null object\n",
      "  City      65079 non-null object\n",
      "time        65079 non-null object\n",
      "Day         65079 non-null object\n",
      "dtypes: object(7)\n",
      "memory usage: 3.5+ MB\n"
     ]
    }
   ],
   "source": [
    "df.info() # получение общей информации о данных в таблице df"
   ]
  },
  {
   "cell_type": "markdown",
   "metadata": {
    "id": "TaQ2Iwbr_Zct"
   },
   "source": [
    "Итак, в таблице семь столбцов. Тип данных во всех столбцах — `object`.\n",
    "\n",
    "В названиях колонок видны три нарушения стиля:\n",
    "1. Строчные буквы сочетаются с прописными.\n",
    "2. Встречаются пробелы.\n",
    "3. Слитное написание, лучше - \"змеиный_регистр\".\n",
    "\n",
    "\n",
    "\n",
    "Количество значений в столбцах различается. Значит, в данных есть пропущенные значения.\n"
   ]
  },
  {
   "cell_type": "markdown",
   "metadata": {
    "id": "MCB6-dXG_Zct"
   },
   "source": [
    "**Выводы**\n",
    "\n",
    "В каждой строке таблицы — данные о прослушанном треке. Часть колонок описывает саму композицию: название, исполнителя и жанр. Остальные данные рассказывают о пользователе: из какого он города, когда он слушал музыку. \n",
    "\n",
    "Предварительно можно утверждать, что, данных достаточно для проверки гипотез. Но встречаются пропуски в данных, а в названиях колонок — расхождения с хорошим стилем.\n",
    "\n",
    "Чтобы двигаться дальше, нужно устранить проблемы в данных."
   ]
  },
  {
   "cell_type": "markdown",
   "metadata": {
    "id": "SjYF6Ub9_Zct"
   },
   "source": [
    "## Предобработка данных\n",
    "Исправьте стиль в заголовках столбцов, исключите пропуски. Затем проверьте данные на дубликаты."
   ]
  },
  {
   "cell_type": "markdown",
   "metadata": {
    "id": "dIaKXr29_Zct"
   },
   "source": [
    "### Стиль заголовков\n",
    "Выведите на экран названия столбцов:"
   ]
  },
  {
   "cell_type": "code",
   "execution_count": 6,
   "metadata": {
    "id": "oKOTdF_Q_Zct"
   },
   "outputs": [
    {
     "data": {
      "text/plain": [
       "Index(['  userID', 'Track', 'artist', 'genre', '  City  ', 'time', 'Day'], dtype='object')"
      ]
     },
     "execution_count": 6,
     "metadata": {},
     "output_type": "execute_result"
    }
   ],
   "source": [
    "df.columns # перечень названий столбцов таблицы df"
   ]
  },
  {
   "cell_type": "markdown",
   "metadata": {
    "id": "zj5534cv_Zct"
   },
   "source": [
    "Приведите названия в соответствие с хорошим стилем:\n",
    "* несколько слов в названии запишите в «змеином_регистре»,\n",
    "* все символы сделайте строчными,\n",
    "* устраните пробелы.\n",
    "\n",
    "Для этого переименуйте колонки так:\n",
    "* `'  userID'` → `'user_id'`;\n",
    "* `'Track'` → `'track'`;\n",
    "* `'  City  '` → `'city'`;\n",
    "* `'Day'` → `'day'`."
   ]
  },
  {
   "cell_type": "code",
   "execution_count": 130,
   "metadata": {
    "id": "ISlFqs5y_Zct"
   },
   "outputs": [],
   "source": [
    "df = df.rename(columns = {'  userID':'user_id','Track':'track','  City  ':'city','Day':'day'}) # переименование столбцов"
   ]
  },
  {
   "cell_type": "markdown",
   "metadata": {
    "id": "1dqbh00J_Zct"
   },
   "source": [
    "Проверьте результат. Для этого ещё раз выведите на экран названия столбцов:"
   ]
  },
  {
   "cell_type": "code",
   "execution_count": 131,
   "metadata": {
    "id": "d4NOAmTW_Zct"
   },
   "outputs": [
    {
     "name": "stdout",
     "output_type": "stream",
     "text": [
      "Index(['user_id', 'track', 'artist', 'genre', 'city', 'time', 'day'], dtype='object')\n"
     ]
    }
   ],
   "source": [
    "print(df.columns) # проверка результатов - перечень названий столбцов"
   ]
  },
  {
   "cell_type": "markdown",
   "metadata": {
    "id": "5ISfbcfY_Zct"
   },
   "source": [
    "### Пропуски значений\n",
    "Сначала посчитайте, сколько в таблице пропущенных значений. Для этого достаточно двух методов `pandas`:"
   ]
  },
  {
   "cell_type": "code",
   "execution_count": 132,
   "metadata": {
    "id": "RskX29qr_Zct"
   },
   "outputs": [
    {
     "name": "stdout",
     "output_type": "stream",
     "text": [
      "user_id       0\n",
      "track      1231\n",
      "artist     7203\n",
      "genre      1198\n",
      "city          0\n",
      "time          0\n",
      "day           0\n",
      "dtype: int64\n"
     ]
    }
   ],
   "source": [
    "print(df.isna().sum()) # подсчёт пропусков"
   ]
  },
  {
   "cell_type": "markdown",
   "metadata": {
    "id": "qubhgnlO_Zct"
   },
   "source": [
    "Не все пропущенные значения влияют на исследование. Так в `track` и `artist` пропуски не важны для вашей работы. Достаточно заменить их явными обозначениями.\n",
    "\n",
    "Но пропуски в `genre` могут помешать сравнению музыкальных вкусов в Москве и Санкт-Петербурге. На практике было бы правильно установить причину пропусков и восстановить данные. Такой возможности нет в учебном проекте. Придётся:\n",
    "* заполнить и эти пропуски явными обозначениями,\n",
    "* оценить, насколько они повредят расчётам. "
   ]
  },
  {
   "cell_type": "markdown",
   "metadata": {
    "id": "fSv2laPA_Zct"
   },
   "source": [
    "Замените пропущенные значения в столбцах `track`, `artist` и `genre` на строку `'unknown'`. Для этого создайте список `columns_to_replace`, переберите его элементы циклом `for` и для каждого столбца выполните замену пропущенных значений:"
   ]
  },
  {
   "cell_type": "code",
   "execution_count": 133,
   "metadata": {
    "id": "KplB5qWs_Zct"
   },
   "outputs": [],
   "source": [
    "# перебор названий столбцов в цикле и замена пропущенных значений на 'unknown'\n",
    "\n",
    "columns_to_replace = ['artist','track','genre']\n",
    "for columns_to_replace in df:\n",
    "    df[columns_to_replace] = df[columns_to_replace].fillna('unknown')"
   ]
  },
  {
   "cell_type": "markdown",
   "metadata": {
    "id": "Ilsm-MZo_Zct"
   },
   "source": [
    "Убедитесь, что в таблице не осталось пропусков. Для этого ещё раз посчитайте пропущенные значения."
   ]
  },
  {
   "cell_type": "code",
   "execution_count": 134,
   "metadata": {
    "id": "Tq4nYRX4_Zct"
   },
   "outputs": [
    {
     "name": "stdout",
     "output_type": "stream",
     "text": [
      "user_id    0\n",
      "track      0\n",
      "artist     0\n",
      "genre      0\n",
      "city       0\n",
      "time       0\n",
      "day        0\n",
      "dtype: int64\n"
     ]
    }
   ],
   "source": [
    "print(df.isna().sum()) # подсчёт пропусков"
   ]
  },
  {
   "cell_type": "markdown",
   "metadata": {
    "id": "BWKRtBJ3_Zct"
   },
   "source": [
    "### Дубликаты\n",
    "Посчитайте явные дубликаты в таблице одной командой:"
   ]
  },
  {
   "cell_type": "code",
   "execution_count": 135,
   "metadata": {
    "id": "36eES_S0_Zct"
   },
   "outputs": [
    {
     "name": "stdout",
     "output_type": "stream",
     "text": [
      "3826\n"
     ]
    }
   ],
   "source": [
    "print(df.duplicated().sum()) # подсчёт явных дубликатов"
   ]
  },
  {
   "cell_type": "markdown",
   "metadata": {
    "id": "Ot25h6XR_Zct"
   },
   "source": [
    "Вызовите специальный метод `pandas`, чтобы удалить явные дубликаты:"
   ]
  },
  {
   "cell_type": "code",
   "execution_count": 136,
   "metadata": {
    "id": "exFHq6tt_Zct"
   },
   "outputs": [],
   "source": [
    "df = df.drop_duplicates().reset_index(drop=True) # удаление явных дубликатов (с удалением старых индексов и формированием новых)"
   ]
  },
  {
   "cell_type": "markdown",
   "metadata": {
    "id": "Im2YwBEG_Zct"
   },
   "source": [
    "Ещё раз посчитайте явные дубликаты в таблице — убедитесь, что полностью от них избавились:"
   ]
  },
  {
   "cell_type": "code",
   "execution_count": 137,
   "metadata": {
    "id": "-8PuNWQ0_Zct"
   },
   "outputs": [
    {
     "name": "stdout",
     "output_type": "stream",
     "text": [
      "0\n"
     ]
    }
   ],
   "source": [
    "print(df.duplicated().sum()) # проверка на отсутствие дубликатов"
   ]
  },
  {
   "cell_type": "markdown",
   "metadata": {
    "id": "QlFBsxAr_Zct"
   },
   "source": [
    "Теперь избавьтесь от неявных дубликатов в колонке `genre`. Например, название одного и того же жанра может быть записано немного по-разному. Такие ошибки тоже повлияют на результат исследования."
   ]
  },
  {
   "cell_type": "markdown",
   "metadata": {
    "id": "eSjWwsOh_Zct"
   },
   "source": [
    "Выведите на экран список уникальных названий жанров, отсортированный в алфавитном порядке. Для этого:\n",
    "* извлеките нужный столбец датафрейма, \n",
    "* примените к нему метод сортировки,\n",
    "* для отсортированного столбца вызовите метод, который вернёт уникальные значения из столбца."
   ]
  },
  {
   "cell_type": "code",
   "execution_count": 138,
   "metadata": {
    "id": "JIUcqzZN_Zct"
   },
   "outputs": [
    {
     "name": "stdout",
     "output_type": "stream",
     "text": [
      "['acid', 'acoustic', 'action', 'adult', 'africa', 'afrikaans', 'alternative', 'alternativepunk', 'ambient', 'americana', 'animated', 'anime', 'arabesk', 'arabic', 'arena', 'argentinetango', 'art', 'audiobook', 'author', 'avantgarde', 'axé', 'baile', 'balkan', 'beats', 'bigroom', 'black', 'bluegrass', 'blues', 'bollywood', 'bossa', 'brazilian', 'breakbeat', 'breaks', 'broadway', 'cantautori', 'cantopop', 'canzone', 'caribbean', 'caucasian', 'celtic', 'chamber', 'chanson', 'children', 'chill', 'chinese', 'choral', 'christian', 'christmas', 'classical', 'classicmetal', 'club', 'colombian', 'comedy', 'conjazz', 'contemporary', 'country', 'cuban', 'dance', 'dancehall', 'dancepop', 'dark', 'death', 'deep', 'deutschrock', 'deutschspr', 'dirty', 'disco', 'dnb', 'documentary', 'downbeat', 'downtempo', 'drum', 'dub', 'dubstep', 'eastern', 'easy', 'electronic', 'electropop', 'emo', 'entehno', 'epicmetal', 'estrada', 'ethnic', 'eurofolk', 'european', 'experimental', 'extrememetal', 'fado', 'fairytail', 'film', 'fitness', 'flamenco', 'folk', 'folklore', 'folkmetal', 'folkrock', 'folktronica', 'forró', 'frankreich', 'französisch', 'french', 'funk', 'future', 'gangsta', 'garage', 'german', 'ghazal', 'gitarre', 'glitch', 'gospel', 'gothic', 'grime', 'grunge', 'gypsy', 'handsup', \"hard'n'heavy\", 'hardcore', 'hardstyle', 'hardtechno', 'hip', 'hip-hop', 'hiphop', 'historisch', 'holiday', 'hop', 'horror', 'house', 'hymn', 'idm', 'independent', 'indian', 'indie', 'indipop', 'industrial', 'inspirational', 'instrumental', 'international', 'irish', 'jam', 'japanese', 'jazz', 'jewish', 'jpop', 'jungle', 'k-pop', 'karadeniz', 'karaoke', 'kayokyoku', 'korean', 'laiko', 'latin', 'latino', 'leftfield', 'local', 'lounge', 'loungeelectronic', 'lovers', 'malaysian', 'mandopop', 'marschmusik', 'meditative', 'mediterranean', 'melodic', 'metal', 'metalcore', 'mexican', 'middle', 'minimal', 'miscellaneous', 'modern', 'mood', 'mpb', 'muslim', 'native', 'neoklassik', 'neue', 'new', 'newage', 'newwave', 'nu', 'nujazz', 'numetal', 'oceania', 'old', 'opera', 'orchestral', 'other', 'piano', 'podcasts', 'pop', 'popdance', 'popelectronic', 'popeurodance', 'poprussian', 'post', 'posthardcore', 'postrock', 'power', 'progmetal', 'progressive', 'psychedelic', 'punjabi', 'punk', 'quebecois', 'ragga', 'ram', 'rancheras', 'rap', 'rave', 'reggae', 'reggaeton', 'regional', 'relax', 'religious', 'retro', 'rhythm', 'rnb', 'rnr', 'rock', 'rockabilly', 'rockalternative', 'rockindie', 'rockother', 'romance', 'roots', 'ruspop', 'rusrap', 'rusrock', 'russian', 'salsa', 'samba', 'scenic', 'schlager', 'self', 'sertanejo', 'shanson', 'shoegazing', 'showtunes', 'singer', 'ska', 'skarock', 'slow', 'smooth', 'soft', 'soul', 'soulful', 'sound', 'soundtrack', 'southern', 'specialty', 'speech', 'spiritual', 'sport', 'stonerrock', 'surf', 'swing', 'synthpop', 'synthrock', 'sängerportrait', 'tango', 'tanzorchester', 'taraftar', 'tatar', 'tech', 'techno', 'teen', 'thrash', 'top', 'traditional', 'tradjazz', 'trance', 'tribal', 'trip', 'triphop', 'tropical', 'türk', 'türkçe', 'ukrrock', 'unknown', 'urban', 'uzbek', 'variété', 'vi', 'videogame', 'vocal', 'western', 'world', 'worldbeat', 'ïîï', 'электроника']\n"
     ]
    }
   ],
   "source": [
    "print(sorted(df['genre'].unique())) # Просмотр уникальных названий жанров"
   ]
  },
  {
   "cell_type": "markdown",
   "metadata": {
    "id": "qej-Qmuo_Zct"
   },
   "source": [
    "Просмотрите список и найдите неявные дубликаты названия `hiphop`. Это могут быть названия с ошибками или альтернативные названия того же жанра.\n",
    "\n",
    "Вы увидите следующие неявные дубликаты:\n",
    "* *hip*,\n",
    "* *hop*,\n",
    "* *hip-hop*.\n",
    "\n",
    "Чтобы очистить от них таблицу, напишите функцию `replace_wrong_genres()` с двумя параметрами: \n",
    "* `wrong_genres` — список дубликатов,\n",
    "* `correct_genre` — строка с правильным значением.\n",
    "\n",
    "Функция должна исправить колонку `genre` в таблице `df`: заменить каждое значение из списка `wrong_genres` на значение из `correct_genre`."
   ]
  },
  {
   "cell_type": "code",
   "execution_count": 139,
   "metadata": {
    "id": "ErNDkmns_Zct"
   },
   "outputs": [],
   "source": [
    "# Функция для замены неявных дубликатов\n",
    "\n",
    "def replace_wrong_genres(wrong_genres,correct_genre):\n",
    "    for wrong_genre in wrong_genres:\n",
    "        df['genre'] = df['genre'].replace(wrong_genres,correct_genre)\n"
   ]
  },
  {
   "cell_type": "markdown",
   "metadata": {
    "id": "aDoBJxbA_Zct"
   },
   "source": [
    "Вызовите `replace_wrong_genres()` и передайте ей такие аргументы, чтобы она устранила неявные дубликаты: вместо `hip`, `hop` и `hip-hop` в таблице должно быть значение `hiphop`:"
   ]
  },
  {
   "cell_type": "code",
   "execution_count": 140,
   "metadata": {
    "id": "YN5i2hpmSo09"
   },
   "outputs": [],
   "source": [
    "# Устранение неявных дубликатов\n",
    "    \n",
    "wrong_genres = ['hip','hop','hip-hop']         \n",
    "correct_genre = 'hiphop' \n",
    "replace_wrong_genres(wrong_genres,correct_genre)\n",
    "\n",
    "df['genre'] = df['genre'].replace('электроника', 'electronic')\n",
    "df['genre'] = df['genre'].replace('latin', 'latino')\n",
    "df['genre'] = df['genre'].replace('neue', 'new')\n",
    "df['genre'] = df['genre'].replace('afrikaans', 'africa')\n",
    "\n",
    "df = df.drop(df[df['genre'] == 'ïîï'].index).reset_index(drop=True) \n"
   ]
  },
  {
   "cell_type": "markdown",
   "metadata": {
    "id": "zQKF16_RG15m"
   },
   "source": [
    "Проверьте, что заменили неправильные названия:\n",
    "\n",
    "*   hip\n",
    "*   hop\n",
    "*   hip-hop\n",
    "\n",
    "Выведите отсортированный список уникальных значений столбца `genre`:"
   ]
  },
  {
   "cell_type": "code",
   "execution_count": 141,
   "metadata": {
    "id": "wvixALnFG15m"
   },
   "outputs": [
    {
     "name": "stdout",
     "output_type": "stream",
     "text": [
      "['acid', 'acoustic', 'action', 'adult', 'africa', 'alternative', 'alternativepunk', 'ambient', 'americana', 'animated', 'anime', 'arabesk', 'arabic', 'arena', 'argentinetango', 'art', 'audiobook', 'author', 'avantgarde', 'axé', 'baile', 'balkan', 'beats', 'bigroom', 'black', 'bluegrass', 'blues', 'bollywood', 'bossa', 'brazilian', 'breakbeat', 'breaks', 'broadway', 'cantautori', 'cantopop', 'canzone', 'caribbean', 'caucasian', 'celtic', 'chamber', 'chanson', 'children', 'chill', 'chinese', 'choral', 'christian', 'christmas', 'classical', 'classicmetal', 'club', 'colombian', 'comedy', 'conjazz', 'contemporary', 'country', 'cuban', 'dance', 'dancehall', 'dancepop', 'dark', 'death', 'deep', 'deutschrock', 'deutschspr', 'dirty', 'disco', 'dnb', 'documentary', 'downbeat', 'downtempo', 'drum', 'dub', 'dubstep', 'eastern', 'easy', 'electronic', 'electropop', 'emo', 'entehno', 'epicmetal', 'estrada', 'ethnic', 'eurofolk', 'european', 'experimental', 'extrememetal', 'fado', 'fairytail', 'film', 'fitness', 'flamenco', 'folk', 'folklore', 'folkmetal', 'folkrock', 'folktronica', 'forró', 'frankreich', 'französisch', 'french', 'funk', 'future', 'gangsta', 'garage', 'german', 'ghazal', 'gitarre', 'glitch', 'gospel', 'gothic', 'grime', 'grunge', 'gypsy', 'handsup', \"hard'n'heavy\", 'hardcore', 'hardstyle', 'hardtechno', 'hiphop', 'historisch', 'holiday', 'horror', 'house', 'hymn', 'idm', 'independent', 'indian', 'indie', 'indipop', 'industrial', 'inspirational', 'instrumental', 'international', 'irish', 'jam', 'japanese', 'jazz', 'jewish', 'jpop', 'jungle', 'k-pop', 'karadeniz', 'karaoke', 'kayokyoku', 'korean', 'laiko', 'latino', 'leftfield', 'local', 'lounge', 'loungeelectronic', 'lovers', 'malaysian', 'mandopop', 'marschmusik', 'meditative', 'mediterranean', 'melodic', 'metal', 'metalcore', 'mexican', 'middle', 'minimal', 'miscellaneous', 'modern', 'mood', 'mpb', 'muslim', 'native', 'neoklassik', 'new', 'newage', 'newwave', 'nu', 'nujazz', 'numetal', 'oceania', 'old', 'opera', 'orchestral', 'other', 'piano', 'podcasts', 'pop', 'popdance', 'popelectronic', 'popeurodance', 'poprussian', 'post', 'posthardcore', 'postrock', 'power', 'progmetal', 'progressive', 'psychedelic', 'punjabi', 'punk', 'quebecois', 'ragga', 'ram', 'rancheras', 'rap', 'rave', 'reggae', 'reggaeton', 'regional', 'relax', 'religious', 'retro', 'rhythm', 'rnb', 'rnr', 'rock', 'rockabilly', 'rockalternative', 'rockindie', 'rockother', 'romance', 'roots', 'ruspop', 'rusrap', 'rusrock', 'russian', 'salsa', 'samba', 'scenic', 'schlager', 'self', 'sertanejo', 'shanson', 'shoegazing', 'showtunes', 'singer', 'ska', 'skarock', 'slow', 'smooth', 'soft', 'soul', 'soulful', 'sound', 'soundtrack', 'southern', 'specialty', 'speech', 'spiritual', 'sport', 'stonerrock', 'surf', 'swing', 'synthpop', 'synthrock', 'sängerportrait', 'tango', 'tanzorchester', 'taraftar', 'tatar', 'tech', 'techno', 'teen', 'thrash', 'top', 'traditional', 'tradjazz', 'trance', 'tribal', 'trip', 'triphop', 'tropical', 'türk', 'türkçe', 'ukrrock', 'unknown', 'urban', 'uzbek', 'variété', 'vi', 'videogame', 'vocal', 'western', 'world', 'worldbeat']\n"
     ]
    }
   ],
   "source": [
    "print(sorted(df['genre'].unique())) # Проверка на неявные дубликаты"
   ]
  },
  {
   "cell_type": "markdown",
   "metadata": {
    "id": "jz6a9-7HQUDd"
   },
   "source": [
    "**Выводы**\n",
    "\n",
    "Предобработка обнаружила три проблемы в данных:\n",
    "\n",
    "- нарушения в стиле заголовков,\n",
    "- пропущенные значения,\n",
    "- дубликаты — явные и неявные.\n",
    "\n",
    "Вы исправили заголовки, чтобы упростить работу с таблицей. Без дубликатов исследование станет более точным.\n",
    "\n",
    "Пропущенные значения вы заменили на `'unknown'`. Ещё предстоит увидеть, не повредят ли исследованию пропуски в колонке `genre`.\n",
    "\n",
    "Теперь можно перейти к проверке гипотез. "
   ]
  },
  {
   "cell_type": "markdown",
   "metadata": {
    "id": "WttZHXH0SqKk"
   },
   "source": [
    "## Проверка гипотез"
   ]
  },
  {
   "cell_type": "markdown",
   "metadata": {
    "id": "Im936VVi_Zcu"
   },
   "source": [
    "### Сравнение поведения пользователей двух столиц"
   ]
  },
  {
   "cell_type": "markdown",
   "metadata": {
    "id": "nwt_MuaL_Zcu"
   },
   "source": [
    "Первая гипотеза утверждает, что пользователи по-разному слушают музыку в Москве и Санкт-Петербурге. Проверьте это предположение по данным о трёх днях недели — понедельнике, среде и пятнице. Для этого:\n",
    "\n",
    "* Разделите пользователей Москвы и Санкт-Петербурга\n",
    "* Сравните, сколько треков послушала каждая группа пользователей в понедельник, среду и пятницу.\n"
   ]
  },
  {
   "cell_type": "markdown",
   "metadata": {
    "id": "8Dw_YMmT_Zcu"
   },
   "source": [
    "Для тренировки сначала выполните каждый из расчётов по отдельности. \n",
    "\n",
    "Оцените активность пользователей в каждом городе. Сгруппируйте данные по городу и посчитайте прослушивания в каждой группе.\n",
    "\n"
   ]
  },
  {
   "cell_type": "code",
   "execution_count": 143,
   "metadata": {
    "id": "0_Qs96oh_Zcu"
   },
   "outputs": [
    {
     "name": "stdout",
     "output_type": "stream",
     "text": [
      "city\n",
      "Moscow              42740\n",
      "Saint-Petersburg    18512\n",
      "Name: day, dtype: int64\n",
      "\n",
      "Понедельник: \n",
      "city\n",
      "Moscow              15740\n",
      "Saint-Petersburg     5614\n",
      "Name: day, dtype: int64\n",
      "\n",
      "Среда: \n",
      "city\n",
      "Moscow              11056\n",
      "Saint-Petersburg     7003\n",
      "Name: day, dtype: int64\n",
      "\n",
      "Пятница: \n",
      "city\n",
      "Moscow              15944\n",
      "Saint-Petersburg     5895\n",
      "Name: day, dtype: int64\n",
      "\n",
      "**********************************\n",
      "\n",
      "Прослушано треков по городам:\n",
      "\n",
      "Москва\n",
      "Понедельник:  15740\n",
      "Среда:        11056\n",
      "Пятница:      15944\n",
      "Итого:        42740\n",
      "\n",
      "Санкт-Петербург\n",
      "Понедельник:  5614\n",
      "Среда:        7003\n",
      "Пятница:      5895\n",
      "Итого:        18512\n"
     ]
    }
   ],
   "source": [
    "# Подсчёт прослушиваний в каждом городе\n",
    "print(df.groupby('city')['day'].count())\n",
    "print()\n",
    "print('Понедельник: ')\n",
    "print(df[df['day'] == 'Monday'].groupby('city')['day'].count())\n",
    "print()\n",
    "print('Среда: ')\n",
    "print(df[df['day'] == 'Wednesday'].groupby('city')['day'].count())\n",
    "print()\n",
    "print('Пятница: ')\n",
    "print(df[df['day'] == 'Friday'].groupby('city')['day'].count())\n",
    "\n",
    "\n",
    "df_msk = df[df['city'] == 'Moscow'] # Таблица для Москвы\n",
    "df_spb = df[df['city'] == 'Saint-Petersburg'] # Таблица для Санкт-Петербурга \n",
    "\n",
    "print()\n",
    "print('**********************************')\n",
    "print()\n",
    "print('Прослушано треков по городам:')\n",
    "print()\n",
    "print('Москва')\n",
    "print('Понедельник: ',df_msk[df_msk['day'] == 'Monday']['day'].count())\n",
    "print('Среда:       ',df_msk[df_msk['day'] == 'Wednesday']['day'].count())\n",
    "print('Пятница:     ',df_msk[df_msk['day'] == 'Friday']['day'].count())\n",
    "print('Итого:       ',df_msk['day'].count())\n",
    "print()\n",
    "print('Санкт-Петербург')\n",
    "print('Понедельник: ',df_spb[df_spb['day'] == 'Monday']['day'].count())\n",
    "print('Среда:       ',df_spb[df_spb['day'] == 'Wednesday']['day'].count())\n",
    "print('Пятница:     ',df_spb[df_spb['day'] == 'Friday']['day'].count())\n",
    "print('Итого:       ',df_spb['day'].count())"
   ]
  },
  {
   "cell_type": "markdown",
   "metadata": {
    "id": "dzli3w8o_Zcu"
   },
   "source": [
    "В Москве прослушиваний больше, чем в Петербурге. Из этого не следует, что московские пользователи чаще слушают музыку. Просто самих пользователей в Москве больше.\n",
    "\n",
    "Теперь сгруппируйте данные по дню недели и подсчитайте прослушивания в понедельник, среду и пятницу. Учтите, что в данных есть информация только о прослушиваниях только за эти дни.\n"
   ]
  },
  {
   "cell_type": "code",
   "execution_count": 144,
   "metadata": {
    "id": "uZMKjiJz_Zcu"
   },
   "outputs": [
    {
     "name": "stdout",
     "output_type": "stream",
     "text": [
      "Прослушано треков по дням недели:\n",
      "\n",
      "Понедельник:  21354\n",
      "Среда:        18059\n",
      "Пятница:      21839\n",
      "Итого:        61252\n"
     ]
    }
   ],
   "source": [
    "# Подсчёт прослушиваний в каждый из трёх дней\n",
    "\n",
    "print('Прослушано треков по дням недели:')\n",
    "print()\n",
    "print('Понедельник: ',df[df['day'] == 'Monday']['day'].count())\n",
    "print('Среда:       ',df[df['day'] == 'Wednesday']['day'].count())\n",
    "print('Пятница:     ',df[df['day'] == 'Friday']['day'].count())\n",
    "print('Итого:       ',df['day'].count())"
   ]
  },
  {
   "cell_type": "markdown",
   "metadata": {
    "id": "cC2tNrlL_Zcu"
   },
   "source": [
    "В среднем пользователи из двух городов менее активны по средам. Но картина может измениться, если рассмотреть каждый город в отдельности."
   ]
  },
  {
   "cell_type": "markdown",
   "metadata": {
    "id": "POzs8bGa_Zcu"
   },
   "source": [
    "Вы видели, как работает группировка по городу и по дням недели. Теперь напишите функцию, которая объединит два эти расчёта.\n",
    "\n",
    "Создайте функцию `number_tracks()`, которая посчитает прослушивания для заданного дня и города. Ей понадобятся два параметра:\n",
    "* день недели,\n",
    "* название города.\n",
    "\n",
    "В функции сохраните в переменную строки исходной таблицы, у которых значение:\n",
    "  * в колонке `day` равно параметру `day`,\n",
    "  * в колонке `city` равно параметру `city`.\n",
    "\n",
    "Для этого примените последовательную фильтрацию с логической индексацией.\n",
    "\n",
    "Затем посчитайте значения в столбце `user_id` получившейся таблицы. Результат сохраните в новую переменную. Верните эту переменную из функции."
   ]
  },
  {
   "cell_type": "code",
   "execution_count": 145,
   "metadata": {
    "id": "Nz3GdQB1_Zcu"
   },
   "outputs": [],
   "source": [
    "# <создание функции number_tracks()>\n",
    "# Объявляется функция с двумя параметрами: day, city.\n",
    "# В переменной track_list сохраняются те строки таблицы df, для которых\n",
    "# значение в столбце 'day' равно параметру day и одновременно значение\n",
    "# в столбце 'city' равно параметру city (используйте последовательную фильтрацию\n",
    "# с помощью логической индексации).\n",
    "# В переменной track_list_count сохраняется число значений столбца 'user_id',\n",
    "# рассчитанное методом count() для таблицы track_list.\n",
    "# Функция возвращает число - значение track_list_count.\n",
    "\n",
    "\n",
    "def number_tracks(day, city): \n",
    "    track_list = df[(df['day'] == day) & (df['city'] == city)]\n",
    "    track_list_count = track_list['user_id'].count() \n",
    "    return track_list_count \n",
    "\n",
    "\n",
    "# Функция для подсчёта прослушиваний для конкретного города и дня.\n",
    "# С помощью последовательной фильтрации с логической индексацией она \n",
    "# сначала получит из исходной таблицы строки с нужным днём,\n",
    "# затем из результата отфильтрует строки с нужным городом,\n",
    "# методом count() посчитает количество значений в колонке user_id. \n",
    "# Это количество функция вернёт в качестве результата"
   ]
  },
  {
   "cell_type": "markdown",
   "metadata": {
    "id": "ytf7xFrFJQ2r"
   },
   "source": [
    "Вызовите `number_tracks()` шесть раз, меняя значение параметров — так, чтобы получить данные для каждого города в каждый из трёх дней."
   ]
  },
  {
   "cell_type": "code",
   "execution_count": 146,
   "metadata": {
    "id": "rJcRATNQ_Zcu"
   },
   "outputs": [
    {
     "name": "stdout",
     "output_type": "stream",
     "text": [
      "15740\n"
     ]
    }
   ],
   "source": [
    "print(number_tracks('Monday','Moscow')) # количество прослушиваний в Москве по понедельникам"
   ]
  },
  {
   "cell_type": "code",
   "execution_count": 147,
   "metadata": {
    "id": "hq_ncZ5T_Zcu"
   },
   "outputs": [
    {
     "name": "stdout",
     "output_type": "stream",
     "text": [
      "5614\n"
     ]
    }
   ],
   "source": [
    "print(number_tracks('Monday','Saint-Petersburg')) # количество прослушиваний в Санкт-Петербурге по понедельникам"
   ]
  },
  {
   "cell_type": "code",
   "execution_count": 148,
   "metadata": {
    "id": "_NTy2VPU_Zcu"
   },
   "outputs": [
    {
     "name": "stdout",
     "output_type": "stream",
     "text": [
      "11056\n"
     ]
    }
   ],
   "source": [
    "print(number_tracks('Wednesday','Moscow')) # количество прослушиваний в Москве по средам"
   ]
  },
  {
   "cell_type": "code",
   "execution_count": 149,
   "metadata": {
    "id": "j2y3TAwo_Zcu"
   },
   "outputs": [
    {
     "name": "stdout",
     "output_type": "stream",
     "text": [
      "7003\n"
     ]
    }
   ],
   "source": [
    "print(number_tracks('Wednesday','Saint-Petersburg')) # количество прослушиваний в Санкт-Петербурге по средам"
   ]
  },
  {
   "cell_type": "code",
   "execution_count": 150,
   "metadata": {
    "id": "vYDw5u_K_Zcu"
   },
   "outputs": [
    {
     "name": "stdout",
     "output_type": "stream",
     "text": [
      "15944\n"
     ]
    }
   ],
   "source": [
    "print(number_tracks('Friday','Moscow')) # количество прослушиваний в Москве по пятницам"
   ]
  },
  {
   "cell_type": "code",
   "execution_count": 151,
   "metadata": {
    "id": "8_yzFtW3_Zcu"
   },
   "outputs": [
    {
     "name": "stdout",
     "output_type": "stream",
     "text": [
      "5895\n"
     ]
    }
   ],
   "source": [
    "print(number_tracks('Friday','Saint-Petersburg')) # количество прослушиваний в Санкт-Петербурге по пятницам"
   ]
  },
  {
   "cell_type": "markdown",
   "metadata": {
    "id": "7QXffbO-_Zcu"
   },
   "source": [
    "Создайте c помощью конструктора `pd.DataFrame` таблицу, где\n",
    "* названия колонок — `['city', 'monday', 'wednesday', 'friday']`;\n",
    "* данные — результаты, которые вы получили с помощью `number_tracks`."
   ]
  },
  {
   "cell_type": "code",
   "execution_count": 152,
   "metadata": {
    "id": "APAcLpOr_Zcu"
   },
   "outputs": [
    {
     "data": {
      "text/html": [
       "<div>\n",
       "<style scoped>\n",
       "    .dataframe tbody tr th:only-of-type {\n",
       "        vertical-align: middle;\n",
       "    }\n",
       "\n",
       "    .dataframe tbody tr th {\n",
       "        vertical-align: top;\n",
       "    }\n",
       "\n",
       "    .dataframe thead th {\n",
       "        text-align: right;\n",
       "    }\n",
       "</style>\n",
       "<table border=\"1\" class=\"dataframe\">\n",
       "  <thead>\n",
       "    <tr style=\"text-align: right;\">\n",
       "      <th></th>\n",
       "      <th>city</th>\n",
       "      <th>monday</th>\n",
       "      <th>wednesday</th>\n",
       "      <th>friday</th>\n",
       "    </tr>\n",
       "  </thead>\n",
       "  <tbody>\n",
       "    <tr>\n",
       "      <td>0</td>\n",
       "      <td>Moscow</td>\n",
       "      <td>15740</td>\n",
       "      <td>11056</td>\n",
       "      <td>15944</td>\n",
       "    </tr>\n",
       "    <tr>\n",
       "      <td>1</td>\n",
       "      <td>Saint-Petersburg</td>\n",
       "      <td>5614</td>\n",
       "      <td>7003</td>\n",
       "      <td>5895</td>\n",
       "    </tr>\n",
       "  </tbody>\n",
       "</table>\n",
       "</div>"
      ],
      "text/plain": [
       "               city  monday  wednesday  friday\n",
       "0            Moscow   15740      11056   15944\n",
       "1  Saint-Petersburg    5614       7003    5895"
      ]
     },
     "metadata": {},
     "output_type": "display_data"
    }
   ],
   "source": [
    "# Таблица с результатами\n",
    "\n",
    "columns = ['city', 'monday', 'wednesday', 'friday']        \n",
    "data = [['Moscow', 15740, 11056, 15944],\n",
    "       ['Saint-Petersburg', 5614, 7003, 5895]]\n",
    "\n",
    "city_result = pd.DataFrame(data = data, columns = columns)\n",
    "display(city_result)"
   ]
  },
  {
   "cell_type": "markdown",
   "metadata": {
    "id": "-EgPIHYu_Zcu"
   },
   "source": [
    "**Выводы**\n",
    "\n",
    "Данные показывают разницу поведения пользователей:\n",
    "\n",
    "- В Москве пик прослушиваний приходится на понедельник и пятницу, а в среду заметен спад.\n",
    "- В Петербурге, наоборот, больше слушают музыку по средам. Активность в понедельник и пятницу здесь почти в равной мере уступает среде.\n",
    "\n",
    "Значит, данные говорят в пользу первой гипотезы."
   ]
  },
  {
   "cell_type": "markdown",
   "metadata": {
    "id": "atZAxtq4_Zcu"
   },
   "source": [
    "### Музыка в начале и в конце недели"
   ]
  },
  {
   "cell_type": "markdown",
   "metadata": {
    "id": "eXrQqXFH_Zcu"
   },
   "source": [
    "Согласно второй гипотезе, утром в понедельник в Москве преобладают одни жанры, а в Петербурге — другие. Так же и вечером пятницы преобладают разные жанры — в зависимости от города."
   ]
  },
  {
   "cell_type": "markdown",
   "metadata": {
    "id": "S8UcW6Hw_Zcu"
   },
   "source": [
    "Сохраните таблицы с данными в две переменные:\n",
    "* по Москве — в `moscow_general`;\n",
    "* по Санкт-Петербургу — в `spb_general`."
   ]
  },
  {
   "cell_type": "code",
   "execution_count": 153,
   "metadata": {
    "id": "qeaFfM_P_Zcu"
   },
   "outputs": [],
   "source": [
    "moscow_general = df_msk  # получение таблицы moscow_general из тех строк таблицы df, \n",
    "# для которых значение в столбце 'city' равно 'Moscow'\n"
   ]
  },
  {
   "cell_type": "code",
   "execution_count": 154,
   "metadata": {
    "id": "ORaVRKto_Zcu"
   },
   "outputs": [],
   "source": [
    "spb_general = df_spb  # получение таблицы spb_general из тех строк таблицы df,\n",
    "# для которых значение в столбце 'city' равно 'Saint-Petersburg'\n"
   ]
  },
  {
   "cell_type": "markdown",
   "metadata": {
    "id": "MEJV-CX2_Zcu"
   },
   "source": [
    "Создайте функцию `genre_weekday()` с четырьмя параметрами:\n",
    "* таблица (датафрейм) с данными,\n",
    "* день недели,\n",
    "* начальная временная метка в формате 'hh:mm', \n",
    "* последняя временная метка в формате 'hh:mm'.\n",
    "\n",
    "Функция должна вернуть информацию о топ-10 жанров тех треков, которые прослушивали в указанный день, в промежутке между двумя отметками времени."
   ]
  },
  {
   "cell_type": "code",
   "execution_count": 155,
   "metadata": {
    "id": "laJT9BYl_Zcu"
   },
   "outputs": [],
   "source": [
    "# Объявление функции genre_weekday() с параметрами table, day, time1, time2,\n",
    "# которая возвращает информацию о самых популярных жанрах в указанный день в\n",
    "# заданное время:\n",
    "# 1) в переменную genre_df сохраняются те строки переданного датафрейма table, для\n",
    "#    которых одновременно:\n",
    "#    - значение в столбце day равно значению аргумента day\n",
    "#    - значение в столбце time больше значения аргумента time1\n",
    "#    - значение в столбце time меньше значения аргумента time2\n",
    "#    Используйте последовательную фильтрацию с помощью логической индексации.\n",
    "# 2) сгруппировать датафрейм genre_df по столбцу genre, взять один из его\n",
    "#    столбцов и посчитать методом count() количество записей для каждого из\n",
    "#    присутствующих жанров, получившийся Series записать в переменную\n",
    "#    genre_df_count\n",
    "# 3) отсортировать genre_df_count по убыванию встречаемости и сохранить\n",
    "#    в переменную genre_df_sorted\n",
    "# 4) вернуть Series из 10 первых значений genre_df_sorted, это будут топ-10\n",
    "#    популярных жанров (в указанный день, в заданное время)\n",
    "\n",
    "def genre_weekday(table, day, time1, time2):\n",
    "    genre_df = table[(table['day'] == day) & (table['time'] > time1) & (table['time'] < time2)]\n",
    "    genre_df_count = genre_df.groupby('genre')['day'].count()\n",
    "    genre_df_sorted = genre_df_count.sort_values(ascending=False)\n",
    "    return genre_df_sorted.head(10)\n",
    "    "
   ]
  },
  {
   "cell_type": "markdown",
   "metadata": {
    "id": "la2s2_PF_Zcu"
   },
   "source": [
    "Cравните результаты функции `genre_weekday()` для Москвы и Санкт-Петербурга в понедельник утром (с 7:00 до 11:00) и в пятницу вечером (с 17:00 до 23:00):"
   ]
  },
  {
   "cell_type": "code",
   "execution_count": 156,
   "metadata": {
    "id": "yz7itPUQ_Zcu"
   },
   "outputs": [
    {
     "name": "stdout",
     "output_type": "stream",
     "text": [
      "genre\n",
      "pop            781\n",
      "dance          549\n",
      "electronic     480\n",
      "rock           474\n",
      "hiphop         286\n",
      "ruspop         186\n",
      "world          181\n",
      "rusrap         175\n",
      "alternative    164\n",
      "unknown        161\n",
      "Name: day, dtype: int64\n"
     ]
    }
   ],
   "source": [
    "# вызов функции для утра понедельника в Москве (вместо df — таблица moscow_general)\n",
    "# объекты, хранящие время, являются строками и сравниваются как строки\n",
    "# пример вызова: genre_weekday(moscow_general, 'Monday', '07:00', '11:00')\n",
    "\n",
    "print(genre_weekday(moscow_general, 'Monday', '07:00', '11:00'))"
   ]
  },
  {
   "cell_type": "code",
   "execution_count": 157,
   "metadata": {
    "id": "kwUcHPdy_Zcu"
   },
   "outputs": [
    {
     "name": "stdout",
     "output_type": "stream",
     "text": [
      "genre\n",
      "pop            218\n",
      "dance          182\n",
      "rock           162\n",
      "electronic     147\n",
      "hiphop          80\n",
      "ruspop          64\n",
      "alternative     58\n",
      "rusrap          55\n",
      "jazz            44\n",
      "classical       40\n",
      "Name: day, dtype: int64\n"
     ]
    }
   ],
   "source": [
    "# вызов функции для утра понедельника в Петербурге (вместо df — таблица spb_general)\n",
    "\n",
    "print(genre_weekday(spb_general, 'Monday', '07:00', '11:00'))"
   ]
  },
  {
   "cell_type": "code",
   "execution_count": 158,
   "metadata": {
    "id": "EzXVRE1o_Zcu"
   },
   "outputs": [
    {
     "name": "stdout",
     "output_type": "stream",
     "text": [
      "genre\n",
      "pop            713\n",
      "rock           517\n",
      "dance          495\n",
      "electronic     482\n",
      "hiphop         273\n",
      "world          208\n",
      "ruspop         170\n",
      "alternative    163\n",
      "classical      163\n",
      "rusrap         142\n",
      "Name: day, dtype: int64\n"
     ]
    }
   ],
   "source": [
    "# вызов функции для вечера пятницы в Москве\n",
    "\n",
    "print(genre_weekday(moscow_general, 'Friday', '17:00', '23:00'))"
   ]
  },
  {
   "cell_type": "code",
   "execution_count": 159,
   "metadata": {
    "id": "JZaEKu5v_Zcu"
   },
   "outputs": [
    {
     "name": "stdout",
     "output_type": "stream",
     "text": [
      "genre\n",
      "pop            256\n",
      "rock           216\n",
      "electronic     216\n",
      "dance          210\n",
      "hiphop          97\n",
      "alternative     63\n",
      "jazz            61\n",
      "classical       60\n",
      "rusrap          59\n",
      "world           54\n",
      "Name: day, dtype: int64\n"
     ]
    }
   ],
   "source": [
    "# вызов функции для вечера пятницы в Петербурге\n",
    "\n",
    "print(genre_weekday(spb_general, 'Friday', '17:00', '23:00'))"
   ]
  },
  {
   "cell_type": "markdown",
   "metadata": {
    "id": "wrCe4MNX_Zcu"
   },
   "source": [
    "**Выводы**\n",
    "\n",
    "Если сравнить топ-10 жанров в понедельник утром, можно сделать такие выводы:\n",
    "\n",
    "1. В Москве и Петербурге слушают похожую музыку. Единственное отличие — в московский рейтинг вошёл жанр “world”, а в петербургский — джаз и классика.\n",
    "\n",
    "2. В Москве пропущенных значений оказалось так много, что значение `'unknown'` заняло десятое место среди самых популярных жанров. Значит, пропущенные значения занимают существенную долю в данных и угрожают достоверности исследования.\n",
    "\n",
    "Вечер пятницы не меняет эту картину. Некоторые жанры поднимаются немного выше, другие спускаются, но в целом топ-10 остаётся тем же самым.\n",
    "\n",
    "Таким образом, вторая гипотеза подтвердилась лишь частично:\n",
    "* Пользователи слушают похожую музыку в начале недели и в конце.\n",
    "* Разница между Москвой и Петербургом не слишком выражена. В Москве чаще слушают русскую популярную музыку, в Петербурге — джаз. \n",
    "\n",
    "\n",
    "Однако пропуски в данных ставят под сомнение этот результат. В Москве их так много, что рейтинг топ-10 мог бы выглядеть иначе, если бы не утерянные  данные о жанрах."
   ]
  },
  {
   "cell_type": "markdown",
   "metadata": {
    "id": "JolODAqr_Zcu"
   },
   "source": [
    "### Жанровые предпочтения в Москве и Петербурге\n",
    "\n",
    "Гипотеза: Петербург — столица рэпа, музыку этого жанра там слушают чаще, чем в Москве.  А Москва — город контрастов, в котором, тем не менее, преобладает поп-музыка."
   ]
  },
  {
   "cell_type": "markdown",
   "metadata": {
    "id": "DlegSvaT_Zcu"
   },
   "source": [
    "Сгруппируйте таблицу `moscow_general` по жанру и посчитайте прослушивания треков каждого жанра методом `count()`. Затем отсортируйте результат в порядке убывания и сохраните его в таблице `moscow_genres`."
   ]
  },
  {
   "cell_type": "code",
   "execution_count": 160,
   "metadata": {
    "id": "r19lIPke_Zcu"
   },
   "outputs": [],
   "source": [
    "# одной строкой: группировка таблицы moscow_general по столбцу 'genre', \n",
    "# подсчёт числа значений 'genre' в этой группировке методом count(), \n",
    "# сортировка получившегося Series в порядке убывания и сохранение в moscow_genres\n",
    "\n",
    "moscow_genres = moscow_general.groupby('genre')['city'].count().sort_values(ascending=False)"
   ]
  },
  {
   "cell_type": "markdown",
   "metadata": {
    "id": "6kMuomxTiIr8"
   },
   "source": [
    "Выведите на экран первые десять строк `moscow_genres`:"
   ]
  },
  {
   "cell_type": "code",
   "execution_count": 161,
   "metadata": {
    "id": "WhCSooF8_Zcv"
   },
   "outputs": [
    {
     "name": "stdout",
     "output_type": "stream",
     "text": [
      "genre\n",
      "pop            5892\n",
      "dance          4435\n",
      "rock           3965\n",
      "electronic     3786\n",
      "hiphop         2096\n",
      "classical      1616\n",
      "world          1432\n",
      "alternative    1379\n",
      "ruspop         1372\n",
      "rusrap         1161\n",
      "Name: city, dtype: int64\n"
     ]
    }
   ],
   "source": [
    "print(moscow_genres.head(10)) # просмотр первых 10 строк moscow_genres"
   ]
  },
  {
   "cell_type": "markdown",
   "metadata": {
    "id": "cnPG2vnN_Zcv"
   },
   "source": [
    "Теперь повторите то же и для Петербурга.\n",
    "\n",
    "Сгруппируйте таблицу `spb_general` по жанру. Посчитайте прослушивания треков каждого жанра. Результат отсортируйте в порядке убывания и сохраните в таблице `spb_genres`:\n"
   ]
  },
  {
   "cell_type": "code",
   "execution_count": 162,
   "metadata": {
    "id": "gluLIpE7_Zcv"
   },
   "outputs": [],
   "source": [
    "# одной строкой: группировка таблицы spb_general по столбцу 'genre', \n",
    "# подсчёт числа значений 'genre' в этой группировке методом count(), \n",
    "# сортировка получившегося Series в порядке убывания и сохранение в spb_genres\n",
    "\n",
    "spb_genres = spb_general.groupby('genre')['city'].count().sort_values(ascending=False)"
   ]
  },
  {
   "cell_type": "markdown",
   "metadata": {
    "id": "5Doha_ODgyQ8"
   },
   "source": [
    "Выведите на экран первые десять строк `spb_genres`:"
   ]
  },
  {
   "cell_type": "code",
   "execution_count": 163,
   "metadata": {
    "id": "uaGJHjVU_Zcv"
   },
   "outputs": [
    {
     "name": "stdout",
     "output_type": "stream",
     "text": [
      "genre\n",
      "pop            2431\n",
      "dance          1932\n",
      "rock           1879\n",
      "electronic     1737\n",
      "hiphop          960\n",
      "alternative     649\n",
      "classical       646\n",
      "rusrap          564\n",
      "ruspop          538\n",
      "world           515\n",
      "Name: city, dtype: int64\n"
     ]
    }
   ],
   "source": [
    "print(spb_genres.head(10)) # просмотр первых 10 строк spb_genres"
   ]
  },
  {
   "cell_type": "markdown",
   "metadata": {
    "id": "RY51YJYu_Zcv"
   },
   "source": [
    "**Выводы**"
   ]
  },
  {
   "cell_type": "markdown",
   "metadata": {
    "id": "nVhnJEm__Zcv"
   },
   "source": [
    "Гипотеза частично подтвердилась:\n",
    "* Поп-музыка — самый популярный жанр в Москве, как и предполагала гипотеза. Более того, в топ-10 жанров встречается близкий жанр — русская популярная музыка.\n",
    "* Вопреки ожиданиям, рэп одинаково популярен в Москве и Петербурге. \n"
   ]
  },
  {
   "cell_type": "markdown",
   "metadata": {
    "id": "ykKQ0N65_Zcv"
   },
   "source": [
    "## Итоги исследования"
   ]
  },
  {
   "cell_type": "markdown",
   "metadata": {
    "id": "tjUwbHb3_Zcv"
   },
   "source": [
    "Вы проверили три гипотезы и установили:\n",
    "\n",
    "1. День недели по-разному влияет на активность пользователей в Москве и Петербурге. \n",
    "\n",
    "Первая гипотеза полностью подтвердилась.\n",
    "\n",
    "2. Музыкальные предпочтения не сильно меняются в течение недели — будь то Москва или Петербург. Небольшие различия заметны в начале недели, по понедельникам:\n",
    "* в Москве слушают музыку жанра “world”,\n",
    "* в Петербурге — джаз и классику.\n",
    "\n",
    "Таким образом, вторая гипотеза подтвердилась лишь отчасти. Этот результат мог оказаться иным, если бы не пропуски в данных.\n",
    "\n",
    "3. Во вкусах пользователей Москвы и Петербурга больше общего чем различий. Вопреки ожиданиям, предпочтения жанров в Петербурге напоминают московские.\n",
    "\n",
    "Третья гипотеза не подтвердилась. Если различия в предпочтениях и существуют, на основной массе пользователей они незаметны.\n",
    "\n",
    "**На практике исследования содержат проверки статистических гипотез.**\n",
    "Из данных одного сервиса не всегда можно сделать вывод о всех жителях города.\n",
    "Проверки статистических гипотез покажут, насколько они достоверны, исходя из имеющихся данных. \n",
    "С методами проверок гипотез вы ещё познакомитесь в следующих темах."
   ]
  }
 ],
 "metadata": {
  "ExecuteTimeLog": [
   {
    "duration": 550,
    "start_time": "2022-02-11T20:28:38.360Z"
   },
   {
    "duration": 361,
    "start_time": "2022-02-11T20:29:41.885Z"
   },
   {
    "duration": 123,
    "start_time": "2022-02-11T20:29:56.197Z"
   },
   {
    "duration": 15,
    "start_time": "2022-02-11T20:30:14.519Z"
   },
   {
    "duration": 23,
    "start_time": "2022-02-11T20:30:34.980Z"
   },
   {
    "duration": 3,
    "start_time": "2022-02-11T20:55:50.687Z"
   },
   {
    "duration": 3,
    "start_time": "2022-02-11T20:56:47.505Z"
   },
   {
    "duration": 19,
    "start_time": "2022-02-11T21:49:59.382Z"
   },
   {
    "duration": 3,
    "start_time": "2022-02-11T21:50:13.802Z"
   },
   {
    "duration": 20,
    "start_time": "2022-02-11T21:53:52.081Z"
   },
   {
    "duration": 423,
    "start_time": "2022-02-12T10:43:42.907Z"
   },
   {
    "duration": 354,
    "start_time": "2022-02-12T10:44:00.328Z"
   },
   {
    "duration": 138,
    "start_time": "2022-02-12T10:44:57.743Z"
   },
   {
    "duration": 131,
    "start_time": "2022-02-12T10:45:17.208Z"
   },
   {
    "duration": 340,
    "start_time": "2022-02-12T10:45:25.231Z"
   },
   {
    "duration": 371,
    "start_time": "2022-02-12T10:45:42.743Z"
   },
   {
    "duration": 789,
    "start_time": "2022-02-12T10:45:51.726Z"
   },
   {
    "duration": 172,
    "start_time": "2022-02-12T10:45:54.679Z"
   },
   {
    "duration": 26,
    "start_time": "2022-02-12T10:45:57.034Z"
   },
   {
    "duration": 31,
    "start_time": "2022-02-12T10:45:59.798Z"
   },
   {
    "duration": 4,
    "start_time": "2022-02-12T10:46:04.399Z"
   },
   {
    "duration": 25,
    "start_time": "2022-02-12T10:46:07.518Z"
   },
   {
    "duration": 5,
    "start_time": "2022-02-12T10:46:10.189Z"
   },
   {
    "duration": 28,
    "start_time": "2022-02-12T10:46:12.958Z"
   },
   {
    "duration": 16,
    "start_time": "2022-02-12T10:46:16.254Z"
   },
   {
    "duration": 11,
    "start_time": "2022-02-12T10:46:21.046Z"
   },
   {
    "duration": 24,
    "start_time": "2022-02-12T10:46:41.582Z"
   },
   {
    "duration": 29,
    "start_time": "2022-02-12T10:46:50.500Z"
   },
   {
    "duration": 10383,
    "start_time": "2022-02-12T10:50:12.980Z"
   },
   {
    "duration": 11602,
    "start_time": "2022-02-12T10:50:30.997Z"
   },
   {
    "duration": 9889,
    "start_time": "2022-02-12T10:51:47.540Z"
   },
   {
    "duration": 9861,
    "start_time": "2022-02-12T10:55:22.323Z"
   },
   {
    "duration": 7563,
    "start_time": "2022-02-12T10:56:15.481Z"
   },
   {
    "duration": 8850,
    "start_time": "2022-02-12T11:00:35.946Z"
   },
   {
    "duration": 474,
    "start_time": "2022-02-12T11:02:12.222Z"
   },
   {
    "duration": 638,
    "start_time": "2022-02-12T13:22:24.417Z"
   },
   {
    "duration": 145,
    "start_time": "2022-02-12T13:22:25.706Z"
   },
   {
    "duration": 16,
    "start_time": "2022-02-12T13:22:26.724Z"
   },
   {
    "duration": 26,
    "start_time": "2022-02-12T13:22:27.815Z"
   },
   {
    "duration": 4,
    "start_time": "2022-02-12T13:22:30.134Z"
   },
   {
    "duration": 20,
    "start_time": "2022-02-12T13:22:31.401Z"
   },
   {
    "duration": 4,
    "start_time": "2022-02-12T13:22:32.323Z"
   },
   {
    "duration": 25,
    "start_time": "2022-02-12T13:22:33.674Z"
   },
   {
    "duration": 314,
    "start_time": "2022-02-12T13:22:36.308Z"
   },
   {
    "duration": 6688,
    "start_time": "2022-02-12T13:27:24.046Z"
   },
   {
    "duration": 7666,
    "start_time": "2022-02-12T13:27:53.496Z"
   },
   {
    "duration": 29,
    "start_time": "2022-02-12T13:29:13.741Z"
   },
   {
    "duration": 22,
    "start_time": "2022-02-12T13:29:26.078Z"
   },
   {
    "duration": 42,
    "start_time": "2022-02-12T13:30:11.500Z"
   },
   {
    "duration": 24,
    "start_time": "2022-02-12T13:30:38.173Z"
   },
   {
    "duration": 59,
    "start_time": "2022-02-12T13:31:56.884Z"
   },
   {
    "duration": 72,
    "start_time": "2022-02-12T13:34:29.834Z"
   },
   {
    "duration": 52,
    "start_time": "2022-02-12T13:34:33.426Z"
   },
   {
    "duration": 267,
    "start_time": "2022-02-12T13:38:28.362Z"
   },
   {
    "duration": 335,
    "start_time": "2022-02-12T13:39:06.623Z"
   },
   {
    "duration": 310,
    "start_time": "2022-02-12T13:40:59.027Z"
   },
   {
    "duration": 6,
    "start_time": "2022-02-12T13:43:08.080Z"
   },
   {
    "duration": 6,
    "start_time": "2022-02-12T13:43:19.374Z"
   },
   {
    "duration": 7,
    "start_time": "2022-02-12T13:43:27.142Z"
   },
   {
    "duration": 324,
    "start_time": "2022-02-12T13:43:37.480Z"
   },
   {
    "duration": 6,
    "start_time": "2022-02-12T13:43:47.581Z"
   },
   {
    "duration": 251,
    "start_time": "2022-02-12T13:44:25.364Z"
   },
   {
    "duration": 262,
    "start_time": "2022-02-12T13:44:30.597Z"
   },
   {
    "duration": 402,
    "start_time": "2022-02-12T13:47:05.748Z"
   },
   {
    "duration": 440,
    "start_time": "2022-02-12T13:49:19.105Z"
   },
   {
    "duration": 289,
    "start_time": "2022-02-12T13:50:04.833Z"
   },
   {
    "duration": 263,
    "start_time": "2022-02-12T13:51:00.841Z"
   },
   {
    "duration": 421,
    "start_time": "2022-02-12T13:53:23.791Z"
   },
   {
    "duration": 4,
    "start_time": "2022-02-12T13:53:39.503Z"
   },
   {
    "duration": 85,
    "start_time": "2022-02-12T13:54:56.238Z"
   },
   {
    "duration": 88,
    "start_time": "2022-02-12T13:55:06.151Z"
   },
   {
    "duration": 36,
    "start_time": "2022-02-12T13:55:10.095Z"
   },
   {
    "duration": 313,
    "start_time": "2022-02-12T13:55:24.357Z"
   },
   {
    "duration": 6,
    "start_time": "2022-02-12T13:57:45.118Z"
   },
   {
    "duration": 96,
    "start_time": "2022-02-12T13:57:56.893Z"
   },
   {
    "duration": 7,
    "start_time": "2022-02-12T13:58:09.205Z"
   },
   {
    "duration": 99,
    "start_time": "2022-02-12T14:00:17.605Z"
   },
   {
    "duration": 864,
    "start_time": "2022-02-12T14:00:32.827Z"
   },
   {
    "duration": 93,
    "start_time": "2022-02-12T14:01:33.164Z"
   },
   {
    "duration": 85,
    "start_time": "2022-02-12T14:02:04.058Z"
   },
   {
    "duration": 97,
    "start_time": "2022-02-12T14:02:21.987Z"
   },
   {
    "duration": 120,
    "start_time": "2022-02-12T14:02:42.585Z"
   },
   {
    "duration": 98,
    "start_time": "2022-02-12T14:02:52.394Z"
   },
   {
    "duration": 98,
    "start_time": "2022-02-12T14:02:55.786Z"
   },
   {
    "duration": 90,
    "start_time": "2022-02-12T14:03:06.404Z"
   },
   {
    "duration": 82,
    "start_time": "2022-02-12T14:03:16.530Z"
   },
   {
    "duration": 5,
    "start_time": "2022-02-12T14:03:24.370Z"
   },
   {
    "duration": 6,
    "start_time": "2022-02-12T14:03:46.682Z"
   },
   {
    "duration": 94,
    "start_time": "2022-02-12T14:06:19.799Z"
   },
   {
    "duration": 84,
    "start_time": "2022-02-12T14:06:23.553Z"
   },
   {
    "duration": 7,
    "start_time": "2022-02-12T14:06:44.248Z"
   },
   {
    "duration": 2,
    "start_time": "2022-02-12T14:19:20.090Z"
   },
   {
    "duration": 11,
    "start_time": "2022-02-12T14:21:18.688Z"
   },
   {
    "duration": 7,
    "start_time": "2022-02-12T14:21:44.576Z"
   },
   {
    "duration": 284,
    "start_time": "2022-02-12T14:22:19.367Z"
   },
   {
    "duration": 11,
    "start_time": "2022-02-12T14:22:40.615Z"
   },
   {
    "duration": 6,
    "start_time": "2022-02-12T14:22:44.263Z"
   },
   {
    "duration": 4,
    "start_time": "2022-02-12T14:34:16.576Z"
   },
   {
    "duration": 550,
    "start_time": "2022-02-12T14:35:07.602Z"
   },
   {
    "duration": 16,
    "start_time": "2022-02-12T14:35:22.522Z"
   },
   {
    "duration": 6,
    "start_time": "2022-02-12T14:35:26.337Z"
   },
   {
    "duration": 17,
    "start_time": "2022-02-12T14:37:35.606Z"
   },
   {
    "duration": 6,
    "start_time": "2022-02-12T14:37:38.151Z"
   },
   {
    "duration": 20,
    "start_time": "2022-02-12T14:38:59.662Z"
   },
   {
    "duration": 7,
    "start_time": "2022-02-12T14:39:01.286Z"
   },
   {
    "duration": 88,
    "start_time": "2022-02-12T14:52:00.440Z"
   },
   {
    "duration": 110,
    "start_time": "2022-02-12T14:52:24.808Z"
   },
   {
    "duration": 143,
    "start_time": "2022-02-12T14:52:33.199Z"
   },
   {
    "duration": -332,
    "start_time": "2022-02-12T14:52:51.091Z"
   },
   {
    "duration": 6511,
    "start_time": "2022-02-12T14:52:52.494Z"
   },
   {
    "duration": 7,
    "start_time": "2022-02-12T14:53:16.350Z"
   },
   {
    "duration": 93,
    "start_time": "2022-02-12T14:54:26.351Z"
   },
   {
    "duration": 87,
    "start_time": "2022-02-12T14:54:33.293Z"
   },
   {
    "duration": 87,
    "start_time": "2022-02-12T14:54:44.468Z"
   },
   {
    "duration": 90,
    "start_time": "2022-02-12T14:54:53.958Z"
   },
   {
    "duration": 13,
    "start_time": "2022-02-12T14:55:00.810Z"
   },
   {
    "duration": 6845,
    "start_time": "2022-02-12T14:55:22.552Z"
   },
   {
    "duration": 264,
    "start_time": "2022-02-12T14:56:18.206Z"
   },
   {
    "duration": 7082,
    "start_time": "2022-02-12T14:56:37.869Z"
   },
   {
    "duration": 359,
    "start_time": "2022-02-12T14:57:07.940Z"
   },
   {
    "duration": 8936,
    "start_time": "2022-02-12T14:57:14.315Z"
   },
   {
    "duration": 8,
    "start_time": "2022-02-12T15:01:23.625Z"
   },
   {
    "duration": 12,
    "start_time": "2022-02-12T15:01:40.545Z"
   },
   {
    "duration": 14,
    "start_time": "2022-02-12T15:01:52.938Z"
   },
   {
    "duration": 16,
    "start_time": "2022-02-12T15:02:25.673Z"
   },
   {
    "duration": 17,
    "start_time": "2022-02-12T15:09:00.760Z"
   },
   {
    "duration": 29,
    "start_time": "2022-02-12T15:09:42.850Z"
   },
   {
    "duration": 37,
    "start_time": "2022-02-12T15:10:00.077Z"
   },
   {
    "duration": 31,
    "start_time": "2022-02-12T15:11:53.172Z"
   },
   {
    "duration": 39,
    "start_time": "2022-02-12T15:12:01.043Z"
   },
   {
    "duration": 6525,
    "start_time": "2022-02-12T15:13:07.414Z"
   },
   {
    "duration": 41,
    "start_time": "2022-02-12T15:13:24.068Z"
   },
   {
    "duration": 84,
    "start_time": "2022-02-12T15:13:56.260Z"
   },
   {
    "duration": 97,
    "start_time": "2022-02-12T15:14:25.147Z"
   },
   {
    "duration": 40,
    "start_time": "2022-02-12T15:14:32.898Z"
   },
   {
    "duration": 56,
    "start_time": "2022-02-12T15:15:52.370Z"
   },
   {
    "duration": 62,
    "start_time": "2022-02-12T15:16:22.675Z"
   },
   {
    "duration": 69,
    "start_time": "2022-02-12T15:16:38.705Z"
   },
   {
    "duration": 77,
    "start_time": "2022-02-12T15:17:58.057Z"
   },
   {
    "duration": 83,
    "start_time": "2022-02-12T15:21:47.207Z"
   },
   {
    "duration": 79,
    "start_time": "2022-02-12T15:24:29.278Z"
   },
   {
    "duration": 87,
    "start_time": "2022-02-12T15:24:46.615Z"
   },
   {
    "duration": 7,
    "start_time": "2022-02-12T15:26:56.111Z"
   },
   {
    "duration": 92,
    "start_time": "2022-02-12T15:27:58.216Z"
   },
   {
    "duration": 102,
    "start_time": "2022-02-12T15:28:37.223Z"
   },
   {
    "duration": 92,
    "start_time": "2022-02-12T15:28:56.864Z"
   },
   {
    "duration": 94,
    "start_time": "2022-02-12T15:29:19.649Z"
   },
   {
    "duration": 86,
    "start_time": "2022-02-12T15:29:49.673Z"
   },
   {
    "duration": 23,
    "start_time": "2022-02-12T15:41:53.148Z"
   },
   {
    "duration": 6,
    "start_time": "2022-02-12T15:42:02.474Z"
   },
   {
    "duration": 34,
    "start_time": "2022-02-12T15:44:12.306Z"
   },
   {
    "duration": 26,
    "start_time": "2022-02-12T15:44:25.539Z"
   },
   {
    "duration": 344,
    "start_time": "2022-02-12T16:37:44.120Z"
   },
   {
    "duration": 301,
    "start_time": "2022-02-12T16:38:04.352Z"
   },
   {
    "duration": 354,
    "start_time": "2022-02-12T16:40:18.277Z"
   },
   {
    "duration": 370,
    "start_time": "2022-02-12T16:41:20.900Z"
   },
   {
    "duration": 382,
    "start_time": "2022-02-12T16:41:46.277Z"
   },
   {
    "duration": 7164,
    "start_time": "2022-02-12T16:42:52.116Z"
   },
   {
    "duration": 7475,
    "start_time": "2022-02-12T16:43:15.636Z"
   },
   {
    "duration": 304,
    "start_time": "2022-02-12T16:45:22.227Z"
   },
   {
    "duration": 326,
    "start_time": "2022-02-12T16:46:24.386Z"
   },
   {
    "duration": 6772,
    "start_time": "2022-02-12T16:46:28.866Z"
   },
   {
    "duration": 324,
    "start_time": "2022-02-12T16:46:46.066Z"
   },
   {
    "duration": 296,
    "start_time": "2022-02-12T16:47:27.280Z"
   },
   {
    "duration": 47,
    "start_time": "2022-02-12T16:47:35.505Z"
   },
   {
    "duration": 42,
    "start_time": "2022-02-12T16:47:49.113Z"
   },
   {
    "duration": 48,
    "start_time": "2022-02-12T16:47:58.695Z"
   },
   {
    "duration": 67,
    "start_time": "2022-02-12T16:48:15.560Z"
   },
   {
    "duration": 86,
    "start_time": "2022-02-12T16:48:30.912Z"
   },
   {
    "duration": 100,
    "start_time": "2022-02-12T16:50:56.047Z"
   },
   {
    "duration": 51,
    "start_time": "2022-02-12T16:51:16.246Z"
   },
   {
    "duration": 7,
    "start_time": "2022-02-12T16:51:40.550Z"
   },
   {
    "duration": 41,
    "start_time": "2022-02-12T16:52:30.477Z"
   },
   {
    "duration": 10,
    "start_time": "2022-02-12T17:09:31.093Z"
   },
   {
    "duration": 31,
    "start_time": "2022-02-12T17:10:26.052Z"
   },
   {
    "duration": 28,
    "start_time": "2022-02-12T17:12:41.361Z"
   },
   {
    "duration": 7069,
    "start_time": "2022-02-12T17:21:51.627Z"
   },
   {
    "duration": 7053,
    "start_time": "2022-02-12T17:24:46.827Z"
   },
   {
    "duration": 84,
    "start_time": "2022-02-12T17:25:41.412Z"
   },
   {
    "duration": 83,
    "start_time": "2022-02-12T17:26:22.602Z"
   },
   {
    "duration": 122,
    "start_time": "2022-02-12T17:26:31.234Z"
   },
   {
    "duration": 115,
    "start_time": "2022-02-12T17:26:39.176Z"
   },
   {
    "duration": 27,
    "start_time": "2022-02-12T17:27:07.946Z"
   },
   {
    "duration": 30,
    "start_time": "2022-02-12T17:27:25.680Z"
   },
   {
    "duration": 28,
    "start_time": "2022-02-12T17:28:55.321Z"
   },
   {
    "duration": 31,
    "start_time": "2022-02-12T17:29:26.584Z"
   },
   {
    "duration": 42,
    "start_time": "2022-02-12T17:30:14.567Z"
   },
   {
    "duration": 49,
    "start_time": "2022-02-12T17:30:18.486Z"
   },
   {
    "duration": 43,
    "start_time": "2022-02-12T17:30:33.311Z"
   },
   {
    "duration": 169,
    "start_time": "2022-02-12T17:33:02.535Z"
   },
   {
    "duration": 57,
    "start_time": "2022-02-12T17:33:13.965Z"
   },
   {
    "duration": 71,
    "start_time": "2022-02-12T17:33:20.263Z"
   },
   {
    "duration": 89,
    "start_time": "2022-02-12T17:35:09.665Z"
   },
   {
    "duration": 50,
    "start_time": "2022-02-12T17:35:19.022Z"
   },
   {
    "duration": 50,
    "start_time": "2022-02-12T17:35:39.812Z"
   },
   {
    "duration": 54,
    "start_time": "2022-02-12T17:35:55.412Z"
   },
   {
    "duration": 52,
    "start_time": "2022-02-12T17:38:51.547Z"
   },
   {
    "duration": 42,
    "start_time": "2022-02-12T17:39:53.986Z"
   },
   {
    "duration": 62,
    "start_time": "2022-02-12T17:48:46.437Z"
   },
   {
    "duration": 56,
    "start_time": "2022-02-12T17:48:56.100Z"
   },
   {
    "duration": 59,
    "start_time": "2022-02-12T17:53:09.450Z"
   },
   {
    "duration": 89,
    "start_time": "2022-02-12T18:01:30.495Z"
   },
   {
    "duration": 93,
    "start_time": "2022-02-12T18:01:44.305Z"
   },
   {
    "duration": 59,
    "start_time": "2022-02-12T18:01:59.886Z"
   },
   {
    "duration": 57,
    "start_time": "2022-02-12T18:02:06.754Z"
   },
   {
    "duration": 59,
    "start_time": "2022-02-12T18:02:07.870Z"
   },
   {
    "duration": 24,
    "start_time": "2022-02-12T18:02:55.308Z"
   },
   {
    "duration": 23,
    "start_time": "2022-02-12T18:03:02.053Z"
   },
   {
    "duration": 4,
    "start_time": "2022-02-12T18:03:14.651Z"
   },
   {
    "duration": 4,
    "start_time": "2022-02-12T18:03:21.815Z"
   },
   {
    "duration": 12,
    "start_time": "2022-02-12T18:03:49.522Z"
   },
   {
    "duration": 11,
    "start_time": "2022-02-12T18:03:58.020Z"
   },
   {
    "duration": 89,
    "start_time": "2022-02-12T18:04:11.428Z"
   },
   {
    "duration": 12,
    "start_time": "2022-02-12T18:04:15.375Z"
   },
   {
    "duration": 23,
    "start_time": "2022-02-12T18:04:35.460Z"
   },
   {
    "duration": 36,
    "start_time": "2022-02-12T18:04:46.379Z"
   },
   {
    "duration": 25,
    "start_time": "2022-02-12T18:04:53.628Z"
   },
   {
    "duration": 11,
    "start_time": "2022-02-12T18:05:00.349Z"
   },
   {
    "duration": 11,
    "start_time": "2022-02-12T18:05:21.019Z"
   },
   {
    "duration": 92,
    "start_time": "2022-02-12T18:09:03.037Z"
   },
   {
    "duration": 94,
    "start_time": "2022-02-12T18:09:11.992Z"
   },
   {
    "duration": 87,
    "start_time": "2022-02-12T18:09:36.440Z"
   },
   {
    "duration": 91,
    "start_time": "2022-02-12T18:09:46.450Z"
   },
   {
    "duration": 86,
    "start_time": "2022-02-12T18:09:50.345Z"
   },
   {
    "duration": 286,
    "start_time": "2022-02-12T18:14:57.974Z"
   },
   {
    "duration": 7099,
    "start_time": "2022-02-12T18:22:33.033Z"
   },
   {
    "duration": 295,
    "start_time": "2022-02-12T18:22:47.116Z"
   },
   {
    "duration": 334,
    "start_time": "2022-02-12T18:23:11.442Z"
   },
   {
    "duration": 71,
    "start_time": "2022-02-12T18:24:24.177Z"
   },
   {
    "duration": 73,
    "start_time": "2022-02-12T18:24:53.923Z"
   },
   {
    "duration": 67,
    "start_time": "2022-02-12T18:25:17.738Z"
   },
   {
    "duration": 84,
    "start_time": "2022-02-12T18:26:05.775Z"
   },
   {
    "duration": 95,
    "start_time": "2022-02-12T18:26:16.088Z"
   },
   {
    "duration": 159,
    "start_time": "2022-02-12T18:26:33.040Z"
   },
   {
    "duration": 88,
    "start_time": "2022-02-12T18:26:42.800Z"
   },
   {
    "duration": 91,
    "start_time": "2022-02-12T18:26:53.455Z"
   },
   {
    "duration": 90,
    "start_time": "2022-02-12T18:28:16.751Z"
   },
   {
    "duration": 136,
    "start_time": "2022-02-12T18:30:04.510Z"
   },
   {
    "duration": 150,
    "start_time": "2022-02-12T18:30:14.958Z"
   },
   {
    "duration": 96,
    "start_time": "2022-02-12T18:30:22.252Z"
   },
   {
    "duration": 36,
    "start_time": "2022-02-12T18:34:43.674Z"
   },
   {
    "duration": 87,
    "start_time": "2022-02-12T18:41:40.908Z"
   },
   {
    "duration": 4,
    "start_time": "2022-02-12T18:41:43.362Z"
   },
   {
    "duration": 5,
    "start_time": "2022-02-12T18:41:44.933Z"
   },
   {
    "duration": 122,
    "start_time": "2022-02-12T18:41:46.149Z"
   },
   {
    "duration": 90,
    "start_time": "2022-02-12T18:42:01.512Z"
   },
   {
    "duration": 83,
    "start_time": "2022-02-12T18:42:17.774Z"
   },
   {
    "duration": 91,
    "start_time": "2022-02-12T18:42:30.991Z"
   },
   {
    "duration": 151,
    "start_time": "2022-02-12T18:42:45.736Z"
   },
   {
    "duration": 550,
    "start_time": "2022-02-12T18:44:20.511Z"
   },
   {
    "duration": 94,
    "start_time": "2022-02-12T18:45:36.270Z"
   },
   {
    "duration": 1207,
    "start_time": "2022-02-12T18:45:46.566Z"
   },
   {
    "duration": 1229,
    "start_time": "2022-02-12T18:46:01.996Z"
   },
   {
    "duration": 25,
    "start_time": "2022-02-12T18:47:10.755Z"
   },
   {
    "duration": 507,
    "start_time": "2022-02-12T18:47:26.324Z"
   },
   {
    "duration": 535,
    "start_time": "2022-02-12T18:47:30.461Z"
   },
   {
    "duration": 1278,
    "start_time": "2022-02-12T18:48:00.451Z"
   },
   {
    "duration": 25,
    "start_time": "2022-02-12T18:48:14.860Z"
   },
   {
    "duration": 18,
    "start_time": "2022-02-12T18:49:35.587Z"
   },
   {
    "duration": 4,
    "start_time": "2022-02-12T18:50:23.650Z"
   },
   {
    "duration": 87,
    "start_time": "2022-02-12T18:50:25.247Z"
   },
   {
    "duration": 91,
    "start_time": "2022-02-12T18:50:40.802Z"
   },
   {
    "duration": 4,
    "start_time": "2022-02-12T18:50:49.392Z"
   },
   {
    "duration": 89,
    "start_time": "2022-02-12T18:50:50.868Z"
   },
   {
    "duration": 18,
    "start_time": "2022-02-12T18:51:10.963Z"
   },
   {
    "duration": 17,
    "start_time": "2022-02-12T18:51:18.059Z"
   },
   {
    "duration": 8,
    "start_time": "2022-02-12T18:52:02.512Z"
   },
   {
    "duration": 17,
    "start_time": "2022-02-12T18:52:39.511Z"
   },
   {
    "duration": 16,
    "start_time": "2022-02-12T18:52:40.448Z"
   },
   {
    "duration": 33,
    "start_time": "2022-02-12T18:52:41.535Z"
   },
   {
    "duration": 14,
    "start_time": "2022-02-12T18:52:42.928Z"
   },
   {
    "duration": 18,
    "start_time": "2022-02-12T18:52:44.017Z"
   },
   {
    "duration": 17,
    "start_time": "2022-02-12T18:52:45.055Z"
   },
   {
    "duration": 9,
    "start_time": "2022-02-12T19:00:51.754Z"
   },
   {
    "duration": 9,
    "start_time": "2022-02-12T19:02:19.112Z"
   },
   {
    "duration": 5,
    "start_time": "2022-02-12T19:17:12.352Z"
   },
   {
    "duration": 257,
    "start_time": "2022-02-12T19:18:21.872Z"
   },
   {
    "duration": 3,
    "start_time": "2022-02-12T19:18:33.584Z"
   },
   {
    "duration": 4,
    "start_time": "2022-02-12T19:18:34.866Z"
   },
   {
    "duration": 5,
    "start_time": "2022-02-12T19:18:37.120Z"
   },
   {
    "duration": 23,
    "start_time": "2022-02-12T19:18:38.978Z"
   },
   {
    "duration": 24,
    "start_time": "2022-02-12T19:18:59.912Z"
   },
   {
    "duration": 23,
    "start_time": "2022-02-12T19:19:06.863Z"
   },
   {
    "duration": 4,
    "start_time": "2022-02-12T19:19:18.474Z"
   },
   {
    "duration": 5,
    "start_time": "2022-02-12T19:19:20.214Z"
   },
   {
    "duration": 18,
    "start_time": "2022-02-12T19:19:22.044Z"
   },
   {
    "duration": 5,
    "start_time": "2022-02-12T19:19:31.416Z"
   },
   {
    "duration": 35,
    "start_time": "2022-02-12T19:19:33.344Z"
   },
   {
    "duration": 36,
    "start_time": "2022-02-12T19:20:06.159Z"
   },
   {
    "duration": 3,
    "start_time": "2022-02-12T19:20:46.239Z"
   },
   {
    "duration": 2,
    "start_time": "2022-02-12T19:20:47.302Z"
   },
   {
    "duration": 6,
    "start_time": "2022-02-12T19:20:48.407Z"
   },
   {
    "duration": 26,
    "start_time": "2022-02-12T19:20:50.264Z"
   },
   {
    "duration": 33,
    "start_time": "2022-02-12T19:20:51.606Z"
   },
   {
    "duration": 4,
    "start_time": "2022-02-12T19:21:32.374Z"
   },
   {
    "duration": 18,
    "start_time": "2022-02-12T19:21:34.679Z"
   },
   {
    "duration": 12,
    "start_time": "2022-02-12T19:21:36.344Z"
   },
   {
    "duration": 15,
    "start_time": "2022-02-12T19:22:51.959Z"
   },
   {
    "duration": 13,
    "start_time": "2022-02-12T19:22:54.029Z"
   },
   {
    "duration": 12,
    "start_time": "2022-02-12T19:24:35.427Z"
   },
   {
    "duration": 17,
    "start_time": "2022-02-12T19:24:37.399Z"
   },
   {
    "duration": 13,
    "start_time": "2022-02-12T19:24:38.740Z"
   },
   {
    "duration": 5,
    "start_time": "2022-02-12T19:37:46.333Z"
   },
   {
    "duration": 260,
    "start_time": "2022-02-12T19:38:13.180Z"
   },
   {
    "duration": 8,
    "start_time": "2022-02-12T19:39:53.292Z"
   },
   {
    "duration": 4,
    "start_time": "2022-02-12T19:39:55.022Z"
   },
   {
    "duration": 9,
    "start_time": "2022-02-12T19:40:09.592Z"
   },
   {
    "duration": 4,
    "start_time": "2022-02-12T19:40:10.760Z"
   },
   {
    "duration": 9,
    "start_time": "2022-02-12T19:40:50.034Z"
   },
   {
    "duration": 4,
    "start_time": "2022-02-12T19:40:51.663Z"
   },
   {
    "duration": 9,
    "start_time": "2022-02-12T19:41:02.592Z"
   },
   {
    "duration": 7,
    "start_time": "2022-02-12T19:41:10.168Z"
   },
   {
    "duration": 4,
    "start_time": "2022-02-12T19:41:11.539Z"
   },
   {
    "duration": 5,
    "start_time": "2022-02-12T19:41:25.143Z"
   },
   {
    "duration": 7,
    "start_time": "2022-02-12T19:41:31.168Z"
   },
   {
    "duration": 4,
    "start_time": "2022-02-12T19:41:32.752Z"
   },
   {
    "duration": 5,
    "start_time": "2022-02-12T19:41:39.103Z"
   },
   {
    "duration": 4,
    "start_time": "2022-02-12T19:41:46.855Z"
   },
   {
    "duration": 5,
    "start_time": "2022-02-12T19:41:51.375Z"
   },
   {
    "duration": 9,
    "start_time": "2022-02-12T19:42:04.022Z"
   },
   {
    "duration": 5,
    "start_time": "2022-02-12T19:42:06.407Z"
   },
   {
    "duration": 8,
    "start_time": "2022-02-12T19:42:11.535Z"
   },
   {
    "duration": 5,
    "start_time": "2022-02-12T19:42:13.455Z"
   },
   {
    "duration": 8,
    "start_time": "2022-02-12T19:42:19.902Z"
   },
   {
    "duration": 4,
    "start_time": "2022-02-12T19:42:21.702Z"
   },
   {
    "duration": 6,
    "start_time": "2022-02-12T19:43:02.454Z"
   },
   {
    "duration": 4,
    "start_time": "2022-02-12T19:43:03.894Z"
   },
   {
    "duration": 3,
    "start_time": "2022-02-12T19:54:34.285Z"
   },
   {
    "duration": 89,
    "start_time": "2022-02-12T19:56:15.957Z"
   },
   {
    "duration": 351,
    "start_time": "2022-02-12T19:56:23.301Z"
   },
   {
    "duration": 258,
    "start_time": "2022-02-12T19:56:32.206Z"
   },
   {
    "duration": 622,
    "start_time": "2022-02-12T19:56:40.573Z"
   },
   {
    "duration": 148,
    "start_time": "2022-02-12T19:56:42.517Z"
   },
   {
    "duration": 18,
    "start_time": "2022-02-12T19:56:44.041Z"
   },
   {
    "duration": 25,
    "start_time": "2022-02-12T19:56:48.909Z"
   },
   {
    "duration": 4,
    "start_time": "2022-02-12T19:56:51.796Z"
   },
   {
    "duration": 25,
    "start_time": "2022-02-12T19:56:53.516Z"
   },
   {
    "duration": 4,
    "start_time": "2022-02-12T19:56:55.333Z"
   },
   {
    "duration": 23,
    "start_time": "2022-02-12T19:56:57.427Z"
   },
   {
    "duration": 23,
    "start_time": "2022-02-12T19:57:02.700Z"
   },
   {
    "duration": 22,
    "start_time": "2022-02-12T19:57:12.748Z"
   },
   {
    "duration": 19,
    "start_time": "2022-02-12T19:57:16.884Z"
   },
   {
    "duration": 4,
    "start_time": "2022-02-12T19:57:19.284Z"
   },
   {
    "duration": 24,
    "start_time": "2022-02-12T19:57:20.941Z"
   },
   {
    "duration": 32,
    "start_time": "2022-02-12T19:57:23.177Z"
   },
   {
    "duration": 23,
    "start_time": "2022-02-12T19:57:27.382Z"
   },
   {
    "duration": 57,
    "start_time": "2022-02-12T19:57:39.076Z"
   },
   {
    "duration": 68,
    "start_time": "2022-02-12T19:57:40.547Z"
   },
   {
    "duration": 53,
    "start_time": "2022-02-12T19:57:42.956Z"
   },
   {
    "duration": 7,
    "start_time": "2022-02-12T19:57:44.887Z"
   },
   {
    "duration": 3,
    "start_time": "2022-02-12T19:57:48.045Z"
   },
   {
    "duration": 46,
    "start_time": "2022-02-12T19:57:50.445Z"
   },
   {
    "duration": 6,
    "start_time": "2022-02-12T19:57:55.524Z"
   },
   {
    "duration": 96,
    "start_time": "2022-02-12T19:58:03.429Z"
   },
   {
    "duration": 35,
    "start_time": "2022-02-12T19:58:09.724Z"
   },
   {
    "duration": 4,
    "start_time": "2022-02-12T19:58:12.480Z"
   },
   {
    "duration": 17,
    "start_time": "2022-02-12T19:58:14.651Z"
   },
   {
    "duration": 16,
    "start_time": "2022-02-12T19:58:16.610Z"
   },
   {
    "duration": 16,
    "start_time": "2022-02-12T19:58:17.924Z"
   },
   {
    "duration": 14,
    "start_time": "2022-02-12T19:58:19.355Z"
   },
   {
    "duration": 17,
    "start_time": "2022-02-12T19:58:22.891Z"
   },
   {
    "duration": 15,
    "start_time": "2022-02-12T19:58:26.414Z"
   },
   {
    "duration": 9,
    "start_time": "2022-02-12T19:58:28.433Z"
   },
   {
    "duration": 3,
    "start_time": "2022-02-12T19:58:31.556Z"
   },
   {
    "duration": 3,
    "start_time": "2022-02-12T19:58:32.755Z"
   },
   {
    "duration": 4,
    "start_time": "2022-02-12T19:58:34.896Z"
   },
   {
    "duration": 19,
    "start_time": "2022-02-12T19:58:36.642Z"
   },
   {
    "duration": 19,
    "start_time": "2022-02-12T19:58:38.020Z"
   },
   {
    "duration": 13,
    "start_time": "2022-02-12T19:58:41.050Z"
   },
   {
    "duration": 16,
    "start_time": "2022-02-12T19:58:43.249Z"
   },
   {
    "duration": 14,
    "start_time": "2022-02-12T19:58:45.163Z"
   },
   {
    "duration": 9,
    "start_time": "2022-02-12T19:58:49.931Z"
   },
   {
    "duration": 4,
    "start_time": "2022-02-12T19:58:51.671Z"
   },
   {
    "duration": 6,
    "start_time": "2022-02-12T19:58:53.788Z"
   },
   {
    "duration": 4,
    "start_time": "2022-02-12T19:58:55.451Z"
   },
   {
    "duration": 142,
    "start_time": "2022-02-12T19:59:38.763Z"
   },
   {
    "duration": 53,
    "start_time": "2022-02-12T20:00:24.601Z"
   },
   {
    "duration": 8,
    "start_time": "2022-02-12T20:00:53.773Z"
   },
   {
    "duration": 9,
    "start_time": "2022-02-12T20:01:07.201Z"
   },
   {
    "duration": 3,
    "start_time": "2022-02-12T20:01:56.330Z"
   },
   {
    "duration": 147,
    "start_time": "2022-02-12T20:02:00.418Z"
   },
   {
    "duration": 11,
    "start_time": "2022-02-12T20:02:01.618Z"
   },
   {
    "duration": 25,
    "start_time": "2022-02-12T20:02:03.810Z"
   },
   {
    "duration": 5,
    "start_time": "2022-02-12T20:02:06.496Z"
   },
   {
    "duration": 21,
    "start_time": "2022-02-12T20:02:08.713Z"
   },
   {
    "duration": 4,
    "start_time": "2022-02-12T20:02:09.814Z"
   },
   {
    "duration": 22,
    "start_time": "2022-02-12T20:02:10.940Z"
   },
   {
    "duration": 33,
    "start_time": "2022-02-12T20:02:15.906Z"
   },
   {
    "duration": 24,
    "start_time": "2022-02-12T20:02:17.704Z"
   },
   {
    "duration": 58,
    "start_time": "2022-02-12T20:02:20.197Z"
   },
   {
    "duration": 63,
    "start_time": "2022-02-12T20:02:21.353Z"
   },
   {
    "duration": 56,
    "start_time": "2022-02-12T20:02:22.473Z"
   },
   {
    "duration": 6,
    "start_time": "2022-02-12T20:02:24.875Z"
   },
   {
    "duration": 4,
    "start_time": "2022-02-12T20:02:27.320Z"
   },
   {
    "duration": 42,
    "start_time": "2022-02-12T20:02:29.026Z"
   },
   {
    "duration": 8,
    "start_time": "2022-02-12T20:02:31.370Z"
   },
   {
    "duration": 97,
    "start_time": "2022-02-12T20:02:33.913Z"
   },
   {
    "duration": 33,
    "start_time": "2022-02-12T20:02:37.184Z"
   },
   {
    "duration": 4,
    "start_time": "2022-02-12T20:02:45.208Z"
   },
   {
    "duration": 17,
    "start_time": "2022-02-12T20:02:46.345Z"
   },
   {
    "duration": 15,
    "start_time": "2022-02-12T20:02:47.424Z"
   },
   {
    "duration": 17,
    "start_time": "2022-02-12T20:02:48.545Z"
   },
   {
    "duration": 17,
    "start_time": "2022-02-12T20:02:50.289Z"
   },
   {
    "duration": 18,
    "start_time": "2022-02-12T20:02:51.384Z"
   },
   {
    "duration": 16,
    "start_time": "2022-02-12T20:02:52.729Z"
   },
   {
    "duration": 9,
    "start_time": "2022-02-12T20:02:54.474Z"
   },
   {
    "duration": 7,
    "start_time": "2022-02-12T20:02:56.864Z"
   },
   {
    "duration": 7,
    "start_time": "2022-02-12T20:02:58.272Z"
   },
   {
    "duration": 4,
    "start_time": "2022-02-12T20:02:59.896Z"
   },
   {
    "duration": 19,
    "start_time": "2022-02-12T20:03:02.112Z"
   },
   {
    "duration": 13,
    "start_time": "2022-02-12T20:03:03.760Z"
   },
   {
    "duration": 18,
    "start_time": "2022-02-12T20:03:05.593Z"
   },
   {
    "duration": 13,
    "start_time": "2022-02-12T20:03:07.156Z"
   },
   {
    "duration": 8,
    "start_time": "2022-02-12T20:03:11.330Z"
   },
   {
    "duration": 4,
    "start_time": "2022-02-12T20:03:12.680Z"
   },
   {
    "duration": 7,
    "start_time": "2022-02-12T20:03:14.312Z"
   },
   {
    "duration": 4,
    "start_time": "2022-02-12T20:03:15.826Z"
   },
   {
    "duration": 4,
    "start_time": "2022-02-12T20:48:31.958Z"
   },
   {
    "duration": 4,
    "start_time": "2022-02-12T20:48:34.750Z"
   },
   {
    "duration": 783,
    "start_time": "2022-02-12T20:48:39.595Z"
   },
   {
    "duration": 4,
    "start_time": "2022-02-12T20:49:04.908Z"
   },
   {
    "duration": 529,
    "start_time": "2022-02-12T20:49:07.677Z"
   },
   {
    "duration": 4,
    "start_time": "2022-02-12T20:49:56.642Z"
   },
   {
    "duration": 500,
    "start_time": "2022-02-12T20:49:58.732Z"
   },
   {
    "duration": 648,
    "start_time": "2022-02-12T20:50:01.365Z"
   },
   {
    "duration": 4,
    "start_time": "2022-02-12T21:12:46.590Z"
   },
   {
    "duration": 584,
    "start_time": "2022-02-12T21:12:49.573Z"
   },
   {
    "duration": 4,
    "start_time": "2022-02-12T21:13:14.119Z"
   },
   {
    "duration": 17,
    "start_time": "2022-02-12T21:13:16.653Z"
   },
   {
    "duration": 13,
    "start_time": "2022-02-12T21:16:55.555Z"
   },
   {
    "duration": 17,
    "start_time": "2022-02-12T21:16:57.881Z"
   },
   {
    "duration": 17,
    "start_time": "2022-02-12T21:16:59.850Z"
   },
   {
    "duration": 9,
    "start_time": "2022-02-12T21:17:04.641Z"
   },
   {
    "duration": 4,
    "start_time": "2022-02-12T21:17:07.297Z"
   },
   {
    "duration": 7,
    "start_time": "2022-02-12T21:17:10.004Z"
   },
   {
    "duration": 4,
    "start_time": "2022-02-12T21:17:11.329Z"
   },
   {
    "duration": 4,
    "start_time": "2022-02-12T21:17:43.940Z"
   },
   {
    "duration": 4,
    "start_time": "2022-02-12T21:22:57.645Z"
   },
   {
    "duration": 16,
    "start_time": "2022-02-12T21:22:59.631Z"
   },
   {
    "duration": 15,
    "start_time": "2022-02-12T21:23:01.293Z"
   },
   {
    "duration": 16,
    "start_time": "2022-02-12T21:23:04.791Z"
   },
   {
    "duration": 15,
    "start_time": "2022-02-12T21:23:06.894Z"
   },
   {
    "duration": 17,
    "start_time": "2022-02-12T21:23:08.742Z"
   },
   {
    "duration": 15,
    "start_time": "2022-02-12T21:23:10.373Z"
   },
   {
    "duration": 4,
    "start_time": "2022-02-12T21:23:22.337Z"
   },
   {
    "duration": 3,
    "start_time": "2022-02-12T21:23:23.569Z"
   },
   {
    "duration": 16,
    "start_time": "2022-02-12T21:23:25.630Z"
   },
   {
    "duration": 16,
    "start_time": "2022-02-12T21:23:26.823Z"
   },
   {
    "duration": 15,
    "start_time": "2022-02-12T21:23:27.774Z"
   },
   {
    "duration": 15,
    "start_time": "2022-02-12T21:23:28.806Z"
   },
   {
    "duration": 18,
    "start_time": "2022-02-12T21:23:30.203Z"
   },
   {
    "duration": 15,
    "start_time": "2022-02-12T21:23:31.231Z"
   },
   {
    "duration": 2,
    "start_time": "2022-02-12T21:24:02.471Z"
   },
   {
    "duration": 143,
    "start_time": "2022-02-12T21:24:03.645Z"
   },
   {
    "duration": 11,
    "start_time": "2022-02-12T21:24:04.768Z"
   },
   {
    "duration": 26,
    "start_time": "2022-02-12T21:24:06.958Z"
   },
   {
    "duration": 4,
    "start_time": "2022-02-12T21:24:09.511Z"
   },
   {
    "duration": 25,
    "start_time": "2022-02-12T21:24:11.074Z"
   },
   {
    "duration": 4,
    "start_time": "2022-02-12T21:24:12.254Z"
   },
   {
    "duration": 26,
    "start_time": "2022-02-12T21:24:14.532Z"
   },
   {
    "duration": 36,
    "start_time": "2022-02-12T21:24:16.408Z"
   },
   {
    "duration": 25,
    "start_time": "2022-02-12T21:24:18.286Z"
   },
   {
    "duration": 56,
    "start_time": "2022-02-12T21:24:19.777Z"
   },
   {
    "duration": 71,
    "start_time": "2022-02-12T21:24:20.966Z"
   },
   {
    "duration": 71,
    "start_time": "2022-02-12T21:24:21.922Z"
   },
   {
    "duration": 6,
    "start_time": "2022-02-12T21:24:23.518Z"
   },
   {
    "duration": 3,
    "start_time": "2022-02-12T21:24:26.189Z"
   },
   {
    "duration": 43,
    "start_time": "2022-02-12T21:24:27.702Z"
   },
   {
    "duration": 6,
    "start_time": "2022-02-12T21:24:33.431Z"
   },
   {
    "duration": 112,
    "start_time": "2022-02-12T21:24:35.686Z"
   },
   {
    "duration": 129,
    "start_time": "2022-02-12T21:24:38.749Z"
   },
   {
    "duration": 39,
    "start_time": "2022-02-12T21:24:48.565Z"
   },
   {
    "duration": 4,
    "start_time": "2022-02-12T21:24:57.239Z"
   },
   {
    "duration": 18,
    "start_time": "2022-02-12T21:25:13.650Z"
   },
   {
    "duration": 16,
    "start_time": "2022-02-12T21:25:15.032Z"
   },
   {
    "duration": 16,
    "start_time": "2022-02-12T21:25:16.461Z"
   },
   {
    "duration": 14,
    "start_time": "2022-02-12T21:25:18.310Z"
   },
   {
    "duration": 17,
    "start_time": "2022-02-12T21:25:19.679Z"
   },
   {
    "duration": 17,
    "start_time": "2022-02-12T21:25:20.784Z"
   },
   {
    "duration": 9,
    "start_time": "2022-02-12T21:25:22.532Z"
   },
   {
    "duration": 3,
    "start_time": "2022-02-12T21:25:31.117Z"
   },
   {
    "duration": 5,
    "start_time": "2022-02-12T21:25:33.079Z"
   },
   {
    "duration": 5,
    "start_time": "2022-02-12T21:25:34.621Z"
   },
   {
    "duration": 18,
    "start_time": "2022-02-12T21:25:38.079Z"
   },
   {
    "duration": 13,
    "start_time": "2022-02-12T21:25:40.037Z"
   },
   {
    "duration": 18,
    "start_time": "2022-02-12T21:25:42.508Z"
   },
   {
    "duration": 13,
    "start_time": "2022-02-12T21:25:44.248Z"
   },
   {
    "duration": 9,
    "start_time": "2022-02-12T21:25:48.924Z"
   },
   {
    "duration": 4,
    "start_time": "2022-02-12T21:25:50.930Z"
   },
   {
    "duration": 6,
    "start_time": "2022-02-12T21:25:52.822Z"
   },
   {
    "duration": 4,
    "start_time": "2022-02-12T21:25:54.679Z"
   },
   {
    "duration": 375,
    "start_time": "2022-02-19T17:48:21.358Z"
   },
   {
    "duration": 387,
    "start_time": "2022-02-21T15:26:17.488Z"
   },
   {
    "duration": 825,
    "start_time": "2022-02-21T15:26:24.503Z"
   },
   {
    "duration": 181,
    "start_time": "2022-02-21T15:26:25.935Z"
   },
   {
    "duration": 28,
    "start_time": "2022-02-21T15:26:27.671Z"
   },
   {
    "duration": 32,
    "start_time": "2022-02-21T15:26:29.759Z"
   },
   {
    "duration": 6,
    "start_time": "2022-02-21T15:26:32.893Z"
   }
  ],
  "colab": {
   "collapsed_sections": [
    "E0vqbgi9ay0H",
    "VUC88oWjTJw2"
   ],
   "name": "yandex_music_project_2021.2.ipynb",
   "provenance": []
  },
  "kernelspec": {
   "display_name": "Python 3 (ipykernel)",
   "language": "python",
   "name": "python3"
  },
  "language_info": {
   "codemirror_mode": {
    "name": "ipython",
    "version": 3
   },
   "file_extension": ".py",
   "mimetype": "text/x-python",
   "name": "python",
   "nbconvert_exporter": "python",
   "pygments_lexer": "ipython3",
   "version": "3.9.7"
  },
  "toc": {
   "base_numbering": 1,
   "nav_menu": {},
   "number_sections": true,
   "sideBar": true,
   "skip_h1_title": true,
   "title_cell": "Table of Contents",
   "title_sidebar": "Contents",
   "toc_cell": false,
   "toc_position": {
    "height": "calc(100% - 180px)",
    "left": "10px",
    "top": "150px",
    "width": "407.358px"
   },
   "toc_section_display": true,
   "toc_window_display": true
  }
 },
 "nbformat": 4,
 "nbformat_minor": 1
}
