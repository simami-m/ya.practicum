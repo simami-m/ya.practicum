{
 "cells": [
  {
   "cell_type": "markdown",
   "id": "7804fd76",
   "metadata": {
    "toc": true
   },
   "source": [
    "<h1>Содержание<span class=\"tocSkip\"></span></h1>\n",
    "<div class=\"toc\"><ul class=\"toc-item\"><li><span><a href=\"#Обзор-данных\" data-toc-modified-id=\"Обзор-данных-1\"><span class=\"toc-item-num\">1&nbsp;&nbsp;</span>Обзор данных</a></span></li><li><span><a href=\"#Предобработка-данных.\" data-toc-modified-id=\"Предобработка-данных.-2\"><span class=\"toc-item-num\">2&nbsp;&nbsp;</span>Предобработка данных.</a></span><ul class=\"toc-item\"><li><span><a href=\"#Проверка-данных-на-аномалии-и-исправления.\" data-toc-modified-id=\"Проверка-данных-на-аномалии-и-исправления.-2.1\"><span class=\"toc-item-num\">2.1&nbsp;&nbsp;</span>Проверка данных на аномалии и исправления.</a></span></li><li><span><a href=\"#Изменение-типов-данных.\" data-toc-modified-id=\"Изменение-типов-данных.-2.2\"><span class=\"toc-item-num\">2.2&nbsp;&nbsp;</span>Изменение типов данных.</a></span></li><li><span><a href=\"#Удаление-дубликатов.-Исправление-ошибок-в-данных\" data-toc-modified-id=\"Удаление-дубликатов.-Исправление-ошибок-в-данных-2.3\"><span class=\"toc-item-num\">2.3&nbsp;&nbsp;</span>Удаление дубликатов. Исправление ошибок в данных</a></span></li><li><span><a href=\"#Формирование-дополнительных-датафреймов-словарей,-декомпозиция-исходного-датафрейма.\" data-toc-modified-id=\"Формирование-дополнительных-датафреймов-словарей,-декомпозиция-исходного-датафрейма.-2.4\"><span class=\"toc-item-num\">2.4&nbsp;&nbsp;</span>Формирование дополнительных датафреймов словарей, декомпозиция исходного датафрейма.</a></span></li><li><span><a href=\"#Категоризация-дохода.\" data-toc-modified-id=\"Категоризация-дохода.-2.5\"><span class=\"toc-item-num\">2.5&nbsp;&nbsp;</span>Категоризация дохода.</a></span></li><li><span><a href=\"#Категоризация-целей-кредита.\" data-toc-modified-id=\"Категоризация-целей-кредита.-2.6\"><span class=\"toc-item-num\">2.6&nbsp;&nbsp;</span>Категоризация целей кредита.</a></span></li></ul></li><li><span><a href=\"#Ответы-на-вопросы.\" data-toc-modified-id=\"Ответы-на-вопросы.-3\"><span class=\"toc-item-num\">3&nbsp;&nbsp;</span>Ответы на вопросы.</a></span><ul class=\"toc-item\"><li><span><a href=\"#Вопрос-1:-Есть-ли-зависимость-между-количеством-детей-и-возвратом-кредита-в-срок?\" data-toc-modified-id=\"Вопрос-1:-Есть-ли-зависимость-между-количеством-детей-и-возвратом-кредита-в-срок?-3.1\"><span class=\"toc-item-num\">3.1&nbsp;&nbsp;</span>Вопрос 1: Есть ли зависимость между количеством детей и возвратом кредита в срок?</a></span></li><li><span><a href=\"#Вопрос-2:-Есть-ли-зависимость-между-семейным-положением-и-возвратом-кредита-в-срок?\" data-toc-modified-id=\"Вопрос-2:-Есть-ли-зависимость-между-семейным-положением-и-возвратом-кредита-в-срок?-3.2\"><span class=\"toc-item-num\">3.2&nbsp;&nbsp;</span>Вопрос 2: Есть ли зависимость между семейным положением и возвратом кредита в срок?</a></span></li><li><span><a href=\"#Вопрос-3:-Есть-ли-зависимость-между-уровнем-дохода-и-возвратом-кредита-в-срок?\" data-toc-modified-id=\"Вопрос-3:-Есть-ли-зависимость-между-уровнем-дохода-и-возвратом-кредита-в-срок?-3.3\"><span class=\"toc-item-num\">3.3&nbsp;&nbsp;</span>Вопрос 3: Есть ли зависимость между уровнем дохода и возвратом кредита в срок?</a></span></li><li><span><a href=\"#Вопрос-4:-Как-разные-цели-кредита-влияют-на-его-возврат-в-срок?\" data-toc-modified-id=\"Вопрос-4:-Как-разные-цели-кредита-влияют-на-его-возврат-в-срок?-3.4\"><span class=\"toc-item-num\">3.4&nbsp;&nbsp;</span>Вопрос 4: Как разные цели кредита влияют на его возврат в срок?</a></span></li><li><span><a href=\"#Разные-цели-кредита-по-категориям\" data-toc-modified-id=\"Разные-цели-кредита-по-категориям-3.5\"><span class=\"toc-item-num\">3.5&nbsp;&nbsp;</span>Разные цели кредита по категориям</a></span></li></ul></li><li><span><a href=\"#Общий-вывод:\" data-toc-modified-id=\"Общий-вывод:-4\"><span class=\"toc-item-num\">4&nbsp;&nbsp;</span>Общий вывод:</a></span></li></ul></div>"
   ]
  },
  {
   "cell_type": "markdown",
   "id": "3b23daa0",
   "metadata": {},
   "source": [
    "# Исследование надежности заемщиков."
   ]
  },
  {
   "cell_type": "markdown",
   "id": "247335be",
   "metadata": {},
   "source": [
    "Кредитному отделу банка для построения модели кредитного скоринга (специальная система, оценивающая способность потенциального заёмщика вернуть кредит банку), необходимо получить информацию о влиянии семейного положения и количества детей клиента на погашение кредита в срок. \n",
    "<br>Входными данными для исследования является статистика о платежеспособности клиентов.\n",
    "\n",
    "\n",
    "**Цель исследования** — установить влияет ли семейное положение и количество детей клиента на факт погашения кредита в срок.\n",
    "\n",
    "**Ход исследования:**\n",
    "\n",
    "Исследование будет проходить в несколько этапов:\n",
    "\n",
    "1. Обзор данных.\n",
    "2. Предобработка данных.\n",
    "3. Проверка гипотезы.\n",
    "4. Выводы"
   ]
  },
  {
   "cell_type": "markdown",
   "id": "3aeca6ac",
   "metadata": {},
   "source": [
    "## Обзор данных"
   ]
  },
  {
   "cell_type": "markdown",
   "id": "e5b2c1ae",
   "metadata": {},
   "source": [
    "Для начала составим первое впечатление о данных, предоставленных для исследования. \n",
    "Импортируем необходимые библиотеки (`pandas`, `numpy`, `seaborn`, `matplotlib.pyplot`) и читаем файл с данными `data.csv`.\n",
    "Cохраняем файл в переменную `df`. После этого выводим на экран общую информацию о таблице, а также первые и последние 5 строк."
   ]
  },
  {
   "cell_type": "code",
   "execution_count": 1,
   "id": "8c2361e4",
   "metadata": {},
   "outputs": [
    {
     "name": "stdout",
     "output_type": "stream",
     "text": [
      "<class 'pandas.core.frame.DataFrame'>\n",
      "RangeIndex: 21525 entries, 0 to 21524\n",
      "Data columns (total 12 columns):\n",
      " #   Column            Non-Null Count  Dtype  \n",
      "---  ------            --------------  -----  \n",
      " 0   children          21525 non-null  int64  \n",
      " 1   days_employed     19351 non-null  float64\n",
      " 2   dob_years         21525 non-null  int64  \n",
      " 3   education         21525 non-null  object \n",
      " 4   education_id      21525 non-null  int64  \n",
      " 5   family_status     21525 non-null  object \n",
      " 6   family_status_id  21525 non-null  int64  \n",
      " 7   gender            21525 non-null  object \n",
      " 8   income_type       21525 non-null  object \n",
      " 9   debt              21525 non-null  int64  \n",
      " 10  total_income      19351 non-null  float64\n",
      " 11  purpose           21525 non-null  object \n",
      "dtypes: float64(2), int64(5), object(5)\n",
      "memory usage: 2.0+ MB\n"
     ]
    },
    {
     "name": "stderr",
     "output_type": "stream",
     "text": [
      "/opt/conda/lib/python3.7/site-packages/statsmodels/tools/_testing.py:19: FutureWarning: pandas.util.testing is deprecated. Use the functions in the public API at pandas.testing instead.\n",
      "  import pandas.util.testing as tm\n"
     ]
    },
    {
     "data": {
      "text/html": [
       "<div>\n",
       "<style scoped>\n",
       "    .dataframe tbody tr th:only-of-type {\n",
       "        vertical-align: middle;\n",
       "    }\n",
       "\n",
       "    .dataframe tbody tr th {\n",
       "        vertical-align: top;\n",
       "    }\n",
       "\n",
       "    .dataframe thead th {\n",
       "        text-align: right;\n",
       "    }\n",
       "</style>\n",
       "<table border=\"1\" class=\"dataframe\">\n",
       "  <thead>\n",
       "    <tr style=\"text-align: right;\">\n",
       "      <th></th>\n",
       "      <th>children</th>\n",
       "      <th>days_employed</th>\n",
       "      <th>dob_years</th>\n",
       "      <th>education</th>\n",
       "      <th>education_id</th>\n",
       "      <th>family_status</th>\n",
       "      <th>family_status_id</th>\n",
       "      <th>gender</th>\n",
       "      <th>income_type</th>\n",
       "      <th>debt</th>\n",
       "      <th>total_income</th>\n",
       "      <th>purpose</th>\n",
       "    </tr>\n",
       "  </thead>\n",
       "  <tbody>\n",
       "    <tr>\n",
       "      <th>0</th>\n",
       "      <td>1</td>\n",
       "      <td>-8437.673028</td>\n",
       "      <td>42</td>\n",
       "      <td>высшее</td>\n",
       "      <td>0</td>\n",
       "      <td>женат / замужем</td>\n",
       "      <td>0</td>\n",
       "      <td>F</td>\n",
       "      <td>сотрудник</td>\n",
       "      <td>0</td>\n",
       "      <td>253875.639453</td>\n",
       "      <td>покупка жилья</td>\n",
       "    </tr>\n",
       "    <tr>\n",
       "      <th>1</th>\n",
       "      <td>1</td>\n",
       "      <td>-4024.803754</td>\n",
       "      <td>36</td>\n",
       "      <td>среднее</td>\n",
       "      <td>1</td>\n",
       "      <td>женат / замужем</td>\n",
       "      <td>0</td>\n",
       "      <td>F</td>\n",
       "      <td>сотрудник</td>\n",
       "      <td>0</td>\n",
       "      <td>112080.014102</td>\n",
       "      <td>приобретение автомобиля</td>\n",
       "    </tr>\n",
       "    <tr>\n",
       "      <th>2</th>\n",
       "      <td>0</td>\n",
       "      <td>-5623.422610</td>\n",
       "      <td>33</td>\n",
       "      <td>Среднее</td>\n",
       "      <td>1</td>\n",
       "      <td>женат / замужем</td>\n",
       "      <td>0</td>\n",
       "      <td>M</td>\n",
       "      <td>сотрудник</td>\n",
       "      <td>0</td>\n",
       "      <td>145885.952297</td>\n",
       "      <td>покупка жилья</td>\n",
       "    </tr>\n",
       "    <tr>\n",
       "      <th>3</th>\n",
       "      <td>3</td>\n",
       "      <td>-4124.747207</td>\n",
       "      <td>32</td>\n",
       "      <td>среднее</td>\n",
       "      <td>1</td>\n",
       "      <td>женат / замужем</td>\n",
       "      <td>0</td>\n",
       "      <td>M</td>\n",
       "      <td>сотрудник</td>\n",
       "      <td>0</td>\n",
       "      <td>267628.550329</td>\n",
       "      <td>дополнительное образование</td>\n",
       "    </tr>\n",
       "    <tr>\n",
       "      <th>4</th>\n",
       "      <td>0</td>\n",
       "      <td>340266.072047</td>\n",
       "      <td>53</td>\n",
       "      <td>среднее</td>\n",
       "      <td>1</td>\n",
       "      <td>гражданский брак</td>\n",
       "      <td>1</td>\n",
       "      <td>F</td>\n",
       "      <td>пенсионер</td>\n",
       "      <td>0</td>\n",
       "      <td>158616.077870</td>\n",
       "      <td>сыграть свадьбу</td>\n",
       "    </tr>\n",
       "  </tbody>\n",
       "</table>\n",
       "</div>"
      ],
      "text/plain": [
       "   children  days_employed  dob_years education  education_id  \\\n",
       "0         1   -8437.673028         42    высшее             0   \n",
       "1         1   -4024.803754         36   среднее             1   \n",
       "2         0   -5623.422610         33   Среднее             1   \n",
       "3         3   -4124.747207         32   среднее             1   \n",
       "4         0  340266.072047         53   среднее             1   \n",
       "\n",
       "      family_status  family_status_id gender income_type  debt   total_income  \\\n",
       "0   женат / замужем                 0      F   сотрудник     0  253875.639453   \n",
       "1   женат / замужем                 0      F   сотрудник     0  112080.014102   \n",
       "2   женат / замужем                 0      M   сотрудник     0  145885.952297   \n",
       "3   женат / замужем                 0      M   сотрудник     0  267628.550329   \n",
       "4  гражданский брак                 1      F   пенсионер     0  158616.077870   \n",
       "\n",
       "                      purpose  \n",
       "0               покупка жилья  \n",
       "1     приобретение автомобиля  \n",
       "2               покупка жилья  \n",
       "3  дополнительное образование  \n",
       "4             сыграть свадьбу  "
      ]
     },
     "metadata": {},
     "output_type": "display_data"
    },
    {
     "data": {
      "text/html": [
       "<div>\n",
       "<style scoped>\n",
       "    .dataframe tbody tr th:only-of-type {\n",
       "        vertical-align: middle;\n",
       "    }\n",
       "\n",
       "    .dataframe tbody tr th {\n",
       "        vertical-align: top;\n",
       "    }\n",
       "\n",
       "    .dataframe thead th {\n",
       "        text-align: right;\n",
       "    }\n",
       "</style>\n",
       "<table border=\"1\" class=\"dataframe\">\n",
       "  <thead>\n",
       "    <tr style=\"text-align: right;\">\n",
       "      <th></th>\n",
       "      <th>children</th>\n",
       "      <th>days_employed</th>\n",
       "      <th>dob_years</th>\n",
       "      <th>education</th>\n",
       "      <th>education_id</th>\n",
       "      <th>family_status</th>\n",
       "      <th>family_status_id</th>\n",
       "      <th>gender</th>\n",
       "      <th>income_type</th>\n",
       "      <th>debt</th>\n",
       "      <th>total_income</th>\n",
       "      <th>purpose</th>\n",
       "    </tr>\n",
       "  </thead>\n",
       "  <tbody>\n",
       "    <tr>\n",
       "      <th>21520</th>\n",
       "      <td>1</td>\n",
       "      <td>-4529.316663</td>\n",
       "      <td>43</td>\n",
       "      <td>среднее</td>\n",
       "      <td>1</td>\n",
       "      <td>гражданский брак</td>\n",
       "      <td>1</td>\n",
       "      <td>F</td>\n",
       "      <td>компаньон</td>\n",
       "      <td>0</td>\n",
       "      <td>224791.862382</td>\n",
       "      <td>операции с жильем</td>\n",
       "    </tr>\n",
       "    <tr>\n",
       "      <th>21521</th>\n",
       "      <td>0</td>\n",
       "      <td>343937.404131</td>\n",
       "      <td>67</td>\n",
       "      <td>среднее</td>\n",
       "      <td>1</td>\n",
       "      <td>женат / замужем</td>\n",
       "      <td>0</td>\n",
       "      <td>F</td>\n",
       "      <td>пенсионер</td>\n",
       "      <td>0</td>\n",
       "      <td>155999.806512</td>\n",
       "      <td>сделка с автомобилем</td>\n",
       "    </tr>\n",
       "    <tr>\n",
       "      <th>21522</th>\n",
       "      <td>1</td>\n",
       "      <td>-2113.346888</td>\n",
       "      <td>38</td>\n",
       "      <td>среднее</td>\n",
       "      <td>1</td>\n",
       "      <td>гражданский брак</td>\n",
       "      <td>1</td>\n",
       "      <td>M</td>\n",
       "      <td>сотрудник</td>\n",
       "      <td>1</td>\n",
       "      <td>89672.561153</td>\n",
       "      <td>недвижимость</td>\n",
       "    </tr>\n",
       "    <tr>\n",
       "      <th>21523</th>\n",
       "      <td>3</td>\n",
       "      <td>-3112.481705</td>\n",
       "      <td>38</td>\n",
       "      <td>среднее</td>\n",
       "      <td>1</td>\n",
       "      <td>женат / замужем</td>\n",
       "      <td>0</td>\n",
       "      <td>M</td>\n",
       "      <td>сотрудник</td>\n",
       "      <td>1</td>\n",
       "      <td>244093.050500</td>\n",
       "      <td>на покупку своего автомобиля</td>\n",
       "    </tr>\n",
       "    <tr>\n",
       "      <th>21524</th>\n",
       "      <td>2</td>\n",
       "      <td>-1984.507589</td>\n",
       "      <td>40</td>\n",
       "      <td>среднее</td>\n",
       "      <td>1</td>\n",
       "      <td>женат / замужем</td>\n",
       "      <td>0</td>\n",
       "      <td>F</td>\n",
       "      <td>сотрудник</td>\n",
       "      <td>0</td>\n",
       "      <td>82047.418899</td>\n",
       "      <td>на покупку автомобиля</td>\n",
       "    </tr>\n",
       "  </tbody>\n",
       "</table>\n",
       "</div>"
      ],
      "text/plain": [
       "       children  days_employed  dob_years education  education_id  \\\n",
       "21520         1   -4529.316663         43   среднее             1   \n",
       "21521         0  343937.404131         67   среднее             1   \n",
       "21522         1   -2113.346888         38   среднее             1   \n",
       "21523         3   -3112.481705         38   среднее             1   \n",
       "21524         2   -1984.507589         40   среднее             1   \n",
       "\n",
       "          family_status  family_status_id gender income_type  debt  \\\n",
       "21520  гражданский брак                 1      F   компаньон     0   \n",
       "21521   женат / замужем                 0      F   пенсионер     0   \n",
       "21522  гражданский брак                 1      M   сотрудник     1   \n",
       "21523   женат / замужем                 0      M   сотрудник     1   \n",
       "21524   женат / замужем                 0      F   сотрудник     0   \n",
       "\n",
       "        total_income                       purpose  \n",
       "21520  224791.862382             операции с жильем  \n",
       "21521  155999.806512          сделка с автомобилем  \n",
       "21522   89672.561153                  недвижимость  \n",
       "21523  244093.050500  на покупку своего автомобиля  \n",
       "21524   82047.418899         на покупку автомобиля  "
      ]
     },
     "metadata": {},
     "output_type": "display_data"
    }
   ],
   "source": [
    "import pandas as pd #импорт библиотек\n",
    "import numpy as np\n",
    "import seaborn as sns\n",
    "\n",
    "df = pd.read_csv('/datasets/data.csv') #прочтение файла в переменную df\n",
    "df.info() #получение общей информации о файле\n",
    "display(df.head()) #вывод первых 5 строк таблицы\n",
    "display(df.tail()) #вывод последних 5 строк таблицы"
   ]
  },
  {
   "cell_type": "markdown",
   "id": "cd2ba4c5",
   "metadata": {},
   "source": [
    " "
   ]
  },
  {
   "cell_type": "code",
   "execution_count": 2,
   "id": "deecd604",
   "metadata": {},
   "outputs": [
    {
     "data": {
      "text/html": [
       "<div>\n",
       "<style scoped>\n",
       "    .dataframe tbody tr th:only-of-type {\n",
       "        vertical-align: middle;\n",
       "    }\n",
       "\n",
       "    .dataframe tbody tr th {\n",
       "        vertical-align: top;\n",
       "    }\n",
       "\n",
       "    .dataframe thead th {\n",
       "        text-align: right;\n",
       "    }\n",
       "</style>\n",
       "<table border=\"1\" class=\"dataframe\">\n",
       "  <thead>\n",
       "    <tr style=\"text-align: right;\">\n",
       "      <th></th>\n",
       "      <th>children</th>\n",
       "      <th>days_employed</th>\n",
       "      <th>dob_years</th>\n",
       "      <th>education_id</th>\n",
       "      <th>family_status_id</th>\n",
       "      <th>debt</th>\n",
       "      <th>total_income</th>\n",
       "    </tr>\n",
       "  </thead>\n",
       "  <tbody>\n",
       "    <tr>\n",
       "      <th>count</th>\n",
       "      <td>21525.000000</td>\n",
       "      <td>19351.000000</td>\n",
       "      <td>21525.000000</td>\n",
       "      <td>21525.000000</td>\n",
       "      <td>21525.000000</td>\n",
       "      <td>21525.000000</td>\n",
       "      <td>1.935100e+04</td>\n",
       "    </tr>\n",
       "    <tr>\n",
       "      <th>mean</th>\n",
       "      <td>0.538908</td>\n",
       "      <td>63046.497661</td>\n",
       "      <td>43.293380</td>\n",
       "      <td>0.817236</td>\n",
       "      <td>0.972544</td>\n",
       "      <td>0.080883</td>\n",
       "      <td>1.674223e+05</td>\n",
       "    </tr>\n",
       "    <tr>\n",
       "      <th>std</th>\n",
       "      <td>1.381587</td>\n",
       "      <td>140827.311974</td>\n",
       "      <td>12.574584</td>\n",
       "      <td>0.548138</td>\n",
       "      <td>1.420324</td>\n",
       "      <td>0.272661</td>\n",
       "      <td>1.029716e+05</td>\n",
       "    </tr>\n",
       "    <tr>\n",
       "      <th>min</th>\n",
       "      <td>-1.000000</td>\n",
       "      <td>-18388.949901</td>\n",
       "      <td>0.000000</td>\n",
       "      <td>0.000000</td>\n",
       "      <td>0.000000</td>\n",
       "      <td>0.000000</td>\n",
       "      <td>2.066726e+04</td>\n",
       "    </tr>\n",
       "    <tr>\n",
       "      <th>25%</th>\n",
       "      <td>0.000000</td>\n",
       "      <td>-2747.423625</td>\n",
       "      <td>33.000000</td>\n",
       "      <td>1.000000</td>\n",
       "      <td>0.000000</td>\n",
       "      <td>0.000000</td>\n",
       "      <td>1.030532e+05</td>\n",
       "    </tr>\n",
       "    <tr>\n",
       "      <th>50%</th>\n",
       "      <td>0.000000</td>\n",
       "      <td>-1203.369529</td>\n",
       "      <td>42.000000</td>\n",
       "      <td>1.000000</td>\n",
       "      <td>0.000000</td>\n",
       "      <td>0.000000</td>\n",
       "      <td>1.450179e+05</td>\n",
       "    </tr>\n",
       "    <tr>\n",
       "      <th>75%</th>\n",
       "      <td>1.000000</td>\n",
       "      <td>-291.095954</td>\n",
       "      <td>53.000000</td>\n",
       "      <td>1.000000</td>\n",
       "      <td>1.000000</td>\n",
       "      <td>0.000000</td>\n",
       "      <td>2.034351e+05</td>\n",
       "    </tr>\n",
       "    <tr>\n",
       "      <th>max</th>\n",
       "      <td>20.000000</td>\n",
       "      <td>401755.400475</td>\n",
       "      <td>75.000000</td>\n",
       "      <td>4.000000</td>\n",
       "      <td>4.000000</td>\n",
       "      <td>1.000000</td>\n",
       "      <td>2.265604e+06</td>\n",
       "    </tr>\n",
       "  </tbody>\n",
       "</table>\n",
       "</div>"
      ],
      "text/plain": [
       "           children  days_employed     dob_years  education_id  \\\n",
       "count  21525.000000   19351.000000  21525.000000  21525.000000   \n",
       "mean       0.538908   63046.497661     43.293380      0.817236   \n",
       "std        1.381587  140827.311974     12.574584      0.548138   \n",
       "min       -1.000000  -18388.949901      0.000000      0.000000   \n",
       "25%        0.000000   -2747.423625     33.000000      1.000000   \n",
       "50%        0.000000   -1203.369529     42.000000      1.000000   \n",
       "75%        1.000000    -291.095954     53.000000      1.000000   \n",
       "max       20.000000  401755.400475     75.000000      4.000000   \n",
       "\n",
       "       family_status_id          debt  total_income  \n",
       "count      21525.000000  21525.000000  1.935100e+04  \n",
       "mean           0.972544      0.080883  1.674223e+05  \n",
       "std            1.420324      0.272661  1.029716e+05  \n",
       "min            0.000000      0.000000  2.066726e+04  \n",
       "25%            0.000000      0.000000  1.030532e+05  \n",
       "50%            0.000000      0.000000  1.450179e+05  \n",
       "75%            1.000000      0.000000  2.034351e+05  \n",
       "max            4.000000      1.000000  2.265604e+06  "
      ]
     },
     "execution_count": 2,
     "metadata": {},
     "output_type": "execute_result"
    }
   ],
   "source": [
    "df.describe() #вывод статистических сведений о данных файла"
   ]
  },
  {
   "cell_type": "code",
   "execution_count": 3,
   "id": "b7e0cf7a",
   "metadata": {},
   "outputs": [
    {
     "data": {
      "text/plain": [
       "Index(['children', 'days_employed', 'dob_years', 'education', 'education_id',\n",
       "       'family_status', 'family_status_id', 'gender', 'income_type', 'debt',\n",
       "       'total_income', 'purpose'],\n",
       "      dtype='object')"
      ]
     },
     "execution_count": 3,
     "metadata": {},
     "output_type": "execute_result"
    }
   ],
   "source": [
    "df.columns #перечень названий столбцов файла df"
   ]
  },
  {
   "cell_type": "code",
   "execution_count": 4,
   "id": "f6a9538b",
   "metadata": {},
   "outputs": [
    {
     "data": {
      "text/plain": [
       "['children',\n",
       " 'days_employed',\n",
       " 'dob_years',\n",
       " 'education',\n",
       " 'education_id',\n",
       " 'family_status',\n",
       " 'family_status_id',\n",
       " 'gender',\n",
       " 'income_type',\n",
       " 'debt',\n",
       " 'total_income',\n",
       " 'purpose']"
      ]
     },
     "execution_count": 4,
     "metadata": {},
     "output_type": "execute_result"
    }
   ],
   "source": [
    "[c for c in df.columns] #перечень названий столбцов файла df построчно"
   ]
  },
  {
   "cell_type": "markdown",
   "id": "923e69a1",
   "metadata": {},
   "source": [
    "Всего в таблице 21 525 строк и 12 столбцов. Типы данных в столбцах float64, int64 и object. <br> В 2 столбцах `days_employed` и `total_income` есть пропущенные значения."
   ]
  },
  {
   "cell_type": "markdown",
   "id": "d924c1ce",
   "metadata": {},
   "source": [
    "**Выводы** <br>\n",
    "В строках таблицы содержится информация о клиенте банка: количество детей, семейное положение, образование, сумма ежемесячного дохода, цель получения кредита, а также имел ли клиент задолженность по возврату кредитов. Для проведения исследования информации в файле достаточно, но есть пропуски в данных. Прежде, чем приступить к анализу - необходимо устранить эти пропуски и проверить данные на корректность и возможные дубликаты. "
   ]
  },
  {
   "cell_type": "markdown",
   "id": "03dd97cd",
   "metadata": {},
   "source": [
    "## Предобработка данных."
   ]
  },
  {
   "cell_type": "markdown",
   "id": "5f855f92",
   "metadata": {},
   "source": [
    "### Проверка данных на аномалии и исправления."
   ]
  },
  {
   "cell_type": "markdown",
   "id": "de122e89",
   "metadata": {},
   "source": [
    "Ранее мы обнаружили пропуски данных в двух столбцах:\n",
    "* `days_employed` - общий трудовой стаж в днях\n",
    "* `total_income`- ежемесячный доход\n",
    "\n",
    "Рассмотрим подробнее и найдем какую долю составляют пропущенные значения в каждом из столбцов. "
   ]
  },
  {
   "cell_type": "code",
   "execution_count": 5,
   "id": "3e39da08",
   "metadata": {},
   "outputs": [
    {
     "data": {
      "text/plain": [
       "children               0\n",
       "days_employed       2174\n",
       "dob_years              0\n",
       "education              0\n",
       "education_id           0\n",
       "family_status          0\n",
       "family_status_id       0\n",
       "gender                 0\n",
       "income_type            0\n",
       "debt                   0\n",
       "total_income        2174\n",
       "purpose                0\n",
       "dtype: int64"
      ]
     },
     "execution_count": 5,
     "metadata": {},
     "output_type": "execute_result"
    }
   ],
   "source": [
    "df.isna().sum() #поверка пропусков в столбцах"
   ]
  },
  {
   "cell_type": "markdown",
   "id": "9e6a699e",
   "metadata": {},
   "source": [
    "В обоих столбцах сумма пропущенных значений равна = 2 174 шт. Есть подозрение, что эти пропуски находятся в одних и тех же строках. Проверим эту догадку: "
   ]
  },
  {
   "cell_type": "code",
   "execution_count": 6,
   "id": "bef9a6d6",
   "metadata": {},
   "outputs": [
    {
     "data": {
      "text/html": [
       "<div>\n",
       "<style scoped>\n",
       "    .dataframe tbody tr th:only-of-type {\n",
       "        vertical-align: middle;\n",
       "    }\n",
       "\n",
       "    .dataframe tbody tr th {\n",
       "        vertical-align: top;\n",
       "    }\n",
       "\n",
       "    .dataframe thead th {\n",
       "        text-align: right;\n",
       "    }\n",
       "</style>\n",
       "<table border=\"1\" class=\"dataframe\">\n",
       "  <thead>\n",
       "    <tr style=\"text-align: right;\">\n",
       "      <th></th>\n",
       "      <th>days_employed</th>\n",
       "      <th>total_income</th>\n",
       "    </tr>\n",
       "  </thead>\n",
       "  <tbody>\n",
       "    <tr>\n",
       "      <th>12</th>\n",
       "      <td>NaN</td>\n",
       "      <td>NaN</td>\n",
       "    </tr>\n",
       "    <tr>\n",
       "      <th>26</th>\n",
       "      <td>NaN</td>\n",
       "      <td>NaN</td>\n",
       "    </tr>\n",
       "    <tr>\n",
       "      <th>29</th>\n",
       "      <td>NaN</td>\n",
       "      <td>NaN</td>\n",
       "    </tr>\n",
       "    <tr>\n",
       "      <th>41</th>\n",
       "      <td>NaN</td>\n",
       "      <td>NaN</td>\n",
       "    </tr>\n",
       "    <tr>\n",
       "      <th>55</th>\n",
       "      <td>NaN</td>\n",
       "      <td>NaN</td>\n",
       "    </tr>\n",
       "    <tr>\n",
       "      <th>...</th>\n",
       "      <td>...</td>\n",
       "      <td>...</td>\n",
       "    </tr>\n",
       "    <tr>\n",
       "      <th>21489</th>\n",
       "      <td>NaN</td>\n",
       "      <td>NaN</td>\n",
       "    </tr>\n",
       "    <tr>\n",
       "      <th>21495</th>\n",
       "      <td>NaN</td>\n",
       "      <td>NaN</td>\n",
       "    </tr>\n",
       "    <tr>\n",
       "      <th>21497</th>\n",
       "      <td>NaN</td>\n",
       "      <td>NaN</td>\n",
       "    </tr>\n",
       "    <tr>\n",
       "      <th>21502</th>\n",
       "      <td>NaN</td>\n",
       "      <td>NaN</td>\n",
       "    </tr>\n",
       "    <tr>\n",
       "      <th>21510</th>\n",
       "      <td>NaN</td>\n",
       "      <td>NaN</td>\n",
       "    </tr>\n",
       "  </tbody>\n",
       "</table>\n",
       "<p>2174 rows × 2 columns</p>\n",
       "</div>"
      ],
      "text/plain": [
       "       days_employed  total_income\n",
       "12               NaN           NaN\n",
       "26               NaN           NaN\n",
       "29               NaN           NaN\n",
       "41               NaN           NaN\n",
       "55               NaN           NaN\n",
       "...              ...           ...\n",
       "21489            NaN           NaN\n",
       "21495            NaN           NaN\n",
       "21497            NaN           NaN\n",
       "21502            NaN           NaN\n",
       "21510            NaN           NaN\n",
       "\n",
       "[2174 rows x 2 columns]"
      ]
     },
     "execution_count": 6,
     "metadata": {},
     "output_type": "execute_result"
    }
   ],
   "source": [
    "df_isna = df[['days_employed','total_income']]  #таблица состоящую только из двух столбцов с пропусками\n",
    "df_isna[df_isna.isna().any(axis=1)] #выводим все сроки с пустыми значениями в двух столбцах"
   ]
  },
  {
   "cell_type": "markdown",
   "id": "e958b8b5",
   "metadata": {},
   "source": [
    "Количество строк с пропущенными данными в обоих столбцах = 2174 шт, что соответствует числу пропусков в каждом из столбцов. Значит пропуски находятся в одних и тех же строках в колонках трудового стажа и ежемесячного дохода."
   ]
  },
  {
   "cell_type": "code",
   "execution_count": 7,
   "id": "70960ac0",
   "metadata": {},
   "outputs": [
    {
     "data": {
      "text/plain": [
       "children            0.000000\n",
       "days_employed       0.100999\n",
       "dob_years           0.000000\n",
       "education           0.000000\n",
       "education_id        0.000000\n",
       "family_status       0.000000\n",
       "family_status_id    0.000000\n",
       "gender              0.000000\n",
       "income_type         0.000000\n",
       "debt                0.000000\n",
       "total_income        0.100999\n",
       "purpose             0.000000\n",
       "dtype: float64"
      ]
     },
     "execution_count": 7,
     "metadata": {},
     "output_type": "execute_result"
    }
   ],
   "source": [
    "df.isna().mean()"
   ]
  },
  {
   "cell_type": "code",
   "execution_count": 8,
   "id": "07ba286b",
   "metadata": {},
   "outputs": [
    {
     "name": "stdout",
     "output_type": "stream",
     "text": [
      "Доля пропущенных значений в колонке days_employed от общего числа строк: 10%\n",
      "Доля пропущенных значений в колонке total_income от общего числа строк:  10%\n"
     ]
    }
   ],
   "source": [
    "percentage_na_days_employed = df['days_employed'].isna().sum() / df.shape[0]\n",
    "percentage_na_total_income = df['total_income'].isna().sum() / df.shape[0]\n",
    "print(f'Доля пропущенных значений в колонке days_employed от общего числа строк: {percentage_na_days_employed:0.0%}')\n",
    "print(f'Доля пропущенных значений в колонке total_income от общего числа строк:  {percentage_na_total_income:0.0%}')"
   ]
  },
  {
   "cell_type": "markdown",
   "id": "d5d2d276",
   "metadata": {},
   "source": [
    "Пропущенные значения могли появиться в колонках по нескольким причинам:\n",
    "* клиенты не предоставили информацию\n",
    "* клиенты никогда не работали и не имеют трудового стажа и дохода\n",
    "\n",
    "Мы рассчитали долю пропущенных значений - она составила 10% для каждой колонки.<br>\n",
    "Это достаточно большое значение и удаление этих строк может существенно повлиять на результат исследования. Поэтому будет целесообразно заполнить пропуски значениями, а не удалять строки с ними.<br>\n",
    "\n",
    "Рабочий стаж в днях и средний доход являются — количественными переменными. Пропуски в таких переменных заполняют характерными значениями. \n",
    "Характерные значения - это значения, характеризующие состояние выборки. Для оценки типичных значений данных из выборки, можно применить среднее арифметическое или медиану.\n",
    "Но поскольку среднее значение некорректно характеризует данные, когда есть значения сильно выделяющиеся среди большинства (выбросы), то лучше применить медиану.\n"
   ]
  },
  {
   "cell_type": "markdown",
   "id": "b8f0ce16",
   "metadata": {},
   "source": [
    "**Заменим пропущенные данные в двух столбцах медианными значениями.**"
   ]
  },
  {
   "cell_type": "markdown",
   "id": "aaae8888",
   "metadata": {},
   "source": [
    "**Рассчитаем медиану для колонки с данными трудового стажа:**"
   ]
  },
  {
   "cell_type": "code",
   "execution_count": 9,
   "id": "410f46ff",
   "metadata": {},
   "outputs": [
    {
     "data": {
      "text/plain": [
       "-1203.369528770489"
      ]
     },
     "execution_count": 9,
     "metadata": {},
     "output_type": "execute_result"
    }
   ],
   "source": [
    "df['days_employed'].median()"
   ]
  },
  {
   "cell_type": "markdown",
   "id": "f430f900",
   "metadata": {},
   "source": [
    "Медиана имеет отрицательное значение. Это говорит о том, что большая часть данных по столбцу является отрицательным числом. <br>\n",
    "Проверим какие значения встречаются в данной колонке."
   ]
  },
  {
   "cell_type": "code",
   "execution_count": 10,
   "id": "71895cb9",
   "metadata": {},
   "outputs": [
    {
     "data": {
      "text/plain": [
       "<matplotlib.axes._subplots.AxesSubplot at 0x7f7d47c45450>"
      ]
     },
     "execution_count": 10,
     "metadata": {},
     "output_type": "execute_result"
    },
    {
     "data": {
      "image/png": "[encoded data removed]",
      "text/plain": [
       "<Figure size 432x288 with 1 Axes>"
      ]
     },
     "metadata": {
      "needs_background": "light"
     },
     "output_type": "display_data"
    }
   ],
   "source": [
    "df['days_employed'].hist() #гистограмма по столбцу со стажем"
   ]
  },
  {
   "cell_type": "markdown",
   "id": "d4f58ba2",
   "metadata": {},
   "source": [
    "По гисторамме видно две проблемы в данных:\n",
    "* есть отрицательные значения (здесь скорее всего ошибка в знаке - скорректируем, возьмем числа по модулю)\n",
    "* есть пул данных с очень большими значениями (далее рассмотрим более подробно) <br>\n",
    "\n",
    "Проверим сколько всего значений меньше ноля, а сколько больше."
   ]
  },
  {
   "cell_type": "code",
   "execution_count": 11,
   "id": "f93c8663",
   "metadata": {},
   "outputs": [
    {
     "name": "stdout",
     "output_type": "stream",
     "text": [
      "Трудовой стаж - отрицательные значения, строк: 15906\n",
      "Трудовой стаж - нулевые значения, строк: 0\n",
      "Трудовой стаж - положительные значения, строк: 3445\n"
     ]
    }
   ],
   "source": [
    "print('Трудовой стаж - отрицательные значения, строк:', df[df['days_employed'] < 0]['days_employed'].count())\n",
    "print('Трудовой стаж - нулевые значения, строк:', df[df['days_employed'] == 0]['days_employed'].count())\n",
    "print('Трудовой стаж - положительные значения, строк:', df[df['days_employed'] > 0]['days_employed'].count())"
   ]
  },
  {
   "cell_type": "markdown",
   "id": "52db24b9",
   "metadata": {},
   "source": [
    "Расчитаем показатели отдельно для положительных и отрицательных значений:"
   ]
  },
  {
   "cell_type": "code",
   "execution_count": 12,
   "id": "4c00d3b3",
   "metadata": {},
   "outputs": [
    {
     "data": {
      "text/html": [
       "<div>\n",
       "<style scoped>\n",
       "    .dataframe tbody tr th:only-of-type {\n",
       "        vertical-align: middle;\n",
       "    }\n",
       "\n",
       "    .dataframe tbody tr th {\n",
       "        vertical-align: top;\n",
       "    }\n",
       "\n",
       "    .dataframe thead th {\n",
       "        text-align: right;\n",
       "    }\n",
       "</style>\n",
       "<table border=\"1\" class=\"dataframe\">\n",
       "  <thead>\n",
       "    <tr style=\"text-align: right;\">\n",
       "      <th></th>\n",
       "      <th>count</th>\n",
       "      <th>mean</th>\n",
       "      <th>median</th>\n",
       "      <th>min</th>\n",
       "      <th>max</th>\n",
       "    </tr>\n",
       "    <tr>\n",
       "      <th>days_employed</th>\n",
       "      <th></th>\n",
       "      <th></th>\n",
       "      <th></th>\n",
       "      <th></th>\n",
       "      <th></th>\n",
       "    </tr>\n",
       "  </thead>\n",
       "  <tbody>\n",
       "    <tr>\n",
       "      <th>False</th>\n",
       "      <td>15906</td>\n",
       "      <td>-2353.015932</td>\n",
       "      <td>-1630.019381</td>\n",
       "      <td>-18388.949901</td>\n",
       "      <td>-24.141633</td>\n",
       "    </tr>\n",
       "    <tr>\n",
       "      <th>True</th>\n",
       "      <td>3445</td>\n",
       "      <td>365004.309916</td>\n",
       "      <td>365213.306266</td>\n",
       "      <td>328728.720605</td>\n",
       "      <td>401755.400475</td>\n",
       "    </tr>\n",
       "  </tbody>\n",
       "</table>\n",
       "</div>"
      ],
      "text/plain": [
       "               count           mean         median            min  \\\n",
       "days_employed                                                       \n",
       "False          15906   -2353.015932   -1630.019381  -18388.949901   \n",
       "True            3445  365004.309916  365213.306266  328728.720605   \n",
       "\n",
       "                         max  \n",
       "days_employed                 \n",
       "False             -24.141633  \n",
       "True           401755.400475  "
      ]
     },
     "execution_count": 12,
     "metadata": {},
     "output_type": "execute_result"
    }
   ],
   "source": [
    "df.groupby([df['days_employed'] > 0])['days_employed'].agg(['count','mean','median','min', 'max'])"
   ]
  },
  {
   "cell_type": "markdown",
   "id": "3d50dd65",
   "metadata": {},
   "source": [
    "У положительных значений очень большая медиана, миниальное и  максимальное положительные значения 328 728 и 401 755 соответственно.\n"
   ]
  },
  {
   "cell_type": "code",
   "execution_count": 13,
   "id": "6bbb2785",
   "metadata": {},
   "outputs": [
    {
     "data": {
      "text/plain": [
       "913.1333333333333"
      ]
     },
     "execution_count": 13,
     "metadata": {},
     "output_type": "execute_result"
    }
   ],
   "source": [
    "328728 / 360"
   ]
  },
  {
   "cell_type": "code",
   "execution_count": 14,
   "id": "a8bee49a",
   "metadata": {},
   "outputs": [
    {
     "data": {
      "text/plain": [
       "1115.986111111111"
      ]
     },
     "execution_count": 14,
     "metadata": {},
     "output_type": "execute_result"
    }
   ],
   "source": [
    "401755 / 360"
   ]
  },
  {
   "cell_type": "markdown",
   "id": "9a289144",
   "metadata": {},
   "source": [
    "Это более 900 лет трудового стажа. <br> \n",
    "Видимо, мы имеем дело с ошибочными данными в этих строках. <br> \n",
    "В аналогичной ситуации на практике пришлось бы обращаться к источнику данных и уточнять информацию, поскольку в проекте нет такой возможности, то сделаем предположение, что стаж здесь указан в часах, а не в днях. Проверим:"
   ]
  },
  {
   "cell_type": "code",
   "execution_count": 15,
   "id": "26681893",
   "metadata": {},
   "outputs": [
    {
     "data": {
      "text/plain": [
       "38.047222222222224"
      ]
     },
     "execution_count": 15,
     "metadata": {},
     "output_type": "execute_result"
    }
   ],
   "source": [
    "328728 / 24 / 360"
   ]
  },
  {
   "cell_type": "code",
   "execution_count": 16,
   "id": "62f64c33",
   "metadata": {},
   "outputs": [
    {
     "data": {
      "text/plain": [
       "46.4994212962963"
      ]
     },
     "execution_count": 16,
     "metadata": {},
     "output_type": "execute_result"
    }
   ],
   "source": [
    "401755 / 24 / 360"
   ]
  },
  {
   "cell_type": "markdown",
   "id": "d530e4fd",
   "metadata": {},
   "source": [
    "Получилось 38 и 46 лет соответственно, что очень похоже на правду. <br>\n",
    "Заменим эту выборку данных - разделим значения на 24 часа.<br>\n",
    "Для этого напишем функцию, которая заменяет все значения в столбце стажа более 328 728 дней, делит значение на 24 часа.<br>\n",
    "И применим эту функцию к столбцу со стажем<br>\n",
    "Далее исправим знаки в колонке и заполним пропуски медианным значением по столбцу.\n"
   ]
  },
  {
   "cell_type": "code",
   "execution_count": 17,
   "id": "3a5b16ac",
   "metadata": {},
   "outputs": [
    {
     "data": {
      "text/plain": [
       "16750.0"
      ]
     },
     "execution_count": 17,
     "metadata": {},
     "output_type": "execute_result"
    }
   ],
   "source": [
    "def employed_days(employed): #функция для корректировки значений\n",
    "        if employed >= 328_728:\n",
    "            employed = employed/24\n",
    "            return employed\n",
    "        return employed \n",
    "    \n",
    "employed_days(402000) #проверка работы функции"
   ]
  },
  {
   "cell_type": "code",
   "execution_count": 18,
   "id": "1e54b657",
   "metadata": {},
   "outputs": [],
   "source": [
    "df['days_employed'] = df['days_employed'].apply(employed_days) #применяем функцию к столбцу"
   ]
  },
  {
   "cell_type": "code",
   "execution_count": 19,
   "id": "b0dde913",
   "metadata": {},
   "outputs": [
    {
     "data": {
      "text/html": [
       "<div>\n",
       "<style scoped>\n",
       "    .dataframe tbody tr th:only-of-type {\n",
       "        vertical-align: middle;\n",
       "    }\n",
       "\n",
       "    .dataframe tbody tr th {\n",
       "        vertical-align: top;\n",
       "    }\n",
       "\n",
       "    .dataframe thead th {\n",
       "        text-align: right;\n",
       "    }\n",
       "</style>\n",
       "<table border=\"1\" class=\"dataframe\">\n",
       "  <thead>\n",
       "    <tr style=\"text-align: right;\">\n",
       "      <th></th>\n",
       "      <th>count</th>\n",
       "      <th>mean</th>\n",
       "      <th>median</th>\n",
       "      <th>min</th>\n",
       "      <th>max</th>\n",
       "    </tr>\n",
       "    <tr>\n",
       "      <th>days_employed</th>\n",
       "      <th></th>\n",
       "      <th></th>\n",
       "      <th></th>\n",
       "      <th></th>\n",
       "      <th></th>\n",
       "    </tr>\n",
       "  </thead>\n",
       "  <tbody>\n",
       "    <tr>\n",
       "      <th>False</th>\n",
       "      <td>15906</td>\n",
       "      <td>-2353.015932</td>\n",
       "      <td>-1630.019381</td>\n",
       "      <td>-18388.949901</td>\n",
       "      <td>-24.141633</td>\n",
       "    </tr>\n",
       "    <tr>\n",
       "      <th>True</th>\n",
       "      <td>3445</td>\n",
       "      <td>15208.512913</td>\n",
       "      <td>15217.221094</td>\n",
       "      <td>13697.030025</td>\n",
       "      <td>16739.808353</td>\n",
       "    </tr>\n",
       "  </tbody>\n",
       "</table>\n",
       "</div>"
      ],
      "text/plain": [
       "               count          mean        median           min           max\n",
       "days_employed                                                               \n",
       "False          15906  -2353.015932  -1630.019381 -18388.949901    -24.141633\n",
       "True            3445  15208.512913  15217.221094  13697.030025  16739.808353"
      ]
     },
     "execution_count": 19,
     "metadata": {},
     "output_type": "execute_result"
    }
   ],
   "source": [
    "df.groupby([df['days_employed'] > 0])['days_employed'].agg(['count','mean','median','min', 'max']) #проверка работы функции"
   ]
  },
  {
   "cell_type": "code",
   "execution_count": 20,
   "id": "fe30a70d",
   "metadata": {},
   "outputs": [],
   "source": [
    "df['days_employed'] = abs(df['days_employed']) #исправление знаков"
   ]
  },
  {
   "cell_type": "code",
   "execution_count": 21,
   "id": "81298cc4",
   "metadata": {},
   "outputs": [
    {
     "data": {
      "text/html": [
       "<div>\n",
       "<style scoped>\n",
       "    .dataframe tbody tr th:only-of-type {\n",
       "        vertical-align: middle;\n",
       "    }\n",
       "\n",
       "    .dataframe tbody tr th {\n",
       "        vertical-align: top;\n",
       "    }\n",
       "\n",
       "    .dataframe thead th {\n",
       "        text-align: right;\n",
       "    }\n",
       "</style>\n",
       "<table border=\"1\" class=\"dataframe\">\n",
       "  <thead>\n",
       "    <tr style=\"text-align: right;\">\n",
       "      <th></th>\n",
       "      <th>count</th>\n",
       "      <th>mean</th>\n",
       "      <th>median</th>\n",
       "      <th>min</th>\n",
       "      <th>max</th>\n",
       "    </tr>\n",
       "    <tr>\n",
       "      <th>days_employed</th>\n",
       "      <th></th>\n",
       "      <th></th>\n",
       "      <th></th>\n",
       "      <th></th>\n",
       "      <th></th>\n",
       "    </tr>\n",
       "  </thead>\n",
       "  <tbody>\n",
       "    <tr>\n",
       "      <th>False</th>\n",
       "      <td>0</td>\n",
       "      <td>NaN</td>\n",
       "      <td>NaN</td>\n",
       "      <td>NaN</td>\n",
       "      <td>NaN</td>\n",
       "    </tr>\n",
       "    <tr>\n",
       "      <th>True</th>\n",
       "      <td>19351</td>\n",
       "      <td>4641.641176</td>\n",
       "      <td>2194.220567</td>\n",
       "      <td>24.141633</td>\n",
       "      <td>18388.949901</td>\n",
       "    </tr>\n",
       "  </tbody>\n",
       "</table>\n",
       "</div>"
      ],
      "text/plain": [
       "               count         mean       median        min           max\n",
       "days_employed                                                          \n",
       "False              0          NaN          NaN        NaN           NaN\n",
       "True           19351  4641.641176  2194.220567  24.141633  18388.949901"
      ]
     },
     "execution_count": 21,
     "metadata": {},
     "output_type": "execute_result"
    }
   ],
   "source": [
    "df.groupby([df['days_employed'] > 0])['days_employed'].agg(['count','mean','median','min', 'max']) #проверка после корректировок"
   ]
  },
  {
   "cell_type": "code",
   "execution_count": 22,
   "id": "71996c9f",
   "metadata": {},
   "outputs": [
    {
     "data": {
      "text/plain": [
       "0"
      ]
     },
     "execution_count": 22,
     "metadata": {},
     "output_type": "execute_result"
    }
   ],
   "source": [
    "df['days_employed'] = df['days_employed'].fillna(df['days_employed'].median()) #заполнение пропусков медианой\n",
    "df['days_employed'].isna().sum() #проверка - как прошла замена"
   ]
  },
  {
   "cell_type": "code",
   "execution_count": 23,
   "id": "e85bccea",
   "metadata": {},
   "outputs": [
    {
     "data": {
      "text/html": [
       "<div>\n",
       "<style scoped>\n",
       "    .dataframe tbody tr th:only-of-type {\n",
       "        vertical-align: middle;\n",
       "    }\n",
       "\n",
       "    .dataframe tbody tr th {\n",
       "        vertical-align: top;\n",
       "    }\n",
       "\n",
       "    .dataframe thead th {\n",
       "        text-align: right;\n",
       "    }\n",
       "</style>\n",
       "<table border=\"1\" class=\"dataframe\">\n",
       "  <thead>\n",
       "    <tr style=\"text-align: right;\">\n",
       "      <th></th>\n",
       "      <th>count</th>\n",
       "      <th>mean</th>\n",
       "      <th>median</th>\n",
       "      <th>min</th>\n",
       "      <th>max</th>\n",
       "    </tr>\n",
       "    <tr>\n",
       "      <th>days_employed</th>\n",
       "      <th></th>\n",
       "      <th></th>\n",
       "      <th></th>\n",
       "      <th></th>\n",
       "      <th></th>\n",
       "    </tr>\n",
       "  </thead>\n",
       "  <tbody>\n",
       "    <tr>\n",
       "      <th>True</th>\n",
       "      <td>21525</td>\n",
       "      <td>4394.454537</td>\n",
       "      <td>2194.220567</td>\n",
       "      <td>24.141633</td>\n",
       "      <td>18388.949901</td>\n",
       "    </tr>\n",
       "  </tbody>\n",
       "</table>\n",
       "</div>"
      ],
      "text/plain": [
       "               count         mean       median        min           max\n",
       "days_employed                                                          \n",
       "True           21525  4394.454537  2194.220567  24.141633  18388.949901"
      ]
     },
     "execution_count": 23,
     "metadata": {},
     "output_type": "execute_result"
    }
   ],
   "source": [
    "df.groupby([df['days_employed'] > 0])['days_employed'].agg(['count','mean','median','min', 'max']) "
   ]
  },
  {
   "cell_type": "markdown",
   "id": "b70e5a69",
   "metadata": {},
   "source": [
    "После корректировок по данному столбцу видим - пропусков нет, медиана не изменилась."
   ]
  },
  {
   "cell_type": "markdown",
   "id": "4143b641",
   "metadata": {},
   "source": [
    "\n",
    "**Рассчитаем медиану для колонки с данными о ежемесячном доходе:**"
   ]
  },
  {
   "cell_type": "code",
   "execution_count": 24,
   "id": "3f90a450",
   "metadata": {},
   "outputs": [
    {
     "data": {
      "text/plain": [
       "145017.93753253992"
      ]
     },
     "execution_count": 24,
     "metadata": {},
     "output_type": "execute_result"
    }
   ],
   "source": [
    "df['total_income'].median()"
   ]
  },
  {
   "cell_type": "markdown",
   "id": "ffaaf9b9",
   "metadata": {},
   "source": [
    "Рассмотрим данные в столбце ежемесячного дохода более подробно, построим гистограмму и сделаем группировку по знаку."
   ]
  },
  {
   "cell_type": "code",
   "execution_count": 25,
   "id": "2a158d7d",
   "metadata": {},
   "outputs": [
    {
     "data": {
      "text/plain": [
       "<matplotlib.axes._subplots.AxesSubplot at 0x7f7d3f4ba990>"
      ]
     },
     "execution_count": 25,
     "metadata": {},
     "output_type": "execute_result"
    },
    {
     "data": {
      "image/png": "[encoded data removed]",
      "text/plain": [
       "<Figure size 432x288 with 1 Axes>"
      ]
     },
     "metadata": {
      "needs_background": "light"
     },
     "output_type": "display_data"
    }
   ],
   "source": [
    "df['total_income'].hist()"
   ]
  },
  {
   "cell_type": "code",
   "execution_count": 26,
   "id": "3899f094",
   "metadata": {},
   "outputs": [
    {
     "data": {
      "text/html": [
       "<div>\n",
       "<style scoped>\n",
       "    .dataframe tbody tr th:only-of-type {\n",
       "        vertical-align: middle;\n",
       "    }\n",
       "\n",
       "    .dataframe tbody tr th {\n",
       "        vertical-align: top;\n",
       "    }\n",
       "\n",
       "    .dataframe thead th {\n",
       "        text-align: right;\n",
       "    }\n",
       "</style>\n",
       "<table border=\"1\" class=\"dataframe\">\n",
       "  <thead>\n",
       "    <tr style=\"text-align: right;\">\n",
       "      <th></th>\n",
       "      <th>count</th>\n",
       "      <th>mean</th>\n",
       "      <th>median</th>\n",
       "      <th>min</th>\n",
       "      <th>max</th>\n",
       "    </tr>\n",
       "    <tr>\n",
       "      <th>total_income</th>\n",
       "      <th></th>\n",
       "      <th></th>\n",
       "      <th></th>\n",
       "      <th></th>\n",
       "      <th></th>\n",
       "    </tr>\n",
       "  </thead>\n",
       "  <tbody>\n",
       "    <tr>\n",
       "      <th>False</th>\n",
       "      <td>0</td>\n",
       "      <td>NaN</td>\n",
       "      <td>NaN</td>\n",
       "      <td>NaN</td>\n",
       "      <td>NaN</td>\n",
       "    </tr>\n",
       "    <tr>\n",
       "      <th>True</th>\n",
       "      <td>19351</td>\n",
       "      <td>167422.302208</td>\n",
       "      <td>145017.937533</td>\n",
       "      <td>20667.263793</td>\n",
       "      <td>2.265604e+06</td>\n",
       "    </tr>\n",
       "  </tbody>\n",
       "</table>\n",
       "</div>"
      ],
      "text/plain": [
       "              count           mean         median           min           max\n",
       "total_income                                                                 \n",
       "False             0            NaN            NaN           NaN           NaN\n",
       "True          19351  167422.302208  145017.937533  20667.263793  2.265604e+06"
      ]
     },
     "execution_count": 26,
     "metadata": {},
     "output_type": "execute_result"
    }
   ],
   "source": [
    "df.groupby([df['total_income'] > 0])['total_income'].agg(['count','mean','median','min', 'max']) "
   ]
  },
  {
   "cell_type": "markdown",
   "id": "a2b52658",
   "metadata": {},
   "source": [
    "На первый взгляд данные не имеют каких-то явных проблем, заполняем пропуски медианой. После заполнения проверим как отработала замена."
   ]
  },
  {
   "cell_type": "code",
   "execution_count": 27,
   "id": "0b2bad87",
   "metadata": {},
   "outputs": [
    {
     "data": {
      "text/plain": [
       "2174"
      ]
     },
     "execution_count": 27,
     "metadata": {},
     "output_type": "execute_result"
    }
   ],
   "source": [
    "df['total_income'].isna().sum() #количество пропусков"
   ]
  },
  {
   "cell_type": "code",
   "execution_count": 28,
   "id": "495885cd",
   "metadata": {},
   "outputs": [
    {
     "data": {
      "text/plain": [
       "0"
      ]
     },
     "execution_count": 28,
     "metadata": {},
     "output_type": "execute_result"
    }
   ],
   "source": [
    "df['total_income'] = df['total_income'].fillna(df['total_income'].median()) #заполнение пропусков медианой\n",
    "df['total_income'].isna().sum() #проверка - как прошла замена"
   ]
  },
  {
   "cell_type": "code",
   "execution_count": 29,
   "id": "fa30d7fe",
   "metadata": {},
   "outputs": [
    {
     "data": {
      "text/html": [
       "<div>\n",
       "<style scoped>\n",
       "    .dataframe tbody tr th:only-of-type {\n",
       "        vertical-align: middle;\n",
       "    }\n",
       "\n",
       "    .dataframe tbody tr th {\n",
       "        vertical-align: top;\n",
       "    }\n",
       "\n",
       "    .dataframe thead th {\n",
       "        text-align: right;\n",
       "    }\n",
       "</style>\n",
       "<table border=\"1\" class=\"dataframe\">\n",
       "  <thead>\n",
       "    <tr style=\"text-align: right;\">\n",
       "      <th></th>\n",
       "      <th>count</th>\n",
       "      <th>mean</th>\n",
       "      <th>median</th>\n",
       "      <th>min</th>\n",
       "      <th>max</th>\n",
       "    </tr>\n",
       "    <tr>\n",
       "      <th>total_income</th>\n",
       "      <th></th>\n",
       "      <th></th>\n",
       "      <th></th>\n",
       "      <th></th>\n",
       "      <th></th>\n",
       "    </tr>\n",
       "  </thead>\n",
       "  <tbody>\n",
       "    <tr>\n",
       "      <th>True</th>\n",
       "      <td>21525</td>\n",
       "      <td>165159.487397</td>\n",
       "      <td>145017.937533</td>\n",
       "      <td>20667.263793</td>\n",
       "      <td>2.265604e+06</td>\n",
       "    </tr>\n",
       "  </tbody>\n",
       "</table>\n",
       "</div>"
      ],
      "text/plain": [
       "              count           mean         median           min           max\n",
       "total_income                                                                 \n",
       "True          21525  165159.487397  145017.937533  20667.263793  2.265604e+06"
      ]
     },
     "execution_count": 29,
     "metadata": {},
     "output_type": "execute_result"
    }
   ],
   "source": [
    "df.groupby([df['total_income'] > 0])['total_income'].agg(['count','mean','median','min', 'max']) #проверка - как прошла замена"
   ]
  },
  {
   "cell_type": "markdown",
   "id": "d9377dba",
   "metadata": {},
   "source": [
    "### Изменение типов данных."
   ]
  },
  {
   "cell_type": "markdown",
   "id": "a4db4863",
   "metadata": {},
   "source": [
    "Для удобства пользования таблицей заменим вещественный тип данных в столбцах Трудового стажа и Ежемесячного дохода на целочисленный. \n",
    "Тогда трудовой стаж будет в целых днях, а в ежемесячном доходе погрешность будет небольшая. <br>\n",
    "Проверим тип данных в выбранных столбцах:"
   ]
  },
  {
   "cell_type": "code",
   "execution_count": 30,
   "id": "4588d45e",
   "metadata": {},
   "outputs": [
    {
     "data": {
      "text/plain": [
       "dtype('float64')"
      ]
     },
     "execution_count": 30,
     "metadata": {},
     "output_type": "execute_result"
    }
   ],
   "source": [
    "df['days_employed'].dtypes"
   ]
  },
  {
   "cell_type": "code",
   "execution_count": 31,
   "id": "f825e167",
   "metadata": {},
   "outputs": [
    {
     "data": {
      "text/plain": [
       "dtype('float64')"
      ]
     },
     "execution_count": 31,
     "metadata": {},
     "output_type": "execute_result"
    }
   ],
   "source": [
    "df['total_income'].dtypes"
   ]
  },
  {
   "cell_type": "markdown",
   "id": "5a5b0475",
   "metadata": {},
   "source": [
    "Тип данных float64 - вещественное число. Изменим тип данных и проверим как прошло изменение."
   ]
  },
  {
   "cell_type": "code",
   "execution_count": 32,
   "id": "053cecdf",
   "metadata": {},
   "outputs": [
    {
     "data": {
      "text/plain": [
       "dtype('int64')"
      ]
     },
     "execution_count": 32,
     "metadata": {},
     "output_type": "execute_result"
    }
   ],
   "source": [
    "df['total_income'] = df['total_income'].astype(int) #изменение типа на int\n",
    "df['total_income'].dtypes #вывод информации о типе данных столбца"
   ]
  },
  {
   "cell_type": "code",
   "execution_count": 33,
   "id": "65cf3a1c",
   "metadata": {},
   "outputs": [
    {
     "data": {
      "text/plain": [
       "dtype('int64')"
      ]
     },
     "execution_count": 33,
     "metadata": {},
     "output_type": "execute_result"
    }
   ],
   "source": [
    "df['days_employed'] = df['days_employed'].astype(int)\n",
    "df['days_employed'].dtypes"
   ]
  },
  {
   "cell_type": "markdown",
   "id": "ce1f5b52",
   "metadata": {},
   "source": [
    "### Удаление дубликатов. Исправление ошибок в данных"
   ]
  },
  {
   "cell_type": "markdown",
   "id": "fe329a8a",
   "metadata": {},
   "source": [
    "Проверим файл на явные и неявные дубликаты и удалим их.<br>\n",
    "Сначала найдем и удалим явные дубликаты, затем изучим на предмет возможных ошибок столбцы с категориальными данными. После проверим еще раз явные дубликаты."
   ]
  },
  {
   "cell_type": "code",
   "execution_count": 34,
   "id": "26e6a32a",
   "metadata": {},
   "outputs": [
    {
     "data": {
      "text/plain": [
       "54"
      ]
     },
     "execution_count": 34,
     "metadata": {},
     "output_type": "execute_result"
    }
   ],
   "source": [
    "df.duplicated().sum() #сумма явных дубликатов"
   ]
  },
  {
   "cell_type": "code",
   "execution_count": 35,
   "id": "72389078",
   "metadata": {},
   "outputs": [
    {
     "data": {
      "text/plain": [
       "0"
      ]
     },
     "execution_count": 35,
     "metadata": {},
     "output_type": "execute_result"
    }
   ],
   "source": [
    "df = df.drop_duplicates().reset_index(drop=True) #удаление дубликатов\n",
    "df.duplicated().sum() #проверка удаления"
   ]
  },
  {
   "cell_type": "markdown",
   "id": "827ef083",
   "metadata": {},
   "source": [
    "Еще раз выведем информацию о файле и решим какие столбцы выбрать для вывода/проверки уникальных значений в них."
   ]
  },
  {
   "cell_type": "code",
   "execution_count": 36,
   "id": "ec80f11f",
   "metadata": {},
   "outputs": [
    {
     "name": "stdout",
     "output_type": "stream",
     "text": [
      "<class 'pandas.core.frame.DataFrame'>\n",
      "RangeIndex: 21471 entries, 0 to 21470\n",
      "Data columns (total 12 columns):\n",
      " #   Column            Non-Null Count  Dtype \n",
      "---  ------            --------------  ----- \n",
      " 0   children          21471 non-null  int64 \n",
      " 1   days_employed     21471 non-null  int64 \n",
      " 2   dob_years         21471 non-null  int64 \n",
      " 3   education         21471 non-null  object\n",
      " 4   education_id      21471 non-null  int64 \n",
      " 5   family_status     21471 non-null  object\n",
      " 6   family_status_id  21471 non-null  int64 \n",
      " 7   gender            21471 non-null  object\n",
      " 8   income_type       21471 non-null  object\n",
      " 9   debt              21471 non-null  int64 \n",
      " 10  total_income      21471 non-null  int64 \n",
      " 11  purpose           21471 non-null  object\n",
      "dtypes: int64(7), object(5)\n",
      "memory usage: 2.0+ MB\n"
     ]
    }
   ],
   "source": [
    "df.info()"
   ]
  },
  {
   "cell_type": "code",
   "execution_count": 37,
   "id": "cfe399b4",
   "metadata": {},
   "outputs": [
    {
     "name": "stdout",
     "output_type": "stream",
     "text": [
      "Уникальные значения в столбце children:  [ 1  0  3  2 -1  4 20  5]\n",
      "\n",
      "Уникальные значения в столбце education:  ['высшее' 'среднее' 'Среднее' 'СРЕДНЕЕ' 'ВЫСШЕЕ' 'неоконченное высшее'\n",
      " 'начальное' 'Высшее' 'НЕОКОНЧЕННОЕ ВЫСШЕЕ' 'Неоконченное высшее'\n",
      " 'НАЧАЛЬНОЕ' 'Начальное' 'Ученая степень' 'УЧЕНАЯ СТЕПЕНЬ'\n",
      " 'ученая степень']\n",
      "\n",
      "Уникальные значения в столбце education_id:  [0 1 2 3 4]\n",
      "\n",
      "Уникальные значения в столбце family_status:  ['женат / замужем' 'гражданский брак' 'вдовец / вдова' 'в разводе'\n",
      " 'Не женат / не замужем']\n",
      "\n",
      "Уникальные значения в столбце family_status_id:  [0 1 2 3 4]\n",
      "\n",
      "Уникальные значения в столбце gender:  ['F' 'M' 'XNA']\n",
      "\n",
      "Уникальные значения в столбце income_type:  ['сотрудник' 'пенсионер' 'компаньон' 'госслужащий' 'безработный'\n",
      " 'предприниматель' 'студент' 'в декрете']\n",
      "\n",
      "Уникальные значения в столбце debt:  [0 1]\n",
      "\n",
      "Уникальные значения в столбце purpose:  ['покупка жилья' 'приобретение автомобиля' 'дополнительное образование'\n",
      " 'сыграть свадьбу' 'операции с жильем' 'образование'\n",
      " 'на проведение свадьбы' 'покупка жилья для семьи' 'покупка недвижимости'\n",
      " 'покупка коммерческой недвижимости' 'покупка жилой недвижимости'\n",
      " 'строительство собственной недвижимости' 'недвижимость'\n",
      " 'строительство недвижимости' 'на покупку подержанного автомобиля'\n",
      " 'на покупку своего автомобиля' 'операции с коммерческой недвижимостью'\n",
      " 'строительство жилой недвижимости' 'жилье'\n",
      " 'операции со своей недвижимостью' 'автомобили' 'заняться образованием'\n",
      " 'сделка с подержанным автомобилем' 'получение образования' 'автомобиль'\n",
      " 'свадьба' 'получение дополнительного образования' 'покупка своего жилья'\n",
      " 'операции с недвижимостью' 'получение высшего образования'\n",
      " 'свой автомобиль' 'сделка с автомобилем' 'профильное образование'\n",
      " 'высшее образование' 'покупка жилья для сдачи' 'на покупку автомобиля'\n",
      " 'ремонт жилью' 'заняться высшим образованием']\n"
     ]
    }
   ],
   "source": [
    "print('Уникальные значения в столбце children: ', df['children'].unique())\n",
    "print()\n",
    "print('Уникальные значения в столбце education: ', df['education'].unique())\n",
    "print()\n",
    "print('Уникальные значения в столбце education_id: ', df['education_id'].unique())\n",
    "print()\n",
    "print('Уникальные значения в столбце family_status: ', df['family_status'].unique())\n",
    "print()\n",
    "print('Уникальные значения в столбце family_status_id: ', df['family_status_id'].unique())\n",
    "print()\n",
    "print('Уникальные значения в столбце gender: ', df['gender'].unique())\n",
    "print()\n",
    "print('Уникальные значения в столбце income_type: ', df['income_type'].unique())\n",
    "print()\n",
    "print('Уникальные значения в столбце debt: ', df['debt'].unique())\n",
    "print()\n",
    "print('Уникальные значения в столбце purpose: ', df['purpose'].unique())"
   ]
  },
  {
   "cell_type": "markdown",
   "id": "d0d5d816",
   "metadata": {},
   "source": [
    "На основе полученных сведений можно отобрать 3 столбца для корректировки ошибок в данных:\n",
    "* количество детей\n",
    "* образование\n",
    "* пол\n",
    "<br>\n",
    "Столбец с целью получения кредита - рассмотрим чуть позже, присвоим отдельным столбцом категории."
   ]
  },
  {
   "cell_type": "markdown",
   "id": "6d20f295",
   "metadata": {},
   "source": [
    "Столбец `children` с количеством детей имеет в значениях -1 и 20.<br>\n",
    "Cкорее всего это опечатки при заполнении данных. Заменим -1 на 1, а 20 на 2."
   ]
  },
  {
   "cell_type": "code",
   "execution_count": 38,
   "id": "2cc94113",
   "metadata": {},
   "outputs": [
    {
     "data": {
      "text/plain": [
       "array([ 1,  0,  3,  2, -1,  4, 20,  5])"
      ]
     },
     "execution_count": 38,
     "metadata": {},
     "output_type": "execute_result"
    }
   ],
   "source": [
    "df['children'].unique() #уникальные значения"
   ]
  },
  {
   "cell_type": "code",
   "execution_count": 39,
   "id": "ba36e74a",
   "metadata": {},
   "outputs": [
    {
     "data": {
      "text/plain": [
       " 0     14107\n",
       " 1      4809\n",
       " 2      2052\n",
       " 3       330\n",
       " 20       76\n",
       "-1        47\n",
       " 4        41\n",
       " 5         9\n",
       "Name: children, dtype: int64"
      ]
     },
     "execution_count": 39,
     "metadata": {},
     "output_type": "execute_result"
    }
   ],
   "source": [
    "df['children'].value_counts() #количество уникальных значений"
   ]
  },
  {
   "cell_type": "code",
   "execution_count": 40,
   "id": "8651b3c1",
   "metadata": {},
   "outputs": [
    {
     "name": "stdout",
     "output_type": "stream",
     "text": [
      "\n",
      "Уникальные значения в столбце children: \n"
     ]
    },
    {
     "data": {
      "text/html": [
       "<div>\n",
       "<style scoped>\n",
       "    .dataframe tbody tr th:only-of-type {\n",
       "        vertical-align: middle;\n",
       "    }\n",
       "\n",
       "    .dataframe tbody tr th {\n",
       "        vertical-align: top;\n",
       "    }\n",
       "\n",
       "    .dataframe thead th {\n",
       "        text-align: right;\n",
       "    }\n",
       "</style>\n",
       "<table border=\"1\" class=\"dataframe\">\n",
       "  <thead>\n",
       "    <tr style=\"text-align: right;\">\n",
       "      <th></th>\n",
       "      <th>count</th>\n",
       "    </tr>\n",
       "    <tr>\n",
       "      <th>children</th>\n",
       "      <th></th>\n",
       "    </tr>\n",
       "  </thead>\n",
       "  <tbody>\n",
       "    <tr>\n",
       "      <th>0</th>\n",
       "      <td>14107</td>\n",
       "    </tr>\n",
       "    <tr>\n",
       "      <th>1</th>\n",
       "      <td>4856</td>\n",
       "    </tr>\n",
       "    <tr>\n",
       "      <th>2</th>\n",
       "      <td>2128</td>\n",
       "    </tr>\n",
       "    <tr>\n",
       "      <th>3</th>\n",
       "      <td>330</td>\n",
       "    </tr>\n",
       "    <tr>\n",
       "      <th>4</th>\n",
       "      <td>41</td>\n",
       "    </tr>\n",
       "    <tr>\n",
       "      <th>5</th>\n",
       "      <td>9</td>\n",
       "    </tr>\n",
       "  </tbody>\n",
       "</table>\n",
       "</div>"
      ],
      "text/plain": [
       "          count\n",
       "children       \n",
       "0         14107\n",
       "1          4856\n",
       "2          2128\n",
       "3           330\n",
       "4            41\n",
       "5             9"
      ]
     },
     "execution_count": 40,
     "metadata": {},
     "output_type": "execute_result"
    }
   ],
   "source": [
    "df['children'] = abs(df['children']) #здесь происходит замена отрицательных значений на положительные (работа с -1)\n",
    "df['children'] = df['children'].replace(to_replace=20, value=2) #здесь замена 20 на 2\n",
    "print()\n",
    "print('Уникальные значения в столбце children: ')\n",
    "df.groupby([df['children']])['children'].agg(['count']) #проверка правок - количество строк с соответствующим количеством детей "
   ]
  },
  {
   "cell_type": "markdown",
   "id": "dde1d50c",
   "metadata": {},
   "source": [
    "Столбец `education` имеет в значениях слова написанные в разных регистрах.\n",
    "Приведем их к одному виду и проверим результат."
   ]
  },
  {
   "cell_type": "code",
   "execution_count": 41,
   "id": "8f3c2118",
   "metadata": {},
   "outputs": [
    {
     "data": {
      "text/html": [
       "<div>\n",
       "<style scoped>\n",
       "    .dataframe tbody tr th:only-of-type {\n",
       "        vertical-align: middle;\n",
       "    }\n",
       "\n",
       "    .dataframe tbody tr th {\n",
       "        vertical-align: top;\n",
       "    }\n",
       "\n",
       "    .dataframe thead th {\n",
       "        text-align: right;\n",
       "    }\n",
       "</style>\n",
       "<table border=\"1\" class=\"dataframe\">\n",
       "  <thead>\n",
       "    <tr style=\"text-align: right;\">\n",
       "      <th></th>\n",
       "      <th>count</th>\n",
       "    </tr>\n",
       "    <tr>\n",
       "      <th>education</th>\n",
       "      <th></th>\n",
       "    </tr>\n",
       "  </thead>\n",
       "  <tbody>\n",
       "    <tr>\n",
       "      <th>ВЫСШЕЕ</th>\n",
       "      <td>273</td>\n",
       "    </tr>\n",
       "    <tr>\n",
       "      <th>Высшее</th>\n",
       "      <td>268</td>\n",
       "    </tr>\n",
       "    <tr>\n",
       "      <th>НАЧАЛЬНОЕ</th>\n",
       "      <td>17</td>\n",
       "    </tr>\n",
       "    <tr>\n",
       "      <th>НЕОКОНЧЕННОЕ ВЫСШЕЕ</th>\n",
       "      <td>29</td>\n",
       "    </tr>\n",
       "    <tr>\n",
       "      <th>Начальное</th>\n",
       "      <td>15</td>\n",
       "    </tr>\n",
       "    <tr>\n",
       "      <th>Неоконченное высшее</th>\n",
       "      <td>47</td>\n",
       "    </tr>\n",
       "    <tr>\n",
       "      <th>СРЕДНЕЕ</th>\n",
       "      <td>772</td>\n",
       "    </tr>\n",
       "    <tr>\n",
       "      <th>Среднее</th>\n",
       "      <td>711</td>\n",
       "    </tr>\n",
       "    <tr>\n",
       "      <th>УЧЕНАЯ СТЕПЕНЬ</th>\n",
       "      <td>1</td>\n",
       "    </tr>\n",
       "    <tr>\n",
       "      <th>Ученая степень</th>\n",
       "      <td>1</td>\n",
       "    </tr>\n",
       "    <tr>\n",
       "      <th>высшее</th>\n",
       "      <td>4710</td>\n",
       "    </tr>\n",
       "    <tr>\n",
       "      <th>начальное</th>\n",
       "      <td>250</td>\n",
       "    </tr>\n",
       "    <tr>\n",
       "      <th>неоконченное высшее</th>\n",
       "      <td>668</td>\n",
       "    </tr>\n",
       "    <tr>\n",
       "      <th>среднее</th>\n",
       "      <td>13705</td>\n",
       "    </tr>\n",
       "    <tr>\n",
       "      <th>ученая степень</th>\n",
       "      <td>4</td>\n",
       "    </tr>\n",
       "  </tbody>\n",
       "</table>\n",
       "</div>"
      ],
      "text/plain": [
       "                     count\n",
       "education                 \n",
       "ВЫСШЕЕ                 273\n",
       "Высшее                 268\n",
       "НАЧАЛЬНОЕ               17\n",
       "НЕОКОНЧЕННОЕ ВЫСШЕЕ     29\n",
       "Начальное               15\n",
       "Неоконченное высшее     47\n",
       "СРЕДНЕЕ                772\n",
       "Среднее                711\n",
       "УЧЕНАЯ СТЕПЕНЬ           1\n",
       "Ученая степень           1\n",
       "высшее                4710\n",
       "начальное              250\n",
       "неоконченное высшее    668\n",
       "среднее              13705\n",
       "ученая степень           4"
      ]
     },
     "execution_count": 41,
     "metadata": {},
     "output_type": "execute_result"
    }
   ],
   "source": [
    "df.groupby([df['education']])['education'].agg(['count']) #количество строк в каждой группе"
   ]
  },
  {
   "cell_type": "code",
   "execution_count": 42,
   "id": "66af1fb1",
   "metadata": {},
   "outputs": [
    {
     "name": "stdout",
     "output_type": "stream",
     "text": [
      "\n",
      "Уникальные значения с столбце education: \n"
     ]
    },
    {
     "data": {
      "text/html": [
       "<div>\n",
       "<style scoped>\n",
       "    .dataframe tbody tr th:only-of-type {\n",
       "        vertical-align: middle;\n",
       "    }\n",
       "\n",
       "    .dataframe tbody tr th {\n",
       "        vertical-align: top;\n",
       "    }\n",
       "\n",
       "    .dataframe thead th {\n",
       "        text-align: right;\n",
       "    }\n",
       "</style>\n",
       "<table border=\"1\" class=\"dataframe\">\n",
       "  <thead>\n",
       "    <tr style=\"text-align: right;\">\n",
       "      <th></th>\n",
       "      <th>count</th>\n",
       "    </tr>\n",
       "    <tr>\n",
       "      <th>education</th>\n",
       "      <th></th>\n",
       "    </tr>\n",
       "  </thead>\n",
       "  <tbody>\n",
       "    <tr>\n",
       "      <th>высшее</th>\n",
       "      <td>5251</td>\n",
       "    </tr>\n",
       "    <tr>\n",
       "      <th>начальное</th>\n",
       "      <td>282</td>\n",
       "    </tr>\n",
       "    <tr>\n",
       "      <th>неоконченное высшее</th>\n",
       "      <td>744</td>\n",
       "    </tr>\n",
       "    <tr>\n",
       "      <th>среднее</th>\n",
       "      <td>15188</td>\n",
       "    </tr>\n",
       "    <tr>\n",
       "      <th>ученая степень</th>\n",
       "      <td>6</td>\n",
       "    </tr>\n",
       "  </tbody>\n",
       "</table>\n",
       "</div>"
      ],
      "text/plain": [
       "                     count\n",
       "education                 \n",
       "высшее                5251\n",
       "начальное              282\n",
       "неоконченное высшее    744\n",
       "среднее              15188\n",
       "ученая степень           6"
      ]
     },
     "execution_count": 42,
     "metadata": {},
     "output_type": "execute_result"
    }
   ],
   "source": [
    "df['education'] = df['education'].str.lower() #приводим значения столбца к нижнему регистру\n",
    "print()\n",
    "print('Уникальные значения с столбце education: ')\n",
    "df.groupby([df['education']])['education'].agg(['count']) #количество строк в каждой группе после корректировки"
   ]
  },
  {
   "cell_type": "markdown",
   "id": "621d0a9e",
   "metadata": {},
   "source": [
    "Столбец `gender` имеет в значениях по отдной строке пол `XNA`. Заменим это значение на `F`, так как их количество больше в выборке"
   ]
  },
  {
   "cell_type": "code",
   "execution_count": 43,
   "id": "c56d0959",
   "metadata": {},
   "outputs": [
    {
     "data": {
      "text/plain": [
       "F      14189\n",
       "M       7281\n",
       "XNA        1\n",
       "Name: gender, dtype: int64"
      ]
     },
     "execution_count": 43,
     "metadata": {},
     "output_type": "execute_result"
    }
   ],
   "source": [
    "df['gender'].value_counts() #количество уникальных значений столбца gender"
   ]
  },
  {
   "cell_type": "code",
   "execution_count": 44,
   "id": "58dc93e2",
   "metadata": {},
   "outputs": [
    {
     "data": {
      "text/html": [
       "<div>\n",
       "<style scoped>\n",
       "    .dataframe tbody tr th:only-of-type {\n",
       "        vertical-align: middle;\n",
       "    }\n",
       "\n",
       "    .dataframe tbody tr th {\n",
       "        vertical-align: top;\n",
       "    }\n",
       "\n",
       "    .dataframe thead th {\n",
       "        text-align: right;\n",
       "    }\n",
       "</style>\n",
       "<table border=\"1\" class=\"dataframe\">\n",
       "  <thead>\n",
       "    <tr style=\"text-align: right;\">\n",
       "      <th></th>\n",
       "      <th>count</th>\n",
       "    </tr>\n",
       "    <tr>\n",
       "      <th>gender</th>\n",
       "      <th></th>\n",
       "    </tr>\n",
       "  </thead>\n",
       "  <tbody>\n",
       "    <tr>\n",
       "      <th>F</th>\n",
       "      <td>14190</td>\n",
       "    </tr>\n",
       "    <tr>\n",
       "      <th>M</th>\n",
       "      <td>7281</td>\n",
       "    </tr>\n",
       "  </tbody>\n",
       "</table>\n",
       "</div>"
      ],
      "text/plain": [
       "        count\n",
       "gender       \n",
       "F       14190\n",
       "M        7281"
      ]
     },
     "execution_count": 44,
     "metadata": {},
     "output_type": "execute_result"
    }
   ],
   "source": [
    "df.loc[df['gender'] == 'XNA', 'gender'] = 'F'  #замена значения\n",
    "df.groupby([df['gender']])['gender'].agg(['count'])  #проверка после корректировки"
   ]
  },
  {
   "cell_type": "markdown",
   "id": "15b6fe9a",
   "metadata": {},
   "source": [
    "Исправили грубые ошибки в данных изначально выбранных столбцов, теперь проверим еще раз таблицу на наличие явных дубликатов. При их обнаружении - удалим."
   ]
  },
  {
   "cell_type": "code",
   "execution_count": 45,
   "id": "94ad86cc",
   "metadata": {},
   "outputs": [
    {
     "data": {
      "text/plain": [
       "17"
      ]
     },
     "execution_count": 45,
     "metadata": {},
     "output_type": "execute_result"
    }
   ],
   "source": [
    "df.duplicated().sum()"
   ]
  },
  {
   "cell_type": "code",
   "execution_count": 46,
   "id": "beba860c",
   "metadata": {},
   "outputs": [
    {
     "data": {
      "text/plain": [
       "0"
      ]
     },
     "execution_count": 46,
     "metadata": {},
     "output_type": "execute_result"
    }
   ],
   "source": [
    "df = df.drop_duplicates().reset_index(drop=True)\n",
    "df.duplicated().sum()"
   ]
  },
  {
   "cell_type": "markdown",
   "id": "bf3eae62",
   "metadata": {},
   "source": [
    "### Формирование дополнительных датафреймов словарей, декомпозиция исходного датафрейма."
   ]
  },
  {
   "cell_type": "markdown",
   "id": "2a8a996f",
   "metadata": {},
   "source": [
    "Облегчим таблицу с данными удалив несколько дублирующих друг друга столбцов. <br>\n",
    "Вынесем в отдельные датафреймы столбцы:\n",
    "* `education` и `education_id`\n",
    "* `family_status` и `family_status_id`\n",
    "\n",
    "К данным \"словарям\" мы сможем далее обращаться по идентификатору."
   ]
  },
  {
   "cell_type": "markdown",
   "id": "34fc1dd1",
   "metadata": {},
   "source": [
    "Создаем датафрейм Образование с двумя столбцами, далее удаляем дубликаты из полученной таблицы, получаем \"словарь\"."
   ]
  },
  {
   "cell_type": "code",
   "execution_count": 47,
   "id": "751c0d57",
   "metadata": {},
   "outputs": [
    {
     "name": "stdout",
     "output_type": "stream",
     "text": [
      "<class 'pandas.core.frame.DataFrame'>\n",
      "RangeIndex: 21454 entries, 0 to 21453\n",
      "Data columns (total 2 columns):\n",
      " #   Column        Non-Null Count  Dtype \n",
      "---  ------        --------------  ----- \n",
      " 0   education     21454 non-null  object\n",
      " 1   education_id  21454 non-null  int64 \n",
      "dtypes: int64(1), object(1)\n",
      "memory usage: 335.3+ KB\n"
     ]
    }
   ],
   "source": [
    "df_edu = df[['education','education_id']] #создание таблицы из двух столбцов\n",
    "df_edu.info() #получение информации о таблице"
   ]
  },
  {
   "cell_type": "code",
   "execution_count": 48,
   "id": "5a7592eb",
   "metadata": {},
   "outputs": [
    {
     "data": {
      "text/plain": [
       "21449"
      ]
     },
     "execution_count": 48,
     "metadata": {},
     "output_type": "execute_result"
    }
   ],
   "source": [
    "df_edu.duplicated().sum() #подсчет дубликатов"
   ]
  },
  {
   "cell_type": "code",
   "execution_count": 49,
   "id": "c0015de8",
   "metadata": {},
   "outputs": [
    {
     "data": {
      "text/html": [
       "<div>\n",
       "<style scoped>\n",
       "    .dataframe tbody tr th:only-of-type {\n",
       "        vertical-align: middle;\n",
       "    }\n",
       "\n",
       "    .dataframe tbody tr th {\n",
       "        vertical-align: top;\n",
       "    }\n",
       "\n",
       "    .dataframe thead th {\n",
       "        text-align: right;\n",
       "    }\n",
       "</style>\n",
       "<table border=\"1\" class=\"dataframe\">\n",
       "  <thead>\n",
       "    <tr style=\"text-align: right;\">\n",
       "      <th></th>\n",
       "      <th>education</th>\n",
       "      <th>education_id</th>\n",
       "    </tr>\n",
       "  </thead>\n",
       "  <tbody>\n",
       "    <tr>\n",
       "      <th>0</th>\n",
       "      <td>высшее</td>\n",
       "      <td>0</td>\n",
       "    </tr>\n",
       "    <tr>\n",
       "      <th>1</th>\n",
       "      <td>среднее</td>\n",
       "      <td>1</td>\n",
       "    </tr>\n",
       "    <tr>\n",
       "      <th>2</th>\n",
       "      <td>неоконченное высшее</td>\n",
       "      <td>2</td>\n",
       "    </tr>\n",
       "    <tr>\n",
       "      <th>3</th>\n",
       "      <td>начальное</td>\n",
       "      <td>3</td>\n",
       "    </tr>\n",
       "    <tr>\n",
       "      <th>4</th>\n",
       "      <td>ученая степень</td>\n",
       "      <td>4</td>\n",
       "    </tr>\n",
       "  </tbody>\n",
       "</table>\n",
       "</div>"
      ],
      "text/plain": [
       "             education  education_id\n",
       "0               высшее             0\n",
       "1              среднее             1\n",
       "2  неоконченное высшее             2\n",
       "3            начальное             3\n",
       "4       ученая степень             4"
      ]
     },
     "execution_count": 49,
     "metadata": {},
     "output_type": "execute_result"
    }
   ],
   "source": [
    "df_edu = df_edu.drop_duplicates().reset_index(drop=True) #удаление дубликатов\n",
    "df_edu"
   ]
  },
  {
   "cell_type": "markdown",
   "id": "f21e4932",
   "metadata": {},
   "source": [
    "Создаем датафрейм Семейный статус с двумя столбцами, далее удаляем дубликаты из полученной таблицы, получаем \"словарь\"."
   ]
  },
  {
   "cell_type": "code",
   "execution_count": 50,
   "id": "d184c6e2",
   "metadata": {},
   "outputs": [
    {
     "name": "stdout",
     "output_type": "stream",
     "text": [
      "<class 'pandas.core.frame.DataFrame'>\n",
      "RangeIndex: 21454 entries, 0 to 21453\n",
      "Data columns (total 2 columns):\n",
      " #   Column            Non-Null Count  Dtype \n",
      "---  ------            --------------  ----- \n",
      " 0   family_status     21454 non-null  object\n",
      " 1   family_status_id  21454 non-null  int64 \n",
      "dtypes: int64(1), object(1)\n",
      "memory usage: 335.3+ KB\n"
     ]
    }
   ],
   "source": [
    "df_fam_stat = df[['family_status','family_status_id']] #создание таблицы из двух столбцов\n",
    "df_fam_stat.info() #получение информации о таблице"
   ]
  },
  {
   "cell_type": "code",
   "execution_count": 51,
   "id": "b74a87df",
   "metadata": {},
   "outputs": [
    {
     "data": {
      "text/plain": [
       "21449"
      ]
     },
     "execution_count": 51,
     "metadata": {},
     "output_type": "execute_result"
    }
   ],
   "source": [
    "df_fam_stat.duplicated().sum() #подсчет дубликатов"
   ]
  },
  {
   "cell_type": "code",
   "execution_count": 52,
   "id": "7a208025",
   "metadata": {},
   "outputs": [
    {
     "data": {
      "text/html": [
       "<div>\n",
       "<style scoped>\n",
       "    .dataframe tbody tr th:only-of-type {\n",
       "        vertical-align: middle;\n",
       "    }\n",
       "\n",
       "    .dataframe tbody tr th {\n",
       "        vertical-align: top;\n",
       "    }\n",
       "\n",
       "    .dataframe thead th {\n",
       "        text-align: right;\n",
       "    }\n",
       "</style>\n",
       "<table border=\"1\" class=\"dataframe\">\n",
       "  <thead>\n",
       "    <tr style=\"text-align: right;\">\n",
       "      <th></th>\n",
       "      <th>family_status</th>\n",
       "      <th>family_status_id</th>\n",
       "    </tr>\n",
       "  </thead>\n",
       "  <tbody>\n",
       "    <tr>\n",
       "      <th>0</th>\n",
       "      <td>женат / замужем</td>\n",
       "      <td>0</td>\n",
       "    </tr>\n",
       "    <tr>\n",
       "      <th>1</th>\n",
       "      <td>гражданский брак</td>\n",
       "      <td>1</td>\n",
       "    </tr>\n",
       "    <tr>\n",
       "      <th>2</th>\n",
       "      <td>вдовец / вдова</td>\n",
       "      <td>2</td>\n",
       "    </tr>\n",
       "    <tr>\n",
       "      <th>3</th>\n",
       "      <td>в разводе</td>\n",
       "      <td>3</td>\n",
       "    </tr>\n",
       "    <tr>\n",
       "      <th>4</th>\n",
       "      <td>Не женат / не замужем</td>\n",
       "      <td>4</td>\n",
       "    </tr>\n",
       "  </tbody>\n",
       "</table>\n",
       "</div>"
      ],
      "text/plain": [
       "           family_status  family_status_id\n",
       "0        женат / замужем                 0\n",
       "1       гражданский брак                 1\n",
       "2         вдовец / вдова                 2\n",
       "3              в разводе                 3\n",
       "4  Не женат / не замужем                 4"
      ]
     },
     "execution_count": 52,
     "metadata": {},
     "output_type": "execute_result"
    }
   ],
   "source": [
    "df_fam_stat = df_fam_stat.drop_duplicates().reset_index(drop=True) #удаление дубликатов\n",
    "df_fam_stat"
   ]
  },
  {
   "cell_type": "markdown",
   "id": "947ed641",
   "metadata": {},
   "source": [
    "Далее удалим столбцы `education` и `family_status` из основной таблицы:"
   ]
  },
  {
   "cell_type": "code",
   "execution_count": 53,
   "id": "168f8cf6",
   "metadata": {},
   "outputs": [
    {
     "name": "stdout",
     "output_type": "stream",
     "text": [
      "<class 'pandas.core.frame.DataFrame'>\n",
      "RangeIndex: 21454 entries, 0 to 21453\n",
      "Data columns (total 10 columns):\n",
      " #   Column            Non-Null Count  Dtype \n",
      "---  ------            --------------  ----- \n",
      " 0   children          21454 non-null  int64 \n",
      " 1   days_employed     21454 non-null  int64 \n",
      " 2   dob_years         21454 non-null  int64 \n",
      " 3   education_id      21454 non-null  int64 \n",
      " 4   family_status_id  21454 non-null  int64 \n",
      " 5   gender            21454 non-null  object\n",
      " 6   income_type       21454 non-null  object\n",
      " 7   debt              21454 non-null  int64 \n",
      " 8   total_income      21454 non-null  int64 \n",
      " 9   purpose           21454 non-null  object\n",
      "dtypes: int64(7), object(3)\n",
      "memory usage: 1.6+ MB\n"
     ]
    }
   ],
   "source": [
    "df = df.drop(['education', 'family_status'], axis = 1)\n",
    "df.info()"
   ]
  },
  {
   "cell_type": "markdown",
   "id": "adc92136",
   "metadata": {},
   "source": [
    "Также для удобства дальнейшего анализа данных создадим еще несколько \"словарей\":\n",
    "* категоризация количества детей\n",
    "* укрупненное семейное положение\n",
    "<br>"
   ]
  },
  {
   "cell_type": "code",
   "execution_count": 54,
   "id": "916ccc7b",
   "metadata": {},
   "outputs": [
    {
     "data": {
      "text/html": [
       "<div>\n",
       "<style scoped>\n",
       "    .dataframe tbody tr th:only-of-type {\n",
       "        vertical-align: middle;\n",
       "    }\n",
       "\n",
       "    .dataframe tbody tr th {\n",
       "        vertical-align: top;\n",
       "    }\n",
       "\n",
       "    .dataframe thead th {\n",
       "        text-align: right;\n",
       "    }\n",
       "</style>\n",
       "<table border=\"1\" class=\"dataframe\">\n",
       "  <thead>\n",
       "    <tr style=\"text-align: right;\">\n",
       "      <th></th>\n",
       "      <th>children</th>\n",
       "      <th>children_category</th>\n",
       "    </tr>\n",
       "  </thead>\n",
       "  <tbody>\n",
       "    <tr>\n",
       "      <th>0</th>\n",
       "      <td>0</td>\n",
       "      <td>бездетные</td>\n",
       "    </tr>\n",
       "    <tr>\n",
       "      <th>1</th>\n",
       "      <td>1</td>\n",
       "      <td>один ребенок</td>\n",
       "    </tr>\n",
       "    <tr>\n",
       "      <th>2</th>\n",
       "      <td>2</td>\n",
       "      <td>два ребенка</td>\n",
       "    </tr>\n",
       "    <tr>\n",
       "      <th>3</th>\n",
       "      <td>3</td>\n",
       "      <td>многодетные</td>\n",
       "    </tr>\n",
       "    <tr>\n",
       "      <th>4</th>\n",
       "      <td>4</td>\n",
       "      <td>многодетные</td>\n",
       "    </tr>\n",
       "    <tr>\n",
       "      <th>5</th>\n",
       "      <td>5</td>\n",
       "      <td>многодетные</td>\n",
       "    </tr>\n",
       "  </tbody>\n",
       "</table>\n",
       "</div>"
      ],
      "text/plain": [
       "   children children_category\n",
       "0         0         бездетные\n",
       "1         1      один ребенок\n",
       "2         2       два ребенка\n",
       "3         3       многодетные\n",
       "4         4       многодетные\n",
       "5         5       многодетные"
      ]
     },
     "execution_count": 54,
     "metadata": {},
     "output_type": "execute_result"
    }
   ],
   "source": [
    "data = {\n",
    "    'children': [0, 1, 2, 3, 4, 5],\n",
    "    'children_category': ['бездетные', 'один ребенок', 'два ребенка', 'многодетные', 'многодетные', 'многодетные']} \n",
    "\n",
    "df_children_category = pd.DataFrame(data) #создание таблицы из словаря\n",
    "df_children_category "
   ]
  },
  {
   "cell_type": "code",
   "execution_count": 55,
   "id": "45abe983",
   "metadata": {},
   "outputs": [
    {
     "data": {
      "text/html": [
       "<div>\n",
       "<style scoped>\n",
       "    .dataframe tbody tr th:only-of-type {\n",
       "        vertical-align: middle;\n",
       "    }\n",
       "\n",
       "    .dataframe tbody tr th {\n",
       "        vertical-align: top;\n",
       "    }\n",
       "\n",
       "    .dataframe thead th {\n",
       "        text-align: right;\n",
       "    }\n",
       "</style>\n",
       "<table border=\"1\" class=\"dataframe\">\n",
       "  <thead>\n",
       "    <tr style=\"text-align: right;\">\n",
       "      <th></th>\n",
       "      <th>family_status_id</th>\n",
       "      <th>family_category</th>\n",
       "      <th>family_status</th>\n",
       "    </tr>\n",
       "  </thead>\n",
       "  <tbody>\n",
       "    <tr>\n",
       "      <th>0</th>\n",
       "      <td>0</td>\n",
       "      <td>в браке</td>\n",
       "      <td>женат / замужем</td>\n",
       "    </tr>\n",
       "    <tr>\n",
       "      <th>1</th>\n",
       "      <td>1</td>\n",
       "      <td>в браке</td>\n",
       "      <td>гражданский брак</td>\n",
       "    </tr>\n",
       "    <tr>\n",
       "      <th>2</th>\n",
       "      <td>2</td>\n",
       "      <td>не в браке</td>\n",
       "      <td>вдовец / вдова</td>\n",
       "    </tr>\n",
       "    <tr>\n",
       "      <th>3</th>\n",
       "      <td>3</td>\n",
       "      <td>не в браке</td>\n",
       "      <td>в разводе</td>\n",
       "    </tr>\n",
       "    <tr>\n",
       "      <th>4</th>\n",
       "      <td>4</td>\n",
       "      <td>не в браке</td>\n",
       "      <td>Не женат / не замужем</td>\n",
       "    </tr>\n",
       "  </tbody>\n",
       "</table>\n",
       "</div>"
      ],
      "text/plain": [
       "   family_status_id family_category          family_status\n",
       "0                 0         в браке        женат / замужем\n",
       "1                 1         в браке       гражданский брак\n",
       "2                 2      не в браке         вдовец / вдова\n",
       "3                 3      не в браке              в разводе\n",
       "4                 4      не в браке  Не женат / не замужем"
      ]
     },
     "execution_count": 55,
     "metadata": {},
     "output_type": "execute_result"
    }
   ],
   "source": [
    "data = {\n",
    "    'family_status_id': [0, 1, 2, 3, 4],\n",
    "    'family_category' : ['в браке', 'в браке', 'не в браке', 'не в браке', 'не в браке'],\n",
    "    'family_status'   : ['женат / замужем', 'гражданский брак', 'вдовец / вдова', 'в разводе', 'Не женат / не замужем'] } \n",
    "\n",
    "df_family_category = pd.DataFrame(data) #создание таблицы из словаря\n",
    "df_family_category"
   ]
  },
  {
   "cell_type": "markdown",
   "id": "6bae128f",
   "metadata": {},
   "source": [
    "### Категоризация дохода."
   ]
  },
  {
   "cell_type": "markdown",
   "id": "86bf7a58",
   "metadata": {},
   "source": [
    "Для удобства анализа данных по доходу клиента введем новый столбец, в который внесем обозначение категории дохода. <br>\n",
    "Для того, чтобы классифицировать доход - напишем функцию, которая обработает цифры из столбца `total_income` и присвоит каждой строке категорию. Создадим новую колонку `total_income_category` применив функцию к столбцу `total_income`"
   ]
  },
  {
   "cell_type": "code",
   "execution_count": 56,
   "id": "69d119d2",
   "metadata": {},
   "outputs": [
    {
     "data": {
      "text/plain": [
       "'E'"
      ]
     },
     "execution_count": 56,
     "metadata": {},
     "output_type": "execute_result"
    }
   ],
   "source": [
    "def income_cat(total_income): #функция категоризации дохода\n",
    "    try:\n",
    "        if total_income >= 0 and total_income <= 30_000:\n",
    "            return 'E'\n",
    "        elif total_income >= 30_001 and total_income <= 50_000:\n",
    "            return 'D'\n",
    "        elif total_income >= 50_001 and total_income <= 200_000:\n",
    "            return 'C'    \n",
    "        elif total_income >= 200_001 and total_income <= 1_000_000:\n",
    "            return 'B'  \n",
    "        elif total_income >= 1_000_001: \n",
    "            return 'A'   \n",
    "        elif total_income < 0: \n",
    "            return 'Ошибка! Необходимо проверить значение - средний доход отрицательный!!!'\n",
    "    except:\n",
    "        return 'Ошибка! Неверный тип данных!'\n",
    "income_cat(10000) #проверка функции"
   ]
  },
  {
   "cell_type": "markdown",
   "id": "c1f2e29a",
   "metadata": {},
   "source": [
    "Также для удобства дальнейшего анализа создадим \"словарь\" куда включим категорию и соответствующий ей диапазон. "
   ]
  },
  {
   "cell_type": "code",
   "execution_count": 57,
   "id": "0b73eca9",
   "metadata": {},
   "outputs": [
    {
     "data": {
      "text/html": [
       "<div>\n",
       "<style scoped>\n",
       "    .dataframe tbody tr th:only-of-type {\n",
       "        vertical-align: middle;\n",
       "    }\n",
       "\n",
       "    .dataframe tbody tr th {\n",
       "        vertical-align: top;\n",
       "    }\n",
       "\n",
       "    .dataframe thead th {\n",
       "        text-align: right;\n",
       "    }\n",
       "</style>\n",
       "<table border=\"1\" class=\"dataframe\">\n",
       "  <thead>\n",
       "    <tr style=\"text-align: right;\">\n",
       "      <th></th>\n",
       "      <th>total_income_category</th>\n",
       "      <th>range</th>\n",
       "    </tr>\n",
       "  </thead>\n",
       "  <tbody>\n",
       "    <tr>\n",
       "      <th>0</th>\n",
       "      <td>E</td>\n",
       "      <td>0 - 30 000</td>\n",
       "    </tr>\n",
       "    <tr>\n",
       "      <th>1</th>\n",
       "      <td>D</td>\n",
       "      <td>30 001 - 50 000</td>\n",
       "    </tr>\n",
       "    <tr>\n",
       "      <th>2</th>\n",
       "      <td>C</td>\n",
       "      <td>50 001 - 200 000</td>\n",
       "    </tr>\n",
       "    <tr>\n",
       "      <th>3</th>\n",
       "      <td>B</td>\n",
       "      <td>200 001 - 1 000 000</td>\n",
       "    </tr>\n",
       "    <tr>\n",
       "      <th>4</th>\n",
       "      <td>A</td>\n",
       "      <td>&gt; 1 000 001</td>\n",
       "    </tr>\n",
       "  </tbody>\n",
       "</table>\n",
       "</div>"
      ],
      "text/plain": [
       "  total_income_category                range\n",
       "0                     E           0 - 30 000\n",
       "1                     D      30 001 - 50 000\n",
       "2                     C     50 001 - 200 000\n",
       "3                     B  200 001 - 1 000 000\n",
       "4                     A          > 1 000 001"
      ]
     },
     "execution_count": 57,
     "metadata": {},
     "output_type": "execute_result"
    }
   ],
   "source": [
    "data = {\n",
    "    'total_income_category': ['E', 'D', 'C', 'B', 'A'],\n",
    "    'range': ['0 - 30 000', '30 001 - 50 000', '50 001 - 200 000', '200 001 - 1 000 000', '> 1 000 001']} \n",
    "df_income_category = pd.DataFrame(data) \n",
    "df_income_category"
   ]
  },
  {
   "cell_type": "markdown",
   "id": "80500752",
   "metadata": {},
   "source": [
    "Создаем новый столбец в основной таблице, применяем написанную выше функцию."
   ]
  },
  {
   "cell_type": "code",
   "execution_count": 58,
   "id": "361c88b5",
   "metadata": {},
   "outputs": [
    {
     "data": {
      "text/html": [
       "<div>\n",
       "<style scoped>\n",
       "    .dataframe tbody tr th:only-of-type {\n",
       "        vertical-align: middle;\n",
       "    }\n",
       "\n",
       "    .dataframe tbody tr th {\n",
       "        vertical-align: top;\n",
       "    }\n",
       "\n",
       "    .dataframe thead th {\n",
       "        text-align: right;\n",
       "    }\n",
       "</style>\n",
       "<table border=\"1\" class=\"dataframe\">\n",
       "  <thead>\n",
       "    <tr style=\"text-align: right;\">\n",
       "      <th></th>\n",
       "      <th>children</th>\n",
       "      <th>days_employed</th>\n",
       "      <th>dob_years</th>\n",
       "      <th>education_id</th>\n",
       "      <th>family_status_id</th>\n",
       "      <th>gender</th>\n",
       "      <th>income_type</th>\n",
       "      <th>debt</th>\n",
       "      <th>total_income</th>\n",
       "      <th>purpose</th>\n",
       "      <th>total_income_category</th>\n",
       "    </tr>\n",
       "  </thead>\n",
       "  <tbody>\n",
       "    <tr>\n",
       "      <th>0</th>\n",
       "      <td>1</td>\n",
       "      <td>8437</td>\n",
       "      <td>42</td>\n",
       "      <td>0</td>\n",
       "      <td>0</td>\n",
       "      <td>F</td>\n",
       "      <td>сотрудник</td>\n",
       "      <td>0</td>\n",
       "      <td>253875</td>\n",
       "      <td>покупка жилья</td>\n",
       "      <td>B</td>\n",
       "    </tr>\n",
       "    <tr>\n",
       "      <th>1</th>\n",
       "      <td>1</td>\n",
       "      <td>4024</td>\n",
       "      <td>36</td>\n",
       "      <td>1</td>\n",
       "      <td>0</td>\n",
       "      <td>F</td>\n",
       "      <td>сотрудник</td>\n",
       "      <td>0</td>\n",
       "      <td>112080</td>\n",
       "      <td>приобретение автомобиля</td>\n",
       "      <td>C</td>\n",
       "    </tr>\n",
       "    <tr>\n",
       "      <th>2</th>\n",
       "      <td>0</td>\n",
       "      <td>5623</td>\n",
       "      <td>33</td>\n",
       "      <td>1</td>\n",
       "      <td>0</td>\n",
       "      <td>M</td>\n",
       "      <td>сотрудник</td>\n",
       "      <td>0</td>\n",
       "      <td>145885</td>\n",
       "      <td>покупка жилья</td>\n",
       "      <td>C</td>\n",
       "    </tr>\n",
       "    <tr>\n",
       "      <th>3</th>\n",
       "      <td>3</td>\n",
       "      <td>4124</td>\n",
       "      <td>32</td>\n",
       "      <td>1</td>\n",
       "      <td>0</td>\n",
       "      <td>M</td>\n",
       "      <td>сотрудник</td>\n",
       "      <td>0</td>\n",
       "      <td>267628</td>\n",
       "      <td>дополнительное образование</td>\n",
       "      <td>B</td>\n",
       "    </tr>\n",
       "    <tr>\n",
       "      <th>4</th>\n",
       "      <td>0</td>\n",
       "      <td>14177</td>\n",
       "      <td>53</td>\n",
       "      <td>1</td>\n",
       "      <td>1</td>\n",
       "      <td>F</td>\n",
       "      <td>пенсионер</td>\n",
       "      <td>0</td>\n",
       "      <td>158616</td>\n",
       "      <td>сыграть свадьбу</td>\n",
       "      <td>C</td>\n",
       "    </tr>\n",
       "  </tbody>\n",
       "</table>\n",
       "</div>"
      ],
      "text/plain": [
       "   children  days_employed  dob_years  education_id  family_status_id gender  \\\n",
       "0         1           8437         42             0                 0      F   \n",
       "1         1           4024         36             1                 0      F   \n",
       "2         0           5623         33             1                 0      M   \n",
       "3         3           4124         32             1                 0      M   \n",
       "4         0          14177         53             1                 1      F   \n",
       "\n",
       "  income_type  debt  total_income                     purpose  \\\n",
       "0   сотрудник     0        253875               покупка жилья   \n",
       "1   сотрудник     0        112080     приобретение автомобиля   \n",
       "2   сотрудник     0        145885               покупка жилья   \n",
       "3   сотрудник     0        267628  дополнительное образование   \n",
       "4   пенсионер     0        158616             сыграть свадьбу   \n",
       "\n",
       "  total_income_category  \n",
       "0                     B  \n",
       "1                     C  \n",
       "2                     C  \n",
       "3                     B  \n",
       "4                     C  "
      ]
     },
     "execution_count": 58,
     "metadata": {},
     "output_type": "execute_result"
    }
   ],
   "source": [
    "df['total_income_category'] = df['total_income'].apply(income_cat) #создание нового столбца\n",
    "df.head() #вывод первых строк для проверки "
   ]
  },
  {
   "cell_type": "code",
   "execution_count": 59,
   "id": "845bc2ca",
   "metadata": {},
   "outputs": [
    {
     "data": {
      "text/plain": [
       "C    16016\n",
       "B     5041\n",
       "D      350\n",
       "A       25\n",
       "E       22\n",
       "Name: total_income_category, dtype: int64"
      ]
     },
     "execution_count": 59,
     "metadata": {},
     "output_type": "execute_result"
    }
   ],
   "source": [
    "df['total_income_category'].value_counts() #проверим сколько значений в каждой категории дохода"
   ]
  },
  {
   "cell_type": "markdown",
   "id": "2f736343",
   "metadata": {},
   "source": [
    "### Категоризация целей кредита."
   ]
  },
  {
   "cell_type": "markdown",
   "id": "a00c62bc",
   "metadata": {},
   "source": [
    "В столбце Цели кредита слишком много различных формулировок, поэтому лучше ввести укрупненную категоризацию целей кредита - для этого напишем функцию, при применении которой на основании данных столбца `purpose` сформируется новый столбец `purpose_category`, содержащий следующие категории:\n",
    "* операции с автомобилем \n",
    "* операции с недвижимостью\n",
    "* проведение свадьбы\n",
    "* получение образования"
   ]
  },
  {
   "cell_type": "code",
   "execution_count": 60,
   "id": "7047f68b",
   "metadata": {},
   "outputs": [
    {
     "data": {
      "text/plain": [
       "свадьба                                   791\n",
       "на проведение свадьбы                     768\n",
       "сыграть свадьбу                           765\n",
       "операции с недвижимостью                  675\n",
       "покупка коммерческой недвижимости         661\n",
       "операции с жильем                         652\n",
       "покупка жилья для сдачи                   651\n",
       "операции с коммерческой недвижимостью     650\n",
       "покупка жилья                             646\n",
       "жилье                                     646\n",
       "покупка жилья для семьи                   638\n",
       "строительство собственной недвижимости    635\n",
       "недвижимость                              633\n",
       "операции со своей недвижимостью           627\n",
       "строительство жилой недвижимости          624\n",
       "покупка недвижимости                      621\n",
       "покупка своего жилья                      620\n",
       "строительство недвижимости                619\n",
       "ремонт жилью                              607\n",
       "покупка жилой недвижимости                606\n",
       "на покупку своего автомобиля              505\n",
       "заняться высшим образованием              496\n",
       "автомобиль                                494\n",
       "сделка с подержанным автомобилем          486\n",
       "свой автомобиль                           478\n",
       "на покупку подержанного автомобиля        478\n",
       "автомобили                                478\n",
       "на покупку автомобиля                     471\n",
       "приобретение автомобиля                   461\n",
       "дополнительное образование                460\n",
       "сделка с автомобилем                      455\n",
       "высшее образование                        452\n",
       "образование                               447\n",
       "получение дополнительного образования     446\n",
       "получение образования                     442\n",
       "профильное образование                    436\n",
       "получение высшего образования             426\n",
       "заняться образованием                     408\n",
       "Name: purpose, dtype: int64"
      ]
     },
     "execution_count": 60,
     "metadata": {},
     "output_type": "execute_result"
    }
   ],
   "source": [
    "df['purpose'].value_counts() #уникальные значения столбца purpose"
   ]
  },
  {
   "cell_type": "code",
   "execution_count": 61,
   "id": "455524db",
   "metadata": {},
   "outputs": [
    {
     "data": {
      "text/plain": [
       "'Ошибка! Неверный тип данных!'"
      ]
     },
     "execution_count": 61,
     "metadata": {},
     "output_type": "execute_result"
    }
   ],
   "source": [
    "def purpose_cat(purpose):  #функция для категоризации целей кредита\n",
    "    try:\n",
    "        if 'автомоб' in purpose:\n",
    "            return 'операции с автомобилем'\n",
    "        elif 'недвиж' in purpose:\n",
    "            return 'операции с недвижимостью'\n",
    "        elif 'жиль' in purpose:\n",
    "            return 'операции с недвижимостью'\n",
    "        elif 'свадьб' in purpose:\n",
    "            return 'проведение свадьбы '    \n",
    "        elif 'образован' in purpose:\n",
    "            return 'получение образования'\n",
    "        return 'Ошибка! Нет категории!'\n",
    "    except:\n",
    "        return 'Ошибка! Неверный тип данных!'\n",
    "\n",
    "purpose_cat(2) #проверка функции"
   ]
  },
  {
   "cell_type": "code",
   "execution_count": 62,
   "id": "3628c6eb",
   "metadata": {},
   "outputs": [
    {
     "data": {
      "text/html": [
       "<div>\n",
       "<style scoped>\n",
       "    .dataframe tbody tr th:only-of-type {\n",
       "        vertical-align: middle;\n",
       "    }\n",
       "\n",
       "    .dataframe tbody tr th {\n",
       "        vertical-align: top;\n",
       "    }\n",
       "\n",
       "    .dataframe thead th {\n",
       "        text-align: right;\n",
       "    }\n",
       "</style>\n",
       "<table border=\"1\" class=\"dataframe\">\n",
       "  <thead>\n",
       "    <tr style=\"text-align: right;\">\n",
       "      <th></th>\n",
       "      <th>children</th>\n",
       "      <th>days_employed</th>\n",
       "      <th>dob_years</th>\n",
       "      <th>education_id</th>\n",
       "      <th>family_status_id</th>\n",
       "      <th>gender</th>\n",
       "      <th>income_type</th>\n",
       "      <th>debt</th>\n",
       "      <th>total_income</th>\n",
       "      <th>purpose</th>\n",
       "      <th>total_income_category</th>\n",
       "      <th>purpose_category</th>\n",
       "    </tr>\n",
       "  </thead>\n",
       "  <tbody>\n",
       "    <tr>\n",
       "      <th>0</th>\n",
       "      <td>1</td>\n",
       "      <td>8437</td>\n",
       "      <td>42</td>\n",
       "      <td>0</td>\n",
       "      <td>0</td>\n",
       "      <td>F</td>\n",
       "      <td>сотрудник</td>\n",
       "      <td>0</td>\n",
       "      <td>253875</td>\n",
       "      <td>покупка жилья</td>\n",
       "      <td>B</td>\n",
       "      <td>операции с недвижимостью</td>\n",
       "    </tr>\n",
       "    <tr>\n",
       "      <th>1</th>\n",
       "      <td>1</td>\n",
       "      <td>4024</td>\n",
       "      <td>36</td>\n",
       "      <td>1</td>\n",
       "      <td>0</td>\n",
       "      <td>F</td>\n",
       "      <td>сотрудник</td>\n",
       "      <td>0</td>\n",
       "      <td>112080</td>\n",
       "      <td>приобретение автомобиля</td>\n",
       "      <td>C</td>\n",
       "      <td>операции с автомобилем</td>\n",
       "    </tr>\n",
       "    <tr>\n",
       "      <th>2</th>\n",
       "      <td>0</td>\n",
       "      <td>5623</td>\n",
       "      <td>33</td>\n",
       "      <td>1</td>\n",
       "      <td>0</td>\n",
       "      <td>M</td>\n",
       "      <td>сотрудник</td>\n",
       "      <td>0</td>\n",
       "      <td>145885</td>\n",
       "      <td>покупка жилья</td>\n",
       "      <td>C</td>\n",
       "      <td>операции с недвижимостью</td>\n",
       "    </tr>\n",
       "    <tr>\n",
       "      <th>3</th>\n",
       "      <td>3</td>\n",
       "      <td>4124</td>\n",
       "      <td>32</td>\n",
       "      <td>1</td>\n",
       "      <td>0</td>\n",
       "      <td>M</td>\n",
       "      <td>сотрудник</td>\n",
       "      <td>0</td>\n",
       "      <td>267628</td>\n",
       "      <td>дополнительное образование</td>\n",
       "      <td>B</td>\n",
       "      <td>получение образования</td>\n",
       "    </tr>\n",
       "    <tr>\n",
       "      <th>4</th>\n",
       "      <td>0</td>\n",
       "      <td>14177</td>\n",
       "      <td>53</td>\n",
       "      <td>1</td>\n",
       "      <td>1</td>\n",
       "      <td>F</td>\n",
       "      <td>пенсионер</td>\n",
       "      <td>0</td>\n",
       "      <td>158616</td>\n",
       "      <td>сыграть свадьбу</td>\n",
       "      <td>C</td>\n",
       "      <td>проведение свадьбы</td>\n",
       "    </tr>\n",
       "  </tbody>\n",
       "</table>\n",
       "</div>"
      ],
      "text/plain": [
       "   children  days_employed  dob_years  education_id  family_status_id gender  \\\n",
       "0         1           8437         42             0                 0      F   \n",
       "1         1           4024         36             1                 0      F   \n",
       "2         0           5623         33             1                 0      M   \n",
       "3         3           4124         32             1                 0      M   \n",
       "4         0          14177         53             1                 1      F   \n",
       "\n",
       "  income_type  debt  total_income                     purpose  \\\n",
       "0   сотрудник     0        253875               покупка жилья   \n",
       "1   сотрудник     0        112080     приобретение автомобиля   \n",
       "2   сотрудник     0        145885               покупка жилья   \n",
       "3   сотрудник     0        267628  дополнительное образование   \n",
       "4   пенсионер     0        158616             сыграть свадьбу   \n",
       "\n",
       "  total_income_category          purpose_category  \n",
       "0                     B  операции с недвижимостью  \n",
       "1                     C    операции с автомобилем  \n",
       "2                     C  операции с недвижимостью  \n",
       "3                     B     получение образования  \n",
       "4                     C       проведение свадьбы   "
      ]
     },
     "execution_count": 62,
     "metadata": {},
     "output_type": "execute_result"
    }
   ],
   "source": [
    "df['purpose_category'] = df['purpose'].apply(purpose_cat) #создание нового столбца\n",
    "df.head() #вывод первых строк для проверки "
   ]
  },
  {
   "cell_type": "code",
   "execution_count": 63,
   "id": "cd5e6467",
   "metadata": {},
   "outputs": [
    {
     "data": {
      "text/plain": [
       "операции с недвижимостью    10811\n",
       "операции с автомобилем       4306\n",
       "получение образования        4013\n",
       "проведение свадьбы           2324\n",
       "Name: purpose_category, dtype: int64"
      ]
     },
     "execution_count": 63,
     "metadata": {},
     "output_type": "execute_result"
    }
   ],
   "source": [
    "df['purpose_category'].value_counts() #проверим сколько значений в каждой категории цели кредита"
   ]
  },
  {
   "cell_type": "markdown",
   "id": "c6832d58",
   "metadata": {},
   "source": [
    "**Итог предобработки данных**"
   ]
  },
  {
   "cell_type": "markdown",
   "id": "49c53334",
   "metadata": {},
   "source": [
    "Мы обработали грубые ошибки, удалили дубликаты, категоризированные данные, создали таблицы-словари.   Теперь группируя очищенные данные по созданным категориям, мы сможем провести анализ и ответить на вопросы нашего исследования."
   ]
  },
  {
   "cell_type": "markdown",
   "id": "07fb02e0",
   "metadata": {},
   "source": [
    "## Ответы на вопросы."
   ]
  },
  {
   "cell_type": "markdown",
   "id": "958abcb8",
   "metadata": {},
   "source": [
    "### Вопрос 1: Есть ли зависимость между количеством детей и возвратом кредита в срок?"
   ]
  },
  {
   "cell_type": "markdown",
   "id": "ca203514",
   "metadata": {},
   "source": [
    "Для ответа на вопрос сформируем сводную таблицу - наличие детей и среднее значение по столбцу наличия задолженностей по кредитам. Так как наличие задолженности обозначено 1, а отсутствие задолженности 0, то расчет средней как раз покажет нам % возврата кредита от общего числа кредитов в категории."
   ]
  },
  {
   "cell_type": "code",
   "execution_count": 64,
   "id": "8b8fb192",
   "metadata": {},
   "outputs": [],
   "source": [
    "df_pivot_cm = pd.merge(df, df_children_category,on='children',how='left') #объединим основную таблицу и таблицу категории детей"
   ]
  },
  {
   "cell_type": "code",
   "execution_count": 65,
   "id": "5a8048b3",
   "metadata": {},
   "outputs": [
    {
     "data": {
      "text/html": [
       "<div>\n",
       "<style scoped>\n",
       "    .dataframe tbody tr th:only-of-type {\n",
       "        vertical-align: middle;\n",
       "    }\n",
       "\n",
       "    .dataframe tbody tr th {\n",
       "        vertical-align: top;\n",
       "    }\n",
       "\n",
       "    .dataframe thead th {\n",
       "        text-align: right;\n",
       "    }\n",
       "</style>\n",
       "<table border=\"1\" class=\"dataframe\">\n",
       "  <thead>\n",
       "    <tr style=\"text-align: right;\">\n",
       "      <th></th>\n",
       "      <th>debt</th>\n",
       "    </tr>\n",
       "    <tr>\n",
       "      <th>children_category</th>\n",
       "      <th></th>\n",
       "    </tr>\n",
       "  </thead>\n",
       "  <tbody>\n",
       "    <tr>\n",
       "      <th>бездетные</th>\n",
       "      <td>0.075438</td>\n",
       "    </tr>\n",
       "    <tr>\n",
       "      <th>два ребенка</th>\n",
       "      <td>0.094925</td>\n",
       "    </tr>\n",
       "    <tr>\n",
       "      <th>многодетные</th>\n",
       "      <td>0.081579</td>\n",
       "    </tr>\n",
       "    <tr>\n",
       "      <th>один ребенок</th>\n",
       "      <td>0.091658</td>\n",
       "    </tr>\n",
       "  </tbody>\n",
       "</table>\n",
       "</div>"
      ],
      "text/plain": [
       "                       debt\n",
       "children_category          \n",
       "бездетные          0.075438\n",
       "два ребенка        0.094925\n",
       "многодетные        0.081579\n",
       "один ребенок       0.091658"
      ]
     },
     "execution_count": 65,
     "metadata": {},
     "output_type": "execute_result"
    }
   ],
   "source": [
    "df_pivot_cm.pivot_table(index = ['children_category'], #создадим сводную таблицу\n",
    "                        values ='debt', \n",
    "                        aggfunc = 'mean')"
   ]
  },
  {
   "cell_type": "code",
   "execution_count": 66,
   "id": "991e70fd",
   "metadata": {},
   "outputs": [
    {
     "data": {
      "text/html": [
       "<div>\n",
       "<style scoped>\n",
       "    .dataframe tbody tr th:only-of-type {\n",
       "        vertical-align: middle;\n",
       "    }\n",
       "\n",
       "    .dataframe tbody tr th {\n",
       "        vertical-align: top;\n",
       "    }\n",
       "\n",
       "    .dataframe thead th {\n",
       "        text-align: right;\n",
       "    }\n",
       "</style>\n",
       "<table border=\"1\" class=\"dataframe\">\n",
       "  <thead>\n",
       "    <tr style=\"text-align: right;\">\n",
       "      <th></th>\n",
       "      <th>count</th>\n",
       "      <th>sum</th>\n",
       "      <th>mean</th>\n",
       "    </tr>\n",
       "    <tr>\n",
       "      <th>children_category</th>\n",
       "      <th></th>\n",
       "      <th></th>\n",
       "      <th></th>\n",
       "    </tr>\n",
       "  </thead>\n",
       "  <tbody>\n",
       "    <tr>\n",
       "      <th>бездетные</th>\n",
       "      <td>14091</td>\n",
       "      <td>1063</td>\n",
       "      <td>0.075438</td>\n",
       "    </tr>\n",
       "    <tr>\n",
       "      <th>два ребенка</th>\n",
       "      <td>2128</td>\n",
       "      <td>202</td>\n",
       "      <td>0.094925</td>\n",
       "    </tr>\n",
       "    <tr>\n",
       "      <th>многодетные</th>\n",
       "      <td>380</td>\n",
       "      <td>31</td>\n",
       "      <td>0.081579</td>\n",
       "    </tr>\n",
       "    <tr>\n",
       "      <th>один ребенок</th>\n",
       "      <td>4855</td>\n",
       "      <td>445</td>\n",
       "      <td>0.091658</td>\n",
       "    </tr>\n",
       "  </tbody>\n",
       "</table>\n",
       "</div>"
      ],
      "text/plain": [
       "                   count   sum      mean\n",
       "children_category                       \n",
       "бездетные          14091  1063  0.075438\n",
       "два ребенка         2128   202  0.094925\n",
       "многодетные          380    31  0.081579\n",
       "один ребенок        4855   445  0.091658"
      ]
     },
     "execution_count": 66,
     "metadata": {},
     "output_type": "execute_result"
    }
   ],
   "source": [
    "df_pivot_cm.groupby([df_pivot_cm['children_category']])['debt'].agg(['count','sum', 'mean']) #группировка таблицы"
   ]
  },
  {
   "cell_type": "code",
   "execution_count": 67,
   "id": "e791d9ef",
   "metadata": {},
   "outputs": [
    {
     "data": {
      "text/plain": [
       "children_category\n",
       "False    0.092082\n",
       "True     0.075438\n",
       "Name: debt, dtype: float64"
      ]
     },
     "execution_count": 67,
     "metadata": {},
     "output_type": "execute_result"
    }
   ],
   "source": [
    "df_pivot_cm.groupby([df_pivot_cm['children_category']=='бездетные'])['debt'].mean() #группировка \"бездетные\" и люди с детьми"
   ]
  },
  {
   "cell_type": "markdown",
   "id": "cbaa246b",
   "metadata": {},
   "source": [
    " <font size=4>**Вывод 1:**</font>"
   ]
  },
  {
   "cell_type": "markdown",
   "id": "6a7fc230",
   "metadata": {},
   "source": [
    "Прямая зависимость между наличием детей и возвратом кредита в срок не наблюдается.<br>\n",
    "\n",
    "Но необходимо отметить, что задолженность по возврату кредита у бездетных людей составляет **7.5 %** от общего числа выданных кредитов,\n",
    "что чуть ниже, чем задолженность по кредитам у людей с детьми = **9.2 %** <br>\n",
    "\n",
    "Также люди с одним **9.2 %**  или двумя **9.4 %** детьми остаются в должниках чаще, чем многодетные семьи **8.2 %**<br>\n",
    "Но при этом и само количество предоставленных им кредитов заметно больше."
   ]
  },
  {
   "cell_type": "markdown",
   "id": "06026dcd",
   "metadata": {},
   "source": [
    "### Вопрос 2: Есть ли зависимость между семейным положением и возвратом кредита в срок?"
   ]
  },
  {
   "cell_type": "code",
   "execution_count": 68,
   "id": "3a8060e5",
   "metadata": {},
   "outputs": [
    {
     "data": {
      "text/html": [
       "<div>\n",
       "<style scoped>\n",
       "    .dataframe tbody tr th:only-of-type {\n",
       "        vertical-align: middle;\n",
       "    }\n",
       "\n",
       "    .dataframe tbody tr th {\n",
       "        vertical-align: top;\n",
       "    }\n",
       "\n",
       "    .dataframe thead th {\n",
       "        text-align: right;\n",
       "    }\n",
       "</style>\n",
       "<table border=\"1\" class=\"dataframe\">\n",
       "  <thead>\n",
       "    <tr style=\"text-align: right;\">\n",
       "      <th></th>\n",
       "      <th>debt</th>\n",
       "    </tr>\n",
       "    <tr>\n",
       "      <th>family_category</th>\n",
       "      <th></th>\n",
       "    </tr>\n",
       "  </thead>\n",
       "  <tbody>\n",
       "    <tr>\n",
       "      <th>в браке</th>\n",
       "      <td>0.079988</td>\n",
       "    </tr>\n",
       "    <tr>\n",
       "      <th>не в браке</th>\n",
       "      <td>0.085012</td>\n",
       "    </tr>\n",
       "  </tbody>\n",
       "</table>\n",
       "</div>"
      ],
      "text/plain": [
       "                     debt\n",
       "family_category          \n",
       "в браке          0.079988\n",
       "не в браке       0.085012"
      ]
     },
     "execution_count": 68,
     "metadata": {},
     "output_type": "execute_result"
    }
   ],
   "source": [
    "#объединим основную таблицу и таблицу семейного статуса\n",
    "df_pivot_family_id = pd.merge(df, df_family_category, on='family_status_id', how='left')  \n",
    "\n",
    "df_pivot_family = df_pivot_family_id.pivot_table(index = ['family_category'], #создадим сводную таблицу\n",
    "                                                 values ='debt', \n",
    "                                                 aggfunc = 'mean')\n",
    "df_pivot_family "
   ]
  },
  {
   "cell_type": "code",
   "execution_count": 69,
   "id": "ffffad13",
   "metadata": {},
   "outputs": [
    {
     "data": {
      "text/html": [
       "<div>\n",
       "<style scoped>\n",
       "    .dataframe tbody tr th:only-of-type {\n",
       "        vertical-align: middle;\n",
       "    }\n",
       "\n",
       "    .dataframe tbody tr th {\n",
       "        vertical-align: top;\n",
       "    }\n",
       "\n",
       "    .dataframe thead th {\n",
       "        text-align: right;\n",
       "    }\n",
       "</style>\n",
       "<table border=\"1\" class=\"dataframe\">\n",
       "  <thead>\n",
       "    <tr style=\"text-align: right;\">\n",
       "      <th></th>\n",
       "      <th>count</th>\n",
       "      <th>sum</th>\n",
       "      <th>mean</th>\n",
       "    </tr>\n",
       "    <tr>\n",
       "      <th>family_status</th>\n",
       "      <th></th>\n",
       "      <th></th>\n",
       "      <th></th>\n",
       "    </tr>\n",
       "  </thead>\n",
       "  <tbody>\n",
       "    <tr>\n",
       "      <th>Не женат / не замужем</th>\n",
       "      <td>2810</td>\n",
       "      <td>274</td>\n",
       "      <td>0.097509</td>\n",
       "    </tr>\n",
       "    <tr>\n",
       "      <th>в разводе</th>\n",
       "      <td>1195</td>\n",
       "      <td>85</td>\n",
       "      <td>0.071130</td>\n",
       "    </tr>\n",
       "    <tr>\n",
       "      <th>вдовец / вдова</th>\n",
       "      <td>959</td>\n",
       "      <td>63</td>\n",
       "      <td>0.065693</td>\n",
       "    </tr>\n",
       "    <tr>\n",
       "      <th>гражданский брак</th>\n",
       "      <td>4151</td>\n",
       "      <td>388</td>\n",
       "      <td>0.093471</td>\n",
       "    </tr>\n",
       "    <tr>\n",
       "      <th>женат / замужем</th>\n",
       "      <td>12339</td>\n",
       "      <td>931</td>\n",
       "      <td>0.075452</td>\n",
       "    </tr>\n",
       "  </tbody>\n",
       "</table>\n",
       "</div>"
      ],
      "text/plain": [
       "                       count  sum      mean\n",
       "family_status                              \n",
       "Не женат / не замужем   2810  274  0.097509\n",
       "в разводе               1195   85  0.071130\n",
       "вдовец / вдова           959   63  0.065693\n",
       "гражданский брак        4151  388  0.093471\n",
       "женат / замужем        12339  931  0.075452"
      ]
     },
     "execution_count": 69,
     "metadata": {},
     "output_type": "execute_result"
    }
   ],
   "source": [
    "df_pivot_family_id.groupby([df_pivot_family_id['family_status']])['debt'].agg(['count','sum', 'mean']) #группировка таблицы"
   ]
  },
  {
   "cell_type": "markdown",
   "id": "4a72ebfc",
   "metadata": {},
   "source": [
    " <font size=4>**Вывод 2:**</font>"
   ]
  },
  {
   "cell_type": "markdown",
   "id": "f5e1536c",
   "metadata": {},
   "source": [
    "Люди находящиеся в браке остаются в должниках в **8 %** от общего числа выданных им кредитов, люди не состоящие в браке в **8.5 %**. Разница составила всего **0.5 %**, можно говорить о том, что зависимости от семейного положения нет. <br>\n",
    "\n",
    "Если посмотреть более детально, то можно увидеть следующее:\n",
    "* наибольший процент невозвратов кредитов у не женатых/не замужних - **9.8 %**\n",
    "* наименьший невозврат у вдовцов/вдов - **6.6%** и людей состоящих в разводе - **7.1 %**\n"
   ]
  },
  {
   "cell_type": "markdown",
   "id": "0fa7d58f",
   "metadata": {},
   "source": [
    "### Вопрос 3: Есть ли зависимость между уровнем дохода и возвратом кредита в срок?"
   ]
  },
  {
   "cell_type": "code",
   "execution_count": 70,
   "id": "b38ec9d6",
   "metadata": {},
   "outputs": [
    {
     "data": {
      "text/html": [
       "<div>\n",
       "<style scoped>\n",
       "    .dataframe tbody tr th:only-of-type {\n",
       "        vertical-align: middle;\n",
       "    }\n",
       "\n",
       "    .dataframe tbody tr th {\n",
       "        vertical-align: top;\n",
       "    }\n",
       "\n",
       "    .dataframe thead th {\n",
       "        text-align: right;\n",
       "    }\n",
       "</style>\n",
       "<table border=\"1\" class=\"dataframe\">\n",
       "  <thead>\n",
       "    <tr style=\"text-align: right;\">\n",
       "      <th></th>\n",
       "      <th></th>\n",
       "      <th>debt</th>\n",
       "    </tr>\n",
       "    <tr>\n",
       "      <th>total_income_category</th>\n",
       "      <th>range</th>\n",
       "      <th></th>\n",
       "    </tr>\n",
       "  </thead>\n",
       "  <tbody>\n",
       "    <tr>\n",
       "      <th>A</th>\n",
       "      <th>&gt; 1 000 001</th>\n",
       "      <td>0.080000</td>\n",
       "    </tr>\n",
       "    <tr>\n",
       "      <th>B</th>\n",
       "      <th>200 001 - 1 000 000</th>\n",
       "      <td>0.070621</td>\n",
       "    </tr>\n",
       "    <tr>\n",
       "      <th>C</th>\n",
       "      <th>50 001 - 200 000</th>\n",
       "      <td>0.084915</td>\n",
       "    </tr>\n",
       "    <tr>\n",
       "      <th>D</th>\n",
       "      <th>30 001 - 50 000</th>\n",
       "      <td>0.060000</td>\n",
       "    </tr>\n",
       "    <tr>\n",
       "      <th>E</th>\n",
       "      <th>0 - 30 000</th>\n",
       "      <td>0.090909</td>\n",
       "    </tr>\n",
       "  </tbody>\n",
       "</table>\n",
       "</div>"
      ],
      "text/plain": [
       "                                               debt\n",
       "total_income_category range                        \n",
       "A                     > 1 000 001          0.080000\n",
       "B                     200 001 - 1 000 000  0.070621\n",
       "C                     50 001 - 200 000     0.084915\n",
       "D                     30 001 - 50 000      0.060000\n",
       "E                     0 - 30 000           0.090909"
      ]
     },
     "execution_count": 70,
     "metadata": {},
     "output_type": "execute_result"
    }
   ],
   "source": [
    "#объединим основную таблицу и таблицу категоризации дохода\n",
    "df_pivot_i_c = pd.merge(df, df_income_category,on='total_income_category',how='left') \n",
    "\n",
    "df_pivot_income_category = df_pivot_i_c.pivot_table(index = ['total_income_category','range'], #создадим сводную таблицу\n",
    "                                                    values ='debt', \n",
    "                                                    aggfunc = 'mean')\n",
    "df_pivot_income_category"
   ]
  },
  {
   "cell_type": "code",
   "execution_count": 71,
   "id": "71fe7040",
   "metadata": {},
   "outputs": [
    {
     "data": {
      "text/html": [
       "<div>\n",
       "<style scoped>\n",
       "    .dataframe tbody tr th:only-of-type {\n",
       "        vertical-align: middle;\n",
       "    }\n",
       "\n",
       "    .dataframe tbody tr th {\n",
       "        vertical-align: top;\n",
       "    }\n",
       "\n",
       "    .dataframe thead th {\n",
       "        text-align: right;\n",
       "    }\n",
       "</style>\n",
       "<table border=\"1\" class=\"dataframe\">\n",
       "  <thead>\n",
       "    <tr style=\"text-align: right;\">\n",
       "      <th></th>\n",
       "      <th>count</th>\n",
       "      <th>sum</th>\n",
       "      <th>mean</th>\n",
       "    </tr>\n",
       "    <tr>\n",
       "      <th>total_income_category</th>\n",
       "      <th></th>\n",
       "      <th></th>\n",
       "      <th></th>\n",
       "    </tr>\n",
       "  </thead>\n",
       "  <tbody>\n",
       "    <tr>\n",
       "      <th>A</th>\n",
       "      <td>25</td>\n",
       "      <td>2</td>\n",
       "      <td>0.080000</td>\n",
       "    </tr>\n",
       "    <tr>\n",
       "      <th>B</th>\n",
       "      <td>5041</td>\n",
       "      <td>356</td>\n",
       "      <td>0.070621</td>\n",
       "    </tr>\n",
       "    <tr>\n",
       "      <th>C</th>\n",
       "      <td>16016</td>\n",
       "      <td>1360</td>\n",
       "      <td>0.084915</td>\n",
       "    </tr>\n",
       "    <tr>\n",
       "      <th>D</th>\n",
       "      <td>350</td>\n",
       "      <td>21</td>\n",
       "      <td>0.060000</td>\n",
       "    </tr>\n",
       "    <tr>\n",
       "      <th>E</th>\n",
       "      <td>22</td>\n",
       "      <td>2</td>\n",
       "      <td>0.090909</td>\n",
       "    </tr>\n",
       "  </tbody>\n",
       "</table>\n",
       "</div>"
      ],
      "text/plain": [
       "                       count   sum      mean\n",
       "total_income_category                       \n",
       "A                         25     2  0.080000\n",
       "B                       5041   356  0.070621\n",
       "C                      16016  1360  0.084915\n",
       "D                        350    21  0.060000\n",
       "E                         22     2  0.090909"
      ]
     },
     "execution_count": 71,
     "metadata": {},
     "output_type": "execute_result"
    }
   ],
   "source": [
    "df_pivot_i_c.groupby([df_pivot_i_c['total_income_category']])['debt'].agg(['count','sum', 'mean']) #группировка таблицы"
   ]
  },
  {
   "cell_type": "code",
   "execution_count": 72,
   "id": "be84e4b5",
   "metadata": {},
   "outputs": [
    {
     "data": {
      "text/plain": [
       "count    21454.00000\n",
       "sum       1741.00000\n",
       "mean         0.08115\n",
       "Name: debt, dtype: float64"
      ]
     },
     "execution_count": 72,
     "metadata": {},
     "output_type": "execute_result"
    }
   ],
   "source": [
    "df_pivot_i_c['debt'].agg(['count','sum', 'mean'])"
   ]
  },
  {
   "cell_type": "markdown",
   "id": "ab8dfab8",
   "metadata": {},
   "source": [
    " <font size=4>**Вывод 3:**</font>"
   ]
  },
  {
   "cell_type": "markdown",
   "id": "075e44c1",
   "metadata": {},
   "source": [
    "Наблюдается зависимость вероятности возврата кредита от уровня дохода клиента. <br>\n",
    "\n",
    "Что интересно - высокие невозвраты долга наблюдаются в группах `A` (доход от 1М руб) **8%** и `E` (доходы до 30 тыс.руб) **9.1 %**. Правда и количество выданных кредитов невелико - на чуть более 20 кредитов 2 задолженности.<br>\n",
    "\n",
    "Меньше всего должников в группе с доходом 30-50 тыс.руб **6 %** и в группе с доходом 200-1000 тыс.руб **7.1 %**.<br>\n",
    "\n",
    "В категории клиентов со средним уровнем дохода 50-200 тыс.руб. процент невозврата один из самых больших **8.5 %**, но в этой группе сосредоточено более половины всех выданных кредитов. А если точнее примерно 76 % (16 тыс.шт при общем количестве 21 тыс.)"
   ]
  },
  {
   "cell_type": "markdown",
   "id": "7876d021",
   "metadata": {},
   "source": [
    "### Вопрос 4: Как разные цели кредита влияют на его возврат в срок?"
   ]
  },
  {
   "cell_type": "code",
   "execution_count": 73,
   "id": "e212cf56",
   "metadata": {},
   "outputs": [
    {
     "data": {
      "text/html": [
       "<div>\n",
       "<style scoped>\n",
       "    .dataframe tbody tr th:only-of-type {\n",
       "        vertical-align: middle;\n",
       "    }\n",
       "\n",
       "    .dataframe tbody tr th {\n",
       "        vertical-align: top;\n",
       "    }\n",
       "\n",
       "    .dataframe thead th {\n",
       "        text-align: right;\n",
       "    }\n",
       "</style>\n",
       "<table border=\"1\" class=\"dataframe\">\n",
       "  <thead>\n",
       "    <tr style=\"text-align: right;\">\n",
       "      <th></th>\n",
       "      <th>debt</th>\n",
       "    </tr>\n",
       "    <tr>\n",
       "      <th>purpose_category</th>\n",
       "      <th></th>\n",
       "    </tr>\n",
       "  </thead>\n",
       "  <tbody>\n",
       "    <tr>\n",
       "      <th>операции с автомобилем</th>\n",
       "      <td>0.093590</td>\n",
       "    </tr>\n",
       "    <tr>\n",
       "      <th>операции с недвижимостью</th>\n",
       "      <td>0.072334</td>\n",
       "    </tr>\n",
       "    <tr>\n",
       "      <th>получение образования</th>\n",
       "      <td>0.092200</td>\n",
       "    </tr>\n",
       "    <tr>\n",
       "      <th>проведение свадьбы</th>\n",
       "      <td>0.080034</td>\n",
       "    </tr>\n",
       "  </tbody>\n",
       "</table>\n",
       "</div>"
      ],
      "text/plain": [
       "                              debt\n",
       "purpose_category                  \n",
       "операции с автомобилем    0.093590\n",
       "операции с недвижимостью  0.072334\n",
       "получение образования     0.092200\n",
       "проведение свадьбы        0.080034"
      ]
     },
     "execution_count": 73,
     "metadata": {},
     "output_type": "execute_result"
    }
   ],
   "source": [
    "df_pivot_purpose = df.pivot_table(index = ['purpose_category'], #формируем сводную таблицу\n",
    "                                  values ='debt', \n",
    "                                  aggfunc = 'mean')\n",
    "df_pivot_purpose "
   ]
  },
  {
   "cell_type": "markdown",
   "id": "233b8e70",
   "metadata": {},
   "source": [
    " <font size=4>**Вывод 4:**</font>"
   ]
  },
  {
   "cell_type": "markdown",
   "id": "1a7f6ac7",
   "metadata": {},
   "source": [
    "Охотнее всего клиенты возвращают кредиты на приобретение и ремонт недвижимости **7.2 %**, и проведение свадеб **8 %**. <br>\n",
    "Наименьший возврат в группах на покупку автомобиля **9.4 %** и получение образования **9.2 %**."
   ]
  },
  {
   "cell_type": "markdown",
   "id": "83442051",
   "metadata": {},
   "source": [
    "### Разные цели кредита по категориям\n"
   ]
  },
  {
   "cell_type": "markdown",
   "id": "07b6a35a",
   "metadata": {},
   "source": [
    "Далее интересно будет рассмотреть то, как разные категории клиентов возвращают кредиты в зависимости от цели его получения.<br>\n",
    "Построим несколько сводных таблиц и для наглядости добавим `heatmaps`.\n"
   ]
  },
  {
   "cell_type": "markdown",
   "id": "6861891f",
   "metadata": {},
   "source": [
    "*******************************\n",
    "Посмотрим как возвращают кредиты клиенты разных полов по целям займов."
   ]
  },
  {
   "cell_type": "code",
   "execution_count": 74,
   "id": "7cf3f1b6",
   "metadata": {},
   "outputs": [
    {
     "data": {
      "text/html": [
       "<div>\n",
       "<style scoped>\n",
       "    .dataframe tbody tr th:only-of-type {\n",
       "        vertical-align: middle;\n",
       "    }\n",
       "\n",
       "    .dataframe tbody tr th {\n",
       "        vertical-align: top;\n",
       "    }\n",
       "\n",
       "    .dataframe thead th {\n",
       "        text-align: right;\n",
       "    }\n",
       "</style>\n",
       "<table border=\"1\" class=\"dataframe\">\n",
       "  <thead>\n",
       "    <tr style=\"text-align: right;\">\n",
       "      <th>purpose_category</th>\n",
       "      <th>операции с автомобилем</th>\n",
       "      <th>операции с недвижимостью</th>\n",
       "      <th>получение образования</th>\n",
       "      <th>проведение свадьбы</th>\n",
       "    </tr>\n",
       "    <tr>\n",
       "      <th>gender</th>\n",
       "      <th></th>\n",
       "      <th></th>\n",
       "      <th></th>\n",
       "      <th></th>\n",
       "    </tr>\n",
       "  </thead>\n",
       "  <tbody>\n",
       "    <tr>\n",
       "      <th>F</th>\n",
       "      <td>0.082168</td>\n",
       "      <td>0.062659</td>\n",
       "      <td>0.077615</td>\n",
       "      <td>0.069142</td>\n",
       "    </tr>\n",
       "    <tr>\n",
       "      <th>M</th>\n",
       "      <td>0.116183</td>\n",
       "      <td>0.090738</td>\n",
       "      <td>0.121100</td>\n",
       "      <td>0.102362</td>\n",
       "    </tr>\n",
       "  </tbody>\n",
       "</table>\n",
       "</div>"
      ],
      "text/plain": [
       "purpose_category  операции с автомобилем  операции с недвижимостью  \\\n",
       "gender                                                               \n",
       "F                               0.082168                  0.062659   \n",
       "M                               0.116183                  0.090738   \n",
       "\n",
       "purpose_category  получение образования  проведение свадьбы   \n",
       "gender                                                        \n",
       "F                              0.077615             0.069142  \n",
       "M                              0.121100             0.102362  "
      ]
     },
     "execution_count": 74,
     "metadata": {},
     "output_type": "execute_result"
    }
   ],
   "source": [
    "df_pivot_gender_purpose = df.pivot_table(index = ['gender'], \n",
    "                          columns='purpose_category',\n",
    "                          values ='debt', \n",
    "                          aggfunc = 'mean')\n",
    "df_pivot_gender_purpose"
   ]
  },
  {
   "cell_type": "markdown",
   "id": "3f7cec4a",
   "metadata": {},
   "source": [
    "Когда таблица имеет много значений - не очень удобно анализировать данные. Попробуем собрать `heatmap`."
   ]
  },
  {
   "cell_type": "code",
   "execution_count": 75,
   "id": "78845666",
   "metadata": {},
   "outputs": [
    {
     "data": {
      "text/plain": [
       "[Text(0.5, 0, 'операции с автомобилем'),\n",
       " Text(1.5, 0, 'операции с недвижимостью'),\n",
       " Text(2.5, 0, 'получение образования'),\n",
       " Text(3.5, 0, 'проведение свадьбы ')]"
      ]
     },
     "execution_count": 75,
     "metadata": {},
     "output_type": "execute_result"
    },
    {
     "data": {
      "image/png": "[encoded data removed]",
      "text/plain": [
       "<Figure size 432x288 with 2 Axes>"
      ]
     },
     "metadata": {
      "needs_background": "light"
     },
     "output_type": "display_data"
    }
   ],
   "source": [
    "hm_gender_purpose = sns.heatmap(df_pivot_gender_purpose,\n",
    "                                annot=True,\n",
    "                                cmap=\"Purples\",\n",
    "                                fmt='0.2f',\n",
    "                                linewidths=2,\n",
    "                                annot_kws={\n",
    "                                'fontsize': 16,\n",
    "                                'fontweight': 'bold'})\n",
    "hm_gender_purpose.set_xticklabels(hm_gender_purpose.get_xticklabels(),rotation = 60)"
   ]
  },
  {
   "cell_type": "markdown",
   "id": "a6043af1",
   "metadata": {},
   "source": [
    "Мужчины хуже всего отдают кредиты на покупку автомобиля и на образование, **12 %** невозвратов.<br>\n",
    "Женщины чаще возвращают кредиты на недвижимость и проведение свадьбы, **6 %** и **7 %** невозвратов соответственно."
   ]
  },
  {
   "cell_type": "markdown",
   "id": "8343ac46",
   "metadata": {},
   "source": [
    "*************************\n",
    "Посмотрим как возвращают кредиты, полученные на различные цели, клиенты состоящие в браке и холостые."
   ]
  },
  {
   "cell_type": "code",
   "execution_count": 76,
   "id": "78587dff",
   "metadata": {},
   "outputs": [
    {
     "data": {
      "text/html": [
       "<div>\n",
       "<style scoped>\n",
       "    .dataframe tbody tr th:only-of-type {\n",
       "        vertical-align: middle;\n",
       "    }\n",
       "\n",
       "    .dataframe tbody tr th {\n",
       "        vertical-align: top;\n",
       "    }\n",
       "\n",
       "    .dataframe thead th {\n",
       "        text-align: right;\n",
       "    }\n",
       "</style>\n",
       "<table border=\"1\" class=\"dataframe\">\n",
       "  <thead>\n",
       "    <tr style=\"text-align: right;\">\n",
       "      <th>purpose_category</th>\n",
       "      <th>операции с автомобилем</th>\n",
       "      <th>операции с недвижимостью</th>\n",
       "      <th>получение образования</th>\n",
       "      <th>проведение свадьбы</th>\n",
       "    </tr>\n",
       "    <tr>\n",
       "      <th>family_status</th>\n",
       "      <th></th>\n",
       "      <th></th>\n",
       "      <th></th>\n",
       "      <th></th>\n",
       "    </tr>\n",
       "  </thead>\n",
       "  <tbody>\n",
       "    <tr>\n",
       "      <th>Не женат / не замужем</th>\n",
       "      <td>0.128728</td>\n",
       "      <td>0.081454</td>\n",
       "      <td>0.107452</td>\n",
       "      <td>NaN</td>\n",
       "    </tr>\n",
       "    <tr>\n",
       "      <th>в разводе</th>\n",
       "      <td>0.074733</td>\n",
       "      <td>0.069527</td>\n",
       "      <td>0.071429</td>\n",
       "      <td>NaN</td>\n",
       "    </tr>\n",
       "    <tr>\n",
       "      <th>вдовец / вдова</th>\n",
       "      <td>0.091743</td>\n",
       "      <td>0.051661</td>\n",
       "      <td>0.075377</td>\n",
       "      <td>NaN</td>\n",
       "    </tr>\n",
       "    <tr>\n",
       "      <th>гражданский брак</th>\n",
       "      <td>0.117512</td>\n",
       "      <td>0.092012</td>\n",
       "      <td>0.148515</td>\n",
       "      <td>0.080034</td>\n",
       "    </tr>\n",
       "    <tr>\n",
       "      <th>женат / замужем</th>\n",
       "      <td>0.083699</td>\n",
       "      <td>0.069349</td>\n",
       "      <td>0.083237</td>\n",
       "      <td>NaN</td>\n",
       "    </tr>\n",
       "  </tbody>\n",
       "</table>\n",
       "</div>"
      ],
      "text/plain": [
       "purpose_category       операции с автомобилем  операции с недвижимостью  \\\n",
       "family_status                                                             \n",
       "Не женат / не замужем                0.128728                  0.081454   \n",
       "в разводе                            0.074733                  0.069527   \n",
       "вдовец / вдова                       0.091743                  0.051661   \n",
       "гражданский брак                     0.117512                  0.092012   \n",
       "женат / замужем                      0.083699                  0.069349   \n",
       "\n",
       "purpose_category       получение образования  проведение свадьбы   \n",
       "family_status                                                      \n",
       "Не женат / не замужем               0.107452                  NaN  \n",
       "в разводе                           0.071429                  NaN  \n",
       "вдовец / вдова                      0.075377                  NaN  \n",
       "гражданский брак                    0.148515             0.080034  \n",
       "женат / замужем                     0.083237                  NaN  "
      ]
     },
     "execution_count": 76,
     "metadata": {},
     "output_type": "execute_result"
    }
   ],
   "source": [
    "df_pivot_family_purpose = df_pivot_family_id.pivot_table(index = ['family_status'], #создаем и выводим сводную таблицу\n",
    "                                                         values = 'debt',\n",
    "                                                         columns='purpose_category',\n",
    "                                                         aggfunc = 'mean')\n",
    "df_pivot_family_purpose"
   ]
  },
  {
   "cell_type": "code",
   "execution_count": 77,
   "id": "8ea37a49",
   "metadata": {},
   "outputs": [
    {
     "data": {
      "text/plain": [
       "[Text(0.5, 0, 'операции с автомобилем'),\n",
       " Text(1.5, 0, 'операции с недвижимостью'),\n",
       " Text(2.5, 0, 'получение образования'),\n",
       " Text(3.5, 0, 'проведение свадьбы ')]"
      ]
     },
     "execution_count": 77,
     "metadata": {},
     "output_type": "execute_result"
    },
    {
     "data": {
      "image/png": "[encoded data removed]",
      "text/plain": [
       "<Figure size 432x288 with 2 Axes>"
      ]
     },
     "metadata": {
      "needs_background": "light"
     },
     "output_type": "display_data"
    }
   ],
   "source": [
    "hm_family_purpose = sns.heatmap(df_pivot_family_purpose, #создаем и выводим heatmap\n",
    "                                annot=True,\n",
    "                                cmap=\"Purples\",\n",
    "                                fmt='0.2f',\n",
    "                                linewidths=2,\n",
    "                                annot_kws={\n",
    "                                'fontsize': 16,\n",
    "                                'fontweight': 'bold'})\n",
    "hm_family_purpose.set_xticklabels(hm_family_purpose.get_xticklabels(),rotation = 60)"
   ]
  },
  {
   "cell_type": "markdown",
   "id": "945a9fce",
   "metadata": {},
   "source": [
    "Реже всего возвращают кредиты холостые или находящиеся в гражданском браке на приобретение автомобилей (**13 %, 12 %**) и получение образования (**11 %, 15 %**). <br>\n",
    "Лучше всего возвращают кредиты на недвижимость люди в разводе и состоящие в браке **7 %** и вдовцы/вдовы **7 %**."
   ]
  },
  {
   "cell_type": "markdown",
   "id": "9b467901",
   "metadata": {},
   "source": [
    "*************************\n",
    "Посмотрим как возвращают кредиты, полученные на различные цели, клиенты с различным уровнем дохода."
   ]
  },
  {
   "cell_type": "code",
   "execution_count": 78,
   "id": "11c16ddd",
   "metadata": {},
   "outputs": [
    {
     "data": {
      "text/html": [
       "<div>\n",
       "<style scoped>\n",
       "    .dataframe tbody tr th:only-of-type {\n",
       "        vertical-align: middle;\n",
       "    }\n",
       "\n",
       "    .dataframe tbody tr th {\n",
       "        vertical-align: top;\n",
       "    }\n",
       "\n",
       "    .dataframe thead th {\n",
       "        text-align: right;\n",
       "    }\n",
       "</style>\n",
       "<table border=\"1\" class=\"dataframe\">\n",
       "  <thead>\n",
       "    <tr style=\"text-align: right;\">\n",
       "      <th>purpose_category</th>\n",
       "      <th>операции с автомобилем</th>\n",
       "      <th>операции с недвижимостью</th>\n",
       "      <th>получение образования</th>\n",
       "      <th>проведение свадьбы</th>\n",
       "    </tr>\n",
       "    <tr>\n",
       "      <th>range</th>\n",
       "      <th></th>\n",
       "      <th></th>\n",
       "      <th></th>\n",
       "      <th></th>\n",
       "    </tr>\n",
       "  </thead>\n",
       "  <tbody>\n",
       "    <tr>\n",
       "      <th>0 - 30 000</th>\n",
       "      <td>0.000000</td>\n",
       "      <td>0.181818</td>\n",
       "      <td>0.000000</td>\n",
       "      <td>0.000000</td>\n",
       "    </tr>\n",
       "    <tr>\n",
       "      <th>200 001 - 1 000 000</th>\n",
       "      <td>0.083414</td>\n",
       "      <td>0.066978</td>\n",
       "      <td>0.078038</td>\n",
       "      <td>0.051376</td>\n",
       "    </tr>\n",
       "    <tr>\n",
       "      <th>30 001 - 50 000</th>\n",
       "      <td>0.138889</td>\n",
       "      <td>0.035714</td>\n",
       "      <td>0.026316</td>\n",
       "      <td>0.088235</td>\n",
       "    </tr>\n",
       "    <tr>\n",
       "      <th>50 001 - 200 000</th>\n",
       "      <td>0.095967</td>\n",
       "      <td>0.074686</td>\n",
       "      <td>0.097987</td>\n",
       "      <td>0.089132</td>\n",
       "    </tr>\n",
       "    <tr>\n",
       "      <th>&gt; 1 000 001</th>\n",
       "      <td>0.000000</td>\n",
       "      <td>0.058824</td>\n",
       "      <td>0.250000</td>\n",
       "      <td>0.000000</td>\n",
       "    </tr>\n",
       "  </tbody>\n",
       "</table>\n",
       "</div>"
      ],
      "text/plain": [
       "purpose_category     операции с автомобилем  операции с недвижимостью  \\\n",
       "range                                                                   \n",
       "0 - 30 000                         0.000000                  0.181818   \n",
       "200 001 - 1 000 000                0.083414                  0.066978   \n",
       "30 001 - 50 000                    0.138889                  0.035714   \n",
       "50 001 - 200 000                   0.095967                  0.074686   \n",
       "> 1 000 001                        0.000000                  0.058824   \n",
       "\n",
       "purpose_category     получение образования  проведение свадьбы   \n",
       "range                                                            \n",
       "0 - 30 000                        0.000000             0.000000  \n",
       "200 001 - 1 000 000               0.078038             0.051376  \n",
       "30 001 - 50 000                   0.026316             0.088235  \n",
       "50 001 - 200 000                  0.097987             0.089132  \n",
       "> 1 000 001                       0.250000             0.000000  "
      ]
     },
     "execution_count": 78,
     "metadata": {},
     "output_type": "execute_result"
    }
   ],
   "source": [
    "df_pivot_income_cat_purpose = df_pivot_i_c.pivot_table(index = ['range' ], #создаем и выводим сводную таблицу\n",
    "                                                       values = 'debt',\n",
    "                                                       columns='purpose_category',\n",
    "                                                       aggfunc = 'mean')\n",
    "df_pivot_income_cat_purpose"
   ]
  },
  {
   "cell_type": "code",
   "execution_count": 79,
   "id": "2b0aef01",
   "metadata": {},
   "outputs": [
    {
     "data": {
      "text/plain": [
       "[Text(0.5, 0, 'операции с автомобилем'),\n",
       " Text(1.5, 0, 'операции с недвижимостью'),\n",
       " Text(2.5, 0, 'получение образования'),\n",
       " Text(3.5, 0, 'проведение свадьбы ')]"
      ]
     },
     "execution_count": 79,
     "metadata": {},
     "output_type": "execute_result"
    },
    {
     "data": {
      "image/png": "[encoded data removed]",
      "text/plain": [
       "<Figure size 432x288 with 2 Axes>"
      ]
     },
     "metadata": {
      "needs_background": "light"
     },
     "output_type": "display_data"
    }
   ],
   "source": [
    "hm_income_cat_purpose = sns.heatmap(df_pivot_income_cat_purpose, #создаем и выводим heatmap\n",
    "                                    annot=True,\n",
    "                                    cmap=\"Purples\",\n",
    "                                    fmt='0.2f',\n",
    "                                    linewidths=2,\n",
    "                                    annot_kws={\n",
    "                                    'fontsize': 16,\n",
    "                                    'fontweight': 'bold'})\n",
    "hm_income_cat_purpose.set_xticklabels(hm_income_cat_purpose.get_xticklabels(),rotation = 60)"
   ]
  },
  {
   "cell_type": "markdown",
   "id": "0c8d06b5",
   "metadata": {},
   "source": [
    "Реже всего возвращают:\n",
    "* кредиты на недвижимость люди с низким доходом **18 %** \n",
    "* кредиты на образование люди с очень высоким доходом **25 %** <br>\n",
    "\n",
    "Также надо отметить высокий уровень задолженности по кредитам на автомобили у людей с уровнем дохода 30-50 тыс.руб **14 %**<br>\n",
    "Лучше всего возвращают кредиты на недвижимость клиенты со среднем уровнем дохода 30-1000 тыс.руб."
   ]
  },
  {
   "cell_type": "markdown",
   "id": "542c4b1d",
   "metadata": {},
   "source": [
    "## Общий вывод:"
   ]
  },
  {
   "cell_type": "markdown",
   "id": "57b7fa69",
   "metadata": {},
   "source": [
    "Основываясь на проделанном анализе можно сделать общие рекомедации по выдаче кредитов.\n",
    "\n",
    "Наибольшая вероятность возврата кредитов выданных:\n",
    " * на покупку и ремонт недвижимости\n",
    " * бездетным людям состоящим в браке (или людям находящимся в разводе/вдовцам/вдовам)\n",
    " * в группах с уровнем дохода 30-1000 тыс.руб\n",
    " \n",
    "Также хороший возврат кредитов на проведение свадеб у клиентов со средним уровнем дохода.\n",
    "\n",
    "Если делить по уровню дохода, то наиболее предпочтительны клиенты с доходами:\n",
    "* 30-50 тыс.руб - кроме автокредитов!\n",
    "* 200-1000 тыс.руб - на любые цели\n",
    "* 50-200 тыс. руб - недвижимость и свадьба (автокредиты и кредиты на образование возвращают хуже)\n"
   ]
  }
 ],
 "metadata": {
  "ExecuteTimeLog": [
   {
    "duration": 1111,
    "start_time": "2022-03-07T09:48:37.965Z"
   },
   {
    "duration": 27,
    "start_time": "2022-03-07T09:48:39.077Z"
   },
   {
    "duration": 3,
    "start_time": "2022-03-07T09:48:39.106Z"
   },
   {
    "duration": 5,
    "start_time": "2022-03-07T09:48:39.111Z"
   },
   {
    "duration": 9,
    "start_time": "2022-03-07T09:48:39.117Z"
   },
   {
    "duration": 9,
    "start_time": "2022-03-07T09:48:39.127Z"
   },
   {
    "duration": 12,
    "start_time": "2022-03-07T09:48:39.138Z"
   },
   {
    "duration": 4,
    "start_time": "2022-03-07T09:48:39.152Z"
   },
   {
    "duration": 6,
    "start_time": "2022-03-07T09:48:39.158Z"
   },
   {
    "duration": 196,
    "start_time": "2022-03-07T09:48:39.166Z"
   },
   {
    "duration": 10,
    "start_time": "2022-03-07T09:48:39.363Z"
   },
   {
    "duration": 13,
    "start_time": "2022-03-07T09:48:39.374Z"
   },
   {
    "duration": 4,
    "start_time": "2022-03-07T09:48:39.401Z"
   },
   {
    "duration": 5,
    "start_time": "2022-03-07T09:48:39.406Z"
   },
   {
    "duration": 5,
    "start_time": "2022-03-07T09:48:39.412Z"
   },
   {
    "duration": 5,
    "start_time": "2022-03-07T09:48:39.418Z"
   },
   {
    "duration": 5,
    "start_time": "2022-03-07T09:48:39.424Z"
   },
   {
    "duration": 13,
    "start_time": "2022-03-07T09:48:39.431Z"
   },
   {
    "duration": 22,
    "start_time": "2022-03-07T09:48:39.446Z"
   },
   {
    "duration": 5,
    "start_time": "2022-03-07T09:48:39.470Z"
   },
   {
    "duration": 36,
    "start_time": "2022-03-07T09:48:39.476Z"
   },
   {
    "duration": 5,
    "start_time": "2022-03-07T09:48:39.513Z"
   },
   {
    "duration": 13,
    "start_time": "2022-03-07T09:48:39.520Z"
   },
   {
    "duration": 4,
    "start_time": "2022-03-07T09:48:39.535Z"
   },
   {
    "duration": 181,
    "start_time": "2022-03-07T09:48:39.540Z"
   },
   {
    "duration": 13,
    "start_time": "2022-03-07T09:48:39.723Z"
   },
   {
    "duration": 4,
    "start_time": "2022-03-07T09:48:39.740Z"
   },
   {
    "duration": 7,
    "start_time": "2022-03-07T09:48:39.745Z"
   },
   {
    "duration": 12,
    "start_time": "2022-03-07T09:48:39.753Z"
   },
   {
    "duration": 3,
    "start_time": "2022-03-07T09:48:39.767Z"
   },
   {
    "duration": 31,
    "start_time": "2022-03-07T09:48:39.771Z"
   },
   {
    "duration": 5,
    "start_time": "2022-03-07T09:48:39.804Z"
   },
   {
    "duration": 4,
    "start_time": "2022-03-07T09:48:39.810Z"
   },
   {
    "duration": 17,
    "start_time": "2022-03-07T09:48:39.815Z"
   },
   {
    "duration": 27,
    "start_time": "2022-03-07T09:48:39.833Z"
   },
   {
    "duration": 9,
    "start_time": "2022-03-07T09:48:39.861Z"
   },
   {
    "duration": 13,
    "start_time": "2022-03-07T09:48:39.902Z"
   },
   {
    "duration": 3,
    "start_time": "2022-03-07T09:48:39.917Z"
   },
   {
    "duration": 8,
    "start_time": "2022-03-07T09:48:39.921Z"
   },
   {
    "duration": 14,
    "start_time": "2022-03-07T09:48:39.930Z"
   },
   {
    "duration": 9,
    "start_time": "2022-03-07T09:48:39.945Z"
   },
   {
    "duration": 47,
    "start_time": "2022-03-07T09:48:39.955Z"
   },
   {
    "duration": 6,
    "start_time": "2022-03-07T09:48:40.004Z"
   },
   {
    "duration": 14,
    "start_time": "2022-03-07T09:48:40.012Z"
   },
   {
    "duration": 14,
    "start_time": "2022-03-07T09:48:40.027Z"
   },
   {
    "duration": 35,
    "start_time": "2022-03-07T09:48:40.043Z"
   },
   {
    "duration": 9,
    "start_time": "2022-03-07T09:48:40.102Z"
   },
   {
    "duration": 6,
    "start_time": "2022-03-07T09:48:40.113Z"
   },
   {
    "duration": 8,
    "start_time": "2022-03-07T09:48:40.121Z"
   },
   {
    "duration": 7,
    "start_time": "2022-03-07T09:48:40.131Z"
   },
   {
    "duration": 10,
    "start_time": "2022-03-07T09:48:40.139Z"
   },
   {
    "duration": 11,
    "start_time": "2022-03-07T09:48:40.150Z"
   },
   {
    "duration": 47,
    "start_time": "2022-03-07T09:48:40.162Z"
   },
   {
    "duration": 7,
    "start_time": "2022-03-07T09:48:40.211Z"
   },
   {
    "duration": 9,
    "start_time": "2022-03-07T09:48:40.220Z"
   },
   {
    "duration": 10,
    "start_time": "2022-03-07T09:48:40.230Z"
   },
   {
    "duration": 11,
    "start_time": "2022-03-07T09:48:40.242Z"
   },
   {
    "duration": 19,
    "start_time": "2022-03-07T09:48:40.255Z"
   },
   {
    "duration": 29,
    "start_time": "2022-03-07T09:48:40.276Z"
   },
   {
    "duration": 10,
    "start_time": "2022-03-07T09:48:40.307Z"
   },
   {
    "duration": 5,
    "start_time": "2022-03-07T09:48:40.318Z"
   },
   {
    "duration": 22,
    "start_time": "2022-03-07T09:48:40.325Z"
   },
   {
    "duration": 6,
    "start_time": "2022-03-07T09:48:40.349Z"
   },
   {
    "duration": 14,
    "start_time": "2022-03-07T09:48:40.356Z"
   },
   {
    "duration": 39,
    "start_time": "2022-03-07T09:48:40.372Z"
   },
   {
    "duration": 10,
    "start_time": "2022-03-07T09:48:40.413Z"
   },
   {
    "duration": 8,
    "start_time": "2022-03-07T09:48:40.425Z"
   },
   {
    "duration": 22,
    "start_time": "2022-03-07T09:48:40.434Z"
   },
   {
    "duration": 10,
    "start_time": "2022-03-07T09:48:40.458Z"
   },
   {
    "duration": 53,
    "start_time": "2022-03-07T09:48:40.469Z"
   },
   {
    "duration": 9,
    "start_time": "2022-03-07T09:48:40.524Z"
   },
   {
    "duration": 4,
    "start_time": "2022-03-07T09:48:40.535Z"
   },
   {
    "duration": 19,
    "start_time": "2022-03-07T09:48:40.541Z"
   },
   {
    "duration": 40,
    "start_time": "2022-03-07T09:48:40.562Z"
   },
   {
    "duration": 312,
    "start_time": "2022-03-07T09:48:40.604Z"
   },
   {
    "duration": 19,
    "start_time": "2022-03-07T09:48:40.918Z"
   },
   {
    "duration": 316,
    "start_time": "2022-03-07T09:48:40.938Z"
   },
   {
    "duration": 18,
    "start_time": "2022-03-07T09:48:41.255Z"
   },
   {
    "duration": 370,
    "start_time": "2022-03-07T09:48:41.275Z"
   },
   {
    "duration": 31,
    "start_time": "2022-03-07T11:11:05.761Z"
   },
   {
    "duration": 13,
    "start_time": "2022-03-07T11:13:31.001Z"
   },
   {
    "duration": 1637,
    "start_time": "2022-03-08T14:51:27.556Z"
   },
   {
    "duration": 58,
    "start_time": "2022-03-08T14:51:29.196Z"
   },
   {
    "duration": 5,
    "start_time": "2022-03-08T14:51:29.257Z"
   },
   {
    "duration": 7,
    "start_time": "2022-03-08T14:51:29.264Z"
   },
   {
    "duration": 13,
    "start_time": "2022-03-08T14:51:29.274Z"
   },
   {
    "duration": 14,
    "start_time": "2022-03-08T14:51:29.289Z"
   },
   {
    "duration": 52,
    "start_time": "2022-03-08T14:51:29.306Z"
   },
   {
    "duration": 7,
    "start_time": "2022-03-08T14:51:29.363Z"
   },
   {
    "duration": 7,
    "start_time": "2022-03-08T14:51:29.374Z"
   },
   {
    "duration": 43849,
    "start_time": "2022-03-08T14:51:29.384Z"
   },
   {
    "duration": 17,
    "start_time": "2022-03-08T14:52:13.235Z"
   },
   {
    "duration": 20,
    "start_time": "2022-03-08T14:52:13.254Z"
   },
   {
    "duration": 5,
    "start_time": "2022-03-08T14:52:13.276Z"
   },
   {
    "duration": 8,
    "start_time": "2022-03-08T14:52:13.284Z"
   },
   {
    "duration": 6,
    "start_time": "2022-03-08T14:52:13.294Z"
   },
   {
    "duration": 6,
    "start_time": "2022-03-08T14:52:13.302Z"
   },
   {
    "duration": 6,
    "start_time": "2022-03-08T14:52:13.311Z"
   },
   {
    "duration": 13,
    "start_time": "2022-03-08T14:52:13.319Z"
   },
   {
    "duration": 31,
    "start_time": "2022-03-08T14:52:13.334Z"
   },
   {
    "duration": 4,
    "start_time": "2022-03-08T14:52:13.367Z"
   },
   {
    "duration": 22,
    "start_time": "2022-03-08T14:52:13.373Z"
   },
   {
    "duration": 7,
    "start_time": "2022-03-08T14:52:13.397Z"
   },
   {
    "duration": 15,
    "start_time": "2022-03-08T14:52:13.410Z"
   },
   {
    "duration": 5,
    "start_time": "2022-03-08T14:52:13.429Z"
   },
   {
    "duration": 294,
    "start_time": "2022-03-08T14:52:13.437Z"
   },
   {
    "duration": 27,
    "start_time": "2022-03-08T14:52:13.733Z"
   },
   {
    "duration": 5,
    "start_time": "2022-03-08T14:52:13.763Z"
   },
   {
    "duration": 8,
    "start_time": "2022-03-08T14:52:13.771Z"
   },
   {
    "duration": 71,
    "start_time": "2022-03-08T14:52:13.781Z"
   },
   {
    "duration": 5,
    "start_time": "2022-03-08T14:52:13.854Z"
   },
   {
    "duration": 6,
    "start_time": "2022-03-08T14:52:13.861Z"
   },
   {
    "duration": 7,
    "start_time": "2022-03-08T14:52:13.869Z"
   },
   {
    "duration": 6,
    "start_time": "2022-03-08T14:52:13.878Z"
   },
   {
    "duration": 70,
    "start_time": "2022-03-08T14:52:13.887Z"
   },
   {
    "duration": 45,
    "start_time": "2022-03-08T14:52:13.960Z"
   },
   {
    "duration": 16,
    "start_time": "2022-03-08T14:52:14.008Z"
   },
   {
    "duration": 30,
    "start_time": "2022-03-08T14:52:14.027Z"
   },
   {
    "duration": 6,
    "start_time": "2022-03-08T14:52:14.059Z"
   },
   {
    "duration": 9,
    "start_time": "2022-03-08T14:52:14.067Z"
   },
   {
    "duration": 14,
    "start_time": "2022-03-08T14:52:14.078Z"
   },
   {
    "duration": 13,
    "start_time": "2022-03-08T14:52:14.151Z"
   },
   {
    "duration": 24,
    "start_time": "2022-03-08T14:52:14.167Z"
   },
   {
    "duration": 7,
    "start_time": "2022-03-08T14:52:14.194Z"
   },
   {
    "duration": 58,
    "start_time": "2022-03-08T14:52:14.203Z"
   },
   {
    "duration": 23,
    "start_time": "2022-03-08T14:52:14.264Z"
   },
   {
    "duration": 63,
    "start_time": "2022-03-08T14:52:14.290Z"
   },
   {
    "duration": 16,
    "start_time": "2022-03-08T14:52:14.355Z"
   },
   {
    "duration": 12,
    "start_time": "2022-03-08T14:52:14.373Z"
   },
   {
    "duration": 12,
    "start_time": "2022-03-08T14:52:14.387Z"
   },
   {
    "duration": 13,
    "start_time": "2022-03-08T14:52:14.402Z"
   },
   {
    "duration": 8,
    "start_time": "2022-03-08T14:52:14.417Z"
   },
   {
    "duration": 26,
    "start_time": "2022-03-08T14:52:14.427Z"
   },
   {
    "duration": 22,
    "start_time": "2022-03-08T14:52:14.455Z"
   },
   {
    "duration": 11,
    "start_time": "2022-03-08T14:52:14.479Z"
   },
   {
    "duration": 12,
    "start_time": "2022-03-08T14:52:14.492Z"
   },
   {
    "duration": 8,
    "start_time": "2022-03-08T14:52:14.506Z"
   },
   {
    "duration": 10,
    "start_time": "2022-03-08T14:52:14.516Z"
   },
   {
    "duration": 39,
    "start_time": "2022-03-08T14:52:14.528Z"
   },
   {
    "duration": 12,
    "start_time": "2022-03-08T14:52:14.569Z"
   },
   {
    "duration": 9,
    "start_time": "2022-03-08T14:52:14.584Z"
   },
   {
    "duration": 8,
    "start_time": "2022-03-08T14:52:14.595Z"
   },
   {
    "duration": 29,
    "start_time": "2022-03-08T14:52:14.605Z"
   },
   {
    "duration": 7,
    "start_time": "2022-03-08T14:52:14.636Z"
   },
   {
    "duration": 16,
    "start_time": "2022-03-08T14:52:14.645Z"
   },
   {
    "duration": 23,
    "start_time": "2022-03-08T14:52:14.663Z"
   },
   {
    "duration": 14,
    "start_time": "2022-03-08T14:52:14.688Z"
   },
   {
    "duration": 12,
    "start_time": "2022-03-08T14:52:14.704Z"
   },
   {
    "duration": 60,
    "start_time": "2022-03-08T14:52:14.723Z"
   },
   {
    "duration": 15,
    "start_time": "2022-03-08T14:52:14.785Z"
   },
   {
    "duration": 65,
    "start_time": "2022-03-08T14:52:14.802Z"
   },
   {
    "duration": 14,
    "start_time": "2022-03-08T14:52:14.869Z"
   },
   {
    "duration": 8,
    "start_time": "2022-03-08T14:52:14.885Z"
   },
   {
    "duration": 22,
    "start_time": "2022-03-08T14:52:14.895Z"
   },
   {
    "duration": 36,
    "start_time": "2022-03-08T14:52:14.919Z"
   },
   {
    "duration": 466,
    "start_time": "2022-03-08T14:52:14.958Z"
   },
   {
    "duration": 32,
    "start_time": "2022-03-08T14:52:15.426Z"
   },
   {
    "duration": 532,
    "start_time": "2022-03-08T14:52:15.461Z"
   },
   {
    "duration": 66,
    "start_time": "2022-03-08T14:52:15.996Z"
   },
   {
    "duration": 715,
    "start_time": "2022-03-08T14:52:16.065Z"
   }
  ],
  "kernelspec": {
   "display_name": "Python 3 (ipykernel)",
   "language": "python",
   "name": "python3"
  },
  "language_info": {
   "codemirror_mode": {
    "name": "ipython",
    "version": 3
   },
   "file_extension": ".py",
   "mimetype": "text/x-python",
   "name": "python",
   "nbconvert_exporter": "python",
   "pygments_lexer": "ipython3",
   "version": "3.9.7"
  },
  "toc": {
   "base_numbering": 1,
   "nav_menu": {
    "height": "277.997px",
    "width": "736.989px"
   },
   "number_sections": true,
   "sideBar": true,
   "skip_h1_title": true,
   "title_cell": "Содержание",
   "title_sidebar": "Contents",
   "toc_cell": true,
   "toc_position": {},
   "toc_section_display": true,
   "toc_window_display": true
  }
 },
 "nbformat": 4,
 "nbformat_minor": 5
}
